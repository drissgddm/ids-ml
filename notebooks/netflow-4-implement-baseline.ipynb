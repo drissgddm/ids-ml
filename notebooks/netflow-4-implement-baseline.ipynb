{
 "cells": [
  {
   "cell_type": "code",
   "execution_count": 1,
   "metadata": {
    "colab": {
     "base_uri": "https://localhost:8080/"
    },
    "id": "CJMaPtEq2MER",
    "outputId": "4113e5d8-33e9-4d10-ff8f-2287b8ea7344"
   },
   "outputs": [
    {
     "name": "stdout",
     "output_type": "stream",
     "text": [
      "Mounted at /content/drive\n"
     ]
    }
   ],
   "source": [
    "# from google.colab import drive\n",
    "# drive.mount('/content/drive')"
   ]
  },
  {
   "cell_type": "code",
   "execution_count": 2,
   "metadata": {
    "colab": {
     "base_uri": "https://localhost:8080/"
    },
    "id": "kM9VHgi-ySp1",
    "outputId": "701ef7f3-878c-43f3-9ab2-6e02120f5e2e"
   },
   "outputs": [],
   "source": [
    "import pandas as pd"
   ]
  },
  {
   "cell_type": "code",
   "execution_count": 3,
   "metadata": {},
   "outputs": [
    {
     "data": {
      "text/html": [
       "<div>\n",
       "<style scoped>\n",
       "    .dataframe tbody tr th:only-of-type {\n",
       "        vertical-align: middle;\n",
       "    }\n",
       "\n",
       "    .dataframe tbody tr th {\n",
       "        vertical-align: top;\n",
       "    }\n",
       "\n",
       "    .dataframe thead th {\n",
       "        text-align: right;\n",
       "    }\n",
       "</style>\n",
       "<table border=\"1\" class=\"dataframe\">\n",
       "  <thead>\n",
       "    <tr style=\"text-align: right;\">\n",
       "      <th></th>\n",
       "      <th>DURATION</th>\n",
       "      <th>PROTOCOL</th>\n",
       "      <th>SRC_IP_ADDR</th>\n",
       "      <th>SRC_PORT</th>\n",
       "      <th>DST_IP_ADDR</th>\n",
       "      <th>DST_PORT</th>\n",
       "      <th>PACKETS</th>\n",
       "      <th>BYTES</th>\n",
       "      <th>TOS</th>\n",
       "      <th>ATTACK_TYPE</th>\n",
       "      <th>...</th>\n",
       "      <th>FLAG_0xdf</th>\n",
       "      <th>FLAG_0xda</th>\n",
       "      <th>FLAG_0x52</th>\n",
       "      <th>FLAG_0xd3</th>\n",
       "      <th>FLAG_0x5b</th>\n",
       "      <th>FLAG_0x5a</th>\n",
       "      <th>FLAG_0xd2</th>\n",
       "      <th>FLAG_0xde</th>\n",
       "      <th>FLAG_0x53</th>\n",
       "      <th>FLAG_0xc6</th>\n",
       "    </tr>\n",
       "    <tr>\n",
       "      <th>DATE</th>\n",
       "      <th></th>\n",
       "      <th></th>\n",
       "      <th></th>\n",
       "      <th></th>\n",
       "      <th></th>\n",
       "      <th></th>\n",
       "      <th></th>\n",
       "      <th></th>\n",
       "      <th></th>\n",
       "      <th></th>\n",
       "      <th></th>\n",
       "      <th></th>\n",
       "      <th></th>\n",
       "      <th></th>\n",
       "      <th></th>\n",
       "      <th></th>\n",
       "      <th></th>\n",
       "      <th></th>\n",
       "      <th></th>\n",
       "      <th></th>\n",
       "      <th></th>\n",
       "    </tr>\n",
       "  </thead>\n",
       "  <tbody>\n",
       "    <tr>\n",
       "      <th>2017-03-14 17:43:26.135</th>\n",
       "      <td>81504.787</td>\n",
       "      <td>3</td>\n",
       "      <td>43440</td>\n",
       "      <td>8</td>\n",
       "      <td>44022</td>\n",
       "      <td>8</td>\n",
       "      <td>8639</td>\n",
       "      <td>9318.4</td>\n",
       "      <td>0</td>\n",
       "      <td>0</td>\n",
       "      <td>...</td>\n",
       "      <td>0</td>\n",
       "      <td>0</td>\n",
       "      <td>0</td>\n",
       "      <td>0</td>\n",
       "      <td>0</td>\n",
       "      <td>0</td>\n",
       "      <td>0</td>\n",
       "      <td>0</td>\n",
       "      <td>0</td>\n",
       "      <td>0</td>\n",
       "    </tr>\n",
       "    <tr>\n",
       "      <th>2017-03-14 17:43:26.135</th>\n",
       "      <td>81504.787</td>\n",
       "      <td>3</td>\n",
       "      <td>43441</td>\n",
       "      <td>8</td>\n",
       "      <td>44021</td>\n",
       "      <td>8</td>\n",
       "      <td>12024</td>\n",
       "      <td>10547.2</td>\n",
       "      <td>0</td>\n",
       "      <td>0</td>\n",
       "      <td>...</td>\n",
       "      <td>0</td>\n",
       "      <td>0</td>\n",
       "      <td>0</td>\n",
       "      <td>0</td>\n",
       "      <td>0</td>\n",
       "      <td>0</td>\n",
       "      <td>0</td>\n",
       "      <td>0</td>\n",
       "      <td>0</td>\n",
       "      <td>0</td>\n",
       "    </tr>\n",
       "    <tr>\n",
       "      <th>2017-03-14 17:43:26.135</th>\n",
       "      <td>81504.787</td>\n",
       "      <td>3</td>\n",
       "      <td>43441</td>\n",
       "      <td>8</td>\n",
       "      <td>44021</td>\n",
       "      <td>8</td>\n",
       "      <td>12024</td>\n",
       "      <td>10547.2</td>\n",
       "      <td>0</td>\n",
       "      <td>0</td>\n",
       "      <td>...</td>\n",
       "      <td>0</td>\n",
       "      <td>0</td>\n",
       "      <td>0</td>\n",
       "      <td>0</td>\n",
       "      <td>0</td>\n",
       "      <td>0</td>\n",
       "      <td>0</td>\n",
       "      <td>0</td>\n",
       "      <td>0</td>\n",
       "      <td>0</td>\n",
       "    </tr>\n",
       "    <tr>\n",
       "      <th>2017-03-14 17:43:26.135</th>\n",
       "      <td>81504.787</td>\n",
       "      <td>3</td>\n",
       "      <td>43440</td>\n",
       "      <td>8</td>\n",
       "      <td>44022</td>\n",
       "      <td>8</td>\n",
       "      <td>8639</td>\n",
       "      <td>9318.4</td>\n",
       "      <td>0</td>\n",
       "      <td>0</td>\n",
       "      <td>...</td>\n",
       "      <td>0</td>\n",
       "      <td>0</td>\n",
       "      <td>0</td>\n",
       "      <td>0</td>\n",
       "      <td>0</td>\n",
       "      <td>0</td>\n",
       "      <td>0</td>\n",
       "      <td>0</td>\n",
       "      <td>0</td>\n",
       "      <td>0</td>\n",
       "    </tr>\n",
       "    <tr>\n",
       "      <th>2017-03-14 17:43:39.011</th>\n",
       "      <td>183418.493</td>\n",
       "      <td>3</td>\n",
       "      <td>43441</td>\n",
       "      <td>8</td>\n",
       "      <td>44021</td>\n",
       "      <td>8</td>\n",
       "      <td>20751</td>\n",
       "      <td>5939.2</td>\n",
       "      <td>0</td>\n",
       "      <td>0</td>\n",
       "      <td>...</td>\n",
       "      <td>0</td>\n",
       "      <td>0</td>\n",
       "      <td>0</td>\n",
       "      <td>0</td>\n",
       "      <td>0</td>\n",
       "      <td>0</td>\n",
       "      <td>0</td>\n",
       "      <td>0</td>\n",
       "      <td>0</td>\n",
       "      <td>0</td>\n",
       "    </tr>\n",
       "  </tbody>\n",
       "</table>\n",
       "<p>5 rows × 30 columns</p>\n",
       "</div>"
      ],
      "text/plain": [
       "                           DURATION  PROTOCOL  SRC_IP_ADDR  SRC_PORT  \\\n",
       "DATE                                                                   \n",
       "2017-03-14 17:43:26.135   81504.787         3        43440         8   \n",
       "2017-03-14 17:43:26.135   81504.787         3        43441         8   \n",
       "2017-03-14 17:43:26.135   81504.787         3        43441         8   \n",
       "2017-03-14 17:43:26.135   81504.787         3        43440         8   \n",
       "2017-03-14 17:43:39.011  183418.493         3        43441         8   \n",
       "\n",
       "                         DST_IP_ADDR  DST_PORT  PACKETS    BYTES  TOS  \\\n",
       "DATE                                                                    \n",
       "2017-03-14 17:43:26.135        44022         8     8639   9318.4    0   \n",
       "2017-03-14 17:43:26.135        44021         8    12024  10547.2    0   \n",
       "2017-03-14 17:43:26.135        44021         8    12024  10547.2    0   \n",
       "2017-03-14 17:43:26.135        44022         8     8639   9318.4    0   \n",
       "2017-03-14 17:43:39.011        44021         8    20751   5939.2    0   \n",
       "\n",
       "                         ATTACK_TYPE  ...  FLAG_0xdf  FLAG_0xda  FLAG_0x52  \\\n",
       "DATE                                  ...                                    \n",
       "2017-03-14 17:43:26.135            0  ...          0          0          0   \n",
       "2017-03-14 17:43:26.135            0  ...          0          0          0   \n",
       "2017-03-14 17:43:26.135            0  ...          0          0          0   \n",
       "2017-03-14 17:43:26.135            0  ...          0          0          0   \n",
       "2017-03-14 17:43:39.011            0  ...          0          0          0   \n",
       "\n",
       "                         FLAG_0xd3  FLAG_0x5b  FLAG_0x5a  FLAG_0xd2  \\\n",
       "DATE                                                                  \n",
       "2017-03-14 17:43:26.135          0          0          0          0   \n",
       "2017-03-14 17:43:26.135          0          0          0          0   \n",
       "2017-03-14 17:43:26.135          0          0          0          0   \n",
       "2017-03-14 17:43:26.135          0          0          0          0   \n",
       "2017-03-14 17:43:39.011          0          0          0          0   \n",
       "\n",
       "                         FLAG_0xde  FLAG_0x53  FLAG_0xc6  \n",
       "DATE                                                      \n",
       "2017-03-14 17:43:26.135          0          0          0  \n",
       "2017-03-14 17:43:26.135          0          0          0  \n",
       "2017-03-14 17:43:26.135          0          0          0  \n",
       "2017-03-14 17:43:26.135          0          0          0  \n",
       "2017-03-14 17:43:39.011          0          0          0  \n",
       "\n",
       "[5 rows x 30 columns]"
      ]
     },
     "execution_count": 3,
     "metadata": {},
     "output_type": "execute_result"
    }
   ],
   "source": [
    "df = pd.read_csv('data/netflow/CIDDS-001/traffic/preprocessed.csv', index_col='DATE')\n",
    "\n",
    "df.head()"
   ]
  },
  {
   "cell_type": "code",
   "execution_count": 4,
   "metadata": {},
   "outputs": [
    {
     "data": {
      "text/plain": [
       "0    84.229777\n",
       "2    14.647460\n",
       "4     1.028429\n",
       "1     0.070899\n",
       "3     0.023436\n",
       "Name: ATTACK_TYPE, dtype: float64"
      ]
     },
     "execution_count": 4,
     "metadata": {},
     "output_type": "execute_result"
    }
   ],
   "source": [
    "df['ATTACK_TYPE'].value_counts(normalize=True) * 100"
   ]
  },
  {
   "cell_type": "code",
   "execution_count": 5,
   "metadata": {},
   "outputs": [],
   "source": [
    "\"\"\"\n",
    "model.py\n",
    "Class model - Model model\n",
    "\"\"\"\n",
    "from abc import ABC, abstractmethod\n",
    "\n",
    "class Model(ABC):\n",
    "    \"\"\" Model model\n",
    "\n",
    "    :params:\n",
    "        name (str): model name\n",
    "        type (str): type of algorithm (ex: arima, linear_regression...)\n",
    "        hyperparameters_list (list): list of hyperparameters to input\n",
    "        description (str): model description\n",
    "    \"\"\"\n",
    "    def __init__(self, name=None, type=None, hyperparameters_list=None, description=None):\n",
    "        self.name = name\n",
    "        self.type = type\n",
    "        self.hyperparameters_list = hyperparameters_list\n",
    "        self.description = description\n",
    "\n",
    "    @abstractmethod\n",
    "    def apply_preprocessing(self):\n",
    "        \"\"\" Apply preprocessing\n",
    "        :return: data preprocessed\n",
    "        \"\"\"\n",
    "        raise NotImplementedError\n",
    "\n",
    "    @abstractmethod\n",
    "    def train(self):\n",
    "        \"\"\" Train the model for the given data\n",
    "        must fit the `model` property and return it\n",
    "        \"\"\"\n",
    "        raise NotImplementedError\n",
    "\n",
    "    @abstractmethod\n",
    "    def predict(self):\n",
    "        \"\"\" Predict\n",
    "        :return: predictions\n",
    "        \"\"\"\n",
    "        raise NotImplementedError"
   ]
  },
  {
   "cell_type": "markdown",
   "metadata": {},
   "source": [
    "MODEL 1"
   ]
  },
  {
   "cell_type": "markdown",
   "metadata": {
    "id": "pCp1rDLYt_87"
   },
   "source": [
    "Baseline definition: random model"
   ]
  },
  {
   "cell_type": "code",
   "execution_count": 6,
   "metadata": {},
   "outputs": [],
   "source": [
    "from random import randint\n",
    "\n",
    "class RandomBaseline(Model):\n",
    "    def __init__(self):\n",
    "        super().__init__(\n",
    "            name=\"Random Baseline\", type=\"Random\"\n",
    "        )\n",
    "    \n",
    "    def apply_preprocessing(**kwargs):\n",
    "        pass\n",
    "    \n",
    "    def train(**kwargs):\n",
    "        pass\n",
    "    \n",
    "    def predict(self, X):\n",
    "        return [randint(0, 4) for _ in range(len(X))]"
   ]
  },
  {
   "cell_type": "code",
   "execution_count": 7,
   "metadata": {},
   "outputs": [],
   "source": [
    "X = df.drop('ATTACK_TYPE', axis=1).iloc[:100]"
   ]
  },
  {
   "cell_type": "code",
   "execution_count": 8,
   "metadata": {},
   "outputs": [],
   "source": [
    "preds = RandomBaseline().predict(X)"
   ]
  },
  {
   "cell_type": "code",
   "execution_count": 9,
   "metadata": {},
   "outputs": [
    {
     "data": {
      "text/plain": [
       "[1, 3, 0, 4, 0]"
      ]
     },
     "execution_count": 9,
     "metadata": {},
     "output_type": "execute_result"
    }
   ],
   "source": [
    "preds[:5]"
   ]
  },
  {
   "cell_type": "markdown",
   "metadata": {
    "id": "vP2IQu9-0xKq"
   },
   "source": [
    "MODEL 2\n"
   ]
  },
  {
   "cell_type": "code",
   "execution_count": 10,
   "metadata": {},
   "outputs": [],
   "source": [
    "class ProceduralBaseline1(Model):\n",
    "    def __init__(self):\n",
    "        super().__init__(\n",
    "            name=\"Procedural Baseline based on IP addresses and protocols\", type=\"Procedural\"\n",
    "        )\n",
    "    \n",
    "    def apply_preprocessing(**kwargs):\n",
    "        pass\n",
    "    \n",
    "    def train(**kwargs):\n",
    "        pass\n",
    "    \n",
    "    def predict(self, X):\n",
    "        # 0 if PROTOCOL NOT IN ('TCP', 'UDP') AND SRC_IP != '192.168' else random\n",
    "        return [0 if row['PROTOCOL'] not in range(2) or row['SRC_IP_ADDR'] not in [21284, 21265] else randint(1, 4) for _, row in X.iterrows()]"
   ]
  },
  {
   "cell_type": "code",
   "execution_count": 11,
   "metadata": {},
   "outputs": [
    {
     "data": {
      "text/html": [
       "<div>\n",
       "<style scoped>\n",
       "    .dataframe tbody tr th:only-of-type {\n",
       "        vertical-align: middle;\n",
       "    }\n",
       "\n",
       "    .dataframe tbody tr th {\n",
       "        vertical-align: top;\n",
       "    }\n",
       "\n",
       "    .dataframe thead th {\n",
       "        text-align: right;\n",
       "    }\n",
       "</style>\n",
       "<table border=\"1\" class=\"dataframe\">\n",
       "  <thead>\n",
       "    <tr style=\"text-align: right;\">\n",
       "      <th></th>\n",
       "      <th>DURATION</th>\n",
       "      <th>PROTOCOL</th>\n",
       "      <th>SRC_IP_ADDR</th>\n",
       "      <th>SRC_PORT</th>\n",
       "      <th>DST_IP_ADDR</th>\n",
       "      <th>DST_PORT</th>\n",
       "      <th>PACKETS</th>\n",
       "      <th>BYTES</th>\n",
       "      <th>TOS</th>\n",
       "      <th>TYPE</th>\n",
       "      <th>...</th>\n",
       "      <th>FLAG_0xdf</th>\n",
       "      <th>FLAG_0xda</th>\n",
       "      <th>FLAG_0x52</th>\n",
       "      <th>FLAG_0xd3</th>\n",
       "      <th>FLAG_0x5b</th>\n",
       "      <th>FLAG_0x5a</th>\n",
       "      <th>FLAG_0xd2</th>\n",
       "      <th>FLAG_0xde</th>\n",
       "      <th>FLAG_0x53</th>\n",
       "      <th>FLAG_0xc6</th>\n",
       "    </tr>\n",
       "    <tr>\n",
       "      <th>DATE</th>\n",
       "      <th></th>\n",
       "      <th></th>\n",
       "      <th></th>\n",
       "      <th></th>\n",
       "      <th></th>\n",
       "      <th></th>\n",
       "      <th></th>\n",
       "      <th></th>\n",
       "      <th></th>\n",
       "      <th></th>\n",
       "      <th></th>\n",
       "      <th></th>\n",
       "      <th></th>\n",
       "      <th></th>\n",
       "      <th></th>\n",
       "      <th></th>\n",
       "      <th></th>\n",
       "      <th></th>\n",
       "      <th></th>\n",
       "      <th></th>\n",
       "      <th></th>\n",
       "    </tr>\n",
       "  </thead>\n",
       "  <tbody>\n",
       "    <tr>\n",
       "      <th>2017-03-14 17:43:26.135</th>\n",
       "      <td>81504.787</td>\n",
       "      <td>3</td>\n",
       "      <td>43440</td>\n",
       "      <td>8</td>\n",
       "      <td>44022</td>\n",
       "      <td>8</td>\n",
       "      <td>8639</td>\n",
       "      <td>9318.4</td>\n",
       "      <td>0</td>\n",
       "      <td>0</td>\n",
       "      <td>...</td>\n",
       "      <td>0</td>\n",
       "      <td>0</td>\n",
       "      <td>0</td>\n",
       "      <td>0</td>\n",
       "      <td>0</td>\n",
       "      <td>0</td>\n",
       "      <td>0</td>\n",
       "      <td>0</td>\n",
       "      <td>0</td>\n",
       "      <td>0</td>\n",
       "    </tr>\n",
       "    <tr>\n",
       "      <th>2017-03-14 17:43:26.135</th>\n",
       "      <td>81504.787</td>\n",
       "      <td>3</td>\n",
       "      <td>43441</td>\n",
       "      <td>8</td>\n",
       "      <td>44021</td>\n",
       "      <td>8</td>\n",
       "      <td>12024</td>\n",
       "      <td>10547.2</td>\n",
       "      <td>0</td>\n",
       "      <td>0</td>\n",
       "      <td>...</td>\n",
       "      <td>0</td>\n",
       "      <td>0</td>\n",
       "      <td>0</td>\n",
       "      <td>0</td>\n",
       "      <td>0</td>\n",
       "      <td>0</td>\n",
       "      <td>0</td>\n",
       "      <td>0</td>\n",
       "      <td>0</td>\n",
       "      <td>0</td>\n",
       "    </tr>\n",
       "    <tr>\n",
       "      <th>2017-03-14 17:43:26.135</th>\n",
       "      <td>81504.787</td>\n",
       "      <td>3</td>\n",
       "      <td>43441</td>\n",
       "      <td>8</td>\n",
       "      <td>44021</td>\n",
       "      <td>8</td>\n",
       "      <td>12024</td>\n",
       "      <td>10547.2</td>\n",
       "      <td>0</td>\n",
       "      <td>1</td>\n",
       "      <td>...</td>\n",
       "      <td>0</td>\n",
       "      <td>0</td>\n",
       "      <td>0</td>\n",
       "      <td>0</td>\n",
       "      <td>0</td>\n",
       "      <td>0</td>\n",
       "      <td>0</td>\n",
       "      <td>0</td>\n",
       "      <td>0</td>\n",
       "      <td>0</td>\n",
       "    </tr>\n",
       "    <tr>\n",
       "      <th>2017-03-14 17:43:26.135</th>\n",
       "      <td>81504.787</td>\n",
       "      <td>3</td>\n",
       "      <td>43440</td>\n",
       "      <td>8</td>\n",
       "      <td>44022</td>\n",
       "      <td>8</td>\n",
       "      <td>8639</td>\n",
       "      <td>9318.4</td>\n",
       "      <td>0</td>\n",
       "      <td>1</td>\n",
       "      <td>...</td>\n",
       "      <td>0</td>\n",
       "      <td>0</td>\n",
       "      <td>0</td>\n",
       "      <td>0</td>\n",
       "      <td>0</td>\n",
       "      <td>0</td>\n",
       "      <td>0</td>\n",
       "      <td>0</td>\n",
       "      <td>0</td>\n",
       "      <td>0</td>\n",
       "    </tr>\n",
       "    <tr>\n",
       "      <th>2017-03-14 17:43:39.011</th>\n",
       "      <td>183418.493</td>\n",
       "      <td>3</td>\n",
       "      <td>43441</td>\n",
       "      <td>8</td>\n",
       "      <td>44021</td>\n",
       "      <td>8</td>\n",
       "      <td>20751</td>\n",
       "      <td>5939.2</td>\n",
       "      <td>0</td>\n",
       "      <td>1</td>\n",
       "      <td>...</td>\n",
       "      <td>0</td>\n",
       "      <td>0</td>\n",
       "      <td>0</td>\n",
       "      <td>0</td>\n",
       "      <td>0</td>\n",
       "      <td>0</td>\n",
       "      <td>0</td>\n",
       "      <td>0</td>\n",
       "      <td>0</td>\n",
       "      <td>0</td>\n",
       "    </tr>\n",
       "  </tbody>\n",
       "</table>\n",
       "<p>5 rows × 29 columns</p>\n",
       "</div>"
      ],
      "text/plain": [
       "                           DURATION  PROTOCOL  SRC_IP_ADDR  SRC_PORT  \\\n",
       "DATE                                                                   \n",
       "2017-03-14 17:43:26.135   81504.787         3        43440         8   \n",
       "2017-03-14 17:43:26.135   81504.787         3        43441         8   \n",
       "2017-03-14 17:43:26.135   81504.787         3        43441         8   \n",
       "2017-03-14 17:43:26.135   81504.787         3        43440         8   \n",
       "2017-03-14 17:43:39.011  183418.493         3        43441         8   \n",
       "\n",
       "                         DST_IP_ADDR  DST_PORT  PACKETS    BYTES  TOS  TYPE  \\\n",
       "DATE                                                                          \n",
       "2017-03-14 17:43:26.135        44022         8     8639   9318.4    0     0   \n",
       "2017-03-14 17:43:26.135        44021         8    12024  10547.2    0     0   \n",
       "2017-03-14 17:43:26.135        44021         8    12024  10547.2    0     1   \n",
       "2017-03-14 17:43:26.135        44022         8     8639   9318.4    0     1   \n",
       "2017-03-14 17:43:39.011        44021         8    20751   5939.2    0     1   \n",
       "\n",
       "                         ...  FLAG_0xdf  FLAG_0xda  FLAG_0x52  FLAG_0xd3  \\\n",
       "DATE                     ...                                               \n",
       "2017-03-14 17:43:26.135  ...          0          0          0          0   \n",
       "2017-03-14 17:43:26.135  ...          0          0          0          0   \n",
       "2017-03-14 17:43:26.135  ...          0          0          0          0   \n",
       "2017-03-14 17:43:26.135  ...          0          0          0          0   \n",
       "2017-03-14 17:43:39.011  ...          0          0          0          0   \n",
       "\n",
       "                         FLAG_0x5b  FLAG_0x5a  FLAG_0xd2  FLAG_0xde  \\\n",
       "DATE                                                                  \n",
       "2017-03-14 17:43:26.135          0          0          0          0   \n",
       "2017-03-14 17:43:26.135          0          0          0          0   \n",
       "2017-03-14 17:43:26.135          0          0          0          0   \n",
       "2017-03-14 17:43:26.135          0          0          0          0   \n",
       "2017-03-14 17:43:39.011          0          0          0          0   \n",
       "\n",
       "                         FLAG_0x53  FLAG_0xc6  \n",
       "DATE                                           \n",
       "2017-03-14 17:43:26.135          0          0  \n",
       "2017-03-14 17:43:26.135          0          0  \n",
       "2017-03-14 17:43:26.135          0          0  \n",
       "2017-03-14 17:43:26.135          0          0  \n",
       "2017-03-14 17:43:39.011          0          0  \n",
       "\n",
       "[5 rows x 29 columns]"
      ]
     },
     "execution_count": 11,
     "metadata": {},
     "output_type": "execute_result"
    }
   ],
   "source": [
    "X.head()"
   ]
  },
  {
   "cell_type": "code",
   "execution_count": 12,
   "metadata": {},
   "outputs": [
    {
     "data": {
      "text/plain": [
       "[0, 0, 0, 0, 0]"
      ]
     },
     "execution_count": 12,
     "metadata": {},
     "output_type": "execute_result"
    }
   ],
   "source": [
    "ProceduralBaseline1().predict(X)[:5]"
   ]
  },
  {
   "cell_type": "code",
   "execution_count": null,
   "metadata": {},
   "outputs": [],
   "source": []
  },
  {
   "cell_type": "markdown",
   "metadata": {
    "id": "CicQsrsBeMzr"
   },
   "source": [
    "MODEL 3"
   ]
  },
  {
   "cell_type": "code",
   "execution_count": 13,
   "metadata": {},
   "outputs": [],
   "source": [
    "class ProceduralBaseline2(Model):\n",
    "    def __init__(self):\n",
    "        super().__init__(\n",
    "            name=\"Procedural Baseline based on IP addresses and TOS\", type=\"Procedural\"\n",
    "        )\n",
    "    \n",
    "    def apply_preprocessing(**kwargs):\n",
    "        pass\n",
    "    \n",
    "    def train(**kwargs):\n",
    "        pass\n",
    "    \n",
    "    def predict(self, X):\n",
    "        # 0 if TOS NOT IN ('32', '16') AND DST_IP != 192.168.100.6 else random\n",
    "        return [0 if row['TOS'] in (2, 1) or row['DST_IP_ADDR'] != 21265 else randint(1, 4) for _, row in X.iterrows()]"
   ]
  },
  {
   "cell_type": "code",
   "execution_count": 14,
   "metadata": {},
   "outputs": [
    {
     "data": {
      "text/plain": [
       "[0, 0, 0, 0, 0, 0, 0, 0, 0, 0]"
      ]
     },
     "execution_count": 14,
     "metadata": {},
     "output_type": "execute_result"
    }
   ],
   "source": [
    "ProceduralBaseline2().predict(X)[:10]"
   ]
  },
  {
   "cell_type": "markdown",
   "metadata": {},
   "source": [
    "MODEL 4"
   ]
  },
  {
   "cell_type": "code",
   "execution_count": 15,
   "metadata": {},
   "outputs": [],
   "source": [
    "from random import randint\n",
    "\n",
    "class FullBegninBaseline(Model):\n",
    "    def __init__(self):\n",
    "        super().__init__(\n",
    "            name=\"Random Baseline\", type=\"Random\"\n",
    "        )\n",
    "    \n",
    "    def apply_preprocessing(**kwargs):\n",
    "        pass\n",
    "    \n",
    "    def train(**kwargs):\n",
    "        pass\n",
    "    \n",
    "    def predict(self, X):\n",
    "        return [0 for _ in range(len(X))]"
   ]
  },
  {
   "cell_type": "code",
   "execution_count": 16,
   "metadata": {},
   "outputs": [
    {
     "data": {
      "text/plain": [
       "[0, 0, 0, 0, 0, 0, 0, 0, 0, 0]"
      ]
     },
     "execution_count": 16,
     "metadata": {},
     "output_type": "execute_result"
    }
   ],
   "source": [
    "FullBegninBaseline().predict(X)[:10]"
   ]
  },
  {
   "cell_type": "code",
   "execution_count": null,
   "metadata": {},
   "outputs": [],
   "source": []
  }
 ],
 "metadata": {
  "colab": {
   "collapsed_sections": [],
   "name": "baseline.ipynb",
   "provenance": [],
   "toc_visible": true
  },
  "kernelspec": {
   "display_name": "Python 3",
   "language": "python",
   "name": "python3"
  },
  "language_info": {
   "codemirror_mode": {
    "name": "ipython",
    "version": 3
   },
   "file_extension": ".py",
   "mimetype": "text/x-python",
   "name": "python",
   "nbconvert_exporter": "python",
   "pygments_lexer": "ipython3",
   "version": "3.9.1"
  }
 },
 "nbformat": 4,
 "nbformat_minor": 1
}
