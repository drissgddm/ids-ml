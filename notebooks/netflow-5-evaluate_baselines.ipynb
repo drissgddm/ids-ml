{
 "cells": [
  {
   "cell_type": "code",
   "execution_count": 3,
   "metadata": {},
   "outputs": [],
   "source": [
    "import pandas as pd"
   ]
  },
  {
   "cell_type": "code",
   "execution_count": 4,
   "metadata": {},
   "outputs": [
    {
     "data": {
      "text/html": [
       "<div>\n",
       "<style scoped>\n",
       "    .dataframe tbody tr th:only-of-type {\n",
       "        vertical-align: middle;\n",
       "    }\n",
       "\n",
       "    .dataframe tbody tr th {\n",
       "        vertical-align: top;\n",
       "    }\n",
       "\n",
       "    .dataframe thead th {\n",
       "        text-align: right;\n",
       "    }\n",
       "</style>\n",
       "<table border=\"1\" class=\"dataframe\">\n",
       "  <thead>\n",
       "    <tr style=\"text-align: right;\">\n",
       "      <th></th>\n",
       "      <th>DURATION</th>\n",
       "      <th>PROTOCOL</th>\n",
       "      <th>SRC_IP_ADDR</th>\n",
       "      <th>SRC_PORT</th>\n",
       "      <th>DST_IP_ADDR</th>\n",
       "      <th>DST_PORT</th>\n",
       "      <th>PACKETS</th>\n",
       "      <th>BYTES</th>\n",
       "      <th>TOS</th>\n",
       "      <th>ATTACK_TYPE</th>\n",
       "      <th>...</th>\n",
       "      <th>FLAG_0xdf</th>\n",
       "      <th>FLAG_0xda</th>\n",
       "      <th>FLAG_0x52</th>\n",
       "      <th>FLAG_0xd3</th>\n",
       "      <th>FLAG_0x5b</th>\n",
       "      <th>FLAG_0x5a</th>\n",
       "      <th>FLAG_0xd2</th>\n",
       "      <th>FLAG_0xde</th>\n",
       "      <th>FLAG_0x53</th>\n",
       "      <th>FLAG_0xc6</th>\n",
       "    </tr>\n",
       "    <tr>\n",
       "      <th>DATE</th>\n",
       "      <th></th>\n",
       "      <th></th>\n",
       "      <th></th>\n",
       "      <th></th>\n",
       "      <th></th>\n",
       "      <th></th>\n",
       "      <th></th>\n",
       "      <th></th>\n",
       "      <th></th>\n",
       "      <th></th>\n",
       "      <th></th>\n",
       "      <th></th>\n",
       "      <th></th>\n",
       "      <th></th>\n",
       "      <th></th>\n",
       "      <th></th>\n",
       "      <th></th>\n",
       "      <th></th>\n",
       "      <th></th>\n",
       "      <th></th>\n",
       "      <th></th>\n",
       "    </tr>\n",
       "  </thead>\n",
       "  <tbody>\n",
       "    <tr>\n",
       "      <th>2017-03-14 17:43:26.135</th>\n",
       "      <td>81504.787</td>\n",
       "      <td>3</td>\n",
       "      <td>43440</td>\n",
       "      <td>8</td>\n",
       "      <td>44022</td>\n",
       "      <td>8</td>\n",
       "      <td>8639</td>\n",
       "      <td>9318.4</td>\n",
       "      <td>0</td>\n",
       "      <td>0</td>\n",
       "      <td>...</td>\n",
       "      <td>0</td>\n",
       "      <td>0</td>\n",
       "      <td>0</td>\n",
       "      <td>0</td>\n",
       "      <td>0</td>\n",
       "      <td>0</td>\n",
       "      <td>0</td>\n",
       "      <td>0</td>\n",
       "      <td>0</td>\n",
       "      <td>0</td>\n",
       "    </tr>\n",
       "    <tr>\n",
       "      <th>2017-03-14 17:43:26.135</th>\n",
       "      <td>81504.787</td>\n",
       "      <td>3</td>\n",
       "      <td>43441</td>\n",
       "      <td>8</td>\n",
       "      <td>44021</td>\n",
       "      <td>8</td>\n",
       "      <td>12024</td>\n",
       "      <td>10547.2</td>\n",
       "      <td>0</td>\n",
       "      <td>0</td>\n",
       "      <td>...</td>\n",
       "      <td>0</td>\n",
       "      <td>0</td>\n",
       "      <td>0</td>\n",
       "      <td>0</td>\n",
       "      <td>0</td>\n",
       "      <td>0</td>\n",
       "      <td>0</td>\n",
       "      <td>0</td>\n",
       "      <td>0</td>\n",
       "      <td>0</td>\n",
       "    </tr>\n",
       "    <tr>\n",
       "      <th>2017-03-14 17:43:26.135</th>\n",
       "      <td>81504.787</td>\n",
       "      <td>3</td>\n",
       "      <td>43441</td>\n",
       "      <td>8</td>\n",
       "      <td>44021</td>\n",
       "      <td>8</td>\n",
       "      <td>12024</td>\n",
       "      <td>10547.2</td>\n",
       "      <td>0</td>\n",
       "      <td>0</td>\n",
       "      <td>...</td>\n",
       "      <td>0</td>\n",
       "      <td>0</td>\n",
       "      <td>0</td>\n",
       "      <td>0</td>\n",
       "      <td>0</td>\n",
       "      <td>0</td>\n",
       "      <td>0</td>\n",
       "      <td>0</td>\n",
       "      <td>0</td>\n",
       "      <td>0</td>\n",
       "    </tr>\n",
       "    <tr>\n",
       "      <th>2017-03-14 17:43:26.135</th>\n",
       "      <td>81504.787</td>\n",
       "      <td>3</td>\n",
       "      <td>43440</td>\n",
       "      <td>8</td>\n",
       "      <td>44022</td>\n",
       "      <td>8</td>\n",
       "      <td>8639</td>\n",
       "      <td>9318.4</td>\n",
       "      <td>0</td>\n",
       "      <td>0</td>\n",
       "      <td>...</td>\n",
       "      <td>0</td>\n",
       "      <td>0</td>\n",
       "      <td>0</td>\n",
       "      <td>0</td>\n",
       "      <td>0</td>\n",
       "      <td>0</td>\n",
       "      <td>0</td>\n",
       "      <td>0</td>\n",
       "      <td>0</td>\n",
       "      <td>0</td>\n",
       "    </tr>\n",
       "    <tr>\n",
       "      <th>2017-03-14 17:43:39.011</th>\n",
       "      <td>183418.493</td>\n",
       "      <td>3</td>\n",
       "      <td>43441</td>\n",
       "      <td>8</td>\n",
       "      <td>44021</td>\n",
       "      <td>8</td>\n",
       "      <td>20751</td>\n",
       "      <td>5939.2</td>\n",
       "      <td>0</td>\n",
       "      <td>0</td>\n",
       "      <td>...</td>\n",
       "      <td>0</td>\n",
       "      <td>0</td>\n",
       "      <td>0</td>\n",
       "      <td>0</td>\n",
       "      <td>0</td>\n",
       "      <td>0</td>\n",
       "      <td>0</td>\n",
       "      <td>0</td>\n",
       "      <td>0</td>\n",
       "      <td>0</td>\n",
       "    </tr>\n",
       "  </tbody>\n",
       "</table>\n",
       "<p>5 rows × 30 columns</p>\n",
       "</div>"
      ],
      "text/plain": [
       "                           DURATION  PROTOCOL  SRC_IP_ADDR  SRC_PORT  \\\n",
       "DATE                                                                   \n",
       "2017-03-14 17:43:26.135   81504.787         3        43440         8   \n",
       "2017-03-14 17:43:26.135   81504.787         3        43441         8   \n",
       "2017-03-14 17:43:26.135   81504.787         3        43441         8   \n",
       "2017-03-14 17:43:26.135   81504.787         3        43440         8   \n",
       "2017-03-14 17:43:39.011  183418.493         3        43441         8   \n",
       "\n",
       "                         DST_IP_ADDR  DST_PORT  PACKETS    BYTES  TOS  \\\n",
       "DATE                                                                    \n",
       "2017-03-14 17:43:26.135        44022         8     8639   9318.4    0   \n",
       "2017-03-14 17:43:26.135        44021         8    12024  10547.2    0   \n",
       "2017-03-14 17:43:26.135        44021         8    12024  10547.2    0   \n",
       "2017-03-14 17:43:26.135        44022         8     8639   9318.4    0   \n",
       "2017-03-14 17:43:39.011        44021         8    20751   5939.2    0   \n",
       "\n",
       "                         ATTACK_TYPE  ...  FLAG_0xdf  FLAG_0xda  FLAG_0x52  \\\n",
       "DATE                                  ...                                    \n",
       "2017-03-14 17:43:26.135            0  ...          0          0          0   \n",
       "2017-03-14 17:43:26.135            0  ...          0          0          0   \n",
       "2017-03-14 17:43:26.135            0  ...          0          0          0   \n",
       "2017-03-14 17:43:26.135            0  ...          0          0          0   \n",
       "2017-03-14 17:43:39.011            0  ...          0          0          0   \n",
       "\n",
       "                         FLAG_0xd3  FLAG_0x5b  FLAG_0x5a  FLAG_0xd2  \\\n",
       "DATE                                                                  \n",
       "2017-03-14 17:43:26.135          0          0          0          0   \n",
       "2017-03-14 17:43:26.135          0          0          0          0   \n",
       "2017-03-14 17:43:26.135          0          0          0          0   \n",
       "2017-03-14 17:43:26.135          0          0          0          0   \n",
       "2017-03-14 17:43:39.011          0          0          0          0   \n",
       "\n",
       "                         FLAG_0xde  FLAG_0x53  FLAG_0xc6  \n",
       "DATE                                                      \n",
       "2017-03-14 17:43:26.135          0          0          0  \n",
       "2017-03-14 17:43:26.135          0          0          0  \n",
       "2017-03-14 17:43:26.135          0          0          0  \n",
       "2017-03-14 17:43:26.135          0          0          0  \n",
       "2017-03-14 17:43:39.011          0          0          0  \n",
       "\n",
       "[5 rows x 30 columns]"
      ]
     },
     "execution_count": 4,
     "metadata": {},
     "output_type": "execute_result"
    }
   ],
   "source": [
    "df = pd.read_csv('data/netflow/CIDDS-001/traffic/preprocessed.csv', index_col='DATE')\n",
    "\n",
    "df.head()"
   ]
  },
  {
   "cell_type": "code",
   "execution_count": 5,
   "metadata": {},
   "outputs": [],
   "source": [
    "X, y = df.drop('ATTACK_TYPE', axis=1), df['ATTACK_TYPE'].to_numpy()"
   ]
  },
  {
   "cell_type": "code",
   "execution_count": 6,
   "metadata": {},
   "outputs": [
    {
     "name": "stdout",
     "output_type": "stream",
     "text": [
      "(11653215, 29)\n",
      "11653215\n"
     ]
    }
   ],
   "source": [
    "print(X.shape)\n",
    "print(len(y))"
   ]
  },
  {
   "cell_type": "code",
   "execution_count": null,
   "metadata": {},
   "outputs": [],
   "source": []
  },
  {
   "cell_type": "code",
   "execution_count": 9,
   "metadata": {},
   "outputs": [],
   "source": [
    "import os, sys\n",
    "sys.path.append(os.path.join(os.path.dirname('notebooks'), '..'))\n",
    "\n",
    "from models import random, procedural1, procedural2, procedural3\n",
    "from metrics import accuracy, confusion_matrix, recall"
   ]
  },
  {
   "cell_type": "code",
   "execution_count": 10,
   "metadata": {},
   "outputs": [],
   "source": [
    "baselines = [random, procedural1, procedural2, procedural3]"
   ]
  },
  {
   "cell_type": "code",
   "execution_count": 11,
   "metadata": {},
   "outputs": [],
   "source": [
    "metrics = [accuracy, confusion_matrix, recall]"
   ]
  },
  {
   "cell_type": "code",
   "execution_count": 12,
   "metadata": {},
   "outputs": [],
   "source": [
    "from sklearn.model_selection import train_test_split"
   ]
  },
  {
   "cell_type": "code",
   "execution_count": 15,
   "metadata": {
    "scrolled": false
   },
   "outputs": [
    {
     "name": "stdout",
     "output_type": "stream",
     "text": [
      "**** Random Baseline ****\n",
      "\t Accuracy Score: 0.19957711241060944\n",
      "\t Confusion Matrix:\n",
      "\t Recall: 0.19988003310674352\n",
      "**** ****\n",
      "**** Procedural Baseline based on IP addresses and protocols ****\n",
      "\t Accuracy Score: 0.8425245736906082\n",
      "\t Confusion Matrix:\n",
      "\t Recall: 0.8425219992937572\n",
      "**** ****\n",
      "**** Procedural Baseline based on IP addresses and TOS ****\n",
      "\t Accuracy Score: 0.8424507743142129\n",
      "\t Confusion Matrix:\n",
      "\t Recall: 0.8424507743142129\n",
      "**** ****\n",
      "**** Random Baseline ****\n",
      "\t Accuracy Score: 0.8424507743142129\n",
      "\t Confusion Matrix:\n",
      "\t Recall: 0.8424507743142129\n",
      "**** ****\n"
     ]
    },
    {
     "data": {
      "image/png": "[encoded data removed]",
      "text/plain": [
       "<Figure size 1152x864 with 2 Axes>"
      ]
     },
     "metadata": {
      "needs_background": "light"
     },
     "output_type": "display_data"
    },
    {
     "data": {
      "image/png": "[encoded data removed]",
      "text/plain": [
       "<Figure size 1152x864 with 2 Axes>"
      ]
     },
     "metadata": {
      "needs_background": "light"
     },
     "output_type": "display_data"
    },
    {
     "data": {
      "image/png": "[encoded data removed]",
      "text/plain": [
       "<Figure size 1152x864 with 2 Axes>"
      ]
     },
     "metadata": {
      "needs_background": "light"
     },
     "output_type": "display_data"
    },
    {
     "data": {
      "image/png": "[encoded data removed]",
      "text/plain": [
       "<Figure size 1152x864 with 2 Axes>"
      ]
     },
     "metadata": {
      "needs_background": "light"
     },
     "output_type": "display_data"
    }
   ],
   "source": [
    "for model in baselines:\n",
    "    \n",
    "    print(\"**** {} ****\".format(model.name))\n",
    "    _, X_test, _, y_test = train_test_split(X, y, test_size=0.2, random_state=42)\n",
    "    \n",
    "    for metric in metrics:\n",
    "        metric_name = metric.name\n",
    "    \n",
    "        if metric_name == 'Confusion Matrix':\n",
    "            print(\"\\t {}:\".format(metric_name))\n",
    "            _ = metric.plot(Y_true=y_test, Y_predicted=model.predict(X_test), labels=[0, 1, 2, 3, 4])\n",
    "            \n",
    "        else:\n",
    "            print(\"\\t {}: {}\".format(metric_name, metric.evaluate(Y_true=y_test, Y_predicted=model.predict(X_test))))\n",
    "        \n",
    "    print(\"**** ****\")"
   ]
  },
  {
   "cell_type": "code",
   "execution_count": null,
   "metadata": {},
   "outputs": [],
   "source": []
  }
 ],
 "metadata": {
  "kernelspec": {
   "display_name": "Python 3",
   "language": "python",
   "name": "python3"
  },
  "language_info": {
   "codemirror_mode": {
    "name": "ipython",
    "version": 3
   },
   "file_extension": ".py",
   "mimetype": "text/x-python",
   "name": "python",
   "nbconvert_exporter": "python",
   "pygments_lexer": "ipython3",
   "version": "3.9.1"
  }
 },
 "nbformat": 4,
 "nbformat_minor": 4
}
