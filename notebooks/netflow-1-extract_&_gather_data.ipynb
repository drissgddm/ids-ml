{
 "cells": [
  {
   "cell_type": "code",
   "execution_count": null,
   "metadata": {},
   "outputs": [],
   "source": [
    "import pandas as pd"
   ]
  },
  {
   "cell_type": "code",
   "execution_count": null,
   "metadata": {},
   "outputs": [],
   "source": [
    "data_dir = 'data/netflow'"
   ]
  },
  {
   "cell_type": "code",
   "execution_count": null,
   "metadata": {},
   "outputs": [],
   "source": [
    "external_week1 = pd.read_csv('{}/CIDDS-001/traffic/ExternalServer/CIDDS-001-external-week1.csv'.format(data_dir))"
   ]
  },
  {
   "cell_type": "code",
   "execution_count": null,
   "metadata": {},
   "outputs": [],
   "source": [
    "external_week1"
   ]
  },
  {
   "cell_type": "code",
   "execution_count": null,
   "metadata": {},
   "outputs": [],
   "source": [
    "external_week1.columns"
   ]
  },
  {
   "cell_type": "code",
   "execution_count": null,
   "metadata": {},
   "outputs": [],
   "source": [
    "external_week2 = pd.read_csv('{}/CIDDS-001/traffic/ExternalServer/CIDDS-001-external-week2.csv'.format(data_dir))"
   ]
  },
  {
   "cell_type": "code",
   "execution_count": null,
   "metadata": {},
   "outputs": [],
   "source": [
    "external_week2"
   ]
  },
  {
   "cell_type": "code",
   "execution_count": null,
   "metadata": {},
   "outputs": [],
   "source": [
    "csv_files = ['CIDDS-001-external-week1.csv', 'CIDDS-001-external-week2.csv', 'CIDDS-001-external-week3.csv', 'CIDDS-001-external-week4.csv']"
   ]
  },
  {
   "cell_type": "code",
   "execution_count": null,
   "metadata": {},
   "outputs": [],
   "source": [
    "external_weeks = pd.DataFrame({})\n",
    "\n",
    "for file in csv_files:\n",
    "    external_weeks = pd.concat([external_weeks, pd.read_csv('{}/CIDDS-001/traffic/ExternalServer/{}'.format(data_dir, file))])"
   ]
  },
  {
   "cell_type": "code",
   "execution_count": null,
   "metadata": {},
   "outputs": [],
   "source": [
    "labels_dist_by_dataset, tot_mem = {}, 0\n",
    "\n",
    "for csv in csv_files:\n",
    "\n",
    "    print('Loading', csv)\n",
    "    tmp_df = pd.read_csv('{}/CIDDS-001/traffic/ExternalServer/{}'.format(data_dir, csv))\n",
    "    tmp_dist = (tmp_df['attackType'].value_counts(normalize=True) * 100).to_dict()\n",
    "    tmp_mem = tmp_df.memory_usage(index=True).sum()\n",
    "    tot_mem += tmp_mem\n",
    "    tmp_dist['memory_usage'] = tmp_mem\n",
    "    print(tmp_dist)\n",
    "    labels_dist_by_dataset[csv] = tmp_dist"
   ]
  },
  {
   "cell_type": "code",
   "execution_count": null,
   "metadata": {},
   "outputs": [],
   "source": [
    "for d in labels_dist_by_dataset:\n",
    "    labels_dist_by_dataset[d]['memory_usage'] = round((labels_dist_by_dataset[d]['memory_usage'] / tot_mem) * 100, 3)"
   ]
  },
  {
   "cell_type": "code",
   "execution_count": null,
   "metadata": {},
   "outputs": [],
   "source": [
    "labels_dist_by_dataset"
   ]
  },
  {
   "cell_type": "code",
   "execution_count": null,
   "metadata": {},
   "outputs": [],
   "source": [
    "external_weeks"
   ]
  },
  {
   "cell_type": "code",
   "execution_count": null,
   "metadata": {},
   "outputs": [],
   "source": [
    "external_weeks.head()"
   ]
  },
  {
   "cell_type": "code",
   "execution_count": null,
   "metadata": {},
   "outputs": [],
   "source": [
    "for col in external_weeks.columns:\n",
    "    print('{}: {}'.format(col, external_weeks[col].dtype))"
   ]
  },
  {
   "cell_type": "markdown",
   "metadata": {},
   "source": [
    "Features engineering on IP addresses:\n",
    "\n",
    "        - local/public\n",
    "        \n",
    "        - class (false IPs)\n",
    "        \n",
    "        - mask\n",
    "        \n",
    "        - opt : evil ip check / false ip\n",
    "  "
   ]
  },
  {
   "cell_type": "code",
   "execution_count": null,
   "metadata": {},
   "outputs": [],
   "source": [
    "external_weeks[['Src IP Addr', 'Dst IP Addr']]"
   ]
  },
  {
   "cell_type": "code",
   "execution_count": null,
   "metadata": {},
   "outputs": [],
   "source": [
    "openstack1 = pd.read_csv('{}/CIDDS-001/traffic/OpenStack/CIDDS-001-internal-week1.csv'.format(data_dir))"
   ]
  },
  {
   "cell_type": "code",
   "execution_count": null,
   "metadata": {},
   "outputs": [],
   "source": [
    "openstack1.head()"
   ]
  },
  {
   "cell_type": "code",
   "execution_count": null,
   "metadata": {},
   "outputs": [],
   "source": [
    "external_weeks.head()"
   ]
  },
  {
   "cell_type": "code",
   "execution_count": null,
   "metadata": {},
   "outputs": [],
   "source": [
    "external_weeks.columns == openstack1.columns"
   ]
  },
  {
   "cell_type": "code",
   "execution_count": null,
   "metadata": {},
   "outputs": [],
   "source": [
    "external_weeks['attackType'].value_counts(normalize=True) * 100"
   ]
  },
  {
   "cell_type": "code",
   "execution_count": null,
   "metadata": {},
   "outputs": [],
   "source": [
    "openstack1['attackType'].value_counts(normalize=True) * 100"
   ]
  },
  {
   "cell_type": "code",
   "execution_count": null,
   "metadata": {},
   "outputs": [],
   "source": [
    "csv_files = ['CIDDS-001-internal-week1.csv', 'CIDDS-001-internal-week2.csv', 'CIDDS-001-internal-week3.csv', 'CIDDS-001-internal-week4.csv']"
   ]
  },
  {
   "cell_type": "code",
   "execution_count": null,
   "metadata": {},
   "outputs": [],
   "source": [
    "labels_dist_by_dataset, tot_mem = {}, 0\n",
    "\n",
    "for csv in csv_files:\n",
    "\n",
    "    print('Loading', csv)\n",
    "    tmp_df = pd.read_csv('{}/CIDDS-001/traffic/OpenStack/{}'.format(data_dir, csv))\n",
    "    tmp_dist = (tmp_df['attackType'].value_counts(normalize=True) * 100).to_dict()\n",
    "    tmp_mem = tmp_df.memory_usage(index=True).sum()\n",
    "    tot_mem += tmp_mem\n",
    "    tmp_dist['memory_usage'] = tmp_mem\n",
    "    print(tmp_dist)\n",
    "    labels_dist_by_dataset[csv] = tmp_dist"
   ]
  },
  {
   "cell_type": "code",
   "execution_count": null,
   "metadata": {},
   "outputs": [],
   "source": [
    "csv_files = ['CIDDS-001-internal-week1.csv', 'CIDDS-001-internal-week2.csv']"
   ]
  },
  {
   "cell_type": "code",
   "execution_count": null,
   "metadata": {},
   "outputs": [],
   "source": [
    "internal_weeks = pd.DataFrame({})\n",
    "\n",
    "for file in csv_files:\n",
    "    internal_weeks = pd.concat([external_weeks, pd.read_csv('{}/CIDDS-001/traffic/OpenStack/{}'.format(data_dir, file))])"
   ]
  },
  {
   "cell_type": "code",
   "execution_count": null,
   "metadata": {},
   "outputs": [],
   "source": [
    "internal_weeks"
   ]
  },
  {
   "cell_type": "code",
   "execution_count": null,
   "metadata": {},
   "outputs": [],
   "source": [
    "internal_weeks['attackType'].value_counts(normalize=True) * 100"
   ]
  },
  {
   "cell_type": "code",
   "execution_count": null,
   "metadata": {},
   "outputs": [],
   "source": [
    "internal_weeks.columns = [col.upper().replace(' ', '_') for col in internal_weeks.columns]"
   ]
  },
  {
   "cell_type": "code",
   "execution_count": null,
   "metadata": {},
   "outputs": [],
   "source": [
    "internal_weeks.rename(columns={\n",
    "    'PROTO': 'PROTOCOL'\n",
    "},\n",
    "                     inplace=True)"
   ]
  },
  {
   "cell_type": "code",
   "execution_count": null,
   "metadata": {},
   "outputs": [],
   "source": [
    "for col in internal_weeks.columns:\n",
    "    print('{}: {}'.format(col, internal_weeks[col].dtype))"
   ]
  },
  {
   "cell_type": "code",
   "execution_count": null,
   "metadata": {},
   "outputs": [],
   "source": [
    "external_weeks.columns = [col.upper().replace(' ', '_') for col in external_weeks.columns]\n",
    "external_weeks.rename(columns={'PROTO': 'PROTOCOL'}, inplace=True)"
   ]
  },
  {
   "cell_type": "code",
   "execution_count": null,
   "metadata": {},
   "outputs": [],
   "source": [
    "external_weeks['ATTACKTYPE'].value_counts(normalize=True) * 100"
   ]
  },
  {
   "cell_type": "code",
   "execution_count": null,
   "metadata": {},
   "outputs": [],
   "source": [
    "external_weeks['TYPE'] = \"external\"\n",
    "internal_weeks['TYPE'] = \"internal\""
   ]
  },
  {
   "cell_type": "code",
   "execution_count": null,
   "metadata": {},
   "outputs": [],
   "source": [
    "external_weeks.columns == internal_weeks.columns"
   ]
  },
  {
   "cell_type": "code",
   "execution_count": null,
   "metadata": {},
   "outputs": [],
   "source": [
    "external_weeks.dtypes == internal_weeks.dtypes"
   ]
  },
  {
   "cell_type": "code",
   "execution_count": null,
   "metadata": {},
   "outputs": [],
   "source": [
    "df = pd.concat([external_weeks, internal_weeks])"
   ]
  },
  {
   "cell_type": "code",
   "execution_count": null,
   "metadata": {},
   "outputs": [],
   "source": [
    "df.to_csv('{}/CIDDS-001/traffic/mixed.csv'.format(data_dir))"
   ]
  },
  {
   "cell_type": "code",
   "execution_count": null,
   "metadata": {},
   "outputs": [],
   "source": []
  },
  {
   "cell_type": "code",
   "execution_count": null,
   "metadata": {},
   "outputs": [],
   "source": []
  },
  {
   "cell_type": "code",
   "execution_count": 1,
   "metadata": {},
   "outputs": [
    {
     "name": "stderr",
     "output_type": "stream",
     "text": [
      "C:\\Users\\Driss\\miniconda3\\envs\\ids-ml\\lib\\site-packages\\IPython\\core\\interactiveshell.py:3146: DtypeWarning: Columns (9) have mixed types.Specify dtype option on import or set low_memory=False.\n",
      "  has_raised = await self.run_ast_nodes(code_ast.body, cell_name,\n"
     ]
    }
   ],
   "source": [
    "import pandas as pd\n",
    "\n",
    "data_dir = 'data/netflow'\n",
    "\n",
    "df = pd.read_csv('{}/CIDDS-001/traffic/mixed.csv'.format(data_dir))"
   ]
  },
  {
   "cell_type": "code",
   "execution_count": 2,
   "metadata": {
    "scrolled": true
   },
   "outputs": [
    {
     "data": {
      "text/plain": [
       "Unnamed: 0           0\n",
       "DATE_FIRST_SEEN      0\n",
       "DURATION             0\n",
       "PROTOCOL             0\n",
       "SRC_IP_ADDR          0\n",
       "SRC_PT               0\n",
       "DST_IP_ADDR          0\n",
       "DST_PT               0\n",
       "PACKETS              0\n",
       "BYTES                0\n",
       "FLOWS                0\n",
       "FLAGS                0\n",
       "TOS                  0\n",
       "CLASS                0\n",
       "ATTACKTYPE           0\n",
       "ATTACKID             0\n",
       "ATTACKDESCRIPTION    0\n",
       "TYPE                 0\n",
       "dtype: int64"
      ]
     },
     "execution_count": 2,
     "metadata": {},
     "output_type": "execute_result"
    }
   ],
   "source": [
    "df.isna().sum()"
   ]
  },
  {
   "cell_type": "code",
   "execution_count": 3,
   "metadata": {},
   "outputs": [
    {
     "data": {
      "text/html": [
       "<div>\n",
       "<style scoped>\n",
       "    .dataframe tbody tr th:only-of-type {\n",
       "        vertical-align: middle;\n",
       "    }\n",
       "\n",
       "    .dataframe tbody tr th {\n",
       "        vertical-align: top;\n",
       "    }\n",
       "\n",
       "    .dataframe thead th {\n",
       "        text-align: right;\n",
       "    }\n",
       "</style>\n",
       "<table border=\"1\" class=\"dataframe\">\n",
       "  <thead>\n",
       "    <tr style=\"text-align: right;\">\n",
       "      <th></th>\n",
       "      <th>DATE_FIRST_SEEN</th>\n",
       "      <th>DURATION</th>\n",
       "      <th>PROTOCOL</th>\n",
       "      <th>SRC_IP_ADDR</th>\n",
       "      <th>SRC_PT</th>\n",
       "      <th>DST_IP_ADDR</th>\n",
       "      <th>DST_PT</th>\n",
       "      <th>PACKETS</th>\n",
       "      <th>BYTES</th>\n",
       "      <th>FLOWS</th>\n",
       "      <th>FLAGS</th>\n",
       "      <th>TOS</th>\n",
       "      <th>CLASS</th>\n",
       "      <th>ATTACKTYPE</th>\n",
       "      <th>ATTACKID</th>\n",
       "      <th>ATTACKDESCRIPTION</th>\n",
       "      <th>TYPE</th>\n",
       "    </tr>\n",
       "  </thead>\n",
       "  <tbody>\n",
       "    <tr>\n",
       "      <th>0</th>\n",
       "      <td>2017-03-14 17:43:57.172</td>\n",
       "      <td>81412.697</td>\n",
       "      <td>TCP</td>\n",
       "      <td>EXT_SERVER</td>\n",
       "      <td>8082</td>\n",
       "      <td>OPENSTACK_NET</td>\n",
       "      <td>56978.0</td>\n",
       "      <td>3057</td>\n",
       "      <td>2.1 M</td>\n",
       "      <td>1</td>\n",
       "      <td>.AP...</td>\n",
       "      <td>0</td>\n",
       "      <td>normal</td>\n",
       "      <td>---</td>\n",
       "      <td>---</td>\n",
       "      <td>---</td>\n",
       "      <td>external</td>\n",
       "    </tr>\n",
       "    <tr>\n",
       "      <th>1</th>\n",
       "      <td>2017-03-14 17:43:57.172</td>\n",
       "      <td>81412.697</td>\n",
       "      <td>TCP</td>\n",
       "      <td>OPENSTACK_NET</td>\n",
       "      <td>56978</td>\n",
       "      <td>EXT_SERVER</td>\n",
       "      <td>8082.0</td>\n",
       "      <td>4748</td>\n",
       "      <td>2.5 M</td>\n",
       "      <td>1</td>\n",
       "      <td>.AP...</td>\n",
       "      <td>0</td>\n",
       "      <td>normal</td>\n",
       "      <td>---</td>\n",
       "      <td>---</td>\n",
       "      <td>---</td>\n",
       "      <td>external</td>\n",
       "    </tr>\n",
       "    <tr>\n",
       "      <th>2</th>\n",
       "      <td>2017-03-14 17:43:26.135</td>\n",
       "      <td>81504.787</td>\n",
       "      <td>TCP</td>\n",
       "      <td>EXT_SERVER</td>\n",
       "      <td>8082</td>\n",
       "      <td>OPENSTACK_NET</td>\n",
       "      <td>56979.0</td>\n",
       "      <td>8639</td>\n",
       "      <td>9.1 M</td>\n",
       "      <td>1</td>\n",
       "      <td>.AP...</td>\n",
       "      <td>0</td>\n",
       "      <td>normal</td>\n",
       "      <td>---</td>\n",
       "      <td>---</td>\n",
       "      <td>---</td>\n",
       "      <td>external</td>\n",
       "    </tr>\n",
       "    <tr>\n",
       "      <th>3</th>\n",
       "      <td>2017-03-14 17:43:26.135</td>\n",
       "      <td>81504.787</td>\n",
       "      <td>TCP</td>\n",
       "      <td>OPENSTACK_NET</td>\n",
       "      <td>56979</td>\n",
       "      <td>EXT_SERVER</td>\n",
       "      <td>8082.0</td>\n",
       "      <td>12024</td>\n",
       "      <td>10.3 M</td>\n",
       "      <td>1</td>\n",
       "      <td>.AP...</td>\n",
       "      <td>0</td>\n",
       "      <td>normal</td>\n",
       "      <td>---</td>\n",
       "      <td>---</td>\n",
       "      <td>---</td>\n",
       "      <td>external</td>\n",
       "    </tr>\n",
       "    <tr>\n",
       "      <th>4</th>\n",
       "      <td>2017-03-14 18:17:09.005</td>\n",
       "      <td>82100.692</td>\n",
       "      <td>TCP</td>\n",
       "      <td>EXT_SERVER</td>\n",
       "      <td>8082</td>\n",
       "      <td>OPENSTACK_NET</td>\n",
       "      <td>51649.0</td>\n",
       "      <td>11012</td>\n",
       "      <td>27.2 M</td>\n",
       "      <td>1</td>\n",
       "      <td>.AP.S.</td>\n",
       "      <td>0</td>\n",
       "      <td>normal</td>\n",
       "      <td>---</td>\n",
       "      <td>---</td>\n",
       "      <td>---</td>\n",
       "      <td>external</td>\n",
       "    </tr>\n",
       "  </tbody>\n",
       "</table>\n",
       "</div>"
      ],
      "text/plain": [
       "           DATE_FIRST_SEEN   DURATION PROTOCOL    SRC_IP_ADDR  SRC_PT  \\\n",
       "0  2017-03-14 17:43:57.172  81412.697    TCP       EXT_SERVER    8082   \n",
       "1  2017-03-14 17:43:57.172  81412.697    TCP    OPENSTACK_NET   56978   \n",
       "2  2017-03-14 17:43:26.135  81504.787    TCP       EXT_SERVER    8082   \n",
       "3  2017-03-14 17:43:26.135  81504.787    TCP    OPENSTACK_NET   56979   \n",
       "4  2017-03-14 18:17:09.005  82100.692    TCP       EXT_SERVER    8082   \n",
       "\n",
       "     DST_IP_ADDR   DST_PT  PACKETS     BYTES  FLOWS   FLAGS  TOS   CLASS  \\\n",
       "0  OPENSTACK_NET  56978.0     3057     2.1 M      1  .AP...    0  normal   \n",
       "1     EXT_SERVER   8082.0     4748     2.5 M      1  .AP...    0  normal   \n",
       "2  OPENSTACK_NET  56979.0     8639     9.1 M      1  .AP...    0  normal   \n",
       "3     EXT_SERVER   8082.0    12024    10.3 M      1  .AP...    0  normal   \n",
       "4  OPENSTACK_NET  51649.0    11012    27.2 M      1  .AP.S.    0  normal   \n",
       "\n",
       "  ATTACKTYPE ATTACKID ATTACKDESCRIPTION      TYPE  \n",
       "0        ---      ---               ---  external  \n",
       "1        ---      ---               ---  external  \n",
       "2        ---      ---               ---  external  \n",
       "3        ---      ---               ---  external  \n",
       "4        ---      ---               ---  external  "
      ]
     },
     "execution_count": 3,
     "metadata": {},
     "output_type": "execute_result"
    }
   ],
   "source": [
    "df.drop('Unnamed: 0', axis=1, inplace=True)\n",
    "df.head()"
   ]
  },
  {
   "cell_type": "code",
   "execution_count": 4,
   "metadata": {},
   "outputs": [],
   "source": [
    "df['DATE_FIRST_SEEN'] = pd.to_datetime(df['DATE_FIRST_SEEN'])\n",
    "df.rename(columns={'DATE_FIRST_SEEN': 'DATE'}, inplace=True)"
   ]
  },
  {
   "cell_type": "code",
   "execution_count": 5,
   "metadata": {},
   "outputs": [],
   "source": [
    "df.set_index('DATE', inplace=True)"
   ]
  },
  {
   "cell_type": "code",
   "execution_count": 6,
   "metadata": {},
   "outputs": [],
   "source": [
    "df.sort_index(inplace=True)"
   ]
  },
  {
   "cell_type": "code",
   "execution_count": 7,
   "metadata": {},
   "outputs": [
    {
     "data": {
      "text/html": [
       "<div>\n",
       "<style scoped>\n",
       "    .dataframe tbody tr th:only-of-type {\n",
       "        vertical-align: middle;\n",
       "    }\n",
       "\n",
       "    .dataframe tbody tr th {\n",
       "        vertical-align: top;\n",
       "    }\n",
       "\n",
       "    .dataframe thead th {\n",
       "        text-align: right;\n",
       "    }\n",
       "</style>\n",
       "<table border=\"1\" class=\"dataframe\">\n",
       "  <thead>\n",
       "    <tr style=\"text-align: right;\">\n",
       "      <th></th>\n",
       "      <th>DURATION</th>\n",
       "      <th>PROTOCOL</th>\n",
       "      <th>SRC_IP_ADDR</th>\n",
       "      <th>SRC_PT</th>\n",
       "      <th>DST_IP_ADDR</th>\n",
       "      <th>DST_PT</th>\n",
       "      <th>PACKETS</th>\n",
       "      <th>BYTES</th>\n",
       "      <th>FLOWS</th>\n",
       "      <th>FLAGS</th>\n",
       "      <th>TOS</th>\n",
       "      <th>CLASS</th>\n",
       "      <th>ATTACKTYPE</th>\n",
       "      <th>ATTACKID</th>\n",
       "      <th>ATTACKDESCRIPTION</th>\n",
       "      <th>TYPE</th>\n",
       "    </tr>\n",
       "    <tr>\n",
       "      <th>DATE</th>\n",
       "      <th></th>\n",
       "      <th></th>\n",
       "      <th></th>\n",
       "      <th></th>\n",
       "      <th></th>\n",
       "      <th></th>\n",
       "      <th></th>\n",
       "      <th></th>\n",
       "      <th></th>\n",
       "      <th></th>\n",
       "      <th></th>\n",
       "      <th></th>\n",
       "      <th></th>\n",
       "      <th></th>\n",
       "      <th></th>\n",
       "      <th></th>\n",
       "    </tr>\n",
       "  </thead>\n",
       "  <tbody>\n",
       "    <tr>\n",
       "      <th>2017-03-14 17:43:26.135</th>\n",
       "      <td>81504.787</td>\n",
       "      <td>TCP</td>\n",
       "      <td>EXT_SERVER</td>\n",
       "      <td>8082</td>\n",
       "      <td>OPENSTACK_NET</td>\n",
       "      <td>56979.0</td>\n",
       "      <td>8639</td>\n",
       "      <td>9.1 M</td>\n",
       "      <td>1</td>\n",
       "      <td>.AP...</td>\n",
       "      <td>0</td>\n",
       "      <td>normal</td>\n",
       "      <td>---</td>\n",
       "      <td>---</td>\n",
       "      <td>---</td>\n",
       "      <td>external</td>\n",
       "    </tr>\n",
       "    <tr>\n",
       "      <th>2017-03-14 17:43:26.135</th>\n",
       "      <td>81504.787</td>\n",
       "      <td>TCP</td>\n",
       "      <td>OPENSTACK_NET</td>\n",
       "      <td>56979</td>\n",
       "      <td>EXT_SERVER</td>\n",
       "      <td>8082.0</td>\n",
       "      <td>12024</td>\n",
       "      <td>10.3 M</td>\n",
       "      <td>1</td>\n",
       "      <td>.AP...</td>\n",
       "      <td>0</td>\n",
       "      <td>normal</td>\n",
       "      <td>---</td>\n",
       "      <td>---</td>\n",
       "      <td>---</td>\n",
       "      <td>external</td>\n",
       "    </tr>\n",
       "    <tr>\n",
       "      <th>2017-03-14 17:43:26.135</th>\n",
       "      <td>81504.787</td>\n",
       "      <td>TCP</td>\n",
       "      <td>OPENSTACK_NET</td>\n",
       "      <td>56979</td>\n",
       "      <td>EXT_SERVER</td>\n",
       "      <td>8082.0</td>\n",
       "      <td>12024</td>\n",
       "      <td>10.3 M</td>\n",
       "      <td>1</td>\n",
       "      <td>.AP...</td>\n",
       "      <td>0</td>\n",
       "      <td>normal</td>\n",
       "      <td>---</td>\n",
       "      <td>---</td>\n",
       "      <td>---</td>\n",
       "      <td>internal</td>\n",
       "    </tr>\n",
       "    <tr>\n",
       "      <th>2017-03-14 17:43:26.135</th>\n",
       "      <td>81504.787</td>\n",
       "      <td>TCP</td>\n",
       "      <td>EXT_SERVER</td>\n",
       "      <td>8082</td>\n",
       "      <td>OPENSTACK_NET</td>\n",
       "      <td>56979.0</td>\n",
       "      <td>8639</td>\n",
       "      <td>9.1 M</td>\n",
       "      <td>1</td>\n",
       "      <td>.AP...</td>\n",
       "      <td>0</td>\n",
       "      <td>normal</td>\n",
       "      <td>---</td>\n",
       "      <td>---</td>\n",
       "      <td>---</td>\n",
       "      <td>internal</td>\n",
       "    </tr>\n",
       "    <tr>\n",
       "      <th>2017-03-14 17:43:39.011</th>\n",
       "      <td>183418.493</td>\n",
       "      <td>TCP</td>\n",
       "      <td>OPENSTACK_NET</td>\n",
       "      <td>60802</td>\n",
       "      <td>EXT_SERVER</td>\n",
       "      <td>8082.0</td>\n",
       "      <td>20751</td>\n",
       "      <td>5.8 M</td>\n",
       "      <td>1</td>\n",
       "      <td>.AP...</td>\n",
       "      <td>0</td>\n",
       "      <td>normal</td>\n",
       "      <td>---</td>\n",
       "      <td>---</td>\n",
       "      <td>---</td>\n",
       "      <td>internal</td>\n",
       "    </tr>\n",
       "  </tbody>\n",
       "</table>\n",
       "</div>"
      ],
      "text/plain": [
       "                           DURATION PROTOCOL    SRC_IP_ADDR  SRC_PT  \\\n",
       "DATE                                                                  \n",
       "2017-03-14 17:43:26.135   81504.787    TCP       EXT_SERVER    8082   \n",
       "2017-03-14 17:43:26.135   81504.787    TCP    OPENSTACK_NET   56979   \n",
       "2017-03-14 17:43:26.135   81504.787    TCP    OPENSTACK_NET   56979   \n",
       "2017-03-14 17:43:26.135   81504.787    TCP       EXT_SERVER    8082   \n",
       "2017-03-14 17:43:39.011  183418.493    TCP    OPENSTACK_NET   60802   \n",
       "\n",
       "                           DST_IP_ADDR   DST_PT  PACKETS     BYTES  FLOWS  \\\n",
       "DATE                                                                        \n",
       "2017-03-14 17:43:26.135  OPENSTACK_NET  56979.0     8639     9.1 M      1   \n",
       "2017-03-14 17:43:26.135     EXT_SERVER   8082.0    12024    10.3 M      1   \n",
       "2017-03-14 17:43:26.135     EXT_SERVER   8082.0    12024    10.3 M      1   \n",
       "2017-03-14 17:43:26.135  OPENSTACK_NET  56979.0     8639     9.1 M      1   \n",
       "2017-03-14 17:43:39.011     EXT_SERVER   8082.0    20751     5.8 M      1   \n",
       "\n",
       "                          FLAGS  TOS   CLASS ATTACKTYPE ATTACKID  \\\n",
       "DATE                                                               \n",
       "2017-03-14 17:43:26.135  .AP...    0  normal        ---      ---   \n",
       "2017-03-14 17:43:26.135  .AP...    0  normal        ---      ---   \n",
       "2017-03-14 17:43:26.135  .AP...    0  normal        ---      ---   \n",
       "2017-03-14 17:43:26.135  .AP...    0  normal        ---      ---   \n",
       "2017-03-14 17:43:39.011  .AP...    0  normal        ---      ---   \n",
       "\n",
       "                        ATTACKDESCRIPTION      TYPE  \n",
       "DATE                                                 \n",
       "2017-03-14 17:43:26.135               ---  external  \n",
       "2017-03-14 17:43:26.135               ---  external  \n",
       "2017-03-14 17:43:26.135               ---  internal  \n",
       "2017-03-14 17:43:26.135               ---  internal  \n",
       "2017-03-14 17:43:39.011               ---  internal  "
      ]
     },
     "execution_count": 7,
     "metadata": {},
     "output_type": "execute_result"
    }
   ],
   "source": [
    "df.head()"
   ]
  },
  {
   "cell_type": "code",
   "execution_count": 8,
   "metadata": {},
   "outputs": [
    {
     "data": {
      "text/plain": [
       "---           84.229777\n",
       "dos           14.647460\n",
       "portScan       1.028429\n",
       "bruteForce     0.070899\n",
       "pingScan       0.023436\n",
       "Name: ATTACKTYPE, dtype: float64"
      ]
     },
     "execution_count": 8,
     "metadata": {},
     "output_type": "execute_result"
    }
   ],
   "source": [
    "df['ATTACKTYPE'].value_counts(normalize=True) * 100"
   ]
  },
  {
   "cell_type": "code",
   "execution_count": 9,
   "metadata": {},
   "outputs": [],
   "source": [
    "df['ATTACKTYPE'] = df['ATTACKTYPE'].map({'---': 'benign'}).fillna(df['ATTACKTYPE'])"
   ]
  },
  {
   "cell_type": "code",
   "execution_count": 10,
   "metadata": {},
   "outputs": [
    {
     "data": {
      "text/plain": [
       "benign        84.229777\n",
       "dos           14.647460\n",
       "portScan       1.028429\n",
       "bruteForce     0.070899\n",
       "pingScan       0.023436\n",
       "Name: ATTACKTYPE, dtype: float64"
      ]
     },
     "execution_count": 10,
     "metadata": {},
     "output_type": "execute_result"
    }
   ],
   "source": [
    "df['ATTACKTYPE'].value_counts(normalize=True) * 100"
   ]
  },
  {
   "cell_type": "code",
   "execution_count": 11,
   "metadata": {},
   "outputs": [
    {
     "data": {
      "text/plain": [
       "---    84.229777\n",
       "53      4.430528\n",
       "60      2.862961\n",
       "44      2.241176\n",
       "45      1.930454\n",
       "63      1.275536\n",
       "46      0.958705\n",
       "59      0.948099\n",
       "49      0.151280\n",
       "48      0.116706\n",
       "67      0.115213\n",
       "47      0.115161\n",
       "7       0.110013\n",
       "51      0.102701\n",
       "68      0.048330\n",
       "50      0.039380\n",
       "1       0.034463\n",
       "16      0.034360\n",
       "2       0.034360\n",
       "10      0.034171\n",
       "15      0.034051\n",
       "12      0.023513\n",
       "43      0.018390\n",
       "19      0.016339\n",
       "55      0.006496\n",
       "61      0.006050\n",
       "52      0.005209\n",
       "62      0.004926\n",
       "57      0.004479\n",
       "58      0.004376\n",
       "64      0.004119\n",
       "56      0.003664\n",
       "17      0.003433\n",
       "3       0.003433\n",
       "11      0.003433\n",
       "18      0.003433\n",
       "5       0.003433\n",
       "9       0.003433\n",
       "13      0.003433\n",
       "4       0.003433\n",
       "14      0.003433\n",
       "20      0.003433\n",
       "8       0.003433\n",
       "65      0.003201\n",
       "69      0.003089\n",
       "66      0.003081\n",
       "6       0.002883\n",
       "70      0.002060\n",
       "54      0.001570\n",
       "22      0.000687\n",
       "21      0.000687\n",
       "Name: ATTACKID, dtype: float64"
      ]
     },
     "execution_count": 11,
     "metadata": {},
     "output_type": "execute_result"
    }
   ],
   "source": [
    "df['ATTACKID'].value_counts(normalize=True) * 100"
   ]
  },
  {
   "cell_type": "code",
   "execution_count": 12,
   "metadata": {},
   "outputs": [],
   "source": [
    "df['ATTACKID'] = df['ATTACKID'].map({'---': 0}).fillna(df['ATTACKID'])"
   ]
  },
  {
   "cell_type": "code",
   "execution_count": 13,
   "metadata": {},
   "outputs": [
    {
     "data": {
      "text/plain": [
       "0.0    84.229777\n",
       "53      4.430528\n",
       "60      2.862961\n",
       "44      2.241176\n",
       "45      1.930454\n",
       "63      1.275536\n",
       "46      0.958705\n",
       "59      0.948099\n",
       "49      0.151280\n",
       "48      0.116706\n",
       "67      0.115213\n",
       "47      0.115161\n",
       "7       0.110013\n",
       "51      0.102701\n",
       "68      0.048330\n",
       "50      0.039380\n",
       "1       0.034463\n",
       "16      0.034360\n",
       "2       0.034360\n",
       "10      0.034171\n",
       "15      0.034051\n",
       "12      0.023513\n",
       "43      0.018390\n",
       "19      0.016339\n",
       "55      0.006496\n",
       "61      0.006050\n",
       "52      0.005209\n",
       "62      0.004926\n",
       "57      0.004479\n",
       "58      0.004376\n",
       "64      0.004119\n",
       "56      0.003664\n",
       "17      0.003433\n",
       "3       0.003433\n",
       "11      0.003433\n",
       "18      0.003433\n",
       "5       0.003433\n",
       "9       0.003433\n",
       "13      0.003433\n",
       "4       0.003433\n",
       "14      0.003433\n",
       "20      0.003433\n",
       "8       0.003433\n",
       "65      0.003201\n",
       "69      0.003089\n",
       "66      0.003081\n",
       "6       0.002883\n",
       "70      0.002060\n",
       "54      0.001570\n",
       "22      0.000687\n",
       "21      0.000687\n",
       "Name: ATTACKID, dtype: float64"
      ]
     },
     "execution_count": 13,
     "metadata": {},
     "output_type": "execute_result"
    }
   ],
   "source": [
    "df['ATTACKID'].value_counts(normalize=True) * 100"
   ]
  },
  {
   "cell_type": "code",
   "execution_count": 14,
   "metadata": {},
   "outputs": [
    {
     "data": {
      "text/plain": [
       "---                                      84.311780\n",
       "10000 connections on 192.168.100.6:80    14.647460\n",
       "nmap args: -sS -T 2                       0.568710\n",
       "nmap args: -sS -T 1                       0.181933\n",
       "nmap args: -sS -T 3                       0.151280\n",
       "nmap args: -sU -T 2                       0.057684\n",
       "100 passwords                             0.027460\n",
       "192.168.210.4                             0.015541\n",
       "nmap args: -n -sP -PE -T 1                0.012778\n",
       "nmap args: -n -sP -PE -T 2                0.010658\n",
       "192.168.210.5                             0.006050\n",
       "192.168.210.3                             0.003664\n",
       "192.168.100.2                             0.002060\n",
       "192.168.210.2                             0.001570\n",
       "20 passwords                              0.001373\n",
       "Name: ATTACKDESCRIPTION, dtype: float64"
      ]
     },
     "execution_count": 14,
     "metadata": {},
     "output_type": "execute_result"
    }
   ],
   "source": [
    "df['ATTACKDESCRIPTION'].value_counts(normalize=True) * 100"
   ]
  },
  {
   "cell_type": "code",
   "execution_count": 15,
   "metadata": {},
   "outputs": [],
   "source": [
    "df['ATTACKDESCRIPTION'] = df['ATTACKDESCRIPTION'].map({'---': 'benign'}).fillna(df['ATTACKDESCRIPTION'])"
   ]
  },
  {
   "cell_type": "code",
   "execution_count": 16,
   "metadata": {},
   "outputs": [
    {
     "data": {
      "text/plain": [
       "benign                                   84.311780\n",
       "10000 connections on 192.168.100.6:80    14.647460\n",
       "nmap args: -sS -T 2                       0.568710\n",
       "nmap args: -sS -T 1                       0.181933\n",
       "nmap args: -sS -T 3                       0.151280\n",
       "nmap args: -sU -T 2                       0.057684\n",
       "100 passwords                             0.027460\n",
       "192.168.210.4                             0.015541\n",
       "nmap args: -n -sP -PE -T 1                0.012778\n",
       "nmap args: -n -sP -PE -T 2                0.010658\n",
       "192.168.210.5                             0.006050\n",
       "192.168.210.3                             0.003664\n",
       "192.168.100.2                             0.002060\n",
       "192.168.210.2                             0.001570\n",
       "20 passwords                              0.001373\n",
       "Name: ATTACKDESCRIPTION, dtype: float64"
      ]
     },
     "execution_count": 16,
     "metadata": {},
     "output_type": "execute_result"
    }
   ],
   "source": [
    "df['ATTACKDESCRIPTION'].value_counts(normalize=True) * 100"
   ]
  },
  {
   "cell_type": "code",
   "execution_count": 17,
   "metadata": {},
   "outputs": [
    {
     "data": {
      "text/html": [
       "<div>\n",
       "<style scoped>\n",
       "    .dataframe tbody tr th:only-of-type {\n",
       "        vertical-align: middle;\n",
       "    }\n",
       "\n",
       "    .dataframe tbody tr th {\n",
       "        vertical-align: top;\n",
       "    }\n",
       "\n",
       "    .dataframe thead th {\n",
       "        text-align: right;\n",
       "    }\n",
       "</style>\n",
       "<table border=\"1\" class=\"dataframe\">\n",
       "  <thead>\n",
       "    <tr style=\"text-align: right;\">\n",
       "      <th></th>\n",
       "      <th>DURATION</th>\n",
       "      <th>PROTOCOL</th>\n",
       "      <th>SRC_IP_ADDR</th>\n",
       "      <th>SRC_PT</th>\n",
       "      <th>DST_IP_ADDR</th>\n",
       "      <th>DST_PT</th>\n",
       "      <th>PACKETS</th>\n",
       "      <th>BYTES</th>\n",
       "      <th>FLOWS</th>\n",
       "      <th>FLAGS</th>\n",
       "      <th>TOS</th>\n",
       "      <th>CLASS</th>\n",
       "      <th>ATTACKTYPE</th>\n",
       "      <th>ATTACKID</th>\n",
       "      <th>ATTACKDESCRIPTION</th>\n",
       "      <th>TYPE</th>\n",
       "    </tr>\n",
       "    <tr>\n",
       "      <th>DATE</th>\n",
       "      <th></th>\n",
       "      <th></th>\n",
       "      <th></th>\n",
       "      <th></th>\n",
       "      <th></th>\n",
       "      <th></th>\n",
       "      <th></th>\n",
       "      <th></th>\n",
       "      <th></th>\n",
       "      <th></th>\n",
       "      <th></th>\n",
       "      <th></th>\n",
       "      <th></th>\n",
       "      <th></th>\n",
       "      <th></th>\n",
       "      <th></th>\n",
       "    </tr>\n",
       "  </thead>\n",
       "  <tbody>\n",
       "    <tr>\n",
       "      <th>2017-03-14 17:43:26.135</th>\n",
       "      <td>81504.787</td>\n",
       "      <td>TCP</td>\n",
       "      <td>EXT_SERVER</td>\n",
       "      <td>8082</td>\n",
       "      <td>OPENSTACK_NET</td>\n",
       "      <td>56979.0</td>\n",
       "      <td>8639</td>\n",
       "      <td>9.1 M</td>\n",
       "      <td>1</td>\n",
       "      <td>.AP...</td>\n",
       "      <td>0</td>\n",
       "      <td>normal</td>\n",
       "      <td>benign</td>\n",
       "      <td>0.0</td>\n",
       "      <td>benign</td>\n",
       "      <td>external</td>\n",
       "    </tr>\n",
       "    <tr>\n",
       "      <th>2017-03-14 17:43:26.135</th>\n",
       "      <td>81504.787</td>\n",
       "      <td>TCP</td>\n",
       "      <td>OPENSTACK_NET</td>\n",
       "      <td>56979</td>\n",
       "      <td>EXT_SERVER</td>\n",
       "      <td>8082.0</td>\n",
       "      <td>12024</td>\n",
       "      <td>10.3 M</td>\n",
       "      <td>1</td>\n",
       "      <td>.AP...</td>\n",
       "      <td>0</td>\n",
       "      <td>normal</td>\n",
       "      <td>benign</td>\n",
       "      <td>0.0</td>\n",
       "      <td>benign</td>\n",
       "      <td>external</td>\n",
       "    </tr>\n",
       "    <tr>\n",
       "      <th>2017-03-14 17:43:26.135</th>\n",
       "      <td>81504.787</td>\n",
       "      <td>TCP</td>\n",
       "      <td>OPENSTACK_NET</td>\n",
       "      <td>56979</td>\n",
       "      <td>EXT_SERVER</td>\n",
       "      <td>8082.0</td>\n",
       "      <td>12024</td>\n",
       "      <td>10.3 M</td>\n",
       "      <td>1</td>\n",
       "      <td>.AP...</td>\n",
       "      <td>0</td>\n",
       "      <td>normal</td>\n",
       "      <td>benign</td>\n",
       "      <td>0.0</td>\n",
       "      <td>benign</td>\n",
       "      <td>internal</td>\n",
       "    </tr>\n",
       "  </tbody>\n",
       "</table>\n",
       "</div>"
      ],
      "text/plain": [
       "                          DURATION PROTOCOL    SRC_IP_ADDR  SRC_PT  \\\n",
       "DATE                                                                 \n",
       "2017-03-14 17:43:26.135  81504.787    TCP       EXT_SERVER    8082   \n",
       "2017-03-14 17:43:26.135  81504.787    TCP    OPENSTACK_NET   56979   \n",
       "2017-03-14 17:43:26.135  81504.787    TCP    OPENSTACK_NET   56979   \n",
       "\n",
       "                           DST_IP_ADDR   DST_PT  PACKETS     BYTES  FLOWS  \\\n",
       "DATE                                                                        \n",
       "2017-03-14 17:43:26.135  OPENSTACK_NET  56979.0     8639     9.1 M      1   \n",
       "2017-03-14 17:43:26.135     EXT_SERVER   8082.0    12024    10.3 M      1   \n",
       "2017-03-14 17:43:26.135     EXT_SERVER   8082.0    12024    10.3 M      1   \n",
       "\n",
       "                          FLAGS  TOS   CLASS ATTACKTYPE ATTACKID  \\\n",
       "DATE                                                               \n",
       "2017-03-14 17:43:26.135  .AP...    0  normal     benign      0.0   \n",
       "2017-03-14 17:43:26.135  .AP...    0  normal     benign      0.0   \n",
       "2017-03-14 17:43:26.135  .AP...    0  normal     benign      0.0   \n",
       "\n",
       "                        ATTACKDESCRIPTION      TYPE  \n",
       "DATE                                                 \n",
       "2017-03-14 17:43:26.135            benign  external  \n",
       "2017-03-14 17:43:26.135            benign  external  \n",
       "2017-03-14 17:43:26.135            benign  internal  "
      ]
     },
     "execution_count": 17,
     "metadata": {},
     "output_type": "execute_result"
    }
   ],
   "source": [
    "df.head(3)"
   ]
  },
  {
   "cell_type": "code",
   "execution_count": 18,
   "metadata": {},
   "outputs": [],
   "source": [
    "df.rename(columns={\n",
    "    'SRC_PT': 'SRC_PORT', \n",
    "    'DST_PT': 'DST_PORT', \n",
    "    'ATTACKTYPE': 'ATTACK_TYPE',\n",
    "    'ATTACKID': 'ATTACK_ID',\n",
    "    'ATTACKDESCRIPTION': 'ATTACK_DESCRIPTION',\n",
    "}, inplace=True)"
   ]
  },
  {
   "cell_type": "code",
   "execution_count": 19,
   "metadata": {},
   "outputs": [],
   "source": [
    "df = df.astype({'SRC_PORT': 'int32', 'DST_PORT': 'int32'})"
   ]
  },
  {
   "cell_type": "code",
   "execution_count": 20,
   "metadata": {},
   "outputs": [
    {
     "name": "stdout",
     "output_type": "stream",
     "text": [
      "DURATION: float64\n",
      "PROTOCOL: object\n",
      "SRC_IP_ADDR: object\n",
      "SRC_PORT: int32\n",
      "DST_IP_ADDR: object\n",
      "DST_PORT: int32\n",
      "PACKETS: int64\n",
      "BYTES: object\n",
      "FLOWS: int64\n",
      "FLAGS: object\n",
      "TOS: int64\n",
      "CLASS: object\n",
      "ATTACK_TYPE: object\n",
      "ATTACK_ID: object\n",
      "ATTACK_DESCRIPTION: object\n",
      "TYPE: object\n"
     ]
    }
   ],
   "source": [
    "for col in df.columns:\n",
    "    print(\"{}: {}\".format(col, df[col].dtype))"
   ]
  },
  {
   "cell_type": "code",
   "execution_count": 21,
   "metadata": {},
   "outputs": [
    {
     "data": {
      "text/plain": [
       "DATE\n",
       "2017-03-14 17:43:26.135       9.1 M\n",
       "2017-03-14 17:43:26.135      10.3 M\n",
       "2017-03-14 17:43:26.135      10.3 M\n",
       "2017-03-14 17:43:26.135       9.1 M\n",
       "2017-03-14 17:43:39.011       5.8 M\n",
       "                             ...   \n",
       "2017-04-18 23:59:50.947         180\n",
       "2017-04-18 23:59:55.951        3493\n",
       "2017-04-18 23:59:55.951        2267\n",
       "2017-04-18 23:59:55.951        3493\n",
       "2017-04-18 23:59:55.951        2267\n",
       "Name: BYTES, Length: 11653215, dtype: object"
      ]
     },
     "execution_count": 21,
     "metadata": {},
     "output_type": "execute_result"
    }
   ],
   "source": [
    "df['BYTES']"
   ]
  },
  {
   "cell_type": "code",
   "execution_count": 22,
   "metadata": {},
   "outputs": [
    {
     "data": {
      "text/plain": [
       "DATE\n",
       "2017-03-14 17:43:26.135        normal\n",
       "2017-03-14 17:43:26.135        normal\n",
       "2017-03-14 17:43:26.135        normal\n",
       "2017-03-14 17:43:26.135        normal\n",
       "2017-03-14 17:43:39.011        normal\n",
       "                              ...    \n",
       "2017-04-18 23:59:50.947    suspicious\n",
       "2017-04-18 23:59:55.951    suspicious\n",
       "2017-04-18 23:59:55.951    suspicious\n",
       "2017-04-18 23:59:55.951    suspicious\n",
       "2017-04-18 23:59:55.951    suspicious\n",
       "Name: CLASS, Length: 11653215, dtype: object"
      ]
     },
     "execution_count": 22,
     "metadata": {},
     "output_type": "execute_result"
    }
   ],
   "source": [
    "df['CLASS']"
   ]
  },
  {
   "cell_type": "code",
   "execution_count": 23,
   "metadata": {},
   "outputs": [
    {
     "data": {
      "text/plain": [
       "1    100.0\n",
       "Name: FLOWS, dtype: float64"
      ]
     },
     "execution_count": 23,
     "metadata": {},
     "output_type": "execute_result"
    }
   ],
   "source": [
    "df['FLOWS'].value_counts(normalize=True) * 100"
   ]
  },
  {
   "cell_type": "code",
   "execution_count": 24,
   "metadata": {},
   "outputs": [],
   "source": [
    "df.drop('FLOWS', axis=1, inplace=True)"
   ]
  },
  {
   "cell_type": "code",
   "execution_count": 25,
   "metadata": {},
   "outputs": [
    {
     "data": {
      "text/html": [
       "<div>\n",
       "<style scoped>\n",
       "    .dataframe tbody tr th:only-of-type {\n",
       "        vertical-align: middle;\n",
       "    }\n",
       "\n",
       "    .dataframe tbody tr th {\n",
       "        vertical-align: top;\n",
       "    }\n",
       "\n",
       "    .dataframe thead th {\n",
       "        text-align: right;\n",
       "    }\n",
       "</style>\n",
       "<table border=\"1\" class=\"dataframe\">\n",
       "  <thead>\n",
       "    <tr style=\"text-align: right;\">\n",
       "      <th></th>\n",
       "      <th>DURATION</th>\n",
       "      <th>PROTOCOL</th>\n",
       "      <th>SRC_IP_ADDR</th>\n",
       "      <th>SRC_PORT</th>\n",
       "      <th>DST_IP_ADDR</th>\n",
       "      <th>DST_PORT</th>\n",
       "      <th>PACKETS</th>\n",
       "      <th>BYTES</th>\n",
       "      <th>FLAGS</th>\n",
       "      <th>TOS</th>\n",
       "      <th>CLASS</th>\n",
       "      <th>ATTACK_TYPE</th>\n",
       "      <th>ATTACK_ID</th>\n",
       "      <th>ATTACK_DESCRIPTION</th>\n",
       "      <th>TYPE</th>\n",
       "    </tr>\n",
       "    <tr>\n",
       "      <th>DATE</th>\n",
       "      <th></th>\n",
       "      <th></th>\n",
       "      <th></th>\n",
       "      <th></th>\n",
       "      <th></th>\n",
       "      <th></th>\n",
       "      <th></th>\n",
       "      <th></th>\n",
       "      <th></th>\n",
       "      <th></th>\n",
       "      <th></th>\n",
       "      <th></th>\n",
       "      <th></th>\n",
       "      <th></th>\n",
       "      <th></th>\n",
       "    </tr>\n",
       "  </thead>\n",
       "  <tbody>\n",
       "    <tr>\n",
       "      <th>2017-03-14 17:43:26.135</th>\n",
       "      <td>81504.787</td>\n",
       "      <td>TCP</td>\n",
       "      <td>EXT_SERVER</td>\n",
       "      <td>8082</td>\n",
       "      <td>OPENSTACK_NET</td>\n",
       "      <td>56979</td>\n",
       "      <td>8639</td>\n",
       "      <td>9.1 M</td>\n",
       "      <td>.AP...</td>\n",
       "      <td>0</td>\n",
       "      <td>normal</td>\n",
       "      <td>benign</td>\n",
       "      <td>0.0</td>\n",
       "      <td>benign</td>\n",
       "      <td>external</td>\n",
       "    </tr>\n",
       "    <tr>\n",
       "      <th>2017-03-14 17:43:26.135</th>\n",
       "      <td>81504.787</td>\n",
       "      <td>TCP</td>\n",
       "      <td>OPENSTACK_NET</td>\n",
       "      <td>56979</td>\n",
       "      <td>EXT_SERVER</td>\n",
       "      <td>8082</td>\n",
       "      <td>12024</td>\n",
       "      <td>10.3 M</td>\n",
       "      <td>.AP...</td>\n",
       "      <td>0</td>\n",
       "      <td>normal</td>\n",
       "      <td>benign</td>\n",
       "      <td>0.0</td>\n",
       "      <td>benign</td>\n",
       "      <td>external</td>\n",
       "    </tr>\n",
       "    <tr>\n",
       "      <th>2017-03-14 17:43:26.135</th>\n",
       "      <td>81504.787</td>\n",
       "      <td>TCP</td>\n",
       "      <td>OPENSTACK_NET</td>\n",
       "      <td>56979</td>\n",
       "      <td>EXT_SERVER</td>\n",
       "      <td>8082</td>\n",
       "      <td>12024</td>\n",
       "      <td>10.3 M</td>\n",
       "      <td>.AP...</td>\n",
       "      <td>0</td>\n",
       "      <td>normal</td>\n",
       "      <td>benign</td>\n",
       "      <td>0.0</td>\n",
       "      <td>benign</td>\n",
       "      <td>internal</td>\n",
       "    </tr>\n",
       "    <tr>\n",
       "      <th>2017-03-14 17:43:26.135</th>\n",
       "      <td>81504.787</td>\n",
       "      <td>TCP</td>\n",
       "      <td>EXT_SERVER</td>\n",
       "      <td>8082</td>\n",
       "      <td>OPENSTACK_NET</td>\n",
       "      <td>56979</td>\n",
       "      <td>8639</td>\n",
       "      <td>9.1 M</td>\n",
       "      <td>.AP...</td>\n",
       "      <td>0</td>\n",
       "      <td>normal</td>\n",
       "      <td>benign</td>\n",
       "      <td>0.0</td>\n",
       "      <td>benign</td>\n",
       "      <td>internal</td>\n",
       "    </tr>\n",
       "    <tr>\n",
       "      <th>2017-03-14 17:43:39.011</th>\n",
       "      <td>183418.493</td>\n",
       "      <td>TCP</td>\n",
       "      <td>OPENSTACK_NET</td>\n",
       "      <td>60802</td>\n",
       "      <td>EXT_SERVER</td>\n",
       "      <td>8082</td>\n",
       "      <td>20751</td>\n",
       "      <td>5.8 M</td>\n",
       "      <td>.AP...</td>\n",
       "      <td>0</td>\n",
       "      <td>normal</td>\n",
       "      <td>benign</td>\n",
       "      <td>0.0</td>\n",
       "      <td>benign</td>\n",
       "      <td>internal</td>\n",
       "    </tr>\n",
       "  </tbody>\n",
       "</table>\n",
       "</div>"
      ],
      "text/plain": [
       "                           DURATION PROTOCOL    SRC_IP_ADDR  SRC_PORT  \\\n",
       "DATE                                                                    \n",
       "2017-03-14 17:43:26.135   81504.787    TCP       EXT_SERVER      8082   \n",
       "2017-03-14 17:43:26.135   81504.787    TCP    OPENSTACK_NET     56979   \n",
       "2017-03-14 17:43:26.135   81504.787    TCP    OPENSTACK_NET     56979   \n",
       "2017-03-14 17:43:26.135   81504.787    TCP       EXT_SERVER      8082   \n",
       "2017-03-14 17:43:39.011  183418.493    TCP    OPENSTACK_NET     60802   \n",
       "\n",
       "                           DST_IP_ADDR  DST_PORT  PACKETS     BYTES   FLAGS  \\\n",
       "DATE                                                                          \n",
       "2017-03-14 17:43:26.135  OPENSTACK_NET     56979     8639     9.1 M  .AP...   \n",
       "2017-03-14 17:43:26.135     EXT_SERVER      8082    12024    10.3 M  .AP...   \n",
       "2017-03-14 17:43:26.135     EXT_SERVER      8082    12024    10.3 M  .AP...   \n",
       "2017-03-14 17:43:26.135  OPENSTACK_NET     56979     8639     9.1 M  .AP...   \n",
       "2017-03-14 17:43:39.011     EXT_SERVER      8082    20751     5.8 M  .AP...   \n",
       "\n",
       "                         TOS   CLASS ATTACK_TYPE ATTACK_ID ATTACK_DESCRIPTION  \\\n",
       "DATE                                                                            \n",
       "2017-03-14 17:43:26.135    0  normal      benign       0.0             benign   \n",
       "2017-03-14 17:43:26.135    0  normal      benign       0.0             benign   \n",
       "2017-03-14 17:43:26.135    0  normal      benign       0.0             benign   \n",
       "2017-03-14 17:43:26.135    0  normal      benign       0.0             benign   \n",
       "2017-03-14 17:43:39.011    0  normal      benign       0.0             benign   \n",
       "\n",
       "                             TYPE  \n",
       "DATE                               \n",
       "2017-03-14 17:43:26.135  external  \n",
       "2017-03-14 17:43:26.135  external  \n",
       "2017-03-14 17:43:26.135  internal  \n",
       "2017-03-14 17:43:26.135  internal  \n",
       "2017-03-14 17:43:39.011  internal  "
      ]
     },
     "execution_count": 25,
     "metadata": {},
     "output_type": "execute_result"
    }
   ],
   "source": [
    "df.head()"
   ]
  },
  {
   "cell_type": "code",
   "execution_count": 26,
   "metadata": {},
   "outputs": [
    {
     "data": {
      "text/plain": [
       "0      75.444107\n",
       "32     24.522048\n",
       "192     0.024483\n",
       "16      0.009362\n",
       "Name: TOS, dtype: float64"
      ]
     },
     "execution_count": 26,
     "metadata": {},
     "output_type": "execute_result"
    }
   ],
   "source": [
    "df['TOS'].value_counts(normalize=True) * 100"
   ]
  },
  {
   "cell_type": "code",
   "execution_count": 27,
   "metadata": {},
   "outputs": [],
   "source": [
    "df = df.astype({'TOS': 'int32'})"
   ]
  },
  {
   "cell_type": "code",
   "execution_count": 28,
   "metadata": {},
   "outputs": [
    {
     "data": {
      "text/html": [
       "<div>\n",
       "<style scoped>\n",
       "    .dataframe tbody tr th:only-of-type {\n",
       "        vertical-align: middle;\n",
       "    }\n",
       "\n",
       "    .dataframe tbody tr th {\n",
       "        vertical-align: top;\n",
       "    }\n",
       "\n",
       "    .dataframe thead th {\n",
       "        text-align: right;\n",
       "    }\n",
       "</style>\n",
       "<table border=\"1\" class=\"dataframe\">\n",
       "  <thead>\n",
       "    <tr style=\"text-align: right;\">\n",
       "      <th></th>\n",
       "      <th>DURATION</th>\n",
       "      <th>PROTOCOL</th>\n",
       "      <th>SRC_IP_ADDR</th>\n",
       "      <th>SRC_PORT</th>\n",
       "      <th>DST_IP_ADDR</th>\n",
       "      <th>DST_PORT</th>\n",
       "      <th>PACKETS</th>\n",
       "      <th>BYTES</th>\n",
       "      <th>FLAGS</th>\n",
       "      <th>TOS</th>\n",
       "      <th>CLASS</th>\n",
       "      <th>ATTACK_TYPE</th>\n",
       "      <th>ATTACK_ID</th>\n",
       "      <th>ATTACK_DESCRIPTION</th>\n",
       "      <th>TYPE</th>\n",
       "    </tr>\n",
       "    <tr>\n",
       "      <th>DATE</th>\n",
       "      <th></th>\n",
       "      <th></th>\n",
       "      <th></th>\n",
       "      <th></th>\n",
       "      <th></th>\n",
       "      <th></th>\n",
       "      <th></th>\n",
       "      <th></th>\n",
       "      <th></th>\n",
       "      <th></th>\n",
       "      <th></th>\n",
       "      <th></th>\n",
       "      <th></th>\n",
       "      <th></th>\n",
       "      <th></th>\n",
       "    </tr>\n",
       "  </thead>\n",
       "  <tbody>\n",
       "    <tr>\n",
       "      <th>2017-03-14 17:43:26.135</th>\n",
       "      <td>81504.787</td>\n",
       "      <td>TCP</td>\n",
       "      <td>EXT_SERVER</td>\n",
       "      <td>8082</td>\n",
       "      <td>OPENSTACK_NET</td>\n",
       "      <td>56979</td>\n",
       "      <td>8639</td>\n",
       "      <td>9.1 M</td>\n",
       "      <td>.AP...</td>\n",
       "      <td>0</td>\n",
       "      <td>normal</td>\n",
       "      <td>benign</td>\n",
       "      <td>0.0</td>\n",
       "      <td>benign</td>\n",
       "      <td>external</td>\n",
       "    </tr>\n",
       "    <tr>\n",
       "      <th>2017-03-14 17:43:26.135</th>\n",
       "      <td>81504.787</td>\n",
       "      <td>TCP</td>\n",
       "      <td>OPENSTACK_NET</td>\n",
       "      <td>56979</td>\n",
       "      <td>EXT_SERVER</td>\n",
       "      <td>8082</td>\n",
       "      <td>12024</td>\n",
       "      <td>10.3 M</td>\n",
       "      <td>.AP...</td>\n",
       "      <td>0</td>\n",
       "      <td>normal</td>\n",
       "      <td>benign</td>\n",
       "      <td>0.0</td>\n",
       "      <td>benign</td>\n",
       "      <td>external</td>\n",
       "    </tr>\n",
       "    <tr>\n",
       "      <th>2017-03-14 17:43:26.135</th>\n",
       "      <td>81504.787</td>\n",
       "      <td>TCP</td>\n",
       "      <td>OPENSTACK_NET</td>\n",
       "      <td>56979</td>\n",
       "      <td>EXT_SERVER</td>\n",
       "      <td>8082</td>\n",
       "      <td>12024</td>\n",
       "      <td>10.3 M</td>\n",
       "      <td>.AP...</td>\n",
       "      <td>0</td>\n",
       "      <td>normal</td>\n",
       "      <td>benign</td>\n",
       "      <td>0.0</td>\n",
       "      <td>benign</td>\n",
       "      <td>internal</td>\n",
       "    </tr>\n",
       "    <tr>\n",
       "      <th>2017-03-14 17:43:26.135</th>\n",
       "      <td>81504.787</td>\n",
       "      <td>TCP</td>\n",
       "      <td>EXT_SERVER</td>\n",
       "      <td>8082</td>\n",
       "      <td>OPENSTACK_NET</td>\n",
       "      <td>56979</td>\n",
       "      <td>8639</td>\n",
       "      <td>9.1 M</td>\n",
       "      <td>.AP...</td>\n",
       "      <td>0</td>\n",
       "      <td>normal</td>\n",
       "      <td>benign</td>\n",
       "      <td>0.0</td>\n",
       "      <td>benign</td>\n",
       "      <td>internal</td>\n",
       "    </tr>\n",
       "    <tr>\n",
       "      <th>2017-03-14 17:43:39.011</th>\n",
       "      <td>183418.493</td>\n",
       "      <td>TCP</td>\n",
       "      <td>OPENSTACK_NET</td>\n",
       "      <td>60802</td>\n",
       "      <td>EXT_SERVER</td>\n",
       "      <td>8082</td>\n",
       "      <td>20751</td>\n",
       "      <td>5.8 M</td>\n",
       "      <td>.AP...</td>\n",
       "      <td>0</td>\n",
       "      <td>normal</td>\n",
       "      <td>benign</td>\n",
       "      <td>0.0</td>\n",
       "      <td>benign</td>\n",
       "      <td>internal</td>\n",
       "    </tr>\n",
       "  </tbody>\n",
       "</table>\n",
       "</div>"
      ],
      "text/plain": [
       "                           DURATION PROTOCOL    SRC_IP_ADDR  SRC_PORT  \\\n",
       "DATE                                                                    \n",
       "2017-03-14 17:43:26.135   81504.787    TCP       EXT_SERVER      8082   \n",
       "2017-03-14 17:43:26.135   81504.787    TCP    OPENSTACK_NET     56979   \n",
       "2017-03-14 17:43:26.135   81504.787    TCP    OPENSTACK_NET     56979   \n",
       "2017-03-14 17:43:26.135   81504.787    TCP       EXT_SERVER      8082   \n",
       "2017-03-14 17:43:39.011  183418.493    TCP    OPENSTACK_NET     60802   \n",
       "\n",
       "                           DST_IP_ADDR  DST_PORT  PACKETS     BYTES   FLAGS  \\\n",
       "DATE                                                                          \n",
       "2017-03-14 17:43:26.135  OPENSTACK_NET     56979     8639     9.1 M  .AP...   \n",
       "2017-03-14 17:43:26.135     EXT_SERVER      8082    12024    10.3 M  .AP...   \n",
       "2017-03-14 17:43:26.135     EXT_SERVER      8082    12024    10.3 M  .AP...   \n",
       "2017-03-14 17:43:26.135  OPENSTACK_NET     56979     8639     9.1 M  .AP...   \n",
       "2017-03-14 17:43:39.011     EXT_SERVER      8082    20751     5.8 M  .AP...   \n",
       "\n",
       "                         TOS   CLASS ATTACK_TYPE ATTACK_ID ATTACK_DESCRIPTION  \\\n",
       "DATE                                                                            \n",
       "2017-03-14 17:43:26.135    0  normal      benign       0.0             benign   \n",
       "2017-03-14 17:43:26.135    0  normal      benign       0.0             benign   \n",
       "2017-03-14 17:43:26.135    0  normal      benign       0.0             benign   \n",
       "2017-03-14 17:43:26.135    0  normal      benign       0.0             benign   \n",
       "2017-03-14 17:43:39.011    0  normal      benign       0.0             benign   \n",
       "\n",
       "                             TYPE  \n",
       "DATE                               \n",
       "2017-03-14 17:43:26.135  external  \n",
       "2017-03-14 17:43:26.135  external  \n",
       "2017-03-14 17:43:26.135  internal  \n",
       "2017-03-14 17:43:26.135  internal  \n",
       "2017-03-14 17:43:39.011  internal  "
      ]
     },
     "execution_count": 28,
     "metadata": {},
     "output_type": "execute_result"
    }
   ],
   "source": [
    "df.head()"
   ]
  },
  {
   "cell_type": "code",
   "execution_count": 29,
   "metadata": {},
   "outputs": [
    {
     "data": {
      "text/plain": [
       ".A....    25.782893\n",
       ".AP.SF    16.017897\n",
       "......    11.943305\n",
       ".AP...    11.664584\n",
       ".AP.S.     8.673606\n",
       ".A..SF     7.452201\n",
       ".A...F     6.775778\n",
       ".A..S.     3.408484\n",
       ".AP..F     2.772342\n",
       "....S.     1.735667\n",
       ".A.R..     1.265582\n",
       ".APRSF     0.797746\n",
       "...R..     0.477722\n",
       "  0xdb     0.370233\n",
       ".APR.F     0.343545\n",
       "...RS.     0.217022\n",
       ".APRS.     0.108228\n",
       ".A.R.F     0.092584\n",
       ".APR..     0.059760\n",
       ".A.RSF     0.016802\n",
       ".A.RS.     0.015129\n",
       "  0xc2     0.005835\n",
       "  0xd7     0.001236\n",
       "  0xd6     0.000532\n",
       "  0xdf     0.000498\n",
       "  0xda     0.000498\n",
       "  0x52     0.000086\n",
       "  0xd3     0.000051\n",
       "  0xd2     0.000034\n",
       "  0x5a     0.000034\n",
       "  0x5b     0.000034\n",
       "  0xde     0.000017\n",
       "  0xc6     0.000017\n",
       "  0x53     0.000017\n",
       "Name: FLAGS, dtype: float64"
      ]
     },
     "execution_count": 29,
     "metadata": {},
     "output_type": "execute_result"
    }
   ],
   "source": [
    "df['FLAGS'].value_counts(normalize=True) * 100"
   ]
  },
  {
   "cell_type": "code",
   "execution_count": 30,
   "metadata": {},
   "outputs": [
    {
     "name": "stdout",
     "output_type": "stream",
     "text": [
      "DURATION: float64\n",
      "PROTOCOL: object\n",
      "SRC_IP_ADDR: object\n",
      "SRC_PORT: int32\n",
      "DST_IP_ADDR: object\n",
      "DST_PORT: int32\n",
      "PACKETS: int64\n",
      "BYTES: object\n",
      "FLAGS: object\n",
      "TOS: int32\n",
      "CLASS: object\n",
      "ATTACK_TYPE: object\n",
      "ATTACK_ID: object\n",
      "ATTACK_DESCRIPTION: object\n",
      "TYPE: object\n"
     ]
    }
   ],
   "source": [
    "for col in df.columns:\n",
    "    print(\"{}: {}\".format(col, df[col].dtype))"
   ]
  },
  {
   "cell_type": "code",
   "execution_count": 31,
   "metadata": {},
   "outputs": [
    {
     "data": {
      "text/html": [
       "<div>\n",
       "<style scoped>\n",
       "    .dataframe tbody tr th:only-of-type {\n",
       "        vertical-align: middle;\n",
       "    }\n",
       "\n",
       "    .dataframe tbody tr th {\n",
       "        vertical-align: top;\n",
       "    }\n",
       "\n",
       "    .dataframe thead th {\n",
       "        text-align: right;\n",
       "    }\n",
       "</style>\n",
       "<table border=\"1\" class=\"dataframe\">\n",
       "  <thead>\n",
       "    <tr style=\"text-align: right;\">\n",
       "      <th></th>\n",
       "      <th>DURATION</th>\n",
       "      <th>PROTOCOL</th>\n",
       "      <th>SRC_IP_ADDR</th>\n",
       "      <th>SRC_PORT</th>\n",
       "      <th>DST_IP_ADDR</th>\n",
       "      <th>DST_PORT</th>\n",
       "      <th>PACKETS</th>\n",
       "      <th>BYTES</th>\n",
       "      <th>FLAGS</th>\n",
       "      <th>TOS</th>\n",
       "      <th>CLASS</th>\n",
       "      <th>ATTACK_TYPE</th>\n",
       "      <th>ATTACK_ID</th>\n",
       "      <th>ATTACK_DESCRIPTION</th>\n",
       "      <th>TYPE</th>\n",
       "    </tr>\n",
       "    <tr>\n",
       "      <th>DATE</th>\n",
       "      <th></th>\n",
       "      <th></th>\n",
       "      <th></th>\n",
       "      <th></th>\n",
       "      <th></th>\n",
       "      <th></th>\n",
       "      <th></th>\n",
       "      <th></th>\n",
       "      <th></th>\n",
       "      <th></th>\n",
       "      <th></th>\n",
       "      <th></th>\n",
       "      <th></th>\n",
       "      <th></th>\n",
       "      <th></th>\n",
       "    </tr>\n",
       "  </thead>\n",
       "  <tbody>\n",
       "    <tr>\n",
       "      <th>2017-03-14 17:43:26.135</th>\n",
       "      <td>81504.787</td>\n",
       "      <td>TCP</td>\n",
       "      <td>EXT_SERVER</td>\n",
       "      <td>8082</td>\n",
       "      <td>OPENSTACK_NET</td>\n",
       "      <td>56979</td>\n",
       "      <td>8639</td>\n",
       "      <td>9.1 M</td>\n",
       "      <td>.AP...</td>\n",
       "      <td>0</td>\n",
       "      <td>normal</td>\n",
       "      <td>benign</td>\n",
       "      <td>0.0</td>\n",
       "      <td>benign</td>\n",
       "      <td>external</td>\n",
       "    </tr>\n",
       "    <tr>\n",
       "      <th>2017-03-14 17:43:26.135</th>\n",
       "      <td>81504.787</td>\n",
       "      <td>TCP</td>\n",
       "      <td>OPENSTACK_NET</td>\n",
       "      <td>56979</td>\n",
       "      <td>EXT_SERVER</td>\n",
       "      <td>8082</td>\n",
       "      <td>12024</td>\n",
       "      <td>10.3 M</td>\n",
       "      <td>.AP...</td>\n",
       "      <td>0</td>\n",
       "      <td>normal</td>\n",
       "      <td>benign</td>\n",
       "      <td>0.0</td>\n",
       "      <td>benign</td>\n",
       "      <td>external</td>\n",
       "    </tr>\n",
       "    <tr>\n",
       "      <th>2017-03-14 17:43:26.135</th>\n",
       "      <td>81504.787</td>\n",
       "      <td>TCP</td>\n",
       "      <td>OPENSTACK_NET</td>\n",
       "      <td>56979</td>\n",
       "      <td>EXT_SERVER</td>\n",
       "      <td>8082</td>\n",
       "      <td>12024</td>\n",
       "      <td>10.3 M</td>\n",
       "      <td>.AP...</td>\n",
       "      <td>0</td>\n",
       "      <td>normal</td>\n",
       "      <td>benign</td>\n",
       "      <td>0.0</td>\n",
       "      <td>benign</td>\n",
       "      <td>internal</td>\n",
       "    </tr>\n",
       "  </tbody>\n",
       "</table>\n",
       "</div>"
      ],
      "text/plain": [
       "                          DURATION PROTOCOL    SRC_IP_ADDR  SRC_PORT  \\\n",
       "DATE                                                                   \n",
       "2017-03-14 17:43:26.135  81504.787    TCP       EXT_SERVER      8082   \n",
       "2017-03-14 17:43:26.135  81504.787    TCP    OPENSTACK_NET     56979   \n",
       "2017-03-14 17:43:26.135  81504.787    TCP    OPENSTACK_NET     56979   \n",
       "\n",
       "                           DST_IP_ADDR  DST_PORT  PACKETS     BYTES   FLAGS  \\\n",
       "DATE                                                                          \n",
       "2017-03-14 17:43:26.135  OPENSTACK_NET     56979     8639     9.1 M  .AP...   \n",
       "2017-03-14 17:43:26.135     EXT_SERVER      8082    12024    10.3 M  .AP...   \n",
       "2017-03-14 17:43:26.135     EXT_SERVER      8082    12024    10.3 M  .AP...   \n",
       "\n",
       "                         TOS   CLASS ATTACK_TYPE ATTACK_ID ATTACK_DESCRIPTION  \\\n",
       "DATE                                                                            \n",
       "2017-03-14 17:43:26.135    0  normal      benign       0.0             benign   \n",
       "2017-03-14 17:43:26.135    0  normal      benign       0.0             benign   \n",
       "2017-03-14 17:43:26.135    0  normal      benign       0.0             benign   \n",
       "\n",
       "                             TYPE  \n",
       "DATE                               \n",
       "2017-03-14 17:43:26.135  external  \n",
       "2017-03-14 17:43:26.135  external  \n",
       "2017-03-14 17:43:26.135  internal  "
      ]
     },
     "execution_count": 31,
     "metadata": {},
     "output_type": "execute_result"
    }
   ],
   "source": [
    "df.head(3)"
   ]
  },
  {
   "cell_type": "code",
   "execution_count": 32,
   "metadata": {},
   "outputs": [],
   "source": [
    "import re\n",
    "\n",
    "def format_bytes(val):\n",
    "    r = re.compile(\"\\ M$\")  \n",
    "    if r.search(str(val)):\n",
    "        return 1024 * float(re.findall('\\d+\\.\\d+', val)[0])\n",
    "    else:\n",
    "        return float(val)"
   ]
  },
  {
   "cell_type": "code",
   "execution_count": 33,
   "metadata": {},
   "outputs": [],
   "source": [
    "df['BYTES'] = df['BYTES'].apply(lambda x: format_bytes(x))"
   ]
  },
  {
   "cell_type": "code",
   "execution_count": 34,
   "metadata": {},
   "outputs": [
    {
     "data": {
      "text/html": [
       "<div>\n",
       "<style scoped>\n",
       "    .dataframe tbody tr th:only-of-type {\n",
       "        vertical-align: middle;\n",
       "    }\n",
       "\n",
       "    .dataframe tbody tr th {\n",
       "        vertical-align: top;\n",
       "    }\n",
       "\n",
       "    .dataframe thead th {\n",
       "        text-align: right;\n",
       "    }\n",
       "</style>\n",
       "<table border=\"1\" class=\"dataframe\">\n",
       "  <thead>\n",
       "    <tr style=\"text-align: right;\">\n",
       "      <th></th>\n",
       "      <th>DURATION</th>\n",
       "      <th>PROTOCOL</th>\n",
       "      <th>SRC_IP_ADDR</th>\n",
       "      <th>SRC_PORT</th>\n",
       "      <th>DST_IP_ADDR</th>\n",
       "      <th>DST_PORT</th>\n",
       "      <th>PACKETS</th>\n",
       "      <th>BYTES</th>\n",
       "      <th>FLAGS</th>\n",
       "      <th>TOS</th>\n",
       "      <th>CLASS</th>\n",
       "      <th>ATTACK_TYPE</th>\n",
       "      <th>ATTACK_ID</th>\n",
       "      <th>ATTACK_DESCRIPTION</th>\n",
       "      <th>TYPE</th>\n",
       "    </tr>\n",
       "    <tr>\n",
       "      <th>DATE</th>\n",
       "      <th></th>\n",
       "      <th></th>\n",
       "      <th></th>\n",
       "      <th></th>\n",
       "      <th></th>\n",
       "      <th></th>\n",
       "      <th></th>\n",
       "      <th></th>\n",
       "      <th></th>\n",
       "      <th></th>\n",
       "      <th></th>\n",
       "      <th></th>\n",
       "      <th></th>\n",
       "      <th></th>\n",
       "      <th></th>\n",
       "    </tr>\n",
       "  </thead>\n",
       "  <tbody>\n",
       "    <tr>\n",
       "      <th>2017-03-14 17:43:26.135</th>\n",
       "      <td>81504.787</td>\n",
       "      <td>TCP</td>\n",
       "      <td>EXT_SERVER</td>\n",
       "      <td>8082</td>\n",
       "      <td>OPENSTACK_NET</td>\n",
       "      <td>56979</td>\n",
       "      <td>8639</td>\n",
       "      <td>9318.4</td>\n",
       "      <td>.AP...</td>\n",
       "      <td>0</td>\n",
       "      <td>normal</td>\n",
       "      <td>benign</td>\n",
       "      <td>0.0</td>\n",
       "      <td>benign</td>\n",
       "      <td>external</td>\n",
       "    </tr>\n",
       "    <tr>\n",
       "      <th>2017-03-14 17:43:26.135</th>\n",
       "      <td>81504.787</td>\n",
       "      <td>TCP</td>\n",
       "      <td>OPENSTACK_NET</td>\n",
       "      <td>56979</td>\n",
       "      <td>EXT_SERVER</td>\n",
       "      <td>8082</td>\n",
       "      <td>12024</td>\n",
       "      <td>10547.2</td>\n",
       "      <td>.AP...</td>\n",
       "      <td>0</td>\n",
       "      <td>normal</td>\n",
       "      <td>benign</td>\n",
       "      <td>0.0</td>\n",
       "      <td>benign</td>\n",
       "      <td>external</td>\n",
       "    </tr>\n",
       "    <tr>\n",
       "      <th>2017-03-14 17:43:26.135</th>\n",
       "      <td>81504.787</td>\n",
       "      <td>TCP</td>\n",
       "      <td>OPENSTACK_NET</td>\n",
       "      <td>56979</td>\n",
       "      <td>EXT_SERVER</td>\n",
       "      <td>8082</td>\n",
       "      <td>12024</td>\n",
       "      <td>10547.2</td>\n",
       "      <td>.AP...</td>\n",
       "      <td>0</td>\n",
       "      <td>normal</td>\n",
       "      <td>benign</td>\n",
       "      <td>0.0</td>\n",
       "      <td>benign</td>\n",
       "      <td>internal</td>\n",
       "    </tr>\n",
       "    <tr>\n",
       "      <th>2017-03-14 17:43:26.135</th>\n",
       "      <td>81504.787</td>\n",
       "      <td>TCP</td>\n",
       "      <td>EXT_SERVER</td>\n",
       "      <td>8082</td>\n",
       "      <td>OPENSTACK_NET</td>\n",
       "      <td>56979</td>\n",
       "      <td>8639</td>\n",
       "      <td>9318.4</td>\n",
       "      <td>.AP...</td>\n",
       "      <td>0</td>\n",
       "      <td>normal</td>\n",
       "      <td>benign</td>\n",
       "      <td>0.0</td>\n",
       "      <td>benign</td>\n",
       "      <td>internal</td>\n",
       "    </tr>\n",
       "    <tr>\n",
       "      <th>2017-03-14 17:43:39.011</th>\n",
       "      <td>183418.493</td>\n",
       "      <td>TCP</td>\n",
       "      <td>OPENSTACK_NET</td>\n",
       "      <td>60802</td>\n",
       "      <td>EXT_SERVER</td>\n",
       "      <td>8082</td>\n",
       "      <td>20751</td>\n",
       "      <td>5939.2</td>\n",
       "      <td>.AP...</td>\n",
       "      <td>0</td>\n",
       "      <td>normal</td>\n",
       "      <td>benign</td>\n",
       "      <td>0.0</td>\n",
       "      <td>benign</td>\n",
       "      <td>internal</td>\n",
       "    </tr>\n",
       "  </tbody>\n",
       "</table>\n",
       "</div>"
      ],
      "text/plain": [
       "                           DURATION PROTOCOL    SRC_IP_ADDR  SRC_PORT  \\\n",
       "DATE                                                                    \n",
       "2017-03-14 17:43:26.135   81504.787    TCP       EXT_SERVER      8082   \n",
       "2017-03-14 17:43:26.135   81504.787    TCP    OPENSTACK_NET     56979   \n",
       "2017-03-14 17:43:26.135   81504.787    TCP    OPENSTACK_NET     56979   \n",
       "2017-03-14 17:43:26.135   81504.787    TCP       EXT_SERVER      8082   \n",
       "2017-03-14 17:43:39.011  183418.493    TCP    OPENSTACK_NET     60802   \n",
       "\n",
       "                           DST_IP_ADDR  DST_PORT  PACKETS    BYTES   FLAGS  \\\n",
       "DATE                                                                         \n",
       "2017-03-14 17:43:26.135  OPENSTACK_NET     56979     8639   9318.4  .AP...   \n",
       "2017-03-14 17:43:26.135     EXT_SERVER      8082    12024  10547.2  .AP...   \n",
       "2017-03-14 17:43:26.135     EXT_SERVER      8082    12024  10547.2  .AP...   \n",
       "2017-03-14 17:43:26.135  OPENSTACK_NET     56979     8639   9318.4  .AP...   \n",
       "2017-03-14 17:43:39.011     EXT_SERVER      8082    20751   5939.2  .AP...   \n",
       "\n",
       "                         TOS   CLASS ATTACK_TYPE ATTACK_ID ATTACK_DESCRIPTION  \\\n",
       "DATE                                                                            \n",
       "2017-03-14 17:43:26.135    0  normal      benign       0.0             benign   \n",
       "2017-03-14 17:43:26.135    0  normal      benign       0.0             benign   \n",
       "2017-03-14 17:43:26.135    0  normal      benign       0.0             benign   \n",
       "2017-03-14 17:43:26.135    0  normal      benign       0.0             benign   \n",
       "2017-03-14 17:43:39.011    0  normal      benign       0.0             benign   \n",
       "\n",
       "                             TYPE  \n",
       "DATE                               \n",
       "2017-03-14 17:43:26.135  external  \n",
       "2017-03-14 17:43:26.135  external  \n",
       "2017-03-14 17:43:26.135  internal  \n",
       "2017-03-14 17:43:26.135  internal  \n",
       "2017-03-14 17:43:39.011  internal  "
      ]
     },
     "execution_count": 34,
     "metadata": {},
     "output_type": "execute_result"
    }
   ],
   "source": [
    "df.head()"
   ]
  },
  {
   "cell_type": "code",
   "execution_count": 35,
   "metadata": {},
   "outputs": [
    {
     "data": {
      "text/plain": [
       "dtype('float64')"
      ]
     },
     "execution_count": 35,
     "metadata": {},
     "output_type": "execute_result"
    }
   ],
   "source": [
    "df['BYTES'].dtype"
   ]
  },
  {
   "cell_type": "code",
   "execution_count": 36,
   "metadata": {},
   "outputs": [
    {
     "data": {
      "text/plain": [
       "192.168.220.15    16.548815\n",
       "192.168.100.6      7.365839\n",
       "EXT_SERVER         6.268785\n",
       "DNS                5.265139\n",
       "192.168.200.8      3.194955\n",
       "                    ...    \n",
       "16082_145          0.000009\n",
       "12347_4            0.000009\n",
       "13053_42           0.000009\n",
       "13304_90           0.000009\n",
       "13913_40           0.000009\n",
       "Name: SRC_IP_ADDR, Length: 43442, dtype: float64"
      ]
     },
     "execution_count": 36,
     "metadata": {},
     "output_type": "execute_result"
    }
   ],
   "source": [
    "df['SRC_IP_ADDR'].value_counts(normalize=True) * 100"
   ]
  },
  {
   "cell_type": "code",
   "execution_count": 37,
   "metadata": {},
   "outputs": [
    {
     "data": {
      "text/plain": [
       "192.168.220.15     16.296644\n",
       "192.168.100.6       7.380023\n",
       "EXT_SERVER          6.363617\n",
       "DNS                 5.257965\n",
       "192.168.200.8       3.154340\n",
       "                     ...    \n",
       "192.168.200.141     0.000009\n",
       "192.168.200.254     0.000009\n",
       "192.168.200.24      0.000009\n",
       "13060_114           0.000009\n",
       "15776_38            0.000009\n",
       "Name: DST_IP_ADDR, Length: 44023, dtype: float64"
      ]
     },
     "execution_count": 37,
     "metadata": {},
     "output_type": "execute_result"
    }
   ],
   "source": [
    "df['DST_IP_ADDR'].value_counts(normalize=True) * 100"
   ]
  },
  {
   "cell_type": "code",
   "execution_count": 38,
   "metadata": {},
   "outputs": [],
   "source": [
    "df.to_csv('{}/CIDDS-001/traffic/mixed.csv'.format(data_dir))"
   ]
  },
  {
   "cell_type": "code",
   "execution_count": null,
   "metadata": {},
   "outputs": [],
   "source": []
  }
 ],
 "metadata": {
  "kernelspec": {
   "display_name": "Python 3",
   "language": "python",
   "name": "python3"
  },
  "language_info": {
   "codemirror_mode": {
    "name": "ipython",
    "version": 3
   },
   "file_extension": ".py",
   "mimetype": "text/x-python",
   "name": "python",
   "nbconvert_exporter": "python",
   "pygments_lexer": "ipython3",
   "version": "3.9.1"
  }
 },
 "nbformat": 4,
 "nbformat_minor": 4
}
