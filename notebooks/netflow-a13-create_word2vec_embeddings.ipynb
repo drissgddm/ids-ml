{
 "cells": [
  {
   "cell_type": "code",
   "execution_count": 1,
   "metadata": {},
   "outputs": [],
   "source": [
    "import pandas as pd\n",
    "import numpy as np"
   ]
  },
  {
   "cell_type": "code",
   "execution_count": 2,
   "metadata": {},
   "outputs": [
    {
     "data": {
      "text/html": [
       "<div>\n",
       "<style scoped>\n",
       "    .dataframe tbody tr th:only-of-type {\n",
       "        vertical-align: middle;\n",
       "    }\n",
       "\n",
       "    .dataframe tbody tr th {\n",
       "        vertical-align: top;\n",
       "    }\n",
       "\n",
       "    .dataframe thead th {\n",
       "        text-align: right;\n",
       "    }\n",
       "</style>\n",
       "<table border=\"1\" class=\"dataframe\">\n",
       "  <thead>\n",
       "    <tr style=\"text-align: right;\">\n",
       "      <th></th>\n",
       "      <th>DURATION</th>\n",
       "      <th>PROTOCOL</th>\n",
       "      <th>PACKETS</th>\n",
       "      <th>BYTES</th>\n",
       "      <th>TOS</th>\n",
       "      <th>ATTACK_TYPE</th>\n",
       "      <th>TYPE</th>\n",
       "      <th>SRC</th>\n",
       "      <th>DST</th>\n",
       "    </tr>\n",
       "    <tr>\n",
       "      <th>DATE</th>\n",
       "      <th></th>\n",
       "      <th></th>\n",
       "      <th></th>\n",
       "      <th></th>\n",
       "      <th></th>\n",
       "      <th></th>\n",
       "      <th></th>\n",
       "      <th></th>\n",
       "      <th></th>\n",
       "    </tr>\n",
       "  </thead>\n",
       "  <tbody>\n",
       "    <tr>\n",
       "      <th>2017-03-27 08:50:48.506</th>\n",
       "      <td>0.425</td>\n",
       "      <td>TCP</td>\n",
       "      <td>14</td>\n",
       "      <td>5390.0</td>\n",
       "      <td>32</td>\n",
       "      <td>benign</td>\n",
       "      <td>internal</td>\n",
       "      <td>10433_120:443</td>\n",
       "      <td>192.168.210.5:51340</td>\n",
       "    </tr>\n",
       "    <tr>\n",
       "      <th>2017-03-27 12:17:12.579</th>\n",
       "      <td>0.000</td>\n",
       "      <td>TCP</td>\n",
       "      <td>1</td>\n",
       "      <td>66.0</td>\n",
       "      <td>32</td>\n",
       "      <td>benign</td>\n",
       "      <td>internal</td>\n",
       "      <td>14469_126:443</td>\n",
       "      <td>192.168.220.15:45510</td>\n",
       "    </tr>\n",
       "    <tr>\n",
       "      <th>2017-03-22 10:43:39.938</th>\n",
       "      <td>0.000</td>\n",
       "      <td>UDP</td>\n",
       "      <td>1</td>\n",
       "      <td>161.0</td>\n",
       "      <td>0</td>\n",
       "      <td>benign</td>\n",
       "      <td>internal</td>\n",
       "      <td>DNS:53</td>\n",
       "      <td>192.168.210.4:60918</td>\n",
       "    </tr>\n",
       "    <tr>\n",
       "      <th>2017-03-24 06:10:27.875</th>\n",
       "      <td>0.213</td>\n",
       "      <td>TCP</td>\n",
       "      <td>5</td>\n",
       "      <td>865.0</td>\n",
       "      <td>0</td>\n",
       "      <td>benign</td>\n",
       "      <td>internal</td>\n",
       "      <td>192.168.220.4:45889</td>\n",
       "      <td>10371_48:80</td>\n",
       "    </tr>\n",
       "    <tr>\n",
       "      <th>2017-03-19 02:55:40.569</th>\n",
       "      <td>0.042</td>\n",
       "      <td>TCP</td>\n",
       "      <td>6</td>\n",
       "      <td>515.0</td>\n",
       "      <td>0</td>\n",
       "      <td>benign</td>\n",
       "      <td>internal</td>\n",
       "      <td>OPENSTACK_NET:59648</td>\n",
       "      <td>EXT_SERVER:8000</td>\n",
       "    </tr>\n",
       "  </tbody>\n",
       "</table>\n",
       "</div>"
      ],
      "text/plain": [
       "                         DURATION PROTOCOL  PACKETS   BYTES  TOS ATTACK_TYPE  \\\n",
       "DATE                                                                           \n",
       "2017-03-27 08:50:48.506     0.425    TCP         14  5390.0   32      benign   \n",
       "2017-03-27 12:17:12.579     0.000    TCP          1    66.0   32      benign   \n",
       "2017-03-22 10:43:39.938     0.000    UDP          1   161.0    0      benign   \n",
       "2017-03-24 06:10:27.875     0.213    TCP          5   865.0    0      benign   \n",
       "2017-03-19 02:55:40.569     0.042    TCP          6   515.0    0      benign   \n",
       "\n",
       "                             TYPE                  SRC                   DST  \n",
       "DATE                                                                          \n",
       "2017-03-27 08:50:48.506  internal        10433_120:443   192.168.210.5:51340  \n",
       "2017-03-27 12:17:12.579  internal        14469_126:443  192.168.220.15:45510  \n",
       "2017-03-22 10:43:39.938  internal               DNS:53   192.168.210.4:60918  \n",
       "2017-03-24 06:10:27.875  internal  192.168.220.4:45889           10371_48:80  \n",
       "2017-03-19 02:55:40.569  internal  OPENSTACK_NET:59648       EXT_SERVER:8000  "
      ]
     },
     "execution_count": 2,
     "metadata": {},
     "output_type": "execute_result"
    }
   ],
   "source": [
    "df = pd.read_csv('data/netflow/CIDDS-001/traffic/mixed.csv', index_col='DATE')\n",
    "df.drop(['FLAGS', 'CLASS', 'ATTACK_ID', 'ATTACK_DESCRIPTION'], axis=1, inplace=True)\n",
    "\n",
    "df = df.sample(frac=1).iloc[:1000]\n",
    "\n",
    "df['SRC'] = df['SRC_IP_ADDR'].str.cat(df['SRC_PORT'].astype(str), sep=':')\n",
    "df['DST'] = df['DST_IP_ADDR'].str.cat(df['DST_PORT'].astype(str), sep=':')\n",
    "df.drop(['SRC_IP_ADDR', 'SRC_PORT', 'DST_IP_ADDR', 'DST_PORT'], axis=1, inplace=True)\n",
    "df.head()"
   ]
  },
  {
   "cell_type": "code",
   "execution_count": 3,
   "metadata": {},
   "outputs": [
    {
     "name": "stdout",
     "output_type": "stream",
     "text": [
      "Processing feature PROTOCOL\n",
      "Processing feature TYPE\n",
      "Processing feature TOS\n",
      "Processing feature ATTACK_TYPE\n",
      "Processing feature SRC\n",
      "Processing feature DST\n"
     ]
    }
   ],
   "source": [
    "from sklearn.preprocessing import LabelEncoder\n",
    "\n",
    "def label_encode(series_to_encode):\n",
    "    lb_e = LabelEncoder()\n",
    "    return lb_e, lb_e.fit_transform(series_to_encode)\n",
    "\n",
    "FEATURES_TO_LABELENCODE = ['PROTOCOL', 'TYPE', 'TOS', 'ATTACK_TYPE', 'SRC', 'DST']\n",
    "encoders = {}\n",
    "\n",
    "for f in FEATURES_TO_LABELENCODE:\n",
    "    print(\"Processing feature {}\".format(f))\n",
    "    encoders[f], df[f] = label_encode(df[f])"
   ]
  },
  {
   "cell_type": "code",
   "execution_count": 4,
   "metadata": {},
   "outputs": [
    {
     "data": {
      "text/html": [
       "<div>\n",
       "<style scoped>\n",
       "    .dataframe tbody tr th:only-of-type {\n",
       "        vertical-align: middle;\n",
       "    }\n",
       "\n",
       "    .dataframe tbody tr th {\n",
       "        vertical-align: top;\n",
       "    }\n",
       "\n",
       "    .dataframe thead th {\n",
       "        text-align: right;\n",
       "    }\n",
       "</style>\n",
       "<table border=\"1\" class=\"dataframe\">\n",
       "  <thead>\n",
       "    <tr style=\"text-align: right;\">\n",
       "      <th></th>\n",
       "      <th>ID</th>\n",
       "      <th>COLOR</th>\n",
       "    </tr>\n",
       "  </thead>\n",
       "  <tbody>\n",
       "    <tr>\n",
       "      <th>0</th>\n",
       "      <td>133</td>\n",
       "      <td>#000000</td>\n",
       "    </tr>\n",
       "    <tr>\n",
       "      <th>1</th>\n",
       "      <td>232</td>\n",
       "      <td>#000000</td>\n",
       "    </tr>\n",
       "    <tr>\n",
       "      <th>2</th>\n",
       "      <td>721</td>\n",
       "      <td>#000000</td>\n",
       "    </tr>\n",
       "    <tr>\n",
       "      <th>3</th>\n",
       "      <td>613</td>\n",
       "      <td>#000000</td>\n",
       "    </tr>\n",
       "    <tr>\n",
       "      <th>4</th>\n",
       "      <td>735</td>\n",
       "      <td>#000000</td>\n",
       "    </tr>\n",
       "  </tbody>\n",
       "</table>\n",
       "</div>"
      ],
      "text/plain": [
       "    ID    COLOR\n",
       "0  133  #000000\n",
       "1  232  #000000\n",
       "2  721  #000000\n",
       "3  613  #000000\n",
       "4  735  #000000"
      ]
     },
     "execution_count": 4,
     "metadata": {},
     "output_type": "execute_result"
    }
   ],
   "source": [
    "nodes_df = pd.concat([\n",
    "    df[['SRC', 'TYPE']].rename(columns={'SRC': 'ID'}).reset_index(drop=True), \n",
    "    df[['DST', 'TYPE']].rename(columns={'DST': 'ID'}).reset_index(drop=True)\n",
    "]).drop_duplicates()\n",
    "\n",
    "nodes_df['COLOR'] = np.where(nodes_df['TYPE'] == 0, \"#107be6\", \"#000000\")\n",
    "nodes_df.drop('TYPE', axis=1, inplace=True)\n",
    "\n",
    "nodes_df.head()"
   ]
  },
  {
   "cell_type": "code",
   "execution_count": 5,
   "metadata": {},
   "outputs": [
    {
     "data": {
      "text/html": [
       "<div>\n",
       "<style scoped>\n",
       "    .dataframe tbody tr th:only-of-type {\n",
       "        vertical-align: middle;\n",
       "    }\n",
       "\n",
       "    .dataframe tbody tr th {\n",
       "        vertical-align: top;\n",
       "    }\n",
       "\n",
       "    .dataframe thead th {\n",
       "        text-align: right;\n",
       "    }\n",
       "</style>\n",
       "<table border=\"1\" class=\"dataframe\">\n",
       "  <thead>\n",
       "    <tr style=\"text-align: right;\">\n",
       "      <th></th>\n",
       "      <th>SRC</th>\n",
       "      <th>DST</th>\n",
       "      <th>DURATION</th>\n",
       "      <th>PROTOCOL</th>\n",
       "      <th>PACKETS</th>\n",
       "      <th>BYTES</th>\n",
       "      <th>TOS</th>\n",
       "      <th>ATTACK_TYPE</th>\n",
       "      <th>SPEED</th>\n",
       "    </tr>\n",
       "  </thead>\n",
       "  <tbody>\n",
       "    <tr>\n",
       "      <th>0</th>\n",
       "      <td>133</td>\n",
       "      <td>315</td>\n",
       "      <td>0.425</td>\n",
       "      <td>1</td>\n",
       "      <td>14</td>\n",
       "      <td>5390.0</td>\n",
       "      <td>1</td>\n",
       "      <td>0</td>\n",
       "      <td>12682.352941</td>\n",
       "    </tr>\n",
       "    <tr>\n",
       "      <th>1</th>\n",
       "      <td>232</td>\n",
       "      <td>493</td>\n",
       "      <td>0.000</td>\n",
       "      <td>1</td>\n",
       "      <td>1</td>\n",
       "      <td>66.0</td>\n",
       "      <td>1</td>\n",
       "      <td>0</td>\n",
       "      <td>0.010000</td>\n",
       "    </tr>\n",
       "    <tr>\n",
       "      <th>2</th>\n",
       "      <td>721</td>\n",
       "      <td>308</td>\n",
       "      <td>0.000</td>\n",
       "      <td>2</td>\n",
       "      <td>1</td>\n",
       "      <td>161.0</td>\n",
       "      <td>0</td>\n",
       "      <td>0</td>\n",
       "      <td>0.010000</td>\n",
       "    </tr>\n",
       "    <tr>\n",
       "      <th>3</th>\n",
       "      <td>613</td>\n",
       "      <td>132</td>\n",
       "      <td>0.213</td>\n",
       "      <td>1</td>\n",
       "      <td>5</td>\n",
       "      <td>865.0</td>\n",
       "      <td>0</td>\n",
       "      <td>0</td>\n",
       "      <td>4061.032864</td>\n",
       "    </tr>\n",
       "    <tr>\n",
       "      <th>4</th>\n",
       "      <td>735</td>\n",
       "      <td>722</td>\n",
       "      <td>0.042</td>\n",
       "      <td>1</td>\n",
       "      <td>6</td>\n",
       "      <td>515.0</td>\n",
       "      <td>0</td>\n",
       "      <td>0</td>\n",
       "      <td>12261.904762</td>\n",
       "    </tr>\n",
       "  </tbody>\n",
       "</table>\n",
       "</div>"
      ],
      "text/plain": [
       "   SRC  DST  DURATION  PROTOCOL  PACKETS   BYTES  TOS  ATTACK_TYPE  \\\n",
       "0  133  315     0.425         1       14  5390.0    1            0   \n",
       "1  232  493     0.000         1        1    66.0    1            0   \n",
       "2  721  308     0.000         2        1   161.0    0            0   \n",
       "3  613  132     0.213         1        5   865.0    0            0   \n",
       "4  735  722     0.042         1        6   515.0    0            0   \n",
       "\n",
       "          SPEED  \n",
       "0  12682.352941  \n",
       "1      0.010000  \n",
       "2      0.010000  \n",
       "3   4061.032864  \n",
       "4  12261.904762  "
      ]
     },
     "execution_count": 5,
     "metadata": {},
     "output_type": "execute_result"
    }
   ],
   "source": [
    "edges_df = df[['SRC', 'DST', 'DURATION', 'PROTOCOL', 'PACKETS', 'BYTES', 'TOS', 'ATTACK_TYPE']]\n",
    "edges_df['SPEED'] = edges_df['BYTES'] / edges_df['DURATION']\n",
    "edges_df['SPEED'] = edges_df['SPEED'].replace([np.inf, -np.inf], 0.01)\n",
    "\n",
    "edges_df.reset_index(inplace=True, drop=True)\n",
    "\n",
    "edges_df.head()"
   ]
  },
  {
   "cell_type": "code",
   "execution_count": 6,
   "metadata": {},
   "outputs": [],
   "source": [
    "import os, sys\n",
    "sys.path.append(os.path.join(os.path.dirname('notebooks'), '..'))\n",
    "\n",
    "from graphs.multigraph import Multigraph\n",
    "from embeddings.b_word2vec import Word2VecBaseline"
   ]
  },
  {
   "cell_type": "code",
   "execution_count": 7,
   "metadata": {},
   "outputs": [],
   "source": [
    "multigraph = Multigraph()\n",
    "\n",
    "multigraph.add_nodes(nodes_df)\n",
    "multigraph.add_edges(edges_df)\n",
    "\n",
    "# multigraph.plot()"
   ]
  },
  {
   "cell_type": "code",
   "execution_count": 10,
   "metadata": {},
   "outputs": [],
   "source": [
    "from stellargraph.data import BiasedRandomWalk\n",
    "from stellargraph import StellarGraph\n",
    "from gensim.models import Word2Vec"
   ]
  },
  {
   "cell_type": "code",
   "execution_count": 15,
   "metadata": {},
   "outputs": [
    {
     "name": "stdout",
     "output_type": "stream",
     "text": [
      "Requirement already satisfied: gensim==4.0.0 in /home/driss/miniconda3/envs/ids-ml/lib/python3.8/site-packages (4.0.0)\r\n",
      "Requirement already satisfied: numpy>=1.11.3 in /home/driss/miniconda3/envs/ids-ml/lib/python3.8/site-packages (from gensim==4.0.0) (1.19.5)\r\n",
      "Requirement already satisfied: smart-open>=1.8.1 in /home/driss/miniconda3/envs/ids-ml/lib/python3.8/site-packages (from gensim==4.0.0) (4.2.0)\r\n",
      "Requirement already satisfied: scipy>=0.18.1 in /home/driss/miniconda3/envs/ids-ml/lib/python3.8/site-packages (from gensim==4.0.0) (1.6.2)\r\n"
     ]
    }
   ],
   "source": [
    "!pip install gensim==4.0.0"
   ]
  },
  {
   "cell_type": "code",
   "execution_count": 16,
   "metadata": {},
   "outputs": [],
   "source": [
    "networkx_graph = multigraph._G\n",
    "\n",
    "rw = BiasedRandomWalk(StellarGraph.from_networkx(networkx_graph))\n",
    "\n",
    "walks = (\n",
    "    [\n",
    "        list(map(str, walk))\n",
    "        for walk in rw.run(\n",
    "            nodes=list(networkx_graph.nodes()),  # root nodes\n",
    "            length=100,  # maximum length of a random walk\n",
    "            n=10,  # number of random walks per root node\n",
    "            p=0.5,  # Defines (unormalised) probability, 1/p, of returning to source node\n",
    "            q=2.0,  # Defines (unormalised) probability, 1/q, for moving away from source node\n",
    "        )\n",
    "    ],\n",
    ")"
   ]
  },
  {
   "cell_type": "code",
   "execution_count": 21,
   "metadata": {},
   "outputs": [
    {
     "ename": "TypeError",
     "evalue": "__init__() got an unexpected keyword argument 'size'",
     "output_type": "error",
     "traceback": [
      "\u001b[0;31m---------------------------------------------------------------------------\u001b[0m",
      "\u001b[0;31mTypeError\u001b[0m                                 Traceback (most recent call last)",
      "\u001b[0;32m<ipython-input-21-203fb13172d8>\u001b[0m in \u001b[0;36m<module>\u001b[0;34m\u001b[0m\n\u001b[0;32m----> 1\u001b[0;31m \u001b[0mWord2Vec\u001b[0m\u001b[0;34m(\u001b[0m\u001b[0mwalks\u001b[0m\u001b[0;34m,\u001b[0m \u001b[0msize\u001b[0m\u001b[0;34m=\u001b[0m\u001b[0;36m4\u001b[0m\u001b[0;34m,\u001b[0m \u001b[0mwindow\u001b[0m\u001b[0;34m=\u001b[0m\u001b[0;36m5\u001b[0m\u001b[0;34m,\u001b[0m \u001b[0mmin_count\u001b[0m\u001b[0;34m=\u001b[0m\u001b[0;36m0\u001b[0m\u001b[0;34m,\u001b[0m \u001b[0msg\u001b[0m\u001b[0;34m=\u001b[0m\u001b[0;36m1\u001b[0m\u001b[0;34m,\u001b[0m \u001b[0mworkers\u001b[0m\u001b[0;34m=\u001b[0m\u001b[0;36m2\u001b[0m\u001b[0;34m,\u001b[0m \u001b[0miter\u001b[0m\u001b[0;34m=\u001b[0m\u001b[0;36m1\u001b[0m\u001b[0;34m)\u001b[0m\u001b[0;34m\u001b[0m\u001b[0;34m\u001b[0m\u001b[0m\n\u001b[0m",
      "\u001b[0;31mTypeError\u001b[0m: __init__() got an unexpected keyword argument 'size'"
     ]
    }
   ],
   "source": [
    "Word2Vec(walks, size=4, window=5, min_count=0, sg=1, workers=2, iter=1)"
   ]
  },
  {
   "cell_type": "code",
   "execution_count": 8,
   "metadata": {},
   "outputs": [
    {
     "ename": "TypeError",
     "evalue": "__init__() got an unexpected keyword argument 'size'",
     "output_type": "error",
     "traceback": [
      "\u001b[0;31m---------------------------------------------------------------------------\u001b[0m",
      "\u001b[0;31mTypeError\u001b[0m                                 Traceback (most recent call last)",
      "\u001b[0;32m<ipython-input-8-6714ddc277d2>\u001b[0m in \u001b[0;36m<module>\u001b[0;34m\u001b[0m\n\u001b[0;32m----> 1\u001b[0;31m \u001b[0membeddings\u001b[0m \u001b[0;34m=\u001b[0m \u001b[0mWord2VecBaseline\u001b[0m\u001b[0;34m.\u001b[0m\u001b[0mfrom_networkx_graph\u001b[0m\u001b[0;34m(\u001b[0m\u001b[0mmultigraph\u001b[0m\u001b[0;34m.\u001b[0m\u001b[0m_G\u001b[0m\u001b[0;34m)\u001b[0m\u001b[0;34m\u001b[0m\u001b[0;34m\u001b[0m\u001b[0m\n\u001b[0m",
      "\u001b[0;32m~/Documents/PERSO/ids-ml/embeddings/b_word2vec.py\u001b[0m in \u001b[0;36mfrom_networkx_graph\u001b[0;34m(cls, networkx_graph, size, window, min_count, sg, workers, iter)\u001b[0m\n\u001b[1;32m     35\u001b[0m \u001b[0;34m\u001b[0m\u001b[0m\n\u001b[1;32m     36\u001b[0m         return cls(\n\u001b[0;32m---> 37\u001b[0;31m             word2vec=Word2Vec(\n\u001b[0m\u001b[1;32m     38\u001b[0m                 \u001b[0mwalks\u001b[0m\u001b[0;34m,\u001b[0m \u001b[0msize\u001b[0m\u001b[0;34m=\u001b[0m\u001b[0;36m128\u001b[0m\u001b[0;34m,\u001b[0m \u001b[0mwindow\u001b[0m\u001b[0;34m=\u001b[0m\u001b[0;36m5\u001b[0m\u001b[0;34m,\u001b[0m \u001b[0mmin_count\u001b[0m\u001b[0;34m=\u001b[0m\u001b[0;36m0\u001b[0m\u001b[0;34m,\u001b[0m \u001b[0msg\u001b[0m\u001b[0;34m=\u001b[0m\u001b[0;36m1\u001b[0m\u001b[0;34m,\u001b[0m \u001b[0mworkers\u001b[0m\u001b[0;34m=\u001b[0m\u001b[0;36m2\u001b[0m\u001b[0;34m,\u001b[0m \u001b[0miter\u001b[0m\u001b[0;34m=\u001b[0m\u001b[0;36m1\u001b[0m\u001b[0;34m,\u001b[0m\u001b[0;34m\u001b[0m\u001b[0;34m\u001b[0m\u001b[0m\n\u001b[1;32m     39\u001b[0m             )\n",
      "\u001b[0;31mTypeError\u001b[0m: __init__() got an unexpected keyword argument 'size'"
     ]
    }
   ],
   "source": [
    "embeddings = Word2VecBaseline.from_networkx_graph(multigraph._G)"
   ]
  },
  {
   "cell_type": "code",
   "execution_count": null,
   "metadata": {},
   "outputs": [],
   "source": [
    "#embeddings.fit()"
   ]
  },
  {
   "cell_type": "code",
   "execution_count": null,
   "metadata": {},
   "outputs": [],
   "source": [
    "#embeddings.node_embeddings"
   ]
  },
  {
   "cell_type": "code",
   "execution_count": null,
   "metadata": {},
   "outputs": [],
   "source": [
    "#embeddings.node_embeddings_id"
   ]
  }
 ],
 "metadata": {
  "kernelspec": {
   "display_name": "Python 3",
   "language": "python",
   "name": "python3"
  },
  "language_info": {
   "codemirror_mode": {
    "name": "ipython",
    "version": 3
   },
   "file_extension": ".py",
   "mimetype": "text/x-python",
   "name": "python",
   "nbconvert_exporter": "python",
   "pygments_lexer": "ipython3",
   "version": "3.8.8"
  }
 },
 "nbformat": 4,
 "nbformat_minor": 4
}
