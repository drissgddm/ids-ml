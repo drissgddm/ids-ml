{
 "cells": [
  {
   "cell_type": "code",
   "execution_count": 1,
   "metadata": {},
   "outputs": [],
   "source": [
    "import pandas as pd"
   ]
  },
  {
   "cell_type": "code",
   "execution_count": 2,
   "metadata": {},
   "outputs": [
    {
     "data": {
      "text/html": [
       "<div>\n",
       "<style scoped>\n",
       "    .dataframe tbody tr th:only-of-type {\n",
       "        vertical-align: middle;\n",
       "    }\n",
       "\n",
       "    .dataframe tbody tr th {\n",
       "        vertical-align: top;\n",
       "    }\n",
       "\n",
       "    .dataframe thead th {\n",
       "        text-align: right;\n",
       "    }\n",
       "</style>\n",
       "<table border=\"1\" class=\"dataframe\">\n",
       "  <thead>\n",
       "    <tr style=\"text-align: right;\">\n",
       "      <th></th>\n",
       "      <th>DURATION</th>\n",
       "      <th>PROTOCOL</th>\n",
       "      <th>SRC_IP_ADDR</th>\n",
       "      <th>SRC_PORT</th>\n",
       "      <th>DST_IP_ADDR</th>\n",
       "      <th>DST_PORT</th>\n",
       "      <th>PACKETS</th>\n",
       "      <th>BYTES</th>\n",
       "      <th>TOS</th>\n",
       "      <th>ATTACK_TYPE</th>\n",
       "      <th>...</th>\n",
       "      <th>FLAG_0xdf</th>\n",
       "      <th>FLAG_0xda</th>\n",
       "      <th>FLAG_0x52</th>\n",
       "      <th>FLAG_0xd3</th>\n",
       "      <th>FLAG_0x5b</th>\n",
       "      <th>FLAG_0x5a</th>\n",
       "      <th>FLAG_0xd2</th>\n",
       "      <th>FLAG_0xde</th>\n",
       "      <th>FLAG_0x53</th>\n",
       "      <th>FLAG_0xc6</th>\n",
       "    </tr>\n",
       "    <tr>\n",
       "      <th>DATE</th>\n",
       "      <th></th>\n",
       "      <th></th>\n",
       "      <th></th>\n",
       "      <th></th>\n",
       "      <th></th>\n",
       "      <th></th>\n",
       "      <th></th>\n",
       "      <th></th>\n",
       "      <th></th>\n",
       "      <th></th>\n",
       "      <th></th>\n",
       "      <th></th>\n",
       "      <th></th>\n",
       "      <th></th>\n",
       "      <th></th>\n",
       "      <th></th>\n",
       "      <th></th>\n",
       "      <th></th>\n",
       "      <th></th>\n",
       "      <th></th>\n",
       "      <th></th>\n",
       "    </tr>\n",
       "  </thead>\n",
       "  <tbody>\n",
       "    <tr>\n",
       "      <th>2017-03-14 17:43:26.135</th>\n",
       "      <td>81504.787</td>\n",
       "      <td>3</td>\n",
       "      <td>43440</td>\n",
       "      <td>8</td>\n",
       "      <td>44022</td>\n",
       "      <td>8</td>\n",
       "      <td>8639</td>\n",
       "      <td>9318.4</td>\n",
       "      <td>0</td>\n",
       "      <td>0</td>\n",
       "      <td>...</td>\n",
       "      <td>0</td>\n",
       "      <td>0</td>\n",
       "      <td>0</td>\n",
       "      <td>0</td>\n",
       "      <td>0</td>\n",
       "      <td>0</td>\n",
       "      <td>0</td>\n",
       "      <td>0</td>\n",
       "      <td>0</td>\n",
       "      <td>0</td>\n",
       "    </tr>\n",
       "    <tr>\n",
       "      <th>2017-03-14 17:43:26.135</th>\n",
       "      <td>81504.787</td>\n",
       "      <td>3</td>\n",
       "      <td>43441</td>\n",
       "      <td>8</td>\n",
       "      <td>44021</td>\n",
       "      <td>8</td>\n",
       "      <td>12024</td>\n",
       "      <td>10547.2</td>\n",
       "      <td>0</td>\n",
       "      <td>0</td>\n",
       "      <td>...</td>\n",
       "      <td>0</td>\n",
       "      <td>0</td>\n",
       "      <td>0</td>\n",
       "      <td>0</td>\n",
       "      <td>0</td>\n",
       "      <td>0</td>\n",
       "      <td>0</td>\n",
       "      <td>0</td>\n",
       "      <td>0</td>\n",
       "      <td>0</td>\n",
       "    </tr>\n",
       "    <tr>\n",
       "      <th>2017-03-14 17:43:26.135</th>\n",
       "      <td>81504.787</td>\n",
       "      <td>3</td>\n",
       "      <td>43441</td>\n",
       "      <td>8</td>\n",
       "      <td>44021</td>\n",
       "      <td>8</td>\n",
       "      <td>12024</td>\n",
       "      <td>10547.2</td>\n",
       "      <td>0</td>\n",
       "      <td>0</td>\n",
       "      <td>...</td>\n",
       "      <td>0</td>\n",
       "      <td>0</td>\n",
       "      <td>0</td>\n",
       "      <td>0</td>\n",
       "      <td>0</td>\n",
       "      <td>0</td>\n",
       "      <td>0</td>\n",
       "      <td>0</td>\n",
       "      <td>0</td>\n",
       "      <td>0</td>\n",
       "    </tr>\n",
       "    <tr>\n",
       "      <th>2017-03-14 17:43:26.135</th>\n",
       "      <td>81504.787</td>\n",
       "      <td>3</td>\n",
       "      <td>43440</td>\n",
       "      <td>8</td>\n",
       "      <td>44022</td>\n",
       "      <td>8</td>\n",
       "      <td>8639</td>\n",
       "      <td>9318.4</td>\n",
       "      <td>0</td>\n",
       "      <td>0</td>\n",
       "      <td>...</td>\n",
       "      <td>0</td>\n",
       "      <td>0</td>\n",
       "      <td>0</td>\n",
       "      <td>0</td>\n",
       "      <td>0</td>\n",
       "      <td>0</td>\n",
       "      <td>0</td>\n",
       "      <td>0</td>\n",
       "      <td>0</td>\n",
       "      <td>0</td>\n",
       "    </tr>\n",
       "    <tr>\n",
       "      <th>2017-03-14 17:43:39.011</th>\n",
       "      <td>183418.493</td>\n",
       "      <td>3</td>\n",
       "      <td>43441</td>\n",
       "      <td>8</td>\n",
       "      <td>44021</td>\n",
       "      <td>8</td>\n",
       "      <td>20751</td>\n",
       "      <td>5939.2</td>\n",
       "      <td>0</td>\n",
       "      <td>0</td>\n",
       "      <td>...</td>\n",
       "      <td>0</td>\n",
       "      <td>0</td>\n",
       "      <td>0</td>\n",
       "      <td>0</td>\n",
       "      <td>0</td>\n",
       "      <td>0</td>\n",
       "      <td>0</td>\n",
       "      <td>0</td>\n",
       "      <td>0</td>\n",
       "      <td>0</td>\n",
       "    </tr>\n",
       "  </tbody>\n",
       "</table>\n",
       "<p>5 rows × 30 columns</p>\n",
       "</div>"
      ],
      "text/plain": [
       "                           DURATION  PROTOCOL  SRC_IP_ADDR  SRC_PORT  \\\n",
       "DATE                                                                   \n",
       "2017-03-14 17:43:26.135   81504.787         3        43440         8   \n",
       "2017-03-14 17:43:26.135   81504.787         3        43441         8   \n",
       "2017-03-14 17:43:26.135   81504.787         3        43441         8   \n",
       "2017-03-14 17:43:26.135   81504.787         3        43440         8   \n",
       "2017-03-14 17:43:39.011  183418.493         3        43441         8   \n",
       "\n",
       "                         DST_IP_ADDR  DST_PORT  PACKETS    BYTES  TOS  \\\n",
       "DATE                                                                    \n",
       "2017-03-14 17:43:26.135        44022         8     8639   9318.4    0   \n",
       "2017-03-14 17:43:26.135        44021         8    12024  10547.2    0   \n",
       "2017-03-14 17:43:26.135        44021         8    12024  10547.2    0   \n",
       "2017-03-14 17:43:26.135        44022         8     8639   9318.4    0   \n",
       "2017-03-14 17:43:39.011        44021         8    20751   5939.2    0   \n",
       "\n",
       "                         ATTACK_TYPE  ...  FLAG_0xdf  FLAG_0xda  FLAG_0x52  \\\n",
       "DATE                                  ...                                    \n",
       "2017-03-14 17:43:26.135            0  ...          0          0          0   \n",
       "2017-03-14 17:43:26.135            0  ...          0          0          0   \n",
       "2017-03-14 17:43:26.135            0  ...          0          0          0   \n",
       "2017-03-14 17:43:26.135            0  ...          0          0          0   \n",
       "2017-03-14 17:43:39.011            0  ...          0          0          0   \n",
       "\n",
       "                         FLAG_0xd3  FLAG_0x5b  FLAG_0x5a  FLAG_0xd2  \\\n",
       "DATE                                                                  \n",
       "2017-03-14 17:43:26.135          0          0          0          0   \n",
       "2017-03-14 17:43:26.135          0          0          0          0   \n",
       "2017-03-14 17:43:26.135          0          0          0          0   \n",
       "2017-03-14 17:43:26.135          0          0          0          0   \n",
       "2017-03-14 17:43:39.011          0          0          0          0   \n",
       "\n",
       "                         FLAG_0xde  FLAG_0x53  FLAG_0xc6  \n",
       "DATE                                                      \n",
       "2017-03-14 17:43:26.135          0          0          0  \n",
       "2017-03-14 17:43:26.135          0          0          0  \n",
       "2017-03-14 17:43:26.135          0          0          0  \n",
       "2017-03-14 17:43:26.135          0          0          0  \n",
       "2017-03-14 17:43:39.011          0          0          0  \n",
       "\n",
       "[5 rows x 30 columns]"
      ]
     },
     "execution_count": 2,
     "metadata": {},
     "output_type": "execute_result"
    }
   ],
   "source": [
    "df = pd.read_csv('data/netflow/CIDDS-001/traffic/preprocessed.csv', index_col='DATE')\n",
    "\n",
    "df.head()"
   ]
  },
  {
   "cell_type": "code",
   "execution_count": 3,
   "metadata": {},
   "outputs": [],
   "source": [
    "continuous_features = ['DURATION', 'PACKETS', 'BYTES']\n",
    "label = ['ATTACK_TYPE']"
   ]
  },
  {
   "cell_type": "code",
   "execution_count": 4,
   "metadata": {},
   "outputs": [],
   "source": [
    "from sklearn.preprocessing import StandardScaler\n",
    "\n",
    "std_scaler = StandardScaler()"
   ]
  },
  {
   "cell_type": "code",
   "execution_count": 5,
   "metadata": {},
   "outputs": [],
   "source": [
    "to_normalize = df.loc[:, continuous_features].values"
   ]
  },
  {
   "cell_type": "code",
   "execution_count": 6,
   "metadata": {},
   "outputs": [],
   "source": [
    "import numpy as np"
   ]
  },
  {
   "cell_type": "code",
   "execution_count": 7,
   "metadata": {},
   "outputs": [
    {
     "data": {
      "text/plain": [
       "(759.3696053122387, 10860.112747121242)"
      ]
     },
     "execution_count": 7,
     "metadata": {},
     "output_type": "execute_result"
    }
   ],
   "source": [
    "np.mean(to_normalize), np.std(to_normalize)"
   ]
  },
  {
   "cell_type": "code",
   "execution_count": 8,
   "metadata": {},
   "outputs": [],
   "source": [
    "normalized = std_scaler.fit_transform(to_normalize)"
   ]
  },
  {
   "cell_type": "code",
   "execution_count": 9,
   "metadata": {},
   "outputs": [
    {
     "data": {
      "text/plain": [
       "(2.4805835360756296e-17, 1.0000000000000004)"
      ]
     },
     "execution_count": 9,
     "metadata": {},
     "output_type": "execute_result"
    }
   ],
   "source": [
    "np.mean(normalized), np.std(normalized)"
   ]
  },
  {
   "cell_type": "markdown",
   "metadata": {},
   "source": [
    "https://scikit-learn.org/stable/modules/generated/sklearn.decomposition.PCA.html"
   ]
  },
  {
   "cell_type": "code",
   "execution_count": 10,
   "metadata": {},
   "outputs": [],
   "source": [
    "from sklearn.decomposition import PCA\n",
    "\n",
    "pca = PCA(n_components=2)"
   ]
  },
  {
   "cell_type": "code",
   "execution_count": 11,
   "metadata": {},
   "outputs": [],
   "source": [
    "pca_applied = pca.fit_transform(normalized)"
   ]
  },
  {
   "cell_type": "code",
   "execution_count": 12,
   "metadata": {},
   "outputs": [],
   "source": [
    "pca_df = pd.DataFrame(data=pca_applied, \n",
    "                      columns=['COMPONENT_1', 'COMPONENT_2'],\n",
    "                      index=df.index\n",
    "                     )"
   ]
  },
  {
   "cell_type": "code",
   "execution_count": 13,
   "metadata": {},
   "outputs": [
    {
     "name": "stdout",
     "output_type": "stream",
     "text": [
      "(11653215, 2)\n"
     ]
    },
    {
     "data": {
      "text/html": [
       "<div>\n",
       "<style scoped>\n",
       "    .dataframe tbody tr th:only-of-type {\n",
       "        vertical-align: middle;\n",
       "    }\n",
       "\n",
       "    .dataframe tbody tr th {\n",
       "        vertical-align: top;\n",
       "    }\n",
       "\n",
       "    .dataframe thead th {\n",
       "        text-align: right;\n",
       "    }\n",
       "</style>\n",
       "<table border=\"1\" class=\"dataframe\">\n",
       "  <thead>\n",
       "    <tr style=\"text-align: right;\">\n",
       "      <th></th>\n",
       "      <th>COMPONENT_1</th>\n",
       "      <th>COMPONENT_2</th>\n",
       "    </tr>\n",
       "    <tr>\n",
       "      <th>DATE</th>\n",
       "      <th></th>\n",
       "      <th></th>\n",
       "    </tr>\n",
       "  </thead>\n",
       "  <tbody>\n",
       "    <tr>\n",
       "      <th>2017-03-14 17:43:26.135</th>\n",
       "      <td>623.233497</td>\n",
       "      <td>183.402897</td>\n",
       "    </tr>\n",
       "    <tr>\n",
       "      <th>2017-03-14 17:43:26.135</th>\n",
       "      <td>252.720909</td>\n",
       "      <td>-21.055327</td>\n",
       "    </tr>\n",
       "    <tr>\n",
       "      <th>2017-03-14 17:43:26.135</th>\n",
       "      <td>-30.023743</td>\n",
       "      <td>-1.940388</td>\n",
       "    </tr>\n",
       "    <tr>\n",
       "      <th>2017-03-14 17:43:26.135</th>\n",
       "      <td>-25.822056</td>\n",
       "      <td>-2.209598</td>\n",
       "    </tr>\n",
       "    <tr>\n",
       "      <th>2017-03-14 17:43:39.011</th>\n",
       "      <td>-59.892151</td>\n",
       "      <td>-5.581838</td>\n",
       "    </tr>\n",
       "  </tbody>\n",
       "</table>\n",
       "</div>"
      ],
      "text/plain": [
       "                         COMPONENT_1  COMPONENT_2\n",
       "DATE                                             \n",
       "2017-03-14 17:43:26.135   623.233497   183.402897\n",
       "2017-03-14 17:43:26.135   252.720909   -21.055327\n",
       "2017-03-14 17:43:26.135   -30.023743    -1.940388\n",
       "2017-03-14 17:43:26.135   -25.822056    -2.209598\n",
       "2017-03-14 17:43:39.011   -59.892151    -5.581838"
      ]
     },
     "execution_count": 13,
     "metadata": {},
     "output_type": "execute_result"
    }
   ],
   "source": [
    "print(pca_df.shape)\n",
    "pca_df.head()"
   ]
  },
  {
   "cell_type": "code",
   "execution_count": 14,
   "metadata": {},
   "outputs": [
    {
     "name": "stdout",
     "output_type": "stream",
     "text": [
      "Explained variation per principal component: [0.39271761 0.35310109]\n"
     ]
    }
   ],
   "source": [
    "print('Explained variation per principal component: {}'.format(pca.explained_variance_ratio_))"
   ]
  },
  {
   "cell_type": "code",
   "execution_count": 15,
   "metadata": {},
   "outputs": [],
   "source": [
    "pca_df['LABEL'] = df['ATTACK_TYPE']"
   ]
  },
  {
   "cell_type": "code",
   "execution_count": 16,
   "metadata": {},
   "outputs": [
    {
     "data": {
      "text/html": [
       "<div>\n",
       "<style scoped>\n",
       "    .dataframe tbody tr th:only-of-type {\n",
       "        vertical-align: middle;\n",
       "    }\n",
       "\n",
       "    .dataframe tbody tr th {\n",
       "        vertical-align: top;\n",
       "    }\n",
       "\n",
       "    .dataframe thead th {\n",
       "        text-align: right;\n",
       "    }\n",
       "</style>\n",
       "<table border=\"1\" class=\"dataframe\">\n",
       "  <thead>\n",
       "    <tr style=\"text-align: right;\">\n",
       "      <th></th>\n",
       "      <th>COMPONENT_1</th>\n",
       "      <th>COMPONENT_2</th>\n",
       "      <th>LABEL</th>\n",
       "    </tr>\n",
       "    <tr>\n",
       "      <th>DATE</th>\n",
       "      <th></th>\n",
       "      <th></th>\n",
       "      <th></th>\n",
       "    </tr>\n",
       "  </thead>\n",
       "  <tbody>\n",
       "    <tr>\n",
       "      <th>2017-03-14 17:43:26.135</th>\n",
       "      <td>623.233497</td>\n",
       "      <td>183.402897</td>\n",
       "      <td>0</td>\n",
       "    </tr>\n",
       "    <tr>\n",
       "      <th>2017-03-14 17:43:26.135</th>\n",
       "      <td>252.720909</td>\n",
       "      <td>-21.055327</td>\n",
       "      <td>0</td>\n",
       "    </tr>\n",
       "    <tr>\n",
       "      <th>2017-03-14 17:43:26.135</th>\n",
       "      <td>-30.023743</td>\n",
       "      <td>-1.940388</td>\n",
       "      <td>0</td>\n",
       "    </tr>\n",
       "    <tr>\n",
       "      <th>2017-03-14 17:43:26.135</th>\n",
       "      <td>-25.822056</td>\n",
       "      <td>-2.209598</td>\n",
       "      <td>0</td>\n",
       "    </tr>\n",
       "    <tr>\n",
       "      <th>2017-03-14 17:43:39.011</th>\n",
       "      <td>-59.892151</td>\n",
       "      <td>-5.581838</td>\n",
       "      <td>0</td>\n",
       "    </tr>\n",
       "  </tbody>\n",
       "</table>\n",
       "</div>"
      ],
      "text/plain": [
       "                         COMPONENT_1  COMPONENT_2  LABEL\n",
       "DATE                                                    \n",
       "2017-03-14 17:43:26.135   623.233497   183.402897      0\n",
       "2017-03-14 17:43:26.135   252.720909   -21.055327      0\n",
       "2017-03-14 17:43:26.135   -30.023743    -1.940388      0\n",
       "2017-03-14 17:43:26.135   -25.822056    -2.209598      0\n",
       "2017-03-14 17:43:39.011   -59.892151    -5.581838      0"
      ]
     },
     "execution_count": 16,
     "metadata": {},
     "output_type": "execute_result"
    }
   ],
   "source": [
    "pca_df.head()"
   ]
  },
  {
   "cell_type": "code",
   "execution_count": 17,
   "metadata": {},
   "outputs": [],
   "source": [
    "import matplotlib.pyplot as plt"
   ]
  },
  {
   "cell_type": "code",
   "execution_count": 21,
   "metadata": {},
   "outputs": [
    {
     "data": {
      "text/plain": [
       "<matplotlib.legend.Legend at 0x1d405793a90>"
      ]
     },
     "execution_count": 21,
     "metadata": {},
     "output_type": "execute_result"
    },
    {
     "data": {
      "text/plain": [
       "<Figure size 432x288 with 0 Axes>"
      ]
     },
     "metadata": {},
     "output_type": "display_data"
    },
    {
     "data": {
      "image/png": "[encoded data removed]",
      "text/plain": [
       "<Figure size 1080x720 with 1 Axes>"
      ]
     },
     "metadata": {
      "needs_background": "light"
     },
     "output_type": "display_data"
    }
   ],
   "source": [
    "plt.figure()\n",
    "plt.figure(figsize=(15, 10))\n",
    "plt.xticks(fontsize=12)\n",
    "plt.yticks(fontsize=14)\n",
    "\n",
    "plt.xlabel('Component 1', fontsize=20)\n",
    "plt.ylabel('Component 2', fontsize=20)\n",
    "plt.title(\"Principal Component Analysis\", fontsize=20)\n",
    "\n",
    "targets = pca_df['LABEL'].unique().tolist()\n",
    "colors = ['g', 'r', 'b', 'y', 'm']\n",
    "\n",
    "\n",
    "for target, color in zip(targets, colors):\n",
    "\n",
    "    indices_to_keep = pca_df['LABEL'] == target\n",
    "    \n",
    "    plt.scatter(pca_df.loc[indices_to_keep, 'COMPONENT_1'], \n",
    "                pca_df.loc[indices_to_keep, 'COMPONENT_2'], \n",
    "                c=color, \n",
    "                s=50);\n",
    "\n",
    "plt.legend(targets, prop={'size': 15})"
   ]
  },
  {
   "cell_type": "code",
   "execution_count": null,
   "metadata": {},
   "outputs": [],
   "source": []
  },
  {
   "cell_type": "code",
   "execution_count": null,
   "metadata": {},
   "outputs": [],
   "source": []
  }
 ],
 "metadata": {
  "kernelspec": {
   "display_name": "Python 3",
   "language": "python",
   "name": "python3"
  },
  "language_info": {
   "codemirror_mode": {
    "name": "ipython",
    "version": 3
   },
   "file_extension": ".py",
   "mimetype": "text/x-python",
   "name": "python",
   "nbconvert_exporter": "python",
   "pygments_lexer": "ipython3",
   "version": "3.9.1"
  }
 },
 "nbformat": 4,
 "nbformat_minor": 4
}
