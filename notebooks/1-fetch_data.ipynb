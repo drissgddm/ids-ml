{
 "cells": [
  {
   "cell_type": "markdown",
   "metadata": {},
   "source": [
    "Going to download data from https://www.unb.ca/cic/datasets/ids-2018.html"
   ]
  },
  {
   "cell_type": "markdown",
   "metadata": {},
   "source": [
    "But let's see first what's in the bucket:"
   ]
  },
  {
   "cell_type": "code",
   "execution_count": null,
   "metadata": {},
   "outputs": [],
   "source": [
    "!aws s3 ls --no-sign-request \"s3://cse-cic-ids2018\" --recursive --human-readable --summarize"
   ]
  },
  {
   "cell_type": "markdown",
   "metadata": {},
   "source": [
    "And now download only the csv files:"
   ]
  },
  {
   "cell_type": "code",
   "execution_count": null,
   "metadata": {},
   "outputs": [],
   "source": [
    "!aws s3 cp --no-sign-request \"s3://cse-cic-ids2018/Processed Traffic Data for ML Algorithms/\" data/ --recursive"
   ]
  },
  {
   "cell_type": "code",
   "execution_count": null,
   "metadata": {},
   "outputs": [],
   "source": [
    "import pandas as pd"
   ]
  },
  {
   "cell_type": "markdown",
   "metadata": {},
   "source": [
    "Create a dataframe object"
   ]
  },
  {
   "cell_type": "code",
   "execution_count": null,
   "metadata": {},
   "outputs": [],
   "source": [
    "csv_files = [\n",
    "    \"Friday-02-03-2018_TrafficForML_CICFlowMeter.csv\",\n",
    "    \"Friday-16-02-2018_TrafficForML_CICFlowMeter.csv\",\n",
    "    \"Friday-23-02-2018_TrafficForML_CICFlowMeter.csv\",\n",
    "    \"Thuesday-20-02-2018_TrafficForML_CICFlowMeter.csv\",\n",
    "    \"Thursday-01-03-2018_TrafficForML_CICFlowMeter.csv\",\n",
    "    \"Thursday-15-02-2018_TrafficForML_CICFlowMeter.csv\",\n",
    "    \"Thursday-22-02-2018_TrafficForML_CICFlowMeter.csv\",\n",
    "    \"Wednesday-14-02-2018_TrafficForML_CICFlowMeter.csv\",\n",
    "    \"Wednesday-21-02-2018_TrafficForML_CICFlowMeter.csv\",\n",
    "    \"Wednesday-28-02-2018_TrafficForML_CICFlowMeter.csv\"\n",
    "]\n",
    "\n",
    "dates_by_datasets = {\n",
    "    \"Friday-02-03-2018_TrafficForML_CICFlowMeter.csv\": \"02-03-2018\",\n",
    "    \"Friday-16-02-2018_TrafficForML_CICFlowMeter.csv\": \"16-02-2018\",\n",
    "    \"Friday-23-02-2018_TrafficForML_CICFlowMeter.csv\": \"23-02-2018\",\n",
    "    \"Thuesday-20-02-2018_TrafficForML_CICFlowMeter.csv\": \"23-02-2018\",\n",
    "    \"Thursday-01-03-2018_TrafficForML_CICFlowMeter.csv\": \"01-03-2018\",\n",
    "    \"Thursday-15-02-2018_TrafficForML_CICFlowMeter.csv\": \"15-02-2018\",\n",
    "    \"Thursday-22-02-2018_TrafficForML_CICFlowMeter.csv\": \"22-02-2018\",\n",
    "    \"Wednesday-14-02-2018_TrafficForML_CICFlowMeter.csv\": \"14-02-2018\",\n",
    "    \"Wednesday-21-02-2018_TrafficForML_CICFlowMeter.csv\": \"21-02-2018\",\n",
    "    \"Wednesday-28-02-2018_TrafficForML_CICFlowMeter.csv\": \"28-02-2018\",\n",
    "}"
   ]
  },
  {
   "cell_type": "code",
   "execution_count": null,
   "metadata": {},
   "outputs": [],
   "source": [
    "df = pd.DataFrame({})\n",
    "\n",
    "for csv in csv_files:\n",
    "    tmp_df = pd.read_csv(\"data/{}\".format(csv))\n",
    "    tmp_df[\"Date\"] = dates_by_datasets[csv]\n",
    "    df = pd.concat([df, tmp_df])"
   ]
  },
  {
   "cell_type": "code",
   "execution_count": null,
   "metadata": {},
   "outputs": [],
   "source": [
    "print(df.shape)\n",
    "\n",
    "print([_ for _ in df['Date'].unique()])\n",
    "\n",
    "df.head()"
   ]
  },
  {
   "cell_type": "code",
   "execution_count": null,
   "metadata": {},
   "outputs": [],
   "source": []
  }
 ],
 "metadata": {
  "kernelspec": {
   "display_name": "Python 3",
   "language": "python",
   "name": "python3"
  },
  "language_info": {
   "codemirror_mode": {
    "name": "ipython",
    "version": 3
   },
   "file_extension": ".py",
   "mimetype": "text/x-python",
   "name": "python",
   "nbconvert_exporter": "python",
   "pygments_lexer": "ipython3",
   "version": "3.9.1"
  }
 },
 "nbformat": 4,
 "nbformat_minor": 4
}
