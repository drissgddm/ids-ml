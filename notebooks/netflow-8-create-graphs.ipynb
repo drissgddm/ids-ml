{
 "cells": [
  {
   "cell_type": "code",
   "execution_count": 1,
   "metadata": {},
   "outputs": [],
   "source": [
    "import pandas as pd"
   ]
  },
  {
   "cell_type": "code",
   "execution_count": 2,
   "metadata": {},
   "outputs": [
    {
     "data": {
      "text/html": [
       "<div>\n",
       "<style scoped>\n",
       "    .dataframe tbody tr th:only-of-type {\n",
       "        vertical-align: middle;\n",
       "    }\n",
       "\n",
       "    .dataframe tbody tr th {\n",
       "        vertical-align: top;\n",
       "    }\n",
       "\n",
       "    .dataframe thead th {\n",
       "        text-align: right;\n",
       "    }\n",
       "</style>\n",
       "<table border=\"1\" class=\"dataframe\">\n",
       "  <thead>\n",
       "    <tr style=\"text-align: right;\">\n",
       "      <th></th>\n",
       "      <th>DURATION</th>\n",
       "      <th>PROTOCOL</th>\n",
       "      <th>SRC_IP_ADDR</th>\n",
       "      <th>SRC_PORT</th>\n",
       "      <th>DST_IP_ADDR</th>\n",
       "      <th>DST_PORT</th>\n",
       "      <th>PACKETS</th>\n",
       "      <th>BYTES</th>\n",
       "      <th>FLAGS</th>\n",
       "      <th>TOS</th>\n",
       "      <th>CLASS</th>\n",
       "      <th>ATTACK_TYPE</th>\n",
       "      <th>ATTACK_ID</th>\n",
       "      <th>ATTACK_DESCRIPTION</th>\n",
       "      <th>TYPE</th>\n",
       "    </tr>\n",
       "    <tr>\n",
       "      <th>DATE</th>\n",
       "      <th></th>\n",
       "      <th></th>\n",
       "      <th></th>\n",
       "      <th></th>\n",
       "      <th></th>\n",
       "      <th></th>\n",
       "      <th></th>\n",
       "      <th></th>\n",
       "      <th></th>\n",
       "      <th></th>\n",
       "      <th></th>\n",
       "      <th></th>\n",
       "      <th></th>\n",
       "      <th></th>\n",
       "      <th></th>\n",
       "    </tr>\n",
       "  </thead>\n",
       "  <tbody>\n",
       "    <tr>\n",
       "      <th>2017-03-14 17:43:26.135</th>\n",
       "      <td>81504.787</td>\n",
       "      <td>TCP</td>\n",
       "      <td>EXT_SERVER</td>\n",
       "      <td>8082</td>\n",
       "      <td>OPENSTACK_NET</td>\n",
       "      <td>56979</td>\n",
       "      <td>8639</td>\n",
       "      <td>9318.4</td>\n",
       "      <td>.AP...</td>\n",
       "      <td>0</td>\n",
       "      <td>normal</td>\n",
       "      <td>benign</td>\n",
       "      <td>0.0</td>\n",
       "      <td>benign</td>\n",
       "      <td>external</td>\n",
       "    </tr>\n",
       "    <tr>\n",
       "      <th>2017-03-14 17:43:26.135</th>\n",
       "      <td>81504.787</td>\n",
       "      <td>TCP</td>\n",
       "      <td>OPENSTACK_NET</td>\n",
       "      <td>56979</td>\n",
       "      <td>EXT_SERVER</td>\n",
       "      <td>8082</td>\n",
       "      <td>12024</td>\n",
       "      <td>10547.2</td>\n",
       "      <td>.AP...</td>\n",
       "      <td>0</td>\n",
       "      <td>normal</td>\n",
       "      <td>benign</td>\n",
       "      <td>0.0</td>\n",
       "      <td>benign</td>\n",
       "      <td>external</td>\n",
       "    </tr>\n",
       "    <tr>\n",
       "      <th>2017-03-14 17:43:26.135</th>\n",
       "      <td>81504.787</td>\n",
       "      <td>TCP</td>\n",
       "      <td>OPENSTACK_NET</td>\n",
       "      <td>56979</td>\n",
       "      <td>EXT_SERVER</td>\n",
       "      <td>8082</td>\n",
       "      <td>12024</td>\n",
       "      <td>10547.2</td>\n",
       "      <td>.AP...</td>\n",
       "      <td>0</td>\n",
       "      <td>normal</td>\n",
       "      <td>benign</td>\n",
       "      <td>0.0</td>\n",
       "      <td>benign</td>\n",
       "      <td>internal</td>\n",
       "    </tr>\n",
       "    <tr>\n",
       "      <th>2017-03-14 17:43:26.135</th>\n",
       "      <td>81504.787</td>\n",
       "      <td>TCP</td>\n",
       "      <td>EXT_SERVER</td>\n",
       "      <td>8082</td>\n",
       "      <td>OPENSTACK_NET</td>\n",
       "      <td>56979</td>\n",
       "      <td>8639</td>\n",
       "      <td>9318.4</td>\n",
       "      <td>.AP...</td>\n",
       "      <td>0</td>\n",
       "      <td>normal</td>\n",
       "      <td>benign</td>\n",
       "      <td>0.0</td>\n",
       "      <td>benign</td>\n",
       "      <td>internal</td>\n",
       "    </tr>\n",
       "    <tr>\n",
       "      <th>2017-03-14 17:43:39.011</th>\n",
       "      <td>183418.493</td>\n",
       "      <td>TCP</td>\n",
       "      <td>OPENSTACK_NET</td>\n",
       "      <td>60802</td>\n",
       "      <td>EXT_SERVER</td>\n",
       "      <td>8082</td>\n",
       "      <td>20751</td>\n",
       "      <td>5939.2</td>\n",
       "      <td>.AP...</td>\n",
       "      <td>0</td>\n",
       "      <td>normal</td>\n",
       "      <td>benign</td>\n",
       "      <td>0.0</td>\n",
       "      <td>benign</td>\n",
       "      <td>internal</td>\n",
       "    </tr>\n",
       "  </tbody>\n",
       "</table>\n",
       "</div>"
      ],
      "text/plain": [
       "                           DURATION PROTOCOL    SRC_IP_ADDR  SRC_PORT  \\\n",
       "DATE                                                                    \n",
       "2017-03-14 17:43:26.135   81504.787    TCP       EXT_SERVER      8082   \n",
       "2017-03-14 17:43:26.135   81504.787    TCP    OPENSTACK_NET     56979   \n",
       "2017-03-14 17:43:26.135   81504.787    TCP    OPENSTACK_NET     56979   \n",
       "2017-03-14 17:43:26.135   81504.787    TCP       EXT_SERVER      8082   \n",
       "2017-03-14 17:43:39.011  183418.493    TCP    OPENSTACK_NET     60802   \n",
       "\n",
       "                           DST_IP_ADDR  DST_PORT  PACKETS    BYTES   FLAGS  \\\n",
       "DATE                                                                         \n",
       "2017-03-14 17:43:26.135  OPENSTACK_NET     56979     8639   9318.4  .AP...   \n",
       "2017-03-14 17:43:26.135     EXT_SERVER      8082    12024  10547.2  .AP...   \n",
       "2017-03-14 17:43:26.135     EXT_SERVER      8082    12024  10547.2  .AP...   \n",
       "2017-03-14 17:43:26.135  OPENSTACK_NET     56979     8639   9318.4  .AP...   \n",
       "2017-03-14 17:43:39.011     EXT_SERVER      8082    20751   5939.2  .AP...   \n",
       "\n",
       "                         TOS   CLASS ATTACK_TYPE  ATTACK_ID  \\\n",
       "DATE                                                          \n",
       "2017-03-14 17:43:26.135    0  normal      benign        0.0   \n",
       "2017-03-14 17:43:26.135    0  normal      benign        0.0   \n",
       "2017-03-14 17:43:26.135    0  normal      benign        0.0   \n",
       "2017-03-14 17:43:26.135    0  normal      benign        0.0   \n",
       "2017-03-14 17:43:39.011    0  normal      benign        0.0   \n",
       "\n",
       "                        ATTACK_DESCRIPTION      TYPE  \n",
       "DATE                                                  \n",
       "2017-03-14 17:43:26.135             benign  external  \n",
       "2017-03-14 17:43:26.135             benign  external  \n",
       "2017-03-14 17:43:26.135             benign  internal  \n",
       "2017-03-14 17:43:26.135             benign  internal  \n",
       "2017-03-14 17:43:39.011             benign  internal  "
      ]
     },
     "execution_count": 2,
     "metadata": {},
     "output_type": "execute_result"
    }
   ],
   "source": [
    "df = pd.read_csv('data/netflow/CIDDS-001/traffic/mixed.csv', index_col='DATE')\n",
    "df.head()"
   ]
  },
  {
   "cell_type": "code",
   "execution_count": 3,
   "metadata": {},
   "outputs": [],
   "source": [
    "df.drop(['FLAGS', 'CLASS', 'ATTACK_ID', 'ATTACK_DESCRIPTION'], axis=1, inplace=True)"
   ]
  },
  {
   "cell_type": "code",
   "execution_count": 4,
   "metadata": {},
   "outputs": [
    {
     "data": {
      "text/html": [
       "<div>\n",
       "<style scoped>\n",
       "    .dataframe tbody tr th:only-of-type {\n",
       "        vertical-align: middle;\n",
       "    }\n",
       "\n",
       "    .dataframe tbody tr th {\n",
       "        vertical-align: top;\n",
       "    }\n",
       "\n",
       "    .dataframe thead th {\n",
       "        text-align: right;\n",
       "    }\n",
       "</style>\n",
       "<table border=\"1\" class=\"dataframe\">\n",
       "  <thead>\n",
       "    <tr style=\"text-align: right;\">\n",
       "      <th></th>\n",
       "      <th>DURATION</th>\n",
       "      <th>PROTOCOL</th>\n",
       "      <th>SRC_IP_ADDR</th>\n",
       "      <th>SRC_PORT</th>\n",
       "      <th>DST_IP_ADDR</th>\n",
       "      <th>DST_PORT</th>\n",
       "      <th>PACKETS</th>\n",
       "      <th>BYTES</th>\n",
       "      <th>TOS</th>\n",
       "      <th>ATTACK_TYPE</th>\n",
       "      <th>TYPE</th>\n",
       "    </tr>\n",
       "    <tr>\n",
       "      <th>DATE</th>\n",
       "      <th></th>\n",
       "      <th></th>\n",
       "      <th></th>\n",
       "      <th></th>\n",
       "      <th></th>\n",
       "      <th></th>\n",
       "      <th></th>\n",
       "      <th></th>\n",
       "      <th></th>\n",
       "      <th></th>\n",
       "      <th></th>\n",
       "    </tr>\n",
       "  </thead>\n",
       "  <tbody>\n",
       "    <tr>\n",
       "      <th>2017-03-24 08:00:31.555</th>\n",
       "      <td>0.000</td>\n",
       "      <td>TCP</td>\n",
       "      <td>11250_39</td>\n",
       "      <td>80</td>\n",
       "      <td>192.168.220.15</td>\n",
       "      <td>56170</td>\n",
       "      <td>2</td>\n",
       "      <td>132.0</td>\n",
       "      <td>32</td>\n",
       "      <td>benign</td>\n",
       "      <td>internal</td>\n",
       "    </tr>\n",
       "    <tr>\n",
       "      <th>2017-03-27 10:51:19.112</th>\n",
       "      <td>0.580</td>\n",
       "      <td>TCP</td>\n",
       "      <td>11067_110</td>\n",
       "      <td>443</td>\n",
       "      <td>192.168.220.14</td>\n",
       "      <td>43016</td>\n",
       "      <td>3</td>\n",
       "      <td>229.0</td>\n",
       "      <td>32</td>\n",
       "      <td>benign</td>\n",
       "      <td>internal</td>\n",
       "    </tr>\n",
       "    <tr>\n",
       "      <th>2017-03-23 17:33:57.275</th>\n",
       "      <td>0.373</td>\n",
       "      <td>TCP</td>\n",
       "      <td>192.168.220.7</td>\n",
       "      <td>58101</td>\n",
       "      <td>10796_87</td>\n",
       "      <td>443</td>\n",
       "      <td>53</td>\n",
       "      <td>5885.0</td>\n",
       "      <td>0</td>\n",
       "      <td>benign</td>\n",
       "      <td>internal</td>\n",
       "    </tr>\n",
       "    <tr>\n",
       "      <th>2017-03-22 16:37:37.799</th>\n",
       "      <td>0.000</td>\n",
       "      <td>TCP</td>\n",
       "      <td>10321_204</td>\n",
       "      <td>443</td>\n",
       "      <td>192.168.220.15</td>\n",
       "      <td>38800</td>\n",
       "      <td>1</td>\n",
       "      <td>66.0</td>\n",
       "      <td>0</td>\n",
       "      <td>benign</td>\n",
       "      <td>internal</td>\n",
       "    </tr>\n",
       "    <tr>\n",
       "      <th>2017-03-24 15:19:59.626</th>\n",
       "      <td>0.000</td>\n",
       "      <td>TCP</td>\n",
       "      <td>192.168.220.13</td>\n",
       "      <td>35092</td>\n",
       "      <td>11931_215</td>\n",
       "      <td>443</td>\n",
       "      <td>1</td>\n",
       "      <td>66.0</td>\n",
       "      <td>0</td>\n",
       "      <td>benign</td>\n",
       "      <td>internal</td>\n",
       "    </tr>\n",
       "  </tbody>\n",
       "</table>\n",
       "</div>"
      ],
      "text/plain": [
       "                         DURATION PROTOCOL     SRC_IP_ADDR  SRC_PORT  \\\n",
       "DATE                                                                   \n",
       "2017-03-24 08:00:31.555     0.000    TCP          11250_39        80   \n",
       "2017-03-27 10:51:19.112     0.580    TCP         11067_110       443   \n",
       "2017-03-23 17:33:57.275     0.373    TCP     192.168.220.7     58101   \n",
       "2017-03-22 16:37:37.799     0.000    TCP         10321_204       443   \n",
       "2017-03-24 15:19:59.626     0.000    TCP    192.168.220.13     35092   \n",
       "\n",
       "                            DST_IP_ADDR  DST_PORT  PACKETS   BYTES  TOS  \\\n",
       "DATE                                                                      \n",
       "2017-03-24 08:00:31.555  192.168.220.15     56170        2   132.0   32   \n",
       "2017-03-27 10:51:19.112  192.168.220.14     43016        3   229.0   32   \n",
       "2017-03-23 17:33:57.275        10796_87       443       53  5885.0    0   \n",
       "2017-03-22 16:37:37.799  192.168.220.15     38800        1    66.0    0   \n",
       "2017-03-24 15:19:59.626       11931_215       443        1    66.0    0   \n",
       "\n",
       "                        ATTACK_TYPE      TYPE  \n",
       "DATE                                           \n",
       "2017-03-24 08:00:31.555      benign  internal  \n",
       "2017-03-27 10:51:19.112      benign  internal  \n",
       "2017-03-23 17:33:57.275      benign  internal  \n",
       "2017-03-22 16:37:37.799      benign  internal  \n",
       "2017-03-24 15:19:59.626      benign  internal  "
      ]
     },
     "execution_count": 4,
     "metadata": {},
     "output_type": "execute_result"
    }
   ],
   "source": [
    "df = df.sample(frac=1).iloc[:1000]\n",
    "df.head()"
   ]
  },
  {
   "cell_type": "code",
   "execution_count": 5,
   "metadata": {},
   "outputs": [
    {
     "data": {
      "text/plain": [
       "benign        85.4\n",
       "dos           12.8\n",
       "portScan       1.6\n",
       "bruteForce     0.2\n",
       "Name: ATTACK_TYPE, dtype: float64"
      ]
     },
     "execution_count": 5,
     "metadata": {},
     "output_type": "execute_result"
    }
   ],
   "source": [
    "df['ATTACK_TYPE'].value_counts(normalize=True) * 100"
   ]
  },
  {
   "cell_type": "code",
   "execution_count": 6,
   "metadata": {},
   "outputs": [
    {
     "data": {
      "text/plain": [
       "internal    92.4\n",
       "external     7.6\n",
       "Name: TYPE, dtype: float64"
      ]
     },
     "execution_count": 6,
     "metadata": {},
     "output_type": "execute_result"
    }
   ],
   "source": [
    "df['TYPE'].value_counts(normalize=True) * 100"
   ]
  },
  {
   "cell_type": "code",
   "execution_count": 7,
   "metadata": {},
   "outputs": [],
   "source": [
    "df['SRC'] = df['SRC_IP_ADDR'].str.cat(df['SRC_PORT'].astype(str), sep=':')\n",
    "df['DST'] = df['DST_IP_ADDR'].str.cat(df['DST_PORT'].astype(str), sep=':')\n",
    "\n",
    "df.drop(['SRC_IP_ADDR', 'SRC_PORT', 'DST_IP_ADDR', 'DST_PORT'], axis=1, inplace=True)"
   ]
  },
  {
   "cell_type": "code",
   "execution_count": 8,
   "metadata": {},
   "outputs": [
    {
     "data": {
      "text/html": [
       "<div>\n",
       "<style scoped>\n",
       "    .dataframe tbody tr th:only-of-type {\n",
       "        vertical-align: middle;\n",
       "    }\n",
       "\n",
       "    .dataframe tbody tr th {\n",
       "        vertical-align: top;\n",
       "    }\n",
       "\n",
       "    .dataframe thead th {\n",
       "        text-align: right;\n",
       "    }\n",
       "</style>\n",
       "<table border=\"1\" class=\"dataframe\">\n",
       "  <thead>\n",
       "    <tr style=\"text-align: right;\">\n",
       "      <th></th>\n",
       "      <th>DURATION</th>\n",
       "      <th>PROTOCOL</th>\n",
       "      <th>PACKETS</th>\n",
       "      <th>BYTES</th>\n",
       "      <th>TOS</th>\n",
       "      <th>ATTACK_TYPE</th>\n",
       "      <th>TYPE</th>\n",
       "      <th>SRC</th>\n",
       "      <th>DST</th>\n",
       "    </tr>\n",
       "    <tr>\n",
       "      <th>DATE</th>\n",
       "      <th></th>\n",
       "      <th></th>\n",
       "      <th></th>\n",
       "      <th></th>\n",
       "      <th></th>\n",
       "      <th></th>\n",
       "      <th></th>\n",
       "      <th></th>\n",
       "      <th></th>\n",
       "    </tr>\n",
       "  </thead>\n",
       "  <tbody>\n",
       "    <tr>\n",
       "      <th>2017-03-24 08:00:31.555</th>\n",
       "      <td>0.000</td>\n",
       "      <td>TCP</td>\n",
       "      <td>2</td>\n",
       "      <td>132.0</td>\n",
       "      <td>32</td>\n",
       "      <td>benign</td>\n",
       "      <td>internal</td>\n",
       "      <td>11250_39:80</td>\n",
       "      <td>192.168.220.15:56170</td>\n",
       "    </tr>\n",
       "    <tr>\n",
       "      <th>2017-03-27 10:51:19.112</th>\n",
       "      <td>0.580</td>\n",
       "      <td>TCP</td>\n",
       "      <td>3</td>\n",
       "      <td>229.0</td>\n",
       "      <td>32</td>\n",
       "      <td>benign</td>\n",
       "      <td>internal</td>\n",
       "      <td>11067_110:443</td>\n",
       "      <td>192.168.220.14:43016</td>\n",
       "    </tr>\n",
       "    <tr>\n",
       "      <th>2017-03-23 17:33:57.275</th>\n",
       "      <td>0.373</td>\n",
       "      <td>TCP</td>\n",
       "      <td>53</td>\n",
       "      <td>5885.0</td>\n",
       "      <td>0</td>\n",
       "      <td>benign</td>\n",
       "      <td>internal</td>\n",
       "      <td>192.168.220.7:58101</td>\n",
       "      <td>10796_87:443</td>\n",
       "    </tr>\n",
       "    <tr>\n",
       "      <th>2017-03-22 16:37:37.799</th>\n",
       "      <td>0.000</td>\n",
       "      <td>TCP</td>\n",
       "      <td>1</td>\n",
       "      <td>66.0</td>\n",
       "      <td>0</td>\n",
       "      <td>benign</td>\n",
       "      <td>internal</td>\n",
       "      <td>10321_204:443</td>\n",
       "      <td>192.168.220.15:38800</td>\n",
       "    </tr>\n",
       "    <tr>\n",
       "      <th>2017-03-24 15:19:59.626</th>\n",
       "      <td>0.000</td>\n",
       "      <td>TCP</td>\n",
       "      <td>1</td>\n",
       "      <td>66.0</td>\n",
       "      <td>0</td>\n",
       "      <td>benign</td>\n",
       "      <td>internal</td>\n",
       "      <td>192.168.220.13:35092</td>\n",
       "      <td>11931_215:443</td>\n",
       "    </tr>\n",
       "  </tbody>\n",
       "</table>\n",
       "</div>"
      ],
      "text/plain": [
       "                         DURATION PROTOCOL  PACKETS   BYTES  TOS ATTACK_TYPE  \\\n",
       "DATE                                                                           \n",
       "2017-03-24 08:00:31.555     0.000    TCP          2   132.0   32      benign   \n",
       "2017-03-27 10:51:19.112     0.580    TCP          3   229.0   32      benign   \n",
       "2017-03-23 17:33:57.275     0.373    TCP         53  5885.0    0      benign   \n",
       "2017-03-22 16:37:37.799     0.000    TCP          1    66.0    0      benign   \n",
       "2017-03-24 15:19:59.626     0.000    TCP          1    66.0    0      benign   \n",
       "\n",
       "                             TYPE                   SRC                   DST  \n",
       "DATE                                                                           \n",
       "2017-03-24 08:00:31.555  internal           11250_39:80  192.168.220.15:56170  \n",
       "2017-03-27 10:51:19.112  internal         11067_110:443  192.168.220.14:43016  \n",
       "2017-03-23 17:33:57.275  internal   192.168.220.7:58101          10796_87:443  \n",
       "2017-03-22 16:37:37.799  internal         10321_204:443  192.168.220.15:38800  \n",
       "2017-03-24 15:19:59.626  internal  192.168.220.13:35092         11931_215:443  "
      ]
     },
     "execution_count": 8,
     "metadata": {},
     "output_type": "execute_result"
    }
   ],
   "source": [
    "df.head()"
   ]
  },
  {
   "cell_type": "code",
   "execution_count": 9,
   "metadata": {},
   "outputs": [],
   "source": [
    "from sklearn.preprocessing import LabelEncoder\n",
    "\n",
    "def label_encode(series_to_encode):\n",
    "    lb_e = LabelEncoder()\n",
    "    return lb_e, lb_e.fit_transform(series_to_encode)"
   ]
  },
  {
   "cell_type": "code",
   "execution_count": 10,
   "metadata": {},
   "outputs": [],
   "source": [
    "FEATURES_TO_LABELENCODE = ['PROTOCOL', 'TYPE', 'TOS', 'ATTACK_TYPE', 'SRC', 'DST']"
   ]
  },
  {
   "cell_type": "code",
   "execution_count": 11,
   "metadata": {},
   "outputs": [
    {
     "name": "stdout",
     "output_type": "stream",
     "text": [
      "Processing feature PROTOCOL\n",
      "Processing feature TYPE\n",
      "Processing feature TOS\n",
      "Processing feature ATTACK_TYPE\n",
      "Processing feature SRC\n",
      "Processing feature DST\n"
     ]
    }
   ],
   "source": [
    "encoders = {}\n",
    "\n",
    "for f in FEATURES_TO_LABELENCODE:\n",
    "    print(\"Processing feature {}\".format(f))\n",
    "    encoders[f], df[f] = label_encode(df[f])"
   ]
  },
  {
   "cell_type": "code",
   "execution_count": 12,
   "metadata": {},
   "outputs": [
    {
     "data": {
      "text/html": [
       "<div>\n",
       "<style scoped>\n",
       "    .dataframe tbody tr th:only-of-type {\n",
       "        vertical-align: middle;\n",
       "    }\n",
       "\n",
       "    .dataframe tbody tr th {\n",
       "        vertical-align: top;\n",
       "    }\n",
       "\n",
       "    .dataframe thead th {\n",
       "        text-align: right;\n",
       "    }\n",
       "</style>\n",
       "<table border=\"1\" class=\"dataframe\">\n",
       "  <thead>\n",
       "    <tr style=\"text-align: right;\">\n",
       "      <th></th>\n",
       "      <th>DURATION</th>\n",
       "      <th>PROTOCOL</th>\n",
       "      <th>PACKETS</th>\n",
       "      <th>BYTES</th>\n",
       "      <th>TOS</th>\n",
       "      <th>ATTACK_TYPE</th>\n",
       "      <th>TYPE</th>\n",
       "      <th>SRC</th>\n",
       "      <th>DST</th>\n",
       "    </tr>\n",
       "    <tr>\n",
       "      <th>DATE</th>\n",
       "      <th></th>\n",
       "      <th></th>\n",
       "      <th></th>\n",
       "      <th></th>\n",
       "      <th></th>\n",
       "      <th></th>\n",
       "      <th></th>\n",
       "      <th></th>\n",
       "      <th></th>\n",
       "    </tr>\n",
       "  </thead>\n",
       "  <tbody>\n",
       "    <tr>\n",
       "      <th>2017-03-24 08:00:31.555</th>\n",
       "      <td>0.000</td>\n",
       "      <td>2</td>\n",
       "      <td>2</td>\n",
       "      <td>132.0</td>\n",
       "      <td>1</td>\n",
       "      <td>0</td>\n",
       "      <td>1</td>\n",
       "      <td>194</td>\n",
       "      <td>550</td>\n",
       "    </tr>\n",
       "    <tr>\n",
       "      <th>2017-03-27 10:51:19.112</th>\n",
       "      <td>0.580</td>\n",
       "      <td>2</td>\n",
       "      <td>3</td>\n",
       "      <td>229.0</td>\n",
       "      <td>1</td>\n",
       "      <td>0</td>\n",
       "      <td>1</td>\n",
       "      <td>190</td>\n",
       "      <td>409</td>\n",
       "    </tr>\n",
       "    <tr>\n",
       "      <th>2017-03-23 17:33:57.275</th>\n",
       "      <td>0.373</td>\n",
       "      <td>2</td>\n",
       "      <td>53</td>\n",
       "      <td>5885.0</td>\n",
       "      <td>0</td>\n",
       "      <td>0</td>\n",
       "      <td>1</td>\n",
       "      <td>675</td>\n",
       "      <td>184</td>\n",
       "    </tr>\n",
       "    <tr>\n",
       "      <th>2017-03-22 16:37:37.799</th>\n",
       "      <td>0.000</td>\n",
       "      <td>2</td>\n",
       "      <td>1</td>\n",
       "      <td>66.0</td>\n",
       "      <td>0</td>\n",
       "      <td>0</td>\n",
       "      <td>1</td>\n",
       "      <td>125</td>\n",
       "      <td>459</td>\n",
       "    </tr>\n",
       "    <tr>\n",
       "      <th>2017-03-24 15:19:59.626</th>\n",
       "      <td>0.000</td>\n",
       "      <td>2</td>\n",
       "      <td>1</td>\n",
       "      <td>66.0</td>\n",
       "      <td>0</td>\n",
       "      <td>0</td>\n",
       "      <td>1</td>\n",
       "      <td>388</td>\n",
       "      <td>217</td>\n",
       "    </tr>\n",
       "  </tbody>\n",
       "</table>\n",
       "</div>"
      ],
      "text/plain": [
       "                         DURATION  PROTOCOL  PACKETS   BYTES  TOS  \\\n",
       "DATE                                                                \n",
       "2017-03-24 08:00:31.555     0.000         2        2   132.0    1   \n",
       "2017-03-27 10:51:19.112     0.580         2        3   229.0    1   \n",
       "2017-03-23 17:33:57.275     0.373         2       53  5885.0    0   \n",
       "2017-03-22 16:37:37.799     0.000         2        1    66.0    0   \n",
       "2017-03-24 15:19:59.626     0.000         2        1    66.0    0   \n",
       "\n",
       "                         ATTACK_TYPE  TYPE  SRC  DST  \n",
       "DATE                                                  \n",
       "2017-03-24 08:00:31.555            0     1  194  550  \n",
       "2017-03-27 10:51:19.112            0     1  190  409  \n",
       "2017-03-23 17:33:57.275            0     1  675  184  \n",
       "2017-03-22 16:37:37.799            0     1  125  459  \n",
       "2017-03-24 15:19:59.626            0     1  388  217  "
      ]
     },
     "execution_count": 12,
     "metadata": {},
     "output_type": "execute_result"
    }
   ],
   "source": [
    "df.head()"
   ]
  },
  {
   "cell_type": "code",
   "execution_count": 13,
   "metadata": {},
   "outputs": [
    {
     "data": {
      "text/plain": [
       "0    85.4\n",
       "2    12.8\n",
       "3     1.6\n",
       "1     0.2\n",
       "Name: ATTACK_TYPE, dtype: float64"
      ]
     },
     "execution_count": 13,
     "metadata": {},
     "output_type": "execute_result"
    }
   ],
   "source": [
    "df['ATTACK_TYPE'].value_counts(normalize=True) * 100"
   ]
  },
  {
   "cell_type": "code",
   "execution_count": 14,
   "metadata": {},
   "outputs": [
    {
     "data": {
      "text/plain": [
       "1    92.4\n",
       "0     7.6\n",
       "Name: TYPE, dtype: float64"
      ]
     },
     "execution_count": 14,
     "metadata": {},
     "output_type": "execute_result"
    }
   ],
   "source": [
    "df['TYPE'].value_counts(normalize=True) * 100"
   ]
  },
  {
   "cell_type": "code",
   "execution_count": null,
   "metadata": {},
   "outputs": [],
   "source": []
  },
  {
   "cell_type": "code",
   "execution_count": null,
   "metadata": {},
   "outputs": [],
   "source": []
  },
  {
   "cell_type": "code",
   "execution_count": 16,
   "metadata": {},
   "outputs": [],
   "source": [
    "import networkx as nx"
   ]
  },
  {
   "cell_type": "code",
   "execution_count": 17,
   "metadata": {},
   "outputs": [],
   "source": [
    "import plotly.graph_objects as go"
   ]
  },
  {
   "cell_type": "code",
   "execution_count": 49,
   "metadata": {},
   "outputs": [],
   "source": [
    "G = nx.MultiGraph()"
   ]
  },
  {
   "cell_type": "code",
   "execution_count": 50,
   "metadata": {},
   "outputs": [],
   "source": [
    "nodes_df = pd.concat([\n",
    "    df[['SRC', 'TYPE']].rename(columns={'SRC': 'ID'}).reset_index(drop=True), \n",
    "    df[['DST', 'TYPE']].rename(columns={'DST': 'ID'}).reset_index(drop=True)\n",
    "]).drop_duplicates()"
   ]
  },
  {
   "cell_type": "code",
   "execution_count": 51,
   "metadata": {},
   "outputs": [
    {
     "data": {
      "text/html": [
       "<div>\n",
       "<style scoped>\n",
       "    .dataframe tbody tr th:only-of-type {\n",
       "        vertical-align: middle;\n",
       "    }\n",
       "\n",
       "    .dataframe tbody tr th {\n",
       "        vertical-align: top;\n",
       "    }\n",
       "\n",
       "    .dataframe thead th {\n",
       "        text-align: right;\n",
       "    }\n",
       "</style>\n",
       "<table border=\"1\" class=\"dataframe\">\n",
       "  <thead>\n",
       "    <tr style=\"text-align: right;\">\n",
       "      <th></th>\n",
       "      <th>ID</th>\n",
       "      <th>TYPE</th>\n",
       "    </tr>\n",
       "  </thead>\n",
       "  <tbody>\n",
       "    <tr>\n",
       "      <th>0</th>\n",
       "      <td>194</td>\n",
       "      <td>1</td>\n",
       "    </tr>\n",
       "    <tr>\n",
       "      <th>1</th>\n",
       "      <td>190</td>\n",
       "      <td>1</td>\n",
       "    </tr>\n",
       "    <tr>\n",
       "      <th>2</th>\n",
       "      <td>675</td>\n",
       "      <td>1</td>\n",
       "    </tr>\n",
       "    <tr>\n",
       "      <th>3</th>\n",
       "      <td>125</td>\n",
       "      <td>1</td>\n",
       "    </tr>\n",
       "    <tr>\n",
       "      <th>4</th>\n",
       "      <td>388</td>\n",
       "      <td>1</td>\n",
       "    </tr>\n",
       "  </tbody>\n",
       "</table>\n",
       "</div>"
      ],
      "text/plain": [
       "    ID  TYPE\n",
       "0  194     1\n",
       "1  190     1\n",
       "2  675     1\n",
       "3  125     1\n",
       "4  388     1"
      ]
     },
     "execution_count": 51,
     "metadata": {},
     "output_type": "execute_result"
    }
   ],
   "source": [
    "nodes_df.head()"
   ]
  },
  {
   "cell_type": "code",
   "execution_count": 52,
   "metadata": {},
   "outputs": [
    {
     "data": {
      "text/plain": [
       "array([1, 0])"
      ]
     },
     "execution_count": 52,
     "metadata": {},
     "output_type": "execute_result"
    }
   ],
   "source": [
    "nodes_df['TYPE'].unique()"
   ]
  },
  {
   "cell_type": "code",
   "execution_count": 56,
   "metadata": {},
   "outputs": [
    {
     "data": {
      "text/plain": [
       "1    89.878049\n",
       "0    10.121951\n",
       "Name: TYPE, dtype: float64"
      ]
     },
     "execution_count": 56,
     "metadata": {},
     "output_type": "execute_result"
    }
   ],
   "source": [
    "nodes_df['TYPE'].value_counts(normalize=True) * 100"
   ]
  },
  {
   "cell_type": "code",
   "execution_count": 57,
   "metadata": {},
   "outputs": [],
   "source": [
    "import numpy as np\n",
    "\n",
    "nodes_df['COLOR'] = np.where(nodes_df['TYPE'] == 0, \"#107be6\", \"#000000\")\n",
    "nodes_df.drop('TYPE', axis=1, inplace=True)"
   ]
  },
  {
   "cell_type": "code",
   "execution_count": 58,
   "metadata": {},
   "outputs": [
    {
     "data": {
      "text/html": [
       "<div>\n",
       "<style scoped>\n",
       "    .dataframe tbody tr th:only-of-type {\n",
       "        vertical-align: middle;\n",
       "    }\n",
       "\n",
       "    .dataframe tbody tr th {\n",
       "        vertical-align: top;\n",
       "    }\n",
       "\n",
       "    .dataframe thead th {\n",
       "        text-align: right;\n",
       "    }\n",
       "</style>\n",
       "<table border=\"1\" class=\"dataframe\">\n",
       "  <thead>\n",
       "    <tr style=\"text-align: right;\">\n",
       "      <th></th>\n",
       "      <th>ID</th>\n",
       "      <th>COLOR</th>\n",
       "    </tr>\n",
       "  </thead>\n",
       "  <tbody>\n",
       "    <tr>\n",
       "      <th>0</th>\n",
       "      <td>194</td>\n",
       "      <td>#000000</td>\n",
       "    </tr>\n",
       "    <tr>\n",
       "      <th>1</th>\n",
       "      <td>190</td>\n",
       "      <td>#000000</td>\n",
       "    </tr>\n",
       "    <tr>\n",
       "      <th>2</th>\n",
       "      <td>675</td>\n",
       "      <td>#000000</td>\n",
       "    </tr>\n",
       "    <tr>\n",
       "      <th>3</th>\n",
       "      <td>125</td>\n",
       "      <td>#000000</td>\n",
       "    </tr>\n",
       "    <tr>\n",
       "      <th>4</th>\n",
       "      <td>388</td>\n",
       "      <td>#000000</td>\n",
       "    </tr>\n",
       "  </tbody>\n",
       "</table>\n",
       "</div>"
      ],
      "text/plain": [
       "    ID    COLOR\n",
       "0  194  #000000\n",
       "1  190  #000000\n",
       "2  675  #000000\n",
       "3  125  #000000\n",
       "4  388  #000000"
      ]
     },
     "execution_count": 58,
     "metadata": {},
     "output_type": "execute_result"
    }
   ],
   "source": [
    "nodes_df.head()"
   ]
  },
  {
   "cell_type": "code",
   "execution_count": 59,
   "metadata": {},
   "outputs": [],
   "source": [
    "nodes_list = nodes_df.to_dict('records')"
   ]
  },
  {
   "cell_type": "code",
   "execution_count": 60,
   "metadata": {},
   "outputs": [],
   "source": [
    "G.add_nodes_from([(node['ID'], {\"color\": node[\"COLOR\"]}) for node in nodes_list])"
   ]
  },
  {
   "cell_type": "code",
   "execution_count": 62,
   "metadata": {},
   "outputs": [],
   "source": [
    "edges_df = df[['SRC', 'DST', 'DURATION', 'PROTOCOL', 'PACKETS', 'BYTES', 'TOS', 'ATTACK_TYPE']]\n",
    "edges_df['SPEED'] = edges_df['BYTES'] / edges_df['DURATION']\n",
    "edges_df['SPEED'] = edges_df['SPEED'].replace([np.inf, -np.inf], 0.01)\n",
    "\n",
    "\n",
    "edges_df.reset_index(inplace=True, drop=True)"
   ]
  },
  {
   "cell_type": "code",
   "execution_count": null,
   "metadata": {},
   "outputs": [],
   "source": []
  },
  {
   "cell_type": "code",
   "execution_count": 63,
   "metadata": {},
   "outputs": [
    {
     "data": {
      "text/html": [
       "<div>\n",
       "<style scoped>\n",
       "    .dataframe tbody tr th:only-of-type {\n",
       "        vertical-align: middle;\n",
       "    }\n",
       "\n",
       "    .dataframe tbody tr th {\n",
       "        vertical-align: top;\n",
       "    }\n",
       "\n",
       "    .dataframe thead th {\n",
       "        text-align: right;\n",
       "    }\n",
       "</style>\n",
       "<table border=\"1\" class=\"dataframe\">\n",
       "  <thead>\n",
       "    <tr style=\"text-align: right;\">\n",
       "      <th></th>\n",
       "      <th>SRC</th>\n",
       "      <th>DST</th>\n",
       "      <th>DURATION</th>\n",
       "      <th>PROTOCOL</th>\n",
       "      <th>PACKETS</th>\n",
       "      <th>BYTES</th>\n",
       "      <th>TOS</th>\n",
       "      <th>ATTACK_TYPE</th>\n",
       "      <th>SPEED</th>\n",
       "    </tr>\n",
       "  </thead>\n",
       "  <tbody>\n",
       "    <tr>\n",
       "      <th>0</th>\n",
       "      <td>194</td>\n",
       "      <td>550</td>\n",
       "      <td>0.000</td>\n",
       "      <td>2</td>\n",
       "      <td>2</td>\n",
       "      <td>132.0</td>\n",
       "      <td>1</td>\n",
       "      <td>0</td>\n",
       "      <td>0.010000</td>\n",
       "    </tr>\n",
       "    <tr>\n",
       "      <th>1</th>\n",
       "      <td>190</td>\n",
       "      <td>409</td>\n",
       "      <td>0.580</td>\n",
       "      <td>2</td>\n",
       "      <td>3</td>\n",
       "      <td>229.0</td>\n",
       "      <td>1</td>\n",
       "      <td>0</td>\n",
       "      <td>394.827586</td>\n",
       "    </tr>\n",
       "    <tr>\n",
       "      <th>2</th>\n",
       "      <td>675</td>\n",
       "      <td>184</td>\n",
       "      <td>0.373</td>\n",
       "      <td>2</td>\n",
       "      <td>53</td>\n",
       "      <td>5885.0</td>\n",
       "      <td>0</td>\n",
       "      <td>0</td>\n",
       "      <td>15777.479893</td>\n",
       "    </tr>\n",
       "    <tr>\n",
       "      <th>3</th>\n",
       "      <td>125</td>\n",
       "      <td>459</td>\n",
       "      <td>0.000</td>\n",
       "      <td>2</td>\n",
       "      <td>1</td>\n",
       "      <td>66.0</td>\n",
       "      <td>0</td>\n",
       "      <td>0</td>\n",
       "      <td>0.010000</td>\n",
       "    </tr>\n",
       "    <tr>\n",
       "      <th>4</th>\n",
       "      <td>388</td>\n",
       "      <td>217</td>\n",
       "      <td>0.000</td>\n",
       "      <td>2</td>\n",
       "      <td>1</td>\n",
       "      <td>66.0</td>\n",
       "      <td>0</td>\n",
       "      <td>0</td>\n",
       "      <td>0.010000</td>\n",
       "    </tr>\n",
       "  </tbody>\n",
       "</table>\n",
       "</div>"
      ],
      "text/plain": [
       "   SRC  DST  DURATION  PROTOCOL  PACKETS   BYTES  TOS  ATTACK_TYPE  \\\n",
       "0  194  550     0.000         2        2   132.0    1            0   \n",
       "1  190  409     0.580         2        3   229.0    1            0   \n",
       "2  675  184     0.373         2       53  5885.0    0            0   \n",
       "3  125  459     0.000         2        1    66.0    0            0   \n",
       "4  388  217     0.000         2        1    66.0    0            0   \n",
       "\n",
       "          SPEED  \n",
       "0      0.010000  \n",
       "1    394.827586  \n",
       "2  15777.479893  \n",
       "3      0.010000  \n",
       "4      0.010000  "
      ]
     },
     "execution_count": 63,
     "metadata": {},
     "output_type": "execute_result"
    }
   ],
   "source": [
    "edges_df.head()"
   ]
  },
  {
   "cell_type": "code",
   "execution_count": 64,
   "metadata": {},
   "outputs": [],
   "source": [
    "for e in edges_df.to_dict('records'):\n",
    "#     for w in ['DURATION', 'PACKETS', 'BYTES', 'SPEED']:\n",
    "#         G.add_weighted_edges_from([(e['SRC'], e['DST'], e[w])], color={0: 'blue'}.get(e['ATTACK_TYPE'], \"red\"))\n",
    "\n",
    "    G.add_weighted_edges_from(\n",
    "        [(e['SRC'], e['DST'], e['SPEED'])], \n",
    "        color={\n",
    "            0: '#299e50',\n",
    "            1: \"#ff0000\",\n",
    "            2: \"#ff0000\"\n",
    "        }.get(e['ATTACK_TYPE'], \"#000000\")\n",
    "    )"
   ]
  },
  {
   "cell_type": "code",
   "execution_count": 65,
   "metadata": {},
   "outputs": [],
   "source": [
    "N = G.number_of_nodes()"
   ]
  },
  {
   "cell_type": "code",
   "execution_count": 66,
   "metadata": {},
   "outputs": [],
   "source": [
    "from plotly.graph_objs import *"
   ]
  },
  {
   "cell_type": "code",
   "execution_count": 67,
   "metadata": {},
   "outputs": [],
   "source": [
    "import plotly.express as px"
   ]
  },
  {
   "cell_type": "code",
   "execution_count": 68,
   "metadata": {},
   "outputs": [],
   "source": [
    "pos = nx.random_layout(G)"
   ]
  },
  {
   "cell_type": "code",
   "execution_count": 69,
   "metadata": {},
   "outputs": [],
   "source": [
    "color_by_nodes = {x[0]: x[1]['color'] for x in G.nodes.data()}\n",
    "nodes_colors = [color_by_nodes[x] for x in pos]"
   ]
  },
  {
   "cell_type": "code",
   "execution_count": null,
   "metadata": {},
   "outputs": [],
   "source": []
  },
  {
   "cell_type": "code",
   "execution_count": null,
   "metadata": {},
   "outputs": [],
   "source": []
  },
  {
   "cell_type": "code",
   "execution_count": null,
   "metadata": {},
   "outputs": [],
   "source": [
    "# Xed, Yed, edges_colors, weights = [], [], [], []\n",
    "\n",
    "# for edge in G.edges.data():\n",
    "    \n",
    "#     Xed += (pos[edge[0]][0], pos[edge[1]][0])\n",
    "#     Yed += (pos[edge[0]][1], pos[edge[1]][1])\n",
    "    \n",
    "#     edges_colors += ({0: 'blue'}.get(edge[2]['color'], 'red'), {0: 'blue'}.get(edge[2]['color'], 'red'))\n",
    "#     weights += [edge[2]['weight']]"
   ]
  },
  {
   "cell_type": "code",
   "execution_count": null,
   "metadata": {},
   "outputs": [],
   "source": [
    "# trace_ed = Scatter(x=Xed, \n",
    "#                    y=Yed, \n",
    "#                    mode='lines', \n",
    "#                    line=dict(width=2, color=colors[k])) for k, e in enumerate(G.edges()), \n",
    "#                    hoverinfo='all')\n",
    "\n",
    "# trace_ed = px.scatter(x=Xed, y=Yed, color=colors, size=weights)\n",
    "\n",
    "\n",
    "# trace_ed = [Scatter(x=[pos[e[0]][0], pos[e[1]][0]],\n",
    "#                     y=[pos[e[0]][1], pos[e[1]][1]],\n",
    "#                     mode='lines',\n",
    "#                     line=dict(width=2, color=colors[k])) for k, e in enumerate(G.edges())\n",
    "#            ]"
   ]
  },
  {
   "cell_type": "code",
   "execution_count": null,
   "metadata": {},
   "outputs": [],
   "source": [
    "# trace_v = Scatter(x=Xv, \n",
    "#                   y=Yv, \n",
    "#                   mode='markers', \n",
    "#                   name='net',\n",
    "#                   marker=dict(symbol='circle-dot',\n",
    "#                               size=6,\n",
    "#                               color='#6959CD',\n",
    "#                               line=dict(color='rgb(50,50,50)', width=0.5)\n",
    "#                              ),\n",
    "#                   hoverinfo='text'\n",
    "#                  )"
   ]
  },
  {
   "cell_type": "code",
   "execution_count": null,
   "metadata": {},
   "outputs": [],
   "source": [
    "# nodes = dict(\n",
    "#            type='scatter',\n",
    "#            x=Xv,\n",
    "#            y=Yv,\n",
    "#            mode='markers',\n",
    "#            name='net',\n",
    "#            marker=dict(symbol='circle-dot',\n",
    "#                        size=6,\n",
    "#                        color='#6959CD',\n",
    "#                        line=dict(color='rgb(50,50,50)', width=0.5)\n",
    "#                   )\n",
    "#           )\n",
    "\n",
    "# edges_list=[dict(\n",
    "#              type='scatter',\n",
    "#              x=Xed,\n",
    "#              y=Yed,\n",
    "#              mode='lines',\n",
    "#              line=dict(width=2, color=colors[k])) for k, e in enumerate(G.edges())\n",
    "#            ]"
   ]
  },
  {
   "cell_type": "code",
   "execution_count": 71,
   "metadata": {},
   "outputs": [],
   "source": [
    "width=1100\n",
    "height=900"
   ]
  },
  {
   "cell_type": "code",
   "execution_count": 72,
   "metadata": {},
   "outputs": [],
   "source": [
    "axis=dict(showline=False, # hide axis line, grid, ticklabels and  title\n",
    "          zeroline=False,\n",
    "          showgrid=False,\n",
    "          showticklabels=False,\n",
    "          title='Netflow multigraph data'\n",
    "          )"
   ]
  },
  {
   "cell_type": "code",
   "execution_count": 73,
   "metadata": {},
   "outputs": [],
   "source": [
    "_layout=Layout(\n",
    "    font= dict(size=12),\n",
    "    showlegend=False,\n",
    "    autosize=False,\n",
    "    width=width,\n",
    "    height=height,\n",
    "    xaxis=layout.XAxis(axis),\n",
    "    yaxis=layout.YAxis(axis),\n",
    "    margin=layout.Margin(\n",
    "        l=40,\n",
    "        r=40,\n",
    "        b=85,\n",
    "        t=100,\n",
    "    ),\n",
    "    hovermode='closest',\n",
    "    annotations=[\n",
    "           dict(\n",
    "               showarrow=False,\n",
    "                text='#PFA (WIP)',\n",
    "                xref='paper',\n",
    "                yref='paper',\n",
    "                x=0,\n",
    "                y=-0.1,\n",
    "                xanchor='left',\n",
    "                yanchor='bottom',\n",
    "                font=dict(\n",
    "                    size=14\n",
    "                )\n",
    "           )\n",
    "    ]\n",
    ")"
   ]
  },
  {
   "cell_type": "code",
   "execution_count": null,
   "metadata": {},
   "outputs": [],
   "source": [
    "# fig=Figure(data=[trace_ed, trace_v], layout=_layout)\n",
    "# fig['layout']['annotations'][0]['text']= \"Netflow graphs\"\n",
    "\n",
    "# fig.show()"
   ]
  },
  {
   "cell_type": "code",
   "execution_count": 75,
   "metadata": {},
   "outputs": [],
   "source": [
    "Xv, Yv = [pos[k][0] for k in range(N)], [pos[k][1] for k in range(N)]\n",
    "nodes_scatter = go.Scattergl(x=Xv, y=Yv, mode='markers', marker=dict(size=8, color=nodes_colors, line_width=1))"
   ]
  },
  {
   "cell_type": "code",
   "execution_count": 76,
   "metadata": {},
   "outputs": [],
   "source": [
    "edges_list = [\n",
    "                Scatter(x=[pos[e[0]][0], pos[e[1]][0]], \n",
    "                        y=[pos[e[0]][1], pos[e[1]][1]],\n",
    "                        mode='lines',\n",
    "                        line=dict(width=0.5, color=e[2]['color'])\n",
    "                       ) for k, e in enumerate(G.edges.data())\n",
    "             ]"
   ]
  },
  {
   "cell_type": "code",
   "execution_count": 77,
   "metadata": {},
   "outputs": [],
   "source": [
    "edges_list.append(nodes_scatter)"
   ]
  },
  {
   "cell_type": "code",
   "execution_count": 78,
   "metadata": {},
   "outputs": [
    {
     "data": {
      "application/vnd.plotly.v1+json": {
       "config": {
        "plotlyServerURL": "https://plot.ly"
       },
       "data": [
        {
         "line": {
          "color": "#299e50",
          "width": 0.5
         },
         "mode": "lines",
         "type": "scatter",
         "x": [
          0.161015585064888,
          0.19529449939727783
         ],
         "y": [
          0.7885681986808777,
          0.7851591110229492
         ]
        },
        {
         "line": {
          "color": "#299e50",
          "width": 0.5
         },
         "mode": "lines",
         "type": "scatter",
         "x": [
          0.161015585064888,
          0.8584048748016357
         ],
         "y": [
          0.7885681986808777,
          0.6441057324409485
         ]
        },
        {
         "line": {
          "color": "#299e50",
          "width": 0.5
         },
         "mode": "lines",
         "type": "scatter",
         "x": [
          0.2833520174026489,
          0.40054580569267273
         ],
         "y": [
          0.607707142829895,
          0.5089609622955322
         ]
        },
        {
         "line": {
          "color": "#299e50",
          "width": 0.5
         },
         "mode": "lines",
         "type": "scatter",
         "x": [
          0.2833520174026489,
          0.44647952914237976
         ],
         "y": [
          0.607707142829895,
          0.30975791811943054
         ]
        },
        {
         "line": {
          "color": "#299e50",
          "width": 0.5
         },
         "mode": "lines",
         "type": "scatter",
         "x": [
          0.2833520174026489,
          0.5653786659240723
         ],
         "y": [
          0.607707142829895,
          0.8866557478904724
         ]
        },
        {
         "line": {
          "color": "#299e50",
          "width": 0.5
         },
         "mode": "lines",
         "type": "scatter",
         "x": [
          0.8147003054618835,
          0.030361799523234367
         ],
         "y": [
          0.8724064826965332,
          0.284953773021698
         ]
        },
        {
         "line": {
          "color": "#299e50",
          "width": 0.5
         },
         "mode": "lines",
         "type": "scatter",
         "x": [
          0.8147003054618835,
          0.1526137888431549
         ],
         "y": [
          0.8724064826965332,
          0.4687170088291168
         ]
        },
        {
         "line": {
          "color": "#299e50",
          "width": 0.5
         },
         "mode": "lines",
         "type": "scatter",
         "x": [
          0.6079154014587402,
          0.2792825996875763
         ],
         "y": [
          0.889258623123169,
          0.23198719322681427
         ]
        },
        {
         "line": {
          "color": "#299e50",
          "width": 0.5
         },
         "mode": "lines",
         "type": "scatter",
         "x": [
          0.6079154014587402,
          0.6455848813056946
         ],
         "y": [
          0.889258623123169,
          0.9835445880889893
         ]
        },
        {
         "line": {
          "color": "#299e50",
          "width": 0.5
         },
         "mode": "lines",
         "type": "scatter",
         "x": [
          0.6079154014587402,
          0.605262041091919
         ],
         "y": [
          0.889258623123169,
          0.4270661473274231
         ]
        },
        {
         "line": {
          "color": "#299e50",
          "width": 0.5
         },
         "mode": "lines",
         "type": "scatter",
         "x": [
          0.6079154014587402,
          0.5397505164146423
         ],
         "y": [
          0.889258623123169,
          0.07422801107168198
         ]
        },
        {
         "line": {
          "color": "#299e50",
          "width": 0.5
         },
         "mode": "lines",
         "type": "scatter",
         "x": [
          0.6079154014587402,
          0.3421109616756439
         ],
         "y": [
          0.889258623123169,
          0.7583768367767334
         ]
        },
        {
         "line": {
          "color": "#299e50",
          "width": 0.5
         },
         "mode": "lines",
         "type": "scatter",
         "x": [
          0.6079154014587402,
          0.5483383536338806
         ],
         "y": [
          0.889258623123169,
          0.2914341986179352
         ]
        },
        {
         "line": {
          "color": "#299e50",
          "width": 0.5
         },
         "mode": "lines",
         "type": "scatter",
         "x": [
          0.16380199790000916,
          0.4624398648738861
         ],
         "y": [
          0.14716656506061554,
          0.46041905879974365
         ]
        },
        {
         "line": {
          "color": "#299e50",
          "width": 0.5
         },
         "mode": "lines",
         "type": "scatter",
         "x": [
          0.16380199790000916,
          0.9533740282058716
         ],
         "y": [
          0.14716656506061554,
          0.30268898606300354
         ]
        },
        {
         "line": {
          "color": "#299e50",
          "width": 0.5
         },
         "mode": "lines",
         "type": "scatter",
         "x": [
          0.6274234056472778,
          0.8605000972747803
         ],
         "y": [
          0.9152544736862183,
          0.4711788594722748
         ]
        },
        {
         "line": {
          "color": "#299e50",
          "width": 0.5
         },
         "mode": "lines",
         "type": "scatter",
         "x": [
          0.6274234056472778,
          0.8069401979446411
         ],
         "y": [
          0.9152544736862183,
          0.008803833276033401
         ]
        },
        {
         "line": {
          "color": "#299e50",
          "width": 0.5
         },
         "mode": "lines",
         "type": "scatter",
         "x": [
          0.7331635355949402,
          0.20618808269500732
         ],
         "y": [
          0.0672500729560852,
          0.831110417842865
         ]
        },
        {
         "line": {
          "color": "#299e50",
          "width": 0.5
         },
         "mode": "lines",
         "type": "scatter",
         "x": [
          0.7331635355949402,
          0.2603057026863098
         ],
         "y": [
          0.0672500729560852,
          0.07892276346683502
         ]
        },
        {
         "line": {
          "color": "#299e50",
          "width": 0.5
         },
         "mode": "lines",
         "type": "scatter",
         "x": [
          0.268034964799881,
          0.4171616733074188
         ],
         "y": [
          0.0020810833666473627,
          0.006484791170805693
         ]
        },
        {
         "line": {
          "color": "#299e50",
          "width": 0.5
         },
         "mode": "lines",
         "type": "scatter",
         "x": [
          0.268034964799881,
          0.3543585538864136
         ],
         "y": [
          0.0020810833666473627,
          0.8624551892280579
         ]
        },
        {
         "line": {
          "color": "#299e50",
          "width": 0.5
         },
         "mode": "lines",
         "type": "scatter",
         "x": [
          0.268034964799881,
          0.5480067133903503
         ],
         "y": [
          0.0020810833666473627,
          0.9136435985565186
         ]
        },
        {
         "line": {
          "color": "#299e50",
          "width": 0.5
         },
         "mode": "lines",
         "type": "scatter",
         "x": [
          0.268034964799881,
          0.5211465954780579
         ],
         "y": [
          0.0020810833666473627,
          0.09790996462106705
         ]
        },
        {
         "line": {
          "color": "#299e50",
          "width": 0.5
         },
         "mode": "lines",
         "type": "scatter",
         "x": [
          0.268034964799881,
          0.2768997550010681
         ],
         "y": [
          0.0020810833666473627,
          0.5496101379394531
         ]
        },
        {
         "line": {
          "color": "#299e50",
          "width": 0.5
         },
         "mode": "lines",
         "type": "scatter",
         "x": [
          0.268034964799881,
          0.11912716925144196
         ],
         "y": [
          0.0020810833666473627,
          0.7902355790138245
         ]
        },
        {
         "line": {
          "color": "#299e50",
          "width": 0.5
         },
         "mode": "lines",
         "type": "scatter",
         "x": [
          0.268034964799881,
          0.390489399433136
         ],
         "y": [
          0.0020810833666473627,
          0.6408081650733948
         ]
        },
        {
         "line": {
          "color": "#299e50",
          "width": 0.5
         },
         "mode": "lines",
         "type": "scatter",
         "x": [
          0.268034964799881,
          0.8173415660858154
         ],
         "y": [
          0.0020810833666473627,
          0.666367769241333
         ]
        },
        {
         "line": {
          "color": "#299e50",
          "width": 0.5
         },
         "mode": "lines",
         "type": "scatter",
         "x": [
          0.268034964799881,
          0.5511165857315063
         ],
         "y": [
          0.0020810833666473627,
          0.9505001306533813
         ]
        },
        {
         "line": {
          "color": "#299e50",
          "width": 0.5
         },
         "mode": "lines",
         "type": "scatter",
         "x": [
          0.268034964799881,
          0.16167396306991577
         ],
         "y": [
          0.0020810833666473627,
          0.7216278910636902
         ]
        },
        {
         "line": {
          "color": "#299e50",
          "width": 0.5
         },
         "mode": "lines",
         "type": "scatter",
         "x": [
          0.268034964799881,
          0.16094909608364105
         ],
         "y": [
          0.0020810833666473627,
          0.5785831212997437
         ]
        },
        {
         "line": {
          "color": "#299e50",
          "width": 0.5
         },
         "mode": "lines",
         "type": "scatter",
         "x": [
          0.268034964799881,
          0.15918226540088654
         ],
         "y": [
          0.0020810833666473627,
          0.7389870285987854
         ]
        },
        {
         "line": {
          "color": "#299e50",
          "width": 0.5
         },
         "mode": "lines",
         "type": "scatter",
         "x": [
          0.268034964799881,
          0.003788951551541686
         ],
         "y": [
          0.0020810833666473627,
          0.819857120513916
         ]
        },
        {
         "line": {
          "color": "#299e50",
          "width": 0.5
         },
         "mode": "lines",
         "type": "scatter",
         "x": [
          0.8517173528671265,
          0.7325194478034973
         ],
         "y": [
          0.8302371501922607,
          0.8703819513320923
         ]
        },
        {
         "line": {
          "color": "#299e50",
          "width": 0.5
         },
         "mode": "lines",
         "type": "scatter",
         "x": [
          0.8517173528671265,
          0.9535922408103943
         ],
         "y": [
          0.8302371501922607,
          0.7105864882469177
         ]
        },
        {
         "line": {
          "color": "#299e50",
          "width": 0.5
         },
         "mode": "lines",
         "type": "scatter",
         "x": [
          0.4823989272117615,
          0.3464466631412506
         ],
         "y": [
          0.5989057421684265,
          0.7880702018737793
         ]
        },
        {
         "line": {
          "color": "#299e50",
          "width": 0.5
         },
         "mode": "lines",
         "type": "scatter",
         "x": [
          0.4823989272117615,
          0.5145339965820312
         ],
         "y": [
          0.5989057421684265,
          0.4334047734737396
         ]
        },
        {
         "line": {
          "color": "#299e50",
          "width": 0.5
         },
         "mode": "lines",
         "type": "scatter",
         "x": [
          0.5678903460502625,
          0.7865979075431824
         ],
         "y": [
          0.8447869420051575,
          0.3577098250389099
         ]
        },
        {
         "line": {
          "color": "#299e50",
          "width": 0.5
         },
         "mode": "lines",
         "type": "scatter",
         "x": [
          0.5678903460502625,
          0.2603057026863098
         ],
         "y": [
          0.8447869420051575,
          0.07892276346683502
         ]
        },
        {
         "line": {
          "color": "#299e50",
          "width": 0.5
         },
         "mode": "lines",
         "type": "scatter",
         "x": [
          0.3043692708015442,
          0.9637556076049805
         ],
         "y": [
          0.47869792580604553,
          0.5973120927810669
         ]
        },
        {
         "line": {
          "color": "#299e50",
          "width": 0.5
         },
         "mode": "lines",
         "type": "scatter",
         "x": [
          0.3043692708015442,
          0.9239086508750916
         ],
         "y": [
          0.47869792580604553,
          0.16225780546665192
         ]
        },
        {
         "line": {
          "color": "#299e50",
          "width": 0.5
         },
         "mode": "lines",
         "type": "scatter",
         "x": [
          0.3043692708015442,
          0.40054580569267273
         ],
         "y": [
          0.47869792580604553,
          0.5089609622955322
         ]
        },
        {
         "line": {
          "color": "#299e50",
          "width": 0.5
         },
         "mode": "lines",
         "type": "scatter",
         "x": [
          0.3043692708015442,
          0.8289695382118225
         ],
         "y": [
          0.47869792580604553,
          0.9792983531951904
         ]
        },
        {
         "line": {
          "color": "#299e50",
          "width": 0.5
         },
         "mode": "lines",
         "type": "scatter",
         "x": [
          0.3301878273487091,
          0.4166320860385895
         ],
         "y": [
          0.40855321288108826,
          0.8825346827507019
         ]
        },
        {
         "line": {
          "color": "#299e50",
          "width": 0.5
         },
         "mode": "lines",
         "type": "scatter",
         "x": [
          0.3301878273487091,
          0.7147647738456726
         ],
         "y": [
          0.40855321288108826,
          0.9587607383728027
         ]
        },
        {
         "line": {
          "color": "#ff0000",
          "width": 0.5
         },
         "mode": "lines",
         "type": "scatter",
         "x": [
          0.34151777625083923,
          0.688102662563324
         ],
         "y": [
          0.3481553792953491,
          0.9888705611228943
         ]
        },
        {
         "line": {
          "color": "#299e50",
          "width": 0.5
         },
         "mode": "lines",
         "type": "scatter",
         "x": [
          0.34151777625083923,
          0.196201354265213
         ],
         "y": [
          0.3481553792953491,
          0.2516557574272156
         ]
        },
        {
         "line": {
          "color": "#299e50",
          "width": 0.5
         },
         "mode": "lines",
         "type": "scatter",
         "x": [
          0.2603057026863098,
          0.298348993062973
         ],
         "y": [
          0.07892276346683502,
          0.06702214479446411
         ]
        },
        {
         "line": {
          "color": "#299e50",
          "width": 0.5
         },
         "mode": "lines",
         "type": "scatter",
         "x": [
          0.2603057026863098,
          0.514175295829773
         ],
         "y": [
          0.07892276346683502,
          0.2708350718021393
         ]
        },
        {
         "line": {
          "color": "#299e50",
          "width": 0.5
         },
         "mode": "lines",
         "type": "scatter",
         "x": [
          0.2603057026863098,
          0.8842065334320068
         ],
         "y": [
          0.07892276346683502,
          0.39567869901657104
         ]
        },
        {
         "line": {
          "color": "#299e50",
          "width": 0.5
         },
         "mode": "lines",
         "type": "scatter",
         "x": [
          0.2603057026863098,
          0.08868295699357986
         ],
         "y": [
          0.07892276346683502,
          0.912906289100647
         ]
        },
        {
         "line": {
          "color": "#299e50",
          "width": 0.5
         },
         "mode": "lines",
         "type": "scatter",
         "x": [
          0.2603057026863098,
          0.2706001400947571
         ],
         "y": [
          0.07892276346683502,
          0.17366823554039001
         ]
        },
        {
         "line": {
          "color": "#299e50",
          "width": 0.5
         },
         "mode": "lines",
         "type": "scatter",
         "x": [
          0.2603057026863098,
          0.542349100112915
         ],
         "y": [
          0.07892276346683502,
          0.18998554348945618
         ]
        },
        {
         "line": {
          "color": "#299e50",
          "width": 0.5
         },
         "mode": "lines",
         "type": "scatter",
         "x": [
          0.2603057026863098,
          0.26842692494392395
         ],
         "y": [
          0.07892276346683502,
          0.44399169087409973
         ]
        },
        {
         "line": {
          "color": "#299e50",
          "width": 0.5
         },
         "mode": "lines",
         "type": "scatter",
         "x": [
          0.2603057026863098,
          0.5751445889472961
         ],
         "y": [
          0.07892276346683502,
          0.7928558588027954
         ]
        },
        {
         "line": {
          "color": "#299e50",
          "width": 0.5
         },
         "mode": "lines",
         "type": "scatter",
         "x": [
          0.2603057026863098,
          0.8152745366096497
         ],
         "y": [
          0.07892276346683502,
          0.996525764465332
         ]
        },
        {
         "line": {
          "color": "#299e50",
          "width": 0.5
         },
         "mode": "lines",
         "type": "scatter",
         "x": [
          0.2603057026863098,
          0.15171773731708527
         ],
         "y": [
          0.07892276346683502,
          0.8544511198997498
         ]
        },
        {
         "line": {
          "color": "#299e50",
          "width": 0.5
         },
         "mode": "lines",
         "type": "scatter",
         "x": [
          0.2603057026863098,
          0.032796379178762436
         ],
         "y": [
          0.07892276346683502,
          0.11914670467376709
         ]
        },
        {
         "line": {
          "color": "#299e50",
          "width": 0.5
         },
         "mode": "lines",
         "type": "scatter",
         "x": [
          0.2603057026863098,
          0.6808767914772034
         ],
         "y": [
          0.07892276346683502,
          0.03834191709756851
         ]
        },
        {
         "line": {
          "color": "#299e50",
          "width": 0.5
         },
         "mode": "lines",
         "type": "scatter",
         "x": [
          0.2603057026863098,
          0.6774746179580688
         ],
         "y": [
          0.07892276346683502,
          0.19489191472530365
         ]
        },
        {
         "line": {
          "color": "#299e50",
          "width": 0.5
         },
         "mode": "lines",
         "type": "scatter",
         "x": [
          0.2603057026863098,
          0.9895837903022766
         ],
         "y": [
          0.07892276346683502,
          0.2675274908542633
         ]
        },
        {
         "line": {
          "color": "#299e50",
          "width": 0.5
         },
         "mode": "lines",
         "type": "scatter",
         "x": [
          0.2603057026863098,
          0.2209007740020752
         ],
         "y": [
          0.07892276346683502,
          0.2726285755634308
         ]
        },
        {
         "line": {
          "color": "#299e50",
          "width": 0.5
         },
         "mode": "lines",
         "type": "scatter",
         "x": [
          0.2603057026863098,
          0.9992673397064209
         ],
         "y": [
          0.07892276346683502,
          0.2909756302833557
         ]
        },
        {
         "line": {
          "color": "#299e50",
          "width": 0.5
         },
         "mode": "lines",
         "type": "scatter",
         "x": [
          0.2603057026863098,
          0.36881691217422485
         ],
         "y": [
          0.07892276346683502,
          0.12157180905342102
         ]
        },
        {
         "line": {
          "color": "#299e50",
          "width": 0.5
         },
         "mode": "lines",
         "type": "scatter",
         "x": [
          0.2603057026863098,
          0.45909276604652405
         ],
         "y": [
          0.07892276346683502,
          0.11685732752084732
         ]
        },
        {
         "line": {
          "color": "#299e50",
          "width": 0.5
         },
         "mode": "lines",
         "type": "scatter",
         "x": [
          0.2603057026863098,
          0.43852195143699646
         ],
         "y": [
          0.07892276346683502,
          0.050694745033979416
         ]
        },
        {
         "line": {
          "color": "#299e50",
          "width": 0.5
         },
         "mode": "lines",
         "type": "scatter",
         "x": [
          0.2603057026863098,
          0.5696626901626587
         ],
         "y": [
          0.07892276346683502,
          0.1722274124622345
         ]
        },
        {
         "line": {
          "color": "#299e50",
          "width": 0.5
         },
         "mode": "lines",
         "type": "scatter",
         "x": [
          0.2603057026863098,
          0.7327216863632202
         ],
         "y": [
          0.07892276346683502,
          0.24746835231781006
         ]
        },
        {
         "line": {
          "color": "#299e50",
          "width": 0.5
         },
         "mode": "lines",
         "type": "scatter",
         "x": [
          0.2603057026863098,
          0.6665454506874084
         ],
         "y": [
          0.07892276346683502,
          0.17145457863807678
         ]
        },
        {
         "line": {
          "color": "#299e50",
          "width": 0.5
         },
         "mode": "lines",
         "type": "scatter",
         "x": [
          0.2603057026863098,
          0.705091118812561
         ],
         "y": [
          0.07892276346683502,
          0.03111584484577179
         ]
        },
        {
         "line": {
          "color": "#299e50",
          "width": 0.5
         },
         "mode": "lines",
         "type": "scatter",
         "x": [
          0.2603057026863098,
          0.3708462417125702
         ],
         "y": [
          0.07892276346683502,
          0.19386571645736694
         ]
        },
        {
         "line": {
          "color": "#299e50",
          "width": 0.5
         },
         "mode": "lines",
         "type": "scatter",
         "x": [
          0.2603057026863098,
          0.2550572156906128
         ],
         "y": [
          0.07892276346683502,
          0.9837720394134521
         ]
        },
        {
         "line": {
          "color": "#299e50",
          "width": 0.5
         },
         "mode": "lines",
         "type": "scatter",
         "x": [
          0.2603057026863098,
          0.996374785900116
         ],
         "y": [
          0.07892276346683502,
          0.6876592636108398
         ]
        },
        {
         "line": {
          "color": "#299e50",
          "width": 0.5
         },
         "mode": "lines",
         "type": "scatter",
         "x": [
          0.2603057026863098,
          0.5209252834320068
         ],
         "y": [
          0.07892276346683502,
          0.7655325531959534
         ]
        },
        {
         "line": {
          "color": "#299e50",
          "width": 0.5
         },
         "mode": "lines",
         "type": "scatter",
         "x": [
          0.2603057026863098,
          0.6931230425834656
         ],
         "y": [
          0.07892276346683502,
          0.8543417453765869
         ]
        },
        {
         "line": {
          "color": "#299e50",
          "width": 0.5
         },
         "mode": "lines",
         "type": "scatter",
         "x": [
          0.2603057026863098,
          0.43728259205818176
         ],
         "y": [
          0.07892276346683502,
          0.4425699710845947
         ]
        },
        {
         "line": {
          "color": "#299e50",
          "width": 0.5
         },
         "mode": "lines",
         "type": "scatter",
         "x": [
          0.2603057026863098,
          0.8297252058982849
         ],
         "y": [
          0.07892276346683502,
          0.6329551935195923
         ]
        },
        {
         "line": {
          "color": "#299e50",
          "width": 0.5
         },
         "mode": "lines",
         "type": "scatter",
         "x": [
          0.2603057026863098,
          0.2303985059261322
         ],
         "y": [
          0.07892276346683502,
          0.27691709995269775
         ]
        },
        {
         "line": {
          "color": "#299e50",
          "width": 0.5
         },
         "mode": "lines",
         "type": "scatter",
         "x": [
          0.2603057026863098,
          0.9569575786590576
         ],
         "y": [
          0.07892276346683502,
          0.4416434168815613
         ]
        },
        {
         "line": {
          "color": "#299e50",
          "width": 0.5
         },
         "mode": "lines",
         "type": "scatter",
         "x": [
          0.2603057026863098,
          0.09249965846538544
         ],
         "y": [
          0.07892276346683502,
          0.8860867023468018
         ]
        },
        {
         "line": {
          "color": "#299e50",
          "width": 0.5
         },
         "mode": "lines",
         "type": "scatter",
         "x": [
          0.2603057026863098,
          0.8289695382118225
         ],
         "y": [
          0.07892276346683502,
          0.9792983531951904
         ]
        },
        {
         "line": {
          "color": "#299e50",
          "width": 0.5
         },
         "mode": "lines",
         "type": "scatter",
         "x": [
          0.2603057026863098,
          0.7068064212799072
         ],
         "y": [
          0.07892276346683502,
          0.5578750967979431
         ]
        },
        {
         "line": {
          "color": "#299e50",
          "width": 0.5
         },
         "mode": "lines",
         "type": "scatter",
         "x": [
          0.2603057026863098,
          0.3470461666584015
         ],
         "y": [
          0.07892276346683502,
          0.947212278842926
         ]
        },
        {
         "line": {
          "color": "#299e50",
          "width": 0.5
         },
         "mode": "lines",
         "type": "scatter",
         "x": [
          0.2603057026863098,
          0.1486324816942215
         ],
         "y": [
          0.07892276346683502,
          0.6316366791725159
         ]
        },
        {
         "line": {
          "color": "#299e50",
          "width": 0.5
         },
         "mode": "lines",
         "type": "scatter",
         "x": [
          0.2603057026863098,
          0.23094749450683594
         ],
         "y": [
          0.07892276346683502,
          0.29867780208587646
         ]
        },
        {
         "line": {
          "color": "#299e50",
          "width": 0.5
         },
         "mode": "lines",
         "type": "scatter",
         "x": [
          0.2603057026863098,
          0.9706009030342102
         ],
         "y": [
          0.07892276346683502,
          0.8453694581985474
         ]
        },
        {
         "line": {
          "color": "#299e50",
          "width": 0.5
         },
         "mode": "lines",
         "type": "scatter",
         "x": [
          0.2603057026863098,
          0.46805837750434875
         ],
         "y": [
          0.07892276346683502,
          0.6002578735351562
         ]
        },
        {
         "line": {
          "color": "#299e50",
          "width": 0.5
         },
         "mode": "lines",
         "type": "scatter",
         "x": [
          0.2603057026863098,
          0.8493874073028564
         ],
         "y": [
          0.07892276346683502,
          0.49684640765190125
         ]
        },
        {
         "line": {
          "color": "#299e50",
          "width": 0.5
         },
         "mode": "lines",
         "type": "scatter",
         "x": [
          0.2603057026863098,
          0.20174062252044678
         ],
         "y": [
          0.07892276346683502,
          0.4676843583583832
         ]
        },
        {
         "line": {
          "color": "#299e50",
          "width": 0.5
         },
         "mode": "lines",
         "type": "scatter",
         "x": [
          0.2603057026863098,
          0.5974354147911072
         ],
         "y": [
          0.07892276346683502,
          0.5150576233863831
         ]
        },
        {
         "line": {
          "color": "#299e50",
          "width": 0.5
         },
         "mode": "lines",
         "type": "scatter",
         "x": [
          0.2603057026863098,
          0.9057826399803162
         ],
         "y": [
          0.07892276346683502,
          0.2641553282737732
         ]
        },
        {
         "line": {
          "color": "#299e50",
          "width": 0.5
         },
         "mode": "lines",
         "type": "scatter",
         "x": [
          0.2603057026863098,
          0.8320872783660889
         ],
         "y": [
          0.07892276346683502,
          0.3329014778137207
         ]
        },
        {
         "line": {
          "color": "#299e50",
          "width": 0.5
         },
         "mode": "lines",
         "type": "scatter",
         "x": [
          0.2603057026863098,
          0.3052053153514862
         ],
         "y": [
          0.07892276346683502,
          0.5104793906211853
         ]
        },
        {
         "line": {
          "color": "#299e50",
          "width": 0.5
         },
         "mode": "lines",
         "type": "scatter",
         "x": [
          0.2603057026863098,
          0.1628236174583435
         ],
         "y": [
          0.07892276346683502,
          0.6914573311805725
         ]
        },
        {
         "line": {
          "color": "#299e50",
          "width": 0.5
         },
         "mode": "lines",
         "type": "scatter",
         "x": [
          0.2603057026863098,
          0.8835943341255188
         ],
         "y": [
          0.07892276346683502,
          0.16790322959423065
         ]
        },
        {
         "line": {
          "color": "#299e50",
          "width": 0.5
         },
         "mode": "lines",
         "type": "scatter",
         "x": [
          0.2603057026863098,
          0.34661275148391724
         ],
         "y": [
          0.07892276346683502,
          0.29253408312797546
         ]
        },
        {
         "line": {
          "color": "#299e50",
          "width": 0.5
         },
         "mode": "lines",
         "type": "scatter",
         "x": [
          0.2603057026863098,
          0.4685594439506531
         ],
         "y": [
          0.07892276346683502,
          0.4890204966068268
         ]
        },
        {
         "line": {
          "color": "#299e50",
          "width": 0.5
         },
         "mode": "lines",
         "type": "scatter",
         "x": [
          0.5072104334831238,
          0.5100937485694885
         ],
         "y": [
          0.523186206817627,
          0.7833890914916992
         ]
        },
        {
         "line": {
          "color": "#299e50",
          "width": 0.5
         },
         "mode": "lines",
         "type": "scatter",
         "x": [
          0.5072104334831238,
          0.6963537931442261
         ],
         "y": [
          0.523186206817627,
          0.01662231981754303
         ]
        },
        {
         "line": {
          "color": "#299e50",
          "width": 0.5
         },
         "mode": "lines",
         "type": "scatter",
         "x": [
          0.978903591632843,
          0.5727983713150024
         ],
         "y": [
          0.7352607846260071,
          0.2112901657819748
         ]
        },
        {
         "line": {
          "color": "#299e50",
          "width": 0.5
         },
         "mode": "lines",
         "type": "scatter",
         "x": [
          0.978903591632843,
          0.28714001178741455
         ],
         "y": [
          0.7352607846260071,
          0.10241106152534485
         ]
        },
        {
         "line": {
          "color": "#299e50",
          "width": 0.5
         },
         "mode": "lines",
         "type": "scatter",
         "x": [
          0.4053637385368347,
          0.030361799523234367
         ],
         "y": [
          0.05834312364459038,
          0.284953773021698
         ]
        },
        {
         "line": {
          "color": "#299e50",
          "width": 0.5
         },
         "mode": "lines",
         "type": "scatter",
         "x": [
          0.4053637385368347,
          0.4460609257221222
         ],
         "y": [
          0.05834312364459038,
          0.025963069871068
         ]
        },
        {
         "line": {
          "color": "#299e50",
          "width": 0.5
         },
         "mode": "lines",
         "type": "scatter",
         "x": [
          0.28479576110839844,
          0.5014097094535828
         ],
         "y": [
          0.6419903039932251,
          0.9196719527244568
         ]
        },
        {
         "line": {
          "color": "#299e50",
          "width": 0.5
         },
         "mode": "lines",
         "type": "scatter",
         "x": [
          0.28479576110839844,
          0.8693476319313049
         ],
         "y": [
          0.6419903039932251,
          0.5856478810310364
         ]
        },
        {
         "line": {
          "color": "#299e50",
          "width": 0.5
         },
         "mode": "lines",
         "type": "scatter",
         "x": [
          0.4659290313720703,
          0.44581204652786255
         ],
         "y": [
          0.9073949456214905,
          0.3875442445278168
         ]
        },
        {
         "line": {
          "color": "#299e50",
          "width": 0.5
         },
         "mode": "lines",
         "type": "scatter",
         "x": [
          0.4659290313720703,
          0.4624398648738861
         ],
         "y": [
          0.9073949456214905,
          0.46041905879974365
         ]
        },
        {
         "line": {
          "color": "#299e50",
          "width": 0.5
         },
         "mode": "lines",
         "type": "scatter",
         "x": [
          0.5351327061653137,
          0.6283118724822998
         ],
         "y": [
          0.058790065348148346,
          0.36206263303756714
         ]
        },
        {
         "line": {
          "color": "#ff0000",
          "width": 0.5
         },
         "mode": "lines",
         "type": "scatter",
         "x": [
          0.5351327061653137,
          0.9527837634086609
         ],
         "y": [
          0.058790065348148346,
          0.7103796601295471
         ]
        },
        {
         "line": {
          "color": "#299e50",
          "width": 0.5
         },
         "mode": "lines",
         "type": "scatter",
         "x": [
          0.3224586844444275,
          0.37471911311149597
         ],
         "y": [
          0.7789006233215332,
          0.24507416784763336
         ]
        },
        {
         "line": {
          "color": "#299e50",
          "width": 0.5
         },
         "mode": "lines",
         "type": "scatter",
         "x": [
          0.3224586844444275,
          0.37471911311149597
         ],
         "y": [
          0.7789006233215332,
          0.24507416784763336
         ]
        },
        {
         "line": {
          "color": "#299e50",
          "width": 0.5
         },
         "mode": "lines",
         "type": "scatter",
         "x": [
          0.3224586844444275,
          0.2392139732837677
         ],
         "y": [
          0.7789006233215332,
          0.5509072542190552
         ]
        },
        {
         "line": {
          "color": "#299e50",
          "width": 0.5
         },
         "mode": "lines",
         "type": "scatter",
         "x": [
          0.8391133546829224,
          0.7705209851264954
         ],
         "y": [
          0.2990989685058594,
          0.8238486051559448
         ]
        },
        {
         "line": {
          "color": "#299e50",
          "width": 0.5
         },
         "mode": "lines",
         "type": "scatter",
         "x": [
          0.8391133546829224,
          0.10426601767539978
         ],
         "y": [
          0.2990989685058594,
          0.7312099933624268
         ]
        },
        {
         "line": {
          "color": "#299e50",
          "width": 0.5
         },
         "mode": "lines",
         "type": "scatter",
         "x": [
          0.6229004859924316,
          0.5660727620124817
         ],
         "y": [
          0.8484976291656494,
          0.7193285226821899
         ]
        },
        {
         "line": {
          "color": "#299e50",
          "width": 0.5
         },
         "mode": "lines",
         "type": "scatter",
         "x": [
          0.6229004859924316,
          0.8393089175224304
         ],
         "y": [
          0.8484976291656494,
          0.2713569700717926
         ]
        },
        {
         "line": {
          "color": "#299e50",
          "width": 0.5
         },
         "mode": "lines",
         "type": "scatter",
         "x": [
          0.20618808269500732,
          0.5128595232963562
         ],
         "y": [
          0.831110417842865,
          0.6059209704399109
         ]
        },
        {
         "line": {
          "color": "#299e50",
          "width": 0.5
         },
         "mode": "lines",
         "type": "scatter",
         "x": [
          0.20618808269500732,
          0.9306754469871521
         ],
         "y": [
          0.831110417842865,
          0.05846057087182999
         ]
        },
        {
         "line": {
          "color": "#299e50",
          "width": 0.5
         },
         "mode": "lines",
         "type": "scatter",
         "x": [
          0.20618808269500732,
          0.7722235918045044
         ],
         "y": [
          0.831110417842865,
          0.41332921385765076
         ]
        },
        {
         "line": {
          "color": "#299e50",
          "width": 0.5
         },
         "mode": "lines",
         "type": "scatter",
         "x": [
          0.20618808269500732,
          0.6365115642547607
         ],
         "y": [
          0.831110417842865,
          0.5718234777450562
         ]
        },
        {
         "line": {
          "color": "#299e50",
          "width": 0.5
         },
         "mode": "lines",
         "type": "scatter",
         "x": [
          0.20618808269500732,
          0.8443154692649841
         ],
         "y": [
          0.831110417842865,
          0.942646324634552
         ]
        },
        {
         "line": {
          "color": "#299e50",
          "width": 0.5
         },
         "mode": "lines",
         "type": "scatter",
         "x": [
          0.8092940449714661,
          0.11400165408849716
         ],
         "y": [
          0.05807791277766228,
          0.45799964666366577
         ]
        },
        {
         "line": {
          "color": "#299e50",
          "width": 0.5
         },
         "mode": "lines",
         "type": "scatter",
         "x": [
          0.8092940449714661,
          0.30741241574287415
         ],
         "y": [
          0.05807791277766228,
          0.4526333808898926
         ]
        },
        {
         "line": {
          "color": "#299e50",
          "width": 0.5
         },
         "mode": "lines",
         "type": "scatter",
         "x": [
          0.6856744885444641,
          0.4340633451938629
         ],
         "y": [
          0.041554518043994904,
          0.11623741686344147
         ]
        },
        {
         "line": {
          "color": "#299e50",
          "width": 0.5
         },
         "mode": "lines",
         "type": "scatter",
         "x": [
          0.6856744885444641,
          0.3470461666584015
         ],
         "y": [
          0.041554518043994904,
          0.947212278842926
         ]
        },
        {
         "line": {
          "color": "#299e50",
          "width": 0.5
         },
         "mode": "lines",
         "type": "scatter",
         "x": [
          0.6856744885444641,
          0.08616312593221664
         ],
         "y": [
          0.041554518043994904,
          0.015600989572703838
         ]
        },
        {
         "line": {
          "color": "#299e50",
          "width": 0.5
         },
         "mode": "lines",
         "type": "scatter",
         "x": [
          0.15918226540088654,
          0.18124784529209137
         ],
         "y": [
          0.7389870285987854,
          0.8309138417243958
         ]
        },
        {
         "line": {
          "color": "#299e50",
          "width": 0.5
         },
         "mode": "lines",
         "type": "scatter",
         "x": [
          0.7539392113685608,
          0.7463298439979553
         ],
         "y": [
          0.24132715165615082,
          0.9924412965774536
         ]
        },
        {
         "line": {
          "color": "#299e50",
          "width": 0.5
         },
         "mode": "lines",
         "type": "scatter",
         "x": [
          0.7539392113685608,
          0.1521168351173401
         ],
         "y": [
          0.24132715165615082,
          0.23612233996391296
         ]
        },
        {
         "line": {
          "color": "#299e50",
          "width": 0.5
         },
         "mode": "lines",
         "type": "scatter",
         "x": [
          0.8067482709884644,
          0.3093782961368561
         ],
         "y": [
          0.7068331241607666,
          0.5310360193252563
         ]
        },
        {
         "line": {
          "color": "#299e50",
          "width": 0.5
         },
         "mode": "lines",
         "type": "scatter",
         "x": [
          0.8067482709884644,
          0.6037368178367615
         ],
         "y": [
          0.7068331241607666,
          0.12893743813037872
         ]
        },
        {
         "line": {
          "color": "#299e50",
          "width": 0.5
         },
         "mode": "lines",
         "type": "scatter",
         "x": [
          0.8453879952430725,
          0.12662582099437714
         ],
         "y": [
          0.5950333476066589,
          0.9279562830924988
         ]
        },
        {
         "line": {
          "color": "#299e50",
          "width": 0.5
         },
         "mode": "lines",
         "type": "scatter",
         "x": [
          0.8453879952430725,
          0.8835943341255188
         ],
         "y": [
          0.5950333476066589,
          0.16790322959423065
         ]
        },
        {
         "line": {
          "color": "#299e50",
          "width": 0.5
         },
         "mode": "lines",
         "type": "scatter",
         "x": [
          0.8453879952430725,
          0.8142348527908325
         ],
         "y": [
          0.5950333476066589,
          0.5225187540054321
         ]
        },
        {
         "line": {
          "color": "#299e50",
          "width": 0.5
         },
         "mode": "lines",
         "type": "scatter",
         "x": [
          0.8453879952430725,
          0.13033394515514374
         ],
         "y": [
          0.5950333476066589,
          0.9250507354736328
         ]
        },
        {
         "line": {
          "color": "#299e50",
          "width": 0.5
         },
         "mode": "lines",
         "type": "scatter",
         "x": [
          0.2612265348434448,
          0.44581204652786255
         ],
         "y": [
          0.7289882898330688,
          0.3875442445278168
         ]
        },
        {
         "line": {
          "color": "#299e50",
          "width": 0.5
         },
         "mode": "lines",
         "type": "scatter",
         "x": [
          0.2612265348434448,
          0.5883558392524719
         ],
         "y": [
          0.7289882898330688,
          0.3832472264766693
         ]
        },
        {
         "line": {
          "color": "#299e50",
          "width": 0.5
         },
         "mode": "lines",
         "type": "scatter",
         "x": [
          0.6394867897033691,
          0.45234304666519165
         ],
         "y": [
          0.6617842316627502,
          0.30710840225219727
         ]
        },
        {
         "line": {
          "color": "#299e50",
          "width": 0.5
         },
         "mode": "lines",
         "type": "scatter",
         "x": [
          0.6394867897033691,
          0.2777462899684906
         ],
         "y": [
          0.6617842316627502,
          0.8072413206100464
         ]
        },
        {
         "line": {
          "color": "#299e50",
          "width": 0.5
         },
         "mode": "lines",
         "type": "scatter",
         "x": [
          0.6394867897033691,
          0.09174486994743347
         ],
         "y": [
          0.6617842316627502,
          0.061668798327445984
         ]
        },
        {
         "line": {
          "color": "#299e50",
          "width": 0.5
         },
         "mode": "lines",
         "type": "scatter",
         "x": [
          0.6394867897033691,
          0.23920944333076477
         ],
         "y": [
          0.6617842316627502,
          0.7581056952476501
         ]
        },
        {
         "line": {
          "color": "#299e50",
          "width": 0.5
         },
         "mode": "lines",
         "type": "scatter",
         "x": [
          0.6394867897033691,
          0.006159162148833275
         ],
         "y": [
          0.6617842316627502,
          0.15965008735656738
         ]
        },
        {
         "line": {
          "color": "#299e50",
          "width": 0.5
         },
         "mode": "lines",
         "type": "scatter",
         "x": [
          0.6394867897033691,
          0.7110656499862671
         ],
         "y": [
          0.6617842316627502,
          0.4716659486293793
         ]
        },
        {
         "line": {
          "color": "#299e50",
          "width": 0.5
         },
         "mode": "lines",
         "type": "scatter",
         "x": [
          0.19886717200279236,
          0.2048867642879486
         ],
         "y": [
          0.7748035788536072,
          0.28136515617370605
         ]
        },
        {
         "line": {
          "color": "#299e50",
          "width": 0.5
         },
         "mode": "lines",
         "type": "scatter",
         "x": [
          0.19886717200279236,
          0.898362398147583
         ],
         "y": [
          0.7748035788536072,
          0.12305456399917603
         ]
        },
        {
         "line": {
          "color": "#299e50",
          "width": 0.5
         },
         "mode": "lines",
         "type": "scatter",
         "x": [
          0.19886717200279236,
          0.23734433948993683
         ],
         "y": [
          0.7748035788536072,
          0.3826008141040802
         ]
        },
        {
         "line": {
          "color": "#299e50",
          "width": 0.5
         },
         "mode": "lines",
         "type": "scatter",
         "x": [
          0.19125397503376007,
          0.972025454044342
         ],
         "y": [
          0.9430637955665588,
          0.5740498900413513
         ]
        },
        {
         "line": {
          "color": "#299e50",
          "width": 0.5
         },
         "mode": "lines",
         "type": "scatter",
         "x": [
          0.19125397503376007,
          0.25031936168670654
         ],
         "y": [
          0.9430637955665588,
          0.7603886127471924
         ]
        },
        {
         "line": {
          "color": "#299e50",
          "width": 0.5
         },
         "mode": "lines",
         "type": "scatter",
         "x": [
          0.2303985059261322,
          0.8178924322128296
         ],
         "y": [
          0.27691709995269775,
          0.7954057455062866
         ]
        },
        {
         "line": {
          "color": "#299e50",
          "width": 0.5
         },
         "mode": "lines",
         "type": "scatter",
         "x": [
          0.7147647738456726,
          0.039353903383016586
         ],
         "y": [
          0.9587607383728027,
          0.029802024364471436
         ]
        },
        {
         "line": {
          "color": "#299e50",
          "width": 0.5
         },
         "mode": "lines",
         "type": "scatter",
         "x": [
          0.7147647738456726,
          0.11855419725179672
         ],
         "y": [
          0.9587607383728027,
          0.07933669537305832
         ]
        },
        {
         "line": {
          "color": "#299e50",
          "width": 0.5
         },
         "mode": "lines",
         "type": "scatter",
         "x": [
          0.7147647738456726,
          0.4427506923675537
         ],
         "y": [
          0.9587607383728027,
          0.526875376701355
         ]
        },
        {
         "line": {
          "color": "#299e50",
          "width": 0.5
         },
         "mode": "lines",
         "type": "scatter",
         "x": [
          0.7147647738456726,
          0.35828298330307007
         ],
         "y": [
          0.9587607383728027,
          0.6651905179023743
         ]
        },
        {
         "line": {
          "color": "#299e50",
          "width": 0.5
         },
         "mode": "lines",
         "type": "scatter",
         "x": [
          0.23734433948993683,
          0.7802153825759888
         ],
         "y": [
          0.3826008141040802,
          0.3655143678188324
         ]
        },
        {
         "line": {
          "color": "#299e50",
          "width": 0.5
         },
         "mode": "lines",
         "type": "scatter",
         "x": [
          0.23734433948993683,
          0.2543323040008545
         ],
         "y": [
          0.3826008141040802,
          0.4477144479751587
         ]
        },
        {
         "line": {
          "color": "#299e50",
          "width": 0.5
         },
         "mode": "lines",
         "type": "scatter",
         "x": [
          0.23734433948993683,
          0.21432127058506012
         ],
         "y": [
          0.3826008141040802,
          0.3018950819969177
         ]
        },
        {
         "line": {
          "color": "#299e50",
          "width": 0.5
         },
         "mode": "lines",
         "type": "scatter",
         "x": [
          0.23734433948993683,
          0.13358886539936066
         ],
         "y": [
          0.3826008141040802,
          0.6980350017547607
         ]
        },
        {
         "line": {
          "color": "#299e50",
          "width": 0.5
         },
         "mode": "lines",
         "type": "scatter",
         "x": [
          0.23734433948993683,
          0.9336130619049072
         ],
         "y": [
          0.3826008141040802,
          0.42656466364860535
         ]
        },
        {
         "line": {
          "color": "#299e50",
          "width": 0.5
         },
         "mode": "lines",
         "type": "scatter",
         "x": [
          0.23734433948993683,
          0.37884217500686646
         ],
         "y": [
          0.3826008141040802,
          0.8147547841072083
         ]
        },
        {
         "line": {
          "color": "#299e50",
          "width": 0.5
         },
         "mode": "lines",
         "type": "scatter",
         "x": [
          0.23734433948993683,
          0.823782205581665
         ],
         "y": [
          0.3826008141040802,
          0.1736501306295395
         ]
        },
        {
         "line": {
          "color": "#299e50",
          "width": 0.5
         },
         "mode": "lines",
         "type": "scatter",
         "x": [
          0.23734433948993683,
          0.4086643159389496
         ],
         "y": [
          0.3826008141040802,
          0.3621261417865753
         ]
        },
        {
         "line": {
          "color": "#ff0000",
          "width": 0.5
         },
         "mode": "lines",
         "type": "scatter",
         "x": [
          0.23734433948993683,
          0.6139403581619263
         ],
         "y": [
          0.3826008141040802,
          0.8554712533950806
         ]
        },
        {
         "line": {
          "color": "#299e50",
          "width": 0.5
         },
         "mode": "lines",
         "type": "scatter",
         "x": [
          0.23734433948993683,
          0.44496607780456543
         ],
         "y": [
          0.3826008141040802,
          0.9492318034172058
         ]
        },
        {
         "line": {
          "color": "#299e50",
          "width": 0.5
         },
         "mode": "lines",
         "type": "scatter",
         "x": [
          0.23734433948993683,
          0.9527837634086609
         ],
         "y": [
          0.3826008141040802,
          0.7103796601295471
         ]
        },
        {
         "line": {
          "color": "#299e50",
          "width": 0.5
         },
         "mode": "lines",
         "type": "scatter",
         "x": [
          0.23734433948993683,
          0.16964824497699738
         ],
         "y": [
          0.3826008141040802,
          0.5847124457359314
         ]
        },
        {
         "line": {
          "color": "#299e50",
          "width": 0.5
         },
         "mode": "lines",
         "type": "scatter",
         "x": [
          0.23734433948993683,
          0.7522110939025879
         ],
         "y": [
          0.3826008141040802,
          0.8591594696044922
         ]
        },
        {
         "line": {
          "color": "#299e50",
          "width": 0.5
         },
         "mode": "lines",
         "type": "scatter",
         "x": [
          0.23734433948993683,
          0.9386250376701355
         ],
         "y": [
          0.3826008141040802,
          0.9574994444847107
         ]
        },
        {
         "line": {
          "color": "#299e50",
          "width": 0.5
         },
         "mode": "lines",
         "type": "scatter",
         "x": [
          0.23734433948993683,
          0.6756320595741272
         ],
         "y": [
          0.3826008141040802,
          0.7507753968238831
         ]
        },
        {
         "line": {
          "color": "#299e50",
          "width": 0.5
         },
         "mode": "lines",
         "type": "scatter",
         "x": [
          0.23734433948993683,
          0.5626683831214905
         ],
         "y": [
          0.3826008141040802,
          0.44986510276794434
         ]
        },
        {
         "line": {
          "color": "#299e50",
          "width": 0.5
         },
         "mode": "lines",
         "type": "scatter",
         "x": [
          0.23734433948993683,
          0.5145339965820312
         ],
         "y": [
          0.3826008141040802,
          0.4334047734737396
         ]
        },
        {
         "line": {
          "color": "#299e50",
          "width": 0.5
         },
         "mode": "lines",
         "type": "scatter",
         "x": [
          0.23734433948993683,
          0.9812551736831665
         ],
         "y": [
          0.3826008141040802,
          0.4375913739204407
         ]
        },
        {
         "line": {
          "color": "#299e50",
          "width": 0.5
         },
         "mode": "lines",
         "type": "scatter",
         "x": [
          0.23734433948993683,
          0.35430580377578735
         ],
         "y": [
          0.3826008141040802,
          0.0780104547739029
         ]
        },
        {
         "line": {
          "color": "#299e50",
          "width": 0.5
         },
         "mode": "lines",
         "type": "scatter",
         "x": [
          0.23734433948993683,
          0.010524611920118332
         ],
         "y": [
          0.3826008141040802,
          0.0060152108781039715
         ]
        },
        {
         "line": {
          "color": "#299e50",
          "width": 0.5
         },
         "mode": "lines",
         "type": "scatter",
         "x": [
          0.23734433948993683,
          0.709672212600708
         ],
         "y": [
          0.3826008141040802,
          0.4082157015800476
         ]
        },
        {
         "line": {
          "color": "#299e50",
          "width": 0.5
         },
         "mode": "lines",
         "type": "scatter",
         "x": [
          0.23734433948993683,
          0.03677849471569061
         ],
         "y": [
          0.3826008141040802,
          0.9936811327934265
         ]
        },
        {
         "line": {
          "color": "#299e50",
          "width": 0.5
         },
         "mode": "lines",
         "type": "scatter",
         "x": [
          0.23734433948993683,
          0.4760971963405609
         ],
         "y": [
          0.3826008141040802,
          0.566075325012207
         ]
        },
        {
         "line": {
          "color": "#299e50",
          "width": 0.5
         },
         "mode": "lines",
         "type": "scatter",
         "x": [
          0.23734433948993683,
          0.809209942817688
         ],
         "y": [
          0.3826008141040802,
          0.14046691358089447
         ]
        },
        {
         "line": {
          "color": "#299e50",
          "width": 0.5
         },
         "mode": "lines",
         "type": "scatter",
         "x": [
          0.23734433948993683,
          0.2676929533481598
         ],
         "y": [
          0.3826008141040802,
          0.05253412202000618
         ]
        },
        {
         "line": {
          "color": "#299e50",
          "width": 0.5
         },
         "mode": "lines",
         "type": "scatter",
         "x": [
          0.23734433948993683,
          0.06493077427148819
         ],
         "y": [
          0.3826008141040802,
          0.46153759956359863
         ]
        },
        {
         "line": {
          "color": "#299e50",
          "width": 0.5
         },
         "mode": "lines",
         "type": "scatter",
         "x": [
          0.23734433948993683,
          0.2416342794895172
         ],
         "y": [
          0.3826008141040802,
          0.24467335641384125
         ]
        },
        {
         "line": {
          "color": "#299e50",
          "width": 0.5
         },
         "mode": "lines",
         "type": "scatter",
         "x": [
          0.23734433948993683,
          0.982602596282959
         ],
         "y": [
          0.3826008141040802,
          0.2772316634654999
         ]
        },
        {
         "line": {
          "color": "#299e50",
          "width": 0.5
         },
         "mode": "lines",
         "type": "scatter",
         "x": [
          0.23734433948993683,
          0.5578300952911377
         ],
         "y": [
          0.3826008141040802,
          0.7320091128349304
         ]
        },
        {
         "line": {
          "color": "#299e50",
          "width": 0.5
         },
         "mode": "lines",
         "type": "scatter",
         "x": [
          0.23734433948993683,
          0.2718692421913147
         ],
         "y": [
          0.3826008141040802,
          0.48011088371276855
         ]
        },
        {
         "line": {
          "color": "#299e50",
          "width": 0.5
         },
         "mode": "lines",
         "type": "scatter",
         "x": [
          0.23734433948993683,
          0.6938514709472656
         ],
         "y": [
          0.3826008141040802,
          0.2275884598493576
         ]
        },
        {
         "line": {
          "color": "#299e50",
          "width": 0.5
         },
         "mode": "lines",
         "type": "scatter",
         "x": [
          0.23734433948993683,
          0.9210480451583862
         ],
         "y": [
          0.3826008141040802,
          0.681963324546814
         ]
        },
        {
         "line": {
          "color": "#299e50",
          "width": 0.5
         },
         "mode": "lines",
         "type": "scatter",
         "x": [
          0.09039711207151413,
          0.27054616808891296
         ],
         "y": [
          0.5394368171691895,
          0.04672786965966225
         ]
        },
        {
         "line": {
          "color": "#299e50",
          "width": 0.5
         },
         "mode": "lines",
         "type": "scatter",
         "x": [
          0.09039711207151413,
          0.21354442834854126
         ],
         "y": [
          0.5394368171691895,
          0.4444177448749542
         ]
        },
        {
         "line": {
          "color": "#ff0000",
          "width": 0.5
         },
         "mode": "lines",
         "type": "scatter",
         "x": [
          0.9527837634086609,
          0.0730924978852272
         ],
         "y": [
          0.7103796601295471,
          0.46528303623199463
         ]
        },
        {
         "line": {
          "color": "#ff0000",
          "width": 0.5
         },
         "mode": "lines",
         "type": "scatter",
         "x": [
          0.9527837634086609,
          0.2053690403699875
         ],
         "y": [
          0.7103796601295471,
          0.26672622561454773
         ]
        },
        {
         "line": {
          "color": "#ff0000",
          "width": 0.5
         },
         "mode": "lines",
         "type": "scatter",
         "x": [
          0.9527837634086609,
          0.6033838391304016
         ],
         "y": [
          0.7103796601295471,
          0.5943506360054016
         ]
        },
        {
         "line": {
          "color": "#ff0000",
          "width": 0.5
         },
         "mode": "lines",
         "type": "scatter",
         "x": [
          0.9527837634086609,
          0.10090144723653793
         ],
         "y": [
          0.7103796601295471,
          0.21024325489997864
         ]
        },
        {
         "line": {
          "color": "#ff0000",
          "width": 0.5
         },
         "mode": "lines",
         "type": "scatter",
         "x": [
          0.9527837634086609,
          0.861233115196228
         ],
         "y": [
          0.7103796601295471,
          0.791810154914856
         ]
        },
        {
         "line": {
          "color": "#ff0000",
          "width": 0.5
         },
         "mode": "lines",
         "type": "scatter",
         "x": [
          0.9527837634086609,
          0.6426719427108765
         ],
         "y": [
          0.7103796601295471,
          0.8290209770202637
         ]
        },
        {
         "line": {
          "color": "#ff0000",
          "width": 0.5
         },
         "mode": "lines",
         "type": "scatter",
         "x": [
          0.9527837634086609,
          0.5767074823379517
         ],
         "y": [
          0.7103796601295471,
          0.6437641382217407
         ]
        },
        {
         "line": {
          "color": "#ff0000",
          "width": 0.5
         },
         "mode": "lines",
         "type": "scatter",
         "x": [
          0.9527837634086609,
          0.829862117767334
         ],
         "y": [
          0.7103796601295471,
          0.6627938747406006
         ]
        },
        {
         "line": {
          "color": "#ff0000",
          "width": 0.5
         },
         "mode": "lines",
         "type": "scatter",
         "x": [
          0.9527837634086609,
          0.5828037858009338
         ],
         "y": [
          0.7103796601295471,
          0.2813105881214142
         ]
        },
        {
         "line": {
          "color": "#ff0000",
          "width": 0.5
         },
         "mode": "lines",
         "type": "scatter",
         "x": [
          0.9527837634086609,
          0.4213493764400482
         ],
         "y": [
          0.7103796601295471,
          0.30406883358955383
         ]
        },
        {
         "line": {
          "color": "#ff0000",
          "width": 0.5
         },
         "mode": "lines",
         "type": "scatter",
         "x": [
          0.9527837634086609,
          0.6472386121749878
         ],
         "y": [
          0.7103796601295471,
          0.6766103506088257
         ]
        },
        {
         "line": {
          "color": "#ff0000",
          "width": 0.5
         },
         "mode": "lines",
         "type": "scatter",
         "x": [
          0.9527837634086609,
          0.7424083352088928
         ],
         "y": [
          0.7103796601295471,
          0.5817837715148926
         ]
        },
        {
         "line": {
          "color": "#ff0000",
          "width": 0.5
         },
         "mode": "lines",
         "type": "scatter",
         "x": [
          0.9527837634086609,
          0.6304723620414734
         ],
         "y": [
          0.7103796601295471,
          0.8672799468040466
         ]
        },
        {
         "line": {
          "color": "#ff0000",
          "width": 0.5
         },
         "mode": "lines",
         "type": "scatter",
         "x": [
          0.9527837634086609,
          0.9923645853996277
         ],
         "y": [
          0.7103796601295471,
          0.6319944858551025
         ]
        },
        {
         "line": {
          "color": "#ff0000",
          "width": 0.5
         },
         "mode": "lines",
         "type": "scatter",
         "x": [
          0.9527837634086609,
          0.40528005361557007
         ],
         "y": [
          0.7103796601295471,
          0.17564617097377777
         ]
        },
        {
         "line": {
          "color": "#ff0000",
          "width": 0.5
         },
         "mode": "lines",
         "type": "scatter",
         "x": [
          0.9527837634086609,
          0.30603769421577454
         ],
         "y": [
          0.7103796601295471,
          0.15179169178009033
         ]
        },
        {
         "line": {
          "color": "#ff0000",
          "width": 0.5
         },
         "mode": "lines",
         "type": "scatter",
         "x": [
          0.9527837634086609,
          0.3131215274333954
         ],
         "y": [
          0.7103796601295471,
          0.5513376593589783
         ]
        },
        {
         "line": {
          "color": "#ff0000",
          "width": 0.5
         },
         "mode": "lines",
         "type": "scatter",
         "x": [
          0.9527837634086609,
          0.18224120140075684
         ],
         "y": [
          0.7103796601295471,
          0.2353748083114624
         ]
        },
        {
         "line": {
          "color": "#ff0000",
          "width": 0.5
         },
         "mode": "lines",
         "type": "scatter",
         "x": [
          0.9527837634086609,
          0.05309188365936279
         ],
         "y": [
          0.7103796601295471,
          0.09115861356258392
         ]
        },
        {
         "line": {
          "color": "#ff0000",
          "width": 0.5
         },
         "mode": "lines",
         "type": "scatter",
         "x": [
          0.9527837634086609,
          0.9203370213508606
         ],
         "y": [
          0.7103796601295471,
          0.43947649002075195
         ]
        },
        {
         "line": {
          "color": "#ff0000",
          "width": 0.5
         },
         "mode": "lines",
         "type": "scatter",
         "x": [
          0.9527837634086609,
          0.8358270525932312
         ],
         "y": [
          0.7103796601295471,
          0.39250123500823975
         ]
        },
        {
         "line": {
          "color": "#ff0000",
          "width": 0.5
         },
         "mode": "lines",
         "type": "scatter",
         "x": [
          0.9527837634086609,
          0.007216425146907568
         ],
         "y": [
          0.7103796601295471,
          0.6033709049224854
         ]
        },
        {
         "line": {
          "color": "#ff0000",
          "width": 0.5
         },
         "mode": "lines",
         "type": "scatter",
         "x": [
          0.9527837634086609,
          0.20914453268051147
         ],
         "y": [
          0.7103796601295471,
          0.6443696022033691
         ]
        },
        {
         "line": {
          "color": "#ff0000",
          "width": 0.5
         },
         "mode": "lines",
         "type": "scatter",
         "x": [
          0.9527837634086609,
          0.6802449226379395
         ],
         "y": [
          0.7103796601295471,
          0.9905504584312439
         ]
        },
        {
         "line": {
          "color": "#ff0000",
          "width": 0.5
         },
         "mode": "lines",
         "type": "scatter",
         "x": [
          0.9527837634086609,
          0.9959636330604553
         ],
         "y": [
          0.7103796601295471,
          0.034198321402072906
         ]
        },
        {
         "line": {
          "color": "#ff0000",
          "width": 0.5
         },
         "mode": "lines",
         "type": "scatter",
         "x": [
          0.9527837634086609,
          0.9104712009429932
         ],
         "y": [
          0.7103796601295471,
          0.3901548981666565
         ]
        },
        {
         "line": {
          "color": "#ff0000",
          "width": 0.5
         },
         "mode": "lines",
         "type": "scatter",
         "x": [
          0.9527837634086609,
          0.5537923574447632
         ],
         "y": [
          0.7103796601295471,
          0.2832096815109253
         ]
        },
        {
         "line": {
          "color": "#ff0000",
          "width": 0.5
         },
         "mode": "lines",
         "type": "scatter",
         "x": [
          0.9527837634086609,
          0.49069541692733765
         ],
         "y": [
          0.7103796601295471,
          0.5232279896736145
         ]
        },
        {
         "line": {
          "color": "#ff0000",
          "width": 0.5
         },
         "mode": "lines",
         "type": "scatter",
         "x": [
          0.9527837634086609,
          0.8710607290267944
         ],
         "y": [
          0.7103796601295471,
          0.04917548596858978
         ]
        },
        {
         "line": {
          "color": "#ff0000",
          "width": 0.5
         },
         "mode": "lines",
         "type": "scatter",
         "x": [
          0.9527837634086609,
          0.3494279682636261
         ],
         "y": [
          0.7103796601295471,
          0.5948936939239502
         ]
        },
        {
         "line": {
          "color": "#ff0000",
          "width": 0.5
         },
         "mode": "lines",
         "type": "scatter",
         "x": [
          0.9527837634086609,
          0.7437469959259033
         ],
         "y": [
          0.7103796601295471,
          0.21863572299480438
         ]
        },
        {
         "line": {
          "color": "#ff0000",
          "width": 0.5
         },
         "mode": "lines",
         "type": "scatter",
         "x": [
          0.9527837634086609,
          0.41125744581222534
         ],
         "y": [
          0.7103796601295471,
          0.7925571203231812
         ]
        },
        {
         "line": {
          "color": "#ff0000",
          "width": 0.5
         },
         "mode": "lines",
         "type": "scatter",
         "x": [
          0.9527837634086609,
          0.25031936168670654
         ],
         "y": [
          0.7103796601295471,
          0.7603886127471924
         ]
        },
        {
         "line": {
          "color": "#ff0000",
          "width": 0.5
         },
         "mode": "lines",
         "type": "scatter",
         "x": [
          0.9527837634086609,
          0.48780906200408936
         ],
         "y": [
          0.7103796601295471,
          0.4134295582771301
         ]
        },
        {
         "line": {
          "color": "#ff0000",
          "width": 0.5
         },
         "mode": "lines",
         "type": "scatter",
         "x": [
          0.9527837634086609,
          0.717514157295227
         ],
         "y": [
          0.7103796601295471,
          0.4500488042831421
         ]
        },
        {
         "line": {
          "color": "#ff0000",
          "width": 0.5
         },
         "mode": "lines",
         "type": "scatter",
         "x": [
          0.9527837634086609,
          0.3581344783306122
         ],
         "y": [
          0.7103796601295471,
          0.779924213886261
         ]
        },
        {
         "line": {
          "color": "#ff0000",
          "width": 0.5
         },
         "mode": "lines",
         "type": "scatter",
         "x": [
          0.9527837634086609,
          0.1627233773469925
         ],
         "y": [
          0.7103796601295471,
          0.7866907715797424
         ]
        },
        {
         "line": {
          "color": "#ff0000",
          "width": 0.5
         },
         "mode": "lines",
         "type": "scatter",
         "x": [
          0.9527837634086609,
          0.31587642431259155
         ],
         "y": [
          0.7103796601295471,
          0.7502623200416565
         ]
        },
        {
         "line": {
          "color": "#ff0000",
          "width": 0.5
         },
         "mode": "lines",
         "type": "scatter",
         "x": [
          0.9527837634086609,
          0.009226803667843342
         ],
         "y": [
          0.7103796601295471,
          0.7768961787223816
         ]
        },
        {
         "line": {
          "color": "#ff0000",
          "width": 0.5
         },
         "mode": "lines",
         "type": "scatter",
         "x": [
          0.9527837634086609,
          0.5909917950630188
         ],
         "y": [
          0.7103796601295471,
          0.8862307071685791
         ]
        },
        {
         "line": {
          "color": "#ff0000",
          "width": 0.5
         },
         "mode": "lines",
         "type": "scatter",
         "x": [
          0.9527837634086609,
          0.9539052844047546
         ],
         "y": [
          0.7103796601295471,
          0.2703305780887604
         ]
        },
        {
         "line": {
          "color": "#ff0000",
          "width": 0.5
         },
         "mode": "lines",
         "type": "scatter",
         "x": [
          0.9527837634086609,
          0.273470401763916
         ],
         "y": [
          0.7103796601295471,
          0.2914603054523468
         ]
        },
        {
         "line": {
          "color": "#ff0000",
          "width": 0.5
         },
         "mode": "lines",
         "type": "scatter",
         "x": [
          0.9527837634086609,
          0.23380021750926971
         ],
         "y": [
          0.7103796601295471,
          0.6421271562576294
         ]
        },
        {
         "line": {
          "color": "#ff0000",
          "width": 0.5
         },
         "mode": "lines",
         "type": "scatter",
         "x": [
          0.9527837634086609,
          0.7747628688812256
         ],
         "y": [
          0.7103796601295471,
          0.8493409752845764
         ]
        },
        {
         "line": {
          "color": "#ff0000",
          "width": 0.5
         },
         "mode": "lines",
         "type": "scatter",
         "x": [
          0.9527837634086609,
          0.8942954540252686
         ],
         "y": [
          0.7103796601295471,
          0.10928799211978912
         ]
        },
        {
         "line": {
          "color": "#ff0000",
          "width": 0.5
         },
         "mode": "lines",
         "type": "scatter",
         "x": [
          0.9527837634086609,
          0.21547065675258636
         ],
         "y": [
          0.7103796601295471,
          0.4138983190059662
         ]
        },
        {
         "line": {
          "color": "#ff0000",
          "width": 0.5
         },
         "mode": "lines",
         "type": "scatter",
         "x": [
          0.9527837634086609,
          0.6476385593414307
         ],
         "y": [
          0.7103796601295471,
          0.35855090618133545
         ]
        },
        {
         "line": {
          "color": "#ff0000",
          "width": 0.5
         },
         "mode": "lines",
         "type": "scatter",
         "x": [
          0.9527837634086609,
          0.51434725522995
         ],
         "y": [
          0.7103796601295471,
          0.6089898347854614
         ]
        },
        {
         "line": {
          "color": "#ff0000",
          "width": 0.5
         },
         "mode": "lines",
         "type": "scatter",
         "x": [
          0.9527837634086609,
          0.9000940322875977
         ],
         "y": [
          0.7103796601295471,
          0.4002379775047302
         ]
        },
        {
         "line": {
          "color": "#ff0000",
          "width": 0.5
         },
         "mode": "lines",
         "type": "scatter",
         "x": [
          0.9527837634086609,
          0.6692140102386475
         ],
         "y": [
          0.7103796601295471,
          0.3064473569393158
         ]
        },
        {
         "line": {
          "color": "#ff0000",
          "width": 0.5
         },
         "mode": "lines",
         "type": "scatter",
         "x": [
          0.9527837634086609,
          0.742338240146637
         ],
         "y": [
          0.7103796601295471,
          0.54859459400177
         ]
        },
        {
         "line": {
          "color": "#ff0000",
          "width": 0.5
         },
         "mode": "lines",
         "type": "scatter",
         "x": [
          0.9527837634086609,
          0.5423852205276489
         ],
         "y": [
          0.7103796601295471,
          0.627467691898346
         ]
        },
        {
         "line": {
          "color": "#ff0000",
          "width": 0.5
         },
         "mode": "lines",
         "type": "scatter",
         "x": [
          0.9527837634086609,
          0.8393089175224304
         ],
         "y": [
          0.7103796601295471,
          0.2713569700717926
         ]
        },
        {
         "line": {
          "color": "#ff0000",
          "width": 0.5
         },
         "mode": "lines",
         "type": "scatter",
         "x": [
          0.9527837634086609,
          0.9353986382484436
         ],
         "y": [
          0.7103796601295471,
          0.07247896492481232
         ]
        },
        {
         "line": {
          "color": "#ff0000",
          "width": 0.5
         },
         "mode": "lines",
         "type": "scatter",
         "x": [
          0.9527837634086609,
          0.23927852511405945
         ],
         "y": [
          0.7103796601295471,
          0.2006034553050995
         ]
        },
        {
         "line": {
          "color": "#ff0000",
          "width": 0.5
         },
         "mode": "lines",
         "type": "scatter",
         "x": [
          0.9527837634086609,
          0.18280622363090515
         ],
         "y": [
          0.7103796601295471,
          0.20643772184848785
         ]
        },
        {
         "line": {
          "color": "#ff0000",
          "width": 0.5
         },
         "mode": "lines",
         "type": "scatter",
         "x": [
          0.9527837634086609,
          0.9857867360115051
         ],
         "y": [
          0.7103796601295471,
          0.7658610343933105
         ]
        },
        {
         "line": {
          "color": "#ff0000",
          "width": 0.5
         },
         "mode": "lines",
         "type": "scatter",
         "x": [
          0.9527837634086609,
          0.3003765344619751
         ],
         "y": [
          0.7103796601295471,
          0.5754393339157104
         ]
        },
        {
         "line": {
          "color": "#ff0000",
          "width": 0.5
         },
         "mode": "lines",
         "type": "scatter",
         "x": [
          0.9527837634086609,
          0.8244009017944336
         ],
         "y": [
          0.7103796601295471,
          0.12108081579208374
         ]
        },
        {
         "line": {
          "color": "#ff0000",
          "width": 0.5
         },
         "mode": "lines",
         "type": "scatter",
         "x": [
          0.9527837634086609,
          0.3805014193058014
         ],
         "y": [
          0.7103796601295471,
          0.32045266032218933
         ]
        },
        {
         "line": {
          "color": "#299e50",
          "width": 0.5
         },
         "mode": "lines",
         "type": "scatter",
         "x": [
          0.901437520980835,
          0.7679492235183716
         ],
         "y": [
          0.00777409179136157,
          0.2100306749343872
         ]
        },
        {
         "line": {
          "color": "#299e50",
          "width": 0.5
         },
         "mode": "lines",
         "type": "scatter",
         "x": [
          0.901437520980835,
          0.5851160287857056
         ],
         "y": [
          0.00777409179136157,
          0.6091163158416748
         ]
        },
        {
         "line": {
          "color": "#299e50",
          "width": 0.5
         },
         "mode": "lines",
         "type": "scatter",
         "x": [
          0.2777462899684906,
          0.9535922408103943
         ],
         "y": [
          0.8072413206100464,
          0.7105864882469177
         ]
        },
        {
         "line": {
          "color": "#299e50",
          "width": 0.5
         },
         "mode": "lines",
         "type": "scatter",
         "x": [
          0.9259163737297058,
          0.7104383707046509
         ],
         "y": [
          0.30044692754745483,
          0.8064296245574951
         ]
        },
        {
         "line": {
          "color": "#299e50",
          "width": 0.5
         },
         "mode": "lines",
         "type": "scatter",
         "x": [
          0.9259163737297058,
          0.08735064417123795
         ],
         "y": [
          0.30044692754745483,
          0.9197586178779602
         ]
        },
        {
         "line": {
          "color": "#000000",
          "width": 0.5
         },
         "mode": "lines",
         "type": "scatter",
         "x": [
          0.891374945640564,
          0.4441273808479309
         ],
         "y": [
          0.9760767221450806,
          0.0050231837667524815
         ]
        },
        {
         "line": {
          "color": "#ff0000",
          "width": 0.5
         },
         "mode": "lines",
         "type": "scatter",
         "x": [
          0.2675245404243469,
          0.688102662563324
         ],
         "y": [
          0.9281884431838989,
          0.9888705611228943
         ]
        },
        {
         "line": {
          "color": "#299e50",
          "width": 0.5
         },
         "mode": "lines",
         "type": "scatter",
         "x": [
          0.2675245404243469,
          0.9950801730155945
         ],
         "y": [
          0.9281884431838989,
          0.5712705850601196
         ]
        },
        {
         "line": {
          "color": "#299e50",
          "width": 0.5
         },
         "mode": "lines",
         "type": "scatter",
         "x": [
          0.4218693971633911,
          0.469279021024704
         ],
         "y": [
          0.6878867745399475,
          0.9261056184768677
         ]
        },
        {
         "line": {
          "color": "#299e50",
          "width": 0.5
         },
         "mode": "lines",
         "type": "scatter",
         "x": [
          0.4218693971633911,
          0.6742362976074219
         ],
         "y": [
          0.6878867745399475,
          0.47694918513298035
         ]
        },
        {
         "line": {
          "color": "#299e50",
          "width": 0.5
         },
         "mode": "lines",
         "type": "scatter",
         "x": [
          0.6566489338874817,
          0.6259392499923706
         ],
         "y": [
          0.8621935844421387,
          0.22990833222866058
         ]
        },
        {
         "line": {
          "color": "#299e50",
          "width": 0.5
         },
         "mode": "lines",
         "type": "scatter",
         "x": [
          0.6566489338874817,
          0.08735064417123795
         ],
         "y": [
          0.8621935844421387,
          0.9197586178779602
         ]
        },
        {
         "line": {
          "color": "#299e50",
          "width": 0.5
         },
         "mode": "lines",
         "type": "scatter",
         "x": [
          0.0730924978852272,
          0.44581204652786255
         ],
         "y": [
          0.46528303623199463,
          0.3875442445278168
         ]
        },
        {
         "line": {
          "color": "#000000",
          "width": 0.5
         },
         "mode": "lines",
         "type": "scatter",
         "x": [
          0.9669575691223145,
          0.14694912731647491
         ],
         "y": [
          0.5950005650520325,
          0.5987687110900879
         ]
        },
        {
         "line": {
          "color": "#299e50",
          "width": 0.5
         },
         "mode": "lines",
         "type": "scatter",
         "x": [
          0.9669575691223145,
          0.30741241574287415
         ],
         "y": [
          0.5950005650520325,
          0.4526333808898926
         ]
        },
        {
         "line": {
          "color": "#ff0000",
          "width": 0.5
         },
         "mode": "lines",
         "type": "scatter",
         "x": [
          0.220235213637352,
          0.688102662563324
         ],
         "y": [
          0.8951765298843384,
          0.9888705611228943
         ]
        },
        {
         "line": {
          "color": "#299e50",
          "width": 0.5
         },
         "mode": "lines",
         "type": "scatter",
         "x": [
          0.220235213637352,
          0.5369848012924194
         ],
         "y": [
          0.8951765298843384,
          0.40051907300949097
         ]
        },
        {
         "line": {
          "color": "#299e50",
          "width": 0.5
         },
         "mode": "lines",
         "type": "scatter",
         "x": [
          0.45909276604652405,
          0.8601850271224976
         ],
         "y": [
          0.11685732752084732,
          0.3932510316371918
         ]
        },
        {
         "line": {
          "color": "#299e50",
          "width": 0.5
         },
         "mode": "lines",
         "type": "scatter",
         "x": [
          0.9210413098335266,
          0.8605000972747803
         ],
         "y": [
          0.28785815834999084,
          0.4711788594722748
         ]
        },
        {
         "line": {
          "color": "#ff0000",
          "width": 0.5
         },
         "mode": "lines",
         "type": "scatter",
         "x": [
          0.3494279682636261,
          0.688102662563324
         ],
         "y": [
          0.5948936939239502,
          0.9888705611228943
         ]
        },
        {
         "line": {
          "color": "#299e50",
          "width": 0.5
         },
         "mode": "lines",
         "type": "scatter",
         "x": [
          0.9057826399803162,
          0.44581204652786255
         ],
         "y": [
          0.2641553282737732,
          0.3875442445278168
         ]
        },
        {
         "line": {
          "color": "#299e50",
          "width": 0.5
         },
         "mode": "lines",
         "type": "scatter",
         "x": [
          0.12116431444883347,
          0.42856118083000183
         ],
         "y": [
          0.002034221775829792,
          0.9394456744194031
         ]
        },
        {
         "line": {
          "color": "#299e50",
          "width": 0.5
         },
         "mode": "lines",
         "type": "scatter",
         "x": [
          0.12116431444883347,
          0.37376224994659424
         ],
         "y": [
          0.002034221775829792,
          0.37777864933013916
         ]
        },
        {
         "line": {
          "color": "#299e50",
          "width": 0.5
         },
         "mode": "lines",
         "type": "scatter",
         "x": [
          0.7925739884376526,
          0.7124500274658203
         ],
         "y": [
          0.34890204668045044,
          0.38893893361091614
         ]
        },
        {
         "line": {
          "color": "#299e50",
          "width": 0.5
         },
         "mode": "lines",
         "type": "scatter",
         "x": [
          0.7925739884376526,
          0.5463804006576538
         ],
         "y": [
          0.34890204668045044,
          0.31697767972946167
         ]
        },
        {
         "line": {
          "color": "#000000",
          "width": 0.5
         },
         "mode": "lines",
         "type": "scatter",
         "x": [
          0.861233115196228,
          0.9589328765869141
         ],
         "y": [
          0.791810154914856,
          0.41574493050575256
         ]
        },
        {
         "line": {
          "color": "#000000",
          "width": 0.5
         },
         "mode": "lines",
         "type": "scatter",
         "x": [
          0.861233115196228,
          0.5257600545883179
         ],
         "y": [
          0.791810154914856,
          0.3636617362499237
         ]
        },
        {
         "line": {
          "color": "#299e50",
          "width": 0.5
         },
         "mode": "lines",
         "type": "scatter",
         "x": [
          0.16964824497699738,
          0.7705209851264954
         ],
         "y": [
          0.5847124457359314,
          0.8238486051559448
         ]
        },
        {
         "line": {
          "color": "#299e50",
          "width": 0.5
         },
         "mode": "lines",
         "type": "scatter",
         "x": [
          0.4049499034881592,
          0.2027883529663086
         ],
         "y": [
          0.5708804130554199,
          0.23913969099521637
         ]
        },
        {
         "line": {
          "color": "#299e50",
          "width": 0.5
         },
         "mode": "lines",
         "type": "scatter",
         "x": [
          0.4049499034881592,
          0.7906101942062378
         ],
         "y": [
          0.5708804130554199,
          0.8271239399909973
         ]
        },
        {
         "line": {
          "color": "#299e50",
          "width": 0.5
         },
         "mode": "lines",
         "type": "scatter",
         "x": [
          0.4049499034881592,
          0.24933616816997528
         ],
         "y": [
          0.5708804130554199,
          0.7661589980125427
         ]
        },
        {
         "line": {
          "color": "#299e50",
          "width": 0.5
         },
         "mode": "lines",
         "type": "scatter",
         "x": [
          0.4049499034881592,
          0.8071006536483765
         ],
         "y": [
          0.5708804130554199,
          0.49038267135620117
         ]
        },
        {
         "line": {
          "color": "#299e50",
          "width": 0.5
         },
         "mode": "lines",
         "type": "scatter",
         "x": [
          0.5489649772644043,
          0.24933616816997528
         ],
         "y": [
          0.15700021386146545,
          0.7661589980125427
         ]
        },
        {
         "line": {
          "color": "#299e50",
          "width": 0.5
         },
         "mode": "lines",
         "type": "scatter",
         "x": [
          0.5489649772644043,
          0.30741241574287415
         ],
         "y": [
          0.15700021386146545,
          0.4526333808898926
         ]
        },
        {
         "line": {
          "color": "#299e50",
          "width": 0.5
         },
         "mode": "lines",
         "type": "scatter",
         "x": [
          0.3608105480670929,
          0.2392139732837677
         ],
         "y": [
          0.38436076045036316,
          0.5509072542190552
         ]
        },
        {
         "line": {
          "color": "#299e50",
          "width": 0.5
         },
         "mode": "lines",
         "type": "scatter",
         "x": [
          0.3608105480670929,
          0.7865979075431824
         ],
         "y": [
          0.38436076045036316,
          0.3577098250389099
         ]
        },
        {
         "line": {
          "color": "#299e50",
          "width": 0.5
         },
         "mode": "lines",
         "type": "scatter",
         "x": [
          0.1054673045873642,
          0.9533740282058716
         ],
         "y": [
          0.1829063445329666,
          0.30268898606300354
         ]
        },
        {
         "line": {
          "color": "#299e50",
          "width": 0.5
         },
         "mode": "lines",
         "type": "scatter",
         "x": [
          0.1054673045873642,
          0.042348384857177734
         ],
         "y": [
          0.1829063445329666,
          0.5137543082237244
         ]
        },
        {
         "line": {
          "color": "#299e50",
          "width": 0.5
         },
         "mode": "lines",
         "type": "scatter",
         "x": [
          0.12961436808109283,
          0.6886407136917114
         ],
         "y": [
          0.8514474034309387,
          0.6049558520317078
         ]
        },
        {
         "line": {
          "color": "#299e50",
          "width": 0.5
         },
         "mode": "lines",
         "type": "scatter",
         "x": [
          0.12961436808109283,
          0.6283118724822998
         ],
         "y": [
          0.8514474034309387,
          0.36206263303756714
         ]
        },
        {
         "line": {
          "color": "#ff0000",
          "width": 0.5
         },
         "mode": "lines",
         "type": "scatter",
         "x": [
          0.3581344783306122,
          0.688102662563324
         ],
         "y": [
          0.779924213886261,
          0.9888705611228943
         ]
        },
        {
         "line": {
          "color": "#ff0000",
          "width": 0.5
         },
         "mode": "lines",
         "type": "scatter",
         "x": [
          0.6576730608940125,
          0.688102662563324
         ],
         "y": [
          0.5684886574745178,
          0.9888705611228943
         ]
        },
        {
         "line": {
          "color": "#299e50",
          "width": 0.5
         },
         "mode": "lines",
         "type": "scatter",
         "x": [
          0.6576730608940125,
          0.8178924322128296
         ],
         "y": [
          0.5684886574745178,
          0.7954057455062866
         ]
        },
        {
         "line": {
          "color": "#299e50",
          "width": 0.5
         },
         "mode": "lines",
         "type": "scatter",
         "x": [
          0.10953275859355927,
          0.9535922408103943
         ],
         "y": [
          0.6045091152191162,
          0.7105864882469177
         ]
        },
        {
         "line": {
          "color": "#299e50",
          "width": 0.5
         },
         "mode": "lines",
         "type": "scatter",
         "x": [
          0.10953275859355927,
          0.46177294850349426
         ],
         "y": [
          0.6045091152191162,
          0.9223251342773438
         ]
        },
        {
         "line": {
          "color": "#299e50",
          "width": 0.5
         },
         "mode": "lines",
         "type": "scatter",
         "x": [
          0.42625564336776733,
          0.7033612132072449
         ],
         "y": [
          0.12353954464197159,
          0.5784785151481628
         ]
        },
        {
         "line": {
          "color": "#299e50",
          "width": 0.5
         },
         "mode": "lines",
         "type": "scatter",
         "x": [
          0.42625564336776733,
          0.5868855118751526
         ],
         "y": [
          0.12353954464197159,
          0.8264986276626587
         ]
        },
        {
         "line": {
          "color": "#299e50",
          "width": 0.5
         },
         "mode": "lines",
         "type": "scatter",
         "x": [
          0.37471911311149597,
          0.9535922408103943
         ],
         "y": [
          0.24507416784763336,
          0.7105864882469177
         ]
        },
        {
         "line": {
          "color": "#299e50",
          "width": 0.5
         },
         "mode": "lines",
         "type": "scatter",
         "x": [
          0.37471911311149597,
          0.4412229061126709
         ],
         "y": [
          0.24507416784763336,
          0.5574187636375427
         ]
        },
        {
         "line": {
          "color": "#299e50",
          "width": 0.5
         },
         "mode": "lines",
         "type": "scatter",
         "x": [
          0.37471911311149597,
          0.5298361778259277
         ],
         "y": [
          0.24507416784763336,
          0.813056230545044
         ]
        },
        {
         "line": {
          "color": "#299e50",
          "width": 0.5
         },
         "mode": "lines",
         "type": "scatter",
         "x": [
          0.37471911311149597,
          0.6038833260536194
         ],
         "y": [
          0.24507416784763336,
          0.5438730120658875
         ]
        },
        {
         "line": {
          "color": "#299e50",
          "width": 0.5
         },
         "mode": "lines",
         "type": "scatter",
         "x": [
          0.37471911311149597,
          0.3639090061187744
         ],
         "y": [
          0.24507416784763336,
          0.44308748841285706
         ]
        },
        {
         "line": {
          "color": "#299e50",
          "width": 0.5
         },
         "mode": "lines",
         "type": "scatter",
         "x": [
          0.37471911311149597,
          0.8320872783660889
         ],
         "y": [
          0.24507416784763336,
          0.3329014778137207
         ]
        },
        {
         "line": {
          "color": "#299e50",
          "width": 0.5
         },
         "mode": "lines",
         "type": "scatter",
         "x": [
          0.37471911311149597,
          0.2676929533481598
         ],
         "y": [
          0.24507416784763336,
          0.05253412202000618
         ]
        },
        {
         "line": {
          "color": "#299e50",
          "width": 0.5
         },
         "mode": "lines",
         "type": "scatter",
         "x": [
          0.37471911311149597,
          0.8314588069915771
         ],
         "y": [
          0.24507416784763336,
          0.9181115627288818
         ]
        },
        {
         "line": {
          "color": "#299e50",
          "width": 0.5
         },
         "mode": "lines",
         "type": "scatter",
         "x": [
          0.032796379178762436,
          0.11911876499652863
         ],
         "y": [
          0.11914670467376709,
          0.7354016304016113
         ]
        },
        {
         "line": {
          "color": "#299e50",
          "width": 0.5
         },
         "mode": "lines",
         "type": "scatter",
         "x": [
          0.9116828441619873,
          0.9036331176757812
         ],
         "y": [
          0.03659318760037422,
          0.7973167300224304
         ]
        },
        {
         "line": {
          "color": "#299e50",
          "width": 0.5
         },
         "mode": "lines",
         "type": "scatter",
         "x": [
          0.9116828441619873,
          0.6938514709472656
         ],
         "y": [
          0.03659318760037422,
          0.2275884598493576
         ]
        },
        {
         "line": {
          "color": "#299e50",
          "width": 0.5
         },
         "mode": "lines",
         "type": "scatter",
         "x": [
          0.41236838698387146,
          0.2548542022705078
         ],
         "y": [
          0.3075141906738281,
          0.43847450613975525
         ]
        },
        {
         "line": {
          "color": "#299e50",
          "width": 0.5
         },
         "mode": "lines",
         "type": "scatter",
         "x": [
          0.41236838698387146,
          0.709672212600708
         ],
         "y": [
          0.3075141906738281,
          0.4082157015800476
         ]
        },
        {
         "line": {
          "color": "#299e50",
          "width": 0.5
         },
         "mode": "lines",
         "type": "scatter",
         "x": [
          0.06136680394411087,
          0.5975174307823181
         ],
         "y": [
          0.7171312570571899,
          0.09037003666162491
         ]
        },
        {
         "line": {
          "color": "#299e50",
          "width": 0.5
         },
         "mode": "lines",
         "type": "scatter",
         "x": [
          0.06136680394411087,
          0.31636717915534973
         ],
         "y": [
          0.7171312570571899,
          0.9461463093757629
         ]
        },
        {
         "line": {
          "color": "#299e50",
          "width": 0.5
         },
         "mode": "lines",
         "type": "scatter",
         "x": [
          0.06136680394411087,
          0.2658243775367737
         ],
         "y": [
          0.7171312570571899,
          0.629175066947937
         ]
        },
        {
         "line": {
          "color": "#299e50",
          "width": 0.5
         },
         "mode": "lines",
         "type": "scatter",
         "x": [
          0.06136680394411087,
          0.19496621191501617
         ],
         "y": [
          0.7171312570571899,
          0.4010249376296997
         ]
        },
        {
         "line": {
          "color": "#299e50",
          "width": 0.5
         },
         "mode": "lines",
         "type": "scatter",
         "x": [
          0.06136680394411087,
          0.2897850275039673
         ],
         "y": [
          0.7171312570571899,
          0.8059777021408081
         ]
        },
        {
         "line": {
          "color": "#299e50",
          "width": 0.5
         },
         "mode": "lines",
         "type": "scatter",
         "x": [
          0.06136680394411087,
          0.09728842228651047
         ],
         "y": [
          0.7171312570571899,
          0.7286191582679749
         ]
        },
        {
         "line": {
          "color": "#299e50",
          "width": 0.5
         },
         "mode": "lines",
         "type": "scatter",
         "x": [
          0.06136680394411087,
          0.02191220410168171
         ],
         "y": [
          0.7171312570571899,
          0.9501380920410156
         ]
        },
        {
         "line": {
          "color": "#299e50",
          "width": 0.5
         },
         "mode": "lines",
         "type": "scatter",
         "x": [
          0.4268963038921356,
          0.009364954195916653
         ],
         "y": [
          0.3526017963886261,
          0.8570823669433594
         ]
        },
        {
         "line": {
          "color": "#299e50",
          "width": 0.5
         },
         "mode": "lines",
         "type": "scatter",
         "x": [
          0.4268963038921356,
          0.4003163278102875
         ],
         "y": [
          0.3526017963886261,
          0.06983596831560135
         ]
        },
        {
         "line": {
          "color": "#299e50",
          "width": 0.5
         },
         "mode": "lines",
         "type": "scatter",
         "x": [
          0.4268963038921356,
          0.298348993062973
         ],
         "y": [
          0.3526017963886261,
          0.06702214479446411
         ]
        },
        {
         "line": {
          "color": "#299e50",
          "width": 0.5
         },
         "mode": "lines",
         "type": "scatter",
         "x": [
          0.4268963038921356,
          0.298348993062973
         ],
         "y": [
          0.3526017963886261,
          0.06702214479446411
         ]
        },
        {
         "line": {
          "color": "#299e50",
          "width": 0.5
         },
         "mode": "lines",
         "type": "scatter",
         "x": [
          0.3266421854496002,
          0.8112418055534363
         ],
         "y": [
          0.057237427681684494,
          0.6319705247879028
         ]
        },
        {
         "line": {
          "color": "#299e50",
          "width": 0.5
         },
         "mode": "lines",
         "type": "scatter",
         "x": [
          0.3266421854496002,
          0.9203370213508606
         ],
         "y": [
          0.057237427681684494,
          0.43947649002075195
         ]
        },
        {
         "line": {
          "color": "#ff0000",
          "width": 0.5
         },
         "mode": "lines",
         "type": "scatter",
         "x": [
          0.16167396306991577,
          0.688102662563324
         ],
         "y": [
          0.7216278910636902,
          0.9888705611228943
         ]
        },
        {
         "line": {
          "color": "#299e50",
          "width": 0.5
         },
         "mode": "lines",
         "type": "scatter",
         "x": [
          0.11855419725179672,
          0.5145339965820312
         ],
         "y": [
          0.07933669537305832,
          0.4334047734737396
         ]
        },
        {
         "line": {
          "color": "#299e50",
          "width": 0.5
         },
         "mode": "lines",
         "type": "scatter",
         "x": [
          0.16244250535964966,
          0.042348384857177734
         ],
         "y": [
          0.18360093235969543,
          0.5137543082237244
         ]
        },
        {
         "line": {
          "color": "#299e50",
          "width": 0.5
         },
         "mode": "lines",
         "type": "scatter",
         "x": [
          0.16244250535964966,
          0.885564386844635
         ],
         "y": [
          0.18360093235969543,
          0.7476477026939392
         ]
        },
        {
         "line": {
          "color": "#299e50",
          "width": 0.5
         },
         "mode": "lines",
         "type": "scatter",
         "x": [
          0.868268609046936,
          0.3229692876338959
         ],
         "y": [
          0.28348907828330994,
          0.7871139049530029
         ]
        },
        {
         "line": {
          "color": "#299e50",
          "width": 0.5
         },
         "mode": "lines",
         "type": "scatter",
         "x": [
          0.868268609046936,
          0.804632306098938
         ],
         "y": [
          0.28348907828330994,
          0.5733250379562378
         ]
        },
        {
         "line": {
          "color": "#299e50",
          "width": 0.5
         },
         "mode": "lines",
         "type": "scatter",
         "x": [
          0.6455848813056946,
          0.01045279297977686
         ],
         "y": [
          0.9835445880889893,
          0.9925180673599243
         ]
        },
        {
         "line": {
          "color": "#299e50",
          "width": 0.5
         },
         "mode": "lines",
         "type": "scatter",
         "x": [
          0.5214764475822449,
          0.8888798952102661
         ],
         "y": [
          0.6203175187110901,
          0.6760756969451904
         ]
        },
        {
         "line": {
          "color": "#299e50",
          "width": 0.5
         },
         "mode": "lines",
         "type": "scatter",
         "x": [
          0.5214764475822449,
          0.5235260128974915
         ],
         "y": [
          0.6203175187110901,
          0.4669438302516937
         ]
        },
        {
         "line": {
          "color": "#ff0000",
          "width": 0.5
         },
         "mode": "lines",
         "type": "scatter",
         "x": [
          0.23380021750926971,
          0.688102662563324
         ],
         "y": [
          0.6421271562576294,
          0.9888705611228943
         ]
        },
        {
         "line": {
          "color": "#299e50",
          "width": 0.5
         },
         "mode": "lines",
         "type": "scatter",
         "x": [
          0.30741241574287415,
          0.18046684563159943
         ],
         "y": [
          0.4526333808898926,
          0.8838555216789246
         ]
        },
        {
         "line": {
          "color": "#299e50",
          "width": 0.5
         },
         "mode": "lines",
         "type": "scatter",
         "x": [
          0.30741241574287415,
          0.36872926354408264
         ],
         "y": [
          0.4526333808898926,
          0.4435192942619324
         ]
        },
        {
         "line": {
          "color": "#299e50",
          "width": 0.5
         },
         "mode": "lines",
         "type": "scatter",
         "x": [
          0.30741241574287415,
          0.6362404227256775
         ],
         "y": [
          0.4526333808898926,
          0.2567344307899475
         ]
        },
        {
         "line": {
          "color": "#299e50",
          "width": 0.5
         },
         "mode": "lines",
         "type": "scatter",
         "x": [
          0.30741241574287415,
          0.4188392162322998
         ],
         "y": [
          0.4526333808898926,
          0.5955045819282532
         ]
        },
        {
         "line": {
          "color": "#299e50",
          "width": 0.5
         },
         "mode": "lines",
         "type": "scatter",
         "x": [
          0.30741241574287415,
          0.7078151702880859
         ],
         "y": [
          0.4526333808898926,
          0.36715856194496155
         ]
        },
        {
         "line": {
          "color": "#299e50",
          "width": 0.5
         },
         "mode": "lines",
         "type": "scatter",
         "x": [
          0.30741241574287415,
          0.2817017734050751
         ],
         "y": [
          0.4526333808898926,
          0.21259024739265442
         ]
        },
        {
         "line": {
          "color": "#299e50",
          "width": 0.5
         },
         "mode": "lines",
         "type": "scatter",
         "x": [
          0.30741241574287415,
          0.2067819982767105
         ],
         "y": [
          0.4526333808898926,
          0.04610732942819595
         ]
        },
        {
         "line": {
          "color": "#299e50",
          "width": 0.5
         },
         "mode": "lines",
         "type": "scatter",
         "x": [
          0.30741241574287415,
          0.3540553152561188
         ],
         "y": [
          0.4526333808898926,
          0.908203125
         ]
        },
        {
         "line": {
          "color": "#299e50",
          "width": 0.5
         },
         "mode": "lines",
         "type": "scatter",
         "x": [
          0.30741241574287415,
          0.9610236883163452
         ],
         "y": [
          0.4526333808898926,
          0.1805858016014099
         ]
        },
        {
         "line": {
          "color": "#299e50",
          "width": 0.5
         },
         "mode": "lines",
         "type": "scatter",
         "x": [
          0.8584048748016357,
          0.8176313638687134
         ],
         "y": [
          0.6441057324409485,
          0.8166991472244263
         ]
        },
        {
         "line": {
          "color": "#299e50",
          "width": 0.5
         },
         "mode": "lines",
         "type": "scatter",
         "x": [
          0.8746578693389893,
          0.44581204652786255
         ],
         "y": [
          0.5382279753684998,
          0.3875442445278168
         ]
        },
        {
         "line": {
          "color": "#299e50",
          "width": 0.5
         },
         "mode": "lines",
         "type": "scatter",
         "x": [
          0.8746578693389893,
          0.6742362976074219
         ],
         "y": [
          0.5382279753684998,
          0.47694918513298035
         ]
        },
        {
         "line": {
          "color": "#299e50",
          "width": 0.5
         },
         "mode": "lines",
         "type": "scatter",
         "x": [
          0.2543323040008545,
          0.7705209851264954
         ],
         "y": [
          0.4477144479751587,
          0.8238486051559448
         ]
        },
        {
         "line": {
          "color": "#299e50",
          "width": 0.5
         },
         "mode": "lines",
         "type": "scatter",
         "x": [
          0.5782110691070557,
          0.8556737899780273
         ],
         "y": [
          0.022018224000930786,
          0.8741962909698486
         ]
        },
        {
         "line": {
          "color": "#299e50",
          "width": 0.5
         },
         "mode": "lines",
         "type": "scatter",
         "x": [
          0.5782110691070557,
          0.08868295699357986
         ],
         "y": [
          0.022018224000930786,
          0.912906289100647
         ]
        },
        {
         "line": {
          "color": "#ff0000",
          "width": 0.5
         },
         "mode": "lines",
         "type": "scatter",
         "x": [
          0.5537923574447632,
          0.688102662563324
         ],
         "y": [
          0.2832096815109253,
          0.9888705611228943
         ]
        },
        {
         "line": {
          "color": "#299e50",
          "width": 0.5
         },
         "mode": "lines",
         "type": "scatter",
         "x": [
          0.24131529033184052,
          0.7060776948928833
         ],
         "y": [
          0.8359021544456482,
          0.42263713479042053
         ]
        },
        {
         "line": {
          "color": "#299e50",
          "width": 0.5
         },
         "mode": "lines",
         "type": "scatter",
         "x": [
          0.2449370175600052,
          0.5691252946853638
         ],
         "y": [
          0.21335531771183014,
          0.1434451788663864
         ]
        },
        {
         "line": {
          "color": "#299e50",
          "width": 0.5
         },
         "mode": "lines",
         "type": "scatter",
         "x": [
          0.2449370175600052,
          0.1367407739162445
         ],
         "y": [
          0.21335531771183014,
          0.0881347507238388
         ]
        },
        {
         "line": {
          "color": "#ff0000",
          "width": 0.5
         },
         "mode": "lines",
         "type": "scatter",
         "x": [
          0.3867781162261963,
          0.688102662563324
         ],
         "y": [
          0.6892977952957153,
          0.9888705611228943
         ]
        },
        {
         "line": {
          "color": "#299e50",
          "width": 0.5
         },
         "mode": "lines",
         "type": "scatter",
         "x": [
          0.3867781162261963,
          0.6387676000595093
         ],
         "y": [
          0.6892977952957153,
          0.662317156791687
         ]
        },
        {
         "line": {
          "color": "#299e50",
          "width": 0.5
         },
         "mode": "lines",
         "type": "scatter",
         "x": [
          0.9535922408103943,
          0.7283123135566711
         ],
         "y": [
          0.7105864882469177,
          0.48522043228149414
         ]
        },
        {
         "line": {
          "color": "#299e50",
          "width": 0.5
         },
         "mode": "lines",
         "type": "scatter",
         "x": [
          0.9535922408103943,
          0.4552482068538666
         ],
         "y": [
          0.7105864882469177,
          0.797096312046051
         ]
        },
        {
         "line": {
          "color": "#299e50",
          "width": 0.5
         },
         "mode": "lines",
         "type": "scatter",
         "x": [
          0.9535922408103943,
          0.7369351387023926
         ],
         "y": [
          0.7105864882469177,
          0.2640984356403351
         ]
        },
        {
         "line": {
          "color": "#299e50",
          "width": 0.5
         },
         "mode": "lines",
         "type": "scatter",
         "x": [
          0.9535922408103943,
          0.9048545956611633
         ],
         "y": [
          0.7105864882469177,
          0.12441635131835938
         ]
        },
        {
         "line": {
          "color": "#299e50",
          "width": 0.5
         },
         "mode": "lines",
         "type": "scatter",
         "x": [
          0.9535922408103943,
          0.9660898447036743
         ],
         "y": [
          0.7105864882469177,
          0.5598728060722351
         ]
        },
        {
         "line": {
          "color": "#299e50",
          "width": 0.5
         },
         "mode": "lines",
         "type": "scatter",
         "x": [
          0.9535922408103943,
          0.9191186428070068
         ],
         "y": [
          0.7105864882469177,
          0.512662947177887
         ]
        },
        {
         "line": {
          "color": "#299e50",
          "width": 0.5
         },
         "mode": "lines",
         "type": "scatter",
         "x": [
          0.9535922408103943,
          0.3076225519180298
         ],
         "y": [
          0.7105864882469177,
          0.22935745120048523
         ]
        },
        {
         "line": {
          "color": "#299e50",
          "width": 0.5
         },
         "mode": "lines",
         "type": "scatter",
         "x": [
          0.9535922408103943,
          0.36375749111175537
         ],
         "y": [
          0.7105864882469177,
          0.4329463839530945
         ]
        },
        {
         "line": {
          "color": "#299e50",
          "width": 0.5
         },
         "mode": "lines",
         "type": "scatter",
         "x": [
          0.9535922408103943,
          0.2814908027648926
         ],
         "y": [
          0.7105864882469177,
          0.833077609539032
         ]
        },
        {
         "line": {
          "color": "#299e50",
          "width": 0.5
         },
         "mode": "lines",
         "type": "scatter",
         "x": [
          0.9535922408103943,
          0.22995513677597046
         ],
         "y": [
          0.7105864882469177,
          0.6624197959899902
         ]
        },
        {
         "line": {
          "color": "#299e50",
          "width": 0.5
         },
         "mode": "lines",
         "type": "scatter",
         "x": [
          0.9535922408103943,
          0.7834973335266113
         ],
         "y": [
          0.7105864882469177,
          0.37673723697662354
         ]
        },
        {
         "line": {
          "color": "#299e50",
          "width": 0.5
         },
         "mode": "lines",
         "type": "scatter",
         "x": [
          0.9535922408103943,
          0.6552994251251221
         ],
         "y": [
          0.7105864882469177,
          0.2802817225456238
         ]
        },
        {
         "line": {
          "color": "#299e50",
          "width": 0.5
         },
         "mode": "lines",
         "type": "scatter",
         "x": [
          0.9535922408103943,
          0.5211465954780579
         ],
         "y": [
          0.7105864882469177,
          0.09790996462106705
         ]
        },
        {
         "line": {
          "color": "#299e50",
          "width": 0.5
         },
         "mode": "lines",
         "type": "scatter",
         "x": [
          0.7247529029846191,
          0.3431510329246521
         ],
         "y": [
          0.6330242156982422,
          0.5091053247451782
         ]
        },
        {
         "line": {
          "color": "#299e50",
          "width": 0.5
         },
         "mode": "lines",
         "type": "scatter",
         "x": [
          0.7247529029846191,
          0.03822695091366768
         ],
         "y": [
          0.6330242156982422,
          0.132366344332695
         ]
        },
        {
         "line": {
          "color": "#299e50",
          "width": 0.5
         },
         "mode": "lines",
         "type": "scatter",
         "x": [
          0.7230420708656311,
          0.08260887861251831
         ],
         "y": [
          0.08449665457010269,
          0.1305074244737625
         ]
        },
        {
         "line": {
          "color": "#299e50",
          "width": 0.5
         },
         "mode": "lines",
         "type": "scatter",
         "x": [
          0.7230420708656311,
          0.2718692421913147
         ],
         "y": [
          0.08449665457010269,
          0.48011088371276855
         ]
        },
        {
         "line": {
          "color": "#299e50",
          "width": 0.5
         },
         "mode": "lines",
         "type": "scatter",
         "x": [
          0.6742362976074219,
          0.9712615609169006
         ],
         "y": [
          0.47694918513298035,
          0.47432541847229004
         ]
        },
        {
         "line": {
          "color": "#299e50",
          "width": 0.5
         },
         "mode": "lines",
         "type": "scatter",
         "x": [
          0.6037368178367615,
          0.9072867035865784
         ],
         "y": [
          0.12893743813037872,
          0.7904559969902039
         ]
        },
        {
         "line": {
          "color": "#299e50",
          "width": 0.5
         },
         "mode": "lines",
         "type": "scatter",
         "x": [
          0.6037368178367615,
          0.5257600545883179
         ],
         "y": [
          0.12893743813037872,
          0.3636617362499237
         ]
        },
        {
         "line": {
          "color": "#299e50",
          "width": 0.5
         },
         "mode": "lines",
         "type": "scatter",
         "x": [
          0.5868855118751526,
          0.2814908027648926
         ],
         "y": [
          0.8264986276626587,
          0.833077609539032
         ]
        },
        {
         "line": {
          "color": "#299e50",
          "width": 0.5
         },
         "mode": "lines",
         "type": "scatter",
         "x": [
          0.3540553152561188,
          0.11400165408849716
         ],
         "y": [
          0.908203125,
          0.45799964666366577
         ]
        },
        {
         "line": {
          "color": "#299e50",
          "width": 0.5
         },
         "mode": "lines",
         "type": "scatter",
         "x": [
          0.10090144723653793,
          0.2548542022705078
         ],
         "y": [
          0.21024325489997864,
          0.43847450613975525
         ]
        },
        {
         "line": {
          "color": "#299e50",
          "width": 0.5
         },
         "mode": "lines",
         "type": "scatter",
         "x": [
          0.36881691217422485,
          0.8888798952102661
         ],
         "y": [
          0.12157180905342102,
          0.6760756969451904
         ]
        },
        {
         "line": {
          "color": "#299e50",
          "width": 0.5
         },
         "mode": "lines",
         "type": "scatter",
         "x": [
          0.7463298439979553,
          0.8423578143119812
         ],
         "y": [
          0.9924412965774536,
          0.7606645226478577
         ]
        },
        {
         "line": {
          "color": "#299e50",
          "width": 0.5
         },
         "mode": "lines",
         "type": "scatter",
         "x": [
          0.8569652438163757,
          0.20855578780174255
         ],
         "y": [
          0.5634185075759888,
          0.8728055357933044
         ]
        },
        {
         "line": {
          "color": "#299e50",
          "width": 0.5
         },
         "mode": "lines",
         "type": "scatter",
         "x": [
          0.8569652438163757,
          0.00428256718441844
         ],
         "y": [
          0.5634185075759888,
          0.36922237277030945
         ]
        },
        {
         "line": {
          "color": "#299e50",
          "width": 0.5
         },
         "mode": "lines",
         "type": "scatter",
         "x": [
          0.8569652438163757,
          0.4441273808479309
         ],
         "y": [
          0.5634185075759888,
          0.0050231837667524815
         ]
        },
        {
         "line": {
          "color": "#299e50",
          "width": 0.5
         },
         "mode": "lines",
         "type": "scatter",
         "x": [
          0.8569652438163757,
          0.22995513677597046
         ],
         "y": [
          0.5634185075759888,
          0.6624197959899902
         ]
        },
        {
         "line": {
          "color": "#299e50",
          "width": 0.5
         },
         "mode": "lines",
         "type": "scatter",
         "x": [
          0.9151239991188049,
          0.6869925856590271
         ],
         "y": [
          0.2732889950275421,
          0.044700391590595245
         ]
        },
        {
         "line": {
          "color": "#299e50",
          "width": 0.5
         },
         "mode": "lines",
         "type": "scatter",
         "x": [
          0.9151239991188049,
          0.10754048824310303
         ],
         "y": [
          0.2732889950275421,
          0.8697237372398376
         ]
        },
        {
         "line": {
          "color": "#299e50",
          "width": 0.5
         },
         "mode": "lines",
         "type": "scatter",
         "x": [
          0.8659422397613525,
          0.3475211262702942
         ],
         "y": [
          0.30480411648750305,
          0.4190945625305176
         ]
        },
        {
         "line": {
          "color": "#299e50",
          "width": 0.5
         },
         "mode": "lines",
         "type": "scatter",
         "x": [
          0.8659422397613525,
          0.9950801730155945
         ],
         "y": [
          0.30480411648750305,
          0.5712705850601196
         ]
        },
        {
         "line": {
          "color": "#299e50",
          "width": 0.5
         },
         "mode": "lines",
         "type": "scatter",
         "x": [
          0.6980128884315491,
          0.9898263812065125
         ],
         "y": [
          0.8747133612632751,
          0.9276485443115234
         ]
        },
        {
         "line": {
          "color": "#299e50",
          "width": 0.5
         },
         "mode": "lines",
         "type": "scatter",
         "x": [
          0.6980128884315491,
          0.6139403581619263
         ],
         "y": [
          0.8747133612632751,
          0.8554712533950806
         ]
        },
        {
         "line": {
          "color": "#299e50",
          "width": 0.5
         },
         "mode": "lines",
         "type": "scatter",
         "x": [
          0.7906101942062378,
          0.19288185238838196
         ],
         "y": [
          0.8271239399909973,
          0.5290423631668091
         ]
        },
        {
         "line": {
          "color": "#299e50",
          "width": 0.5
         },
         "mode": "lines",
         "type": "scatter",
         "x": [
          0.6208258271217346,
          0.7446613907814026
         ],
         "y": [
          0.239152193069458,
          0.3356136381626129
         ]
        },
        {
         "line": {
          "color": "#299e50",
          "width": 0.5
         },
         "mode": "lines",
         "type": "scatter",
         "x": [
          0.6208258271217346,
          0.0965760126709938
         ],
         "y": [
          0.239152193069458,
          0.10164432227611542
         ]
        },
        {
         "line": {
          "color": "#299e50",
          "width": 0.5
         },
         "mode": "lines",
         "type": "scatter",
         "x": [
          0.1052718460559845,
          0.6359803080558777
         ],
         "y": [
          0.07554101198911667,
          0.9657894372940063
         ]
        },
        {
         "line": {
          "color": "#299e50",
          "width": 0.5
         },
         "mode": "lines",
         "type": "scatter",
         "x": [
          0.1052718460559845,
          0.48688048124313354
         ],
         "y": [
          0.07554101198911667,
          0.08886551111936569
         ]
        },
        {
         "line": {
          "color": "#299e50",
          "width": 0.5
         },
         "mode": "lines",
         "type": "scatter",
         "x": [
          0.3431510329246521,
          0.44898006319999695
         ],
         "y": [
          0.5091053247451782,
          0.6405199766159058
         ]
        },
        {
         "line": {
          "color": "#299e50",
          "width": 0.5
         },
         "mode": "lines",
         "type": "scatter",
         "x": [
          0.3431510329246521,
          0.5271554589271545
         ],
         "y": [
          0.5091053247451782,
          0.3626784682273865
         ]
        },
        {
         "line": {
          "color": "#299e50",
          "width": 0.5
         },
         "mode": "lines",
         "type": "scatter",
         "x": [
          0.3431510329246521,
          0.9072867035865784
         ],
         "y": [
          0.5091053247451782,
          0.7904559969902039
         ]
        },
        {
         "line": {
          "color": "#299e50",
          "width": 0.5
         },
         "mode": "lines",
         "type": "scatter",
         "x": [
          0.05450937896966934,
          0.022838640958070755
         ],
         "y": [
          0.7252135872840881,
          0.8254153728485107
         ]
        },
        {
         "line": {
          "color": "#299e50",
          "width": 0.5
         },
         "mode": "lines",
         "type": "scatter",
         "x": [
          0.05450937896966934,
          0.5282618403434753
         ],
         "y": [
          0.7252135872840881,
          0.6983479857444763
         ]
        },
        {
         "line": {
          "color": "#299e50",
          "width": 0.5
         },
         "mode": "lines",
         "type": "scatter",
         "x": [
          0.7802153825759888,
          0.44581204652786255
         ],
         "y": [
          0.3655143678188324,
          0.3875442445278168
         ]
        },
        {
         "line": {
          "color": "#299e50",
          "width": 0.5
         },
         "mode": "lines",
         "type": "scatter",
         "x": [
          0.3665904998779297,
          0.8605000972747803
         ],
         "y": [
          0.7080013155937195,
          0.4711788594722748
         ]
        },
        {
         "line": {
          "color": "#299e50",
          "width": 0.5
         },
         "mode": "lines",
         "type": "scatter",
         "x": [
          0.3275134861469269,
          0.44581204652786255
         ],
         "y": [
          0.15658195316791534,
          0.3875442445278168
         ]
        },
        {
         "line": {
          "color": "#299e50",
          "width": 0.5
         },
         "mode": "lines",
         "type": "scatter",
         "x": [
          0.3275134861469269,
          0.686886191368103
         ],
         "y": [
          0.15658195316791534,
          0.6341197490692139
         ]
        },
        {
         "line": {
          "color": "#299e50",
          "width": 0.5
         },
         "mode": "lines",
         "type": "scatter",
         "x": [
          0.3105330765247345,
          0.5439746975898743
         ],
         "y": [
          0.8027141690254211,
          0.6988767981529236
         ]
        },
        {
         "line": {
          "color": "#299e50",
          "width": 0.5
         },
         "mode": "lines",
         "type": "scatter",
         "x": [
          0.3105330765247345,
          0.26631036400794983
         ],
         "y": [
          0.8027141690254211,
          0.8931359052658081
         ]
        },
        {
         "line": {
          "color": "#299e50",
          "width": 0.5
         },
         "mode": "lines",
         "type": "scatter",
         "x": [
          0.13035942614078522,
          0.0406193807721138
         ],
         "y": [
          0.20732364058494568,
          0.683742105960846
         ]
        },
        {
         "line": {
          "color": "#299e50",
          "width": 0.5
         },
         "mode": "lines",
         "type": "scatter",
         "x": [
          0.13035942614078522,
          0.9706009030342102
         ],
         "y": [
          0.20732364058494568,
          0.8453694581985474
         ]
        },
        {
         "line": {
          "color": "#299e50",
          "width": 0.5
         },
         "mode": "lines",
         "type": "scatter",
         "x": [
          0.7283123135566711,
          0.9680742025375366
         ],
         "y": [
          0.48522043228149414,
          0.13620410859584808
         ]
        },
        {
         "line": {
          "color": "#299e50",
          "width": 0.5
         },
         "mode": "lines",
         "type": "scatter",
         "x": [
          0.03822695091366768,
          0.46535176038742065
         ],
         "y": [
          0.132366344332695,
          0.49339163303375244
         ]
        },
        {
         "line": {
          "color": "#299e50",
          "width": 0.5
         },
         "mode": "lines",
         "type": "scatter",
         "x": [
          0.5145339965820312,
          0.4269859492778778
         ],
         "y": [
          0.4334047734737396,
          0.9165792465209961
         ]
        },
        {
         "line": {
          "color": "#299e50",
          "width": 0.5
         },
         "mode": "lines",
         "type": "scatter",
         "x": [
          0.5145339965820312,
          0.2803668975830078
         ],
         "y": [
          0.4334047734737396,
          0.14655300974845886
         ]
        },
        {
         "line": {
          "color": "#299e50",
          "width": 0.5
         },
         "mode": "lines",
         "type": "scatter",
         "x": [
          0.5145339965820312,
          0.49254554510116577
         ],
         "y": [
          0.4334047734737396,
          0.46676352620124817
         ]
        },
        {
         "line": {
          "color": "#299e50",
          "width": 0.5
         },
         "mode": "lines",
         "type": "scatter",
         "x": [
          0.5145339965820312,
          0.11893855035305023
         ],
         "y": [
          0.4334047734737396,
          0.9081544876098633
         ]
        },
        {
         "line": {
          "color": "#299e50",
          "width": 0.5
         },
         "mode": "lines",
         "type": "scatter",
         "x": [
          0.5145339965820312,
          0.6992025971412659
         ],
         "y": [
          0.4334047734737396,
          0.04651474952697754
         ]
        },
        {
         "line": {
          "color": "#299e50",
          "width": 0.5
         },
         "mode": "lines",
         "type": "scatter",
         "x": [
          0.5145339965820312,
          0.27797019481658936
         ],
         "y": [
          0.4334047734737396,
          0.8185561895370483
         ]
        },
        {
         "line": {
          "color": "#299e50",
          "width": 0.5
         },
         "mode": "lines",
         "type": "scatter",
         "x": [
          0.31636717915534973,
          0.3166092336177826
         ],
         "y": [
          0.9461463093757629,
          0.12015257030725479
         ]
        },
        {
         "line": {
          "color": "#299e50",
          "width": 0.5
         },
         "mode": "lines",
         "type": "scatter",
         "x": [
          0.5623200535774231,
          0.22327515482902527
         ],
         "y": [
          0.7122883200645447,
          0.4437815248966217
         ]
        },
        {
         "line": {
          "color": "#299e50",
          "width": 0.5
         },
         "mode": "lines",
         "type": "scatter",
         "x": [
          0.5623200535774231,
          0.44496607780456543
         ],
         "y": [
          0.7122883200645447,
          0.9492318034172058
         ]
        },
        {
         "line": {
          "color": "#299e50",
          "width": 0.5
         },
         "mode": "lines",
         "type": "scatter",
         "x": [
          0.3998125493526459,
          0.9035263657569885
         ],
         "y": [
          0.46140116453170776,
          0.019613487645983696
         ]
        },
        {
         "line": {
          "color": "#299e50",
          "width": 0.5
         },
         "mode": "lines",
         "type": "scatter",
         "x": [
          0.3998125493526459,
          0.9340864419937134
         ],
         "y": [
          0.46140116453170776,
          0.683591902256012
         ]
        },
        {
         "line": {
          "color": "#299e50",
          "width": 0.5
         },
         "mode": "lines",
         "type": "scatter",
         "x": [
          0.6259392499923706,
          0.8020312190055847
         ],
         "y": [
          0.22990833222866058,
          0.8995245099067688
         ]
        },
        {
         "line": {
          "color": "#299e50",
          "width": 0.5
         },
         "mode": "lines",
         "type": "scatter",
         "x": [
          0.7818734049797058,
          0.9388024210929871
         ],
         "y": [
          0.18226011097431183,
          0.9138306379318237
         ]
        },
        {
         "line": {
          "color": "#299e50",
          "width": 0.5
         },
         "mode": "lines",
         "type": "scatter",
         "x": [
          0.7818734049797058,
          0.6938597559928894
         ],
         "y": [
          0.18226011097431183,
          0.6173255443572998
         ]
        },
        {
         "line": {
          "color": "#299e50",
          "width": 0.5
         },
         "mode": "lines",
         "type": "scatter",
         "x": [
          0.9242969751358032,
          0.8049639463424683
         ],
         "y": [
          0.4479116201400757,
          0.2033414989709854
         ]
        },
        {
         "line": {
          "color": "#299e50",
          "width": 0.5
         },
         "mode": "lines",
         "type": "scatter",
         "x": [
          0.9242969751358032,
          0.7073186039924622
         ],
         "y": [
          0.4479116201400757,
          0.6039894819259644
         ]
        },
        {
         "line": {
          "color": "#299e50",
          "width": 0.5
         },
         "mode": "lines",
         "type": "scatter",
         "x": [
          0.7060776948928833,
          0.3093782961368561
         ],
         "y": [
          0.42263713479042053,
          0.5310360193252563
         ]
        },
        {
         "line": {
          "color": "#299e50",
          "width": 0.5
         },
         "mode": "lines",
         "type": "scatter",
         "x": [
          0.8482093811035156,
          0.697255551815033
         ],
         "y": [
          0.3290116488933563,
          0.19377996027469635
         ]
        },
        {
         "line": {
          "color": "#299e50",
          "width": 0.5
         },
         "mode": "lines",
         "type": "scatter",
         "x": [
          0.8482093811035156,
          0.5073263645172119
         ],
         "y": [
          0.3290116488933563,
          0.4508726894855499
         ]
        },
        {
         "line": {
          "color": "#299e50",
          "width": 0.5
         },
         "mode": "lines",
         "type": "scatter",
         "x": [
          0.9786837100982666,
          0.7705209851264954
         ],
         "y": [
          0.8062728047370911,
          0.8238486051559448
         ]
        },
        {
         "line": {
          "color": "#299e50",
          "width": 0.5
         },
         "mode": "lines",
         "type": "scatter",
         "x": [
          0.9786837100982666,
          0.7829354405403137
         ],
         "y": [
          0.8062728047370911,
          0.598920464515686
         ]
        },
        {
         "line": {
          "color": "#299e50",
          "width": 0.5
         },
         "mode": "lines",
         "type": "scatter",
         "x": [
          0.7251060009002686,
          0.8851790428161621
         ],
         "y": [
          0.6959071755409241,
          0.805231511592865
         ]
        },
        {
         "line": {
          "color": "#299e50",
          "width": 0.5
         },
         "mode": "lines",
         "type": "scatter",
         "x": [
          0.7251060009002686,
          0.34661275148391724
         ],
         "y": [
          0.6959071755409241,
          0.29253408312797546
         ]
        },
        {
         "line": {
          "color": "#299e50",
          "width": 0.5
         },
         "mode": "lines",
         "type": "scatter",
         "x": [
          0.9388992786407471,
          0.7705209851264954
         ],
         "y": [
          0.6037739515304565,
          0.8238486051559448
         ]
        },
        {
         "line": {
          "color": "#299e50",
          "width": 0.5
         },
         "mode": "lines",
         "type": "scatter",
         "x": [
          0.9388992786407471,
          0.2817017734050751
         ],
         "y": [
          0.6037739515304565,
          0.21259024739265442
         ]
        },
        {
         "line": {
          "color": "#299e50",
          "width": 0.5
         },
         "mode": "lines",
         "type": "scatter",
         "x": [
          0.018117137253284454,
          0.44581204652786255
         ],
         "y": [
          0.7022542953491211,
          0.3875442445278168
         ]
        },
        {
         "line": {
          "color": "#299e50",
          "width": 0.5
         },
         "mode": "lines",
         "type": "scatter",
         "x": [
          0.018117137253284454,
          0.9411027431488037
         ],
         "y": [
          0.7022542953491211,
          0.9081204533576965
         ]
        },
        {
         "line": {
          "color": "#000000",
          "width": 0.5
         },
         "mode": "lines",
         "type": "scatter",
         "x": [
          0.4412229061126709,
          0.31190225481987
         ],
         "y": [
          0.5574187636375427,
          0.5534483194351196
         ]
        },
        {
         "line": {
          "color": "#299e50",
          "width": 0.5
         },
         "mode": "lines",
         "type": "scatter",
         "x": [
          0.23920944333076477,
          0.9950982332229614
         ],
         "y": [
          0.7581056952476501,
          0.2590755820274353
         ]
        },
        {
         "line": {
          "color": "#299e50",
          "width": 0.5
         },
         "mode": "lines",
         "type": "scatter",
         "x": [
          0.13031168282032013,
          0.744438648223877
         ],
         "y": [
          0.9209095239639282,
          0.15768814086914062
         ]
        },
        {
         "line": {
          "color": "#299e50",
          "width": 0.5
         },
         "mode": "lines",
         "type": "scatter",
         "x": [
          0.13031168282032013,
          0.04588327184319496
         ],
         "y": [
          0.9209095239639282,
          0.34148916602134705
         ]
        },
        {
         "line": {
          "color": "#299e50",
          "width": 0.5
         },
         "mode": "lines",
         "type": "scatter",
         "x": [
          0.5751445889472961,
          0.3464466631412506
         ],
         "y": [
          0.7928558588027954,
          0.7880702018737793
         ]
        },
        {
         "line": {
          "color": "#299e50",
          "width": 0.5
         },
         "mode": "lines",
         "type": "scatter",
         "x": [
          0.009188697673380375,
          0.8423578143119812
         ],
         "y": [
          0.6977382898330688,
          0.7606645226478577
         ]
        },
        {
         "line": {
          "color": "#299e50",
          "width": 0.5
         },
         "mode": "lines",
         "type": "scatter",
         "x": [
          0.009188697673380375,
          0.7204969525337219
         ],
         "y": [
          0.6977382898330688,
          0.17706520855426788
         ]
        },
        {
         "line": {
          "color": "#299e50",
          "width": 0.5
         },
         "mode": "lines",
         "type": "scatter",
         "x": [
          0.09728842228651047,
          0.44581204652786255
         ],
         "y": [
          0.7286191582679749,
          0.3875442445278168
         ]
        },
        {
         "line": {
          "color": "#299e50",
          "width": 0.5
         },
         "mode": "lines",
         "type": "scatter",
         "x": [
          0.015752650797367096,
          0.7705209851264954
         ],
         "y": [
          0.12225010991096497,
          0.8238486051559448
         ]
        },
        {
         "line": {
          "color": "#ff0000",
          "width": 0.5
         },
         "mode": "lines",
         "type": "scatter",
         "x": [
          0.9959636330604553,
          0.688102662563324
         ],
         "y": [
          0.034198321402072906,
          0.9888705611228943
         ]
        },
        {
         "line": {
          "color": "#299e50",
          "width": 0.5
         },
         "mode": "lines",
         "type": "scatter",
         "x": [
          0.10281021147966385,
          0.5870656967163086
         ],
         "y": [
          0.27487674355506897,
          0.2130855917930603
         ]
        },
        {
         "line": {
          "color": "#299e50",
          "width": 0.5
         },
         "mode": "lines",
         "type": "scatter",
         "x": [
          0.10281021147966385,
          0.6283131837844849
         ],
         "y": [
          0.27487674355506897,
          0.43186071515083313
         ]
        },
        {
         "line": {
          "color": "#299e50",
          "width": 0.5
         },
         "mode": "lines",
         "type": "scatter",
         "x": [
          0.3120396137237549,
          0.8613961338996887
         ],
         "y": [
          0.9114640355110168,
          0.5749999284744263
         ]
        },
        {
         "line": {
          "color": "#299e50",
          "width": 0.5
         },
         "mode": "lines",
         "type": "scatter",
         "x": [
          0.3120396137237549,
          0.44248539209365845
         ],
         "y": [
          0.9114640355110168,
          0.9572936296463013
         ]
        },
        {
         "line": {
          "color": "#299e50",
          "width": 0.5
         },
         "mode": "lines",
         "type": "scatter",
         "x": [
          0.6692140102386475,
          0.33287522196769714
         ],
         "y": [
          0.3064473569393158,
          0.25145813822746277
         ]
        },
        {
         "line": {
          "color": "#299e50",
          "width": 0.5
         },
         "mode": "lines",
         "type": "scatter",
         "x": [
          0.8304232954978943,
          0.8613961338996887
         ],
         "y": [
          0.038620490580797195,
          0.5749999284744263
         ]
        },
        {
         "line": {
          "color": "#299e50",
          "width": 0.5
         },
         "mode": "lines",
         "type": "scatter",
         "x": [
          0.8304232954978943,
          0.08735064417123795
         ],
         "y": [
          0.038620490580797195,
          0.9197586178779602
         ]
        },
        {
         "line": {
          "color": "#299e50",
          "width": 0.5
         },
         "mode": "lines",
         "type": "scatter",
         "x": [
          0.5883558392524719,
          0.5148799419403076
         ],
         "y": [
          0.3832472264766693,
          0.9227717518806458
         ]
        },
        {
         "line": {
          "color": "#299e50",
          "width": 0.5
         },
         "mode": "lines",
         "type": "scatter",
         "x": [
          0.5883558392524719,
          0.16094909608364105
         ],
         "y": [
          0.3832472264766693,
          0.5785831212997437
         ]
        },
        {
         "line": {
          "color": "#299e50",
          "width": 0.5
         },
         "mode": "lines",
         "type": "scatter",
         "x": [
          0.8223180770874023,
          0.09611543267965317
         ],
         "y": [
          0.9231202006340027,
          0.4786972105503082
         ]
        },
        {
         "line": {
          "color": "#299e50",
          "width": 0.5
         },
         "mode": "lines",
         "type": "scatter",
         "x": [
          0.8223180770874023,
          0.09539978951215744
         ],
         "y": [
          0.9231202006340027,
          0.24526157975196838
         ]
        },
        {
         "line": {
          "color": "#299e50",
          "width": 0.5
         },
         "mode": "lines",
         "type": "scatter",
         "x": [
          0.8223180770874023,
          0.5075681209564209
         ],
         "y": [
          0.9231202006340027,
          0.3539017140865326
         ]
        },
        {
         "line": {
          "color": "#299e50",
          "width": 0.5
         },
         "mode": "lines",
         "type": "scatter",
         "x": [
          0.8493874073028564,
          0.760776162147522
         ],
         "y": [
          0.49684640765190125,
          0.4072771966457367
         ]
        },
        {
         "line": {
          "color": "#299e50",
          "width": 0.5
         },
         "mode": "lines",
         "type": "scatter",
         "x": [
          0.4171616733074188,
          0.2701418995857239
         ],
         "y": [
          0.006484791170805693,
          0.13052211701869965
         ]
        },
        {
         "line": {
          "color": "#299e50",
          "width": 0.5
         },
         "mode": "lines",
         "type": "scatter",
         "x": [
          0.0656181052327156,
          0.25519537925720215
         ],
         "y": [
          0.2571299374103546,
          0.34412872791290283
         ]
        },
        {
         "line": {
          "color": "#299e50",
          "width": 0.5
         },
         "mode": "lines",
         "type": "scatter",
         "x": [
          0.0656181052327156,
          0.11203467100858688
         ],
         "y": [
          0.2571299374103546,
          0.6890478730201721
         ]
        },
        {
         "line": {
          "color": "#000000",
          "width": 0.5
         },
         "mode": "lines",
         "type": "scatter",
         "x": [
          0.6150668859481812,
          0.5294198393821716
         ],
         "y": [
          0.05351279303431511,
          0.4090898633003235
         ]
        },
        {
         "line": {
          "color": "#000000",
          "width": 0.5
         },
         "mode": "lines",
         "type": "scatter",
         "x": [
          0.6150668859481812,
          0.25499722361564636
         ],
         "y": [
          0.05351279303431511,
          0.4588009715080261
         ]
        },
        {
         "line": {
          "color": "#ff0000",
          "width": 0.5
         },
         "mode": "lines",
         "type": "scatter",
         "x": [
          0.2386309653520584,
          0.688102662563324
         ],
         "y": [
          0.6189432740211487,
          0.9888705611228943
         ]
        },
        {
         "line": {
          "color": "#299e50",
          "width": 0.5
         },
         "mode": "lines",
         "type": "scatter",
         "x": [
          0.2386309653520584,
          0.3024364709854126
         ],
         "y": [
          0.6189432740211487,
          0.12850503623485565
         ]
        },
        {
         "line": {
          "color": "#299e50",
          "width": 0.5
         },
         "mode": "lines",
         "type": "scatter",
         "x": [
          0.2386309653520584,
          0.07875503599643707
         ],
         "y": [
          0.6189432740211487,
          0.927574098110199
         ]
        },
        {
         "line": {
          "color": "#299e50",
          "width": 0.5
         },
         "mode": "lines",
         "type": "scatter",
         "x": [
          0.09174486994743347,
          0.8083268404006958
         ],
         "y": [
          0.061668798327445984,
          0.20300839841365814
         ]
        },
        {
         "line": {
          "color": "#299e50",
          "width": 0.5
         },
         "mode": "lines",
         "type": "scatter",
         "x": [
          0.9336130619049072,
          0.34294766187667847
         ],
         "y": [
          0.42656466364860535,
          0.2597651183605194
         ]
        },
        {
         "line": {
          "color": "#299e50",
          "width": 0.5
         },
         "mode": "lines",
         "type": "scatter",
         "x": [
          0.7369351387023926,
          0.05158266797661781
         ],
         "y": [
          0.2640984356403351,
          0.1886032521724701
         ]
        },
        {
         "line": {
          "color": "#299e50",
          "width": 0.5
         },
         "mode": "lines",
         "type": "scatter",
         "x": [
          0.5209252834320068,
          0.7154220938682556
         ],
         "y": [
          0.7655325531959534,
          0.40188392996788025
         ]
        },
        {
         "line": {
          "color": "#299e50",
          "width": 0.5
         },
         "mode": "lines",
         "type": "scatter",
         "x": [
          0.28714001178741455,
          0.9865484237670898
         ],
         "y": [
          0.10241106152534485,
          0.6679137349128723
         ]
        },
        {
         "line": {
          "color": "#299e50",
          "width": 0.5
         },
         "mode": "lines",
         "type": "scatter",
         "x": [
          0.28714001178741455,
          0.8244009017944336
         ],
         "y": [
          0.10241106152534485,
          0.12108081579208374
         ]
        },
        {
         "line": {
          "color": "#ff0000",
          "width": 0.5
         },
         "mode": "lines",
         "type": "scatter",
         "x": [
          0.3543585538864136,
          0.688102662563324
         ],
         "y": [
          0.8624551892280579,
          0.9888705611228943
         ]
        },
        {
         "line": {
          "color": "#299e50",
          "width": 0.5
         },
         "mode": "lines",
         "type": "scatter",
         "x": [
          0.15171773731708527,
          0.2548542022705078
         ],
         "y": [
          0.8544511198997498,
          0.43847450613975525
         ]
        },
        {
         "line": {
          "color": "#299e50",
          "width": 0.5
         },
         "mode": "lines",
         "type": "scatter",
         "x": [
          0.009993970394134521,
          0.300432950258255
         ],
         "y": [
          0.046004392206668854,
          0.05694599449634552
         ]
        },
        {
         "line": {
          "color": "#299e50",
          "width": 0.5
         },
         "mode": "lines",
         "type": "scatter",
         "x": [
          0.009993970394134521,
          0.8842065334320068
         ],
         "y": [
          0.046004392206668854,
          0.39567869901657104
         ]
        },
        {
         "line": {
          "color": "#299e50",
          "width": 0.5
         },
         "mode": "lines",
         "type": "scatter",
         "x": [
          0.6090369820594788,
          0.21546520292758942
         ],
         "y": [
          0.31522735953330994,
          0.5886916518211365
         ]
        },
        {
         "line": {
          "color": "#299e50",
          "width": 0.5
         },
         "mode": "lines",
         "type": "scatter",
         "x": [
          0.6090369820594788,
          0.11911876499652863
         ],
         "y": [
          0.31522735953330994,
          0.7354016304016113
         ]
        },
        {
         "line": {
          "color": "#299e50",
          "width": 0.5
         },
         "mode": "lines",
         "type": "scatter",
         "x": [
          0.33692073822021484,
          0.4664418399333954
         ],
         "y": [
          0.3926558792591095,
          0.7377488613128662
         ]
        },
        {
         "line": {
          "color": "#299e50",
          "width": 0.5
         },
         "mode": "lines",
         "type": "scatter",
         "x": [
          0.33692073822021484,
          0.06067084148526192
         ],
         "y": [
          0.3926558792591095,
          0.526569128036499
         ]
        },
        {
         "line": {
          "color": "#299e50",
          "width": 0.5
         },
         "mode": "lines",
         "type": "scatter",
         "x": [
          0.6756320595741272,
          0.7226113080978394
         ],
         "y": [
          0.7507753968238831,
          0.7032362222671509
         ]
        },
        {
         "line": {
          "color": "#299e50",
          "width": 0.5
         },
         "mode": "lines",
         "type": "scatter",
         "x": [
          0.7862184047698975,
          0.7230603694915771
         ],
         "y": [
          0.007827553898096085,
          0.9832504391670227
         ]
        },
        {
         "line": {
          "color": "#299e50",
          "width": 0.5
         },
         "mode": "lines",
         "type": "scatter",
         "x": [
          0.7862184047698975,
          0.22615087032318115
         ],
         "y": [
          0.007827553898096085,
          0.21601340174674988
         ]
        },
        {
         "line": {
          "color": "#299e50",
          "width": 0.5
         },
         "mode": "lines",
         "type": "scatter",
         "x": [
          0.9660898447036743,
          0.5235260128974915
         ],
         "y": [
          0.5598728060722351,
          0.4669438302516937
         ]
        },
        {
         "line": {
          "color": "#299e50",
          "width": 0.5
         },
         "mode": "lines",
         "type": "scatter",
         "x": [
          0.4760971665382385,
          0.44581204652786255
         ],
         "y": [
          0.41740134358406067,
          0.3875442445278168
         ]
        },
        {
         "line": {
          "color": "#299e50",
          "width": 0.5
         },
         "mode": "lines",
         "type": "scatter",
         "x": [
          0.4760971665382385,
          0.9634285569190979
         ],
         "y": [
          0.41740134358406067,
          0.7564778327941895
         ]
        },
        {
         "line": {
          "color": "#299e50",
          "width": 0.5
         },
         "mode": "lines",
         "type": "scatter",
         "x": [
          0.8083268404006958,
          0.7705209851264954
         ],
         "y": [
          0.20300839841365814,
          0.8238486051559448
         ]
        },
        {
         "line": {
          "color": "#299e50",
          "width": 0.5
         },
         "mode": "lines",
         "type": "scatter",
         "x": [
          0.5298361778259277,
          0.022838640958070755
         ],
         "y": [
          0.813056230545044,
          0.8254153728485107
         ]
        },
        {
         "line": {
          "color": "#299e50",
          "width": 0.5
         },
         "mode": "lines",
         "type": "scatter",
         "x": [
          0.42902931571006775,
          0.1685430109500885
         ],
         "y": [
          0.6225030422210693,
          0.6868182420730591
         ]
        },
        {
         "line": {
          "color": "#299e50",
          "width": 0.5
         },
         "mode": "lines",
         "type": "scatter",
         "x": [
          0.42902931571006775,
          0.021144559606909752
         ],
         "y": [
          0.6225030422210693,
          0.006372575648128986
         ]
        },
        {
         "line": {
          "color": "#299e50",
          "width": 0.5
         },
         "mode": "lines",
         "type": "scatter",
         "x": [
          0.4269859492778778,
          0.0655314028263092
         ],
         "y": [
          0.9165792465209961,
          0.22383680939674377
         ]
        },
        {
         "line": {
          "color": "#299e50",
          "width": 0.5
         },
         "mode": "lines",
         "type": "scatter",
         "x": [
          0.42856118083000183,
          0.7073186039924622
         ],
         "y": [
          0.9394456744194031,
          0.6039894819259644
         ]
        },
        {
         "line": {
          "color": "#299e50",
          "width": 0.5
         },
         "mode": "lines",
         "type": "scatter",
         "x": [
          0.46535176038742065,
          0.6217292547225952
         ],
         "y": [
          0.49339163303375244,
          0.8132899403572083
         ]
        },
        {
         "line": {
          "color": "#299e50",
          "width": 0.5
         },
         "mode": "lines",
         "type": "scatter",
         "x": [
          0.8681973814964294,
          0.9712615609169006
         ],
         "y": [
          0.9012260437011719,
          0.47432541847229004
         ]
        },
        {
         "line": {
          "color": "#299e50",
          "width": 0.5
         },
         "mode": "lines",
         "type": "scatter",
         "x": [
          0.8681973814964294,
          0.3003765344619751
         ],
         "y": [
          0.9012260437011719,
          0.5754393339157104
         ]
        },
        {
         "line": {
          "color": "#299e50",
          "width": 0.5
         },
         "mode": "lines",
         "type": "scatter",
         "x": [
          0.9048545956611633,
          0.10043438524007797
         ],
         "y": [
          0.12441635131835938,
          0.5451368689537048
         ]
        },
        {
         "line": {
          "color": "#299e50",
          "width": 0.5
         },
         "mode": "lines",
         "type": "scatter",
         "x": [
          0.02191220410168171,
          0.11892399936914444
         ],
         "y": [
          0.9501380920410156,
          0.3045666217803955
         ]
        },
        {
         "line": {
          "color": "#ff0000",
          "width": 0.5
         },
         "mode": "lines",
         "type": "scatter",
         "x": [
          0.390489399433136,
          0.688102662563324
         ],
         "y": [
          0.6408081650733948,
          0.9888705611228943
         ]
        },
        {
         "line": {
          "color": "#299e50",
          "width": 0.5
         },
         "mode": "lines",
         "type": "scatter",
         "x": [
          0.009226803667843342,
          0.885564386844635
         ],
         "y": [
          0.7768961787223816,
          0.7476477026939392
         ]
        },
        {
         "line": {
          "color": "#299e50",
          "width": 0.5
         },
         "mode": "lines",
         "type": "scatter",
         "x": [
          0.6061996221542358,
          0.341365247964859
         ],
         "y": [
          0.9138821959495544,
          0.2564842104911804
         ]
        },
        {
         "line": {
          "color": "#299e50",
          "width": 0.5
         },
         "mode": "lines",
         "type": "scatter",
         "x": [
          0.6061996221542358,
          0.45035481452941895
         ],
         "y": [
          0.9138821959495544,
          0.6283848881721497
         ]
        },
        {
         "line": {
          "color": "#299e50",
          "width": 0.5
         },
         "mode": "lines",
         "type": "scatter",
         "x": [
          0.7423739433288574,
          0.2755652666091919
         ],
         "y": [
          0.8278796672821045,
          0.522325873374939
         ]
        },
        {
         "line": {
          "color": "#299e50",
          "width": 0.5
         },
         "mode": "lines",
         "type": "scatter",
         "x": [
          0.7423739433288574,
          0.5484136343002319
         ],
         "y": [
          0.8278796672821045,
          0.07323763519525528
         ]
        },
        {
         "line": {
          "color": "#299e50",
          "width": 0.5
         },
         "mode": "lines",
         "type": "scatter",
         "x": [
          0.22615087032318115,
          0.6066524386405945
         ],
         "y": [
          0.21601340174674988,
          0.6471844911575317
         ]
        },
        {
         "line": {
          "color": "#299e50",
          "width": 0.5
         },
         "mode": "lines",
         "type": "scatter",
         "x": [
          0.7230603694915771,
          0.9007706046104431
         ],
         "y": [
          0.9832504391670227,
          0.6463307738304138
         ]
        },
        {
         "line": {
          "color": "#299e50",
          "width": 0.5
         },
         "mode": "lines",
         "type": "scatter",
         "x": [
          0.2618087828159332,
          0.10637816041707993
         ],
         "y": [
          0.3548019230365753,
          0.9513376355171204
         ]
        },
        {
         "line": {
          "color": "#299e50",
          "width": 0.5
         },
         "mode": "lines",
         "type": "scatter",
         "x": [
          0.2618087828159332,
          0.8693476319313049
         ],
         "y": [
          0.3548019230365753,
          0.5856478810310364
         ]
        },
        {
         "line": {
          "color": "#299e50",
          "width": 0.5
         },
         "mode": "lines",
         "type": "scatter",
         "x": [
          0.2618087828159332,
          0.829862117767334
         ],
         "y": [
          0.3548019230365753,
          0.6627938747406006
         ]
        },
        {
         "line": {
          "color": "#299e50",
          "width": 0.5
         },
         "mode": "lines",
         "type": "scatter",
         "x": [
          0.2618087828159332,
          0.09539978951215744
         ],
         "y": [
          0.3548019230365753,
          0.24526157975196838
         ]
        },
        {
         "line": {
          "color": "#299e50",
          "width": 0.5
         },
         "mode": "lines",
         "type": "scatter",
         "x": [
          0.44723379611968994,
          0.5308294892311096
         ],
         "y": [
          0.6446231007575989,
          0.9711049795150757
         ]
        },
        {
         "line": {
          "color": "#299e50",
          "width": 0.5
         },
         "mode": "lines",
         "type": "scatter",
         "x": [
          0.44723379611968994,
          0.3017019033432007
         ],
         "y": [
          0.6446231007575989,
          0.6329956650733948
         ]
        },
        {
         "line": {
          "color": "#299e50",
          "width": 0.5
         },
         "mode": "lines",
         "type": "scatter",
         "x": [
          0.21432127058506012,
          0.10426601767539978
         ],
         "y": [
          0.3018950819969177,
          0.7312099933624268
         ]
        },
        {
         "line": {
          "color": "#299e50",
          "width": 0.5
         },
         "mode": "lines",
         "type": "scatter",
         "x": [
          0.605262041091919,
          0.9285814166069031
         ],
         "y": [
          0.4270661473274231,
          0.27048566937446594
         ]
        },
        {
         "line": {
          "color": "#299e50",
          "width": 0.5
         },
         "mode": "lines",
         "type": "scatter",
         "x": [
          0.972025454044342,
          0.6913593411445618
         ],
         "y": [
          0.5740498900413513,
          0.18200741708278656
         ]
        },
        {
         "line": {
          "color": "#299e50",
          "width": 0.5
         },
         "mode": "lines",
         "type": "scatter",
         "x": [
          0.5691252946853638,
          0.15271185338497162
         ],
         "y": [
          0.1434451788663864,
          0.3480551540851593
         ]
        },
        {
         "line": {
          "color": "#299e50",
          "width": 0.5
         },
         "mode": "lines",
         "type": "scatter",
         "x": [
          0.5691252946853638,
          0.5975174307823181
         ],
         "y": [
          0.1434451788663864,
          0.09037003666162491
         ]
        },
        {
         "line": {
          "color": "#299e50",
          "width": 0.5
         },
         "mode": "lines",
         "type": "scatter",
         "x": [
          0.9680742025375366,
          0.06176556646823883
         ],
         "y": [
          0.13620410859584808,
          0.061845120042562485
         ]
        },
        {
         "line": {
          "color": "#299e50",
          "width": 0.5
         },
         "mode": "lines",
         "type": "scatter",
         "x": [
          0.9680742025375366,
          0.5148799419403076
         ],
         "y": [
          0.13620410859584808,
          0.9227717518806458
         ]
        },
        {
         "line": {
          "color": "#299e50",
          "width": 0.5
         },
         "mode": "lines",
         "type": "scatter",
         "x": [
          0.196201354265213,
          0.19793002307415009
         ],
         "y": [
          0.2516557574272156,
          0.3683583438396454
         ]
        },
        {
         "line": {
          "color": "#299e50",
          "width": 0.5
         },
         "mode": "lines",
         "type": "scatter",
         "x": [
          0.196201354265213,
          0.36851564049720764
         ],
         "y": [
          0.2516557574272156,
          0.7743782997131348
         ]
        },
        {
         "line": {
          "color": "#299e50",
          "width": 0.5
         },
         "mode": "lines",
         "type": "scatter",
         "x": [
          0.30542072653770447,
          0.027757376432418823
         ],
         "y": [
          0.5409678816795349,
          0.16432254016399384
         ]
        },
        {
         "line": {
          "color": "#299e50",
          "width": 0.5
         },
         "mode": "lines",
         "type": "scatter",
         "x": [
          0.30542072653770447,
          0.48725903034210205
         ],
         "y": [
          0.5409678816795349,
          0.768164873123169
         ]
        },
        {
         "line": {
          "color": "#299e50",
          "width": 0.5
         },
         "mode": "lines",
         "type": "scatter",
         "x": [
          0.18082880973815918,
          0.8870524764060974
         ],
         "y": [
          0.1451893448829651,
          0.4800007939338684
         ]
        },
        {
         "line": {
          "color": "#299e50",
          "width": 0.5
         },
         "mode": "lines",
         "type": "scatter",
         "x": [
          0.18082880973815918,
          0.982602596282959
         ],
         "y": [
          0.1451893448829651,
          0.2772316634654999
         ]
        },
        {
         "line": {
          "color": "#299e50",
          "width": 0.5
         },
         "mode": "lines",
         "type": "scatter",
         "x": [
          0.2701418995857239,
          0.804520845413208
         ],
         "y": [
          0.13052211701869965,
          0.926283597946167
         ]
        },
        {
         "line": {
          "color": "#299e50",
          "width": 0.5
         },
         "mode": "lines",
         "type": "scatter",
         "x": [
          0.6038833260536194,
          0.9285814166069031
         ],
         "y": [
          0.5438730120658875,
          0.27048566937446594
         ]
        },
        {
         "line": {
          "color": "#299e50",
          "width": 0.5
         },
         "mode": "lines",
         "type": "scatter",
         "x": [
          0.15255799889564514,
          0.7578432559967041
         ],
         "y": [
          0.5592805743217468,
          0.9053796529769897
         ]
        },
        {
         "line": {
          "color": "#299e50",
          "width": 0.5
         },
         "mode": "lines",
         "type": "scatter",
         "x": [
          0.15255799889564514,
          0.3052053153514862
         ],
         "y": [
          0.5592805743217468,
          0.5104793906211853
         ]
        },
        {
         "line": {
          "color": "#299e50",
          "width": 0.5
         },
         "mode": "lines",
         "type": "scatter",
         "x": [
          0.4989359974861145,
          0.44581204652786255
         ],
         "y": [
          0.25375866889953613,
          0.3875442445278168
         ]
        },
        {
         "line": {
          "color": "#299e50",
          "width": 0.5
         },
         "mode": "lines",
         "type": "scatter",
         "x": [
          0.4989359974861145,
          0.08735064417123795
         ],
         "y": [
          0.25375866889953613,
          0.9197586178779602
         ]
        },
        {
         "line": {
          "color": "#299e50",
          "width": 0.5
         },
         "mode": "lines",
         "type": "scatter",
         "x": [
          0.6802449226379395,
          0.469279021024704
         ],
         "y": [
          0.9905504584312439,
          0.9261056184768677
         ]
        },
        {
         "line": {
          "color": "#299e50",
          "width": 0.5
         },
         "mode": "lines",
         "type": "scatter",
         "x": [
          0.8020312190055847,
          0.735462486743927
         ],
         "y": [
          0.8995245099067688,
          0.3955037593841553
         ]
        },
        {
         "line": {
          "color": "#299e50",
          "width": 0.5
         },
         "mode": "lines",
         "type": "scatter",
         "x": [
          0.8020312190055847,
          0.996374785900116
         ],
         "y": [
          0.8995245099067688,
          0.6876592636108398
         ]
        },
        {
         "line": {
          "color": "#299e50",
          "width": 0.5
         },
         "mode": "lines",
         "type": "scatter",
         "x": [
          0.08735064417123795,
          0.23510296642780304
         ],
         "y": [
          0.9197586178779602,
          0.1484983265399933
         ]
        },
        {
         "line": {
          "color": "#299e50",
          "width": 0.5
         },
         "mode": "lines",
         "type": "scatter",
         "x": [
          0.08735064417123795,
          0.5497855544090271
         ],
         "y": [
          0.9197586178779602,
          0.5213611125946045
         ]
        },
        {
         "line": {
          "color": "#299e50",
          "width": 0.5
         },
         "mode": "lines",
         "type": "scatter",
         "x": [
          0.08735064417123795,
          0.10498128086328506
         ],
         "y": [
          0.9197586178779602,
          0.10805436223745346
         ]
        },
        {
         "line": {
          "color": "#299e50",
          "width": 0.5
         },
         "mode": "lines",
         "type": "scatter",
         "x": [
          0.08735064417123795,
          0.9388561844825745
         ],
         "y": [
          0.9197586178779602,
          0.143884539604187
         ]
        },
        {
         "line": {
          "color": "#299e50",
          "width": 0.5
         },
         "mode": "lines",
         "type": "scatter",
         "x": [
          0.08735064417123795,
          0.24824443459510803
         ],
         "y": [
          0.9197586178779602,
          0.5281815528869629
         ]
        },
        {
         "line": {
          "color": "#299e50",
          "width": 0.5
         },
         "mode": "lines",
         "type": "scatter",
         "x": [
          0.11893855035305023,
          0.44581204652786255
         ],
         "y": [
          0.9081544876098633,
          0.3875442445278168
         ]
        },
        {
         "line": {
          "color": "#299e50",
          "width": 0.5
         },
         "mode": "lines",
         "type": "scatter",
         "x": [
          0.74254310131073,
          0.8605000972747803
         ],
         "y": [
          0.9174681901931763,
          0.4711788594722748
         ]
        },
        {
         "line": {
          "color": "#299e50",
          "width": 0.5
         },
         "mode": "lines",
         "type": "scatter",
         "x": [
          0.5423852205276489,
          0.44581204652786255
         ],
         "y": [
          0.627467691898346,
          0.3875442445278168
         ]
        },
        {
         "line": {
          "color": "#299e50",
          "width": 0.5
         },
         "mode": "lines",
         "type": "scatter",
         "x": [
          0.5492821335792542,
          0.4934210479259491
         ],
         "y": [
          0.265880286693573,
          0.8303664922714233
         ]
        },
        {
         "line": {
          "color": "#299e50",
          "width": 0.5
         },
         "mode": "lines",
         "type": "scatter",
         "x": [
          0.5492821335792542,
          0.8322969079017639
         ],
         "y": [
          0.265880286693573,
          0.6574407815933228
         ]
        },
        {
         "line": {
          "color": "#299e50",
          "width": 0.5
         },
         "mode": "lines",
         "type": "scatter",
         "x": [
          0.5492821335792542,
          0.9091476202011108
         ],
         "y": [
          0.265880286693573,
          0.8771250247955322
         ]
        },
        {
         "line": {
          "color": "#299e50",
          "width": 0.5
         },
         "mode": "lines",
         "type": "scatter",
         "x": [
          0.7865979075431824,
          0.8967828750610352
         ],
         "y": [
          0.3577098250389099,
          0.19446781277656555
         ]
        },
        {
         "line": {
          "color": "#299e50",
          "width": 0.5
         },
         "mode": "lines",
         "type": "scatter",
         "x": [
          0.7865979075431824,
          0.639008104801178
         ],
         "y": [
          0.3577098250389099,
          0.4415610730648041
         ]
        },
        {
         "line": {
          "color": "#299e50",
          "width": 0.5
         },
         "mode": "lines",
         "type": "scatter",
         "x": [
          0.33015188574790955,
          0.3941476047039032
         ],
         "y": [
          0.8419636487960815,
          0.23021776974201202
         ]
        },
        {
         "line": {
          "color": "#000000",
          "width": 0.5
         },
         "mode": "lines",
         "type": "scatter",
         "x": [
          0.33015188574790955,
          0.5497855544090271
         ],
         "y": [
          0.8419636487960815,
          0.5213611125946045
         ]
        },
        {
         "line": {
          "color": "#299e50",
          "width": 0.5
         },
         "mode": "lines",
         "type": "scatter",
         "x": [
          0.44248539209365845,
          0.1598396748304367
         ],
         "y": [
          0.9572936296463013,
          0.33818915486335754
         ]
        },
        {
         "line": {
          "color": "#299e50",
          "width": 0.5
         },
         "mode": "lines",
         "type": "scatter",
         "x": [
          0.44248539209365845,
          0.0636991411447525
         ],
         "y": [
          0.9572936296463013,
          0.2846999168395996
         ]
        },
        {
         "line": {
          "color": "#299e50",
          "width": 0.5
         },
         "mode": "lines",
         "type": "scatter",
         "x": [
          0.12662582099437714,
          0.017455562949180603
         ],
         "y": [
          0.9279562830924988,
          0.23236465454101562
         ]
        },
        {
         "line": {
          "color": "#ff0000",
          "width": 0.5
         },
         "mode": "lines",
         "type": "scatter",
         "x": [
          0.8152745366096497,
          0.688102662563324
         ],
         "y": [
          0.996525764465332,
          0.9888705611228943
         ]
        },
        {
         "line": {
          "color": "#ff0000",
          "width": 0.5
         },
         "mode": "lines",
         "type": "scatter",
         "x": [
          0.45234304666519165,
          0.688102662563324
         ],
         "y": [
          0.30710840225219727,
          0.9888705611228943
         ]
        },
        {
         "line": {
          "color": "#299e50",
          "width": 0.5
         },
         "mode": "lines",
         "type": "scatter",
         "x": [
          0.7705209851264954,
          0.7705209851264954
         ],
         "y": [
          0.8238486051559448,
          0.8238486051559448
         ]
        },
        {
         "line": {
          "color": "#299e50",
          "width": 0.5
         },
         "mode": "lines",
         "type": "scatter",
         "x": [
          0.7705209851264954,
          0.35430580377578735
         ],
         "y": [
          0.8238486051559448,
          0.0780104547739029
         ]
        },
        {
         "line": {
          "color": "#299e50",
          "width": 0.5
         },
         "mode": "lines",
         "type": "scatter",
         "x": [
          0.7705209851264954,
          0.9857444167137146
         ],
         "y": [
          0.8238486051559448,
          0.14830780029296875
         ]
        },
        {
         "line": {
          "color": "#299e50",
          "width": 0.5
         },
         "mode": "lines",
         "type": "scatter",
         "x": [
          0.7705209851264954,
          0.03677849471569061
         ],
         "y": [
          0.8238486051559448,
          0.9936811327934265
         ]
        },
        {
         "line": {
          "color": "#299e50",
          "width": 0.5
         },
         "mode": "lines",
         "type": "scatter",
         "x": [
          0.7705209851264954,
          0.9386250376701355
         ],
         "y": [
          0.8238486051559448,
          0.9574994444847107
         ]
        },
        {
         "line": {
          "color": "#299e50",
          "width": 0.5
         },
         "mode": "lines",
         "type": "scatter",
         "x": [
          0.7705209851264954,
          0.3649803102016449
         ],
         "y": [
          0.8238486051559448,
          0.5065537691116333
         ]
        },
        {
         "line": {
          "color": "#299e50",
          "width": 0.5
         },
         "mode": "lines",
         "type": "scatter",
         "x": [
          0.7705209851264954,
          0.833222508430481
         ],
         "y": [
          0.8238486051559448,
          0.45207250118255615
         ]
        },
        {
         "line": {
          "color": "#299e50",
          "width": 0.5
         },
         "mode": "lines",
         "type": "scatter",
         "x": [
          0.7705209851264954,
          0.697255551815033
         ],
         "y": [
          0.8238486051559448,
          0.19377996027469635
         ]
        },
        {
         "line": {
          "color": "#299e50",
          "width": 0.5
         },
         "mode": "lines",
         "type": "scatter",
         "x": [
          0.7705209851264954,
          0.12689250707626343
         ],
         "y": [
          0.8238486051559448,
          0.6319238543510437
         ]
        },
        {
         "line": {
          "color": "#ff0000",
          "width": 0.5
         },
         "mode": "lines",
         "type": "scatter",
         "x": [
          0.7705209851264954,
          0.535808265209198
         ],
         "y": [
          0.8238486051559448,
          0.5404314398765564
         ]
        },
        {
         "line": {
          "color": "#299e50",
          "width": 0.5
         },
         "mode": "lines",
         "type": "scatter",
         "x": [
          0.7705209851264954,
          0.6409347653388977
         ],
         "y": [
          0.8238486051559448,
          0.9073978662490845
         ]
        },
        {
         "line": {
          "color": "#299e50",
          "width": 0.5
         },
         "mode": "lines",
         "type": "scatter",
         "x": [
          0.7705209851264954,
          0.469279021024704
         ],
         "y": [
          0.8238486051559448,
          0.9261056184768677
         ]
        },
        {
         "line": {
          "color": "#299e50",
          "width": 0.5
         },
         "mode": "lines",
         "type": "scatter",
         "x": [
          0.7705209851264954,
          0.6557417511940002
         ],
         "y": [
          0.8238486051559448,
          0.8023435473442078
         ]
        },
        {
         "line": {
          "color": "#299e50",
          "width": 0.5
         },
         "mode": "lines",
         "type": "scatter",
         "x": [
          0.7705209851264954,
          0.9210480451583862
         ],
         "y": [
          0.8238486051559448,
          0.681963324546814
         ]
        },
        {
         "line": {
          "color": "#299e50",
          "width": 0.5
         },
         "mode": "lines",
         "type": "scatter",
         "x": [
          0.7705209851264954,
          0.10335071384906769
         ],
         "y": [
          0.8238486051559448,
          0.04228007048368454
         ]
        },
        {
         "line": {
          "color": "#299e50",
          "width": 0.5
         },
         "mode": "lines",
         "type": "scatter",
         "x": [
          0.7705209851264954,
          0.6767264008522034
         ],
         "y": [
          0.8238486051559448,
          0.2380141317844391
         ]
        },
        {
         "line": {
          "color": "#299e50",
          "width": 0.5
         },
         "mode": "lines",
         "type": "scatter",
         "x": [
          0.7705209851264954,
          0.5834895968437195
         ],
         "y": [
          0.8238486051559448,
          0.38666635751724243
         ]
        },
        {
         "line": {
          "color": "#299e50",
          "width": 0.5
         },
         "mode": "lines",
         "type": "scatter",
         "x": [
          0.7705209851264954,
          0.3893873691558838
         ],
         "y": [
          0.8238486051559448,
          0.3591020703315735
         ]
        },
        {
         "line": {
          "color": "#299e50",
          "width": 0.5
         },
         "mode": "lines",
         "type": "scatter",
         "x": [
          0.7705209851264954,
          0.05769263580441475
         ],
         "y": [
          0.8238486051559448,
          0.009985142387449741
         ]
        },
        {
         "line": {
          "color": "#299e50",
          "width": 0.5
         },
         "mode": "lines",
         "type": "scatter",
         "x": [
          0.7705209851264954,
          0.6821926236152649
         ],
         "y": [
          0.8238486051559448,
          0.6740603446960449
         ]
        },
        {
         "line": {
          "color": "#299e50",
          "width": 0.5
         },
         "mode": "lines",
         "type": "scatter",
         "x": [
          0.7705209851264954,
          0.4086643159389496
         ],
         "y": [
          0.8238486051559448,
          0.3621261417865753
         ]
        },
        {
         "line": {
          "color": "#299e50",
          "width": 0.5
         },
         "mode": "lines",
         "type": "scatter",
         "x": [
          0.7705209851264954,
          0.6537362933158875
         ],
         "y": [
          0.8238486051559448,
          0.08872393518686295
         ]
        },
        {
         "line": {
          "color": "#299e50",
          "width": 0.5
         },
         "mode": "lines",
         "type": "scatter",
         "x": [
          0.7705209851264954,
          0.7154220938682556
         ],
         "y": [
          0.8238486051559448,
          0.40188392996788025
         ]
        },
        {
         "line": {
          "color": "#299e50",
          "width": 0.5
         },
         "mode": "lines",
         "type": "scatter",
         "x": [
          0.7705209851264954,
          0.7115772366523743
         ],
         "y": [
          0.8238486051559448,
          0.8292791843414307
         ]
        },
        {
         "line": {
          "color": "#299e50",
          "width": 0.5
         },
         "mode": "lines",
         "type": "scatter",
         "x": [
          0.7705209851264954,
          0.18265576660633087
         ],
         "y": [
          0.8238486051559448,
          0.4460257291793823
         ]
        },
        {
         "line": {
          "color": "#299e50",
          "width": 0.5
         },
         "mode": "lines",
         "type": "scatter",
         "x": [
          0.7705209851264954,
          0.760776162147522
         ],
         "y": [
          0.8238486051559448,
          0.4072771966457367
         ]
        },
        {
         "line": {
          "color": "#299e50",
          "width": 0.5
         },
         "mode": "lines",
         "type": "scatter",
         "x": [
          0.7705209851264954,
          0.542614221572876
         ],
         "y": [
          0.8238486051559448,
          0.25801339745521545
         ]
        },
        {
         "line": {
          "color": "#299e50",
          "width": 0.5
         },
         "mode": "lines",
         "type": "scatter",
         "x": [
          0.7705209851264954,
          0.8605000972747803
         ],
         "y": [
          0.8238486051559448,
          0.4711788594722748
         ]
        },
        {
         "line": {
          "color": "#299e50",
          "width": 0.5
         },
         "mode": "lines",
         "type": "scatter",
         "x": [
          0.5974354147911072,
          0.7489044666290283
         ],
         "y": [
          0.5150576233863831,
          0.2710351049900055
         ]
        },
        {
         "line": {
          "color": "#299e50",
          "width": 0.5
         },
         "mode": "lines",
         "type": "scatter",
         "x": [
          0.017463261261582375,
          0.5527187585830688
         ],
         "y": [
          0.6128932237625122,
          0.09454482793807983
         ]
        },
        {
         "line": {
          "color": "#299e50",
          "width": 0.5
         },
         "mode": "lines",
         "type": "scatter",
         "x": [
          0.017463261261582375,
          0.7578432559967041
         ],
         "y": [
          0.6128932237625122,
          0.9053796529769897
         ]
        },
        {
         "line": {
          "color": "#299e50",
          "width": 0.5
         },
         "mode": "lines",
         "type": "scatter",
         "x": [
          0.5271554589271545,
          0.46177294850349426
         ],
         "y": [
          0.3626784682273865,
          0.9223251342773438
         ]
        },
        {
         "line": {
          "color": "#299e50",
          "width": 0.5
         },
         "mode": "lines",
         "type": "scatter",
         "x": [
          0.10637816041707993,
          0.6994906067848206
         ],
         "y": [
          0.9513376355171204,
          0.5704512000083923
         ]
        },
        {
         "line": {
          "color": "#ff0000",
          "width": 0.5
         },
         "mode": "lines",
         "type": "scatter",
         "x": [
          0.9898263812065125,
          0.688102662563324
         ],
         "y": [
          0.9276485443115234,
          0.9888705611228943
         ]
        },
        {
         "line": {
          "color": "#299e50",
          "width": 0.5
         },
         "mode": "lines",
         "type": "scatter",
         "x": [
          0.9950982332229614,
          0.8527994751930237
         ],
         "y": [
          0.2590755820274353,
          0.7079917192459106
         ]
        },
        {
         "line": {
          "color": "#299e50",
          "width": 0.5
         },
         "mode": "lines",
         "type": "scatter",
         "x": [
          0.8835618495941162,
          0.44391897320747375
         ],
         "y": [
          0.4174003601074219,
          0.6921108961105347
         ]
        },
        {
         "line": {
          "color": "#299e50",
          "width": 0.5
         },
         "mode": "lines",
         "type": "scatter",
         "x": [
          0.8835618495941162,
          0.6668270826339722
         ],
         "y": [
          0.4174003601074219,
          0.6397733092308044
         ]
        },
        {
         "line": {
          "color": "#299e50",
          "width": 0.5
         },
         "mode": "lines",
         "type": "scatter",
         "x": [
          0.8835618495941162,
          0.9388024210929871
         ],
         "y": [
          0.4174003601074219,
          0.9138306379318237
         ]
        },
        {
         "line": {
          "color": "#299e50",
          "width": 0.5
         },
         "mode": "lines",
         "type": "scatter",
         "x": [
          0.5282618403434753,
          0.06273538619279861
         ],
         "y": [
          0.6983479857444763,
          0.8368616700172424
         ]
        },
        {
         "line": {
          "color": "#299e50",
          "width": 0.5
         },
         "mode": "lines",
         "type": "scatter",
         "x": [
          0.7834973335266113,
          0.4817191958427429
         ],
         "y": [
          0.37673723697662354,
          0.4346274137496948
         ]
        },
        {
         "line": {
          "color": "#299e50",
          "width": 0.5
         },
         "mode": "lines",
         "type": "scatter",
         "x": [
          0.8601850271224976,
          0.22227875888347626
         ],
         "y": [
          0.3932510316371918,
          0.6245322227478027
         ]
        },
        {
         "line": {
          "color": "#299e50",
          "width": 0.5
         },
         "mode": "lines",
         "type": "scatter",
         "x": [
          0.23510296642780304,
          0.18265576660633087
         ],
         "y": [
          0.1484983265399933,
          0.4460257291793823
         ]
        },
        {
         "line": {
          "color": "#299e50",
          "width": 0.5
         },
         "mode": "lines",
         "type": "scatter",
         "x": [
          0.30018725991249084,
          0.44581204652786255
         ],
         "y": [
          0.6766389012336731,
          0.3875442445278168
         ]
        },
        {
         "line": {
          "color": "#299e50",
          "width": 0.5
         },
         "mode": "lines",
         "type": "scatter",
         "x": [
          0.30018725991249084,
          0.017455562949180603
         ],
         "y": [
          0.6766389012336731,
          0.23236465454101562
         ]
        },
        {
         "line": {
          "color": "#299e50",
          "width": 0.5
         },
         "mode": "lines",
         "type": "scatter",
         "x": [
          0.9857444167137146,
          0.271624892950058
         ],
         "y": [
          0.14830780029296875,
          0.8262171149253845
         ]
        },
        {
         "line": {
          "color": "#299e50",
          "width": 0.5
         },
         "mode": "lines",
         "type": "scatter",
         "x": [
          0.6236091256141663,
          0.9191186428070068
         ],
         "y": [
          0.8615037798881531,
          0.512662947177887
         ]
        },
        {
         "line": {
          "color": "#299e50",
          "width": 0.5
         },
         "mode": "lines",
         "type": "scatter",
         "x": [
          0.6236091256141663,
          0.24143804609775543
         ],
         "y": [
          0.8615037798881531,
          0.2966683506965637
         ]
        },
        {
         "line": {
          "color": "#299e50",
          "width": 0.5
         },
         "mode": "lines",
         "type": "scatter",
         "x": [
          0.6236091256141663,
          0.8478296995162964
         ],
         "y": [
          0.8615037798881531,
          0.6940177083015442
         ]
        },
        {
         "line": {
          "color": "#299e50",
          "width": 0.5
         },
         "mode": "lines",
         "type": "scatter",
         "x": [
          0.2803668975830078,
          0.29225754737854004
         ],
         "y": [
          0.14655300974845886,
          0.024440947920084
         ]
        },
        {
         "line": {
          "color": "#299e50",
          "width": 0.5
         },
         "mode": "lines",
         "type": "scatter",
         "x": [
          0.7522110939025879,
          0.27893760800361633
         ],
         "y": [
          0.8591594696044922,
          0.5562653541564941
         ]
        },
        {
         "line": {
          "color": "#299e50",
          "width": 0.5
         },
         "mode": "lines",
         "type": "scatter",
         "x": [
          0.22075678408145905,
          0.07909104228019714
         ],
         "y": [
          0.17086640000343323,
          0.8827905654907227
         ]
        },
        {
         "line": {
          "color": "#000000",
          "width": 0.5
         },
         "mode": "lines",
         "type": "scatter",
         "x": [
          0.22075678408145905,
          0.7110656499862671
         ],
         "y": [
          0.17086640000343323,
          0.4716659486293793
         ]
        },
        {
         "line": {
          "color": "#299e50",
          "width": 0.5
         },
         "mode": "lines",
         "type": "scatter",
         "x": [
          0.8822914958000183,
          0.7810391783714294
         ],
         "y": [
          0.16419294476509094,
          0.5053501129150391
         ]
        },
        {
         "line": {
          "color": "#299e50",
          "width": 0.5
         },
         "mode": "lines",
         "type": "scatter",
         "x": [
          0.8822914958000183,
          0.7039849162101746
         ],
         "y": [
          0.16419294476509094,
          0.23027314245700836
         ]
        },
        {
         "line": {
          "color": "#299e50",
          "width": 0.5
         },
         "mode": "lines",
         "type": "scatter",
         "x": [
          0.40528005361557007,
          0.6040866374969482
         ],
         "y": [
          0.17564617097377777,
          0.6708864569664001
         ]
        },
        {
         "line": {
          "color": "#299e50",
          "width": 0.5
         },
         "mode": "lines",
         "type": "scatter",
         "x": [
          0.6513875126838684,
          0.542614221572876
         ],
         "y": [
          0.33489829301834106,
          0.25801339745521545
         ]
        },
        {
         "line": {
          "color": "#299e50",
          "width": 0.5
         },
         "mode": "lines",
         "type": "scatter",
         "x": [
          0.6513875126838684,
          0.29351702332496643
         ],
         "y": [
          0.33489829301834106,
          0.8590925931930542
         ]
        },
        {
         "line": {
          "color": "#ff0000",
          "width": 0.5
         },
         "mode": "lines",
         "type": "scatter",
         "x": [
          0.51434725522995,
          0.688102662563324
         ],
         "y": [
          0.6089898347854614,
          0.9888705611228943
         ]
        },
        {
         "line": {
          "color": "#ff0000",
          "width": 0.5
         },
         "mode": "lines",
         "type": "scatter",
         "x": [
          0.13373184204101562,
          0.688102662563324
         ],
         "y": [
          0.3345170021057129,
          0.9888705611228943
         ]
        },
        {
         "line": {
          "color": "#299e50",
          "width": 0.5
         },
         "mode": "lines",
         "type": "scatter",
         "x": [
          0.13373184204101562,
          0.6855807900428772
         ],
         "y": [
          0.3345170021057129,
          0.1390732377767563
         ]
        },
        {
         "line": {
          "color": "#299e50",
          "width": 0.5
         },
         "mode": "lines",
         "type": "scatter",
         "x": [
          0.25499722361564636,
          0.9036331176757812
         ],
         "y": [
          0.4588009715080261,
          0.7973167300224304
         ]
        },
        {
         "line": {
          "color": "#000000",
          "width": 0.5
         },
         "mode": "lines",
         "type": "scatter",
         "x": [
          0.25499722361564636,
          0.9115270972251892
         ],
         "y": [
          0.4588009715080261,
          0.012569285929203033
         ]
        },
        {
         "line": {
          "color": "#299e50",
          "width": 0.5
         },
         "mode": "lines",
         "type": "scatter",
         "x": [
          0.00428256718441844,
          0.2985154986381531
         ],
         "y": [
          0.36922237277030945,
          0.0464739128947258
         ]
        },
        {
         "line": {
          "color": "#299e50",
          "width": 0.5
         },
         "mode": "lines",
         "type": "scatter",
         "x": [
          0.300432950258255,
          0.0067802234552800655
         ],
         "y": [
          0.05694599449634552,
          0.3221316635608673
         ]
        },
        {
         "line": {
          "color": "#299e50",
          "width": 0.5
         },
         "mode": "lines",
         "type": "scatter",
         "x": [
          0.26659414172172546,
          0.44581204652786255
         ],
         "y": [
          0.08045075088739395,
          0.3875442445278168
         ]
        },
        {
         "line": {
          "color": "#299e50",
          "width": 0.5
         },
         "mode": "lines",
         "type": "scatter",
         "x": [
          0.26659414172172546,
          0.14117096364498138
         ],
         "y": [
          0.08045075088739395,
          0.5059604644775391
         ]
        },
        {
         "line": {
          "color": "#299e50",
          "width": 0.5
         },
         "mode": "lines",
         "type": "scatter",
         "x": [
          0.6992025971412659,
          0.24796701967716217
         ],
         "y": [
          0.04651474952697754,
          0.04639594629406929
         ]
        },
        {
         "line": {
          "color": "#299e50",
          "width": 0.5
         },
         "mode": "lines",
         "type": "scatter",
         "x": [
          0.9714610576629639,
          0.8605000972747803
         ],
         "y": [
          0.6378162503242493,
          0.4711788594722748
         ]
        },
        {
         "line": {
          "color": "#299e50",
          "width": 0.5
         },
         "mode": "lines",
         "type": "scatter",
         "x": [
          0.1627233773469925,
          0.6212901473045349
         ],
         "y": [
          0.7866907715797424,
          0.35683366656303406
         ]
        },
        {
         "line": {
          "color": "#ff0000",
          "width": 0.5
         },
         "mode": "lines",
         "type": "scatter",
         "x": [
          0.21532906591892242,
          0.688102662563324
         ],
         "y": [
          0.8172560334205627,
          0.9888705611228943
         ]
        },
        {
         "line": {
          "color": "#299e50",
          "width": 0.5
         },
         "mode": "lines",
         "type": "scatter",
         "x": [
          0.21532906591892242,
          0.7489044666290283
         ],
         "y": [
          0.8172560334205627,
          0.2710351049900055
         ]
        },
        {
         "line": {
          "color": "#299e50",
          "width": 0.5
         },
         "mode": "lines",
         "type": "scatter",
         "x": [
          0.2116537243127823,
          0.8150458335876465
         ],
         "y": [
          0.6790946125984192,
          0.776185154914856
         ]
        },
        {
         "line": {
          "color": "#299e50",
          "width": 0.5
         },
         "mode": "lines",
         "type": "scatter",
         "x": [
          0.2116537243127823,
          0.341365247964859
         ],
         "y": [
          0.6790946125984192,
          0.2564842104911804
         ]
        },
        {
         "line": {
          "color": "#299e50",
          "width": 0.5
         },
         "mode": "lines",
         "type": "scatter",
         "x": [
          0.22327515482902527,
          0.639008104801178
         ],
         "y": [
          0.4437815248966217,
          0.4415610730648041
         ]
        },
        {
         "line": {
          "color": "#299e50",
          "width": 0.5
         },
         "mode": "lines",
         "type": "scatter",
         "x": [
          0.3649803102016449,
          0.12536704540252686
         ],
         "y": [
          0.5065537691116333,
          0.4786054491996765
         ]
        },
        {
         "line": {
          "color": "#299e50",
          "width": 0.5
         },
         "mode": "lines",
         "type": "scatter",
         "x": [
          0.3076225519180298,
          0.07286672294139862
         ],
         "y": [
          0.22935745120048523,
          0.5709065794944763
         ]
        },
        {
         "line": {
          "color": "#299e50",
          "width": 0.5
         },
         "mode": "lines",
         "type": "scatter",
         "x": [
          0.833222508430481,
          0.5451078414916992
         ],
         "y": [
          0.45207250118255615,
          0.07023841142654419
         ]
        },
        {
         "line": {
          "color": "#299e50",
          "width": 0.5
         },
         "mode": "lines",
         "type": "scatter",
         "x": [
          0.19172675907611847,
          0.4003163278102875
         ],
         "y": [
          0.8325971364974976,
          0.06983596831560135
         ]
        },
        {
         "line": {
          "color": "#299e50",
          "width": 0.5
         },
         "mode": "lines",
         "type": "scatter",
         "x": [
          0.19172675907611847,
          0.9645763635635376
         ],
         "y": [
          0.8325971364974976,
          0.9115824103355408
         ]
        },
        {
         "line": {
          "color": "#299e50",
          "width": 0.5
         },
         "mode": "lines",
         "type": "scatter",
         "x": [
          0.8069401979446411,
          0.43473055958747864
         ],
         "y": [
          0.008803833276033401,
          0.4713374972343445
         ]
        },
        {
         "line": {
          "color": "#299e50",
          "width": 0.5
         },
         "mode": "lines",
         "type": "scatter",
         "x": [
          0.7437469959259033,
          0.469279021024704
         ],
         "y": [
          0.21863572299480438,
          0.9261056184768677
         ]
        },
        {
         "line": {
          "color": "#299e50",
          "width": 0.5
         },
         "mode": "lines",
         "type": "scatter",
         "x": [
          0.4935830533504486,
          0.686886191368103
         ],
         "y": [
          0.43483656644821167,
          0.6341197490692139
         ]
        },
        {
         "line": {
          "color": "#299e50",
          "width": 0.5
         },
         "mode": "lines",
         "type": "scatter",
         "x": [
          0.4935830533504486,
          0.49498245120048523
         ],
         "y": [
          0.43483656644821167,
          0.7301805019378662
         ]
        },
        {
         "line": {
          "color": "#299e50",
          "width": 0.5
         },
         "mode": "lines",
         "type": "scatter",
         "x": [
          0.44581204652786255,
          0.1782466471195221
         ],
         "y": [
          0.3875442445278168,
          0.11279375851154327
         ]
        },
        {
         "line": {
          "color": "#299e50",
          "width": 0.5
         },
         "mode": "lines",
         "type": "scatter",
         "x": [
          0.44581204652786255,
          0.09249965846538544
         ],
         "y": [
          0.3875442445278168,
          0.8860867023468018
         ]
        },
        {
         "line": {
          "color": "#299e50",
          "width": 0.5
         },
         "mode": "lines",
         "type": "scatter",
         "x": [
          0.44581204652786255,
          0.3421109616756439
         ],
         "y": [
          0.3875442445278168,
          0.7583768367767334
         ]
        },
        {
         "line": {
          "color": "#299e50",
          "width": 0.5
         },
         "mode": "lines",
         "type": "scatter",
         "x": [
          0.44581204652786255,
          0.21547065675258636
         ],
         "y": [
          0.3875442445278168,
          0.4138983190059662
         ]
        },
        {
         "line": {
          "color": "#299e50",
          "width": 0.5
         },
         "mode": "lines",
         "type": "scatter",
         "x": [
          0.44581204652786255,
          0.43728259205818176
         ],
         "y": [
          0.3875442445278168,
          0.4425699710845947
         ]
        },
        {
         "line": {
          "color": "#299e50",
          "width": 0.5
         },
         "mode": "lines",
         "type": "scatter",
         "x": [
          0.44581204652786255,
          0.4817191958427429
         ],
         "y": [
          0.3875442445278168,
          0.4346274137496948
         ]
        },
        {
         "line": {
          "color": "#299e50",
          "width": 0.5
         },
         "mode": "lines",
         "type": "scatter",
         "x": [
          0.44581204652786255,
          0.6615166664123535
         ],
         "y": [
          0.3875442445278168,
          0.7841885089874268
         ]
        },
        {
         "line": {
          "color": "#299e50",
          "width": 0.5
         },
         "mode": "lines",
         "type": "scatter",
         "x": [
          0.44581204652786255,
          0.5014097094535828
         ],
         "y": [
          0.3875442445278168,
          0.9196719527244568
         ]
        },
        {
         "line": {
          "color": "#299e50",
          "width": 0.5
         },
         "mode": "lines",
         "type": "scatter",
         "x": [
          0.44581204652786255,
          0.7758944034576416
         ],
         "y": [
          0.3875442445278168,
          0.9645553827285767
         ]
        },
        {
         "line": {
          "color": "#299e50",
          "width": 0.5
         },
         "mode": "lines",
         "type": "scatter",
         "x": [
          0.44581204652786255,
          0.7869778871536255
         ],
         "y": [
          0.3875442445278168,
          0.5028001666069031
         ]
        },
        {
         "line": {
          "color": "#299e50",
          "width": 0.5
         },
         "mode": "lines",
         "type": "scatter",
         "x": [
          0.44581204652786255,
          0.5578300952911377
         ],
         "y": [
          0.3875442445278168,
          0.7320091128349304
         ]
        },
        {
         "line": {
          "color": "#299e50",
          "width": 0.5
         },
         "mode": "lines",
         "type": "scatter",
         "x": [
          0.44581204652786255,
          0.19793002307415009
         ],
         "y": [
          0.3875442445278168,
          0.3683583438396454
         ]
        },
        {
         "line": {
          "color": "#299e50",
          "width": 0.5
         },
         "mode": "lines",
         "type": "scatter",
         "x": [
          0.44581204652786255,
          0.6554207801818848
         ],
         "y": [
          0.3875442445278168,
          0.8547717332839966
         ]
        },
        {
         "line": {
          "color": "#299e50",
          "width": 0.5
         },
         "mode": "lines",
         "type": "scatter",
         "x": [
          0.44581204652786255,
          0.028155341744422913
         ],
         "y": [
          0.3875442445278168,
          0.2353859543800354
         ]
        },
        {
         "line": {
          "color": "#299e50",
          "width": 0.5
         },
         "mode": "lines",
         "type": "scatter",
         "x": [
          0.44581204652786255,
          0.742338240146637
         ],
         "y": [
          0.3875442445278168,
          0.54859459400177
         ]
        },
        {
         "line": {
          "color": "#299e50",
          "width": 0.5
         },
         "mode": "lines",
         "type": "scatter",
         "x": [
          0.44581204652786255,
          0.3229692876338959
         ],
         "y": [
          0.3875442445278168,
          0.7871139049530029
         ]
        },
        {
         "line": {
          "color": "#299e50",
          "width": 0.5
         },
         "mode": "lines",
         "type": "scatter",
         "x": [
          0.44581204652786255,
          0.022867528721690178
         ],
         "y": [
          0.3875442445278168,
          0.23341600596904755
         ]
        },
        {
         "line": {
          "color": "#299e50",
          "width": 0.5
         },
         "mode": "lines",
         "type": "scatter",
         "x": [
          0.44581204652786255,
          0.4934210479259491
         ],
         "y": [
          0.3875442445278168,
          0.8303664922714233
         ]
        },
        {
         "line": {
          "color": "#299e50",
          "width": 0.5
         },
         "mode": "lines",
         "type": "scatter",
         "x": [
          0.44581204652786255,
          0.5294198393821716
         ],
         "y": [
          0.3875442445278168,
          0.4090898633003235
         ]
        },
        {
         "line": {
          "color": "#299e50",
          "width": 0.5
         },
         "mode": "lines",
         "type": "scatter",
         "x": [
          0.44581204652786255,
          0.10498128086328506
         ],
         "y": [
          0.3875442445278168,
          0.10805436223745346
         ]
        },
        {
         "line": {
          "color": "#299e50",
          "width": 0.5
         },
         "mode": "lines",
         "type": "scatter",
         "x": [
          0.44581204652786255,
          0.542349100112915
         ],
         "y": [
          0.3875442445278168,
          0.18998554348945618
         ]
        },
        {
         "line": {
          "color": "#299e50",
          "width": 0.5
         },
         "mode": "lines",
         "type": "scatter",
         "x": [
          0.44581204652786255,
          0.7068064212799072
         ],
         "y": [
          0.3875442445278168,
          0.5578750967979431
         ]
        },
        {
         "line": {
          "color": "#299e50",
          "width": 0.5
         },
         "mode": "lines",
         "type": "scatter",
         "x": [
          0.44581204652786255,
          0.717514157295227
         ],
         "y": [
          0.3875442445278168,
          0.4500488042831421
         ]
        },
        {
         "line": {
          "color": "#299e50",
          "width": 0.5
         },
         "mode": "lines",
         "type": "scatter",
         "x": [
          0.44581204652786255,
          0.2792825996875763
         ],
         "y": [
          0.3875442445278168,
          0.23198719322681427
         ]
        },
        {
         "line": {
          "color": "#299e50",
          "width": 0.5
         },
         "mode": "lines",
         "type": "scatter",
         "x": [
          0.44581204652786255,
          0.027757376432418823
         ],
         "y": [
          0.3875442445278168,
          0.16432254016399384
         ]
        },
        {
         "line": {
          "color": "#299e50",
          "width": 0.5
         },
         "mode": "lines",
         "type": "scatter",
         "x": [
          0.44581204652786255,
          0.08988834172487259
         ],
         "y": [
          0.3875442445278168,
          0.4485476315021515
         ]
        },
        {
         "line": {
          "color": "#299e50",
          "width": 0.5
         },
         "mode": "lines",
         "type": "scatter",
         "x": [
          0.44581204652786255,
          0.20174062252044678
         ],
         "y": [
          0.3875442445278168,
          0.4676843583583832
         ]
        },
        {
         "line": {
          "color": "#299e50",
          "width": 0.5
         },
         "mode": "lines",
         "type": "scatter",
         "x": [
          0.44581204652786255,
          0.7446613907814026
         ],
         "y": [
          0.3875442445278168,
          0.3356136381626129
         ]
        },
        {
         "line": {
          "color": "#299e50",
          "width": 0.5
         },
         "mode": "lines",
         "type": "scatter",
         "x": [
          0.44581204652786255,
          0.4437842071056366
         ],
         "y": [
          0.3875442445278168,
          0.743512749671936
         ]
        },
        {
         "line": {
          "color": "#299e50",
          "width": 0.5
         },
         "mode": "lines",
         "type": "scatter",
         "x": [
          0.44581204652786255,
          0.9115270972251892
         ],
         "y": [
          0.3875442445278168,
          0.012569285929203033
         ]
        },
        {
         "line": {
          "color": "#299e50",
          "width": 0.5
         },
         "mode": "lines",
         "type": "scatter",
         "x": [
          0.44581204652786255,
          0.8358270525932312
         ],
         "y": [
          0.3875442445278168,
          0.39250123500823975
         ]
        },
        {
         "line": {
          "color": "#299e50",
          "width": 0.5
         },
         "mode": "lines",
         "type": "scatter",
         "x": [
          0.44581204652786255,
          0.6426719427108765
         ],
         "y": [
          0.3875442445278168,
          0.8290209770202637
         ]
        },
        {
         "line": {
          "color": "#299e50",
          "width": 0.5
         },
         "mode": "lines",
         "type": "scatter",
         "x": [
          0.44581204652786255,
          0.6476385593414307
         ],
         "y": [
          0.3875442445278168,
          0.35855090618133545
         ]
        },
        {
         "line": {
          "color": "#299e50",
          "width": 0.5
         },
         "mode": "lines",
         "type": "scatter",
         "x": [
          0.44581204652786255,
          0.6552994251251221
         ],
         "y": [
          0.3875442445278168,
          0.2802817225456238
         ]
        },
        {
         "line": {
          "color": "#299e50",
          "width": 0.5
         },
         "mode": "lines",
         "type": "scatter",
         "x": [
          0.44581204652786255,
          0.4213424623012543
         ],
         "y": [
          0.3875442445278168,
          0.5676946640014648
         ]
        },
        {
         "line": {
          "color": "#299e50",
          "width": 0.5
         },
         "mode": "lines",
         "type": "scatter",
         "x": [
          0.1367407739162445,
          0.746809184551239
         ],
         "y": [
          0.0881347507238388,
          0.4227779507637024
         ]
        },
        {
         "line": {
          "color": "#299e50",
          "width": 0.5
         },
         "mode": "lines",
         "type": "scatter",
         "x": [
          0.46805837750434875,
          0.6077024936676025
         ],
         "y": [
          0.6002578735351562,
          0.025941068306565285
         ]
        },
        {
         "line": {
          "color": "#299e50",
          "width": 0.5
         },
         "mode": "lines",
         "type": "scatter",
         "x": [
          0.042348384857177734,
          0.7179872989654541
         ],
         "y": [
          0.5137543082237244,
          0.2603873014450073
         ]
        },
        {
         "line": {
          "color": "#299e50",
          "width": 0.5
         },
         "mode": "lines",
         "type": "scatter",
         "x": [
          0.2416342794895172,
          0.6963537931442261
         ],
         "y": [
          0.24467335641384125,
          0.01662231981754303
         ]
        },
        {
         "line": {
          "color": "#299e50",
          "width": 0.5
         },
         "mode": "lines",
         "type": "scatter",
         "x": [
          0.273470401763916,
          0.8423578143119812
         ],
         "y": [
          0.2914603054523468,
          0.7606645226478577
         ]
        },
        {
         "line": {
          "color": "#299e50",
          "width": 0.5
         },
         "mode": "lines",
         "type": "scatter",
         "x": [
          0.9007706046104431,
          0.48688048124313354
         ],
         "y": [
          0.6463307738304138,
          0.08886551111936569
         ]
        },
        {
         "line": {
          "color": "#299e50",
          "width": 0.5
         },
         "mode": "lines",
         "type": "scatter",
         "x": [
          0.27054616808891296,
          0.9492083787918091
         ],
         "y": [
          0.04672786965966225,
          0.5123252868652344
         ]
        },
        {
         "line": {
          "color": "#ff0000",
          "width": 0.5
         },
         "mode": "lines",
         "type": "scatter",
         "x": [
          0.2504049837589264,
          0.688102662563324
         ],
         "y": [
          0.3620513081550598,
          0.9888705611228943
         ]
        },
        {
         "line": {
          "color": "#299e50",
          "width": 0.5
         },
         "mode": "lines",
         "type": "scatter",
         "x": [
          0.2504049837589264,
          0.7832409143447876
         ],
         "y": [
          0.3620513081550598,
          0.9116600155830383
         ]
        },
        {
         "line": {
          "color": "#299e50",
          "width": 0.5
         },
         "mode": "lines",
         "type": "scatter",
         "x": [
          0.27068501710891724,
          0.804632306098938
         ],
         "y": [
          0.5071775317192078,
          0.5733250379562378
         ]
        },
        {
         "line": {
          "color": "#299e50",
          "width": 0.5
         },
         "mode": "lines",
         "type": "scatter",
         "x": [
          0.27068501710891724,
          0.19529449939727783
         ],
         "y": [
          0.5071775317192078,
          0.7851591110229492
         ]
        },
        {
         "line": {
          "color": "#299e50",
          "width": 0.5
         },
         "mode": "lines",
         "type": "scatter",
         "x": [
          0.8942954540252686,
          0.3093782961368561
         ],
         "y": [
          0.10928799211978912,
          0.5310360193252563
         ]
        },
        {
         "line": {
          "color": "#299e50",
          "width": 0.5
         },
         "mode": "lines",
         "type": "scatter",
         "x": [
          0.9645763635635376,
          0.912513256072998
         ],
         "y": [
          0.9115824103355408,
          0.3906978368759155
         ]
        },
        {
         "line": {
          "color": "#299e50",
          "width": 0.5
         },
         "mode": "lines",
         "type": "scatter",
         "x": [
          0.11912716925144196,
          0.6583549976348877
         ],
         "y": [
          0.7902355790138245,
          0.1626376360654831
         ]
        },
        {
         "line": {
          "color": "#299e50",
          "width": 0.5
         },
         "mode": "lines",
         "type": "scatter",
         "x": [
          0.5061992406845093,
          0.04237682744860649
         ],
         "y": [
          0.37315547466278076,
          0.29004383087158203
         ]
        },
        {
         "line": {
          "color": "#299e50",
          "width": 0.5
         },
         "mode": "lines",
         "type": "scatter",
         "x": [
          0.5061992406845093,
          0.5499528646469116
         ],
         "y": [
          0.37315547466278076,
          0.7187548279762268
         ]
        },
        {
         "line": {
          "color": "#299e50",
          "width": 0.5
         },
         "mode": "lines",
         "type": "scatter",
         "x": [
          0.46177294850349426,
          0.14694912731647491
         ],
         "y": [
          0.9223251342773438,
          0.5987687110900879
         ]
        },
        {
         "line": {
          "color": "#ff0000",
          "width": 0.5
         },
         "mode": "lines",
         "type": "scatter",
         "x": [
          0.6177396178245544,
          0.688102662563324
         ],
         "y": [
          0.3884545862674713,
          0.9888705611228943
         ]
        },
        {
         "line": {
          "color": "#299e50",
          "width": 0.5
         },
         "mode": "lines",
         "type": "scatter",
         "x": [
          0.6177396178245544,
          0.0655314028263092
         ],
         "y": [
          0.3884545862674713,
          0.22383680939674377
         ]
        },
        {
         "line": {
          "color": "#299e50",
          "width": 0.5
         },
         "mode": "lines",
         "type": "scatter",
         "x": [
          0.33287522196769714,
          0.7438006401062012
         ],
         "y": [
          0.25145813822746277,
          0.9262742400169373
         ]
        },
        {
         "line": {
          "color": "#299e50",
          "width": 0.5
         },
         "mode": "lines",
         "type": "scatter",
         "x": [
          0.33287522196769714,
          0.19236387312412262
         ],
         "y": [
          0.25145813822746277,
          0.9435545206069946
         ]
        },
        {
         "line": {
          "color": "#299e50",
          "width": 0.5
         },
         "mode": "lines",
         "type": "scatter",
         "x": [
          0.2706001400947571,
          0.7314897179603577
         ],
         "y": [
          0.17366823554039001,
          0.9280707836151123
         ]
        },
        {
         "line": {
          "color": "#299e50",
          "width": 0.5
         },
         "mode": "lines",
         "type": "scatter",
         "x": [
          0.6855807900428772,
          0.6613908410072327
         ],
         "y": [
          0.1390732377767563,
          0.09975838661193848
         ]
        },
        {
         "line": {
          "color": "#299e50",
          "width": 0.5
         },
         "mode": "lines",
         "type": "scatter",
         "x": [
          0.3240806758403778,
          0.7873848080635071
         ],
         "y": [
          0.6970539093017578,
          0.40987640619277954
         ]
        },
        {
         "line": {
          "color": "#299e50",
          "width": 0.5
         },
         "mode": "lines",
         "type": "scatter",
         "x": [
          0.3240806758403778,
          0.5439746975898743
         ],
         "y": [
          0.6970539093017578,
          0.6988767981529236
         ]
        },
        {
         "line": {
          "color": "#299e50",
          "width": 0.5
         },
         "mode": "lines",
         "type": "scatter",
         "x": [
          0.9239086508750916,
          0.9035263657569885
         ],
         "y": [
          0.16225780546665192,
          0.019613487645983696
         ]
        },
        {
         "line": {
          "color": "#299e50",
          "width": 0.5
         },
         "mode": "lines",
         "type": "scatter",
         "x": [
          0.10043438524007797,
          0.5792702436447144
         ],
         "y": [
          0.5451368689537048,
          0.3818216621875763
         ]
        },
        {
         "line": {
          "color": "#299e50",
          "width": 0.5
         },
         "mode": "lines",
         "type": "scatter",
         "x": [
          0.517087459564209,
          0.6421829462051392
         ],
         "y": [
          0.08943101018667221,
          0.32489386200904846
         ]
        },
        {
         "line": {
          "color": "#299e50",
          "width": 0.5
         },
         "mode": "lines",
         "type": "scatter",
         "x": [
          0.517087459564209,
          0.9714114665985107
         ],
         "y": [
          0.08943101018667221,
          0.4791736900806427
         ]
        },
        {
         "line": {
          "color": "#299e50",
          "width": 0.5
         },
         "mode": "lines",
         "type": "scatter",
         "x": [
          0.517087459564209,
          0.039353903383016586
         ],
         "y": [
          0.08943101018667221,
          0.029802024364471436
         ]
        },
        {
         "line": {
          "color": "#299e50",
          "width": 0.5
         },
         "mode": "lines",
         "type": "scatter",
         "x": [
          0.517087459564209,
          0.22522594034671783
         ],
         "y": [
          0.08943101018667221,
          0.6610667109489441
         ]
        },
        {
         "line": {
          "color": "#299e50",
          "width": 0.5
         },
         "mode": "lines",
         "type": "scatter",
         "x": [
          0.9857867360115051,
          0.5851160287857056
         ],
         "y": [
          0.7658610343933105,
          0.6091163158416748
         ]
        },
        {
         "line": {
          "color": "#299e50",
          "width": 0.5
         },
         "mode": "lines",
         "type": "scatter",
         "x": [
          0.660733699798584,
          0.19236387312412262
         ],
         "y": [
          0.2578464150428772,
          0.9435545206069946
         ]
        },
        {
         "line": {
          "color": "#299e50",
          "width": 0.5
         },
         "mode": "lines",
         "type": "scatter",
         "x": [
          0.660733699798584,
          0.9812551736831665
         ],
         "y": [
          0.2578464150428772,
          0.4375913739204407
         ]
        },
        {
         "line": {
          "color": "#299e50",
          "width": 0.5
         },
         "mode": "lines",
         "type": "scatter",
         "x": [
          0.039353903383016586,
          0.7039849162101746
         ],
         "y": [
          0.029802024364471436,
          0.23027314245700836
         ]
        },
        {
         "line": {
          "color": "#299e50",
          "width": 0.5
         },
         "mode": "lines",
         "type": "scatter",
         "x": [
          0.9714114665985107,
          0.6283131837844849
         ],
         "y": [
          0.4791736900806427,
          0.43186071515083313
         ]
        },
        {
         "line": {
          "color": "#299e50",
          "width": 0.5
         },
         "mode": "lines",
         "type": "scatter",
         "x": [
          0.8078529834747314,
          0.2641837000846863
         ],
         "y": [
          0.19773748517036438,
          0.7745242714881897
         ]
        },
        {
         "line": {
          "color": "#299e50",
          "width": 0.5
         },
         "mode": "lines",
         "type": "scatter",
         "x": [
          0.8078529834747314,
          0.6931230425834656
         ],
         "y": [
          0.19773748517036438,
          0.8543417453765869
         ]
        },
        {
         "line": {
          "color": "#299e50",
          "width": 0.5
         },
         "mode": "lines",
         "type": "scatter",
         "x": [
          0.7810391783714294,
          0.1598396748304367
         ],
         "y": [
          0.5053501129150391,
          0.33818915486335754
         ]
        },
        {
         "line": {
          "color": "#299e50",
          "width": 0.5
         },
         "mode": "lines",
         "type": "scatter",
         "x": [
          0.5828037858009338,
          0.2993301749229431
         ],
         "y": [
          0.2813105881214142,
          0.12383632361888885
         ]
        },
        {
         "line": {
          "color": "#299e50",
          "width": 0.5
         },
         "mode": "lines",
         "type": "scatter",
         "x": [
          0.6362404227256775,
          0.11400165408849716
         ],
         "y": [
          0.2567344307899475,
          0.45799964666366577
         ]
        },
        {
         "line": {
          "color": "#299e50",
          "width": 0.5
         },
         "mode": "lines",
         "type": "scatter",
         "x": [
          0.18124784529209137,
          0.8996476531028748
         ],
         "y": [
          0.8309138417243958,
          0.8879117965698242
         ]
        },
        {
         "line": {
          "color": "#299e50",
          "width": 0.5
         },
         "mode": "lines",
         "type": "scatter",
         "x": [
          0.8946775794029236,
          0.885564386844635
         ],
         "y": [
          0.6330384016036987,
          0.7476477026939392
         ]
        },
        {
         "line": {
          "color": "#299e50",
          "width": 0.5
         },
         "mode": "lines",
         "type": "scatter",
         "x": [
          0.8946775794029236,
          0.6040866374969482
         ],
         "y": [
          0.6330384016036987,
          0.6708864569664001
         ]
        },
        {
         "line": {
          "color": "#299e50",
          "width": 0.5
         },
         "mode": "lines",
         "type": "scatter",
         "x": [
          0.06067084148526192,
          0.34294766187667847
         ],
         "y": [
          0.526569128036499,
          0.2597651183605194
         ]
        },
        {
         "line": {
          "color": "#299e50",
          "width": 0.5
         },
         "mode": "lines",
         "type": "scatter",
         "x": [
          0.8083047866821289,
          0.5484136343002319
         ],
         "y": [
          0.7144234776496887,
          0.07323763519525528
         ]
        },
        {
         "line": {
          "color": "#299e50",
          "width": 0.5
         },
         "mode": "lines",
         "type": "scatter",
         "x": [
          0.8083047866821289,
          0.8423578143119812
         ],
         "y": [
          0.7144234776496887,
          0.7606645226478577
         ]
        },
        {
         "line": {
          "color": "#299e50",
          "width": 0.5
         },
         "mode": "lines",
         "type": "scatter",
         "x": [
          0.29351702332496643,
          0.564993679523468
         ],
         "y": [
          0.8590925931930542,
          0.43967050313949585
         ]
        },
        {
         "line": {
          "color": "#299e50",
          "width": 0.5
         },
         "mode": "lines",
         "type": "scatter",
         "x": [
          0.003788951551541686,
          0.8176313638687134
         ],
         "y": [
          0.819857120513916,
          0.8166991472244263
         ]
        },
        {
         "line": {
          "color": "#299e50",
          "width": 0.5
         },
         "mode": "lines",
         "type": "scatter",
         "x": [
          0.030361799523234367,
          0.11400165408849716
         ],
         "y": [
          0.284953773021698,
          0.45799964666366577
         ]
        },
        {
         "line": {
          "color": "#299e50",
          "width": 0.5
         },
         "mode": "lines",
         "type": "scatter",
         "x": [
          0.35828298330307007,
          0.21354442834854126
         ],
         "y": [
          0.6651905179023743,
          0.4444177448749542
         ]
        },
        {
         "line": {
          "color": "#299e50",
          "width": 0.5
         },
         "mode": "lines",
         "type": "scatter",
         "x": [
          0.6096104383468628,
          0.3093782961368561
         ],
         "y": [
          0.4364262819290161,
          0.5310360193252563
         ]
        },
        {
         "line": {
          "color": "#299e50",
          "width": 0.5
         },
         "mode": "lines",
         "type": "scatter",
         "x": [
          0.6096104383468628,
          0.5436159372329712
         ],
         "y": [
          0.4364262819290161,
          0.8037217259407043
         ]
        },
        {
         "line": {
          "color": "#299e50",
          "width": 0.5
         },
         "mode": "lines",
         "type": "scatter",
         "x": [
          0.9686937928199768,
          0.0636991411447525
         ],
         "y": [
          0.8527503609657288,
          0.2846999168395996
         ]
        },
        {
         "line": {
          "color": "#299e50",
          "width": 0.5
         },
         "mode": "lines",
         "type": "scatter",
         "x": [
          0.9686937928199768,
          0.6421829462051392
         ],
         "y": [
          0.8527503609657288,
          0.32489386200904846
         ]
        },
        {
         "line": {
          "color": "#299e50",
          "width": 0.5
         },
         "mode": "lines",
         "type": "scatter",
         "x": [
          0.514175295829773,
          0.1661851406097412
         ],
         "y": [
          0.2708350718021393,
          0.28520289063453674
         ]
        },
        {
         "line": {
          "color": "#299e50",
          "width": 0.5
         },
         "mode": "lines",
         "type": "scatter",
         "x": [
          0.027157986536622047,
          0.3475211262702942
         ],
         "y": [
          0.5760071277618408,
          0.4190945625305176
         ]
        },
        {
         "line": {
          "color": "#299e50",
          "width": 0.5
         },
         "mode": "lines",
         "type": "scatter",
         "x": [
          0.027157986536622047,
          0.7742741107940674
         ],
         "y": [
          0.5760071277618408,
          0.5690159201622009
         ]
        },
        {
         "line": {
          "color": "#299e50",
          "width": 0.5
         },
         "mode": "lines",
         "type": "scatter",
         "x": [
          0.12689250707626343,
          0.7327216863632202
         ],
         "y": [
          0.6319238543510437,
          0.24746835231781006
         ]
        },
        {
         "line": {
          "color": "#299e50",
          "width": 0.5
         },
         "mode": "lines",
         "type": "scatter",
         "x": [
          0.12689250707626343,
          0.2658243775367737
         ],
         "y": [
          0.6319238543510437,
          0.629175066947937
         ]
        },
        {
         "line": {
          "color": "#299e50",
          "width": 0.5
         },
         "mode": "lines",
         "type": "scatter",
         "x": [
          0.12689250707626343,
          0.7438006401062012
         ],
         "y": [
          0.6319238543510437,
          0.9262742400169373
         ]
        },
        {
         "line": {
          "color": "#299e50",
          "width": 0.5
         },
         "mode": "lines",
         "type": "scatter",
         "x": [
          0.12689250707626343,
          0.5100937485694885
         ],
         "y": [
          0.6319238543510437,
          0.7833890914916992
         ]
        },
        {
         "line": {
          "color": "#299e50",
          "width": 0.5
         },
         "mode": "lines",
         "type": "scatter",
         "x": [
          0.9610236883163452,
          0.11400165408849716
         ],
         "y": [
          0.1805858016014099,
          0.45799964666366577
         ]
        },
        {
         "line": {
          "color": "#299e50",
          "width": 0.5
         },
         "mode": "lines",
         "type": "scatter",
         "x": [
          0.7220880389213562,
          0.5834895968437195
         ],
         "y": [
          0.8100358843803406,
          0.38666635751724243
         ]
        },
        {
         "line": {
          "color": "#299e50",
          "width": 0.5
         },
         "mode": "lines",
         "type": "scatter",
         "x": [
          0.7220880389213562,
          0.0406193807721138
         ],
         "y": [
          0.8100358843803406,
          0.683742105960846
         ]
        },
        {
         "line": {
          "color": "#299e50",
          "width": 0.5
         },
         "mode": "lines",
         "type": "scatter",
         "x": [
          0.6283118724822998,
          0.49249038100242615
         ],
         "y": [
          0.36206263303756714,
          0.9569603800773621
         ]
        },
        {
         "line": {
          "color": "#299e50",
          "width": 0.5
         },
         "mode": "lines",
         "type": "scatter",
         "x": [
          0.7679492235183716,
          0.9035645723342896
         ],
         "y": [
          0.2100306749343872,
          0.46543607115745544
         ]
        },
        {
         "line": {
          "color": "#299e50",
          "width": 0.5
         },
         "mode": "lines",
         "type": "scatter",
         "x": [
          0.21987797319889069,
          0.07454723119735718
         ],
         "y": [
          0.1470804661512375,
          0.34153440594673157
         ]
        },
        {
         "line": {
          "color": "#299e50",
          "width": 0.5
         },
         "mode": "lines",
         "type": "scatter",
         "x": [
          0.21987797319889069,
          0.21546520292758942
         ],
         "y": [
          0.1470804661512375,
          0.5886916518211365
         ]
        },
        {
         "line": {
          "color": "#299e50",
          "width": 0.5
         },
         "mode": "lines",
         "type": "scatter",
         "x": [
          0.27797019481658936,
          0.6583549976348877
         ],
         "y": [
          0.8185561895370483,
          0.1626376360654831
         ]
        },
        {
         "line": {
          "color": "#299e50",
          "width": 0.5
         },
         "mode": "lines",
         "type": "scatter",
         "x": [
          0.18224120140075684,
          0.45035481452941895
         ],
         "y": [
          0.2353748083114624,
          0.6283848881721497
         ]
        },
        {
         "line": {
          "color": "#299e50",
          "width": 0.5
         },
         "mode": "lines",
         "type": "scatter",
         "x": [
          0.6387676000595093,
          0.6665888428688049
         ],
         "y": [
          0.662317156791687,
          0.9237476587295532
         ]
        },
        {
         "line": {
          "color": "#299e50",
          "width": 0.5
         },
         "mode": "lines",
         "type": "scatter",
         "x": [
          0.15759116411209106,
          0.8605000972747803
         ],
         "y": [
          0.1436251401901245,
          0.4711788594722748
         ]
        },
        {
         "line": {
          "color": "#299e50",
          "width": 0.5
         },
         "mode": "lines",
         "type": "scatter",
         "x": [
          0.8049639463424683,
          0.07293117791414261
         ],
         "y": [
          0.2033414989709854,
          0.4793883264064789
         ]
        },
        {
         "line": {
          "color": "#299e50",
          "width": 0.5
         },
         "mode": "lines",
         "type": "scatter",
         "x": [
          0.5369848012924194,
          0.7873848080635071
         ],
         "y": [
          0.40051907300949097,
          0.40987640619277954
         ]
        },
        {
         "line": {
          "color": "#ff0000",
          "width": 0.5
         },
         "mode": "lines",
         "type": "scatter",
         "x": [
          0.025941792875528336,
          0.688102662563324
         ],
         "y": [
          0.6564719080924988,
          0.9888705611228943
         ]
        },
        {
         "line": {
          "color": "#299e50",
          "width": 0.5
         },
         "mode": "lines",
         "type": "scatter",
         "x": [
          0.025941792875528336,
          0.9821622371673584
         ],
         "y": [
          0.6564719080924988,
          0.7435712814331055
         ]
        },
        {
         "line": {
          "color": "#299e50",
          "width": 0.5
         },
         "mode": "lines",
         "type": "scatter",
         "x": [
          0.28914743661880493,
          0.8314588069915771
         ],
         "y": [
          0.8870672583580017,
          0.9181115627288818
         ]
        },
        {
         "line": {
          "color": "#299e50",
          "width": 0.5
         },
         "mode": "lines",
         "type": "scatter",
         "x": [
          0.28914743661880493,
          0.9802181124687195
         ],
         "y": [
          0.8870672583580017,
          0.7965412139892578
         ]
        },
        {
         "line": {
          "color": "#ff0000",
          "width": 0.5
         },
         "mode": "lines",
         "type": "scatter",
         "x": [
          0.15524375438690186,
          0.688102662563324
         ],
         "y": [
          0.06221834570169449,
          0.9888705611228943
         ]
        },
        {
         "line": {
          "color": "#299e50",
          "width": 0.5
         },
         "mode": "lines",
         "type": "scatter",
         "x": [
          0.15524375438690186,
          0.01045279297977686
         ],
         "y": [
          0.06221834570169449,
          0.9925180673599243
         ]
        },
        {
         "line": {
          "color": "#299e50",
          "width": 0.5
         },
         "mode": "lines",
         "type": "scatter",
         "x": [
          0.9634285569190979,
          0.18280622363090515
         ],
         "y": [
          0.7564778327941895,
          0.20643772184848785
         ]
        },
        {
         "line": {
          "color": "#299e50",
          "width": 0.5
         },
         "mode": "lines",
         "type": "scatter",
         "x": [
          0.688102662563324,
          0.2548542022705078
         ],
         "y": [
          0.9888705611228943,
          0.43847450613975525
         ]
        },
        {
         "line": {
          "color": "#ff0000",
          "width": 0.5
         },
         "mode": "lines",
         "type": "scatter",
         "x": [
          0.688102662563324,
          0.19056563079357147
         ],
         "y": [
          0.9888705611228943,
          0.9231480956077576
         ]
        },
        {
         "line": {
          "color": "#ff0000",
          "width": 0.5
         },
         "mode": "lines",
         "type": "scatter",
         "x": [
          0.688102662563324,
          0.48780906200408936
         ],
         "y": [
          0.9888705611228943,
          0.4134295582771301
         ]
        },
        {
         "line": {
          "color": "#ff0000",
          "width": 0.5
         },
         "mode": "lines",
         "type": "scatter",
         "x": [
          0.688102662563324,
          0.6609811782836914
         ],
         "y": [
          0.9888705611228943,
          0.9435147643089294
         ]
        },
        {
         "line": {
          "color": "#ff0000",
          "width": 0.5
         },
         "mode": "lines",
         "type": "scatter",
         "x": [
          0.688102662563324,
          0.2027883529663086
         ],
         "y": [
          0.9888705611228943,
          0.23913969099521637
         ]
        },
        {
         "line": {
          "color": "#ff0000",
          "width": 0.5
         },
         "mode": "lines",
         "type": "scatter",
         "x": [
          0.688102662563324,
          0.9290707111358643
         ],
         "y": [
          0.9888705611228943,
          0.8230574131011963
         ]
        },
        {
         "line": {
          "color": "#ff0000",
          "width": 0.5
         },
         "mode": "lines",
         "type": "scatter",
         "x": [
          0.688102662563324,
          0.9353986382484436
         ],
         "y": [
          0.9888705611228943,
          0.07247896492481232
         ]
        },
        {
         "line": {
          "color": "#ff0000",
          "width": 0.5
         },
         "mode": "lines",
         "type": "scatter",
         "x": [
          0.688102662563324,
          0.26044178009033203
         ],
         "y": [
          0.9888705611228943,
          0.890661358833313
         ]
        },
        {
         "line": {
          "color": "#ff0000",
          "width": 0.5
         },
         "mode": "lines",
         "type": "scatter",
         "x": [
          0.688102662563324,
          0.3069920539855957
         ],
         "y": [
          0.9888705611228943,
          0.7741144299507141
         ]
        },
        {
         "line": {
          "color": "#ff0000",
          "width": 0.5
         },
         "mode": "lines",
         "type": "scatter",
         "x": [
          0.688102662563324,
          0.6033838391304016
         ],
         "y": [
          0.9888705611228943,
          0.5943506360054016
         ]
        },
        {
         "line": {
          "color": "#ff0000",
          "width": 0.5
         },
         "mode": "lines",
         "type": "scatter",
         "x": [
          0.688102662563324,
          0.5527187585830688
         ],
         "y": [
          0.9888705611228943,
          0.09454482793807983
         ]
        },
        {
         "line": {
          "color": "#ff0000",
          "width": 0.5
         },
         "mode": "lines",
         "type": "scatter",
         "x": [
          0.688102662563324,
          0.30603769421577454
         ],
         "y": [
          0.9888705611228943,
          0.15179169178009033
         ]
        },
        {
         "line": {
          "color": "#ff0000",
          "width": 0.5
         },
         "mode": "lines",
         "type": "scatter",
         "x": [
          0.688102662563324,
          0.44391897320747375
         ],
         "y": [
          0.9888705611228943,
          0.6921108961105347
         ]
        },
        {
         "line": {
          "color": "#ff0000",
          "width": 0.5
         },
         "mode": "lines",
         "type": "scatter",
         "x": [
          0.688102662563324,
          0.6676256060600281
         ],
         "y": [
          0.9888705611228943,
          0.10954011231660843
         ]
        },
        {
         "line": {
          "color": "#ff0000",
          "width": 0.5
         },
         "mode": "lines",
         "type": "scatter",
         "x": [
          0.688102662563324,
          0.23927852511405945
         ],
         "y": [
          0.9888705611228943,
          0.2006034553050995
         ]
        },
        {
         "line": {
          "color": "#ff0000",
          "width": 0.5
         },
         "mode": "lines",
         "type": "scatter",
         "x": [
          0.688102662563324,
          0.9569575786590576
         ],
         "y": [
          0.9888705611228943,
          0.4416434168815613
         ]
        },
        {
         "line": {
          "color": "#ff0000",
          "width": 0.5
         },
         "mode": "lines",
         "type": "scatter",
         "x": [
          0.688102662563324,
          0.15271185338497162
         ],
         "y": [
          0.9888705611228943,
          0.3480551540851593
         ]
        },
        {
         "line": {
          "color": "#ff0000",
          "width": 0.5
         },
         "mode": "lines",
         "type": "scatter",
         "x": [
          0.688102662563324,
          0.8527994751930237
         ],
         "y": [
          0.9888705611228943,
          0.7079917192459106
         ]
        },
        {
         "line": {
          "color": "#ff0000",
          "width": 0.5
         },
         "mode": "lines",
         "type": "scatter",
         "x": [
          0.688102662563324,
          0.2641837000846863
         ],
         "y": [
          0.9888705611228943,
          0.7745242714881897
         ]
        },
        {
         "line": {
          "color": "#ff0000",
          "width": 0.5
         },
         "mode": "lines",
         "type": "scatter",
         "x": [
          0.688102662563324,
          0.41125744581222534
         ],
         "y": [
          0.9888705611228943,
          0.7925571203231812
         ]
        },
        {
         "line": {
          "color": "#ff0000",
          "width": 0.5
         },
         "mode": "lines",
         "type": "scatter",
         "x": [
          0.688102662563324,
          0.5696626901626587
         ],
         "y": [
          0.9888705611228943,
          0.1722274124622345
         ]
        },
        {
         "line": {
          "color": "#ff0000",
          "width": 0.5
         },
         "mode": "lines",
         "type": "scatter",
         "x": [
          0.688102662563324,
          0.6304723620414734
         ],
         "y": [
          0.9888705611228943,
          0.8672799468040466
         ]
        },
        {
         "line": {
          "color": "#ff0000",
          "width": 0.5
         },
         "mode": "lines",
         "type": "scatter",
         "x": [
          0.688102662563324,
          0.6855834126472473
         ],
         "y": [
          0.9888705611228943,
          0.840462863445282
         ]
        },
        {
         "line": {
          "color": "#ff0000",
          "width": 0.5
         },
         "mode": "lines",
         "type": "scatter",
         "x": [
          0.688102662563324,
          0.9895837903022766
         ],
         "y": [
          0.9888705611228943,
          0.2675274908542633
         ]
        },
        {
         "line": {
          "color": "#ff0000",
          "width": 0.5
         },
         "mode": "lines",
         "type": "scatter",
         "x": [
          0.688102662563324,
          0.9992673397064209
         ],
         "y": [
          0.9888705611228943,
          0.2909756302833557
         ]
        },
        {
         "line": {
          "color": "#ff0000",
          "width": 0.5
         },
         "mode": "lines",
         "type": "scatter",
         "x": [
          0.688102662563324,
          0.09712449461221695
         ],
         "y": [
          0.9888705611228943,
          0.3538587689399719
         ]
        },
        {
         "line": {
          "color": "#ff0000",
          "width": 0.5
         },
         "mode": "lines",
         "type": "scatter",
         "x": [
          0.688102662563324,
          0.8478296995162964
         ],
         "y": [
          0.9888705611228943,
          0.6940177083015442
         ]
        },
        {
         "line": {
          "color": "#ff0000",
          "width": 0.5
         },
         "mode": "lines",
         "type": "scatter",
         "x": [
          0.688102662563324,
          0.9019935131072998
         ],
         "y": [
          0.9888705611228943,
          0.6267592906951904
         ]
        },
        {
         "line": {
          "color": "#ff0000",
          "width": 0.5
         },
         "mode": "lines",
         "type": "scatter",
         "x": [
          0.688102662563324,
          0.7747628688812256
         ],
         "y": [
          0.9888705611228943,
          0.8493409752845764
         ]
        },
        {
         "line": {
          "color": "#ff0000",
          "width": 0.5
         },
         "mode": "lines",
         "type": "scatter",
         "x": [
          0.688102662563324,
          0.6332467794418335
         ],
         "y": [
          0.9888705611228943,
          0.8872196674346924
         ]
        },
        {
         "line": {
          "color": "#ff0000",
          "width": 0.5
         },
         "mode": "lines",
         "type": "scatter",
         "x": [
          0.688102662563324,
          0.4213493764400482
         ],
         "y": [
          0.9888705611228943,
          0.30406883358955383
         ]
        },
        {
         "line": {
          "color": "#ff0000",
          "width": 0.5
         },
         "mode": "lines",
         "type": "scatter",
         "x": [
          0.688102662563324,
          0.20914453268051147
         ],
         "y": [
          0.9888705611228943,
          0.6443696022033691
         ]
        },
        {
         "line": {
          "color": "#ff0000",
          "width": 0.5
         },
         "mode": "lines",
         "type": "scatter",
         "x": [
          0.688102662563324,
          0.9020664095878601
         ],
         "y": [
          0.9888705611228943,
          0.9990075826644897
         ]
        },
        {
         "line": {
          "color": "#ff0000",
          "width": 0.5
         },
         "mode": "lines",
         "type": "scatter",
         "x": [
          0.688102662563324,
          0.673102617263794
         ],
         "y": [
          0.9888705611228943,
          0.5729731917381287
         ]
        },
        {
         "line": {
          "color": "#ff0000",
          "width": 0.5
         },
         "mode": "lines",
         "type": "scatter",
         "x": [
          0.688102662563324,
          0.4180437922477722
         ],
         "y": [
          0.9888705611228943,
          0.5096951723098755
         ]
        },
        {
         "line": {
          "color": "#ff0000",
          "width": 0.5
         },
         "mode": "lines",
         "type": "scatter",
         "x": [
          0.688102662563324,
          0.5480067133903503
         ],
         "y": [
          0.9888705611228943,
          0.9136435985565186
         ]
        },
        {
         "line": {
          "color": "#ff0000",
          "width": 0.5
         },
         "mode": "lines",
         "type": "scatter",
         "x": [
          0.688102662563324,
          0.6886407136917114
         ],
         "y": [
          0.9888705611228943,
          0.6049558520317078
         ]
        },
        {
         "line": {
          "color": "#ff0000",
          "width": 0.5
         },
         "mode": "lines",
         "type": "scatter",
         "x": [
          0.688102662563324,
          0.3708462417125702
         ],
         "y": [
          0.9888705611228943,
          0.19386571645736694
         ]
        },
        {
         "line": {
          "color": "#ff0000",
          "width": 0.5
         },
         "mode": "lines",
         "type": "scatter",
         "x": [
          0.688102662563324,
          0.5909917950630188
         ],
         "y": [
          0.9888705611228943,
          0.8862307071685791
         ]
        },
        {
         "line": {
          "color": "#ff0000",
          "width": 0.5
         },
         "mode": "lines",
         "type": "scatter",
         "x": [
          0.688102662563324,
          0.9923645853996277
         ],
         "y": [
          0.9888705611228943,
          0.6319944858551025
         ]
        },
        {
         "line": {
          "color": "#ff0000",
          "width": 0.5
         },
         "mode": "lines",
         "type": "scatter",
         "x": [
          0.688102662563324,
          0.9104712009429932
         ],
         "y": [
          0.9888705611228943,
          0.3901548981666565
         ]
        },
        {
         "line": {
          "color": "#ff0000",
          "width": 0.5
         },
         "mode": "lines",
         "type": "scatter",
         "x": [
          0.688102662563324,
          0.3131215274333954
         ],
         "y": [
          0.9888705611228943,
          0.5513376593589783
         ]
        },
        {
         "line": {
          "color": "#ff0000",
          "width": 0.5
         },
         "mode": "lines",
         "type": "scatter",
         "x": [
          0.688102662563324,
          0.49069541692733765
         ],
         "y": [
          0.9888705611228943,
          0.5232279896736145
         ]
        },
        {
         "line": {
          "color": "#ff0000",
          "width": 0.5
         },
         "mode": "lines",
         "type": "scatter",
         "x": [
          0.688102662563324,
          0.6359803080558777
         ],
         "y": [
          0.9888705611228943,
          0.9657894372940063
         ]
        },
        {
         "line": {
          "color": "#299e50",
          "width": 0.5
         },
         "mode": "lines",
         "type": "scatter",
         "x": [
          0.7325194478034973,
          0.4180437922477722
         ],
         "y": [
          0.8703819513320923,
          0.5096951723098755
         ]
        },
        {
         "line": {
          "color": "#299e50",
          "width": 0.5
         },
         "mode": "lines",
         "type": "scatter",
         "x": [
          0.19056563079357147,
          0.13358886539936066
         ],
         "y": [
          0.9231480956077576,
          0.6980350017547607
         ]
        },
        {
         "line": {
          "color": "#299e50",
          "width": 0.5
         },
         "mode": "lines",
         "type": "scatter",
         "x": [
          0.2404921054840088,
          0.3444572389125824
         ],
         "y": [
          0.47534024715423584,
          0.5256918668746948
         ]
        },
        {
         "line": {
          "color": "#299e50",
          "width": 0.5
         },
         "mode": "lines",
         "type": "scatter",
         "x": [
          0.2404921054840088,
          0.5128595232963562
         ],
         "y": [
          0.47534024715423584,
          0.6059209704399109
         ]
        },
        {
         "line": {
          "color": "#299e50",
          "width": 0.5
         },
         "mode": "lines",
         "type": "scatter",
         "x": [
          0.5073263645172119,
          0.7913283109664917
         ],
         "y": [
          0.4508726894855499,
          0.10791761428117752
         ]
        },
        {
         "line": {
          "color": "#299e50",
          "width": 0.5
         },
         "mode": "lines",
         "type": "scatter",
         "x": [
          0.21546520292758942,
          0.09712449461221695
         ],
         "y": [
          0.5886916518211365,
          0.3538587689399719
         ]
        },
        {
         "line": {
          "color": "#299e50",
          "width": 0.5
         },
         "mode": "lines",
         "type": "scatter",
         "x": [
          0.21546520292758942,
          0.36851564049720764
         ],
         "y": [
          0.5886916518211365,
          0.7743782997131348
         ]
        },
        {
         "line": {
          "color": "#299e50",
          "width": 0.5
         },
         "mode": "lines",
         "type": "scatter",
         "x": [
          0.5626683831214905,
          0.4817191958427429
         ],
         "y": [
          0.44986510276794434,
          0.4346274137496948
         ]
        },
        {
         "line": {
          "color": "#299e50",
          "width": 0.5
         },
         "mode": "lines",
         "type": "scatter",
         "x": [
          0.6808767914772034,
          0.7328574061393738
         ],
         "y": [
          0.03834191709756851,
          0.020426250994205475
         ]
        },
        {
         "line": {
          "color": "#299e50",
          "width": 0.5
         },
         "mode": "lines",
         "type": "scatter",
         "x": [
          0.36375749111175537,
          0.3441350758075714
         ],
         "y": [
          0.4329463839530945,
          0.554015040397644
         ]
        },
        {
         "line": {
          "color": "#299e50",
          "width": 0.5
         },
         "mode": "lines",
         "type": "scatter",
         "x": [
          0.20855578780174255,
          0.27872681617736816
         ],
         "y": [
          0.8728055357933044,
          0.4856356382369995
         ]
        },
        {
         "line": {
          "color": "#299e50",
          "width": 0.5
         },
         "mode": "lines",
         "type": "scatter",
         "x": [
          0.5155540108680725,
          0.0067802234552800655
         ],
         "y": [
          0.4917318820953369,
          0.3221316635608673
         ]
        },
        {
         "line": {
          "color": "#299e50",
          "width": 0.5
         },
         "mode": "lines",
         "type": "scatter",
         "x": [
          0.5155540108680725,
          0.3166092336177826
         ],
         "y": [
          0.4917318820953369,
          0.12015257030725479
         ]
        },
        {
         "line": {
          "color": "#299e50",
          "width": 0.5
         },
         "mode": "lines",
         "type": "scatter",
         "x": [
          0.021144559606909752,
          0.11892399936914444
         ],
         "y": [
          0.006372575648128986,
          0.3045666217803955
         ]
        },
        {
         "line": {
          "color": "#299e50",
          "width": 0.5
         },
         "mode": "lines",
         "type": "scatter",
         "x": [
          0.6994906067848206,
          0.5499528646469116
         ],
         "y": [
          0.5704512000083923,
          0.7187548279762268
         ]
        },
        {
         "line": {
          "color": "#299e50",
          "width": 0.5
         },
         "mode": "lines",
         "type": "scatter",
         "x": [
          0.7104383707046509,
          0.746809184551239
         ],
         "y": [
          0.8064296245574951,
          0.4227779507637024
         ]
        },
        {
         "line": {
          "color": "#299e50",
          "width": 0.5
         },
         "mode": "lines",
         "type": "scatter",
         "x": [
          0.1782466471195221,
          0.08988834172487259
         ],
         "y": [
          0.11279375851154327,
          0.4485476315021515
         ]
        },
        {
         "line": {
          "color": "#299e50",
          "width": 0.5
         },
         "mode": "lines",
         "type": "scatter",
         "x": [
          0.7829354405403137,
          0.6774746179580688
         ],
         "y": [
          0.598920464515686,
          0.19489191472530365
         ]
        },
        {
         "line": {
          "color": "#299e50",
          "width": 0.5
         },
         "mode": "lines",
         "type": "scatter",
         "x": [
          0.7829354405403137,
          0.27413085103034973
         ],
         "y": [
          0.598920464515686,
          0.08061998337507248
         ]
        },
        {
         "line": {
          "color": "#299e50",
          "width": 0.5
         },
         "mode": "lines",
         "type": "scatter",
         "x": [
          0.6609811782836914,
          0.37884217500686646
         ],
         "y": [
          0.9435147643089294,
          0.8147547841072083
         ]
        },
        {
         "line": {
          "color": "#299e50",
          "width": 0.5
         },
         "mode": "lines",
         "type": "scatter",
         "x": [
          0.6735405921936035,
          0.3441350758075714
         ],
         "y": [
          0.8608335852622986,
          0.554015040397644
         ]
        },
        {
         "line": {
          "color": "#299e50",
          "width": 0.5
         },
         "mode": "lines",
         "type": "scatter",
         "x": [
          0.6735405921936035,
          0.4023907482624054
         ],
         "y": [
          0.8608335852622986,
          0.3778719902038574
         ]
        },
        {
         "line": {
          "color": "#299e50",
          "width": 0.5
         },
         "mode": "lines",
         "type": "scatter",
         "x": [
          0.9290707111358643,
          0.7033612132072449
         ],
         "y": [
          0.8230574131011963,
          0.5784785151481628
         ]
        },
        {
         "line": {
          "color": "#299e50",
          "width": 0.5
         },
         "mode": "lines",
         "type": "scatter",
         "x": [
          0.2209007740020752,
          0.4460609257221222
         ],
         "y": [
          0.2726285755634308,
          0.025963069871068
         ]
        },
        {
         "line": {
          "color": "#299e50",
          "width": 0.5
         },
         "mode": "lines",
         "type": "scatter",
         "x": [
          0.47099626064300537,
          0.8605000972747803
         ],
         "y": [
          0.5071500539779663,
          0.4711788594722748
         ]
        },
        {
         "line": {
          "color": "#299e50",
          "width": 0.5
         },
         "mode": "lines",
         "type": "scatter",
         "x": [
          0.48725903034210205,
          0.07293117791414261
         ],
         "y": [
          0.768164873123169,
          0.4793883264064789
         ]
        },
        {
         "line": {
          "color": "#299e50",
          "width": 0.5
         },
         "mode": "lines",
         "type": "scatter",
         "x": [
          0.25519537925720215,
          0.1526137888431549
         ],
         "y": [
          0.34412872791290283,
          0.4687170088291168
         ]
        },
        {
         "line": {
          "color": "#299e50",
          "width": 0.5
         },
         "mode": "lines",
         "type": "scatter",
         "x": [
          0.010524611920118332,
          0.48939067125320435
         ],
         "y": [
          0.0060152108781039715,
          0.10061725229024887
         ]
        },
        {
         "line": {
          "color": "#299e50",
          "width": 0.5
         },
         "mode": "lines",
         "type": "scatter",
         "x": [
          0.9035645723342896,
          0.7314776182174683
         ],
         "y": [
          0.46543607115745544,
          0.9541746377944946
         ]
        },
        {
         "line": {
          "color": "#299e50",
          "width": 0.5
         },
         "mode": "lines",
         "type": "scatter",
         "x": [
          0.13182374835014343,
          0.8423578143119812
         ],
         "y": [
          0.10038994997739792,
          0.7606645226478577
         ]
        },
        {
         "line": {
          "color": "#000000",
          "width": 0.5
         },
         "mode": "lines",
         "type": "scatter",
         "x": [
          0.13182374835014343,
          0.6684962511062622
         ],
         "y": [
          0.10038994997739792,
          0.3490956723690033
         ]
        },
        {
         "line": {
          "color": "#299e50",
          "width": 0.5
         },
         "mode": "lines",
         "type": "scatter",
         "x": [
          0.6665888428688049,
          0.2755652666091919
         ],
         "y": [
          0.9237476587295532,
          0.522325873374939
         ]
        },
        {
         "line": {
          "color": "#299e50",
          "width": 0.5
         },
         "mode": "lines",
         "type": "scatter",
         "x": [
          0.10754048824310303,
          0.24796701967716217
         ],
         "y": [
          0.8697237372398376,
          0.04639594629406929
         ]
        },
        {
         "line": {
          "color": "#299e50",
          "width": 0.5
         },
         "mode": "lines",
         "type": "scatter",
         "x": [
          0.5660727620124817,
          0.5394155383110046
         ],
         "y": [
          0.7193285226821899,
          0.1845625787973404
         ]
        },
        {
         "line": {
          "color": "#299e50",
          "width": 0.5
         },
         "mode": "lines",
         "type": "scatter",
         "x": [
          0.6615166664123535,
          0.05409716069698334
         ],
         "y": [
          0.7841885089874268,
          0.5377447009086609
         ]
        },
        {
         "line": {
          "color": "#299e50",
          "width": 0.5
         },
         "mode": "lines",
         "type": "scatter",
         "x": [
          0.19236387312412262,
          0.744438648223877
         ],
         "y": [
          0.9435545206069946,
          0.15768814086914062
         ]
        },
        {
         "line": {
          "color": "#299e50",
          "width": 0.5
         },
         "mode": "lines",
         "type": "scatter",
         "x": [
          0.8178924322128296,
          0.6684962511062622
         ],
         "y": [
          0.7954057455062866,
          0.3490956723690033
         ]
        },
        {
         "line": {
          "color": "#299e50",
          "width": 0.5
         },
         "mode": "lines",
         "type": "scatter",
         "x": [
          0.8178924322128296,
          0.26631036400794983
         ],
         "y": [
          0.7954057455062866,
          0.8931359052658081
         ]
        },
        {
         "line": {
          "color": "#299e50",
          "width": 0.5
         },
         "mode": "lines",
         "type": "scatter",
         "x": [
          0.809209942817688,
          0.24143804609775543
         ],
         "y": [
          0.14046691358089447,
          0.2966683506965637
         ]
        },
        {
         "line": {
          "color": "#299e50",
          "width": 0.5
         },
         "mode": "lines",
         "type": "scatter",
         "x": [
          0.2053690403699875,
          0.7204969525337219
         ],
         "y": [
          0.26672622561454773,
          0.17706520855426788
         ]
        },
        {
         "line": {
          "color": "#299e50",
          "width": 0.5
         },
         "mode": "lines",
         "type": "scatter",
         "x": [
          0.08260887861251831,
          0.8142348527908325
         ],
         "y": [
          0.1305074244737625,
          0.5225187540054321
         ]
        },
        {
         "line": {
          "color": "#299e50",
          "width": 0.5
         },
         "mode": "lines",
         "type": "scatter",
         "x": [
          0.6066524386405945,
          0.9000940322875977
         ],
         "y": [
          0.6471844911575317,
          0.4002379775047302
         ]
        },
        {
         "line": {
          "color": "#000000",
          "width": 0.5
         },
         "mode": "lines",
         "type": "scatter",
         "x": [
          0.9934402108192444,
          0.32611677050590515
         ],
         "y": [
          0.21154507994651794,
          0.365181028842926
         ]
        },
        {
         "line": {
          "color": "#299e50",
          "width": 0.5
         },
         "mode": "lines",
         "type": "scatter",
         "x": [
          0.9821622371673584,
          0.006159162148833275
         ],
         "y": [
          0.7435712814331055,
          0.15965008735656738
         ]
        },
        {
         "line": {
          "color": "#299e50",
          "width": 0.5
         },
         "mode": "lines",
         "type": "scatter",
         "x": [
          0.26044178009033203,
          0.3464466631412506
         ],
         "y": [
          0.890661358833313,
          0.7880702018737793
         ]
        },
        {
         "line": {
          "color": "#299e50",
          "width": 0.5
         },
         "mode": "lines",
         "type": "scatter",
         "x": [
          0.8112418055534363,
          0.07875503599643707
         ],
         "y": [
          0.6319705247879028,
          0.927574098110199
         ]
        },
        {
         "line": {
          "color": "#299e50",
          "width": 0.5
         },
         "mode": "lines",
         "type": "scatter",
         "x": [
          0.581505537033081,
          0.022867528721690178
         ],
         "y": [
          0.20331422984600067,
          0.23341600596904755
         ]
        },
        {
         "line": {
          "color": "#299e50",
          "width": 0.5
         },
         "mode": "lines",
         "type": "scatter",
         "x": [
          0.581505537033081,
          0.007216425146907568
         ],
         "y": [
          0.20331422984600067,
          0.6033709049224854
         ]
        },
        {
         "line": {
          "color": "#299e50",
          "width": 0.5
         },
         "mode": "lines",
         "type": "scatter",
         "x": [
          0.3069920539855957,
          0.931801438331604
         ],
         "y": [
          0.7741144299507141,
          0.5184409022331238
         ]
        },
        {
         "line": {
          "color": "#299e50",
          "width": 0.5
         },
         "mode": "lines",
         "type": "scatter",
         "x": [
          0.7758944034576416,
          0.4136713445186615
         ],
         "y": [
          0.9645553827285767,
          0.9902887344360352
         ]
        },
        {
         "line": {
          "color": "#299e50",
          "width": 0.5
         },
         "mode": "lines",
         "type": "scatter",
         "x": [
          0.7832409143447876,
          0.06273538619279861
         ],
         "y": [
          0.9116600155830383,
          0.8368616700172424
         ]
        },
        {
         "line": {
          "color": "#299e50",
          "width": 0.5
         },
         "mode": "lines",
         "type": "scatter",
         "x": [
          0.7832409143447876,
          0.898362398147583
         ],
         "y": [
          0.9116600155830383,
          0.12305456399917603
         ]
        },
        {
         "line": {
          "color": "#299e50",
          "width": 0.5
         },
         "mode": "lines",
         "type": "scatter",
         "x": [
          0.7832409143447876,
          0.8783501982688904
         ],
         "y": [
          0.9116600155830383,
          0.4629024267196655
         ]
        },
        {
         "line": {
          "color": "#299e50",
          "width": 0.5
         },
         "mode": "lines",
         "type": "scatter",
         "x": [
          0.04588327184319496,
          0.5190115571022034
         ],
         "y": [
          0.34148916602134705,
          0.6973852515220642
         ]
        },
        {
         "line": {
          "color": "#299e50",
          "width": 0.5
         },
         "mode": "lines",
         "type": "scatter",
         "x": [
          0.49498245120048523,
          0.4685594439506531
         ],
         "y": [
          0.7301805019378662,
          0.4890204966068268
         ]
        },
        {
         "line": {
          "color": "#299e50",
          "width": 0.5
         },
         "mode": "lines",
         "type": "scatter",
         "x": [
          0.9539052844047546,
          0.6454785466194153
         ],
         "y": [
          0.2703305780887604,
          0.01748211868107319
         ]
        },
        {
         "line": {
          "color": "#299e50",
          "width": 0.5
         },
         "mode": "lines",
         "type": "scatter",
         "x": [
          0.3890298902988434,
          0.8605000972747803
         ],
         "y": [
          0.9634366631507874,
          0.4711788594722748
         ]
        },
        {
         "line": {
          "color": "#299e50",
          "width": 0.5
         },
         "mode": "lines",
         "type": "scatter",
         "x": [
          0.2755652666091919,
          0.1628236174583435
         ],
         "y": [
          0.522325873374939,
          0.6914573311805725
         ]
        },
        {
         "line": {
          "color": "#299e50",
          "width": 0.5
         },
         "mode": "lines",
         "type": "scatter",
         "x": [
          0.2755652666091919,
          0.23531313240528107
         ],
         "y": [
          0.522325873374939,
          0.8219301104545593
         ]
        },
        {
         "line": {
          "color": "#299e50",
          "width": 0.5
         },
         "mode": "lines",
         "type": "scatter",
         "x": [
          0.469279021024704,
          0.8173415660858154
         ],
         "y": [
          0.9261056184768677,
          0.666367769241333
         ]
        },
        {
         "line": {
          "color": "#299e50",
          "width": 0.5
         },
         "mode": "lines",
         "type": "scatter",
         "x": [
          0.469279021024704,
          0.9906688928604126
         ],
         "y": [
          0.9261056184768677,
          0.06836756318807602
         ]
        },
        {
         "line": {
          "color": "#299e50",
          "width": 0.5
         },
         "mode": "lines",
         "type": "scatter",
         "x": [
          0.469279021024704,
          0.05309188365936279
         ],
         "y": [
          0.9261056184768677,
          0.09115861356258392
         ]
        },
        {
         "line": {
          "color": "#299e50",
          "width": 0.5
         },
         "mode": "lines",
         "type": "scatter",
         "x": [
          0.6668270826339722,
          0.18265576660633087
         ],
         "y": [
          0.6397733092308044,
          0.4460257291793823
         ]
        },
        {
         "line": {
          "color": "#299e50",
          "width": 0.5
         },
         "mode": "lines",
         "type": "scatter",
         "x": [
          0.6557417511940002,
          0.23094749450683594
         ],
         "y": [
          0.8023435473442078,
          0.29867780208587646
         ]
        },
        {
         "line": {
          "color": "#299e50",
          "width": 0.5
         },
         "mode": "lines",
         "type": "scatter",
         "x": [
          0.912513256072998,
          0.6472386121749878
         ],
         "y": [
          0.3906978368759155,
          0.6766103506088257
         ]
        },
        {
         "line": {
          "color": "#299e50",
          "width": 0.5
         },
         "mode": "lines",
         "type": "scatter",
         "x": [
          0.5308294892311096,
          0.20020052790641785
         ],
         "y": [
          0.9711049795150757,
          0.048619989305734634
         ]
        },
        {
         "line": {
          "color": "#299e50",
          "width": 0.5
         },
         "mode": "lines",
         "type": "scatter",
         "x": [
          0.7424083352088928,
          0.2548542022705078
         ],
         "y": [
          0.5817837715148926,
          0.43847450613975525
         ]
        },
        {
         "line": {
          "color": "#299e50",
          "width": 0.5
         },
         "mode": "lines",
         "type": "scatter",
         "x": [
          0.8710607290267944,
          0.030336275696754456
         ],
         "y": [
          0.04917548596858978,
          0.02969018742442131
         ]
        },
        {
         "line": {
          "color": "#299e50",
          "width": 0.5
         },
         "mode": "lines",
         "type": "scatter",
         "x": [
          0.2604883015155792,
          0.5653786659240723
         ],
         "y": [
          0.46633678674697876,
          0.8866557478904724
         ]
        },
        {
         "line": {
          "color": "#299e50",
          "width": 0.5
         },
         "mode": "lines",
         "type": "scatter",
         "x": [
          0.2604883015155792,
          0.4340633451938629
         ],
         "y": [
          0.46633678674697876,
          0.11623741686344147
         ]
        },
        {
         "line": {
          "color": "#299e50",
          "width": 0.5
         },
         "mode": "lines",
         "type": "scatter",
         "x": [
          0.7869778871536255,
          0.1661851406097412
         ],
         "y": [
          0.5028001666069031,
          0.28520289063453674
         ]
        },
        {
         "line": {
          "color": "#299e50",
          "width": 0.5
         },
         "mode": "lines",
         "type": "scatter",
         "x": [
          0.8967828750610352,
          0.07909104228019714
         ],
         "y": [
          0.19446781277656555,
          0.8827905654907227
         ]
        },
        {
         "line": {
          "color": "#299e50",
          "width": 0.5
         },
         "mode": "lines",
         "type": "scatter",
         "x": [
          0.0067802234552800655,
          0.271624892950058
         ],
         "y": [
          0.3221316635608673,
          0.8262171149253845
         ]
        },
        {
         "line": {
          "color": "#299e50",
          "width": 0.5
         },
         "mode": "lines",
         "type": "scatter",
         "x": [
          0.6869925856590271,
          0.2985154986381531
         ],
         "y": [
          0.044700391590595245,
          0.0464739128947258
         ]
        },
        {
         "line": {
          "color": "#299e50",
          "width": 0.5
         },
         "mode": "lines",
         "type": "scatter",
         "x": [
          0.6869925856590271,
          0.9396945834159851
         ],
         "y": [
          0.044700391590595245,
          0.8663203716278076
         ]
        },
        {
         "line": {
          "color": "#299e50",
          "width": 0.5
         },
         "mode": "lines",
         "type": "scatter",
         "x": [
          0.08616312593221664,
          0.37376224994659424
         ],
         "y": [
          0.015600989572703838,
          0.37777864933013916
         ]
        },
        {
         "line": {
          "color": "#299e50",
          "width": 0.5
         },
         "mode": "lines",
         "type": "scatter",
         "x": [
          0.3639090061187744,
          0.7226113080978394
         ],
         "y": [
          0.44308748841285706,
          0.7032362222671509
         ]
        },
        {
         "line": {
          "color": "#299e50",
          "width": 0.5
         },
         "mode": "lines",
         "type": "scatter",
         "x": [
          0.4552482068538666,
          0.8423578143119812
         ],
         "y": [
          0.797096312046051,
          0.7606645226478577
         ]
        },
        {
         "line": {
          "color": "#299e50",
          "width": 0.5
         },
         "mode": "lines",
         "type": "scatter",
         "x": [
          0.009364954195916653,
          0.29225754737854004
         ],
         "y": [
          0.8570823669433594,
          0.024440947920084
         ]
        },
        {
         "line": {
          "color": "#299e50",
          "width": 0.5
         },
         "mode": "lines",
         "type": "scatter",
         "x": [
          0.5451078414916992,
          0.7314897179603577
         ],
         "y": [
          0.07023841142654419,
          0.9280707836151123
         ]
        },
        {
         "line": {
          "color": "#299e50",
          "width": 0.5
         },
         "mode": "lines",
         "type": "scatter",
         "x": [
          0.8851790428161621,
          0.6913593411445618
         ],
         "y": [
          0.805231511592865,
          0.18200741708278656
         ]
        },
        {
         "line": {
          "color": "#299e50",
          "width": 0.5
         },
         "mode": "lines",
         "type": "scatter",
         "x": [
          0.9865484237670898,
          0.341365247964859
         ],
         "y": [
          0.6679137349128723,
          0.2564842104911804
         ]
        },
        {
         "line": {
          "color": "#000000",
          "width": 0.5
         },
         "mode": "lines",
         "type": "scatter",
         "x": [
          0.5974797010421753,
          0.9019935131072998
         ],
         "y": [
          0.4325869679450989,
          0.6267592906951904
         ]
        },
        {
         "line": {
          "color": "#299e50",
          "width": 0.5
         },
         "mode": "lines",
         "type": "scatter",
         "x": [
          0.5974797010421753,
          0.591224193572998
         ],
         "y": [
          0.4325869679450989,
          0.05044935271143913
         ]
        },
        {
         "line": {
          "color": "#299e50",
          "width": 0.5
         },
         "mode": "lines",
         "type": "scatter",
         "x": [
          0.6583549976348877,
          0.8322969079017639
         ],
         "y": [
          0.1626376360654831,
          0.6574407815933228
         ]
        },
        {
         "line": {
          "color": "#299e50",
          "width": 0.5
         },
         "mode": "lines",
         "type": "scatter",
         "x": [
          0.2768997550010681,
          0.8834202885627747
         ],
         "y": [
          0.5496101379394531,
          0.6742347478866577
         ]
        },
        {
         "line": {
          "color": "#299e50",
          "width": 0.5
         },
         "mode": "lines",
         "type": "scatter",
         "x": [
          0.9589328765869141,
          0.4023907482624054
         ],
         "y": [
          0.41574493050575256,
          0.3778719902038574
         ]
        },
        {
         "line": {
          "color": "#299e50",
          "width": 0.5
         },
         "mode": "lines",
         "type": "scatter",
         "x": [
          0.4210644066333771,
          0.8423578143119812
         ],
         "y": [
          0.8576690554618835,
          0.7606645226478577
         ]
        },
        {
         "line": {
          "color": "#299e50",
          "width": 0.5
         },
         "mode": "lines",
         "type": "scatter",
         "x": [
          0.4210644066333771,
          0.27872681617736816
         ],
         "y": [
          0.8576690554618835,
          0.4856356382369995
         ]
        },
        {
         "line": {
          "color": "#299e50",
          "width": 0.5
         },
         "mode": "lines",
         "type": "scatter",
         "x": [
          0.5463804006576538,
          0.48939067125320435
         ],
         "y": [
          0.31697767972946167,
          0.10061725229024887
         ]
        },
        {
         "line": {
          "color": "#299e50",
          "width": 0.5
         },
         "mode": "lines",
         "type": "scatter",
         "x": [
          0.5436159372329712,
          0.4664418399333954
         ],
         "y": [
          0.8037217259407043,
          0.7377488613128662
         ]
        },
        {
         "line": {
          "color": "#299e50",
          "width": 0.5
         },
         "mode": "lines",
         "type": "scatter",
         "x": [
          0.7110912203788757,
          0.07608304917812347
         ],
         "y": [
          0.3606400489807129,
          0.1365046501159668
         ]
        },
        {
         "line": {
          "color": "#299e50",
          "width": 0.5
         },
         "mode": "lines",
         "type": "scatter",
         "x": [
          0.7110912203788757,
          0.19288185238838196
         ],
         "y": [
          0.3606400489807129,
          0.5290423631668091
         ]
        },
        {
         "line": {
          "color": "#299e50",
          "width": 0.5
         },
         "mode": "lines",
         "type": "scatter",
         "x": [
          0.5727983713150024,
          0.18499088287353516
         ],
         "y": [
          0.2112901657819748,
          0.23005862534046173
         ]
        },
        {
         "line": {
          "color": "#299e50",
          "width": 0.5
         },
         "mode": "lines",
         "type": "scatter",
         "x": [
          0.5727983713150024,
          0.5075681209564209
         ],
         "y": [
          0.2112901657819748,
          0.3539017140865326
         ]
        },
        {
         "line": {
          "color": "#299e50",
          "width": 0.5
         },
         "mode": "lines",
         "type": "scatter",
         "x": [
          0.11203467100858688,
          0.6077024936676025
         ],
         "y": [
          0.6890478730201721,
          0.025941068306565285
         ]
        },
        {
         "line": {
          "color": "#299e50",
          "width": 0.5
         },
         "mode": "lines",
         "type": "scatter",
         "x": [
          0.6676256060600281,
          0.20020052790641785
         ],
         "y": [
          0.10954011231660843,
          0.048619989305734634
         ]
        },
        {
         "line": {
          "color": "#299e50",
          "width": 0.5
         },
         "mode": "lines",
         "type": "scatter",
         "x": [
          0.9306754469871521,
          0.8834202885627747
         ],
         "y": [
          0.05846057087182999,
          0.6742347478866577
         ]
        },
        {
         "line": {
          "color": "#299e50",
          "width": 0.5
         },
         "mode": "lines",
         "type": "scatter",
         "x": [
          0.9340864419937134,
          0.2993301749229431
         ],
         "y": [
          0.683591902256012,
          0.12383632361888885
         ]
        },
        {
         "line": {
          "color": "#299e50",
          "width": 0.5
         },
         "mode": "lines",
         "type": "scatter",
         "x": [
          0.6554207801818848,
          0.4575088322162628
         ],
         "y": [
          0.8547717332839966,
          0.3449971377849579
         ]
        },
        {
         "line": {
          "color": "#299e50",
          "width": 0.5
         },
         "mode": "lines",
         "type": "scatter",
         "x": [
          0.05710180848836899,
          0.8605000972747803
         ],
         "y": [
          0.4697715640068054,
          0.4711788594722748
         ]
        },
        {
         "line": {
          "color": "#299e50",
          "width": 0.5
         },
         "mode": "lines",
         "type": "scatter",
         "x": [
          0.06176556646823883,
          0.4166320860385895
         ],
         "y": [
          0.061845120042562485,
          0.8825346827507019
         ]
        },
        {
         "line": {
          "color": "#299e50",
          "width": 0.5
         },
         "mode": "lines",
         "type": "scatter",
         "x": [
          0.49249038100242615,
          0.3441350758075714
         ],
         "y": [
          0.9569603800773621,
          0.554015040397644
         ]
        },
        {
         "line": {
          "color": "#299e50",
          "width": 0.5
         },
         "mode": "lines",
         "type": "scatter",
         "x": [
          0.7913283109664917,
          0.27893760800361633
         ],
         "y": [
          0.10791761428117752,
          0.5562653541564941
         ]
        },
        {
         "line": {
          "color": "#299e50",
          "width": 0.5
         },
         "mode": "lines",
         "type": "scatter",
         "x": [
          0.028155341744422913,
          0.29225754737854004
         ],
         "y": [
          0.2353859543800354,
          0.024440947920084
         ]
        },
        {
         "line": {
          "color": "#299e50",
          "width": 0.5
         },
         "mode": "lines",
         "type": "scatter",
         "x": [
          0.14117096364498138,
          0.8297252058982849
         ],
         "y": [
          0.5059604644775391,
          0.6329551935195923
         ]
        },
        {
         "line": {
          "color": "#299e50",
          "width": 0.5
         },
         "mode": "lines",
         "type": "scatter",
         "x": [
          0.9077116250991821,
          0.6821926236152649
         ],
         "y": [
          0.08207947760820389,
          0.6740603446960449
         ]
        },
        {
         "line": {
          "color": "#299e50",
          "width": 0.5
         },
         "mode": "lines",
         "type": "scatter",
         "x": [
          0.36872926354408264,
          0.11400165408849716
         ],
         "y": [
          0.4435192942619324,
          0.45799964666366577
         ]
        },
        {
         "line": {
          "color": "#299e50",
          "width": 0.5
         },
         "mode": "lines",
         "type": "scatter",
         "x": [
          0.2067819982767105,
          0.11400165408849716
         ],
         "y": [
          0.04610732942819595,
          0.45799964666366577
         ]
        },
        {
         "line": {
          "color": "#299e50",
          "width": 0.5
         },
         "mode": "lines",
         "type": "scatter",
         "x": [
          0.8888798952102661,
          0.2897850275039673
         ],
         "y": [
          0.6760756969451904,
          0.8059777021408081
         ]
        },
        {
         "line": {
          "color": "#299e50",
          "width": 0.5
         },
         "mode": "lines",
         "type": "scatter",
         "x": [
          0.8888798952102661,
          0.49254554510116577
         ],
         "y": [
          0.6760756969451904,
          0.46676352620124817
         ]
        },
        {
         "line": {
          "color": "#299e50",
          "width": 0.5
         },
         "mode": "lines",
         "type": "scatter",
         "x": [
          0.931801438331604,
          0.7179872989654541
         ],
         "y": [
          0.5184409022331238,
          0.2603873014450073
         ]
        },
        {
         "line": {
          "color": "#299e50",
          "width": 0.5
         },
         "mode": "lines",
         "type": "scatter",
         "x": [
          0.931801438331604,
          0.2048867642879486
         ],
         "y": [
          0.5184409022331238,
          0.28136515617370605
         ]
        },
        {
         "line": {
          "color": "#299e50",
          "width": 0.5
         },
         "mode": "lines",
         "type": "scatter",
         "x": [
          0.564993679523468,
          0.8431504964828491
         ],
         "y": [
          0.43967050313949585,
          0.684107780456543
         ]
        },
        {
         "line": {
          "color": "#299e50",
          "width": 0.5
         },
         "mode": "lines",
         "type": "scatter",
         "x": [
          0.9091476202011108,
          0.0979323759675026
         ],
         "y": [
          0.8771250247955322,
          0.748371422290802
         ]
        },
        {
         "line": {
          "color": "#299e50",
          "width": 0.5
         },
         "mode": "lines",
         "type": "scatter",
         "x": [
          0.4188392162322998,
          0.11400165408849716
         ],
         "y": [
          0.5955045819282532,
          0.45799964666366577
         ]
        },
        {
         "line": {
          "color": "#299e50",
          "width": 0.5
         },
         "mode": "lines",
         "type": "scatter",
         "x": [
          0.2550572156906128,
          0.4575088322162628
         ],
         "y": [
          0.9837720394134521,
          0.3449971377849579
         ]
        },
        {
         "line": {
          "color": "#299e50",
          "width": 0.5
         },
         "mode": "lines",
         "type": "scatter",
         "x": [
          0.5190115571022034,
          0.705091118812561
         ],
         "y": [
          0.6973852515220642,
          0.03111584484577179
         ]
        },
        {
         "line": {
          "color": "#299e50",
          "width": 0.5
         },
         "mode": "lines",
         "type": "scatter",
         "x": [
          0.4136713445186615,
          0.4737967550754547
         ],
         "y": [
          0.9902887344360352,
          0.8331454992294312
         ]
        },
        {
         "line": {
          "color": "#299e50",
          "width": 0.5
         },
         "mode": "lines",
         "type": "scatter",
         "x": [
          0.030336275696754456,
          0.9020664095878601
         ],
         "y": [
          0.02969018742442131,
          0.9990075826644897
         ]
        },
        {
         "line": {
          "color": "#299e50",
          "width": 0.5
         },
         "mode": "lines",
         "type": "scatter",
         "x": [
          0.7742741107940674,
          0.05030957981944084
         ],
         "y": [
          0.5690159201622009,
          0.9208126068115234
         ]
        },
        {
         "line": {
          "color": "#299e50",
          "width": 0.5
         },
         "mode": "lines",
         "type": "scatter",
         "x": [
          0.44647952914237976,
          0.664220929145813
         ],
         "y": [
          0.30975791811943054,
          0.4501104950904846
         ]
        },
        {
         "line": {
          "color": "#299e50",
          "width": 0.5
         },
         "mode": "lines",
         "type": "scatter",
         "x": [
          0.7124500274658203,
          0.5653786659240723
         ],
         "y": [
          0.38893893361091614,
          0.8866557478904724
         ]
        },
        {
         "line": {
          "color": "#299e50",
          "width": 0.5
         },
         "mode": "lines",
         "type": "scatter",
         "x": [
          0.18499088287353516,
          0.6913593411445618
         ],
         "y": [
          0.23005862534046173,
          0.18200741708278656
         ]
        },
        {
         "line": {
          "color": "#299e50",
          "width": 0.5
         },
         "mode": "lines",
         "type": "scatter",
         "x": [
          0.6913593411445618,
          0.0965760126709938
         ],
         "y": [
          0.18200741708278656,
          0.10164432227611542
         ]
        },
        {
         "line": {
          "color": "#299e50",
          "width": 0.5
         },
         "mode": "lines",
         "type": "scatter",
         "x": [
          0.6913593411445618,
          0.9906688928604126
         ],
         "y": [
          0.18200741708278656,
          0.06836756318807602
         ]
        },
        {
         "line": {
          "color": "#299e50",
          "width": 0.5
         },
         "mode": "lines",
         "type": "scatter",
         "x": [
          0.4166320860385895,
          0.4737967550754547
         ],
         "y": [
          0.8825346827507019,
          0.8331454992294312
         ]
        },
        {
         "line": {
          "color": "#299e50",
          "width": 0.5
         },
         "mode": "lines",
         "type": "scatter",
         "x": [
          0.06493077427148819,
          0.341365247964859
         ],
         "y": [
          0.46153759956359863,
          0.2564842104911804
         ]
        },
        {
         "line": {
          "color": "#299e50",
          "width": 0.5
         },
         "mode": "lines",
         "type": "scatter",
         "x": [
          0.5397505164146423,
          0.9411027431488037
         ],
         "y": [
          0.07422801107168198,
          0.9081204533576965
         ]
        },
        {
         "line": {
          "color": "#299e50",
          "width": 0.5
         },
         "mode": "lines",
         "type": "scatter",
         "x": [
          0.4760971963405609,
          0.6613908410072327
         ],
         "y": [
          0.566075325012207,
          0.09975838661193848
         ]
        },
        {
         "line": {
          "color": "#299e50",
          "width": 0.5
         },
         "mode": "lines",
         "type": "scatter",
         "x": [
          0.2650794982910156,
          0.8605000972747803
         ],
         "y": [
          0.555394172668457,
          0.4711788594722748
         ]
        },
        {
         "line": {
          "color": "#299e50",
          "width": 0.5
         },
         "mode": "lines",
         "type": "scatter",
         "x": [
          0.16023030877113342,
          0.760776162147522
         ],
         "y": [
          0.20902281999588013,
          0.4072771966457367
         ]
        },
        {
         "line": {
          "color": "#299e50",
          "width": 0.5
         },
         "mode": "lines",
         "type": "scatter",
         "x": [
          0.16023030877113342,
          0.3941476047039032
         ],
         "y": [
          0.20902281999588013,
          0.23021776974201202
         ]
        },
        {
         "line": {
          "color": "#299e50",
          "width": 0.5
         },
         "mode": "lines",
         "type": "scatter",
         "x": [
          0.07909104228019714,
          0.43852195143699646
         ],
         "y": [
          0.8827905654907227,
          0.050694745033979416
         ]
        },
        {
         "line": {
          "color": "#299e50",
          "width": 0.5
         },
         "mode": "lines",
         "type": "scatter",
         "x": [
          0.8449558615684509,
          0.8605000972747803
         ],
         "y": [
          0.6544399857521057,
          0.4711788594722748
         ]
        },
        {
         "line": {
          "color": "#299e50",
          "width": 0.5
         },
         "mode": "lines",
         "type": "scatter",
         "x": [
          0.7039849162101746,
          0.31587642431259155
         ],
         "y": [
          0.23027314245700836,
          0.7502623200416565
         ]
        },
        {
         "line": {
          "color": "#299e50",
          "width": 0.5
         },
         "mode": "lines",
         "type": "scatter",
         "x": [
          0.5870656967163086,
          0.11378465592861176
         ],
         "y": [
          0.2130855917930603,
          0.7386401295661926
         ]
        },
        {
         "line": {
          "color": "#299e50",
          "width": 0.5
         },
         "mode": "lines",
         "type": "scatter",
         "x": [
          0.19496621191501617,
          0.6454785466194153
         ],
         "y": [
          0.4010249376296997,
          0.01748211868107319
         ]
        },
        {
         "line": {
          "color": "#299e50",
          "width": 0.5
         },
         "mode": "lines",
         "type": "scatter",
         "x": [
          0.23531313240528107,
          0.8176313638687134
         ],
         "y": [
          0.8219301104545593,
          0.8166991472244263
         ]
        },
        {
         "line": {
          "color": "#299e50",
          "width": 0.5
         },
         "mode": "lines",
         "type": "scatter",
         "x": [
          0.6767264008522034,
          0.5767074823379517
         ],
         "y": [
          0.2380141317844391,
          0.6437641382217407
         ]
        },
        {
         "line": {
          "color": "#299e50",
          "width": 0.5
         },
         "mode": "lines",
         "type": "scatter",
         "x": [
          0.43475106358528137,
          0.6365115642547607
         ],
         "y": [
          0.47162047028541565,
          0.5718234777450562
         ]
        },
        {
         "line": {
          "color": "#299e50",
          "width": 0.5
         },
         "mode": "lines",
         "type": "scatter",
         "x": [
          0.43475106358528137,
          0.04237682744860649
         ],
         "y": [
          0.47162047028541565,
          0.29004383087158203
         ]
        },
        {
         "line": {
          "color": "#299e50",
          "width": 0.5
         },
         "mode": "lines",
         "type": "scatter",
         "x": [
          0.6665454506874084,
          0.1318323165178299
         ],
         "y": [
          0.17145457863807678,
          0.38468191027641296
         ]
        },
        {
         "line": {
          "color": "#000000",
          "width": 0.5
         },
         "mode": "lines",
         "type": "scatter",
         "x": [
          0.6855834126472473,
          0.26842692494392395
         ],
         "y": [
          0.840462863445282,
          0.44399169087409973
         ]
        },
        {
         "line": {
          "color": "#299e50",
          "width": 0.5
         },
         "mode": "lines",
         "type": "scatter",
         "x": [
          0.8423578143119812,
          0.804520845413208
         ],
         "y": [
          0.7606645226478577,
          0.926283597946167
         ]
        },
        {
         "line": {
          "color": "#299e50",
          "width": 0.5
         },
         "mode": "lines",
         "type": "scatter",
         "x": [
          0.8870524764060974,
          0.7722235918045044
         ],
         "y": [
          0.4800007939338684,
          0.41332921385765076
         ]
        },
        {
         "line": {
          "color": "#299e50",
          "width": 0.5
         },
         "mode": "lines",
         "type": "scatter",
         "x": [
          0.04843003302812576,
          0.9802181124687195
         ],
         "y": [
          0.24130386114120483,
          0.7965412139892578
         ]
        },
        {
         "line": {
          "color": "#299e50",
          "width": 0.5
         },
         "mode": "lines",
         "type": "scatter",
         "x": [
          0.04843003302812576,
          0.735462486743927
         ],
         "y": [
          0.24130386114120483,
          0.3955037593841553
         ]
        },
        {
         "line": {
          "color": "#299e50",
          "width": 0.5
         },
         "mode": "lines",
         "type": "scatter",
         "x": [
          0.04843003302812576,
          0.8895578384399414
         ],
         "y": [
          0.24130386114120483,
          0.38957589864730835
         ]
        },
        {
         "line": {
          "color": "#299e50",
          "width": 0.5
         },
         "mode": "lines",
         "type": "scatter",
         "x": [
          0.8556737899780273,
          0.6886407136917114
         ],
         "y": [
          0.8741962909698486,
          0.6049558520317078
         ]
        },
        {
         "line": {
          "color": "#299e50",
          "width": 0.5
         },
         "mode": "lines",
         "type": "scatter",
         "x": [
          0.22522594034671783,
          0.8431504964828491
         ],
         "y": [
          0.6610667109489441,
          0.684107780456543
         ]
        },
        {
         "line": {
          "color": "#299e50",
          "width": 0.5
         },
         "mode": "lines",
         "type": "scatter",
         "x": [
          0.664220929145813,
          0.8639004826545715
         ],
         "y": [
          0.4501104950904846,
          0.14240261912345886
         ]
        },
        {
         "line": {
          "color": "#299e50",
          "width": 0.5
         },
         "mode": "lines",
         "type": "scatter",
         "x": [
          0.7480014562606812,
          0.1521168351173401
         ],
         "y": [
          0.2943095862865448,
          0.23612233996391296
         ]
        },
        {
         "line": {
          "color": "#299e50",
          "width": 0.5
         },
         "mode": "lines",
         "type": "scatter",
         "x": [
          0.7480014562606812,
          0.4437842071056366
         ],
         "y": [
          0.2943095862865448,
          0.743512749671936
         ]
        },
        {
         "line": {
          "color": "#299e50",
          "width": 0.5
         },
         "mode": "lines",
         "type": "scatter",
         "x": [
          0.7480014562606812,
          0.9492083787918091
         ],
         "y": [
          0.2943095862865448,
          0.5123252868652344
         ]
        },
        {
         "line": {
          "color": "#299e50",
          "width": 0.5
         },
         "mode": "lines",
         "type": "scatter",
         "x": [
          0.6710385084152222,
          0.9950801730155945
         ],
         "y": [
          0.517178475856781,
          0.5712705850601196
         ]
        },
        {
         "line": {
          "color": "#299e50",
          "width": 0.5
         },
         "mode": "lines",
         "type": "scatter",
         "x": [
          0.6710385084152222,
          0.3475211262702942
         ],
         "y": [
          0.517178475856781,
          0.4190945625305176
         ]
        },
        {
         "line": {
          "color": "#000000",
          "width": 0.5
         },
         "mode": "lines",
         "type": "scatter",
         "x": [
          0.1318323165178299,
          0.9019935131072998
         ],
         "y": [
          0.38468191027641296,
          0.6267592906951904
         ]
        },
        {
         "line": {
          "color": "#299e50",
          "width": 0.5
         },
         "mode": "lines",
         "type": "scatter",
         "x": [
          0.5792702436447144,
          0.07608304917812347
         ],
         "y": [
          0.3818216621875763,
          0.1365046501159668
         ]
        },
        {
         "line": {
          "color": "#299e50",
          "width": 0.5
         },
         "mode": "lines",
         "type": "scatter",
         "x": [
          0.0979323759675026,
          0.8783501982688904
         ],
         "y": [
          0.748371422290802,
          0.4629024267196655
         ]
        },
        {
         "line": {
          "color": "#299e50",
          "width": 0.5
         },
         "mode": "lines",
         "type": "scatter",
         "x": [
          0.8150458335876465,
          0.8895578384399414
         ],
         "y": [
          0.776185154914856,
          0.38957589864730835
         ]
        },
        {
         "line": {
          "color": "#299e50",
          "width": 0.5
         },
         "mode": "lines",
         "type": "scatter",
         "x": [
          0.6049365401268005,
          0.3093782961368561
         ],
         "y": [
          0.5395365953445435,
          0.5310360193252563
         ]
        },
        {
         "line": {
          "color": "#299e50",
          "width": 0.5
         },
         "mode": "lines",
         "type": "scatter",
         "x": [
          0.6049365401268005,
          0.07286672294139862
         ],
         "y": [
          0.5395365953445435,
          0.5709065794944763
         ]
        },
        {
         "line": {
          "color": "#299e50",
          "width": 0.5
         },
         "mode": "lines",
         "type": "scatter",
         "x": [
          0.9396945834159851,
          0.1685430109500885
         ],
         "y": [
          0.8663203716278076,
          0.6868182420730591
         ]
        },
        {
         "line": {
          "color": "#299e50",
          "width": 0.5
         },
         "mode": "lines",
         "type": "scatter",
         "x": [
          0.4427506923675537,
          0.7115772366523743
         ],
         "y": [
          0.526875376701355,
          0.8292791843414307
         ]
        },
        {
         "line": {
          "color": "#299e50",
          "width": 0.5
         },
         "mode": "lines",
         "type": "scatter",
         "x": [
          0.7314776182174683,
          0.1429382711648941
         ],
         "y": [
          0.9541746377944946,
          0.6153847575187683
         ]
        },
        {
         "line": {
          "color": "#299e50",
          "width": 0.5
         },
         "mode": "lines",
         "type": "scatter",
         "x": [
          0.32611677050590515,
          0.6111611723899841
         ],
         "y": [
          0.365181028842926,
          0.5762732625007629
         ]
        },
        {
         "line": {
          "color": "#299e50",
          "width": 0.5
         },
         "mode": "lines",
         "type": "scatter",
         "x": [
          0.9432915449142456,
          0.8605000972747803
         ],
         "y": [
          0.6982786059379578,
          0.4711788594722748
         ]
        },
        {
         "line": {
          "color": "#299e50",
          "width": 0.5
         },
         "mode": "lines",
         "type": "scatter",
         "x": [
          0.11400165408849716,
          0.6217292547225952
         ],
         "y": [
          0.45799964666366577,
          0.8132899403572083
         ]
        },
        {
         "line": {
          "color": "#299e50",
          "width": 0.5
         },
         "mode": "lines",
         "type": "scatter",
         "x": [
          0.11400165408849716,
          0.7078151702880859
         ],
         "y": [
          0.45799964666366577,
          0.36715856194496155
         ]
        },
        {
         "line": {
          "color": "#299e50",
          "width": 0.5
         },
         "mode": "lines",
         "type": "scatter",
         "x": [
          0.11400165408849716,
          0.6542789936065674
         ],
         "y": [
          0.45799964666366577,
          0.8677533864974976
         ]
        },
        {
         "line": {
          "color": "#299e50",
          "width": 0.5
         },
         "mode": "lines",
         "type": "scatter",
         "x": [
          0.11400165408849716,
          0.18046684563159943
         ],
         "y": [
          0.45799964666366577,
          0.8838555216789246
         ]
        },
        {
         "line": {
          "color": "#299e50",
          "width": 0.5
         },
         "mode": "lines",
         "type": "scatter",
         "x": [
          0.05158266797661781,
          0.8996476531028748
         ],
         "y": [
          0.1886032521724701,
          0.8879117965698242
         ]
        },
        {
         "line": {
          "color": "#299e50",
          "width": 0.5
         },
         "mode": "lines",
         "type": "scatter",
         "x": [
          0.823782205581665,
          0.6425043344497681
         ],
         "y": [
          0.1736501306295395,
          0.2879805862903595
         ]
        },
        {
         "line": {
          "color": "#299e50",
          "width": 0.5
         },
         "mode": "lines",
         "type": "scatter",
         "x": [
          0.05769263580441475,
          0.11378465592861176
         ],
         "y": [
          0.009985142387449741,
          0.7386401295661926
         ]
        },
        {
         "line": {
          "color": "#299e50",
          "width": 0.5
         },
         "mode": "lines",
         "type": "scatter",
         "x": [
          0.4640354514122009,
          0.8605000972747803
         ],
         "y": [
          0.702333927154541,
          0.4711788594722748
         ]
        },
        {
         "line": {
          "color": "#299e50",
          "width": 0.5
         },
         "mode": "lines",
         "type": "scatter",
         "x": [
          0.6332467794418335,
          0.24824443459510803
         ],
         "y": [
          0.8872196674346924,
          0.5281815528869629
         ]
        },
        {
         "line": {
          "color": "#299e50",
          "width": 0.5
         },
         "mode": "lines",
         "type": "scatter",
         "x": [
          0.05409716069698334,
          0.44898006319999695
         ],
         "y": [
          0.5377447009086609,
          0.6405199766159058
         ]
        },
        {
         "line": {
          "color": "#299e50",
          "width": 0.5
         },
         "mode": "lines",
         "type": "scatter",
         "x": [
          0.6821926236152649,
          0.48786547780036926
         ],
         "y": [
          0.6740603446960449,
          0.2537843883037567
         ]
        },
        {
         "line": {
          "color": "#299e50",
          "width": 0.5
         },
         "mode": "lines",
         "type": "scatter",
         "x": [
          0.7328574061393738,
          0.6938597559928894
         ],
         "y": [
          0.020426250994205475,
          0.6173255443572998
         ]
        },
        {
         "line": {
          "color": "#299e50",
          "width": 0.5
         },
         "mode": "lines",
         "type": "scatter",
         "x": [
          0.2548542022705078,
          0.5511165857315063
         ],
         "y": [
          0.43847450613975525,
          0.9505001306533813
         ]
        },
        {
         "line": {
          "color": "#299e50",
          "width": 0.5
         },
         "mode": "lines",
         "type": "scatter",
         "x": [
          0.9293103218078613,
          0.43473055958747864
         ],
         "y": [
          0.14916293323040009,
          0.4713374972343445
         ]
        },
        {
         "line": {
          "color": "#299e50",
          "width": 0.5
         },
         "mode": "lines",
         "type": "scatter",
         "x": [
          0.9293103218078613,
          0.9637556076049805
         ],
         "y": [
          0.14916293323040009,
          0.5973120927810669
         ]
        },
        {
         "line": {
          "color": "#299e50",
          "width": 0.5
         },
         "mode": "lines",
         "type": "scatter",
         "x": [
          0.9388561844825745,
          0.27413085103034973
         ],
         "y": [
          0.143884539604187,
          0.08061998337507248
         ]
        },
        {
         "line": {
          "color": "#299e50",
          "width": 0.5
         },
         "mode": "lines",
         "type": "scatter",
         "x": [
          0.673102617263794,
          0.6212901473045349
         ],
         "y": [
          0.5729731917381287,
          0.35683366656303406
         ]
        },
        {
         "line": {
          "color": "#299e50",
          "width": 0.5
         },
         "mode": "lines",
         "type": "scatter",
         "x": [
          0.3444572389125824,
          0.7741193771362305
         ],
         "y": [
          0.5256918668746948,
          0.1206788495182991
         ]
        },
        {
         "line": {
          "color": "#299e50",
          "width": 0.5
         },
         "mode": "lines",
         "type": "scatter",
         "x": [
          0.07454723119735718,
          0.8443154692649841
         ],
         "y": [
          0.34153440594673157,
          0.942646324634552
         ]
        },
        {
         "line": {
          "color": "#000000",
          "width": 0.5
         },
         "mode": "lines",
         "type": "scatter",
         "x": [
          0.6537362933158875,
          0.3901520073413849
         ],
         "y": [
          0.08872393518686295,
          0.7907525300979614
         ]
        },
        {
         "line": {
          "color": "#299e50",
          "width": 0.5
         },
         "mode": "lines",
         "type": "scatter",
         "x": [
          0.6886407136917114,
          0.8071006536483765
         ],
         "y": [
          0.6049558520317078,
          0.49038267135620117
         ]
        },
        {
         "line": {
          "color": "#299e50",
          "width": 0.5
         },
         "mode": "lines",
         "type": "scatter",
         "x": [
          0.3093782961368561,
          0.5483383536338806
         ],
         "y": [
          0.5310360193252563,
          0.2914341986179352
         ]
        },
        {
         "line": {
          "color": "#299e50",
          "width": 0.5
         },
         "mode": "lines",
         "type": "scatter",
         "x": [
          0.05030957981944084,
          0.6425043344497681
         ],
         "y": [
          0.9208126068115234,
          0.2879805862903595
         ]
        },
        {
         "line": {
          "color": "#299e50",
          "width": 0.5
         },
         "mode": "lines",
         "type": "scatter",
         "x": [
          0.13033394515514374,
          0.7741193771362305
         ],
         "y": [
          0.9250507354736328,
          0.1206788495182991
         ]
        },
        {
         "line": {
          "color": "#299e50",
          "width": 0.5
         },
         "mode": "lines",
         "type": "scatter",
         "x": [
          0.591224193572998,
          0.8613961338996887
         ],
         "y": [
          0.05044935271143913,
          0.5749999284744263
         ]
        },
        {
         "line": {
          "color": "#299e50",
          "width": 0.5
         },
         "mode": "lines",
         "type": "scatter",
         "x": [
          0.1429382711648941,
          0.12421905249357224
         ],
         "y": [
          0.6153847575187683,
          0.20814616978168488
         ]
        },
        {
         "line": {
          "color": "#299e50",
          "width": 0.5
         },
         "mode": "lines",
         "type": "scatter",
         "x": [
          0.8756682276725769,
          0.8605000972747803
         ],
         "y": [
          0.9573646783828735,
          0.4711788594722748
         ]
        },
        {
         "line": {
          "color": "#299e50",
          "width": 0.5
         },
         "mode": "lines",
         "type": "scatter",
         "x": [
          0.8639004826545715,
          0.12421905249357224
         ],
         "y": [
          0.14240261912345886,
          0.20814616978168488
         ]
        },
        {
         "line": {
          "color": "#299e50",
          "width": 0.5
         },
         "mode": "lines",
         "type": "scatter",
         "x": [
          0.22227875888347626,
          0.6111611723899841
         ],
         "y": [
          0.6245322227478027,
          0.5762732625007629
         ]
        },
        {
         "line": {
          "color": "#299e50",
          "width": 0.5
         },
         "mode": "lines",
         "type": "scatter",
         "x": [
          0.3024364709854126,
          0.3805014193058014
         ],
         "y": [
          0.12850503623485565,
          0.32045266032218933
         ]
        },
        {
         "line": {
          "color": "#299e50",
          "width": 0.5
         },
         "mode": "lines",
         "type": "scatter",
         "x": [
          0.5013824701309204,
          0.8605000972747803
         ],
         "y": [
          0.7304805517196655,
          0.4711788594722748
         ]
        },
        {
         "line": {
          "color": "#299e50",
          "width": 0.5
         },
         "mode": "lines",
         "type": "scatter",
         "x": [
          0.6463271975517273,
          0.8605000972747803
         ],
         "y": [
          0.34035608172416687,
          0.4711788594722748
         ]
        },
        {
         "line": {
          "color": "#299e50",
          "width": 0.5
         },
         "mode": "lines",
         "type": "scatter",
         "x": [
          0.6111611723899841,
          0.4213424623012543
         ],
         "y": [
          0.5762732625007629,
          0.5676946640014648
         ]
        },
        {
         "line": {
          "color": "#299e50",
          "width": 0.5
         },
         "mode": "lines",
         "type": "scatter",
         "x": [
          0.5394155383110046,
          0.3017019033432007
         ],
         "y": [
          0.1845625787973404,
          0.6329956650733948
         ]
        },
        {
         "line": {
          "color": "#299e50",
          "width": 0.5
         },
         "mode": "lines",
         "type": "scatter",
         "x": [
          0.5654892921447754,
          0.8605000972747803
         ],
         "y": [
          0.9469321966171265,
          0.4711788594722748
         ]
        },
        {
         "line": {
          "color": "#299e50",
          "width": 0.5
         },
         "mode": "lines",
         "type": "scatter",
         "x": [
          0.42989665269851685,
          0.8605000972747803
         ],
         "y": [
          0.5848445296287537,
          0.4711788594722748
         ]
        },
        {
         "line": {
          "color": "#299e50",
          "width": 0.5
         },
         "mode": "lines",
         "type": "scatter",
         "x": [
          0.8605000972747803,
          0.09611543267965317
         ],
         "y": [
          0.4711788594722748,
          0.4786972105503082
         ]
        },
        {
         "line": {
          "color": "#299e50",
          "width": 0.5
         },
         "mode": "lines",
         "type": "scatter",
         "x": [
          0.8605000972747803,
          0.1486324816942215
         ],
         "y": [
          0.4711788594722748,
          0.6316366791725159
         ]
        },
        {
         "marker": {
          "color": [
           "#000000",
           "#000000",
           "#000000",
           "#000000",
           "#000000",
           "#000000",
           "#000000",
           "#000000",
           "#000000",
           "#000000",
           "#000000",
           "#000000",
           "#000000",
           "#000000",
           "#000000",
           "#000000",
           "#000000",
           "#000000",
           "#000000",
           "#000000",
           "#000000",
           "#000000",
           "#000000",
           "#000000",
           "#000000",
           "#107be6",
           "#000000",
           "#000000",
           "#000000",
           "#000000",
           "#000000",
           "#000000",
           "#000000",
           "#107be6",
           "#000000",
           "#000000",
           "#000000",
           "#107be6",
           "#000000",
           "#107be6",
           "#000000",
           "#000000",
           "#000000",
           "#107be6",
           "#000000",
           "#000000",
           "#000000",
           "#000000",
           "#000000",
           "#000000",
           "#000000",
           "#107be6",
           "#000000",
           "#000000",
           "#000000",
           "#000000",
           "#000000",
           "#000000",
           "#000000",
           "#000000",
           "#000000",
           "#000000",
           "#000000",
           "#000000",
           "#000000",
           "#000000",
           "#000000",
           "#000000",
           "#000000",
           "#000000",
           "#000000",
           "#000000",
           "#000000",
           "#000000",
           "#000000",
           "#000000",
           "#000000",
           "#000000",
           "#000000",
           "#000000",
           "#000000",
           "#000000",
           "#000000",
           "#000000",
           "#107be6",
           "#000000",
           "#000000",
           "#107be6",
           "#000000",
           "#000000",
           "#000000",
           "#000000",
           "#000000",
           "#000000",
           "#000000",
           "#000000",
           "#107be6",
           "#000000",
           "#000000",
           "#000000",
           "#000000",
           "#000000",
           "#000000",
           "#000000",
           "#000000",
           "#000000",
           "#000000",
           "#000000",
           "#000000",
           "#000000",
           "#107be6",
           "#000000",
           "#000000",
           "#000000",
           "#000000",
           "#000000",
           "#107be6",
           "#000000",
           "#000000",
           "#000000",
           "#000000",
           "#000000",
           "#000000",
           "#107be6",
           "#000000",
           "#000000",
           "#000000",
           "#000000",
           "#000000",
           "#107be6",
           "#000000",
           "#000000",
           "#000000",
           "#000000",
           "#000000",
           "#000000",
           "#000000",
           "#000000",
           "#000000",
           "#000000",
           "#107be6",
           "#000000",
           "#000000",
           "#000000",
           "#000000",
           "#000000",
           "#000000",
           "#000000",
           "#000000",
           "#107be6",
           "#000000",
           "#000000",
           "#000000",
           "#000000",
           "#000000",
           "#000000",
           "#000000",
           "#000000",
           "#107be6",
           "#000000",
           "#000000",
           "#000000",
           "#000000",
           "#000000",
           "#000000",
           "#000000",
           "#000000",
           "#107be6",
           "#000000",
           "#000000",
           "#000000",
           "#000000",
           "#000000",
           "#000000",
           "#000000",
           "#000000",
           "#000000",
           "#000000",
           "#000000",
           "#000000",
           "#107be6",
           "#000000",
           "#000000",
           "#000000",
           "#000000",
           "#000000",
           "#000000",
           "#000000",
           "#000000",
           "#000000",
           "#000000",
           "#000000",
           "#000000",
           "#000000",
           "#107be6",
           "#000000",
           "#000000",
           "#000000",
           "#107be6",
           "#000000",
           "#000000",
           "#000000",
           "#000000",
           "#000000",
           "#000000",
           "#000000",
           "#000000",
           "#000000",
           "#000000",
           "#000000",
           "#107be6",
           "#000000",
           "#000000",
           "#000000",
           "#000000",
           "#000000",
           "#107be6",
           "#000000",
           "#000000",
           "#107be6",
           "#000000",
           "#000000",
           "#000000",
           "#000000",
           "#000000",
           "#000000",
           "#000000",
           "#000000",
           "#000000",
           "#000000",
           "#000000",
           "#000000",
           "#000000",
           "#107be6",
           "#000000",
           "#000000",
           "#000000",
           "#000000",
           "#000000",
           "#107be6",
           "#000000",
           "#000000",
           "#000000",
           "#000000",
           "#000000",
           "#000000",
           "#000000",
           "#000000",
           "#000000",
           "#000000",
           "#000000",
           "#000000",
           "#000000",
           "#000000",
           "#000000",
           "#000000",
           "#000000",
           "#000000",
           "#000000",
           "#000000",
           "#000000",
           "#000000",
           "#000000",
           "#000000",
           "#000000",
           "#000000",
           "#000000",
           "#000000",
           "#000000",
           "#000000",
           "#000000",
           "#000000",
           "#000000",
           "#000000",
           "#000000",
           "#000000",
           "#000000",
           "#000000",
           "#000000",
           "#000000",
           "#000000",
           "#000000",
           "#000000",
           "#000000",
           "#000000",
           "#000000",
           "#000000",
           "#000000",
           "#000000",
           "#000000",
           "#000000",
           "#107be6",
           "#000000",
           "#000000",
           "#000000",
           "#000000",
           "#000000",
           "#000000",
           "#000000",
           "#000000",
           "#000000",
           "#000000",
           "#000000",
           "#000000",
           "#000000",
           "#000000",
           "#000000",
           "#000000",
           "#000000",
           "#000000",
           "#000000",
           "#000000",
           "#000000",
           "#000000",
           "#000000",
           "#000000",
           "#000000",
           "#000000",
           "#000000",
           "#000000",
           "#000000",
           "#000000",
           "#000000",
           "#000000",
           "#000000",
           "#000000",
           "#000000",
           "#000000",
           "#000000",
           "#000000",
           "#000000",
           "#000000",
           "#000000",
           "#000000",
           "#107be6",
           "#000000",
           "#000000",
           "#000000",
           "#000000",
           "#000000",
           "#000000",
           "#000000",
           "#000000",
           "#000000",
           "#000000",
           "#000000",
           "#000000",
           "#000000",
           "#000000",
           "#000000",
           "#000000",
           "#107be6",
           "#107be6",
           "#000000",
           "#000000",
           "#000000",
           "#000000",
           "#000000",
           "#000000",
           "#000000",
           "#000000",
           "#000000",
           "#000000",
           "#000000",
           "#000000",
           "#000000",
           "#000000",
           "#000000",
           "#000000",
           "#000000",
           "#000000",
           "#000000",
           "#000000",
           "#000000",
           "#000000",
           "#107be6",
           "#000000",
           "#000000",
           "#000000",
           "#000000",
           "#000000",
           "#107be6",
           "#000000",
           "#000000",
           "#000000",
           "#000000",
           "#000000",
           "#000000",
           "#000000",
           "#000000",
           "#000000",
           "#000000",
           "#000000",
           "#000000",
           "#000000",
           "#000000",
           "#000000",
           "#000000",
           "#000000",
           "#000000",
           "#000000",
           "#000000",
           "#000000",
           "#000000",
           "#000000",
           "#000000",
           "#107be6",
           "#000000",
           "#000000",
           "#000000",
           "#107be6",
           "#000000",
           "#000000",
           "#000000",
           "#000000",
           "#000000",
           "#000000",
           "#000000",
           "#000000",
           "#000000",
           "#000000",
           "#000000",
           "#000000",
           "#000000",
           "#000000",
           "#000000",
           "#000000",
           "#000000",
           "#000000",
           "#000000",
           "#000000",
           "#000000",
           "#000000",
           "#000000",
           "#000000",
           "#000000",
           "#000000",
           "#000000",
           "#000000",
           "#000000",
           "#000000",
           "#000000",
           "#000000",
           "#000000",
           "#000000",
           "#000000",
           "#107be6",
           "#107be6",
           "#000000",
           "#000000",
           "#000000",
           "#000000",
           "#000000",
           "#107be6",
           "#000000",
           "#000000",
           "#000000",
           "#000000",
           "#107be6",
           "#000000",
           "#000000",
           "#000000",
           "#000000",
           "#000000",
           "#000000",
           "#000000",
           "#000000",
           "#000000",
           "#000000",
           "#000000",
           "#000000",
           "#000000",
           "#000000",
           "#000000",
           "#000000",
           "#000000",
           "#000000",
           "#000000",
           "#000000",
           "#000000",
           "#000000",
           "#000000",
           "#107be6",
           "#000000",
           "#000000",
           "#000000",
           "#000000",
           "#107be6",
           "#000000",
           "#000000",
           "#000000",
           "#000000",
           "#000000",
           "#000000",
           "#000000",
           "#000000",
           "#000000",
           "#000000",
           "#000000",
           "#000000",
           "#000000",
           "#000000",
           "#000000",
           "#000000",
           "#000000",
           "#000000",
           "#000000",
           "#000000",
           "#000000",
           "#000000",
           "#000000",
           "#000000",
           "#000000",
           "#000000",
           "#000000",
           "#000000",
           "#000000",
           "#000000",
           "#000000",
           "#000000",
           "#000000",
           "#000000",
           "#000000",
           "#000000",
           "#000000",
           "#000000",
           "#000000",
           "#000000",
           "#000000",
           "#000000",
           "#000000",
           "#107be6",
           "#107be6",
           "#000000",
           "#000000",
           "#000000",
           "#000000",
           "#000000",
           "#000000",
           "#000000",
           "#000000",
           "#000000",
           "#000000",
           "#000000",
           "#000000",
           "#000000",
           "#000000",
           "#000000",
           "#000000",
           "#000000",
           "#000000",
           "#000000",
           "#000000",
           "#000000",
           "#000000",
           "#000000",
           "#000000",
           "#000000",
           "#000000",
           "#000000",
           "#000000",
           "#000000",
           "#000000",
           "#000000",
           "#000000",
           "#000000",
           "#000000",
           "#000000",
           "#000000",
           "#000000",
           "#000000",
           "#000000",
           "#000000",
           "#000000",
           "#000000",
           "#000000",
           "#000000",
           "#000000",
           "#000000",
           "#000000",
           "#000000",
           "#000000",
           "#000000",
           "#000000",
           "#107be6",
           "#000000",
           "#107be6",
           "#107be6",
           "#000000",
           "#000000",
           "#000000",
           "#000000",
           "#000000",
           "#000000",
           "#000000",
           "#000000",
           "#000000",
           "#000000",
           "#000000",
           "#000000",
           "#000000",
           "#107be6",
           "#000000",
           "#000000",
           "#000000",
           "#000000",
           "#000000",
           "#000000",
           "#000000",
           "#000000",
           "#000000",
           "#107be6",
           "#000000",
           "#000000",
           "#000000",
           "#000000",
           "#000000",
           "#107be6",
           "#000000",
           "#107be6",
           "#000000",
           "#000000",
           "#000000",
           "#000000",
           "#000000",
           "#000000",
           "#107be6",
           "#000000",
           "#000000",
           "#000000",
           "#107be6",
           "#000000",
           "#000000",
           "#000000",
           "#107be6",
           "#000000",
           "#000000",
           "#000000",
           "#000000",
           "#000000",
           "#000000",
           "#000000",
           "#000000",
           "#107be6",
           "#107be6",
           "#000000",
           "#000000",
           "#000000",
           "#000000",
           "#000000",
           "#000000",
           "#000000",
           "#000000",
           "#000000",
           "#000000",
           "#000000",
           "#000000",
           "#000000",
           "#000000",
           "#000000",
           "#000000",
           "#000000",
           "#000000",
           "#000000",
           "#000000",
           "#000000",
           "#000000",
           "#000000",
           "#000000",
           "#000000",
           "#000000",
           "#000000",
           "#000000",
           "#000000",
           "#000000",
           "#000000",
           "#000000",
           "#000000",
           "#000000",
           "#000000",
           "#107be6",
           "#000000",
           "#000000",
           "#000000",
           "#000000",
           "#000000",
           "#000000",
           "#107be6",
           "#000000",
           "#000000",
           "#000000",
           "#000000",
           "#000000",
           "#000000",
           "#000000",
           "#000000",
           "#000000",
           "#000000",
           "#000000",
           "#000000",
           "#000000",
           "#107be6",
           "#000000",
           "#000000",
           "#000000",
           "#000000",
           "#000000",
           "#107be6",
           "#000000",
           "#000000",
           "#000000",
           "#107be6",
           "#000000",
           "#000000",
           "#107be6",
           "#000000",
           "#000000",
           "#000000",
           "#000000",
           "#000000",
           "#000000",
           "#000000",
           "#000000",
           "#000000",
           "#000000",
           "#000000",
           "#000000",
           "#000000",
           "#000000",
           "#000000",
           "#107be6",
           "#000000",
           "#000000",
           "#000000",
           "#000000",
           "#000000",
           "#000000",
           "#000000",
           "#000000",
           "#000000",
           "#000000",
           "#000000",
           "#000000",
           "#000000",
           "#000000",
           "#000000",
           "#000000",
           "#000000",
           "#000000",
           "#107be6",
           "#000000",
           "#000000",
           "#000000",
           "#107be6",
           "#000000",
           "#000000",
           "#000000",
           "#000000",
           "#000000",
           "#000000",
           "#000000",
           "#000000"
          ],
          "line": {
           "width": 1
          },
          "size": 8
         },
         "mode": "markers",
         "type": "scattergl",
         "x": [
          0.07293117791414261,
          0.7039849162101746,
          0.931801438331604,
          0.5691252946853638,
          0.3043692708015442,
          0.37884217500686646,
          0.809209942817688,
          0.19886717200279236,
          0.16964824497699738,
          0.2718692421913147,
          0.982602596282959,
          0.9386250376701355,
          0.03677849471569061,
          0.2543323040008545,
          0.4086643159389496,
          0.05769263580441475,
          0.18265576660633087,
          0.35430580377578735,
          0.9210480451583862,
          0.8391133546829224,
          0.6821926236152649,
          0.030336275696754456,
          0.6283118724822998,
          0.6111611723899841,
          0.7220880389213562,
          0.13035942614078522,
          0.27054616808891296,
          0.5492821335792542,
          0.4760971963405609,
          0.9812551736831665,
          0.9857444167137146,
          0.7154220938682556,
          0.833222508430481,
          0.18124784529209137,
          0.5061992406845093,
          0.912513256072998,
          0.08260887861251831,
          0.7742741107940674,
          0.4460609257221222,
          0.6454785466194153,
          0.2604883015155792,
          0.19125397503376007,
          0.8223180770874023,
          0.2548542022705078,
          0.06136680394411087,
          0.9535922408103943,
          0.6229004859924316,
          0.21546520292758942,
          0.664220929145813,
          0.868268609046936,
          0.10043438524007797,
          0.19172675907611847,
          0.27068501710891724,
          0.33692073822021484,
          0.6913593411445618,
          0.9950982332229614,
          0.8835618495941162,
          0.5282618403434753,
          0.3464466631412506,
          0.5727983713150024,
          0.27872681617736816,
          0.6066524386405945,
          0.5073263645172119,
          0.14117096364498138,
          0.6236091256141663,
          0.44248539209365845,
          0.2392139732837677,
          0.341365247964859,
          0.03822695091366768,
          0.042348384857177734,
          0.07608304917812347,
          0.2404921054840088,
          0.0655314028263092,
          0.581505537033081,
          0.05158266797661781,
          0.0979323759675026,
          0.04843003302812576,
          0.8681973814964294,
          0.7832409143447876,
          0.15255799889564514,
          0.7741193771362305,
          0.3475211262702942,
          0.07454723119735718,
          0.2701418995857239,
          0.5436159372329712,
          0.12421905249357224,
          0.8069401979446411,
          0.5369848012924194,
          0.6040866374969482,
          0.13031168282032013,
          0.7810391783714294,
          0.34294766187667847,
          0.3105330765247345,
          0.6980128884315491,
          0.7325194478034973,
          0.6037368178367615,
          0.19288185238838196,
          0.7251060009002686,
          0.9007706046104431,
          0.017463261261582375,
          0.28914743661880493,
          0.5394155383110046,
          0.6077024936676025,
          0.6212901473045349,
          0.7147647738456726,
          0.44723379611968994,
          0.28479576110839844,
          0.43475106358528137,
          0.11911876499652863,
          0.6938514709472656,
          0.3266421854496002,
          0.3431510329246521,
          0.11892399936914444,
          0.07875503599643707,
          0.24796701967716217,
          0.017455562949180603,
          0.2985154986381531,
          0.6855807900428772,
          0.1367407739162445,
          0.6387676000595093,
          0.3024364709854126,
          0.517087459564209,
          0.3441350758075714,
          0.29225754737854004,
          0.6583549976348877,
          0.6079154014587402,
          0.9036331176757812,
          0.8888798952102661,
          0.7862184047698975,
          0.9533740282058716,
          0.0067802234552800655,
          0.9634285569190979,
          0.20618808269500732,
          0.20020052790641785,
          0.5782110691070557,
          0.2755652666091919,
          0.7104383707046509,
          0.5883558392524719,
          0.4136713445186615,
          0.1526137888431549,
          0.4268963038921356,
          0.8176313638687134,
          0.7314897179603577,
          0.45035481452941895,
          0.28714001178741455,
          0.4023907482624054,
          0.01045279297977686,
          0.8178924322128296,
          0.46177294850349426,
          0.1782466471195221,
          0.5868855118751526,
          0.8569652438163757,
          0.3093782961368561,
          0.2993301749229431,
          0.885564386844635,
          0.8423578143119812,
          0.33287522196769714,
          0.196201354265213,
          0.7818734049797058,
          0.5851160287857056,
          0.44496607780456543,
          0.7679492235183716,
          0.9950801730155945,
          0.0656181052327156,
          0.29351702332496643,
          0.6742362976074219,
          0.7124500274658203,
          0.9285814166069031,
          0.8613961338996887,
          0.6425043344497681,
          0.3941476047039032,
          0.7865979075431824,
          0.7480014562606812,
          0.8150458335876465,
          0.5235260128974915,
          0.37376224994659424,
          0.1661851406097412,
          0.7314776182174683,
          0.5463804006576538,
          0.7204969525337219,
          0.2618087828159332,
          0.8453879952430725,
          0.022838640958070755,
          0.9293103218078613,
          0.030361799523234367,
          0.4575088322162628,
          0.9396945834159851,
          0.6856744885444641,
          0.7829354405403137,
          0.8870524764060974,
          0.2833520174026489,
          0.4049499034881592,
          0.9686937928199768,
          0.6566489338874817,
          0.161015585064888,
          0.7539392113685608,
          0.7226113080978394,
          0.4166320860385895,
          0.49498245120048523,
          0.8834202885627747,
          0.07909104228019714,
          0.686886191368103,
          0.7328574061393738,
          0.8601850271224976,
          0.9151239991188049,
          0.5870656967163086,
          0.24824443459510803,
          0.7489044666290283,
          0.22327515482902527,
          0.6283131837844849,
          0.9680742025375366,
          0.6994906067848206,
          0.9242969751358032,
          0.009993970394134521,
          0.5190115571022034,
          0.8020312190055847,
          0.18046684563159943,
          0.4624398648738861,
          0.3166092336177826,
          0.9821622371673584,
          0.7033612132072449,
          0.42902931571006775,
          0.42856118083000183,
          0.760776162147522,
          0.697255551815033,
          0.6557417511940002,
          0.8083268404006958,
          0.7115772366523743,
          0.6767264008522034,
          0.542614221572876,
          0.1052718460559845,
          0.07286672294139862,
          0.3998125493526459,
          0.9388561844825745,
          0.21354442834854126,
          0.30542072653770447,
          0.5484136343002319,
          0.268034964799881,
          0.9411027431488037,
          0.13358886539936066,
          0.709672212600708,
          0.5072104334831238,
          0.27893760800361633,
          0.3240806758403778,
          0.8078529834747314,
          0.6208258271217346,
          0.8431504964828491,
          0.05409716069698334,
          0.469279021024704,
          0.1318323165178299,
          0.5497855544090271,
          0.5974797010421753,
          0.5578300952911377,
          0.21432127058506012,
          0.2416342794895172,
          0.5145339965820312,
          0.9527837634086609,
          0.010524611920118332,
          0.5626683831214905,
          0.22075678408145905,
          0.6963537931442261,
          0.37471911311149597,
          0.688102662563324,
          0.48939067125320435,
          0.4817191958427429,
          0.2706001400947571,
          0.5397505164146423,
          0.4269859492778778,
          0.7578432559967041,
          0.09039711207151413,
          0.41236838698387146,
          0.9660898447036743,
          0.009188697673380375,
          0.9645763635635376,
          0.27797019481658936,
          0.7369351387023926,
          0.23920944333076477,
          0.9712615609169006,
          0.26631036400794983,
          0.08988834172487259,
          0.2612265348434448,
          0.804632306098938,
          0.7722235918045044,
          0.9802181124687195,
          0.705091118812561,
          0.7073186039924622,
          0.10953275859355927,
          0.5271554589271545,
          0.6552994251251221,
          0.6774746179580688,
          0.45909276604652405,
          0.8783501982688904,
          0.8443154692649841,
          0.05450937896966934,
          0.5100937485694885,
          0.6938597559928894,
          0.7438006401062012,
          0.09611543267965317,
          0.5209252834320068,
          0.48688048124313354,
          0.9706009030342102,
          0.2897850275039673,
          0.5439746975898743,
          0.18499088287353516,
          0.19793002307415009,
          0.1054673045873642,
          0.6665888428688049,
          0.7834973335266113,
          0.08616312593221664,
          0.1486324816942215,
          0.09174486994743347,
          0.006159162148833275,
          0.7179872989654541,
          0.2658243775367737,
          0.6274234056472778,
          0.032796379178762436,
          0.6684962511062622,
          0.9669575691223145,
          0.6150668859481812,
          0.9239086508750916,
          0.5257600545883179,
          0.9115270972251892,
          0.9589328765869141,
          0.7110912203788757,
          0.1521168351173401,
          0.542349100112915,
          0.4437842071056366,
          0.06176556646823883,
          0.8112418055534363,
          0.4737967550754547,
          0.9035263657569885,
          0.5214764475822449,
          0.7230420708656311,
          0.5483383536338806,
          0.9116828441619873,
          0.6808767914772034,
          0.3301878273487091,
          0.8659422397613525,
          0.9388024210929871,
          0.4760971665382385,
          0.6049365401268005,
          0.639008104801178,
          0.7247529029846191,
          0.1628236174583435,
          0.5792702436447144,
          0.5974354147911072,
          0.09539978951215744,
          0.5308294892311096,
          0.8049639463424683,
          0.09249965846538544,
          0.15171773731708527,
          0.23531313240528107,
          0.08868295699357986,
          0.4685594439506531,
          0.6096104383468628,
          0.8289695382118225,
          0.22227875888347626,
          0.744438648223877,
          0.26659414172172546,
          0.2209007740020752,
          0.6513875126838684,
          0.3639090061187744,
          0.36375749111175537,
          0.9340864419937134,
          0.996374785900116,
          0.6061996221542358,
          0.7873848080635071,
          0.7446613907814026,
          0.6613908410072327,
          0.5660727620124817,
          0.22995513677597046,
          0.6665454506874084,
          0.7331635355949402,
          0.16023030877113342,
          0.49254554510116577,
          0.735462486743927,
          0.4659290313720703,
          0.5751445889472961,
          0.35828298330307007,
          0.6090369820594788,
          0.4053637385368347,
          0.2803668975830078,
          0.4823989272117615,
          0.4552482068538666,
          0.3444572389125824,
          0.9057826399803162,
          0.9048545956611633,
          0.7758944034576416,
          0.16380199790000916,
          0.6668270826339722,
          0.3229692876338959,
          0.7925739884376526,
          0.36851564049720764,
          0.46805837750434875,
          0.7230603694915771,
          0.3052053153514862,
          0.42625564336776733,
          0.7463298439979553,
          0.10426601767539978,
          0.898362398147583,
          0.2116537243127823,
          0.5075681209564209,
          0.6365115642547607,
          0.972025454044342,
          0.5499528646469116,
          0.6710385084152222,
          0.8083047866821289,
          0.2449370175600052,
          0.4003163278102875,
          0.40054580569267273,
          0.4664418399333954,
          0.6554207801818848,
          0.43728259205818176,
          0.12116431444883347,
          0.8996476531028748,
          0.8556737899780273,
          0.44647952914237976,
          0.7906101942062378,
          0.20174062252044678,
          0.003788951551541686,
          0.4171616733074188,
          0.027157986536622047,
          0.009226803667843342,
          0.0730924978852272,
          0.5767074823379517,
          0.8244009017944336,
          0.8358270525932312,
          0.6421829462051392,
          0.8710607290267944,
          0.36881691217422485,
          0.007216425146907568,
          0.6259392499923706,
          0.13033394515514374,
          0.5828037858009338,
          0.18280622363090515,
          0.6426719427108765,
          0.4210644066333771,
          0.7424083352088928,
          0.514175295829773,
          0.018117137253284454,
          0.8314588069915771,
          0.9857867360115051,
          0.7110656499862671,
          0.14694912731647491,
          0.51434725522995,
          0.49249038100242615,
          0.33015188574790955,
          0.23927852511405945,
          0.5909917950630188,
          0.8152745366096497,
          0.09728842228651047,
          0.13182374835014343,
          0.5294198393821716,
          0.9191186428070068,
          0.2048867642879486,
          0.9959636330604553,
          0.22522594034671783,
          0.673102617263794,
          0.9895837903022766,
          0.2792825996875763,
          0.4934210479259491,
          0.3069920539855957,
          0.829862117767334,
          0.7327216863632202,
          0.26044178009033203,
          0.2675245404243469,
          0.5527187585830688,
          0.3120396137237549,
          0.13373184204101562,
          0.7437469959259033,
          0.44898006319999695,
          0.31636717915534973,
          0.9923645853996277,
          0.861233115196228,
          0.6802449226379395,
          0.3017019033432007,
          0.31587642431259155,
          0.5537923574447632,
          0.2777462899684906,
          0.45234304666519165,
          0.025941792875528336,
          0.34661275148391724,
          0.21547065675258636,
          0.3003765344619751,
          0.20914453268051147,
          0.9203370213508606,
          0.10637816041707993,
          0.5975174307823181,
          0.2768997550010681,
          0.1627233773469925,
          0.6359803080558777,
          0.220235213637352,
          0.8746578693389893,
          0.3581344783306122,
          0.10090144723653793,
          0.3494279682636261,
          0.18224120140075684,
          0.6304723620414734,
          0.2386309653520584,
          0.717514157295227,
          0.4218693971633911,
          0.2550572156906128,
          0.25031936168670654,
          0.9898263812065125,
          0.2641837000846863,
          0.9906688928604126,
          0.48725903034210205,
          0.6692140102386475,
          0.8142348527908325,
          0.15271185338497162,
          0.6931230425834656,
          0.298348993062973,
          0.8173415660858154,
          0.8639004826545715,
          0.49069541692733765,
          0.9019935131072998,
          0.8393089175224304,
          0.6033838391304016,
          0.11203467100858688,
          0.9637556076049805,
          0.8967828750610352,
          0.8942954540252686,
          0.30603769421577454,
          0.742338240146637,
          0.9000940322875977,
          0.3131215274333954,
          0.2027883529663086,
          0.6676256060600281,
          0.5423852205276489,
          0.16094909608364105,
          0.30018725991249084,
          0.9992673397064209,
          0.3543585538864136,
          0.9539052844047546,
          0.41125744581222534,
          0.4180437922477722,
          0.43473055958747864,
          0.25499722361564636,
          0.5678903460502625,
          0.5351327061653137,
          0.6609811782836914,
          0.3470461666584015,
          0.16167396306991577,
          0.3708462417125702,
          0.3867781162261963,
          0.6472386121749878,
          0.05309188365936279,
          0.23380021750926971,
          0.9104712009429932,
          0.48780906200408936,
          0.19529449939727783,
          0.390489399433136,
          0.3421109616756439,
          0.3224586844444275,
          0.11912716925144196,
          0.8527994751930237,
          0.6177396178245544,
          0.9353986382484436,
          0.273470401763916,
          0.7747628688812256,
          0.6476385593414307,
          0.4213493764400482,
          0.40528005361557007,
          0.09712449461221695,
          0.9714114665985107,
          0.6855834126472473,
          0.8517173528671265,
          0.5480067133903503,
          0.7283123135566711,
          0.3805014193058014,
          0.15918226540088654,
          0.3608105480670929,
          0.9290707111358643,
          0.5211465954780579,
          0.2504049837589264,
          0.2053690403699875,
          0.24143804609775543,
          0.8478296995162964,
          0.5696626901626587,
          0.8851790428161621,
          0.44391897320747375,
          0.9569575786590576,
          0.901437520980835,
          0.009364954195916653,
          0.9020664095878601,
          0.6332467794418335,
          0.039353903383016586,
          0.21532906591892242,
          0.15524375438690186,
          0.5014097094535828,
          0.804520845413208,
          0.8584048748016357,
          0.8693476319313049,
          0.19236387312412262,
          0.6886407136917114,
          0.23094749450683594,
          0.05030957981944084,
          0.34151777625083923,
          0.19056563079357147,
          0.6576730608940125,
          0.746809184551239,
          0.5653786659240723,
          0.8320872783660889,
          0.5298361778259277,
          0.04588327184319496,
          0.4935830533504486,
          0.11378465592861176,
          0.8493874073028564,
          0.06273538619279861,
          0.564993679523468,
          0.591224193572998,
          0.2814908027648926,
          0.271624892950058,
          0.26842692494392395,
          0.660733699798584,
          0.9492083787918091,
          0.7423739433288574,
          0.8067482709884644,
          0.022867528721690178,
          0.4427506923675537,
          0.2303985059261322,
          0.8822914958000183,
          0.9865484237670898,
          0.12662582099437714,
          0.6992025971412659,
          0.43852195143699646,
          0.10754048824310303,
          0.4340633451938629,
          0.9072867035865784,
          0.8322969079017639,
          0.02191220410168171,
          0.978903591632843,
          0.3076225519180298,
          0.8835943341255188,
          0.10281021147966385,
          0.20855578780174255,
          0.5451078414916992,
          0.7068064212799072,
          0.8895578384399414,
          0.12961436808109283,
          0.6735405921936035,
          0.19496621191501617,
          0.11855419725179672,
          0.300432950258255,
          0.9306754469871521,
          0.5148799419403076,
          0.605262041091919,
          0.04237682744860649,
          0.1685430109500885,
          0.0965760126709938,
          0.0636991411447525,
          0.21987797319889069,
          0.22615087032318115,
          0.9091476202011108,
          0.028155341744422913,
          0.11893855035305023,
          0.16244250535964966,
          0.8297252058982849,
          0.00428256718441844,
          0.8071006536483765,
          0.06067084148526192,
          0.1429382711648941,
          0.27413085103034973,
          0.6038833260536194,
          0.7913283109664917,
          0.25519537925720215,
          0.9035645723342896,
          0.8842065334320068,
          0.5623200535774231,
          0.5511165857315063,
          0.1598396748304367,
          0.3275134861469269,
          0.7869778871536255,
          0.18082880973815918,
          0.027757376432418823,
          0.8147003054618835,
          0.6455848813056946,
          0.4213424623012543,
          0.8946775794029236,
          0.8482093811035156,
          0.021144559606909752,
          0.5128595232963562,
          0.5155540108680725,
          0.0406193807721138,
          0.823782205581665,
          0.7802153825759888,
          0.6756320595741272,
          0.23510296642780304,
          0.7060776948928833,
          0.2676929533481598,
          0.7522110939025879,
          0.06493077427148819,
          0.9336130619049072,
          0.9259163737297058,
          0.4989359974861145,
          0.10498128086328506,
          0.8304232954978943,
          0.4441273808479309,
          0.6139403581619263,
          0.4412229061126709,
          0.44581204652786255,
          0.24933616816997528,
          0.46535176038742065,
          0.6869925856590271,
          0.6615166664123535,
          0.32611677050590515,
          0.9786837100982666,
          0.7705209851264954,
          0.3649803102016449,
          0.5834895968437195,
          0.9388992786407471,
          0.6537362933158875,
          0.6217292547225952,
          0.11400165408849716,
          0.8605000972747803,
          0.12689250707626343,
          0.2817017734050751,
          0.5489649772644043,
          0.7078151702880859,
          0.3540553152561188,
          0.36872926354408264,
          0.4188392162322998,
          0.2067819982767105,
          0.9610236883163452,
          0.8092940449714661,
          0.6362404227256775,
          0.6542789936065674,
          0.6409347653388977,
          0.3893873691558838,
          0.015752650797367096,
          0.12536704540252686,
          0.10335071384906769,
          0.9934402108192444,
          0.535808265209198,
          0.3901520073413849,
          0.2603057026863098,
          0.23734433948993683,
          0.24131529033184052,
          0.891374945640564,
          0.48786547780036926,
          0.9077116250991821,
          0.31190225481987,
          0.08735064417123795,
          0.30741241574287415,
          0.6394867897033691,
          0.05710180848836899,
          0.8449558615684509,
          0.5654892921447754,
          0.9432915449142456,
          0.42989665269851685,
          0.2650794982910156,
          0.15759116411209106,
          0.5013824701309204,
          0.9210413098335266,
          0.3665904998779297,
          0.74254310131073,
          0.4640354514122009,
          0.9714610576629639,
          0.47099626064300537,
          0.3890298902988434,
          0.8756682276725769,
          0.6463271975517273
         ],
         "y": [
          0.4793883264064789,
          0.23027314245700836,
          0.5184409022331238,
          0.1434451788663864,
          0.47869792580604553,
          0.8147547841072083,
          0.14046691358089447,
          0.7748035788536072,
          0.5847124457359314,
          0.48011088371276855,
          0.2772316634654999,
          0.9574994444847107,
          0.9936811327934265,
          0.4477144479751587,
          0.3621261417865753,
          0.009985142387449741,
          0.4460257291793823,
          0.0780104547739029,
          0.681963324546814,
          0.2990989685058594,
          0.6740603446960449,
          0.02969018742442131,
          0.36206263303756714,
          0.5762732625007629,
          0.8100358843803406,
          0.20732364058494568,
          0.04672786965966225,
          0.265880286693573,
          0.566075325012207,
          0.4375913739204407,
          0.14830780029296875,
          0.40188392996788025,
          0.45207250118255615,
          0.8309138417243958,
          0.37315547466278076,
          0.3906978368759155,
          0.1305074244737625,
          0.5690159201622009,
          0.025963069871068,
          0.01748211868107319,
          0.46633678674697876,
          0.9430637955665588,
          0.9231202006340027,
          0.43847450613975525,
          0.7171312570571899,
          0.7105864882469177,
          0.8484976291656494,
          0.5886916518211365,
          0.4501104950904846,
          0.28348907828330994,
          0.5451368689537048,
          0.8325971364974976,
          0.5071775317192078,
          0.3926558792591095,
          0.18200741708278656,
          0.2590755820274353,
          0.4174003601074219,
          0.6983479857444763,
          0.7880702018737793,
          0.2112901657819748,
          0.4856356382369995,
          0.6471844911575317,
          0.4508726894855499,
          0.5059604644775391,
          0.8615037798881531,
          0.9572936296463013,
          0.5509072542190552,
          0.2564842104911804,
          0.132366344332695,
          0.5137543082237244,
          0.1365046501159668,
          0.47534024715423584,
          0.22383680939674377,
          0.20331422984600067,
          0.1886032521724701,
          0.748371422290802,
          0.24130386114120483,
          0.9012260437011719,
          0.9116600155830383,
          0.5592805743217468,
          0.1206788495182991,
          0.4190945625305176,
          0.34153440594673157,
          0.13052211701869965,
          0.8037217259407043,
          0.20814616978168488,
          0.008803833276033401,
          0.40051907300949097,
          0.6708864569664001,
          0.9209095239639282,
          0.5053501129150391,
          0.2597651183605194,
          0.8027141690254211,
          0.8747133612632751,
          0.8703819513320923,
          0.12893743813037872,
          0.5290423631668091,
          0.6959071755409241,
          0.6463307738304138,
          0.6128932237625122,
          0.8870672583580017,
          0.1845625787973404,
          0.025941068306565285,
          0.35683366656303406,
          0.9587607383728027,
          0.6446231007575989,
          0.6419903039932251,
          0.47162047028541565,
          0.7354016304016113,
          0.2275884598493576,
          0.057237427681684494,
          0.5091053247451782,
          0.3045666217803955,
          0.927574098110199,
          0.04639594629406929,
          0.23236465454101562,
          0.0464739128947258,
          0.1390732377767563,
          0.0881347507238388,
          0.662317156791687,
          0.12850503623485565,
          0.08943101018667221,
          0.554015040397644,
          0.024440947920084,
          0.1626376360654831,
          0.889258623123169,
          0.7973167300224304,
          0.6760756969451904,
          0.007827553898096085,
          0.30268898606300354,
          0.3221316635608673,
          0.7564778327941895,
          0.831110417842865,
          0.048619989305734634,
          0.022018224000930786,
          0.522325873374939,
          0.8064296245574951,
          0.3832472264766693,
          0.9902887344360352,
          0.4687170088291168,
          0.3526017963886261,
          0.8166991472244263,
          0.9280707836151123,
          0.6283848881721497,
          0.10241106152534485,
          0.3778719902038574,
          0.9925180673599243,
          0.7954057455062866,
          0.9223251342773438,
          0.11279375851154327,
          0.8264986276626587,
          0.5634185075759888,
          0.5310360193252563,
          0.12383632361888885,
          0.7476477026939392,
          0.7606645226478577,
          0.25145813822746277,
          0.2516557574272156,
          0.18226011097431183,
          0.6091163158416748,
          0.9492318034172058,
          0.2100306749343872,
          0.5712705850601196,
          0.2571299374103546,
          0.8590925931930542,
          0.47694918513298035,
          0.38893893361091614,
          0.27048566937446594,
          0.5749999284744263,
          0.2879805862903595,
          0.23021776974201202,
          0.3577098250389099,
          0.2943095862865448,
          0.776185154914856,
          0.4669438302516937,
          0.37777864933013916,
          0.28520289063453674,
          0.9541746377944946,
          0.31697767972946167,
          0.17706520855426788,
          0.3548019230365753,
          0.5950333476066589,
          0.8254153728485107,
          0.14916293323040009,
          0.284953773021698,
          0.3449971377849579,
          0.8663203716278076,
          0.041554518043994904,
          0.598920464515686,
          0.4800007939338684,
          0.607707142829895,
          0.5708804130554199,
          0.8527503609657288,
          0.8621935844421387,
          0.7885681986808777,
          0.24132715165615082,
          0.7032362222671509,
          0.8825346827507019,
          0.7301805019378662,
          0.6742347478866577,
          0.8827905654907227,
          0.6341197490692139,
          0.020426250994205475,
          0.3932510316371918,
          0.2732889950275421,
          0.2130855917930603,
          0.5281815528869629,
          0.2710351049900055,
          0.4437815248966217,
          0.43186071515083313,
          0.13620410859584808,
          0.5704512000083923,
          0.4479116201400757,
          0.046004392206668854,
          0.6973852515220642,
          0.8995245099067688,
          0.8838555216789246,
          0.46041905879974365,
          0.12015257030725479,
          0.7435712814331055,
          0.5784785151481628,
          0.6225030422210693,
          0.9394456744194031,
          0.4072771966457367,
          0.19377996027469635,
          0.8023435473442078,
          0.20300839841365814,
          0.8292791843414307,
          0.2380141317844391,
          0.25801339745521545,
          0.07554101198911667,
          0.5709065794944763,
          0.46140116453170776,
          0.143884539604187,
          0.4444177448749542,
          0.5409678816795349,
          0.07323763519525528,
          0.0020810833666473627,
          0.9081204533576965,
          0.6980350017547607,
          0.4082157015800476,
          0.523186206817627,
          0.5562653541564941,
          0.6970539093017578,
          0.19773748517036438,
          0.239152193069458,
          0.684107780456543,
          0.5377447009086609,
          0.9261056184768677,
          0.38468191027641296,
          0.5213611125946045,
          0.4325869679450989,
          0.7320091128349304,
          0.3018950819969177,
          0.24467335641384125,
          0.4334047734737396,
          0.7103796601295471,
          0.0060152108781039715,
          0.44986510276794434,
          0.17086640000343323,
          0.01662231981754303,
          0.24507416784763336,
          0.9888705611228943,
          0.10061725229024887,
          0.4346274137496948,
          0.17366823554039001,
          0.07422801107168198,
          0.9165792465209961,
          0.9053796529769897,
          0.5394368171691895,
          0.3075141906738281,
          0.5598728060722351,
          0.6977382898330688,
          0.9115824103355408,
          0.8185561895370483,
          0.2640984356403351,
          0.7581056952476501,
          0.47432541847229004,
          0.8931359052658081,
          0.4485476315021515,
          0.7289882898330688,
          0.5733250379562378,
          0.41332921385765076,
          0.7965412139892578,
          0.03111584484577179,
          0.6039894819259644,
          0.6045091152191162,
          0.3626784682273865,
          0.2802817225456238,
          0.19489191472530365,
          0.11685732752084732,
          0.4629024267196655,
          0.942646324634552,
          0.7252135872840881,
          0.7833890914916992,
          0.6173255443572998,
          0.9262742400169373,
          0.4786972105503082,
          0.7655325531959534,
          0.08886551111936569,
          0.8453694581985474,
          0.8059777021408081,
          0.6988767981529236,
          0.23005862534046173,
          0.3683583438396454,
          0.1829063445329666,
          0.9237476587295532,
          0.37673723697662354,
          0.015600989572703838,
          0.6316366791725159,
          0.061668798327445984,
          0.15965008735656738,
          0.2603873014450073,
          0.629175066947937,
          0.9152544736862183,
          0.11914670467376709,
          0.3490956723690033,
          0.5950005650520325,
          0.05351279303431511,
          0.16225780546665192,
          0.3636617362499237,
          0.012569285929203033,
          0.41574493050575256,
          0.3606400489807129,
          0.23612233996391296,
          0.18998554348945618,
          0.743512749671936,
          0.061845120042562485,
          0.6319705247879028,
          0.8331454992294312,
          0.019613487645983696,
          0.6203175187110901,
          0.08449665457010269,
          0.2914341986179352,
          0.03659318760037422,
          0.03834191709756851,
          0.40855321288108826,
          0.30480411648750305,
          0.9138306379318237,
          0.41740134358406067,
          0.5395365953445435,
          0.4415610730648041,
          0.6330242156982422,
          0.6914573311805725,
          0.3818216621875763,
          0.5150576233863831,
          0.24526157975196838,
          0.9711049795150757,
          0.2033414989709854,
          0.8860867023468018,
          0.8544511198997498,
          0.8219301104545593,
          0.912906289100647,
          0.4890204966068268,
          0.4364262819290161,
          0.9792983531951904,
          0.6245322227478027,
          0.15768814086914062,
          0.08045075088739395,
          0.2726285755634308,
          0.33489829301834106,
          0.44308748841285706,
          0.4329463839530945,
          0.683591902256012,
          0.6876592636108398,
          0.9138821959495544,
          0.40987640619277954,
          0.3356136381626129,
          0.09975838661193848,
          0.7193285226821899,
          0.6624197959899902,
          0.17145457863807678,
          0.0672500729560852,
          0.20902281999588013,
          0.46676352620124817,
          0.3955037593841553,
          0.9073949456214905,
          0.7928558588027954,
          0.6651905179023743,
          0.31522735953330994,
          0.05834312364459038,
          0.14655300974845886,
          0.5989057421684265,
          0.797096312046051,
          0.5256918668746948,
          0.2641553282737732,
          0.12441635131835938,
          0.9645553827285767,
          0.14716656506061554,
          0.6397733092308044,
          0.7871139049530029,
          0.34890204668045044,
          0.7743782997131348,
          0.6002578735351562,
          0.9832504391670227,
          0.5104793906211853,
          0.12353954464197159,
          0.9924412965774536,
          0.7312099933624268,
          0.12305456399917603,
          0.6790946125984192,
          0.3539017140865326,
          0.5718234777450562,
          0.5740498900413513,
          0.7187548279762268,
          0.517178475856781,
          0.7144234776496887,
          0.21335531771183014,
          0.06983596831560135,
          0.5089609622955322,
          0.7377488613128662,
          0.8547717332839966,
          0.4425699710845947,
          0.002034221775829792,
          0.8879117965698242,
          0.8741962909698486,
          0.30975791811943054,
          0.8271239399909973,
          0.4676843583583832,
          0.819857120513916,
          0.006484791170805693,
          0.5760071277618408,
          0.7768961787223816,
          0.46528303623199463,
          0.6437641382217407,
          0.12108081579208374,
          0.39250123500823975,
          0.32489386200904846,
          0.04917548596858978,
          0.12157180905342102,
          0.6033709049224854,
          0.22990833222866058,
          0.9250507354736328,
          0.2813105881214142,
          0.20643772184848785,
          0.8290209770202637,
          0.8576690554618835,
          0.5817837715148926,
          0.2708350718021393,
          0.7022542953491211,
          0.9181115627288818,
          0.7658610343933105,
          0.4716659486293793,
          0.5987687110900879,
          0.6089898347854614,
          0.9569603800773621,
          0.8419636487960815,
          0.2006034553050995,
          0.8862307071685791,
          0.996525764465332,
          0.7286191582679749,
          0.10038994997739792,
          0.4090898633003235,
          0.512662947177887,
          0.28136515617370605,
          0.034198321402072906,
          0.6610667109489441,
          0.5729731917381287,
          0.2675274908542633,
          0.23198719322681427,
          0.8303664922714233,
          0.7741144299507141,
          0.6627938747406006,
          0.24746835231781006,
          0.890661358833313,
          0.9281884431838989,
          0.09454482793807983,
          0.9114640355110168,
          0.3345170021057129,
          0.21863572299480438,
          0.6405199766159058,
          0.9461463093757629,
          0.6319944858551025,
          0.791810154914856,
          0.9905504584312439,
          0.6329956650733948,
          0.7502623200416565,
          0.2832096815109253,
          0.8072413206100464,
          0.30710840225219727,
          0.6564719080924988,
          0.29253408312797546,
          0.4138983190059662,
          0.5754393339157104,
          0.6443696022033691,
          0.43947649002075195,
          0.9513376355171204,
          0.09037003666162491,
          0.5496101379394531,
          0.7866907715797424,
          0.9657894372940063,
          0.8951765298843384,
          0.5382279753684998,
          0.779924213886261,
          0.21024325489997864,
          0.5948936939239502,
          0.2353748083114624,
          0.8672799468040466,
          0.6189432740211487,
          0.4500488042831421,
          0.6878867745399475,
          0.9837720394134521,
          0.7603886127471924,
          0.9276485443115234,
          0.7745242714881897,
          0.06836756318807602,
          0.768164873123169,
          0.3064473569393158,
          0.5225187540054321,
          0.3480551540851593,
          0.8543417453765869,
          0.06702214479446411,
          0.666367769241333,
          0.14240261912345886,
          0.5232279896736145,
          0.6267592906951904,
          0.2713569700717926,
          0.5943506360054016,
          0.6890478730201721,
          0.5973120927810669,
          0.19446781277656555,
          0.10928799211978912,
          0.15179169178009033,
          0.54859459400177,
          0.4002379775047302,
          0.5513376593589783,
          0.23913969099521637,
          0.10954011231660843,
          0.627467691898346,
          0.5785831212997437,
          0.6766389012336731,
          0.2909756302833557,
          0.8624551892280579,
          0.2703305780887604,
          0.7925571203231812,
          0.5096951723098755,
          0.4713374972343445,
          0.4588009715080261,
          0.8447869420051575,
          0.058790065348148346,
          0.9435147643089294,
          0.947212278842926,
          0.7216278910636902,
          0.19386571645736694,
          0.6892977952957153,
          0.6766103506088257,
          0.09115861356258392,
          0.6421271562576294,
          0.3901548981666565,
          0.4134295582771301,
          0.7851591110229492,
          0.6408081650733948,
          0.7583768367767334,
          0.7789006233215332,
          0.7902355790138245,
          0.7079917192459106,
          0.3884545862674713,
          0.07247896492481232,
          0.2914603054523468,
          0.8493409752845764,
          0.35855090618133545,
          0.30406883358955383,
          0.17564617097377777,
          0.3538587689399719,
          0.4791736900806427,
          0.840462863445282,
          0.8302371501922607,
          0.9136435985565186,
          0.48522043228149414,
          0.32045266032218933,
          0.7389870285987854,
          0.38436076045036316,
          0.8230574131011963,
          0.09790996462106705,
          0.3620513081550598,
          0.26672622561454773,
          0.2966683506965637,
          0.6940177083015442,
          0.1722274124622345,
          0.805231511592865,
          0.6921108961105347,
          0.4416434168815613,
          0.00777409179136157,
          0.8570823669433594,
          0.9990075826644897,
          0.8872196674346924,
          0.029802024364471436,
          0.8172560334205627,
          0.06221834570169449,
          0.9196719527244568,
          0.926283597946167,
          0.6441057324409485,
          0.5856478810310364,
          0.9435545206069946,
          0.6049558520317078,
          0.29867780208587646,
          0.9208126068115234,
          0.3481553792953491,
          0.9231480956077576,
          0.5684886574745178,
          0.4227779507637024,
          0.8866557478904724,
          0.3329014778137207,
          0.813056230545044,
          0.34148916602134705,
          0.43483656644821167,
          0.7386401295661926,
          0.49684640765190125,
          0.8368616700172424,
          0.43967050313949585,
          0.05044935271143913,
          0.833077609539032,
          0.8262171149253845,
          0.44399169087409973,
          0.2578464150428772,
          0.5123252868652344,
          0.8278796672821045,
          0.7068331241607666,
          0.23341600596904755,
          0.526875376701355,
          0.27691709995269775,
          0.16419294476509094,
          0.6679137349128723,
          0.9279562830924988,
          0.04651474952697754,
          0.050694745033979416,
          0.8697237372398376,
          0.11623741686344147,
          0.7904559969902039,
          0.6574407815933228,
          0.9501380920410156,
          0.7352607846260071,
          0.22935745120048523,
          0.16790322959423065,
          0.27487674355506897,
          0.8728055357933044,
          0.07023841142654419,
          0.5578750967979431,
          0.38957589864730835,
          0.8514474034309387,
          0.8608335852622986,
          0.4010249376296997,
          0.07933669537305832,
          0.05694599449634552,
          0.05846057087182999,
          0.9227717518806458,
          0.4270661473274231,
          0.29004383087158203,
          0.6868182420730591,
          0.10164432227611542,
          0.2846999168395996,
          0.1470804661512375,
          0.21601340174674988,
          0.8771250247955322,
          0.2353859543800354,
          0.9081544876098633,
          0.18360093235969543,
          0.6329551935195923,
          0.36922237277030945,
          0.49038267135620117,
          0.526569128036499,
          0.6153847575187683,
          0.08061998337507248,
          0.5438730120658875,
          0.10791761428117752,
          0.34412872791290283,
          0.46543607115745544,
          0.39567869901657104,
          0.7122883200645447,
          0.9505001306533813,
          0.33818915486335754,
          0.15658195316791534,
          0.5028001666069031,
          0.1451893448829651,
          0.16432254016399384,
          0.8724064826965332,
          0.9835445880889893,
          0.5676946640014648,
          0.6330384016036987,
          0.3290116488933563,
          0.006372575648128986,
          0.6059209704399109,
          0.4917318820953369,
          0.683742105960846,
          0.1736501306295395,
          0.3655143678188324,
          0.7507753968238831,
          0.1484983265399933,
          0.42263713479042053,
          0.05253412202000618,
          0.8591594696044922,
          0.46153759956359863,
          0.42656466364860535,
          0.30044692754745483,
          0.25375866889953613,
          0.10805436223745346,
          0.038620490580797195,
          0.0050231837667524815,
          0.8554712533950806,
          0.5574187636375427,
          0.3875442445278168,
          0.7661589980125427,
          0.49339163303375244,
          0.044700391590595245,
          0.7841885089874268,
          0.365181028842926,
          0.8062728047370911,
          0.8238486051559448,
          0.5065537691116333,
          0.38666635751724243,
          0.6037739515304565,
          0.08872393518686295,
          0.8132899403572083,
          0.45799964666366577,
          0.4711788594722748,
          0.6319238543510437,
          0.21259024739265442,
          0.15700021386146545,
          0.36715856194496155,
          0.908203125,
          0.4435192942619324,
          0.5955045819282532,
          0.04610732942819595,
          0.1805858016014099,
          0.05807791277766228,
          0.2567344307899475,
          0.8677533864974976,
          0.9073978662490845,
          0.3591020703315735,
          0.12225010991096497,
          0.4786054491996765,
          0.04228007048368454,
          0.21154507994651794,
          0.5404314398765564,
          0.7907525300979614,
          0.07892276346683502,
          0.3826008141040802,
          0.8359021544456482,
          0.9760767221450806,
          0.2537843883037567,
          0.08207947760820389,
          0.5534483194351196,
          0.9197586178779602,
          0.4526333808898926,
          0.6617842316627502,
          0.4697715640068054,
          0.6544399857521057,
          0.9469321966171265,
          0.6982786059379578,
          0.5848445296287537,
          0.555394172668457,
          0.1436251401901245,
          0.7304805517196655,
          0.28785815834999084,
          0.7080013155937195,
          0.9174681901931763,
          0.702333927154541,
          0.6378162503242493,
          0.5071500539779663,
          0.9634366631507874,
          0.9573646783828735,
          0.34035608172416687
         ]
        }
       ],
       "layout": {
        "annotations": [
         {
          "font": {
           "size": 14
          },
          "showarrow": false,
          "text": "#PFA (WIP)",
          "x": 0,
          "xanchor": "left",
          "xref": "paper",
          "y": -0.1,
          "yanchor": "bottom",
          "yref": "paper"
         }
        ],
        "autosize": false,
        "font": {
         "size": 12
        },
        "height": 900,
        "hovermode": "closest",
        "margin": {
         "b": 85,
         "l": 40,
         "r": 40,
         "t": 100
        },
        "showlegend": false,
        "template": {
         "data": {
          "bar": [
           {
            "error_x": {
             "color": "#2a3f5f"
            },
            "error_y": {
             "color": "#2a3f5f"
            },
            "marker": {
             "line": {
              "color": "#E5ECF6",
              "width": 0.5
             }
            },
            "type": "bar"
           }
          ],
          "barpolar": [
           {
            "marker": {
             "line": {
              "color": "#E5ECF6",
              "width": 0.5
             }
            },
            "type": "barpolar"
           }
          ],
          "carpet": [
           {
            "aaxis": {
             "endlinecolor": "#2a3f5f",
             "gridcolor": "white",
             "linecolor": "white",
             "minorgridcolor": "white",
             "startlinecolor": "#2a3f5f"
            },
            "baxis": {
             "endlinecolor": "#2a3f5f",
             "gridcolor": "white",
             "linecolor": "white",
             "minorgridcolor": "white",
             "startlinecolor": "#2a3f5f"
            },
            "type": "carpet"
           }
          ],
          "choropleth": [
           {
            "colorbar": {
             "outlinewidth": 0,
             "ticks": ""
            },
            "type": "choropleth"
           }
          ],
          "contour": [
           {
            "colorbar": {
             "outlinewidth": 0,
             "ticks": ""
            },
            "colorscale": [
             [
              0,
              "#0d0887"
             ],
             [
              0.1111111111111111,
              "#46039f"
             ],
             [
              0.2222222222222222,
              "#7201a8"
             ],
             [
              0.3333333333333333,
              "#9c179e"
             ],
             [
              0.4444444444444444,
              "#bd3786"
             ],
             [
              0.5555555555555556,
              "#d8576b"
             ],
             [
              0.6666666666666666,
              "#ed7953"
             ],
             [
              0.7777777777777778,
              "#fb9f3a"
             ],
             [
              0.8888888888888888,
              "#fdca26"
             ],
             [
              1,
              "#f0f921"
             ]
            ],
            "type": "contour"
           }
          ],
          "contourcarpet": [
           {
            "colorbar": {
             "outlinewidth": 0,
             "ticks": ""
            },
            "type": "contourcarpet"
           }
          ],
          "heatmap": [
           {
            "colorbar": {
             "outlinewidth": 0,
             "ticks": ""
            },
            "colorscale": [
             [
              0,
              "#0d0887"
             ],
             [
              0.1111111111111111,
              "#46039f"
             ],
             [
              0.2222222222222222,
              "#7201a8"
             ],
             [
              0.3333333333333333,
              "#9c179e"
             ],
             [
              0.4444444444444444,
              "#bd3786"
             ],
             [
              0.5555555555555556,
              "#d8576b"
             ],
             [
              0.6666666666666666,
              "#ed7953"
             ],
             [
              0.7777777777777778,
              "#fb9f3a"
             ],
             [
              0.8888888888888888,
              "#fdca26"
             ],
             [
              1,
              "#f0f921"
             ]
            ],
            "type": "heatmap"
           }
          ],
          "heatmapgl": [
           {
            "colorbar": {
             "outlinewidth": 0,
             "ticks": ""
            },
            "colorscale": [
             [
              0,
              "#0d0887"
             ],
             [
              0.1111111111111111,
              "#46039f"
             ],
             [
              0.2222222222222222,
              "#7201a8"
             ],
             [
              0.3333333333333333,
              "#9c179e"
             ],
             [
              0.4444444444444444,
              "#bd3786"
             ],
             [
              0.5555555555555556,
              "#d8576b"
             ],
             [
              0.6666666666666666,
              "#ed7953"
             ],
             [
              0.7777777777777778,
              "#fb9f3a"
             ],
             [
              0.8888888888888888,
              "#fdca26"
             ],
             [
              1,
              "#f0f921"
             ]
            ],
            "type": "heatmapgl"
           }
          ],
          "histogram": [
           {
            "marker": {
             "colorbar": {
              "outlinewidth": 0,
              "ticks": ""
             }
            },
            "type": "histogram"
           }
          ],
          "histogram2d": [
           {
            "colorbar": {
             "outlinewidth": 0,
             "ticks": ""
            },
            "colorscale": [
             [
              0,
              "#0d0887"
             ],
             [
              0.1111111111111111,
              "#46039f"
             ],
             [
              0.2222222222222222,
              "#7201a8"
             ],
             [
              0.3333333333333333,
              "#9c179e"
             ],
             [
              0.4444444444444444,
              "#bd3786"
             ],
             [
              0.5555555555555556,
              "#d8576b"
             ],
             [
              0.6666666666666666,
              "#ed7953"
             ],
             [
              0.7777777777777778,
              "#fb9f3a"
             ],
             [
              0.8888888888888888,
              "#fdca26"
             ],
             [
              1,
              "#f0f921"
             ]
            ],
            "type": "histogram2d"
           }
          ],
          "histogram2dcontour": [
           {
            "colorbar": {
             "outlinewidth": 0,
             "ticks": ""
            },
            "colorscale": [
             [
              0,
              "#0d0887"
             ],
             [
              0.1111111111111111,
              "#46039f"
             ],
             [
              0.2222222222222222,
              "#7201a8"
             ],
             [
              0.3333333333333333,
              "#9c179e"
             ],
             [
              0.4444444444444444,
              "#bd3786"
             ],
             [
              0.5555555555555556,
              "#d8576b"
             ],
             [
              0.6666666666666666,
              "#ed7953"
             ],
             [
              0.7777777777777778,
              "#fb9f3a"
             ],
             [
              0.8888888888888888,
              "#fdca26"
             ],
             [
              1,
              "#f0f921"
             ]
            ],
            "type": "histogram2dcontour"
           }
          ],
          "mesh3d": [
           {
            "colorbar": {
             "outlinewidth": 0,
             "ticks": ""
            },
            "type": "mesh3d"
           }
          ],
          "parcoords": [
           {
            "line": {
             "colorbar": {
              "outlinewidth": 0,
              "ticks": ""
             }
            },
            "type": "parcoords"
           }
          ],
          "pie": [
           {
            "automargin": true,
            "type": "pie"
           }
          ],
          "scatter": [
           {
            "marker": {
             "colorbar": {
              "outlinewidth": 0,
              "ticks": ""
             }
            },
            "type": "scatter"
           }
          ],
          "scatter3d": [
           {
            "line": {
             "colorbar": {
              "outlinewidth": 0,
              "ticks": ""
             }
            },
            "marker": {
             "colorbar": {
              "outlinewidth": 0,
              "ticks": ""
             }
            },
            "type": "scatter3d"
           }
          ],
          "scattercarpet": [
           {
            "marker": {
             "colorbar": {
              "outlinewidth": 0,
              "ticks": ""
             }
            },
            "type": "scattercarpet"
           }
          ],
          "scattergeo": [
           {
            "marker": {
             "colorbar": {
              "outlinewidth": 0,
              "ticks": ""
             }
            },
            "type": "scattergeo"
           }
          ],
          "scattergl": [
           {
            "marker": {
             "colorbar": {
              "outlinewidth": 0,
              "ticks": ""
             }
            },
            "type": "scattergl"
           }
          ],
          "scattermapbox": [
           {
            "marker": {
             "colorbar": {
              "outlinewidth": 0,
              "ticks": ""
             }
            },
            "type": "scattermapbox"
           }
          ],
          "scatterpolar": [
           {
            "marker": {
             "colorbar": {
              "outlinewidth": 0,
              "ticks": ""
             }
            },
            "type": "scatterpolar"
           }
          ],
          "scatterpolargl": [
           {
            "marker": {
             "colorbar": {
              "outlinewidth": 0,
              "ticks": ""
             }
            },
            "type": "scatterpolargl"
           }
          ],
          "scatterternary": [
           {
            "marker": {
             "colorbar": {
              "outlinewidth": 0,
              "ticks": ""
             }
            },
            "type": "scatterternary"
           }
          ],
          "surface": [
           {
            "colorbar": {
             "outlinewidth": 0,
             "ticks": ""
            },
            "colorscale": [
             [
              0,
              "#0d0887"
             ],
             [
              0.1111111111111111,
              "#46039f"
             ],
             [
              0.2222222222222222,
              "#7201a8"
             ],
             [
              0.3333333333333333,
              "#9c179e"
             ],
             [
              0.4444444444444444,
              "#bd3786"
             ],
             [
              0.5555555555555556,
              "#d8576b"
             ],
             [
              0.6666666666666666,
              "#ed7953"
             ],
             [
              0.7777777777777778,
              "#fb9f3a"
             ],
             [
              0.8888888888888888,
              "#fdca26"
             ],
             [
              1,
              "#f0f921"
             ]
            ],
            "type": "surface"
           }
          ],
          "table": [
           {
            "cells": {
             "fill": {
              "color": "#EBF0F8"
             },
             "line": {
              "color": "white"
             }
            },
            "header": {
             "fill": {
              "color": "#C8D4E3"
             },
             "line": {
              "color": "white"
             }
            },
            "type": "table"
           }
          ]
         },
         "layout": {
          "annotationdefaults": {
           "arrowcolor": "#2a3f5f",
           "arrowhead": 0,
           "arrowwidth": 1
          },
          "autotypenumbers": "strict",
          "coloraxis": {
           "colorbar": {
            "outlinewidth": 0,
            "ticks": ""
           }
          },
          "colorscale": {
           "diverging": [
            [
             0,
             "#8e0152"
            ],
            [
             0.1,
             "#c51b7d"
            ],
            [
             0.2,
             "#de77ae"
            ],
            [
             0.3,
             "#f1b6da"
            ],
            [
             0.4,
             "#fde0ef"
            ],
            [
             0.5,
             "#f7f7f7"
            ],
            [
             0.6,
             "#e6f5d0"
            ],
            [
             0.7,
             "#b8e186"
            ],
            [
             0.8,
             "#7fbc41"
            ],
            [
             0.9,
             "#4d9221"
            ],
            [
             1,
             "#276419"
            ]
           ],
           "sequential": [
            [
             0,
             "#0d0887"
            ],
            [
             0.1111111111111111,
             "#46039f"
            ],
            [
             0.2222222222222222,
             "#7201a8"
            ],
            [
             0.3333333333333333,
             "#9c179e"
            ],
            [
             0.4444444444444444,
             "#bd3786"
            ],
            [
             0.5555555555555556,
             "#d8576b"
            ],
            [
             0.6666666666666666,
             "#ed7953"
            ],
            [
             0.7777777777777778,
             "#fb9f3a"
            ],
            [
             0.8888888888888888,
             "#fdca26"
            ],
            [
             1,
             "#f0f921"
            ]
           ],
           "sequentialminus": [
            [
             0,
             "#0d0887"
            ],
            [
             0.1111111111111111,
             "#46039f"
            ],
            [
             0.2222222222222222,
             "#7201a8"
            ],
            [
             0.3333333333333333,
             "#9c179e"
            ],
            [
             0.4444444444444444,
             "#bd3786"
            ],
            [
             0.5555555555555556,
             "#d8576b"
            ],
            [
             0.6666666666666666,
             "#ed7953"
            ],
            [
             0.7777777777777778,
             "#fb9f3a"
            ],
            [
             0.8888888888888888,
             "#fdca26"
            ],
            [
             1,
             "#f0f921"
            ]
           ]
          },
          "colorway": [
           "#636efa",
           "#EF553B",
           "#00cc96",
           "#ab63fa",
           "#FFA15A",
           "#19d3f3",
           "#FF6692",
           "#B6E880",
           "#FF97FF",
           "#FECB52"
          ],
          "font": {
           "color": "#2a3f5f"
          },
          "geo": {
           "bgcolor": "white",
           "lakecolor": "white",
           "landcolor": "#E5ECF6",
           "showlakes": true,
           "showland": true,
           "subunitcolor": "white"
          },
          "hoverlabel": {
           "align": "left"
          },
          "hovermode": "closest",
          "mapbox": {
           "style": "light"
          },
          "paper_bgcolor": "white",
          "plot_bgcolor": "#E5ECF6",
          "polar": {
           "angularaxis": {
            "gridcolor": "white",
            "linecolor": "white",
            "ticks": ""
           },
           "bgcolor": "#E5ECF6",
           "radialaxis": {
            "gridcolor": "white",
            "linecolor": "white",
            "ticks": ""
           }
          },
          "scene": {
           "xaxis": {
            "backgroundcolor": "#E5ECF6",
            "gridcolor": "white",
            "gridwidth": 2,
            "linecolor": "white",
            "showbackground": true,
            "ticks": "",
            "zerolinecolor": "white"
           },
           "yaxis": {
            "backgroundcolor": "#E5ECF6",
            "gridcolor": "white",
            "gridwidth": 2,
            "linecolor": "white",
            "showbackground": true,
            "ticks": "",
            "zerolinecolor": "white"
           },
           "zaxis": {
            "backgroundcolor": "#E5ECF6",
            "gridcolor": "white",
            "gridwidth": 2,
            "linecolor": "white",
            "showbackground": true,
            "ticks": "",
            "zerolinecolor": "white"
           }
          },
          "shapedefaults": {
           "line": {
            "color": "#2a3f5f"
           }
          },
          "ternary": {
           "aaxis": {
            "gridcolor": "white",
            "linecolor": "white",
            "ticks": ""
           },
           "baxis": {
            "gridcolor": "white",
            "linecolor": "white",
            "ticks": ""
           },
           "bgcolor": "#E5ECF6",
           "caxis": {
            "gridcolor": "white",
            "linecolor": "white",
            "ticks": ""
           }
          },
          "title": {
           "x": 0.05
          },
          "xaxis": {
           "automargin": true,
           "gridcolor": "white",
           "linecolor": "white",
           "ticks": "",
           "title": {
            "standoff": 15
           },
           "zerolinecolor": "white",
           "zerolinewidth": 2
          },
          "yaxis": {
           "automargin": true,
           "gridcolor": "white",
           "linecolor": "white",
           "ticks": "",
           "title": {
            "standoff": 15
           },
           "zerolinecolor": "white",
           "zerolinewidth": 2
          }
         }
        },
        "width": 1100,
        "xaxis": {
         "showgrid": false,
         "showline": false,
         "showticklabels": false,
         "title": {
          "text": "Netflow multigraph data"
         },
         "zeroline": false
        },
        "yaxis": {
         "showgrid": false,
         "showline": false,
         "showticklabels": false,
         "title": {
          "text": "Netflow multigraph data"
         },
         "zeroline": false
        }
       }
      },
      "text/html": [
       "<div>                            <div id=\"1d397355-83a0-4af9-b111-56be77bf74fa\" class=\"plotly-graph-div\" style=\"height:900px; width:1100px;\"></div>            <script type=\"text/javascript\">                require([\"plotly\"], function(Plotly) {                    window.PLOTLYENV=window.PLOTLYENV || {};                                    if (document.getElementById(\"1d397355-83a0-4af9-b111-56be77bf74fa\")) {                    Plotly.newPlot(                        \"1d397355-83a0-4af9-b111-56be77bf74fa\",                        [{\"line\": {\"color\": \"#299e50\", \"width\": 0.5}, \"mode\": \"lines\", \"type\": \"scatter\", \"x\": [0.161015585064888, 0.19529449939727783], \"y\": [0.7885681986808777, 0.7851591110229492]}, {\"line\": {\"color\": \"#299e50\", \"width\": 0.5}, \"mode\": \"lines\", \"type\": \"scatter\", \"x\": [0.161015585064888, 0.8584048748016357], \"y\": [0.7885681986808777, 0.6441057324409485]}, {\"line\": {\"color\": \"#299e50\", \"width\": 0.5}, \"mode\": \"lines\", \"type\": \"scatter\", \"x\": [0.2833520174026489, 0.40054580569267273], \"y\": [0.607707142829895, 0.5089609622955322]}, {\"line\": {\"color\": \"#299e50\", \"width\": 0.5}, \"mode\": \"lines\", \"type\": \"scatter\", \"x\": [0.2833520174026489, 0.44647952914237976], \"y\": [0.607707142829895, 0.30975791811943054]}, {\"line\": {\"color\": \"#299e50\", \"width\": 0.5}, \"mode\": \"lines\", \"type\": \"scatter\", \"x\": [0.2833520174026489, 0.5653786659240723], \"y\": [0.607707142829895, 0.8866557478904724]}, {\"line\": {\"color\": \"#299e50\", \"width\": 0.5}, \"mode\": \"lines\", \"type\": \"scatter\", \"x\": [0.8147003054618835, 0.030361799523234367], \"y\": [0.8724064826965332, 0.284953773021698]}, {\"line\": {\"color\": \"#299e50\", \"width\": 0.5}, \"mode\": \"lines\", \"type\": \"scatter\", \"x\": [0.8147003054618835, 0.1526137888431549], \"y\": [0.8724064826965332, 0.4687170088291168]}, {\"line\": {\"color\": \"#299e50\", \"width\": 0.5}, \"mode\": \"lines\", \"type\": \"scatter\", \"x\": [0.6079154014587402, 0.2792825996875763], \"y\": [0.889258623123169, 0.23198719322681427]}, {\"line\": {\"color\": \"#299e50\", \"width\": 0.5}, \"mode\": \"lines\", \"type\": \"scatter\", \"x\": [0.6079154014587402, 0.6455848813056946], \"y\": [0.889258623123169, 0.9835445880889893]}, {\"line\": {\"color\": \"#299e50\", \"width\": 0.5}, \"mode\": \"lines\", \"type\": \"scatter\", \"x\": [0.6079154014587402, 0.605262041091919], \"y\": [0.889258623123169, 0.4270661473274231]}, {\"line\": {\"color\": \"#299e50\", \"width\": 0.5}, \"mode\": \"lines\", \"type\": \"scatter\", \"x\": [0.6079154014587402, 0.5397505164146423], \"y\": [0.889258623123169, 0.07422801107168198]}, {\"line\": {\"color\": \"#299e50\", \"width\": 0.5}, \"mode\": \"lines\", \"type\": \"scatter\", \"x\": [0.6079154014587402, 0.3421109616756439], \"y\": [0.889258623123169, 0.7583768367767334]}, {\"line\": {\"color\": \"#299e50\", \"width\": 0.5}, \"mode\": \"lines\", \"type\": \"scatter\", \"x\": [0.6079154014587402, 0.5483383536338806], \"y\": [0.889258623123169, 0.2914341986179352]}, {\"line\": {\"color\": \"#299e50\", \"width\": 0.5}, \"mode\": \"lines\", \"type\": \"scatter\", \"x\": [0.16380199790000916, 0.4624398648738861], \"y\": [0.14716656506061554, 0.46041905879974365]}, {\"line\": {\"color\": \"#299e50\", \"width\": 0.5}, \"mode\": \"lines\", \"type\": \"scatter\", \"x\": [0.16380199790000916, 0.9533740282058716], \"y\": [0.14716656506061554, 0.30268898606300354]}, {\"line\": {\"color\": \"#299e50\", \"width\": 0.5}, \"mode\": \"lines\", \"type\": \"scatter\", \"x\": [0.6274234056472778, 0.8605000972747803], \"y\": [0.9152544736862183, 0.4711788594722748]}, {\"line\": {\"color\": \"#299e50\", \"width\": 0.5}, \"mode\": \"lines\", \"type\": \"scatter\", \"x\": [0.6274234056472778, 0.8069401979446411], \"y\": [0.9152544736862183, 0.008803833276033401]}, {\"line\": {\"color\": \"#299e50\", \"width\": 0.5}, \"mode\": \"lines\", \"type\": \"scatter\", \"x\": [0.7331635355949402, 0.20618808269500732], \"y\": [0.0672500729560852, 0.831110417842865]}, {\"line\": {\"color\": \"#299e50\", \"width\": 0.5}, \"mode\": \"lines\", \"type\": \"scatter\", \"x\": [0.7331635355949402, 0.2603057026863098], \"y\": [0.0672500729560852, 0.07892276346683502]}, {\"line\": {\"color\": \"#299e50\", \"width\": 0.5}, \"mode\": \"lines\", \"type\": \"scatter\", \"x\": [0.268034964799881, 0.4171616733074188], \"y\": [0.0020810833666473627, 0.006484791170805693]}, {\"line\": {\"color\": \"#299e50\", \"width\": 0.5}, \"mode\": \"lines\", \"type\": \"scatter\", \"x\": [0.268034964799881, 0.3543585538864136], \"y\": [0.0020810833666473627, 0.8624551892280579]}, {\"line\": {\"color\": \"#299e50\", \"width\": 0.5}, \"mode\": \"lines\", \"type\": \"scatter\", \"x\": [0.268034964799881, 0.5480067133903503], \"y\": [0.0020810833666473627, 0.9136435985565186]}, {\"line\": {\"color\": \"#299e50\", \"width\": 0.5}, \"mode\": \"lines\", \"type\": \"scatter\", \"x\": [0.268034964799881, 0.5211465954780579], \"y\": [0.0020810833666473627, 0.09790996462106705]}, {\"line\": {\"color\": \"#299e50\", \"width\": 0.5}, \"mode\": \"lines\", \"type\": \"scatter\", \"x\": [0.268034964799881, 0.2768997550010681], \"y\": [0.0020810833666473627, 0.5496101379394531]}, {\"line\": {\"color\": \"#299e50\", \"width\": 0.5}, \"mode\": \"lines\", \"type\": \"scatter\", \"x\": [0.268034964799881, 0.11912716925144196], \"y\": [0.0020810833666473627, 0.7902355790138245]}, {\"line\": {\"color\": \"#299e50\", \"width\": 0.5}, \"mode\": \"lines\", \"type\": \"scatter\", \"x\": [0.268034964799881, 0.390489399433136], \"y\": [0.0020810833666473627, 0.6408081650733948]}, {\"line\": {\"color\": \"#299e50\", \"width\": 0.5}, \"mode\": \"lines\", \"type\": \"scatter\", \"x\": [0.268034964799881, 0.8173415660858154], \"y\": [0.0020810833666473627, 0.666367769241333]}, {\"line\": {\"color\": \"#299e50\", \"width\": 0.5}, \"mode\": \"lines\", \"type\": \"scatter\", \"x\": [0.268034964799881, 0.5511165857315063], \"y\": [0.0020810833666473627, 0.9505001306533813]}, {\"line\": {\"color\": \"#299e50\", \"width\": 0.5}, \"mode\": \"lines\", \"type\": \"scatter\", \"x\": [0.268034964799881, 0.16167396306991577], \"y\": [0.0020810833666473627, 0.7216278910636902]}, {\"line\": {\"color\": \"#299e50\", \"width\": 0.5}, \"mode\": \"lines\", \"type\": \"scatter\", \"x\": [0.268034964799881, 0.16094909608364105], \"y\": [0.0020810833666473627, 0.5785831212997437]}, {\"line\": {\"color\": \"#299e50\", \"width\": 0.5}, \"mode\": \"lines\", \"type\": \"scatter\", \"x\": [0.268034964799881, 0.15918226540088654], \"y\": [0.0020810833666473627, 0.7389870285987854]}, {\"line\": {\"color\": \"#299e50\", \"width\": 0.5}, \"mode\": \"lines\", \"type\": \"scatter\", \"x\": [0.268034964799881, 0.003788951551541686], \"y\": [0.0020810833666473627, 0.819857120513916]}, {\"line\": {\"color\": \"#299e50\", \"width\": 0.5}, \"mode\": \"lines\", \"type\": \"scatter\", \"x\": [0.8517173528671265, 0.7325194478034973], \"y\": [0.8302371501922607, 0.8703819513320923]}, {\"line\": {\"color\": \"#299e50\", \"width\": 0.5}, \"mode\": \"lines\", \"type\": \"scatter\", \"x\": [0.8517173528671265, 0.9535922408103943], \"y\": [0.8302371501922607, 0.7105864882469177]}, {\"line\": {\"color\": \"#299e50\", \"width\": 0.5}, \"mode\": \"lines\", \"type\": \"scatter\", \"x\": [0.4823989272117615, 0.3464466631412506], \"y\": [0.5989057421684265, 0.7880702018737793]}, {\"line\": {\"color\": \"#299e50\", \"width\": 0.5}, \"mode\": \"lines\", \"type\": \"scatter\", \"x\": [0.4823989272117615, 0.5145339965820312], \"y\": [0.5989057421684265, 0.4334047734737396]}, {\"line\": {\"color\": \"#299e50\", \"width\": 0.5}, \"mode\": \"lines\", \"type\": \"scatter\", \"x\": [0.5678903460502625, 0.7865979075431824], \"y\": [0.8447869420051575, 0.3577098250389099]}, {\"line\": {\"color\": \"#299e50\", \"width\": 0.5}, \"mode\": \"lines\", \"type\": \"scatter\", \"x\": [0.5678903460502625, 0.2603057026863098], \"y\": [0.8447869420051575, 0.07892276346683502]}, {\"line\": {\"color\": \"#299e50\", \"width\": 0.5}, \"mode\": \"lines\", \"type\": \"scatter\", \"x\": [0.3043692708015442, 0.9637556076049805], \"y\": [0.47869792580604553, 0.5973120927810669]}, {\"line\": {\"color\": \"#299e50\", \"width\": 0.5}, \"mode\": \"lines\", \"type\": \"scatter\", \"x\": [0.3043692708015442, 0.9239086508750916], \"y\": [0.47869792580604553, 0.16225780546665192]}, {\"line\": {\"color\": \"#299e50\", \"width\": 0.5}, \"mode\": \"lines\", \"type\": \"scatter\", \"x\": [0.3043692708015442, 0.40054580569267273], \"y\": [0.47869792580604553, 0.5089609622955322]}, {\"line\": {\"color\": \"#299e50\", \"width\": 0.5}, \"mode\": \"lines\", \"type\": \"scatter\", \"x\": [0.3043692708015442, 0.8289695382118225], \"y\": [0.47869792580604553, 0.9792983531951904]}, {\"line\": {\"color\": \"#299e50\", \"width\": 0.5}, \"mode\": \"lines\", \"type\": \"scatter\", \"x\": [0.3301878273487091, 0.4166320860385895], \"y\": [0.40855321288108826, 0.8825346827507019]}, {\"line\": {\"color\": \"#299e50\", \"width\": 0.5}, \"mode\": \"lines\", \"type\": \"scatter\", \"x\": [0.3301878273487091, 0.7147647738456726], \"y\": [0.40855321288108826, 0.9587607383728027]}, {\"line\": {\"color\": \"#ff0000\", \"width\": 0.5}, \"mode\": \"lines\", \"type\": \"scatter\", \"x\": [0.34151777625083923, 0.688102662563324], \"y\": [0.3481553792953491, 0.9888705611228943]}, {\"line\": {\"color\": \"#299e50\", \"width\": 0.5}, \"mode\": \"lines\", \"type\": \"scatter\", \"x\": [0.34151777625083923, 0.196201354265213], \"y\": [0.3481553792953491, 0.2516557574272156]}, {\"line\": {\"color\": \"#299e50\", \"width\": 0.5}, \"mode\": \"lines\", \"type\": \"scatter\", \"x\": [0.2603057026863098, 0.298348993062973], \"y\": [0.07892276346683502, 0.06702214479446411]}, {\"line\": {\"color\": \"#299e50\", \"width\": 0.5}, \"mode\": \"lines\", \"type\": \"scatter\", \"x\": [0.2603057026863098, 0.514175295829773], \"y\": [0.07892276346683502, 0.2708350718021393]}, {\"line\": {\"color\": \"#299e50\", \"width\": 0.5}, \"mode\": \"lines\", \"type\": \"scatter\", \"x\": [0.2603057026863098, 0.8842065334320068], \"y\": [0.07892276346683502, 0.39567869901657104]}, {\"line\": {\"color\": \"#299e50\", \"width\": 0.5}, \"mode\": \"lines\", \"type\": \"scatter\", \"x\": [0.2603057026863098, 0.08868295699357986], \"y\": [0.07892276346683502, 0.912906289100647]}, {\"line\": {\"color\": \"#299e50\", \"width\": 0.5}, \"mode\": \"lines\", \"type\": \"scatter\", \"x\": [0.2603057026863098, 0.2706001400947571], \"y\": [0.07892276346683502, 0.17366823554039001]}, {\"line\": {\"color\": \"#299e50\", \"width\": 0.5}, \"mode\": \"lines\", \"type\": \"scatter\", \"x\": [0.2603057026863098, 0.542349100112915], \"y\": [0.07892276346683502, 0.18998554348945618]}, {\"line\": {\"color\": \"#299e50\", \"width\": 0.5}, \"mode\": \"lines\", \"type\": \"scatter\", \"x\": [0.2603057026863098, 0.26842692494392395], \"y\": [0.07892276346683502, 0.44399169087409973]}, {\"line\": {\"color\": \"#299e50\", \"width\": 0.5}, \"mode\": \"lines\", \"type\": \"scatter\", \"x\": [0.2603057026863098, 0.5751445889472961], \"y\": [0.07892276346683502, 0.7928558588027954]}, {\"line\": {\"color\": \"#299e50\", \"width\": 0.5}, \"mode\": \"lines\", \"type\": \"scatter\", \"x\": [0.2603057026863098, 0.8152745366096497], \"y\": [0.07892276346683502, 0.996525764465332]}, {\"line\": {\"color\": \"#299e50\", \"width\": 0.5}, \"mode\": \"lines\", \"type\": \"scatter\", \"x\": [0.2603057026863098, 0.15171773731708527], \"y\": [0.07892276346683502, 0.8544511198997498]}, {\"line\": {\"color\": \"#299e50\", \"width\": 0.5}, \"mode\": \"lines\", \"type\": \"scatter\", \"x\": [0.2603057026863098, 0.032796379178762436], \"y\": [0.07892276346683502, 0.11914670467376709]}, {\"line\": {\"color\": \"#299e50\", \"width\": 0.5}, \"mode\": \"lines\", \"type\": \"scatter\", \"x\": [0.2603057026863098, 0.6808767914772034], \"y\": [0.07892276346683502, 0.03834191709756851]}, {\"line\": {\"color\": \"#299e50\", \"width\": 0.5}, \"mode\": \"lines\", \"type\": \"scatter\", \"x\": [0.2603057026863098, 0.6774746179580688], \"y\": [0.07892276346683502, 0.19489191472530365]}, {\"line\": {\"color\": \"#299e50\", \"width\": 0.5}, \"mode\": \"lines\", \"type\": \"scatter\", \"x\": [0.2603057026863098, 0.9895837903022766], \"y\": [0.07892276346683502, 0.2675274908542633]}, {\"line\": {\"color\": \"#299e50\", \"width\": 0.5}, \"mode\": \"lines\", \"type\": \"scatter\", \"x\": [0.2603057026863098, 0.2209007740020752], \"y\": [0.07892276346683502, 0.2726285755634308]}, {\"line\": {\"color\": \"#299e50\", \"width\": 0.5}, \"mode\": \"lines\", \"type\": \"scatter\", \"x\": [0.2603057026863098, 0.9992673397064209], \"y\": [0.07892276346683502, 0.2909756302833557]}, {\"line\": {\"color\": \"#299e50\", \"width\": 0.5}, \"mode\": \"lines\", \"type\": \"scatter\", \"x\": [0.2603057026863098, 0.36881691217422485], \"y\": [0.07892276346683502, 0.12157180905342102]}, {\"line\": {\"color\": \"#299e50\", \"width\": 0.5}, \"mode\": \"lines\", \"type\": \"scatter\", \"x\": [0.2603057026863098, 0.45909276604652405], \"y\": [0.07892276346683502, 0.11685732752084732]}, {\"line\": {\"color\": \"#299e50\", \"width\": 0.5}, \"mode\": \"lines\", \"type\": \"scatter\", \"x\": [0.2603057026863098, 0.43852195143699646], \"y\": [0.07892276346683502, 0.050694745033979416]}, {\"line\": {\"color\": \"#299e50\", \"width\": 0.5}, \"mode\": \"lines\", \"type\": \"scatter\", \"x\": [0.2603057026863098, 0.5696626901626587], \"y\": [0.07892276346683502, 0.1722274124622345]}, {\"line\": {\"color\": \"#299e50\", \"width\": 0.5}, \"mode\": \"lines\", \"type\": \"scatter\", \"x\": [0.2603057026863098, 0.7327216863632202], \"y\": [0.07892276346683502, 0.24746835231781006]}, {\"line\": {\"color\": \"#299e50\", \"width\": 0.5}, \"mode\": \"lines\", \"type\": \"scatter\", \"x\": [0.2603057026863098, 0.6665454506874084], \"y\": [0.07892276346683502, 0.17145457863807678]}, {\"line\": {\"color\": \"#299e50\", \"width\": 0.5}, \"mode\": \"lines\", \"type\": \"scatter\", \"x\": [0.2603057026863098, 0.705091118812561], \"y\": [0.07892276346683502, 0.03111584484577179]}, {\"line\": {\"color\": \"#299e50\", \"width\": 0.5}, \"mode\": \"lines\", \"type\": \"scatter\", \"x\": [0.2603057026863098, 0.3708462417125702], \"y\": [0.07892276346683502, 0.19386571645736694]}, {\"line\": {\"color\": \"#299e50\", \"width\": 0.5}, \"mode\": \"lines\", \"type\": \"scatter\", \"x\": [0.2603057026863098, 0.2550572156906128], \"y\": [0.07892276346683502, 0.9837720394134521]}, {\"line\": {\"color\": \"#299e50\", \"width\": 0.5}, \"mode\": \"lines\", \"type\": \"scatter\", \"x\": [0.2603057026863098, 0.996374785900116], \"y\": [0.07892276346683502, 0.6876592636108398]}, {\"line\": {\"color\": \"#299e50\", \"width\": 0.5}, \"mode\": \"lines\", \"type\": \"scatter\", \"x\": [0.2603057026863098, 0.5209252834320068], \"y\": [0.07892276346683502, 0.7655325531959534]}, {\"line\": {\"color\": \"#299e50\", \"width\": 0.5}, \"mode\": \"lines\", \"type\": \"scatter\", \"x\": [0.2603057026863098, 0.6931230425834656], \"y\": [0.07892276346683502, 0.8543417453765869]}, {\"line\": {\"color\": \"#299e50\", \"width\": 0.5}, \"mode\": \"lines\", \"type\": \"scatter\", \"x\": [0.2603057026863098, 0.43728259205818176], \"y\": [0.07892276346683502, 0.4425699710845947]}, {\"line\": {\"color\": \"#299e50\", \"width\": 0.5}, \"mode\": \"lines\", \"type\": \"scatter\", \"x\": [0.2603057026863098, 0.8297252058982849], \"y\": [0.07892276346683502, 0.6329551935195923]}, {\"line\": {\"color\": \"#299e50\", \"width\": 0.5}, \"mode\": \"lines\", \"type\": \"scatter\", \"x\": [0.2603057026863098, 0.2303985059261322], \"y\": [0.07892276346683502, 0.27691709995269775]}, {\"line\": {\"color\": \"#299e50\", \"width\": 0.5}, \"mode\": \"lines\", \"type\": \"scatter\", \"x\": [0.2603057026863098, 0.9569575786590576], \"y\": [0.07892276346683502, 0.4416434168815613]}, {\"line\": {\"color\": \"#299e50\", \"width\": 0.5}, \"mode\": \"lines\", \"type\": \"scatter\", \"x\": [0.2603057026863098, 0.09249965846538544], \"y\": [0.07892276346683502, 0.8860867023468018]}, {\"line\": {\"color\": \"#299e50\", \"width\": 0.5}, \"mode\": \"lines\", \"type\": \"scatter\", \"x\": [0.2603057026863098, 0.8289695382118225], \"y\": [0.07892276346683502, 0.9792983531951904]}, {\"line\": {\"color\": \"#299e50\", \"width\": 0.5}, \"mode\": \"lines\", \"type\": \"scatter\", \"x\": [0.2603057026863098, 0.7068064212799072], \"y\": [0.07892276346683502, 0.5578750967979431]}, {\"line\": {\"color\": \"#299e50\", \"width\": 0.5}, \"mode\": \"lines\", \"type\": \"scatter\", \"x\": [0.2603057026863098, 0.3470461666584015], \"y\": [0.07892276346683502, 0.947212278842926]}, {\"line\": {\"color\": \"#299e50\", \"width\": 0.5}, \"mode\": \"lines\", \"type\": \"scatter\", \"x\": [0.2603057026863098, 0.1486324816942215], \"y\": [0.07892276346683502, 0.6316366791725159]}, {\"line\": {\"color\": \"#299e50\", \"width\": 0.5}, \"mode\": \"lines\", \"type\": \"scatter\", \"x\": [0.2603057026863098, 0.23094749450683594], \"y\": [0.07892276346683502, 0.29867780208587646]}, {\"line\": {\"color\": \"#299e50\", \"width\": 0.5}, \"mode\": \"lines\", \"type\": \"scatter\", \"x\": [0.2603057026863098, 0.9706009030342102], \"y\": [0.07892276346683502, 0.8453694581985474]}, {\"line\": {\"color\": \"#299e50\", \"width\": 0.5}, \"mode\": \"lines\", \"type\": \"scatter\", \"x\": [0.2603057026863098, 0.46805837750434875], \"y\": [0.07892276346683502, 0.6002578735351562]}, {\"line\": {\"color\": \"#299e50\", \"width\": 0.5}, \"mode\": \"lines\", \"type\": \"scatter\", \"x\": [0.2603057026863098, 0.8493874073028564], \"y\": [0.07892276346683502, 0.49684640765190125]}, {\"line\": {\"color\": \"#299e50\", \"width\": 0.5}, \"mode\": \"lines\", \"type\": \"scatter\", \"x\": [0.2603057026863098, 0.20174062252044678], \"y\": [0.07892276346683502, 0.4676843583583832]}, {\"line\": {\"color\": \"#299e50\", \"width\": 0.5}, \"mode\": \"lines\", \"type\": \"scatter\", \"x\": [0.2603057026863098, 0.5974354147911072], \"y\": [0.07892276346683502, 0.5150576233863831]}, {\"line\": {\"color\": \"#299e50\", \"width\": 0.5}, \"mode\": \"lines\", \"type\": \"scatter\", \"x\": [0.2603057026863098, 0.9057826399803162], \"y\": [0.07892276346683502, 0.2641553282737732]}, {\"line\": {\"color\": \"#299e50\", \"width\": 0.5}, \"mode\": \"lines\", \"type\": \"scatter\", \"x\": [0.2603057026863098, 0.8320872783660889], \"y\": [0.07892276346683502, 0.3329014778137207]}, {\"line\": {\"color\": \"#299e50\", \"width\": 0.5}, \"mode\": \"lines\", \"type\": \"scatter\", \"x\": [0.2603057026863098, 0.3052053153514862], \"y\": [0.07892276346683502, 0.5104793906211853]}, {\"line\": {\"color\": \"#299e50\", \"width\": 0.5}, \"mode\": \"lines\", \"type\": \"scatter\", \"x\": [0.2603057026863098, 0.1628236174583435], \"y\": [0.07892276346683502, 0.6914573311805725]}, {\"line\": {\"color\": \"#299e50\", \"width\": 0.5}, \"mode\": \"lines\", \"type\": \"scatter\", \"x\": [0.2603057026863098, 0.8835943341255188], \"y\": [0.07892276346683502, 0.16790322959423065]}, {\"line\": {\"color\": \"#299e50\", \"width\": 0.5}, \"mode\": \"lines\", \"type\": \"scatter\", \"x\": [0.2603057026863098, 0.34661275148391724], \"y\": [0.07892276346683502, 0.29253408312797546]}, {\"line\": {\"color\": \"#299e50\", \"width\": 0.5}, \"mode\": \"lines\", \"type\": \"scatter\", \"x\": [0.2603057026863098, 0.4685594439506531], \"y\": [0.07892276346683502, 0.4890204966068268]}, {\"line\": {\"color\": \"#299e50\", \"width\": 0.5}, \"mode\": \"lines\", \"type\": \"scatter\", \"x\": [0.5072104334831238, 0.5100937485694885], \"y\": [0.523186206817627, 0.7833890914916992]}, {\"line\": {\"color\": \"#299e50\", \"width\": 0.5}, \"mode\": \"lines\", \"type\": \"scatter\", \"x\": [0.5072104334831238, 0.6963537931442261], \"y\": [0.523186206817627, 0.01662231981754303]}, {\"line\": {\"color\": \"#299e50\", \"width\": 0.5}, \"mode\": \"lines\", \"type\": \"scatter\", \"x\": [0.978903591632843, 0.5727983713150024], \"y\": [0.7352607846260071, 0.2112901657819748]}, {\"line\": {\"color\": \"#299e50\", \"width\": 0.5}, \"mode\": \"lines\", \"type\": \"scatter\", \"x\": [0.978903591632843, 0.28714001178741455], \"y\": [0.7352607846260071, 0.10241106152534485]}, {\"line\": {\"color\": \"#299e50\", \"width\": 0.5}, \"mode\": \"lines\", \"type\": \"scatter\", \"x\": [0.4053637385368347, 0.030361799523234367], \"y\": [0.05834312364459038, 0.284953773021698]}, {\"line\": {\"color\": \"#299e50\", \"width\": 0.5}, \"mode\": \"lines\", \"type\": \"scatter\", \"x\": [0.4053637385368347, 0.4460609257221222], \"y\": [0.05834312364459038, 0.025963069871068]}, {\"line\": {\"color\": \"#299e50\", \"width\": 0.5}, \"mode\": \"lines\", \"type\": \"scatter\", \"x\": [0.28479576110839844, 0.5014097094535828], \"y\": [0.6419903039932251, 0.9196719527244568]}, {\"line\": {\"color\": \"#299e50\", \"width\": 0.5}, \"mode\": \"lines\", \"type\": \"scatter\", \"x\": [0.28479576110839844, 0.8693476319313049], \"y\": [0.6419903039932251, 0.5856478810310364]}, {\"line\": {\"color\": \"#299e50\", \"width\": 0.5}, \"mode\": \"lines\", \"type\": \"scatter\", \"x\": [0.4659290313720703, 0.44581204652786255], \"y\": [0.9073949456214905, 0.3875442445278168]}, {\"line\": {\"color\": \"#299e50\", \"width\": 0.5}, \"mode\": \"lines\", \"type\": \"scatter\", \"x\": [0.4659290313720703, 0.4624398648738861], \"y\": [0.9073949456214905, 0.46041905879974365]}, {\"line\": {\"color\": \"#299e50\", \"width\": 0.5}, \"mode\": \"lines\", \"type\": \"scatter\", \"x\": [0.5351327061653137, 0.6283118724822998], \"y\": [0.058790065348148346, 0.36206263303756714]}, {\"line\": {\"color\": \"#ff0000\", \"width\": 0.5}, \"mode\": \"lines\", \"type\": \"scatter\", \"x\": [0.5351327061653137, 0.9527837634086609], \"y\": [0.058790065348148346, 0.7103796601295471]}, {\"line\": {\"color\": \"#299e50\", \"width\": 0.5}, \"mode\": \"lines\", \"type\": \"scatter\", \"x\": [0.3224586844444275, 0.37471911311149597], \"y\": [0.7789006233215332, 0.24507416784763336]}, {\"line\": {\"color\": \"#299e50\", \"width\": 0.5}, \"mode\": \"lines\", \"type\": \"scatter\", \"x\": [0.3224586844444275, 0.37471911311149597], \"y\": [0.7789006233215332, 0.24507416784763336]}, {\"line\": {\"color\": \"#299e50\", \"width\": 0.5}, \"mode\": \"lines\", \"type\": \"scatter\", \"x\": [0.3224586844444275, 0.2392139732837677], \"y\": [0.7789006233215332, 0.5509072542190552]}, {\"line\": {\"color\": \"#299e50\", \"width\": 0.5}, \"mode\": \"lines\", \"type\": \"scatter\", \"x\": [0.8391133546829224, 0.7705209851264954], \"y\": [0.2990989685058594, 0.8238486051559448]}, {\"line\": {\"color\": \"#299e50\", \"width\": 0.5}, \"mode\": \"lines\", \"type\": \"scatter\", \"x\": [0.8391133546829224, 0.10426601767539978], \"y\": [0.2990989685058594, 0.7312099933624268]}, {\"line\": {\"color\": \"#299e50\", \"width\": 0.5}, \"mode\": \"lines\", \"type\": \"scatter\", \"x\": [0.6229004859924316, 0.5660727620124817], \"y\": [0.8484976291656494, 0.7193285226821899]}, {\"line\": {\"color\": \"#299e50\", \"width\": 0.5}, \"mode\": \"lines\", \"type\": \"scatter\", \"x\": [0.6229004859924316, 0.8393089175224304], \"y\": [0.8484976291656494, 0.2713569700717926]}, {\"line\": {\"color\": \"#299e50\", \"width\": 0.5}, \"mode\": \"lines\", \"type\": \"scatter\", \"x\": [0.20618808269500732, 0.5128595232963562], \"y\": [0.831110417842865, 0.6059209704399109]}, {\"line\": {\"color\": \"#299e50\", \"width\": 0.5}, \"mode\": \"lines\", \"type\": \"scatter\", \"x\": [0.20618808269500732, 0.9306754469871521], \"y\": [0.831110417842865, 0.05846057087182999]}, {\"line\": {\"color\": \"#299e50\", \"width\": 0.5}, \"mode\": \"lines\", \"type\": \"scatter\", \"x\": [0.20618808269500732, 0.7722235918045044], \"y\": [0.831110417842865, 0.41332921385765076]}, {\"line\": {\"color\": \"#299e50\", \"width\": 0.5}, \"mode\": \"lines\", \"type\": \"scatter\", \"x\": [0.20618808269500732, 0.6365115642547607], \"y\": [0.831110417842865, 0.5718234777450562]}, {\"line\": {\"color\": \"#299e50\", \"width\": 0.5}, \"mode\": \"lines\", \"type\": \"scatter\", \"x\": [0.20618808269500732, 0.8443154692649841], \"y\": [0.831110417842865, 0.942646324634552]}, {\"line\": {\"color\": \"#299e50\", \"width\": 0.5}, \"mode\": \"lines\", \"type\": \"scatter\", \"x\": [0.8092940449714661, 0.11400165408849716], \"y\": [0.05807791277766228, 0.45799964666366577]}, {\"line\": {\"color\": \"#299e50\", \"width\": 0.5}, \"mode\": \"lines\", \"type\": \"scatter\", \"x\": [0.8092940449714661, 0.30741241574287415], \"y\": [0.05807791277766228, 0.4526333808898926]}, {\"line\": {\"color\": \"#299e50\", \"width\": 0.5}, \"mode\": \"lines\", \"type\": \"scatter\", \"x\": [0.6856744885444641, 0.4340633451938629], \"y\": [0.041554518043994904, 0.11623741686344147]}, {\"line\": {\"color\": \"#299e50\", \"width\": 0.5}, \"mode\": \"lines\", \"type\": \"scatter\", \"x\": [0.6856744885444641, 0.3470461666584015], \"y\": [0.041554518043994904, 0.947212278842926]}, {\"line\": {\"color\": \"#299e50\", \"width\": 0.5}, \"mode\": \"lines\", \"type\": \"scatter\", \"x\": [0.6856744885444641, 0.08616312593221664], \"y\": [0.041554518043994904, 0.015600989572703838]}, {\"line\": {\"color\": \"#299e50\", \"width\": 0.5}, \"mode\": \"lines\", \"type\": \"scatter\", \"x\": [0.15918226540088654, 0.18124784529209137], \"y\": [0.7389870285987854, 0.8309138417243958]}, {\"line\": {\"color\": \"#299e50\", \"width\": 0.5}, \"mode\": \"lines\", \"type\": \"scatter\", \"x\": [0.7539392113685608, 0.7463298439979553], \"y\": [0.24132715165615082, 0.9924412965774536]}, {\"line\": {\"color\": \"#299e50\", \"width\": 0.5}, \"mode\": \"lines\", \"type\": \"scatter\", \"x\": [0.7539392113685608, 0.1521168351173401], \"y\": [0.24132715165615082, 0.23612233996391296]}, {\"line\": {\"color\": \"#299e50\", \"width\": 0.5}, \"mode\": \"lines\", \"type\": \"scatter\", \"x\": [0.8067482709884644, 0.3093782961368561], \"y\": [0.7068331241607666, 0.5310360193252563]}, {\"line\": {\"color\": \"#299e50\", \"width\": 0.5}, \"mode\": \"lines\", \"type\": \"scatter\", \"x\": [0.8067482709884644, 0.6037368178367615], \"y\": [0.7068331241607666, 0.12893743813037872]}, {\"line\": {\"color\": \"#299e50\", \"width\": 0.5}, \"mode\": \"lines\", \"type\": \"scatter\", \"x\": [0.8453879952430725, 0.12662582099437714], \"y\": [0.5950333476066589, 0.9279562830924988]}, {\"line\": {\"color\": \"#299e50\", \"width\": 0.5}, \"mode\": \"lines\", \"type\": \"scatter\", \"x\": [0.8453879952430725, 0.8835943341255188], \"y\": [0.5950333476066589, 0.16790322959423065]}, {\"line\": {\"color\": \"#299e50\", \"width\": 0.5}, \"mode\": \"lines\", \"type\": \"scatter\", \"x\": [0.8453879952430725, 0.8142348527908325], \"y\": [0.5950333476066589, 0.5225187540054321]}, {\"line\": {\"color\": \"#299e50\", \"width\": 0.5}, \"mode\": \"lines\", \"type\": \"scatter\", \"x\": [0.8453879952430725, 0.13033394515514374], \"y\": [0.5950333476066589, 0.9250507354736328]}, {\"line\": {\"color\": \"#299e50\", \"width\": 0.5}, \"mode\": \"lines\", \"type\": \"scatter\", \"x\": [0.2612265348434448, 0.44581204652786255], \"y\": [0.7289882898330688, 0.3875442445278168]}, {\"line\": {\"color\": \"#299e50\", \"width\": 0.5}, \"mode\": \"lines\", \"type\": \"scatter\", \"x\": [0.2612265348434448, 0.5883558392524719], \"y\": [0.7289882898330688, 0.3832472264766693]}, {\"line\": {\"color\": \"#299e50\", \"width\": 0.5}, \"mode\": \"lines\", \"type\": \"scatter\", \"x\": [0.6394867897033691, 0.45234304666519165], \"y\": [0.6617842316627502, 0.30710840225219727]}, {\"line\": {\"color\": \"#299e50\", \"width\": 0.5}, \"mode\": \"lines\", \"type\": \"scatter\", \"x\": [0.6394867897033691, 0.2777462899684906], \"y\": [0.6617842316627502, 0.8072413206100464]}, {\"line\": {\"color\": \"#299e50\", \"width\": 0.5}, \"mode\": \"lines\", \"type\": \"scatter\", \"x\": [0.6394867897033691, 0.09174486994743347], \"y\": [0.6617842316627502, 0.061668798327445984]}, {\"line\": {\"color\": \"#299e50\", \"width\": 0.5}, \"mode\": \"lines\", \"type\": \"scatter\", \"x\": [0.6394867897033691, 0.23920944333076477], \"y\": [0.6617842316627502, 0.7581056952476501]}, {\"line\": {\"color\": \"#299e50\", \"width\": 0.5}, \"mode\": \"lines\", \"type\": \"scatter\", \"x\": [0.6394867897033691, 0.006159162148833275], \"y\": [0.6617842316627502, 0.15965008735656738]}, {\"line\": {\"color\": \"#299e50\", \"width\": 0.5}, \"mode\": \"lines\", \"type\": \"scatter\", \"x\": [0.6394867897033691, 0.7110656499862671], \"y\": [0.6617842316627502, 0.4716659486293793]}, {\"line\": {\"color\": \"#299e50\", \"width\": 0.5}, \"mode\": \"lines\", \"type\": \"scatter\", \"x\": [0.19886717200279236, 0.2048867642879486], \"y\": [0.7748035788536072, 0.28136515617370605]}, {\"line\": {\"color\": \"#299e50\", \"width\": 0.5}, \"mode\": \"lines\", \"type\": \"scatter\", \"x\": [0.19886717200279236, 0.898362398147583], \"y\": [0.7748035788536072, 0.12305456399917603]}, {\"line\": {\"color\": \"#299e50\", \"width\": 0.5}, \"mode\": \"lines\", \"type\": \"scatter\", \"x\": [0.19886717200279236, 0.23734433948993683], \"y\": [0.7748035788536072, 0.3826008141040802]}, {\"line\": {\"color\": \"#299e50\", \"width\": 0.5}, \"mode\": \"lines\", \"type\": \"scatter\", \"x\": [0.19125397503376007, 0.972025454044342], \"y\": [0.9430637955665588, 0.5740498900413513]}, {\"line\": {\"color\": \"#299e50\", \"width\": 0.5}, \"mode\": \"lines\", \"type\": \"scatter\", \"x\": [0.19125397503376007, 0.25031936168670654], \"y\": [0.9430637955665588, 0.7603886127471924]}, {\"line\": {\"color\": \"#299e50\", \"width\": 0.5}, \"mode\": \"lines\", \"type\": \"scatter\", \"x\": [0.2303985059261322, 0.8178924322128296], \"y\": [0.27691709995269775, 0.7954057455062866]}, {\"line\": {\"color\": \"#299e50\", \"width\": 0.5}, \"mode\": \"lines\", \"type\": \"scatter\", \"x\": [0.7147647738456726, 0.039353903383016586], \"y\": [0.9587607383728027, 0.029802024364471436]}, {\"line\": {\"color\": \"#299e50\", \"width\": 0.5}, \"mode\": \"lines\", \"type\": \"scatter\", \"x\": [0.7147647738456726, 0.11855419725179672], \"y\": [0.9587607383728027, 0.07933669537305832]}, {\"line\": {\"color\": \"#299e50\", \"width\": 0.5}, \"mode\": \"lines\", \"type\": \"scatter\", \"x\": [0.7147647738456726, 0.4427506923675537], \"y\": [0.9587607383728027, 0.526875376701355]}, {\"line\": {\"color\": \"#299e50\", \"width\": 0.5}, \"mode\": \"lines\", \"type\": \"scatter\", \"x\": [0.7147647738456726, 0.35828298330307007], \"y\": [0.9587607383728027, 0.6651905179023743]}, {\"line\": {\"color\": \"#299e50\", \"width\": 0.5}, \"mode\": \"lines\", \"type\": \"scatter\", \"x\": [0.23734433948993683, 0.7802153825759888], \"y\": [0.3826008141040802, 0.3655143678188324]}, {\"line\": {\"color\": \"#299e50\", \"width\": 0.5}, \"mode\": \"lines\", \"type\": \"scatter\", \"x\": [0.23734433948993683, 0.2543323040008545], \"y\": [0.3826008141040802, 0.4477144479751587]}, {\"line\": {\"color\": \"#299e50\", \"width\": 0.5}, \"mode\": \"lines\", \"type\": \"scatter\", \"x\": [0.23734433948993683, 0.21432127058506012], \"y\": [0.3826008141040802, 0.3018950819969177]}, {\"line\": {\"color\": \"#299e50\", \"width\": 0.5}, \"mode\": \"lines\", \"type\": \"scatter\", \"x\": [0.23734433948993683, 0.13358886539936066], \"y\": [0.3826008141040802, 0.6980350017547607]}, {\"line\": {\"color\": \"#299e50\", \"width\": 0.5}, \"mode\": \"lines\", \"type\": \"scatter\", \"x\": [0.23734433948993683, 0.9336130619049072], \"y\": [0.3826008141040802, 0.42656466364860535]}, {\"line\": {\"color\": \"#299e50\", \"width\": 0.5}, \"mode\": \"lines\", \"type\": \"scatter\", \"x\": [0.23734433948993683, 0.37884217500686646], \"y\": [0.3826008141040802, 0.8147547841072083]}, {\"line\": {\"color\": \"#299e50\", \"width\": 0.5}, \"mode\": \"lines\", \"type\": \"scatter\", \"x\": [0.23734433948993683, 0.823782205581665], \"y\": [0.3826008141040802, 0.1736501306295395]}, {\"line\": {\"color\": \"#299e50\", \"width\": 0.5}, \"mode\": \"lines\", \"type\": \"scatter\", \"x\": [0.23734433948993683, 0.4086643159389496], \"y\": [0.3826008141040802, 0.3621261417865753]}, {\"line\": {\"color\": \"#ff0000\", \"width\": 0.5}, \"mode\": \"lines\", \"type\": \"scatter\", \"x\": [0.23734433948993683, 0.6139403581619263], \"y\": [0.3826008141040802, 0.8554712533950806]}, {\"line\": {\"color\": \"#299e50\", \"width\": 0.5}, \"mode\": \"lines\", \"type\": \"scatter\", \"x\": [0.23734433948993683, 0.44496607780456543], \"y\": [0.3826008141040802, 0.9492318034172058]}, {\"line\": {\"color\": \"#299e50\", \"width\": 0.5}, \"mode\": \"lines\", \"type\": \"scatter\", \"x\": [0.23734433948993683, 0.9527837634086609], \"y\": [0.3826008141040802, 0.7103796601295471]}, {\"line\": {\"color\": \"#299e50\", \"width\": 0.5}, \"mode\": \"lines\", \"type\": \"scatter\", \"x\": [0.23734433948993683, 0.16964824497699738], \"y\": [0.3826008141040802, 0.5847124457359314]}, {\"line\": {\"color\": \"#299e50\", \"width\": 0.5}, \"mode\": \"lines\", \"type\": \"scatter\", \"x\": [0.23734433948993683, 0.7522110939025879], \"y\": [0.3826008141040802, 0.8591594696044922]}, {\"line\": {\"color\": \"#299e50\", \"width\": 0.5}, \"mode\": \"lines\", \"type\": \"scatter\", \"x\": [0.23734433948993683, 0.9386250376701355], \"y\": [0.3826008141040802, 0.9574994444847107]}, {\"line\": {\"color\": \"#299e50\", \"width\": 0.5}, \"mode\": \"lines\", \"type\": \"scatter\", \"x\": [0.23734433948993683, 0.6756320595741272], \"y\": [0.3826008141040802, 0.7507753968238831]}, {\"line\": {\"color\": \"#299e50\", \"width\": 0.5}, \"mode\": \"lines\", \"type\": \"scatter\", \"x\": [0.23734433948993683, 0.5626683831214905], \"y\": [0.3826008141040802, 0.44986510276794434]}, {\"line\": {\"color\": \"#299e50\", \"width\": 0.5}, \"mode\": \"lines\", \"type\": \"scatter\", \"x\": [0.23734433948993683, 0.5145339965820312], \"y\": [0.3826008141040802, 0.4334047734737396]}, {\"line\": {\"color\": \"#299e50\", \"width\": 0.5}, \"mode\": \"lines\", \"type\": \"scatter\", \"x\": [0.23734433948993683, 0.9812551736831665], \"y\": [0.3826008141040802, 0.4375913739204407]}, {\"line\": {\"color\": \"#299e50\", \"width\": 0.5}, \"mode\": \"lines\", \"type\": \"scatter\", \"x\": [0.23734433948993683, 0.35430580377578735], \"y\": [0.3826008141040802, 0.0780104547739029]}, {\"line\": {\"color\": \"#299e50\", \"width\": 0.5}, \"mode\": \"lines\", \"type\": \"scatter\", \"x\": [0.23734433948993683, 0.010524611920118332], \"y\": [0.3826008141040802, 0.0060152108781039715]}, {\"line\": {\"color\": \"#299e50\", \"width\": 0.5}, \"mode\": \"lines\", \"type\": \"scatter\", \"x\": [0.23734433948993683, 0.709672212600708], \"y\": [0.3826008141040802, 0.4082157015800476]}, {\"line\": {\"color\": \"#299e50\", \"width\": 0.5}, \"mode\": \"lines\", \"type\": \"scatter\", \"x\": [0.23734433948993683, 0.03677849471569061], \"y\": [0.3826008141040802, 0.9936811327934265]}, {\"line\": {\"color\": \"#299e50\", \"width\": 0.5}, \"mode\": \"lines\", \"type\": \"scatter\", \"x\": [0.23734433948993683, 0.4760971963405609], \"y\": [0.3826008141040802, 0.566075325012207]}, {\"line\": {\"color\": \"#299e50\", \"width\": 0.5}, \"mode\": \"lines\", \"type\": \"scatter\", \"x\": [0.23734433948993683, 0.809209942817688], \"y\": [0.3826008141040802, 0.14046691358089447]}, {\"line\": {\"color\": \"#299e50\", \"width\": 0.5}, \"mode\": \"lines\", \"type\": \"scatter\", \"x\": [0.23734433948993683, 0.2676929533481598], \"y\": [0.3826008141040802, 0.05253412202000618]}, {\"line\": {\"color\": \"#299e50\", \"width\": 0.5}, \"mode\": \"lines\", \"type\": \"scatter\", \"x\": [0.23734433948993683, 0.06493077427148819], \"y\": [0.3826008141040802, 0.46153759956359863]}, {\"line\": {\"color\": \"#299e50\", \"width\": 0.5}, \"mode\": \"lines\", \"type\": \"scatter\", \"x\": [0.23734433948993683, 0.2416342794895172], \"y\": [0.3826008141040802, 0.24467335641384125]}, {\"line\": {\"color\": \"#299e50\", \"width\": 0.5}, \"mode\": \"lines\", \"type\": \"scatter\", \"x\": [0.23734433948993683, 0.982602596282959], \"y\": [0.3826008141040802, 0.2772316634654999]}, {\"line\": {\"color\": \"#299e50\", \"width\": 0.5}, \"mode\": \"lines\", \"type\": \"scatter\", \"x\": [0.23734433948993683, 0.5578300952911377], \"y\": [0.3826008141040802, 0.7320091128349304]}, {\"line\": {\"color\": \"#299e50\", \"width\": 0.5}, \"mode\": \"lines\", \"type\": \"scatter\", \"x\": [0.23734433948993683, 0.2718692421913147], \"y\": [0.3826008141040802, 0.48011088371276855]}, {\"line\": {\"color\": \"#299e50\", \"width\": 0.5}, \"mode\": \"lines\", \"type\": \"scatter\", \"x\": [0.23734433948993683, 0.6938514709472656], \"y\": [0.3826008141040802, 0.2275884598493576]}, {\"line\": {\"color\": \"#299e50\", \"width\": 0.5}, \"mode\": \"lines\", \"type\": \"scatter\", \"x\": [0.23734433948993683, 0.9210480451583862], \"y\": [0.3826008141040802, 0.681963324546814]}, {\"line\": {\"color\": \"#299e50\", \"width\": 0.5}, \"mode\": \"lines\", \"type\": \"scatter\", \"x\": [0.09039711207151413, 0.27054616808891296], \"y\": [0.5394368171691895, 0.04672786965966225]}, {\"line\": {\"color\": \"#299e50\", \"width\": 0.5}, \"mode\": \"lines\", \"type\": \"scatter\", \"x\": [0.09039711207151413, 0.21354442834854126], \"y\": [0.5394368171691895, 0.4444177448749542]}, {\"line\": {\"color\": \"#ff0000\", \"width\": 0.5}, \"mode\": \"lines\", \"type\": \"scatter\", \"x\": [0.9527837634086609, 0.0730924978852272], \"y\": [0.7103796601295471, 0.46528303623199463]}, {\"line\": {\"color\": \"#ff0000\", \"width\": 0.5}, \"mode\": \"lines\", \"type\": \"scatter\", \"x\": [0.9527837634086609, 0.2053690403699875], \"y\": [0.7103796601295471, 0.26672622561454773]}, {\"line\": {\"color\": \"#ff0000\", \"width\": 0.5}, \"mode\": \"lines\", \"type\": \"scatter\", \"x\": [0.9527837634086609, 0.6033838391304016], \"y\": [0.7103796601295471, 0.5943506360054016]}, {\"line\": {\"color\": \"#ff0000\", \"width\": 0.5}, \"mode\": \"lines\", \"type\": \"scatter\", \"x\": [0.9527837634086609, 0.10090144723653793], \"y\": [0.7103796601295471, 0.21024325489997864]}, {\"line\": {\"color\": \"#ff0000\", \"width\": 0.5}, \"mode\": \"lines\", \"type\": \"scatter\", \"x\": [0.9527837634086609, 0.861233115196228], \"y\": [0.7103796601295471, 0.791810154914856]}, {\"line\": {\"color\": \"#ff0000\", \"width\": 0.5}, \"mode\": \"lines\", \"type\": \"scatter\", \"x\": [0.9527837634086609, 0.6426719427108765], \"y\": [0.7103796601295471, 0.8290209770202637]}, {\"line\": {\"color\": \"#ff0000\", \"width\": 0.5}, \"mode\": \"lines\", \"type\": \"scatter\", \"x\": [0.9527837634086609, 0.5767074823379517], \"y\": [0.7103796601295471, 0.6437641382217407]}, {\"line\": {\"color\": \"#ff0000\", \"width\": 0.5}, \"mode\": \"lines\", \"type\": \"scatter\", \"x\": [0.9527837634086609, 0.829862117767334], \"y\": [0.7103796601295471, 0.6627938747406006]}, {\"line\": {\"color\": \"#ff0000\", \"width\": 0.5}, \"mode\": \"lines\", \"type\": \"scatter\", \"x\": [0.9527837634086609, 0.5828037858009338], \"y\": [0.7103796601295471, 0.2813105881214142]}, {\"line\": {\"color\": \"#ff0000\", \"width\": 0.5}, \"mode\": \"lines\", \"type\": \"scatter\", \"x\": [0.9527837634086609, 0.4213493764400482], \"y\": [0.7103796601295471, 0.30406883358955383]}, {\"line\": {\"color\": \"#ff0000\", \"width\": 0.5}, \"mode\": \"lines\", \"type\": \"scatter\", \"x\": [0.9527837634086609, 0.6472386121749878], \"y\": [0.7103796601295471, 0.6766103506088257]}, {\"line\": {\"color\": \"#ff0000\", \"width\": 0.5}, \"mode\": \"lines\", \"type\": \"scatter\", \"x\": [0.9527837634086609, 0.7424083352088928], \"y\": [0.7103796601295471, 0.5817837715148926]}, {\"line\": {\"color\": \"#ff0000\", \"width\": 0.5}, \"mode\": \"lines\", \"type\": \"scatter\", \"x\": [0.9527837634086609, 0.6304723620414734], \"y\": [0.7103796601295471, 0.8672799468040466]}, {\"line\": {\"color\": \"#ff0000\", \"width\": 0.5}, \"mode\": \"lines\", \"type\": \"scatter\", \"x\": [0.9527837634086609, 0.9923645853996277], \"y\": [0.7103796601295471, 0.6319944858551025]}, {\"line\": {\"color\": \"#ff0000\", \"width\": 0.5}, \"mode\": \"lines\", \"type\": \"scatter\", \"x\": [0.9527837634086609, 0.40528005361557007], \"y\": [0.7103796601295471, 0.17564617097377777]}, {\"line\": {\"color\": \"#ff0000\", \"width\": 0.5}, \"mode\": \"lines\", \"type\": \"scatter\", \"x\": [0.9527837634086609, 0.30603769421577454], \"y\": [0.7103796601295471, 0.15179169178009033]}, {\"line\": {\"color\": \"#ff0000\", \"width\": 0.5}, \"mode\": \"lines\", \"type\": \"scatter\", \"x\": [0.9527837634086609, 0.3131215274333954], \"y\": [0.7103796601295471, 0.5513376593589783]}, {\"line\": {\"color\": \"#ff0000\", \"width\": 0.5}, \"mode\": \"lines\", \"type\": \"scatter\", \"x\": [0.9527837634086609, 0.18224120140075684], \"y\": [0.7103796601295471, 0.2353748083114624]}, {\"line\": {\"color\": \"#ff0000\", \"width\": 0.5}, \"mode\": \"lines\", \"type\": \"scatter\", \"x\": [0.9527837634086609, 0.05309188365936279], \"y\": [0.7103796601295471, 0.09115861356258392]}, {\"line\": {\"color\": \"#ff0000\", \"width\": 0.5}, \"mode\": \"lines\", \"type\": \"scatter\", \"x\": [0.9527837634086609, 0.9203370213508606], \"y\": [0.7103796601295471, 0.43947649002075195]}, {\"line\": {\"color\": \"#ff0000\", \"width\": 0.5}, \"mode\": \"lines\", \"type\": \"scatter\", \"x\": [0.9527837634086609, 0.8358270525932312], \"y\": [0.7103796601295471, 0.39250123500823975]}, {\"line\": {\"color\": \"#ff0000\", \"width\": 0.5}, \"mode\": \"lines\", \"type\": \"scatter\", \"x\": [0.9527837634086609, 0.007216425146907568], \"y\": [0.7103796601295471, 0.6033709049224854]}, {\"line\": {\"color\": \"#ff0000\", \"width\": 0.5}, \"mode\": \"lines\", \"type\": \"scatter\", \"x\": [0.9527837634086609, 0.20914453268051147], \"y\": [0.7103796601295471, 0.6443696022033691]}, {\"line\": {\"color\": \"#ff0000\", \"width\": 0.5}, \"mode\": \"lines\", \"type\": \"scatter\", \"x\": [0.9527837634086609, 0.6802449226379395], \"y\": [0.7103796601295471, 0.9905504584312439]}, {\"line\": {\"color\": \"#ff0000\", \"width\": 0.5}, \"mode\": \"lines\", \"type\": \"scatter\", \"x\": [0.9527837634086609, 0.9959636330604553], \"y\": [0.7103796601295471, 0.034198321402072906]}, {\"line\": {\"color\": \"#ff0000\", \"width\": 0.5}, \"mode\": \"lines\", \"type\": \"scatter\", \"x\": [0.9527837634086609, 0.9104712009429932], \"y\": [0.7103796601295471, 0.3901548981666565]}, {\"line\": {\"color\": \"#ff0000\", \"width\": 0.5}, \"mode\": \"lines\", \"type\": \"scatter\", \"x\": [0.9527837634086609, 0.5537923574447632], \"y\": [0.7103796601295471, 0.2832096815109253]}, {\"line\": {\"color\": \"#ff0000\", \"width\": 0.5}, \"mode\": \"lines\", \"type\": \"scatter\", \"x\": [0.9527837634086609, 0.49069541692733765], \"y\": [0.7103796601295471, 0.5232279896736145]}, {\"line\": {\"color\": \"#ff0000\", \"width\": 0.5}, \"mode\": \"lines\", \"type\": \"scatter\", \"x\": [0.9527837634086609, 0.8710607290267944], \"y\": [0.7103796601295471, 0.04917548596858978]}, {\"line\": {\"color\": \"#ff0000\", \"width\": 0.5}, \"mode\": \"lines\", \"type\": \"scatter\", \"x\": [0.9527837634086609, 0.3494279682636261], \"y\": [0.7103796601295471, 0.5948936939239502]}, {\"line\": {\"color\": \"#ff0000\", \"width\": 0.5}, \"mode\": \"lines\", \"type\": \"scatter\", \"x\": [0.9527837634086609, 0.7437469959259033], \"y\": [0.7103796601295471, 0.21863572299480438]}, {\"line\": {\"color\": \"#ff0000\", \"width\": 0.5}, \"mode\": \"lines\", \"type\": \"scatter\", \"x\": [0.9527837634086609, 0.41125744581222534], \"y\": [0.7103796601295471, 0.7925571203231812]}, {\"line\": {\"color\": \"#ff0000\", \"width\": 0.5}, \"mode\": \"lines\", \"type\": \"scatter\", \"x\": [0.9527837634086609, 0.25031936168670654], \"y\": [0.7103796601295471, 0.7603886127471924]}, {\"line\": {\"color\": \"#ff0000\", \"width\": 0.5}, \"mode\": \"lines\", \"type\": \"scatter\", \"x\": [0.9527837634086609, 0.48780906200408936], \"y\": [0.7103796601295471, 0.4134295582771301]}, {\"line\": {\"color\": \"#ff0000\", \"width\": 0.5}, \"mode\": \"lines\", \"type\": \"scatter\", \"x\": [0.9527837634086609, 0.717514157295227], \"y\": [0.7103796601295471, 0.4500488042831421]}, {\"line\": {\"color\": \"#ff0000\", \"width\": 0.5}, \"mode\": \"lines\", \"type\": \"scatter\", \"x\": [0.9527837634086609, 0.3581344783306122], \"y\": [0.7103796601295471, 0.779924213886261]}, {\"line\": {\"color\": \"#ff0000\", \"width\": 0.5}, \"mode\": \"lines\", \"type\": \"scatter\", \"x\": [0.9527837634086609, 0.1627233773469925], \"y\": [0.7103796601295471, 0.7866907715797424]}, {\"line\": {\"color\": \"#ff0000\", \"width\": 0.5}, \"mode\": \"lines\", \"type\": \"scatter\", \"x\": [0.9527837634086609, 0.31587642431259155], \"y\": [0.7103796601295471, 0.7502623200416565]}, {\"line\": {\"color\": \"#ff0000\", \"width\": 0.5}, \"mode\": \"lines\", \"type\": \"scatter\", \"x\": [0.9527837634086609, 0.009226803667843342], \"y\": [0.7103796601295471, 0.7768961787223816]}, {\"line\": {\"color\": \"#ff0000\", \"width\": 0.5}, \"mode\": \"lines\", \"type\": \"scatter\", \"x\": [0.9527837634086609, 0.5909917950630188], \"y\": [0.7103796601295471, 0.8862307071685791]}, {\"line\": {\"color\": \"#ff0000\", \"width\": 0.5}, \"mode\": \"lines\", \"type\": \"scatter\", \"x\": [0.9527837634086609, 0.9539052844047546], \"y\": [0.7103796601295471, 0.2703305780887604]}, {\"line\": {\"color\": \"#ff0000\", \"width\": 0.5}, \"mode\": \"lines\", \"type\": \"scatter\", \"x\": [0.9527837634086609, 0.273470401763916], \"y\": [0.7103796601295471, 0.2914603054523468]}, {\"line\": {\"color\": \"#ff0000\", \"width\": 0.5}, \"mode\": \"lines\", \"type\": \"scatter\", \"x\": [0.9527837634086609, 0.23380021750926971], \"y\": [0.7103796601295471, 0.6421271562576294]}, {\"line\": {\"color\": \"#ff0000\", \"width\": 0.5}, \"mode\": \"lines\", \"type\": \"scatter\", \"x\": [0.9527837634086609, 0.7747628688812256], \"y\": [0.7103796601295471, 0.8493409752845764]}, {\"line\": {\"color\": \"#ff0000\", \"width\": 0.5}, \"mode\": \"lines\", \"type\": \"scatter\", \"x\": [0.9527837634086609, 0.8942954540252686], \"y\": [0.7103796601295471, 0.10928799211978912]}, {\"line\": {\"color\": \"#ff0000\", \"width\": 0.5}, \"mode\": \"lines\", \"type\": \"scatter\", \"x\": [0.9527837634086609, 0.21547065675258636], \"y\": [0.7103796601295471, 0.4138983190059662]}, {\"line\": {\"color\": \"#ff0000\", \"width\": 0.5}, \"mode\": \"lines\", \"type\": \"scatter\", \"x\": [0.9527837634086609, 0.6476385593414307], \"y\": [0.7103796601295471, 0.35855090618133545]}, {\"line\": {\"color\": \"#ff0000\", \"width\": 0.5}, \"mode\": \"lines\", \"type\": \"scatter\", \"x\": [0.9527837634086609, 0.51434725522995], \"y\": [0.7103796601295471, 0.6089898347854614]}, {\"line\": {\"color\": \"#ff0000\", \"width\": 0.5}, \"mode\": \"lines\", \"type\": \"scatter\", \"x\": [0.9527837634086609, 0.9000940322875977], \"y\": [0.7103796601295471, 0.4002379775047302]}, {\"line\": {\"color\": \"#ff0000\", \"width\": 0.5}, \"mode\": \"lines\", \"type\": \"scatter\", \"x\": [0.9527837634086609, 0.6692140102386475], \"y\": [0.7103796601295471, 0.3064473569393158]}, {\"line\": {\"color\": \"#ff0000\", \"width\": 0.5}, \"mode\": \"lines\", \"type\": \"scatter\", \"x\": [0.9527837634086609, 0.742338240146637], \"y\": [0.7103796601295471, 0.54859459400177]}, {\"line\": {\"color\": \"#ff0000\", \"width\": 0.5}, \"mode\": \"lines\", \"type\": \"scatter\", \"x\": [0.9527837634086609, 0.5423852205276489], \"y\": [0.7103796601295471, 0.627467691898346]}, {\"line\": {\"color\": \"#ff0000\", \"width\": 0.5}, \"mode\": \"lines\", \"type\": \"scatter\", \"x\": [0.9527837634086609, 0.8393089175224304], \"y\": [0.7103796601295471, 0.2713569700717926]}, {\"line\": {\"color\": \"#ff0000\", \"width\": 0.5}, \"mode\": \"lines\", \"type\": \"scatter\", \"x\": [0.9527837634086609, 0.9353986382484436], \"y\": [0.7103796601295471, 0.07247896492481232]}, {\"line\": {\"color\": \"#ff0000\", \"width\": 0.5}, \"mode\": \"lines\", \"type\": \"scatter\", \"x\": [0.9527837634086609, 0.23927852511405945], \"y\": [0.7103796601295471, 0.2006034553050995]}, {\"line\": {\"color\": \"#ff0000\", \"width\": 0.5}, \"mode\": \"lines\", \"type\": \"scatter\", \"x\": [0.9527837634086609, 0.18280622363090515], \"y\": [0.7103796601295471, 0.20643772184848785]}, {\"line\": {\"color\": \"#ff0000\", \"width\": 0.5}, \"mode\": \"lines\", \"type\": \"scatter\", \"x\": [0.9527837634086609, 0.9857867360115051], \"y\": [0.7103796601295471, 0.7658610343933105]}, {\"line\": {\"color\": \"#ff0000\", \"width\": 0.5}, \"mode\": \"lines\", \"type\": \"scatter\", \"x\": [0.9527837634086609, 0.3003765344619751], \"y\": [0.7103796601295471, 0.5754393339157104]}, {\"line\": {\"color\": \"#ff0000\", \"width\": 0.5}, \"mode\": \"lines\", \"type\": \"scatter\", \"x\": [0.9527837634086609, 0.8244009017944336], \"y\": [0.7103796601295471, 0.12108081579208374]}, {\"line\": {\"color\": \"#ff0000\", \"width\": 0.5}, \"mode\": \"lines\", \"type\": \"scatter\", \"x\": [0.9527837634086609, 0.3805014193058014], \"y\": [0.7103796601295471, 0.32045266032218933]}, {\"line\": {\"color\": \"#299e50\", \"width\": 0.5}, \"mode\": \"lines\", \"type\": \"scatter\", \"x\": [0.901437520980835, 0.7679492235183716], \"y\": [0.00777409179136157, 0.2100306749343872]}, {\"line\": {\"color\": \"#299e50\", \"width\": 0.5}, \"mode\": \"lines\", \"type\": \"scatter\", \"x\": [0.901437520980835, 0.5851160287857056], \"y\": [0.00777409179136157, 0.6091163158416748]}, {\"line\": {\"color\": \"#299e50\", \"width\": 0.5}, \"mode\": \"lines\", \"type\": \"scatter\", \"x\": [0.2777462899684906, 0.9535922408103943], \"y\": [0.8072413206100464, 0.7105864882469177]}, {\"line\": {\"color\": \"#299e50\", \"width\": 0.5}, \"mode\": \"lines\", \"type\": \"scatter\", \"x\": [0.9259163737297058, 0.7104383707046509], \"y\": [0.30044692754745483, 0.8064296245574951]}, {\"line\": {\"color\": \"#299e50\", \"width\": 0.5}, \"mode\": \"lines\", \"type\": \"scatter\", \"x\": [0.9259163737297058, 0.08735064417123795], \"y\": [0.30044692754745483, 0.9197586178779602]}, {\"line\": {\"color\": \"#000000\", \"width\": 0.5}, \"mode\": \"lines\", \"type\": \"scatter\", \"x\": [0.891374945640564, 0.4441273808479309], \"y\": [0.9760767221450806, 0.0050231837667524815]}, {\"line\": {\"color\": \"#ff0000\", \"width\": 0.5}, \"mode\": \"lines\", \"type\": \"scatter\", \"x\": [0.2675245404243469, 0.688102662563324], \"y\": [0.9281884431838989, 0.9888705611228943]}, {\"line\": {\"color\": \"#299e50\", \"width\": 0.5}, \"mode\": \"lines\", \"type\": \"scatter\", \"x\": [0.2675245404243469, 0.9950801730155945], \"y\": [0.9281884431838989, 0.5712705850601196]}, {\"line\": {\"color\": \"#299e50\", \"width\": 0.5}, \"mode\": \"lines\", \"type\": \"scatter\", \"x\": [0.4218693971633911, 0.469279021024704], \"y\": [0.6878867745399475, 0.9261056184768677]}, {\"line\": {\"color\": \"#299e50\", \"width\": 0.5}, \"mode\": \"lines\", \"type\": \"scatter\", \"x\": [0.4218693971633911, 0.6742362976074219], \"y\": [0.6878867745399475, 0.47694918513298035]}, {\"line\": {\"color\": \"#299e50\", \"width\": 0.5}, \"mode\": \"lines\", \"type\": \"scatter\", \"x\": [0.6566489338874817, 0.6259392499923706], \"y\": [0.8621935844421387, 0.22990833222866058]}, {\"line\": {\"color\": \"#299e50\", \"width\": 0.5}, \"mode\": \"lines\", \"type\": \"scatter\", \"x\": [0.6566489338874817, 0.08735064417123795], \"y\": [0.8621935844421387, 0.9197586178779602]}, {\"line\": {\"color\": \"#299e50\", \"width\": 0.5}, \"mode\": \"lines\", \"type\": \"scatter\", \"x\": [0.0730924978852272, 0.44581204652786255], \"y\": [0.46528303623199463, 0.3875442445278168]}, {\"line\": {\"color\": \"#000000\", \"width\": 0.5}, \"mode\": \"lines\", \"type\": \"scatter\", \"x\": [0.9669575691223145, 0.14694912731647491], \"y\": [0.5950005650520325, 0.5987687110900879]}, {\"line\": {\"color\": \"#299e50\", \"width\": 0.5}, \"mode\": \"lines\", \"type\": \"scatter\", \"x\": [0.9669575691223145, 0.30741241574287415], \"y\": [0.5950005650520325, 0.4526333808898926]}, {\"line\": {\"color\": \"#ff0000\", \"width\": 0.5}, \"mode\": \"lines\", \"type\": \"scatter\", \"x\": [0.220235213637352, 0.688102662563324], \"y\": [0.8951765298843384, 0.9888705611228943]}, {\"line\": {\"color\": \"#299e50\", \"width\": 0.5}, \"mode\": \"lines\", \"type\": \"scatter\", \"x\": [0.220235213637352, 0.5369848012924194], \"y\": [0.8951765298843384, 0.40051907300949097]}, {\"line\": {\"color\": \"#299e50\", \"width\": 0.5}, \"mode\": \"lines\", \"type\": \"scatter\", \"x\": [0.45909276604652405, 0.8601850271224976], \"y\": [0.11685732752084732, 0.3932510316371918]}, {\"line\": {\"color\": \"#299e50\", \"width\": 0.5}, \"mode\": \"lines\", \"type\": \"scatter\", \"x\": [0.9210413098335266, 0.8605000972747803], \"y\": [0.28785815834999084, 0.4711788594722748]}, {\"line\": {\"color\": \"#ff0000\", \"width\": 0.5}, \"mode\": \"lines\", \"type\": \"scatter\", \"x\": [0.3494279682636261, 0.688102662563324], \"y\": [0.5948936939239502, 0.9888705611228943]}, {\"line\": {\"color\": \"#299e50\", \"width\": 0.5}, \"mode\": \"lines\", \"type\": \"scatter\", \"x\": [0.9057826399803162, 0.44581204652786255], \"y\": [0.2641553282737732, 0.3875442445278168]}, {\"line\": {\"color\": \"#299e50\", \"width\": 0.5}, \"mode\": \"lines\", \"type\": \"scatter\", \"x\": [0.12116431444883347, 0.42856118083000183], \"y\": [0.002034221775829792, 0.9394456744194031]}, {\"line\": {\"color\": \"#299e50\", \"width\": 0.5}, \"mode\": \"lines\", \"type\": \"scatter\", \"x\": [0.12116431444883347, 0.37376224994659424], \"y\": [0.002034221775829792, 0.37777864933013916]}, {\"line\": {\"color\": \"#299e50\", \"width\": 0.5}, \"mode\": \"lines\", \"type\": \"scatter\", \"x\": [0.7925739884376526, 0.7124500274658203], \"y\": [0.34890204668045044, 0.38893893361091614]}, {\"line\": {\"color\": \"#299e50\", \"width\": 0.5}, \"mode\": \"lines\", \"type\": \"scatter\", \"x\": [0.7925739884376526, 0.5463804006576538], \"y\": [0.34890204668045044, 0.31697767972946167]}, {\"line\": {\"color\": \"#000000\", \"width\": 0.5}, \"mode\": \"lines\", \"type\": \"scatter\", \"x\": [0.861233115196228, 0.9589328765869141], \"y\": [0.791810154914856, 0.41574493050575256]}, {\"line\": {\"color\": \"#000000\", \"width\": 0.5}, \"mode\": \"lines\", \"type\": \"scatter\", \"x\": [0.861233115196228, 0.5257600545883179], \"y\": [0.791810154914856, 0.3636617362499237]}, {\"line\": {\"color\": \"#299e50\", \"width\": 0.5}, \"mode\": \"lines\", \"type\": \"scatter\", \"x\": [0.16964824497699738, 0.7705209851264954], \"y\": [0.5847124457359314, 0.8238486051559448]}, {\"line\": {\"color\": \"#299e50\", \"width\": 0.5}, \"mode\": \"lines\", \"type\": \"scatter\", \"x\": [0.4049499034881592, 0.2027883529663086], \"y\": [0.5708804130554199, 0.23913969099521637]}, {\"line\": {\"color\": \"#299e50\", \"width\": 0.5}, \"mode\": \"lines\", \"type\": \"scatter\", \"x\": [0.4049499034881592, 0.7906101942062378], \"y\": [0.5708804130554199, 0.8271239399909973]}, {\"line\": {\"color\": \"#299e50\", \"width\": 0.5}, \"mode\": \"lines\", \"type\": \"scatter\", \"x\": [0.4049499034881592, 0.24933616816997528], \"y\": [0.5708804130554199, 0.7661589980125427]}, {\"line\": {\"color\": \"#299e50\", \"width\": 0.5}, \"mode\": \"lines\", \"type\": \"scatter\", \"x\": [0.4049499034881592, 0.8071006536483765], \"y\": [0.5708804130554199, 0.49038267135620117]}, {\"line\": {\"color\": \"#299e50\", \"width\": 0.5}, \"mode\": \"lines\", \"type\": \"scatter\", \"x\": [0.5489649772644043, 0.24933616816997528], \"y\": [0.15700021386146545, 0.7661589980125427]}, {\"line\": {\"color\": \"#299e50\", \"width\": 0.5}, \"mode\": \"lines\", \"type\": \"scatter\", \"x\": [0.5489649772644043, 0.30741241574287415], \"y\": [0.15700021386146545, 0.4526333808898926]}, {\"line\": {\"color\": \"#299e50\", \"width\": 0.5}, \"mode\": \"lines\", \"type\": \"scatter\", \"x\": [0.3608105480670929, 0.2392139732837677], \"y\": [0.38436076045036316, 0.5509072542190552]}, {\"line\": {\"color\": \"#299e50\", \"width\": 0.5}, \"mode\": \"lines\", \"type\": \"scatter\", \"x\": [0.3608105480670929, 0.7865979075431824], \"y\": [0.38436076045036316, 0.3577098250389099]}, {\"line\": {\"color\": \"#299e50\", \"width\": 0.5}, \"mode\": \"lines\", \"type\": \"scatter\", \"x\": [0.1054673045873642, 0.9533740282058716], \"y\": [0.1829063445329666, 0.30268898606300354]}, {\"line\": {\"color\": \"#299e50\", \"width\": 0.5}, \"mode\": \"lines\", \"type\": \"scatter\", \"x\": [0.1054673045873642, 0.042348384857177734], \"y\": [0.1829063445329666, 0.5137543082237244]}, {\"line\": {\"color\": \"#299e50\", \"width\": 0.5}, \"mode\": \"lines\", \"type\": \"scatter\", \"x\": [0.12961436808109283, 0.6886407136917114], \"y\": [0.8514474034309387, 0.6049558520317078]}, {\"line\": {\"color\": \"#299e50\", \"width\": 0.5}, \"mode\": \"lines\", \"type\": \"scatter\", \"x\": [0.12961436808109283, 0.6283118724822998], \"y\": [0.8514474034309387, 0.36206263303756714]}, {\"line\": {\"color\": \"#ff0000\", \"width\": 0.5}, \"mode\": \"lines\", \"type\": \"scatter\", \"x\": [0.3581344783306122, 0.688102662563324], \"y\": [0.779924213886261, 0.9888705611228943]}, {\"line\": {\"color\": \"#ff0000\", \"width\": 0.5}, \"mode\": \"lines\", \"type\": \"scatter\", \"x\": [0.6576730608940125, 0.688102662563324], \"y\": [0.5684886574745178, 0.9888705611228943]}, {\"line\": {\"color\": \"#299e50\", \"width\": 0.5}, \"mode\": \"lines\", \"type\": \"scatter\", \"x\": [0.6576730608940125, 0.8178924322128296], \"y\": [0.5684886574745178, 0.7954057455062866]}, {\"line\": {\"color\": \"#299e50\", \"width\": 0.5}, \"mode\": \"lines\", \"type\": \"scatter\", \"x\": [0.10953275859355927, 0.9535922408103943], \"y\": [0.6045091152191162, 0.7105864882469177]}, {\"line\": {\"color\": \"#299e50\", \"width\": 0.5}, \"mode\": \"lines\", \"type\": \"scatter\", \"x\": [0.10953275859355927, 0.46177294850349426], \"y\": [0.6045091152191162, 0.9223251342773438]}, {\"line\": {\"color\": \"#299e50\", \"width\": 0.5}, \"mode\": \"lines\", \"type\": \"scatter\", \"x\": [0.42625564336776733, 0.7033612132072449], \"y\": [0.12353954464197159, 0.5784785151481628]}, {\"line\": {\"color\": \"#299e50\", \"width\": 0.5}, \"mode\": \"lines\", \"type\": \"scatter\", \"x\": [0.42625564336776733, 0.5868855118751526], \"y\": [0.12353954464197159, 0.8264986276626587]}, {\"line\": {\"color\": \"#299e50\", \"width\": 0.5}, \"mode\": \"lines\", \"type\": \"scatter\", \"x\": [0.37471911311149597, 0.9535922408103943], \"y\": [0.24507416784763336, 0.7105864882469177]}, {\"line\": {\"color\": \"#299e50\", \"width\": 0.5}, \"mode\": \"lines\", \"type\": \"scatter\", \"x\": [0.37471911311149597, 0.4412229061126709], \"y\": [0.24507416784763336, 0.5574187636375427]}, {\"line\": {\"color\": \"#299e50\", \"width\": 0.5}, \"mode\": \"lines\", \"type\": \"scatter\", \"x\": [0.37471911311149597, 0.5298361778259277], \"y\": [0.24507416784763336, 0.813056230545044]}, {\"line\": {\"color\": \"#299e50\", \"width\": 0.5}, \"mode\": \"lines\", \"type\": \"scatter\", \"x\": [0.37471911311149597, 0.6038833260536194], \"y\": [0.24507416784763336, 0.5438730120658875]}, {\"line\": {\"color\": \"#299e50\", \"width\": 0.5}, \"mode\": \"lines\", \"type\": \"scatter\", \"x\": [0.37471911311149597, 0.3639090061187744], \"y\": [0.24507416784763336, 0.44308748841285706]}, {\"line\": {\"color\": \"#299e50\", \"width\": 0.5}, \"mode\": \"lines\", \"type\": \"scatter\", \"x\": [0.37471911311149597, 0.8320872783660889], \"y\": [0.24507416784763336, 0.3329014778137207]}, {\"line\": {\"color\": \"#299e50\", \"width\": 0.5}, \"mode\": \"lines\", \"type\": \"scatter\", \"x\": [0.37471911311149597, 0.2676929533481598], \"y\": [0.24507416784763336, 0.05253412202000618]}, {\"line\": {\"color\": \"#299e50\", \"width\": 0.5}, \"mode\": \"lines\", \"type\": \"scatter\", \"x\": [0.37471911311149597, 0.8314588069915771], \"y\": [0.24507416784763336, 0.9181115627288818]}, {\"line\": {\"color\": \"#299e50\", \"width\": 0.5}, \"mode\": \"lines\", \"type\": \"scatter\", \"x\": [0.032796379178762436, 0.11911876499652863], \"y\": [0.11914670467376709, 0.7354016304016113]}, {\"line\": {\"color\": \"#299e50\", \"width\": 0.5}, \"mode\": \"lines\", \"type\": \"scatter\", \"x\": [0.9116828441619873, 0.9036331176757812], \"y\": [0.03659318760037422, 0.7973167300224304]}, {\"line\": {\"color\": \"#299e50\", \"width\": 0.5}, \"mode\": \"lines\", \"type\": \"scatter\", \"x\": [0.9116828441619873, 0.6938514709472656], \"y\": [0.03659318760037422, 0.2275884598493576]}, {\"line\": {\"color\": \"#299e50\", \"width\": 0.5}, \"mode\": \"lines\", \"type\": \"scatter\", \"x\": [0.41236838698387146, 0.2548542022705078], \"y\": [0.3075141906738281, 0.43847450613975525]}, {\"line\": {\"color\": \"#299e50\", \"width\": 0.5}, \"mode\": \"lines\", \"type\": \"scatter\", \"x\": [0.41236838698387146, 0.709672212600708], \"y\": [0.3075141906738281, 0.4082157015800476]}, {\"line\": {\"color\": \"#299e50\", \"width\": 0.5}, \"mode\": \"lines\", \"type\": \"scatter\", \"x\": [0.06136680394411087, 0.5975174307823181], \"y\": [0.7171312570571899, 0.09037003666162491]}, {\"line\": {\"color\": \"#299e50\", \"width\": 0.5}, \"mode\": \"lines\", \"type\": \"scatter\", \"x\": [0.06136680394411087, 0.31636717915534973], \"y\": [0.7171312570571899, 0.9461463093757629]}, {\"line\": {\"color\": \"#299e50\", \"width\": 0.5}, \"mode\": \"lines\", \"type\": \"scatter\", \"x\": [0.06136680394411087, 0.2658243775367737], \"y\": [0.7171312570571899, 0.629175066947937]}, {\"line\": {\"color\": \"#299e50\", \"width\": 0.5}, \"mode\": \"lines\", \"type\": \"scatter\", \"x\": [0.06136680394411087, 0.19496621191501617], \"y\": [0.7171312570571899, 0.4010249376296997]}, {\"line\": {\"color\": \"#299e50\", \"width\": 0.5}, \"mode\": \"lines\", \"type\": \"scatter\", \"x\": [0.06136680394411087, 0.2897850275039673], \"y\": [0.7171312570571899, 0.8059777021408081]}, {\"line\": {\"color\": \"#299e50\", \"width\": 0.5}, \"mode\": \"lines\", \"type\": \"scatter\", \"x\": [0.06136680394411087, 0.09728842228651047], \"y\": [0.7171312570571899, 0.7286191582679749]}, {\"line\": {\"color\": \"#299e50\", \"width\": 0.5}, \"mode\": \"lines\", \"type\": \"scatter\", \"x\": [0.06136680394411087, 0.02191220410168171], \"y\": [0.7171312570571899, 0.9501380920410156]}, {\"line\": {\"color\": \"#299e50\", \"width\": 0.5}, \"mode\": \"lines\", \"type\": \"scatter\", \"x\": [0.4268963038921356, 0.009364954195916653], \"y\": [0.3526017963886261, 0.8570823669433594]}, {\"line\": {\"color\": \"#299e50\", \"width\": 0.5}, \"mode\": \"lines\", \"type\": \"scatter\", \"x\": [0.4268963038921356, 0.4003163278102875], \"y\": [0.3526017963886261, 0.06983596831560135]}, {\"line\": {\"color\": \"#299e50\", \"width\": 0.5}, \"mode\": \"lines\", \"type\": \"scatter\", \"x\": [0.4268963038921356, 0.298348993062973], \"y\": [0.3526017963886261, 0.06702214479446411]}, {\"line\": {\"color\": \"#299e50\", \"width\": 0.5}, \"mode\": \"lines\", \"type\": \"scatter\", \"x\": [0.4268963038921356, 0.298348993062973], \"y\": [0.3526017963886261, 0.06702214479446411]}, {\"line\": {\"color\": \"#299e50\", \"width\": 0.5}, \"mode\": \"lines\", \"type\": \"scatter\", \"x\": [0.3266421854496002, 0.8112418055534363], \"y\": [0.057237427681684494, 0.6319705247879028]}, {\"line\": {\"color\": \"#299e50\", \"width\": 0.5}, \"mode\": \"lines\", \"type\": \"scatter\", \"x\": [0.3266421854496002, 0.9203370213508606], \"y\": [0.057237427681684494, 0.43947649002075195]}, {\"line\": {\"color\": \"#ff0000\", \"width\": 0.5}, \"mode\": \"lines\", \"type\": \"scatter\", \"x\": [0.16167396306991577, 0.688102662563324], \"y\": [0.7216278910636902, 0.9888705611228943]}, {\"line\": {\"color\": \"#299e50\", \"width\": 0.5}, \"mode\": \"lines\", \"type\": \"scatter\", \"x\": [0.11855419725179672, 0.5145339965820312], \"y\": [0.07933669537305832, 0.4334047734737396]}, {\"line\": {\"color\": \"#299e50\", \"width\": 0.5}, \"mode\": \"lines\", \"type\": \"scatter\", \"x\": [0.16244250535964966, 0.042348384857177734], \"y\": [0.18360093235969543, 0.5137543082237244]}, {\"line\": {\"color\": \"#299e50\", \"width\": 0.5}, \"mode\": \"lines\", \"type\": \"scatter\", \"x\": [0.16244250535964966, 0.885564386844635], \"y\": [0.18360093235969543, 0.7476477026939392]}, {\"line\": {\"color\": \"#299e50\", \"width\": 0.5}, \"mode\": \"lines\", \"type\": \"scatter\", \"x\": [0.868268609046936, 0.3229692876338959], \"y\": [0.28348907828330994, 0.7871139049530029]}, {\"line\": {\"color\": \"#299e50\", \"width\": 0.5}, \"mode\": \"lines\", \"type\": \"scatter\", \"x\": [0.868268609046936, 0.804632306098938], \"y\": [0.28348907828330994, 0.5733250379562378]}, {\"line\": {\"color\": \"#299e50\", \"width\": 0.5}, \"mode\": \"lines\", \"type\": \"scatter\", \"x\": [0.6455848813056946, 0.01045279297977686], \"y\": [0.9835445880889893, 0.9925180673599243]}, {\"line\": {\"color\": \"#299e50\", \"width\": 0.5}, \"mode\": \"lines\", \"type\": \"scatter\", \"x\": [0.5214764475822449, 0.8888798952102661], \"y\": [0.6203175187110901, 0.6760756969451904]}, {\"line\": {\"color\": \"#299e50\", \"width\": 0.5}, \"mode\": \"lines\", \"type\": \"scatter\", \"x\": [0.5214764475822449, 0.5235260128974915], \"y\": [0.6203175187110901, 0.4669438302516937]}, {\"line\": {\"color\": \"#ff0000\", \"width\": 0.5}, \"mode\": \"lines\", \"type\": \"scatter\", \"x\": [0.23380021750926971, 0.688102662563324], \"y\": [0.6421271562576294, 0.9888705611228943]}, {\"line\": {\"color\": \"#299e50\", \"width\": 0.5}, \"mode\": \"lines\", \"type\": \"scatter\", \"x\": [0.30741241574287415, 0.18046684563159943], \"y\": [0.4526333808898926, 0.8838555216789246]}, {\"line\": {\"color\": \"#299e50\", \"width\": 0.5}, \"mode\": \"lines\", \"type\": \"scatter\", \"x\": [0.30741241574287415, 0.36872926354408264], \"y\": [0.4526333808898926, 0.4435192942619324]}, {\"line\": {\"color\": \"#299e50\", \"width\": 0.5}, \"mode\": \"lines\", \"type\": \"scatter\", \"x\": [0.30741241574287415, 0.6362404227256775], \"y\": [0.4526333808898926, 0.2567344307899475]}, {\"line\": {\"color\": \"#299e50\", \"width\": 0.5}, \"mode\": \"lines\", \"type\": \"scatter\", \"x\": [0.30741241574287415, 0.4188392162322998], \"y\": [0.4526333808898926, 0.5955045819282532]}, {\"line\": {\"color\": \"#299e50\", \"width\": 0.5}, \"mode\": \"lines\", \"type\": \"scatter\", \"x\": [0.30741241574287415, 0.7078151702880859], \"y\": [0.4526333808898926, 0.36715856194496155]}, {\"line\": {\"color\": \"#299e50\", \"width\": 0.5}, \"mode\": \"lines\", \"type\": \"scatter\", \"x\": [0.30741241574287415, 0.2817017734050751], \"y\": [0.4526333808898926, 0.21259024739265442]}, {\"line\": {\"color\": \"#299e50\", \"width\": 0.5}, \"mode\": \"lines\", \"type\": \"scatter\", \"x\": [0.30741241574287415, 0.2067819982767105], \"y\": [0.4526333808898926, 0.04610732942819595]}, {\"line\": {\"color\": \"#299e50\", \"width\": 0.5}, \"mode\": \"lines\", \"type\": \"scatter\", \"x\": [0.30741241574287415, 0.3540553152561188], \"y\": [0.4526333808898926, 0.908203125]}, {\"line\": {\"color\": \"#299e50\", \"width\": 0.5}, \"mode\": \"lines\", \"type\": \"scatter\", \"x\": [0.30741241574287415, 0.9610236883163452], \"y\": [0.4526333808898926, 0.1805858016014099]}, {\"line\": {\"color\": \"#299e50\", \"width\": 0.5}, \"mode\": \"lines\", \"type\": \"scatter\", \"x\": [0.8584048748016357, 0.8176313638687134], \"y\": [0.6441057324409485, 0.8166991472244263]}, {\"line\": {\"color\": \"#299e50\", \"width\": 0.5}, \"mode\": \"lines\", \"type\": \"scatter\", \"x\": [0.8746578693389893, 0.44581204652786255], \"y\": [0.5382279753684998, 0.3875442445278168]}, {\"line\": {\"color\": \"#299e50\", \"width\": 0.5}, \"mode\": \"lines\", \"type\": \"scatter\", \"x\": [0.8746578693389893, 0.6742362976074219], \"y\": [0.5382279753684998, 0.47694918513298035]}, {\"line\": {\"color\": \"#299e50\", \"width\": 0.5}, \"mode\": \"lines\", \"type\": \"scatter\", \"x\": [0.2543323040008545, 0.7705209851264954], \"y\": [0.4477144479751587, 0.8238486051559448]}, {\"line\": {\"color\": \"#299e50\", \"width\": 0.5}, \"mode\": \"lines\", \"type\": \"scatter\", \"x\": [0.5782110691070557, 0.8556737899780273], \"y\": [0.022018224000930786, 0.8741962909698486]}, {\"line\": {\"color\": \"#299e50\", \"width\": 0.5}, \"mode\": \"lines\", \"type\": \"scatter\", \"x\": [0.5782110691070557, 0.08868295699357986], \"y\": [0.022018224000930786, 0.912906289100647]}, {\"line\": {\"color\": \"#ff0000\", \"width\": 0.5}, \"mode\": \"lines\", \"type\": \"scatter\", \"x\": [0.5537923574447632, 0.688102662563324], \"y\": [0.2832096815109253, 0.9888705611228943]}, {\"line\": {\"color\": \"#299e50\", \"width\": 0.5}, \"mode\": \"lines\", \"type\": \"scatter\", \"x\": [0.24131529033184052, 0.7060776948928833], \"y\": [0.8359021544456482, 0.42263713479042053]}, {\"line\": {\"color\": \"#299e50\", \"width\": 0.5}, \"mode\": \"lines\", \"type\": \"scatter\", \"x\": [0.2449370175600052, 0.5691252946853638], \"y\": [0.21335531771183014, 0.1434451788663864]}, {\"line\": {\"color\": \"#299e50\", \"width\": 0.5}, \"mode\": \"lines\", \"type\": \"scatter\", \"x\": [0.2449370175600052, 0.1367407739162445], \"y\": [0.21335531771183014, 0.0881347507238388]}, {\"line\": {\"color\": \"#ff0000\", \"width\": 0.5}, \"mode\": \"lines\", \"type\": \"scatter\", \"x\": [0.3867781162261963, 0.688102662563324], \"y\": [0.6892977952957153, 0.9888705611228943]}, {\"line\": {\"color\": \"#299e50\", \"width\": 0.5}, \"mode\": \"lines\", \"type\": \"scatter\", \"x\": [0.3867781162261963, 0.6387676000595093], \"y\": [0.6892977952957153, 0.662317156791687]}, {\"line\": {\"color\": \"#299e50\", \"width\": 0.5}, \"mode\": \"lines\", \"type\": \"scatter\", \"x\": [0.9535922408103943, 0.7283123135566711], \"y\": [0.7105864882469177, 0.48522043228149414]}, {\"line\": {\"color\": \"#299e50\", \"width\": 0.5}, \"mode\": \"lines\", \"type\": \"scatter\", \"x\": [0.9535922408103943, 0.4552482068538666], \"y\": [0.7105864882469177, 0.797096312046051]}, {\"line\": {\"color\": \"#299e50\", \"width\": 0.5}, \"mode\": \"lines\", \"type\": \"scatter\", \"x\": [0.9535922408103943, 0.7369351387023926], \"y\": [0.7105864882469177, 0.2640984356403351]}, {\"line\": {\"color\": \"#299e50\", \"width\": 0.5}, \"mode\": \"lines\", \"type\": \"scatter\", \"x\": [0.9535922408103943, 0.9048545956611633], \"y\": [0.7105864882469177, 0.12441635131835938]}, {\"line\": {\"color\": \"#299e50\", \"width\": 0.5}, \"mode\": \"lines\", \"type\": \"scatter\", \"x\": [0.9535922408103943, 0.9660898447036743], \"y\": [0.7105864882469177, 0.5598728060722351]}, {\"line\": {\"color\": \"#299e50\", \"width\": 0.5}, \"mode\": \"lines\", \"type\": \"scatter\", \"x\": [0.9535922408103943, 0.9191186428070068], \"y\": [0.7105864882469177, 0.512662947177887]}, {\"line\": {\"color\": \"#299e50\", \"width\": 0.5}, \"mode\": \"lines\", \"type\": \"scatter\", \"x\": [0.9535922408103943, 0.3076225519180298], \"y\": [0.7105864882469177, 0.22935745120048523]}, {\"line\": {\"color\": \"#299e50\", \"width\": 0.5}, \"mode\": \"lines\", \"type\": \"scatter\", \"x\": [0.9535922408103943, 0.36375749111175537], \"y\": [0.7105864882469177, 0.4329463839530945]}, {\"line\": {\"color\": \"#299e50\", \"width\": 0.5}, \"mode\": \"lines\", \"type\": \"scatter\", \"x\": [0.9535922408103943, 0.2814908027648926], \"y\": [0.7105864882469177, 0.833077609539032]}, {\"line\": {\"color\": \"#299e50\", \"width\": 0.5}, \"mode\": \"lines\", \"type\": \"scatter\", \"x\": [0.9535922408103943, 0.22995513677597046], \"y\": [0.7105864882469177, 0.6624197959899902]}, {\"line\": {\"color\": \"#299e50\", \"width\": 0.5}, \"mode\": \"lines\", \"type\": \"scatter\", \"x\": [0.9535922408103943, 0.7834973335266113], \"y\": [0.7105864882469177, 0.37673723697662354]}, {\"line\": {\"color\": \"#299e50\", \"width\": 0.5}, \"mode\": \"lines\", \"type\": \"scatter\", \"x\": [0.9535922408103943, 0.6552994251251221], \"y\": [0.7105864882469177, 0.2802817225456238]}, {\"line\": {\"color\": \"#299e50\", \"width\": 0.5}, \"mode\": \"lines\", \"type\": \"scatter\", \"x\": [0.9535922408103943, 0.5211465954780579], \"y\": [0.7105864882469177, 0.09790996462106705]}, {\"line\": {\"color\": \"#299e50\", \"width\": 0.5}, \"mode\": \"lines\", \"type\": \"scatter\", \"x\": [0.7247529029846191, 0.3431510329246521], \"y\": [0.6330242156982422, 0.5091053247451782]}, {\"line\": {\"color\": \"#299e50\", \"width\": 0.5}, \"mode\": \"lines\", \"type\": \"scatter\", \"x\": [0.7247529029846191, 0.03822695091366768], \"y\": [0.6330242156982422, 0.132366344332695]}, {\"line\": {\"color\": \"#299e50\", \"width\": 0.5}, \"mode\": \"lines\", \"type\": \"scatter\", \"x\": [0.7230420708656311, 0.08260887861251831], \"y\": [0.08449665457010269, 0.1305074244737625]}, {\"line\": {\"color\": \"#299e50\", \"width\": 0.5}, \"mode\": \"lines\", \"type\": \"scatter\", \"x\": [0.7230420708656311, 0.2718692421913147], \"y\": [0.08449665457010269, 0.48011088371276855]}, {\"line\": {\"color\": \"#299e50\", \"width\": 0.5}, \"mode\": \"lines\", \"type\": \"scatter\", \"x\": [0.6742362976074219, 0.9712615609169006], \"y\": [0.47694918513298035, 0.47432541847229004]}, {\"line\": {\"color\": \"#299e50\", \"width\": 0.5}, \"mode\": \"lines\", \"type\": \"scatter\", \"x\": [0.6037368178367615, 0.9072867035865784], \"y\": [0.12893743813037872, 0.7904559969902039]}, {\"line\": {\"color\": \"#299e50\", \"width\": 0.5}, \"mode\": \"lines\", \"type\": \"scatter\", \"x\": [0.6037368178367615, 0.5257600545883179], \"y\": [0.12893743813037872, 0.3636617362499237]}, {\"line\": {\"color\": \"#299e50\", \"width\": 0.5}, \"mode\": \"lines\", \"type\": \"scatter\", \"x\": [0.5868855118751526, 0.2814908027648926], \"y\": [0.8264986276626587, 0.833077609539032]}, {\"line\": {\"color\": \"#299e50\", \"width\": 0.5}, \"mode\": \"lines\", \"type\": \"scatter\", \"x\": [0.3540553152561188, 0.11400165408849716], \"y\": [0.908203125, 0.45799964666366577]}, {\"line\": {\"color\": \"#299e50\", \"width\": 0.5}, \"mode\": \"lines\", \"type\": \"scatter\", \"x\": [0.10090144723653793, 0.2548542022705078], \"y\": [0.21024325489997864, 0.43847450613975525]}, {\"line\": {\"color\": \"#299e50\", \"width\": 0.5}, \"mode\": \"lines\", \"type\": \"scatter\", \"x\": [0.36881691217422485, 0.8888798952102661], \"y\": [0.12157180905342102, 0.6760756969451904]}, {\"line\": {\"color\": \"#299e50\", \"width\": 0.5}, \"mode\": \"lines\", \"type\": \"scatter\", \"x\": [0.7463298439979553, 0.8423578143119812], \"y\": [0.9924412965774536, 0.7606645226478577]}, {\"line\": {\"color\": \"#299e50\", \"width\": 0.5}, \"mode\": \"lines\", \"type\": \"scatter\", \"x\": [0.8569652438163757, 0.20855578780174255], \"y\": [0.5634185075759888, 0.8728055357933044]}, {\"line\": {\"color\": \"#299e50\", \"width\": 0.5}, \"mode\": \"lines\", \"type\": \"scatter\", \"x\": [0.8569652438163757, 0.00428256718441844], \"y\": [0.5634185075759888, 0.36922237277030945]}, {\"line\": {\"color\": \"#299e50\", \"width\": 0.5}, \"mode\": \"lines\", \"type\": \"scatter\", \"x\": [0.8569652438163757, 0.4441273808479309], \"y\": [0.5634185075759888, 0.0050231837667524815]}, {\"line\": {\"color\": \"#299e50\", \"width\": 0.5}, \"mode\": \"lines\", \"type\": \"scatter\", \"x\": [0.8569652438163757, 0.22995513677597046], \"y\": [0.5634185075759888, 0.6624197959899902]}, {\"line\": {\"color\": \"#299e50\", \"width\": 0.5}, \"mode\": \"lines\", \"type\": \"scatter\", \"x\": [0.9151239991188049, 0.6869925856590271], \"y\": [0.2732889950275421, 0.044700391590595245]}, {\"line\": {\"color\": \"#299e50\", \"width\": 0.5}, \"mode\": \"lines\", \"type\": \"scatter\", \"x\": [0.9151239991188049, 0.10754048824310303], \"y\": [0.2732889950275421, 0.8697237372398376]}, {\"line\": {\"color\": \"#299e50\", \"width\": 0.5}, \"mode\": \"lines\", \"type\": \"scatter\", \"x\": [0.8659422397613525, 0.3475211262702942], \"y\": [0.30480411648750305, 0.4190945625305176]}, {\"line\": {\"color\": \"#299e50\", \"width\": 0.5}, \"mode\": \"lines\", \"type\": \"scatter\", \"x\": [0.8659422397613525, 0.9950801730155945], \"y\": [0.30480411648750305, 0.5712705850601196]}, {\"line\": {\"color\": \"#299e50\", \"width\": 0.5}, \"mode\": \"lines\", \"type\": \"scatter\", \"x\": [0.6980128884315491, 0.9898263812065125], \"y\": [0.8747133612632751, 0.9276485443115234]}, {\"line\": {\"color\": \"#299e50\", \"width\": 0.5}, \"mode\": \"lines\", \"type\": \"scatter\", \"x\": [0.6980128884315491, 0.6139403581619263], \"y\": [0.8747133612632751, 0.8554712533950806]}, {\"line\": {\"color\": \"#299e50\", \"width\": 0.5}, \"mode\": \"lines\", \"type\": \"scatter\", \"x\": [0.7906101942062378, 0.19288185238838196], \"y\": [0.8271239399909973, 0.5290423631668091]}, {\"line\": {\"color\": \"#299e50\", \"width\": 0.5}, \"mode\": \"lines\", \"type\": \"scatter\", \"x\": [0.6208258271217346, 0.7446613907814026], \"y\": [0.239152193069458, 0.3356136381626129]}, {\"line\": {\"color\": \"#299e50\", \"width\": 0.5}, \"mode\": \"lines\", \"type\": \"scatter\", \"x\": [0.6208258271217346, 0.0965760126709938], \"y\": [0.239152193069458, 0.10164432227611542]}, {\"line\": {\"color\": \"#299e50\", \"width\": 0.5}, \"mode\": \"lines\", \"type\": \"scatter\", \"x\": [0.1052718460559845, 0.6359803080558777], \"y\": [0.07554101198911667, 0.9657894372940063]}, {\"line\": {\"color\": \"#299e50\", \"width\": 0.5}, \"mode\": \"lines\", \"type\": \"scatter\", \"x\": [0.1052718460559845, 0.48688048124313354], \"y\": [0.07554101198911667, 0.08886551111936569]}, {\"line\": {\"color\": \"#299e50\", \"width\": 0.5}, \"mode\": \"lines\", \"type\": \"scatter\", \"x\": [0.3431510329246521, 0.44898006319999695], \"y\": [0.5091053247451782, 0.6405199766159058]}, {\"line\": {\"color\": \"#299e50\", \"width\": 0.5}, \"mode\": \"lines\", \"type\": \"scatter\", \"x\": [0.3431510329246521, 0.5271554589271545], \"y\": [0.5091053247451782, 0.3626784682273865]}, {\"line\": {\"color\": \"#299e50\", \"width\": 0.5}, \"mode\": \"lines\", \"type\": \"scatter\", \"x\": [0.3431510329246521, 0.9072867035865784], \"y\": [0.5091053247451782, 0.7904559969902039]}, {\"line\": {\"color\": \"#299e50\", \"width\": 0.5}, \"mode\": \"lines\", \"type\": \"scatter\", \"x\": [0.05450937896966934, 0.022838640958070755], \"y\": [0.7252135872840881, 0.8254153728485107]}, {\"line\": {\"color\": \"#299e50\", \"width\": 0.5}, \"mode\": \"lines\", \"type\": \"scatter\", \"x\": [0.05450937896966934, 0.5282618403434753], \"y\": [0.7252135872840881, 0.6983479857444763]}, {\"line\": {\"color\": \"#299e50\", \"width\": 0.5}, \"mode\": \"lines\", \"type\": \"scatter\", \"x\": [0.7802153825759888, 0.44581204652786255], \"y\": [0.3655143678188324, 0.3875442445278168]}, {\"line\": {\"color\": \"#299e50\", \"width\": 0.5}, \"mode\": \"lines\", \"type\": \"scatter\", \"x\": [0.3665904998779297, 0.8605000972747803], \"y\": [0.7080013155937195, 0.4711788594722748]}, {\"line\": {\"color\": \"#299e50\", \"width\": 0.5}, \"mode\": \"lines\", \"type\": \"scatter\", \"x\": [0.3275134861469269, 0.44581204652786255], \"y\": [0.15658195316791534, 0.3875442445278168]}, {\"line\": {\"color\": \"#299e50\", \"width\": 0.5}, \"mode\": \"lines\", \"type\": \"scatter\", \"x\": [0.3275134861469269, 0.686886191368103], \"y\": [0.15658195316791534, 0.6341197490692139]}, {\"line\": {\"color\": \"#299e50\", \"width\": 0.5}, \"mode\": \"lines\", \"type\": \"scatter\", \"x\": [0.3105330765247345, 0.5439746975898743], \"y\": [0.8027141690254211, 0.6988767981529236]}, {\"line\": {\"color\": \"#299e50\", \"width\": 0.5}, \"mode\": \"lines\", \"type\": \"scatter\", \"x\": [0.3105330765247345, 0.26631036400794983], \"y\": [0.8027141690254211, 0.8931359052658081]}, {\"line\": {\"color\": \"#299e50\", \"width\": 0.5}, \"mode\": \"lines\", \"type\": \"scatter\", \"x\": [0.13035942614078522, 0.0406193807721138], \"y\": [0.20732364058494568, 0.683742105960846]}, {\"line\": {\"color\": \"#299e50\", \"width\": 0.5}, \"mode\": \"lines\", \"type\": \"scatter\", \"x\": [0.13035942614078522, 0.9706009030342102], \"y\": [0.20732364058494568, 0.8453694581985474]}, {\"line\": {\"color\": \"#299e50\", \"width\": 0.5}, \"mode\": \"lines\", \"type\": \"scatter\", \"x\": [0.7283123135566711, 0.9680742025375366], \"y\": [0.48522043228149414, 0.13620410859584808]}, {\"line\": {\"color\": \"#299e50\", \"width\": 0.5}, \"mode\": \"lines\", \"type\": \"scatter\", \"x\": [0.03822695091366768, 0.46535176038742065], \"y\": [0.132366344332695, 0.49339163303375244]}, {\"line\": {\"color\": \"#299e50\", \"width\": 0.5}, \"mode\": \"lines\", \"type\": \"scatter\", \"x\": [0.5145339965820312, 0.4269859492778778], \"y\": [0.4334047734737396, 0.9165792465209961]}, {\"line\": {\"color\": \"#299e50\", \"width\": 0.5}, \"mode\": \"lines\", \"type\": \"scatter\", \"x\": [0.5145339965820312, 0.2803668975830078], \"y\": [0.4334047734737396, 0.14655300974845886]}, {\"line\": {\"color\": \"#299e50\", \"width\": 0.5}, \"mode\": \"lines\", \"type\": \"scatter\", \"x\": [0.5145339965820312, 0.49254554510116577], \"y\": [0.4334047734737396, 0.46676352620124817]}, {\"line\": {\"color\": \"#299e50\", \"width\": 0.5}, \"mode\": \"lines\", \"type\": \"scatter\", \"x\": [0.5145339965820312, 0.11893855035305023], \"y\": [0.4334047734737396, 0.9081544876098633]}, {\"line\": {\"color\": \"#299e50\", \"width\": 0.5}, \"mode\": \"lines\", \"type\": \"scatter\", \"x\": [0.5145339965820312, 0.6992025971412659], \"y\": [0.4334047734737396, 0.04651474952697754]}, {\"line\": {\"color\": \"#299e50\", \"width\": 0.5}, \"mode\": \"lines\", \"type\": \"scatter\", \"x\": [0.5145339965820312, 0.27797019481658936], \"y\": [0.4334047734737396, 0.8185561895370483]}, {\"line\": {\"color\": \"#299e50\", \"width\": 0.5}, \"mode\": \"lines\", \"type\": \"scatter\", \"x\": [0.31636717915534973, 0.3166092336177826], \"y\": [0.9461463093757629, 0.12015257030725479]}, {\"line\": {\"color\": \"#299e50\", \"width\": 0.5}, \"mode\": \"lines\", \"type\": \"scatter\", \"x\": [0.5623200535774231, 0.22327515482902527], \"y\": [0.7122883200645447, 0.4437815248966217]}, {\"line\": {\"color\": \"#299e50\", \"width\": 0.5}, \"mode\": \"lines\", \"type\": \"scatter\", \"x\": [0.5623200535774231, 0.44496607780456543], \"y\": [0.7122883200645447, 0.9492318034172058]}, {\"line\": {\"color\": \"#299e50\", \"width\": 0.5}, \"mode\": \"lines\", \"type\": \"scatter\", \"x\": [0.3998125493526459, 0.9035263657569885], \"y\": [0.46140116453170776, 0.019613487645983696]}, {\"line\": {\"color\": \"#299e50\", \"width\": 0.5}, \"mode\": \"lines\", \"type\": \"scatter\", \"x\": [0.3998125493526459, 0.9340864419937134], \"y\": [0.46140116453170776, 0.683591902256012]}, {\"line\": {\"color\": \"#299e50\", \"width\": 0.5}, \"mode\": \"lines\", \"type\": \"scatter\", \"x\": [0.6259392499923706, 0.8020312190055847], \"y\": [0.22990833222866058, 0.8995245099067688]}, {\"line\": {\"color\": \"#299e50\", \"width\": 0.5}, \"mode\": \"lines\", \"type\": \"scatter\", \"x\": [0.7818734049797058, 0.9388024210929871], \"y\": [0.18226011097431183, 0.9138306379318237]}, {\"line\": {\"color\": \"#299e50\", \"width\": 0.5}, \"mode\": \"lines\", \"type\": \"scatter\", \"x\": [0.7818734049797058, 0.6938597559928894], \"y\": [0.18226011097431183, 0.6173255443572998]}, {\"line\": {\"color\": \"#299e50\", \"width\": 0.5}, \"mode\": \"lines\", \"type\": \"scatter\", \"x\": [0.9242969751358032, 0.8049639463424683], \"y\": [0.4479116201400757, 0.2033414989709854]}, {\"line\": {\"color\": \"#299e50\", \"width\": 0.5}, \"mode\": \"lines\", \"type\": \"scatter\", \"x\": [0.9242969751358032, 0.7073186039924622], \"y\": [0.4479116201400757, 0.6039894819259644]}, {\"line\": {\"color\": \"#299e50\", \"width\": 0.5}, \"mode\": \"lines\", \"type\": \"scatter\", \"x\": [0.7060776948928833, 0.3093782961368561], \"y\": [0.42263713479042053, 0.5310360193252563]}, {\"line\": {\"color\": \"#299e50\", \"width\": 0.5}, \"mode\": \"lines\", \"type\": \"scatter\", \"x\": [0.8482093811035156, 0.697255551815033], \"y\": [0.3290116488933563, 0.19377996027469635]}, {\"line\": {\"color\": \"#299e50\", \"width\": 0.5}, \"mode\": \"lines\", \"type\": \"scatter\", \"x\": [0.8482093811035156, 0.5073263645172119], \"y\": [0.3290116488933563, 0.4508726894855499]}, {\"line\": {\"color\": \"#299e50\", \"width\": 0.5}, \"mode\": \"lines\", \"type\": \"scatter\", \"x\": [0.9786837100982666, 0.7705209851264954], \"y\": [0.8062728047370911, 0.8238486051559448]}, {\"line\": {\"color\": \"#299e50\", \"width\": 0.5}, \"mode\": \"lines\", \"type\": \"scatter\", \"x\": [0.9786837100982666, 0.7829354405403137], \"y\": [0.8062728047370911, 0.598920464515686]}, {\"line\": {\"color\": \"#299e50\", \"width\": 0.5}, \"mode\": \"lines\", \"type\": \"scatter\", \"x\": [0.7251060009002686, 0.8851790428161621], \"y\": [0.6959071755409241, 0.805231511592865]}, {\"line\": {\"color\": \"#299e50\", \"width\": 0.5}, \"mode\": \"lines\", \"type\": \"scatter\", \"x\": [0.7251060009002686, 0.34661275148391724], \"y\": [0.6959071755409241, 0.29253408312797546]}, {\"line\": {\"color\": \"#299e50\", \"width\": 0.5}, \"mode\": \"lines\", \"type\": \"scatter\", \"x\": [0.9388992786407471, 0.7705209851264954], \"y\": [0.6037739515304565, 0.8238486051559448]}, {\"line\": {\"color\": \"#299e50\", \"width\": 0.5}, \"mode\": \"lines\", \"type\": \"scatter\", \"x\": [0.9388992786407471, 0.2817017734050751], \"y\": [0.6037739515304565, 0.21259024739265442]}, {\"line\": {\"color\": \"#299e50\", \"width\": 0.5}, \"mode\": \"lines\", \"type\": \"scatter\", \"x\": [0.018117137253284454, 0.44581204652786255], \"y\": [0.7022542953491211, 0.3875442445278168]}, {\"line\": {\"color\": \"#299e50\", \"width\": 0.5}, \"mode\": \"lines\", \"type\": \"scatter\", \"x\": [0.018117137253284454, 0.9411027431488037], \"y\": [0.7022542953491211, 0.9081204533576965]}, {\"line\": {\"color\": \"#000000\", \"width\": 0.5}, \"mode\": \"lines\", \"type\": \"scatter\", \"x\": [0.4412229061126709, 0.31190225481987], \"y\": [0.5574187636375427, 0.5534483194351196]}, {\"line\": {\"color\": \"#299e50\", \"width\": 0.5}, \"mode\": \"lines\", \"type\": \"scatter\", \"x\": [0.23920944333076477, 0.9950982332229614], \"y\": [0.7581056952476501, 0.2590755820274353]}, {\"line\": {\"color\": \"#299e50\", \"width\": 0.5}, \"mode\": \"lines\", \"type\": \"scatter\", \"x\": [0.13031168282032013, 0.744438648223877], \"y\": [0.9209095239639282, 0.15768814086914062]}, {\"line\": {\"color\": \"#299e50\", \"width\": 0.5}, \"mode\": \"lines\", \"type\": \"scatter\", \"x\": [0.13031168282032013, 0.04588327184319496], \"y\": [0.9209095239639282, 0.34148916602134705]}, {\"line\": {\"color\": \"#299e50\", \"width\": 0.5}, \"mode\": \"lines\", \"type\": \"scatter\", \"x\": [0.5751445889472961, 0.3464466631412506], \"y\": [0.7928558588027954, 0.7880702018737793]}, {\"line\": {\"color\": \"#299e50\", \"width\": 0.5}, \"mode\": \"lines\", \"type\": \"scatter\", \"x\": [0.009188697673380375, 0.8423578143119812], \"y\": [0.6977382898330688, 0.7606645226478577]}, {\"line\": {\"color\": \"#299e50\", \"width\": 0.5}, \"mode\": \"lines\", \"type\": \"scatter\", \"x\": [0.009188697673380375, 0.7204969525337219], \"y\": [0.6977382898330688, 0.17706520855426788]}, {\"line\": {\"color\": \"#299e50\", \"width\": 0.5}, \"mode\": \"lines\", \"type\": \"scatter\", \"x\": [0.09728842228651047, 0.44581204652786255], \"y\": [0.7286191582679749, 0.3875442445278168]}, {\"line\": {\"color\": \"#299e50\", \"width\": 0.5}, \"mode\": \"lines\", \"type\": \"scatter\", \"x\": [0.015752650797367096, 0.7705209851264954], \"y\": [0.12225010991096497, 0.8238486051559448]}, {\"line\": {\"color\": \"#ff0000\", \"width\": 0.5}, \"mode\": \"lines\", \"type\": \"scatter\", \"x\": [0.9959636330604553, 0.688102662563324], \"y\": [0.034198321402072906, 0.9888705611228943]}, {\"line\": {\"color\": \"#299e50\", \"width\": 0.5}, \"mode\": \"lines\", \"type\": \"scatter\", \"x\": [0.10281021147966385, 0.5870656967163086], \"y\": [0.27487674355506897, 0.2130855917930603]}, {\"line\": {\"color\": \"#299e50\", \"width\": 0.5}, \"mode\": \"lines\", \"type\": \"scatter\", \"x\": [0.10281021147966385, 0.6283131837844849], \"y\": [0.27487674355506897, 0.43186071515083313]}, {\"line\": {\"color\": \"#299e50\", \"width\": 0.5}, \"mode\": \"lines\", \"type\": \"scatter\", \"x\": [0.3120396137237549, 0.8613961338996887], \"y\": [0.9114640355110168, 0.5749999284744263]}, {\"line\": {\"color\": \"#299e50\", \"width\": 0.5}, \"mode\": \"lines\", \"type\": \"scatter\", \"x\": [0.3120396137237549, 0.44248539209365845], \"y\": [0.9114640355110168, 0.9572936296463013]}, {\"line\": {\"color\": \"#299e50\", \"width\": 0.5}, \"mode\": \"lines\", \"type\": \"scatter\", \"x\": [0.6692140102386475, 0.33287522196769714], \"y\": [0.3064473569393158, 0.25145813822746277]}, {\"line\": {\"color\": \"#299e50\", \"width\": 0.5}, \"mode\": \"lines\", \"type\": \"scatter\", \"x\": [0.8304232954978943, 0.8613961338996887], \"y\": [0.038620490580797195, 0.5749999284744263]}, {\"line\": {\"color\": \"#299e50\", \"width\": 0.5}, \"mode\": \"lines\", \"type\": \"scatter\", \"x\": [0.8304232954978943, 0.08735064417123795], \"y\": [0.038620490580797195, 0.9197586178779602]}, {\"line\": {\"color\": \"#299e50\", \"width\": 0.5}, \"mode\": \"lines\", \"type\": \"scatter\", \"x\": [0.5883558392524719, 0.5148799419403076], \"y\": [0.3832472264766693, 0.9227717518806458]}, {\"line\": {\"color\": \"#299e50\", \"width\": 0.5}, \"mode\": \"lines\", \"type\": \"scatter\", \"x\": [0.5883558392524719, 0.16094909608364105], \"y\": [0.3832472264766693, 0.5785831212997437]}, {\"line\": {\"color\": \"#299e50\", \"width\": 0.5}, \"mode\": \"lines\", \"type\": \"scatter\", \"x\": [0.8223180770874023, 0.09611543267965317], \"y\": [0.9231202006340027, 0.4786972105503082]}, {\"line\": {\"color\": \"#299e50\", \"width\": 0.5}, \"mode\": \"lines\", \"type\": \"scatter\", \"x\": [0.8223180770874023, 0.09539978951215744], \"y\": [0.9231202006340027, 0.24526157975196838]}, {\"line\": {\"color\": \"#299e50\", \"width\": 0.5}, \"mode\": \"lines\", \"type\": \"scatter\", \"x\": [0.8223180770874023, 0.5075681209564209], \"y\": [0.9231202006340027, 0.3539017140865326]}, {\"line\": {\"color\": \"#299e50\", \"width\": 0.5}, \"mode\": \"lines\", \"type\": \"scatter\", \"x\": [0.8493874073028564, 0.760776162147522], \"y\": [0.49684640765190125, 0.4072771966457367]}, {\"line\": {\"color\": \"#299e50\", \"width\": 0.5}, \"mode\": \"lines\", \"type\": \"scatter\", \"x\": [0.4171616733074188, 0.2701418995857239], \"y\": [0.006484791170805693, 0.13052211701869965]}, {\"line\": {\"color\": \"#299e50\", \"width\": 0.5}, \"mode\": \"lines\", \"type\": \"scatter\", \"x\": [0.0656181052327156, 0.25519537925720215], \"y\": [0.2571299374103546, 0.34412872791290283]}, {\"line\": {\"color\": \"#299e50\", \"width\": 0.5}, \"mode\": \"lines\", \"type\": \"scatter\", \"x\": [0.0656181052327156, 0.11203467100858688], \"y\": [0.2571299374103546, 0.6890478730201721]}, {\"line\": {\"color\": \"#000000\", \"width\": 0.5}, \"mode\": \"lines\", \"type\": \"scatter\", \"x\": [0.6150668859481812, 0.5294198393821716], \"y\": [0.05351279303431511, 0.4090898633003235]}, {\"line\": {\"color\": \"#000000\", \"width\": 0.5}, \"mode\": \"lines\", \"type\": \"scatter\", \"x\": [0.6150668859481812, 0.25499722361564636], \"y\": [0.05351279303431511, 0.4588009715080261]}, {\"line\": {\"color\": \"#ff0000\", \"width\": 0.5}, \"mode\": \"lines\", \"type\": \"scatter\", \"x\": [0.2386309653520584, 0.688102662563324], \"y\": [0.6189432740211487, 0.9888705611228943]}, {\"line\": {\"color\": \"#299e50\", \"width\": 0.5}, \"mode\": \"lines\", \"type\": \"scatter\", \"x\": [0.2386309653520584, 0.3024364709854126], \"y\": [0.6189432740211487, 0.12850503623485565]}, {\"line\": {\"color\": \"#299e50\", \"width\": 0.5}, \"mode\": \"lines\", \"type\": \"scatter\", \"x\": [0.2386309653520584, 0.07875503599643707], \"y\": [0.6189432740211487, 0.927574098110199]}, {\"line\": {\"color\": \"#299e50\", \"width\": 0.5}, \"mode\": \"lines\", \"type\": \"scatter\", \"x\": [0.09174486994743347, 0.8083268404006958], \"y\": [0.061668798327445984, 0.20300839841365814]}, {\"line\": {\"color\": \"#299e50\", \"width\": 0.5}, \"mode\": \"lines\", \"type\": \"scatter\", \"x\": [0.9336130619049072, 0.34294766187667847], \"y\": [0.42656466364860535, 0.2597651183605194]}, {\"line\": {\"color\": \"#299e50\", \"width\": 0.5}, \"mode\": \"lines\", \"type\": \"scatter\", \"x\": [0.7369351387023926, 0.05158266797661781], \"y\": [0.2640984356403351, 0.1886032521724701]}, {\"line\": {\"color\": \"#299e50\", \"width\": 0.5}, \"mode\": \"lines\", \"type\": \"scatter\", \"x\": [0.5209252834320068, 0.7154220938682556], \"y\": [0.7655325531959534, 0.40188392996788025]}, {\"line\": {\"color\": \"#299e50\", \"width\": 0.5}, \"mode\": \"lines\", \"type\": \"scatter\", \"x\": [0.28714001178741455, 0.9865484237670898], \"y\": [0.10241106152534485, 0.6679137349128723]}, {\"line\": {\"color\": \"#299e50\", \"width\": 0.5}, \"mode\": \"lines\", \"type\": \"scatter\", \"x\": [0.28714001178741455, 0.8244009017944336], \"y\": [0.10241106152534485, 0.12108081579208374]}, {\"line\": {\"color\": \"#ff0000\", \"width\": 0.5}, \"mode\": \"lines\", \"type\": \"scatter\", \"x\": [0.3543585538864136, 0.688102662563324], \"y\": [0.8624551892280579, 0.9888705611228943]}, {\"line\": {\"color\": \"#299e50\", \"width\": 0.5}, \"mode\": \"lines\", \"type\": \"scatter\", \"x\": [0.15171773731708527, 0.2548542022705078], \"y\": [0.8544511198997498, 0.43847450613975525]}, {\"line\": {\"color\": \"#299e50\", \"width\": 0.5}, \"mode\": \"lines\", \"type\": \"scatter\", \"x\": [0.009993970394134521, 0.300432950258255], \"y\": [0.046004392206668854, 0.05694599449634552]}, {\"line\": {\"color\": \"#299e50\", \"width\": 0.5}, \"mode\": \"lines\", \"type\": \"scatter\", \"x\": [0.009993970394134521, 0.8842065334320068], \"y\": [0.046004392206668854, 0.39567869901657104]}, {\"line\": {\"color\": \"#299e50\", \"width\": 0.5}, \"mode\": \"lines\", \"type\": \"scatter\", \"x\": [0.6090369820594788, 0.21546520292758942], \"y\": [0.31522735953330994, 0.5886916518211365]}, {\"line\": {\"color\": \"#299e50\", \"width\": 0.5}, \"mode\": \"lines\", \"type\": \"scatter\", \"x\": [0.6090369820594788, 0.11911876499652863], \"y\": [0.31522735953330994, 0.7354016304016113]}, {\"line\": {\"color\": \"#299e50\", \"width\": 0.5}, \"mode\": \"lines\", \"type\": \"scatter\", \"x\": [0.33692073822021484, 0.4664418399333954], \"y\": [0.3926558792591095, 0.7377488613128662]}, {\"line\": {\"color\": \"#299e50\", \"width\": 0.5}, \"mode\": \"lines\", \"type\": \"scatter\", \"x\": [0.33692073822021484, 0.06067084148526192], \"y\": [0.3926558792591095, 0.526569128036499]}, {\"line\": {\"color\": \"#299e50\", \"width\": 0.5}, \"mode\": \"lines\", \"type\": \"scatter\", \"x\": [0.6756320595741272, 0.7226113080978394], \"y\": [0.7507753968238831, 0.7032362222671509]}, {\"line\": {\"color\": \"#299e50\", \"width\": 0.5}, \"mode\": \"lines\", \"type\": \"scatter\", \"x\": [0.7862184047698975, 0.7230603694915771], \"y\": [0.007827553898096085, 0.9832504391670227]}, {\"line\": {\"color\": \"#299e50\", \"width\": 0.5}, \"mode\": \"lines\", \"type\": \"scatter\", \"x\": [0.7862184047698975, 0.22615087032318115], \"y\": [0.007827553898096085, 0.21601340174674988]}, {\"line\": {\"color\": \"#299e50\", \"width\": 0.5}, \"mode\": \"lines\", \"type\": \"scatter\", \"x\": [0.9660898447036743, 0.5235260128974915], \"y\": [0.5598728060722351, 0.4669438302516937]}, {\"line\": {\"color\": \"#299e50\", \"width\": 0.5}, \"mode\": \"lines\", \"type\": \"scatter\", \"x\": [0.4760971665382385, 0.44581204652786255], \"y\": [0.41740134358406067, 0.3875442445278168]}, {\"line\": {\"color\": \"#299e50\", \"width\": 0.5}, \"mode\": \"lines\", \"type\": \"scatter\", \"x\": [0.4760971665382385, 0.9634285569190979], \"y\": [0.41740134358406067, 0.7564778327941895]}, {\"line\": {\"color\": \"#299e50\", \"width\": 0.5}, \"mode\": \"lines\", \"type\": \"scatter\", \"x\": [0.8083268404006958, 0.7705209851264954], \"y\": [0.20300839841365814, 0.8238486051559448]}, {\"line\": {\"color\": \"#299e50\", \"width\": 0.5}, \"mode\": \"lines\", \"type\": \"scatter\", \"x\": [0.5298361778259277, 0.022838640958070755], \"y\": [0.813056230545044, 0.8254153728485107]}, {\"line\": {\"color\": \"#299e50\", \"width\": 0.5}, \"mode\": \"lines\", \"type\": \"scatter\", \"x\": [0.42902931571006775, 0.1685430109500885], \"y\": [0.6225030422210693, 0.6868182420730591]}, {\"line\": {\"color\": \"#299e50\", \"width\": 0.5}, \"mode\": \"lines\", \"type\": \"scatter\", \"x\": [0.42902931571006775, 0.021144559606909752], \"y\": [0.6225030422210693, 0.006372575648128986]}, {\"line\": {\"color\": \"#299e50\", \"width\": 0.5}, \"mode\": \"lines\", \"type\": \"scatter\", \"x\": [0.4269859492778778, 0.0655314028263092], \"y\": [0.9165792465209961, 0.22383680939674377]}, {\"line\": {\"color\": \"#299e50\", \"width\": 0.5}, \"mode\": \"lines\", \"type\": \"scatter\", \"x\": [0.42856118083000183, 0.7073186039924622], \"y\": [0.9394456744194031, 0.6039894819259644]}, {\"line\": {\"color\": \"#299e50\", \"width\": 0.5}, \"mode\": \"lines\", \"type\": \"scatter\", \"x\": [0.46535176038742065, 0.6217292547225952], \"y\": [0.49339163303375244, 0.8132899403572083]}, {\"line\": {\"color\": \"#299e50\", \"width\": 0.5}, \"mode\": \"lines\", \"type\": \"scatter\", \"x\": [0.8681973814964294, 0.9712615609169006], \"y\": [0.9012260437011719, 0.47432541847229004]}, {\"line\": {\"color\": \"#299e50\", \"width\": 0.5}, \"mode\": \"lines\", \"type\": \"scatter\", \"x\": [0.8681973814964294, 0.3003765344619751], \"y\": [0.9012260437011719, 0.5754393339157104]}, {\"line\": {\"color\": \"#299e50\", \"width\": 0.5}, \"mode\": \"lines\", \"type\": \"scatter\", \"x\": [0.9048545956611633, 0.10043438524007797], \"y\": [0.12441635131835938, 0.5451368689537048]}, {\"line\": {\"color\": \"#299e50\", \"width\": 0.5}, \"mode\": \"lines\", \"type\": \"scatter\", \"x\": [0.02191220410168171, 0.11892399936914444], \"y\": [0.9501380920410156, 0.3045666217803955]}, {\"line\": {\"color\": \"#ff0000\", \"width\": 0.5}, \"mode\": \"lines\", \"type\": \"scatter\", \"x\": [0.390489399433136, 0.688102662563324], \"y\": [0.6408081650733948, 0.9888705611228943]}, {\"line\": {\"color\": \"#299e50\", \"width\": 0.5}, \"mode\": \"lines\", \"type\": \"scatter\", \"x\": [0.009226803667843342, 0.885564386844635], \"y\": [0.7768961787223816, 0.7476477026939392]}, {\"line\": {\"color\": \"#299e50\", \"width\": 0.5}, \"mode\": \"lines\", \"type\": \"scatter\", \"x\": [0.6061996221542358, 0.341365247964859], \"y\": [0.9138821959495544, 0.2564842104911804]}, {\"line\": {\"color\": \"#299e50\", \"width\": 0.5}, \"mode\": \"lines\", \"type\": \"scatter\", \"x\": [0.6061996221542358, 0.45035481452941895], \"y\": [0.9138821959495544, 0.6283848881721497]}, {\"line\": {\"color\": \"#299e50\", \"width\": 0.5}, \"mode\": \"lines\", \"type\": \"scatter\", \"x\": [0.7423739433288574, 0.2755652666091919], \"y\": [0.8278796672821045, 0.522325873374939]}, {\"line\": {\"color\": \"#299e50\", \"width\": 0.5}, \"mode\": \"lines\", \"type\": \"scatter\", \"x\": [0.7423739433288574, 0.5484136343002319], \"y\": [0.8278796672821045, 0.07323763519525528]}, {\"line\": {\"color\": \"#299e50\", \"width\": 0.5}, \"mode\": \"lines\", \"type\": \"scatter\", \"x\": [0.22615087032318115, 0.6066524386405945], \"y\": [0.21601340174674988, 0.6471844911575317]}, {\"line\": {\"color\": \"#299e50\", \"width\": 0.5}, \"mode\": \"lines\", \"type\": \"scatter\", \"x\": [0.7230603694915771, 0.9007706046104431], \"y\": [0.9832504391670227, 0.6463307738304138]}, {\"line\": {\"color\": \"#299e50\", \"width\": 0.5}, \"mode\": \"lines\", \"type\": \"scatter\", \"x\": [0.2618087828159332, 0.10637816041707993], \"y\": [0.3548019230365753, 0.9513376355171204]}, {\"line\": {\"color\": \"#299e50\", \"width\": 0.5}, \"mode\": \"lines\", \"type\": \"scatter\", \"x\": [0.2618087828159332, 0.8693476319313049], \"y\": [0.3548019230365753, 0.5856478810310364]}, {\"line\": {\"color\": \"#299e50\", \"width\": 0.5}, \"mode\": \"lines\", \"type\": \"scatter\", \"x\": [0.2618087828159332, 0.829862117767334], \"y\": [0.3548019230365753, 0.6627938747406006]}, {\"line\": {\"color\": \"#299e50\", \"width\": 0.5}, \"mode\": \"lines\", \"type\": \"scatter\", \"x\": [0.2618087828159332, 0.09539978951215744], \"y\": [0.3548019230365753, 0.24526157975196838]}, {\"line\": {\"color\": \"#299e50\", \"width\": 0.5}, \"mode\": \"lines\", \"type\": \"scatter\", \"x\": [0.44723379611968994, 0.5308294892311096], \"y\": [0.6446231007575989, 0.9711049795150757]}, {\"line\": {\"color\": \"#299e50\", \"width\": 0.5}, \"mode\": \"lines\", \"type\": \"scatter\", \"x\": [0.44723379611968994, 0.3017019033432007], \"y\": [0.6446231007575989, 0.6329956650733948]}, {\"line\": {\"color\": \"#299e50\", \"width\": 0.5}, \"mode\": \"lines\", \"type\": \"scatter\", \"x\": [0.21432127058506012, 0.10426601767539978], \"y\": [0.3018950819969177, 0.7312099933624268]}, {\"line\": {\"color\": \"#299e50\", \"width\": 0.5}, \"mode\": \"lines\", \"type\": \"scatter\", \"x\": [0.605262041091919, 0.9285814166069031], \"y\": [0.4270661473274231, 0.27048566937446594]}, {\"line\": {\"color\": \"#299e50\", \"width\": 0.5}, \"mode\": \"lines\", \"type\": \"scatter\", \"x\": [0.972025454044342, 0.6913593411445618], \"y\": [0.5740498900413513, 0.18200741708278656]}, {\"line\": {\"color\": \"#299e50\", \"width\": 0.5}, \"mode\": \"lines\", \"type\": \"scatter\", \"x\": [0.5691252946853638, 0.15271185338497162], \"y\": [0.1434451788663864, 0.3480551540851593]}, {\"line\": {\"color\": \"#299e50\", \"width\": 0.5}, \"mode\": \"lines\", \"type\": \"scatter\", \"x\": [0.5691252946853638, 0.5975174307823181], \"y\": [0.1434451788663864, 0.09037003666162491]}, {\"line\": {\"color\": \"#299e50\", \"width\": 0.5}, \"mode\": \"lines\", \"type\": \"scatter\", \"x\": [0.9680742025375366, 0.06176556646823883], \"y\": [0.13620410859584808, 0.061845120042562485]}, {\"line\": {\"color\": \"#299e50\", \"width\": 0.5}, \"mode\": \"lines\", \"type\": \"scatter\", \"x\": [0.9680742025375366, 0.5148799419403076], \"y\": [0.13620410859584808, 0.9227717518806458]}, {\"line\": {\"color\": \"#299e50\", \"width\": 0.5}, \"mode\": \"lines\", \"type\": \"scatter\", \"x\": [0.196201354265213, 0.19793002307415009], \"y\": [0.2516557574272156, 0.3683583438396454]}, {\"line\": {\"color\": \"#299e50\", \"width\": 0.5}, \"mode\": \"lines\", \"type\": \"scatter\", \"x\": [0.196201354265213, 0.36851564049720764], \"y\": [0.2516557574272156, 0.7743782997131348]}, {\"line\": {\"color\": \"#299e50\", \"width\": 0.5}, \"mode\": \"lines\", \"type\": \"scatter\", \"x\": [0.30542072653770447, 0.027757376432418823], \"y\": [0.5409678816795349, 0.16432254016399384]}, {\"line\": {\"color\": \"#299e50\", \"width\": 0.5}, \"mode\": \"lines\", \"type\": \"scatter\", \"x\": [0.30542072653770447, 0.48725903034210205], \"y\": [0.5409678816795349, 0.768164873123169]}, {\"line\": {\"color\": \"#299e50\", \"width\": 0.5}, \"mode\": \"lines\", \"type\": \"scatter\", \"x\": [0.18082880973815918, 0.8870524764060974], \"y\": [0.1451893448829651, 0.4800007939338684]}, {\"line\": {\"color\": \"#299e50\", \"width\": 0.5}, \"mode\": \"lines\", \"type\": \"scatter\", \"x\": [0.18082880973815918, 0.982602596282959], \"y\": [0.1451893448829651, 0.2772316634654999]}, {\"line\": {\"color\": \"#299e50\", \"width\": 0.5}, \"mode\": \"lines\", \"type\": \"scatter\", \"x\": [0.2701418995857239, 0.804520845413208], \"y\": [0.13052211701869965, 0.926283597946167]}, {\"line\": {\"color\": \"#299e50\", \"width\": 0.5}, \"mode\": \"lines\", \"type\": \"scatter\", \"x\": [0.6038833260536194, 0.9285814166069031], \"y\": [0.5438730120658875, 0.27048566937446594]}, {\"line\": {\"color\": \"#299e50\", \"width\": 0.5}, \"mode\": \"lines\", \"type\": \"scatter\", \"x\": [0.15255799889564514, 0.7578432559967041], \"y\": [0.5592805743217468, 0.9053796529769897]}, {\"line\": {\"color\": \"#299e50\", \"width\": 0.5}, \"mode\": \"lines\", \"type\": \"scatter\", \"x\": [0.15255799889564514, 0.3052053153514862], \"y\": [0.5592805743217468, 0.5104793906211853]}, {\"line\": {\"color\": \"#299e50\", \"width\": 0.5}, \"mode\": \"lines\", \"type\": \"scatter\", \"x\": [0.4989359974861145, 0.44581204652786255], \"y\": [0.25375866889953613, 0.3875442445278168]}, {\"line\": {\"color\": \"#299e50\", \"width\": 0.5}, \"mode\": \"lines\", \"type\": \"scatter\", \"x\": [0.4989359974861145, 0.08735064417123795], \"y\": [0.25375866889953613, 0.9197586178779602]}, {\"line\": {\"color\": \"#299e50\", \"width\": 0.5}, \"mode\": \"lines\", \"type\": \"scatter\", \"x\": [0.6802449226379395, 0.469279021024704], \"y\": [0.9905504584312439, 0.9261056184768677]}, {\"line\": {\"color\": \"#299e50\", \"width\": 0.5}, \"mode\": \"lines\", \"type\": \"scatter\", \"x\": [0.8020312190055847, 0.735462486743927], \"y\": [0.8995245099067688, 0.3955037593841553]}, {\"line\": {\"color\": \"#299e50\", \"width\": 0.5}, \"mode\": \"lines\", \"type\": \"scatter\", \"x\": [0.8020312190055847, 0.996374785900116], \"y\": [0.8995245099067688, 0.6876592636108398]}, {\"line\": {\"color\": \"#299e50\", \"width\": 0.5}, \"mode\": \"lines\", \"type\": \"scatter\", \"x\": [0.08735064417123795, 0.23510296642780304], \"y\": [0.9197586178779602, 0.1484983265399933]}, {\"line\": {\"color\": \"#299e50\", \"width\": 0.5}, \"mode\": \"lines\", \"type\": \"scatter\", \"x\": [0.08735064417123795, 0.5497855544090271], \"y\": [0.9197586178779602, 0.5213611125946045]}, {\"line\": {\"color\": \"#299e50\", \"width\": 0.5}, \"mode\": \"lines\", \"type\": \"scatter\", \"x\": [0.08735064417123795, 0.10498128086328506], \"y\": [0.9197586178779602, 0.10805436223745346]}, {\"line\": {\"color\": \"#299e50\", \"width\": 0.5}, \"mode\": \"lines\", \"type\": \"scatter\", \"x\": [0.08735064417123795, 0.9388561844825745], \"y\": [0.9197586178779602, 0.143884539604187]}, {\"line\": {\"color\": \"#299e50\", \"width\": 0.5}, \"mode\": \"lines\", \"type\": \"scatter\", \"x\": [0.08735064417123795, 0.24824443459510803], \"y\": [0.9197586178779602, 0.5281815528869629]}, {\"line\": {\"color\": \"#299e50\", \"width\": 0.5}, \"mode\": \"lines\", \"type\": \"scatter\", \"x\": [0.11893855035305023, 0.44581204652786255], \"y\": [0.9081544876098633, 0.3875442445278168]}, {\"line\": {\"color\": \"#299e50\", \"width\": 0.5}, \"mode\": \"lines\", \"type\": \"scatter\", \"x\": [0.74254310131073, 0.8605000972747803], \"y\": [0.9174681901931763, 0.4711788594722748]}, {\"line\": {\"color\": \"#299e50\", \"width\": 0.5}, \"mode\": \"lines\", \"type\": \"scatter\", \"x\": [0.5423852205276489, 0.44581204652786255], \"y\": [0.627467691898346, 0.3875442445278168]}, {\"line\": {\"color\": \"#299e50\", \"width\": 0.5}, \"mode\": \"lines\", \"type\": \"scatter\", \"x\": [0.5492821335792542, 0.4934210479259491], \"y\": [0.265880286693573, 0.8303664922714233]}, {\"line\": {\"color\": \"#299e50\", \"width\": 0.5}, \"mode\": \"lines\", \"type\": \"scatter\", \"x\": [0.5492821335792542, 0.8322969079017639], \"y\": [0.265880286693573, 0.6574407815933228]}, {\"line\": {\"color\": \"#299e50\", \"width\": 0.5}, \"mode\": \"lines\", \"type\": \"scatter\", \"x\": [0.5492821335792542, 0.9091476202011108], \"y\": [0.265880286693573, 0.8771250247955322]}, {\"line\": {\"color\": \"#299e50\", \"width\": 0.5}, \"mode\": \"lines\", \"type\": \"scatter\", \"x\": [0.7865979075431824, 0.8967828750610352], \"y\": [0.3577098250389099, 0.19446781277656555]}, {\"line\": {\"color\": \"#299e50\", \"width\": 0.5}, \"mode\": \"lines\", \"type\": \"scatter\", \"x\": [0.7865979075431824, 0.639008104801178], \"y\": [0.3577098250389099, 0.4415610730648041]}, {\"line\": {\"color\": \"#299e50\", \"width\": 0.5}, \"mode\": \"lines\", \"type\": \"scatter\", \"x\": [0.33015188574790955, 0.3941476047039032], \"y\": [0.8419636487960815, 0.23021776974201202]}, {\"line\": {\"color\": \"#000000\", \"width\": 0.5}, \"mode\": \"lines\", \"type\": \"scatter\", \"x\": [0.33015188574790955, 0.5497855544090271], \"y\": [0.8419636487960815, 0.5213611125946045]}, {\"line\": {\"color\": \"#299e50\", \"width\": 0.5}, \"mode\": \"lines\", \"type\": \"scatter\", \"x\": [0.44248539209365845, 0.1598396748304367], \"y\": [0.9572936296463013, 0.33818915486335754]}, {\"line\": {\"color\": \"#299e50\", \"width\": 0.5}, \"mode\": \"lines\", \"type\": \"scatter\", \"x\": [0.44248539209365845, 0.0636991411447525], \"y\": [0.9572936296463013, 0.2846999168395996]}, {\"line\": {\"color\": \"#299e50\", \"width\": 0.5}, \"mode\": \"lines\", \"type\": \"scatter\", \"x\": [0.12662582099437714, 0.017455562949180603], \"y\": [0.9279562830924988, 0.23236465454101562]}, {\"line\": {\"color\": \"#ff0000\", \"width\": 0.5}, \"mode\": \"lines\", \"type\": \"scatter\", \"x\": [0.8152745366096497, 0.688102662563324], \"y\": [0.996525764465332, 0.9888705611228943]}, {\"line\": {\"color\": \"#ff0000\", \"width\": 0.5}, \"mode\": \"lines\", \"type\": \"scatter\", \"x\": [0.45234304666519165, 0.688102662563324], \"y\": [0.30710840225219727, 0.9888705611228943]}, {\"line\": {\"color\": \"#299e50\", \"width\": 0.5}, \"mode\": \"lines\", \"type\": \"scatter\", \"x\": [0.7705209851264954, 0.7705209851264954], \"y\": [0.8238486051559448, 0.8238486051559448]}, {\"line\": {\"color\": \"#299e50\", \"width\": 0.5}, \"mode\": \"lines\", \"type\": \"scatter\", \"x\": [0.7705209851264954, 0.35430580377578735], \"y\": [0.8238486051559448, 0.0780104547739029]}, {\"line\": {\"color\": \"#299e50\", \"width\": 0.5}, \"mode\": \"lines\", \"type\": \"scatter\", \"x\": [0.7705209851264954, 0.9857444167137146], \"y\": [0.8238486051559448, 0.14830780029296875]}, {\"line\": {\"color\": \"#299e50\", \"width\": 0.5}, \"mode\": \"lines\", \"type\": \"scatter\", \"x\": [0.7705209851264954, 0.03677849471569061], \"y\": [0.8238486051559448, 0.9936811327934265]}, {\"line\": {\"color\": \"#299e50\", \"width\": 0.5}, \"mode\": \"lines\", \"type\": \"scatter\", \"x\": [0.7705209851264954, 0.9386250376701355], \"y\": [0.8238486051559448, 0.9574994444847107]}, {\"line\": {\"color\": \"#299e50\", \"width\": 0.5}, \"mode\": \"lines\", \"type\": \"scatter\", \"x\": [0.7705209851264954, 0.3649803102016449], \"y\": [0.8238486051559448, 0.5065537691116333]}, {\"line\": {\"color\": \"#299e50\", \"width\": 0.5}, \"mode\": \"lines\", \"type\": \"scatter\", \"x\": [0.7705209851264954, 0.833222508430481], \"y\": [0.8238486051559448, 0.45207250118255615]}, {\"line\": {\"color\": \"#299e50\", \"width\": 0.5}, \"mode\": \"lines\", \"type\": \"scatter\", \"x\": [0.7705209851264954, 0.697255551815033], \"y\": [0.8238486051559448, 0.19377996027469635]}, {\"line\": {\"color\": \"#299e50\", \"width\": 0.5}, \"mode\": \"lines\", \"type\": \"scatter\", \"x\": [0.7705209851264954, 0.12689250707626343], \"y\": [0.8238486051559448, 0.6319238543510437]}, {\"line\": {\"color\": \"#ff0000\", \"width\": 0.5}, \"mode\": \"lines\", \"type\": \"scatter\", \"x\": [0.7705209851264954, 0.535808265209198], \"y\": [0.8238486051559448, 0.5404314398765564]}, {\"line\": {\"color\": \"#299e50\", \"width\": 0.5}, \"mode\": \"lines\", \"type\": \"scatter\", \"x\": [0.7705209851264954, 0.6409347653388977], \"y\": [0.8238486051559448, 0.9073978662490845]}, {\"line\": {\"color\": \"#299e50\", \"width\": 0.5}, \"mode\": \"lines\", \"type\": \"scatter\", \"x\": [0.7705209851264954, 0.469279021024704], \"y\": [0.8238486051559448, 0.9261056184768677]}, {\"line\": {\"color\": \"#299e50\", \"width\": 0.5}, \"mode\": \"lines\", \"type\": \"scatter\", \"x\": [0.7705209851264954, 0.6557417511940002], \"y\": [0.8238486051559448, 0.8023435473442078]}, {\"line\": {\"color\": \"#299e50\", \"width\": 0.5}, \"mode\": \"lines\", \"type\": \"scatter\", \"x\": [0.7705209851264954, 0.9210480451583862], \"y\": [0.8238486051559448, 0.681963324546814]}, {\"line\": {\"color\": \"#299e50\", \"width\": 0.5}, \"mode\": \"lines\", \"type\": \"scatter\", \"x\": [0.7705209851264954, 0.10335071384906769], \"y\": [0.8238486051559448, 0.04228007048368454]}, {\"line\": {\"color\": \"#299e50\", \"width\": 0.5}, \"mode\": \"lines\", \"type\": \"scatter\", \"x\": [0.7705209851264954, 0.6767264008522034], \"y\": [0.8238486051559448, 0.2380141317844391]}, {\"line\": {\"color\": \"#299e50\", \"width\": 0.5}, \"mode\": \"lines\", \"type\": \"scatter\", \"x\": [0.7705209851264954, 0.5834895968437195], \"y\": [0.8238486051559448, 0.38666635751724243]}, {\"line\": {\"color\": \"#299e50\", \"width\": 0.5}, \"mode\": \"lines\", \"type\": \"scatter\", \"x\": [0.7705209851264954, 0.3893873691558838], \"y\": [0.8238486051559448, 0.3591020703315735]}, {\"line\": {\"color\": \"#299e50\", \"width\": 0.5}, \"mode\": \"lines\", \"type\": \"scatter\", \"x\": [0.7705209851264954, 0.05769263580441475], \"y\": [0.8238486051559448, 0.009985142387449741]}, {\"line\": {\"color\": \"#299e50\", \"width\": 0.5}, \"mode\": \"lines\", \"type\": \"scatter\", \"x\": [0.7705209851264954, 0.6821926236152649], \"y\": [0.8238486051559448, 0.6740603446960449]}, {\"line\": {\"color\": \"#299e50\", \"width\": 0.5}, \"mode\": \"lines\", \"type\": \"scatter\", \"x\": [0.7705209851264954, 0.4086643159389496], \"y\": [0.8238486051559448, 0.3621261417865753]}, {\"line\": {\"color\": \"#299e50\", \"width\": 0.5}, \"mode\": \"lines\", \"type\": \"scatter\", \"x\": [0.7705209851264954, 0.6537362933158875], \"y\": [0.8238486051559448, 0.08872393518686295]}, {\"line\": {\"color\": \"#299e50\", \"width\": 0.5}, \"mode\": \"lines\", \"type\": \"scatter\", \"x\": [0.7705209851264954, 0.7154220938682556], \"y\": [0.8238486051559448, 0.40188392996788025]}, {\"line\": {\"color\": \"#299e50\", \"width\": 0.5}, \"mode\": \"lines\", \"type\": \"scatter\", \"x\": [0.7705209851264954, 0.7115772366523743], \"y\": [0.8238486051559448, 0.8292791843414307]}, {\"line\": {\"color\": \"#299e50\", \"width\": 0.5}, \"mode\": \"lines\", \"type\": \"scatter\", \"x\": [0.7705209851264954, 0.18265576660633087], \"y\": [0.8238486051559448, 0.4460257291793823]}, {\"line\": {\"color\": \"#299e50\", \"width\": 0.5}, \"mode\": \"lines\", \"type\": \"scatter\", \"x\": [0.7705209851264954, 0.760776162147522], \"y\": [0.8238486051559448, 0.4072771966457367]}, {\"line\": {\"color\": \"#299e50\", \"width\": 0.5}, \"mode\": \"lines\", \"type\": \"scatter\", \"x\": [0.7705209851264954, 0.542614221572876], \"y\": [0.8238486051559448, 0.25801339745521545]}, {\"line\": {\"color\": \"#299e50\", \"width\": 0.5}, \"mode\": \"lines\", \"type\": \"scatter\", \"x\": [0.7705209851264954, 0.8605000972747803], \"y\": [0.8238486051559448, 0.4711788594722748]}, {\"line\": {\"color\": \"#299e50\", \"width\": 0.5}, \"mode\": \"lines\", \"type\": \"scatter\", \"x\": [0.5974354147911072, 0.7489044666290283], \"y\": [0.5150576233863831, 0.2710351049900055]}, {\"line\": {\"color\": \"#299e50\", \"width\": 0.5}, \"mode\": \"lines\", \"type\": \"scatter\", \"x\": [0.017463261261582375, 0.5527187585830688], \"y\": [0.6128932237625122, 0.09454482793807983]}, {\"line\": {\"color\": \"#299e50\", \"width\": 0.5}, \"mode\": \"lines\", \"type\": \"scatter\", \"x\": [0.017463261261582375, 0.7578432559967041], \"y\": [0.6128932237625122, 0.9053796529769897]}, {\"line\": {\"color\": \"#299e50\", \"width\": 0.5}, \"mode\": \"lines\", \"type\": \"scatter\", \"x\": [0.5271554589271545, 0.46177294850349426], \"y\": [0.3626784682273865, 0.9223251342773438]}, {\"line\": {\"color\": \"#299e50\", \"width\": 0.5}, \"mode\": \"lines\", \"type\": \"scatter\", \"x\": [0.10637816041707993, 0.6994906067848206], \"y\": [0.9513376355171204, 0.5704512000083923]}, {\"line\": {\"color\": \"#ff0000\", \"width\": 0.5}, \"mode\": \"lines\", \"type\": \"scatter\", \"x\": [0.9898263812065125, 0.688102662563324], \"y\": [0.9276485443115234, 0.9888705611228943]}, {\"line\": {\"color\": \"#299e50\", \"width\": 0.5}, \"mode\": \"lines\", \"type\": \"scatter\", \"x\": [0.9950982332229614, 0.8527994751930237], \"y\": [0.2590755820274353, 0.7079917192459106]}, {\"line\": {\"color\": \"#299e50\", \"width\": 0.5}, \"mode\": \"lines\", \"type\": \"scatter\", \"x\": [0.8835618495941162, 0.44391897320747375], \"y\": [0.4174003601074219, 0.6921108961105347]}, {\"line\": {\"color\": \"#299e50\", \"width\": 0.5}, \"mode\": \"lines\", \"type\": \"scatter\", \"x\": [0.8835618495941162, 0.6668270826339722], \"y\": [0.4174003601074219, 0.6397733092308044]}, {\"line\": {\"color\": \"#299e50\", \"width\": 0.5}, \"mode\": \"lines\", \"type\": \"scatter\", \"x\": [0.8835618495941162, 0.9388024210929871], \"y\": [0.4174003601074219, 0.9138306379318237]}, {\"line\": {\"color\": \"#299e50\", \"width\": 0.5}, \"mode\": \"lines\", \"type\": \"scatter\", \"x\": [0.5282618403434753, 0.06273538619279861], \"y\": [0.6983479857444763, 0.8368616700172424]}, {\"line\": {\"color\": \"#299e50\", \"width\": 0.5}, \"mode\": \"lines\", \"type\": \"scatter\", \"x\": [0.7834973335266113, 0.4817191958427429], \"y\": [0.37673723697662354, 0.4346274137496948]}, {\"line\": {\"color\": \"#299e50\", \"width\": 0.5}, \"mode\": \"lines\", \"type\": \"scatter\", \"x\": [0.8601850271224976, 0.22227875888347626], \"y\": [0.3932510316371918, 0.6245322227478027]}, {\"line\": {\"color\": \"#299e50\", \"width\": 0.5}, \"mode\": \"lines\", \"type\": \"scatter\", \"x\": [0.23510296642780304, 0.18265576660633087], \"y\": [0.1484983265399933, 0.4460257291793823]}, {\"line\": {\"color\": \"#299e50\", \"width\": 0.5}, \"mode\": \"lines\", \"type\": \"scatter\", \"x\": [0.30018725991249084, 0.44581204652786255], \"y\": [0.6766389012336731, 0.3875442445278168]}, {\"line\": {\"color\": \"#299e50\", \"width\": 0.5}, \"mode\": \"lines\", \"type\": \"scatter\", \"x\": [0.30018725991249084, 0.017455562949180603], \"y\": [0.6766389012336731, 0.23236465454101562]}, {\"line\": {\"color\": \"#299e50\", \"width\": 0.5}, \"mode\": \"lines\", \"type\": \"scatter\", \"x\": [0.9857444167137146, 0.271624892950058], \"y\": [0.14830780029296875, 0.8262171149253845]}, {\"line\": {\"color\": \"#299e50\", \"width\": 0.5}, \"mode\": \"lines\", \"type\": \"scatter\", \"x\": [0.6236091256141663, 0.9191186428070068], \"y\": [0.8615037798881531, 0.512662947177887]}, {\"line\": {\"color\": \"#299e50\", \"width\": 0.5}, \"mode\": \"lines\", \"type\": \"scatter\", \"x\": [0.6236091256141663, 0.24143804609775543], \"y\": [0.8615037798881531, 0.2966683506965637]}, {\"line\": {\"color\": \"#299e50\", \"width\": 0.5}, \"mode\": \"lines\", \"type\": \"scatter\", \"x\": [0.6236091256141663, 0.8478296995162964], \"y\": [0.8615037798881531, 0.6940177083015442]}, {\"line\": {\"color\": \"#299e50\", \"width\": 0.5}, \"mode\": \"lines\", \"type\": \"scatter\", \"x\": [0.2803668975830078, 0.29225754737854004], \"y\": [0.14655300974845886, 0.024440947920084]}, {\"line\": {\"color\": \"#299e50\", \"width\": 0.5}, \"mode\": \"lines\", \"type\": \"scatter\", \"x\": [0.7522110939025879, 0.27893760800361633], \"y\": [0.8591594696044922, 0.5562653541564941]}, {\"line\": {\"color\": \"#299e50\", \"width\": 0.5}, \"mode\": \"lines\", \"type\": \"scatter\", \"x\": [0.22075678408145905, 0.07909104228019714], \"y\": [0.17086640000343323, 0.8827905654907227]}, {\"line\": {\"color\": \"#000000\", \"width\": 0.5}, \"mode\": \"lines\", \"type\": \"scatter\", \"x\": [0.22075678408145905, 0.7110656499862671], \"y\": [0.17086640000343323, 0.4716659486293793]}, {\"line\": {\"color\": \"#299e50\", \"width\": 0.5}, \"mode\": \"lines\", \"type\": \"scatter\", \"x\": [0.8822914958000183, 0.7810391783714294], \"y\": [0.16419294476509094, 0.5053501129150391]}, {\"line\": {\"color\": \"#299e50\", \"width\": 0.5}, \"mode\": \"lines\", \"type\": \"scatter\", \"x\": [0.8822914958000183, 0.7039849162101746], \"y\": [0.16419294476509094, 0.23027314245700836]}, {\"line\": {\"color\": \"#299e50\", \"width\": 0.5}, \"mode\": \"lines\", \"type\": \"scatter\", \"x\": [0.40528005361557007, 0.6040866374969482], \"y\": [0.17564617097377777, 0.6708864569664001]}, {\"line\": {\"color\": \"#299e50\", \"width\": 0.5}, \"mode\": \"lines\", \"type\": \"scatter\", \"x\": [0.6513875126838684, 0.542614221572876], \"y\": [0.33489829301834106, 0.25801339745521545]}, {\"line\": {\"color\": \"#299e50\", \"width\": 0.5}, \"mode\": \"lines\", \"type\": \"scatter\", \"x\": [0.6513875126838684, 0.29351702332496643], \"y\": [0.33489829301834106, 0.8590925931930542]}, {\"line\": {\"color\": \"#ff0000\", \"width\": 0.5}, \"mode\": \"lines\", \"type\": \"scatter\", \"x\": [0.51434725522995, 0.688102662563324], \"y\": [0.6089898347854614, 0.9888705611228943]}, {\"line\": {\"color\": \"#ff0000\", \"width\": 0.5}, \"mode\": \"lines\", \"type\": \"scatter\", \"x\": [0.13373184204101562, 0.688102662563324], \"y\": [0.3345170021057129, 0.9888705611228943]}, {\"line\": {\"color\": \"#299e50\", \"width\": 0.5}, \"mode\": \"lines\", \"type\": \"scatter\", \"x\": [0.13373184204101562, 0.6855807900428772], \"y\": [0.3345170021057129, 0.1390732377767563]}, {\"line\": {\"color\": \"#299e50\", \"width\": 0.5}, \"mode\": \"lines\", \"type\": \"scatter\", \"x\": [0.25499722361564636, 0.9036331176757812], \"y\": [0.4588009715080261, 0.7973167300224304]}, {\"line\": {\"color\": \"#000000\", \"width\": 0.5}, \"mode\": \"lines\", \"type\": \"scatter\", \"x\": [0.25499722361564636, 0.9115270972251892], \"y\": [0.4588009715080261, 0.012569285929203033]}, {\"line\": {\"color\": \"#299e50\", \"width\": 0.5}, \"mode\": \"lines\", \"type\": \"scatter\", \"x\": [0.00428256718441844, 0.2985154986381531], \"y\": [0.36922237277030945, 0.0464739128947258]}, {\"line\": {\"color\": \"#299e50\", \"width\": 0.5}, \"mode\": \"lines\", \"type\": \"scatter\", \"x\": [0.300432950258255, 0.0067802234552800655], \"y\": [0.05694599449634552, 0.3221316635608673]}, {\"line\": {\"color\": \"#299e50\", \"width\": 0.5}, \"mode\": \"lines\", \"type\": \"scatter\", \"x\": [0.26659414172172546, 0.44581204652786255], \"y\": [0.08045075088739395, 0.3875442445278168]}, {\"line\": {\"color\": \"#299e50\", \"width\": 0.5}, \"mode\": \"lines\", \"type\": \"scatter\", \"x\": [0.26659414172172546, 0.14117096364498138], \"y\": [0.08045075088739395, 0.5059604644775391]}, {\"line\": {\"color\": \"#299e50\", \"width\": 0.5}, \"mode\": \"lines\", \"type\": \"scatter\", \"x\": [0.6992025971412659, 0.24796701967716217], \"y\": [0.04651474952697754, 0.04639594629406929]}, {\"line\": {\"color\": \"#299e50\", \"width\": 0.5}, \"mode\": \"lines\", \"type\": \"scatter\", \"x\": [0.9714610576629639, 0.8605000972747803], \"y\": [0.6378162503242493, 0.4711788594722748]}, {\"line\": {\"color\": \"#299e50\", \"width\": 0.5}, \"mode\": \"lines\", \"type\": \"scatter\", \"x\": [0.1627233773469925, 0.6212901473045349], \"y\": [0.7866907715797424, 0.35683366656303406]}, {\"line\": {\"color\": \"#ff0000\", \"width\": 0.5}, \"mode\": \"lines\", \"type\": \"scatter\", \"x\": [0.21532906591892242, 0.688102662563324], \"y\": [0.8172560334205627, 0.9888705611228943]}, {\"line\": {\"color\": \"#299e50\", \"width\": 0.5}, \"mode\": \"lines\", \"type\": \"scatter\", \"x\": [0.21532906591892242, 0.7489044666290283], \"y\": [0.8172560334205627, 0.2710351049900055]}, {\"line\": {\"color\": \"#299e50\", \"width\": 0.5}, \"mode\": \"lines\", \"type\": \"scatter\", \"x\": [0.2116537243127823, 0.8150458335876465], \"y\": [0.6790946125984192, 0.776185154914856]}, {\"line\": {\"color\": \"#299e50\", \"width\": 0.5}, \"mode\": \"lines\", \"type\": \"scatter\", \"x\": [0.2116537243127823, 0.341365247964859], \"y\": [0.6790946125984192, 0.2564842104911804]}, {\"line\": {\"color\": \"#299e50\", \"width\": 0.5}, \"mode\": \"lines\", \"type\": \"scatter\", \"x\": [0.22327515482902527, 0.639008104801178], \"y\": [0.4437815248966217, 0.4415610730648041]}, {\"line\": {\"color\": \"#299e50\", \"width\": 0.5}, \"mode\": \"lines\", \"type\": \"scatter\", \"x\": [0.3649803102016449, 0.12536704540252686], \"y\": [0.5065537691116333, 0.4786054491996765]}, {\"line\": {\"color\": \"#299e50\", \"width\": 0.5}, \"mode\": \"lines\", \"type\": \"scatter\", \"x\": [0.3076225519180298, 0.07286672294139862], \"y\": [0.22935745120048523, 0.5709065794944763]}, {\"line\": {\"color\": \"#299e50\", \"width\": 0.5}, \"mode\": \"lines\", \"type\": \"scatter\", \"x\": [0.833222508430481, 0.5451078414916992], \"y\": [0.45207250118255615, 0.07023841142654419]}, {\"line\": {\"color\": \"#299e50\", \"width\": 0.5}, \"mode\": \"lines\", \"type\": \"scatter\", \"x\": [0.19172675907611847, 0.4003163278102875], \"y\": [0.8325971364974976, 0.06983596831560135]}, {\"line\": {\"color\": \"#299e50\", \"width\": 0.5}, \"mode\": \"lines\", \"type\": \"scatter\", \"x\": [0.19172675907611847, 0.9645763635635376], \"y\": [0.8325971364974976, 0.9115824103355408]}, {\"line\": {\"color\": \"#299e50\", \"width\": 0.5}, \"mode\": \"lines\", \"type\": \"scatter\", \"x\": [0.8069401979446411, 0.43473055958747864], \"y\": [0.008803833276033401, 0.4713374972343445]}, {\"line\": {\"color\": \"#299e50\", \"width\": 0.5}, \"mode\": \"lines\", \"type\": \"scatter\", \"x\": [0.7437469959259033, 0.469279021024704], \"y\": [0.21863572299480438, 0.9261056184768677]}, {\"line\": {\"color\": \"#299e50\", \"width\": 0.5}, \"mode\": \"lines\", \"type\": \"scatter\", \"x\": [0.4935830533504486, 0.686886191368103], \"y\": [0.43483656644821167, 0.6341197490692139]}, {\"line\": {\"color\": \"#299e50\", \"width\": 0.5}, \"mode\": \"lines\", \"type\": \"scatter\", \"x\": [0.4935830533504486, 0.49498245120048523], \"y\": [0.43483656644821167, 0.7301805019378662]}, {\"line\": {\"color\": \"#299e50\", \"width\": 0.5}, \"mode\": \"lines\", \"type\": \"scatter\", \"x\": [0.44581204652786255, 0.1782466471195221], \"y\": [0.3875442445278168, 0.11279375851154327]}, {\"line\": {\"color\": \"#299e50\", \"width\": 0.5}, \"mode\": \"lines\", \"type\": \"scatter\", \"x\": [0.44581204652786255, 0.09249965846538544], \"y\": [0.3875442445278168, 0.8860867023468018]}, {\"line\": {\"color\": \"#299e50\", \"width\": 0.5}, \"mode\": \"lines\", \"type\": \"scatter\", \"x\": [0.44581204652786255, 0.3421109616756439], \"y\": [0.3875442445278168, 0.7583768367767334]}, {\"line\": {\"color\": \"#299e50\", \"width\": 0.5}, \"mode\": \"lines\", \"type\": \"scatter\", \"x\": [0.44581204652786255, 0.21547065675258636], \"y\": [0.3875442445278168, 0.4138983190059662]}, {\"line\": {\"color\": \"#299e50\", \"width\": 0.5}, \"mode\": \"lines\", \"type\": \"scatter\", \"x\": [0.44581204652786255, 0.43728259205818176], \"y\": [0.3875442445278168, 0.4425699710845947]}, {\"line\": {\"color\": \"#299e50\", \"width\": 0.5}, \"mode\": \"lines\", \"type\": \"scatter\", \"x\": [0.44581204652786255, 0.4817191958427429], \"y\": [0.3875442445278168, 0.4346274137496948]}, {\"line\": {\"color\": \"#299e50\", \"width\": 0.5}, \"mode\": \"lines\", \"type\": \"scatter\", \"x\": [0.44581204652786255, 0.6615166664123535], \"y\": [0.3875442445278168, 0.7841885089874268]}, {\"line\": {\"color\": \"#299e50\", \"width\": 0.5}, \"mode\": \"lines\", \"type\": \"scatter\", \"x\": [0.44581204652786255, 0.5014097094535828], \"y\": [0.3875442445278168, 0.9196719527244568]}, {\"line\": {\"color\": \"#299e50\", \"width\": 0.5}, \"mode\": \"lines\", \"type\": \"scatter\", \"x\": [0.44581204652786255, 0.7758944034576416], \"y\": [0.3875442445278168, 0.9645553827285767]}, {\"line\": {\"color\": \"#299e50\", \"width\": 0.5}, \"mode\": \"lines\", \"type\": \"scatter\", \"x\": [0.44581204652786255, 0.7869778871536255], \"y\": [0.3875442445278168, 0.5028001666069031]}, {\"line\": {\"color\": \"#299e50\", \"width\": 0.5}, \"mode\": \"lines\", \"type\": \"scatter\", \"x\": [0.44581204652786255, 0.5578300952911377], \"y\": [0.3875442445278168, 0.7320091128349304]}, {\"line\": {\"color\": \"#299e50\", \"width\": 0.5}, \"mode\": \"lines\", \"type\": \"scatter\", \"x\": [0.44581204652786255, 0.19793002307415009], \"y\": [0.3875442445278168, 0.3683583438396454]}, {\"line\": {\"color\": \"#299e50\", \"width\": 0.5}, \"mode\": \"lines\", \"type\": \"scatter\", \"x\": [0.44581204652786255, 0.6554207801818848], \"y\": [0.3875442445278168, 0.8547717332839966]}, {\"line\": {\"color\": \"#299e50\", \"width\": 0.5}, \"mode\": \"lines\", \"type\": \"scatter\", \"x\": [0.44581204652786255, 0.028155341744422913], \"y\": [0.3875442445278168, 0.2353859543800354]}, {\"line\": {\"color\": \"#299e50\", \"width\": 0.5}, \"mode\": \"lines\", \"type\": \"scatter\", \"x\": [0.44581204652786255, 0.742338240146637], \"y\": [0.3875442445278168, 0.54859459400177]}, {\"line\": {\"color\": \"#299e50\", \"width\": 0.5}, \"mode\": \"lines\", \"type\": \"scatter\", \"x\": [0.44581204652786255, 0.3229692876338959], \"y\": [0.3875442445278168, 0.7871139049530029]}, {\"line\": {\"color\": \"#299e50\", \"width\": 0.5}, \"mode\": \"lines\", \"type\": \"scatter\", \"x\": [0.44581204652786255, 0.022867528721690178], \"y\": [0.3875442445278168, 0.23341600596904755]}, {\"line\": {\"color\": \"#299e50\", \"width\": 0.5}, \"mode\": \"lines\", \"type\": \"scatter\", \"x\": [0.44581204652786255, 0.4934210479259491], \"y\": [0.3875442445278168, 0.8303664922714233]}, {\"line\": {\"color\": \"#299e50\", \"width\": 0.5}, \"mode\": \"lines\", \"type\": \"scatter\", \"x\": [0.44581204652786255, 0.5294198393821716], \"y\": [0.3875442445278168, 0.4090898633003235]}, {\"line\": {\"color\": \"#299e50\", \"width\": 0.5}, \"mode\": \"lines\", \"type\": \"scatter\", \"x\": [0.44581204652786255, 0.10498128086328506], \"y\": [0.3875442445278168, 0.10805436223745346]}, {\"line\": {\"color\": \"#299e50\", \"width\": 0.5}, \"mode\": \"lines\", \"type\": \"scatter\", \"x\": [0.44581204652786255, 0.542349100112915], \"y\": [0.3875442445278168, 0.18998554348945618]}, {\"line\": {\"color\": \"#299e50\", \"width\": 0.5}, \"mode\": \"lines\", \"type\": \"scatter\", \"x\": [0.44581204652786255, 0.7068064212799072], \"y\": [0.3875442445278168, 0.5578750967979431]}, {\"line\": {\"color\": \"#299e50\", \"width\": 0.5}, \"mode\": \"lines\", \"type\": \"scatter\", \"x\": [0.44581204652786255, 0.717514157295227], \"y\": [0.3875442445278168, 0.4500488042831421]}, {\"line\": {\"color\": \"#299e50\", \"width\": 0.5}, \"mode\": \"lines\", \"type\": \"scatter\", \"x\": [0.44581204652786255, 0.2792825996875763], \"y\": [0.3875442445278168, 0.23198719322681427]}, {\"line\": {\"color\": \"#299e50\", \"width\": 0.5}, \"mode\": \"lines\", \"type\": \"scatter\", \"x\": [0.44581204652786255, 0.027757376432418823], \"y\": [0.3875442445278168, 0.16432254016399384]}, {\"line\": {\"color\": \"#299e50\", \"width\": 0.5}, \"mode\": \"lines\", \"type\": \"scatter\", \"x\": [0.44581204652786255, 0.08988834172487259], \"y\": [0.3875442445278168, 0.4485476315021515]}, {\"line\": {\"color\": \"#299e50\", \"width\": 0.5}, \"mode\": \"lines\", \"type\": \"scatter\", \"x\": [0.44581204652786255, 0.20174062252044678], \"y\": [0.3875442445278168, 0.4676843583583832]}, {\"line\": {\"color\": \"#299e50\", \"width\": 0.5}, \"mode\": \"lines\", \"type\": \"scatter\", \"x\": [0.44581204652786255, 0.7446613907814026], \"y\": [0.3875442445278168, 0.3356136381626129]}, {\"line\": {\"color\": \"#299e50\", \"width\": 0.5}, \"mode\": \"lines\", \"type\": \"scatter\", \"x\": [0.44581204652786255, 0.4437842071056366], \"y\": [0.3875442445278168, 0.743512749671936]}, {\"line\": {\"color\": \"#299e50\", \"width\": 0.5}, \"mode\": \"lines\", \"type\": \"scatter\", \"x\": [0.44581204652786255, 0.9115270972251892], \"y\": [0.3875442445278168, 0.012569285929203033]}, {\"line\": {\"color\": \"#299e50\", \"width\": 0.5}, \"mode\": \"lines\", \"type\": \"scatter\", \"x\": [0.44581204652786255, 0.8358270525932312], \"y\": [0.3875442445278168, 0.39250123500823975]}, {\"line\": {\"color\": \"#299e50\", \"width\": 0.5}, \"mode\": \"lines\", \"type\": \"scatter\", \"x\": [0.44581204652786255, 0.6426719427108765], \"y\": [0.3875442445278168, 0.8290209770202637]}, {\"line\": {\"color\": \"#299e50\", \"width\": 0.5}, \"mode\": \"lines\", \"type\": \"scatter\", \"x\": [0.44581204652786255, 0.6476385593414307], \"y\": [0.3875442445278168, 0.35855090618133545]}, {\"line\": {\"color\": \"#299e50\", \"width\": 0.5}, \"mode\": \"lines\", \"type\": \"scatter\", \"x\": [0.44581204652786255, 0.6552994251251221], \"y\": [0.3875442445278168, 0.2802817225456238]}, {\"line\": {\"color\": \"#299e50\", \"width\": 0.5}, \"mode\": \"lines\", \"type\": \"scatter\", \"x\": [0.44581204652786255, 0.4213424623012543], \"y\": [0.3875442445278168, 0.5676946640014648]}, {\"line\": {\"color\": \"#299e50\", \"width\": 0.5}, \"mode\": \"lines\", \"type\": \"scatter\", \"x\": [0.1367407739162445, 0.746809184551239], \"y\": [0.0881347507238388, 0.4227779507637024]}, {\"line\": {\"color\": \"#299e50\", \"width\": 0.5}, \"mode\": \"lines\", \"type\": \"scatter\", \"x\": [0.46805837750434875, 0.6077024936676025], \"y\": [0.6002578735351562, 0.025941068306565285]}, {\"line\": {\"color\": \"#299e50\", \"width\": 0.5}, \"mode\": \"lines\", \"type\": \"scatter\", \"x\": [0.042348384857177734, 0.7179872989654541], \"y\": [0.5137543082237244, 0.2603873014450073]}, {\"line\": {\"color\": \"#299e50\", \"width\": 0.5}, \"mode\": \"lines\", \"type\": \"scatter\", \"x\": [0.2416342794895172, 0.6963537931442261], \"y\": [0.24467335641384125, 0.01662231981754303]}, {\"line\": {\"color\": \"#299e50\", \"width\": 0.5}, \"mode\": \"lines\", \"type\": \"scatter\", \"x\": [0.273470401763916, 0.8423578143119812], \"y\": [0.2914603054523468, 0.7606645226478577]}, {\"line\": {\"color\": \"#299e50\", \"width\": 0.5}, \"mode\": \"lines\", \"type\": \"scatter\", \"x\": [0.9007706046104431, 0.48688048124313354], \"y\": [0.6463307738304138, 0.08886551111936569]}, {\"line\": {\"color\": \"#299e50\", \"width\": 0.5}, \"mode\": \"lines\", \"type\": \"scatter\", \"x\": [0.27054616808891296, 0.9492083787918091], \"y\": [0.04672786965966225, 0.5123252868652344]}, {\"line\": {\"color\": \"#ff0000\", \"width\": 0.5}, \"mode\": \"lines\", \"type\": \"scatter\", \"x\": [0.2504049837589264, 0.688102662563324], \"y\": [0.3620513081550598, 0.9888705611228943]}, {\"line\": {\"color\": \"#299e50\", \"width\": 0.5}, \"mode\": \"lines\", \"type\": \"scatter\", \"x\": [0.2504049837589264, 0.7832409143447876], \"y\": [0.3620513081550598, 0.9116600155830383]}, {\"line\": {\"color\": \"#299e50\", \"width\": 0.5}, \"mode\": \"lines\", \"type\": \"scatter\", \"x\": [0.27068501710891724, 0.804632306098938], \"y\": [0.5071775317192078, 0.5733250379562378]}, {\"line\": {\"color\": \"#299e50\", \"width\": 0.5}, \"mode\": \"lines\", \"type\": \"scatter\", \"x\": [0.27068501710891724, 0.19529449939727783], \"y\": [0.5071775317192078, 0.7851591110229492]}, {\"line\": {\"color\": \"#299e50\", \"width\": 0.5}, \"mode\": \"lines\", \"type\": \"scatter\", \"x\": [0.8942954540252686, 0.3093782961368561], \"y\": [0.10928799211978912, 0.5310360193252563]}, {\"line\": {\"color\": \"#299e50\", \"width\": 0.5}, \"mode\": \"lines\", \"type\": \"scatter\", \"x\": [0.9645763635635376, 0.912513256072998], \"y\": [0.9115824103355408, 0.3906978368759155]}, {\"line\": {\"color\": \"#299e50\", \"width\": 0.5}, \"mode\": \"lines\", \"type\": \"scatter\", \"x\": [0.11912716925144196, 0.6583549976348877], \"y\": [0.7902355790138245, 0.1626376360654831]}, {\"line\": {\"color\": \"#299e50\", \"width\": 0.5}, \"mode\": \"lines\", \"type\": \"scatter\", \"x\": [0.5061992406845093, 0.04237682744860649], \"y\": [0.37315547466278076, 0.29004383087158203]}, {\"line\": {\"color\": \"#299e50\", \"width\": 0.5}, \"mode\": \"lines\", \"type\": \"scatter\", \"x\": [0.5061992406845093, 0.5499528646469116], \"y\": [0.37315547466278076, 0.7187548279762268]}, {\"line\": {\"color\": \"#299e50\", \"width\": 0.5}, \"mode\": \"lines\", \"type\": \"scatter\", \"x\": [0.46177294850349426, 0.14694912731647491], \"y\": [0.9223251342773438, 0.5987687110900879]}, {\"line\": {\"color\": \"#ff0000\", \"width\": 0.5}, \"mode\": \"lines\", \"type\": \"scatter\", \"x\": [0.6177396178245544, 0.688102662563324], \"y\": [0.3884545862674713, 0.9888705611228943]}, {\"line\": {\"color\": \"#299e50\", \"width\": 0.5}, \"mode\": \"lines\", \"type\": \"scatter\", \"x\": [0.6177396178245544, 0.0655314028263092], \"y\": [0.3884545862674713, 0.22383680939674377]}, {\"line\": {\"color\": \"#299e50\", \"width\": 0.5}, \"mode\": \"lines\", \"type\": \"scatter\", \"x\": [0.33287522196769714, 0.7438006401062012], \"y\": [0.25145813822746277, 0.9262742400169373]}, {\"line\": {\"color\": \"#299e50\", \"width\": 0.5}, \"mode\": \"lines\", \"type\": \"scatter\", \"x\": [0.33287522196769714, 0.19236387312412262], \"y\": [0.25145813822746277, 0.9435545206069946]}, {\"line\": {\"color\": \"#299e50\", \"width\": 0.5}, \"mode\": \"lines\", \"type\": \"scatter\", \"x\": [0.2706001400947571, 0.7314897179603577], \"y\": [0.17366823554039001, 0.9280707836151123]}, {\"line\": {\"color\": \"#299e50\", \"width\": 0.5}, \"mode\": \"lines\", \"type\": \"scatter\", \"x\": [0.6855807900428772, 0.6613908410072327], \"y\": [0.1390732377767563, 0.09975838661193848]}, {\"line\": {\"color\": \"#299e50\", \"width\": 0.5}, \"mode\": \"lines\", \"type\": \"scatter\", \"x\": [0.3240806758403778, 0.7873848080635071], \"y\": [0.6970539093017578, 0.40987640619277954]}, {\"line\": {\"color\": \"#299e50\", \"width\": 0.5}, \"mode\": \"lines\", \"type\": \"scatter\", \"x\": [0.3240806758403778, 0.5439746975898743], \"y\": [0.6970539093017578, 0.6988767981529236]}, {\"line\": {\"color\": \"#299e50\", \"width\": 0.5}, \"mode\": \"lines\", \"type\": \"scatter\", \"x\": [0.9239086508750916, 0.9035263657569885], \"y\": [0.16225780546665192, 0.019613487645983696]}, {\"line\": {\"color\": \"#299e50\", \"width\": 0.5}, \"mode\": \"lines\", \"type\": \"scatter\", \"x\": [0.10043438524007797, 0.5792702436447144], \"y\": [0.5451368689537048, 0.3818216621875763]}, {\"line\": {\"color\": \"#299e50\", \"width\": 0.5}, \"mode\": \"lines\", \"type\": \"scatter\", \"x\": [0.517087459564209, 0.6421829462051392], \"y\": [0.08943101018667221, 0.32489386200904846]}, {\"line\": {\"color\": \"#299e50\", \"width\": 0.5}, \"mode\": \"lines\", \"type\": \"scatter\", \"x\": [0.517087459564209, 0.9714114665985107], \"y\": [0.08943101018667221, 0.4791736900806427]}, {\"line\": {\"color\": \"#299e50\", \"width\": 0.5}, \"mode\": \"lines\", \"type\": \"scatter\", \"x\": [0.517087459564209, 0.039353903383016586], \"y\": [0.08943101018667221, 0.029802024364471436]}, {\"line\": {\"color\": \"#299e50\", \"width\": 0.5}, \"mode\": \"lines\", \"type\": \"scatter\", \"x\": [0.517087459564209, 0.22522594034671783], \"y\": [0.08943101018667221, 0.6610667109489441]}, {\"line\": {\"color\": \"#299e50\", \"width\": 0.5}, \"mode\": \"lines\", \"type\": \"scatter\", \"x\": [0.9857867360115051, 0.5851160287857056], \"y\": [0.7658610343933105, 0.6091163158416748]}, {\"line\": {\"color\": \"#299e50\", \"width\": 0.5}, \"mode\": \"lines\", \"type\": \"scatter\", \"x\": [0.660733699798584, 0.19236387312412262], \"y\": [0.2578464150428772, 0.9435545206069946]}, {\"line\": {\"color\": \"#299e50\", \"width\": 0.5}, \"mode\": \"lines\", \"type\": \"scatter\", \"x\": [0.660733699798584, 0.9812551736831665], \"y\": [0.2578464150428772, 0.4375913739204407]}, {\"line\": {\"color\": \"#299e50\", \"width\": 0.5}, \"mode\": \"lines\", \"type\": \"scatter\", \"x\": [0.039353903383016586, 0.7039849162101746], \"y\": [0.029802024364471436, 0.23027314245700836]}, {\"line\": {\"color\": \"#299e50\", \"width\": 0.5}, \"mode\": \"lines\", \"type\": \"scatter\", \"x\": [0.9714114665985107, 0.6283131837844849], \"y\": [0.4791736900806427, 0.43186071515083313]}, {\"line\": {\"color\": \"#299e50\", \"width\": 0.5}, \"mode\": \"lines\", \"type\": \"scatter\", \"x\": [0.8078529834747314, 0.2641837000846863], \"y\": [0.19773748517036438, 0.7745242714881897]}, {\"line\": {\"color\": \"#299e50\", \"width\": 0.5}, \"mode\": \"lines\", \"type\": \"scatter\", \"x\": [0.8078529834747314, 0.6931230425834656], \"y\": [0.19773748517036438, 0.8543417453765869]}, {\"line\": {\"color\": \"#299e50\", \"width\": 0.5}, \"mode\": \"lines\", \"type\": \"scatter\", \"x\": [0.7810391783714294, 0.1598396748304367], \"y\": [0.5053501129150391, 0.33818915486335754]}, {\"line\": {\"color\": \"#299e50\", \"width\": 0.5}, \"mode\": \"lines\", \"type\": \"scatter\", \"x\": [0.5828037858009338, 0.2993301749229431], \"y\": [0.2813105881214142, 0.12383632361888885]}, {\"line\": {\"color\": \"#299e50\", \"width\": 0.5}, \"mode\": \"lines\", \"type\": \"scatter\", \"x\": [0.6362404227256775, 0.11400165408849716], \"y\": [0.2567344307899475, 0.45799964666366577]}, {\"line\": {\"color\": \"#299e50\", \"width\": 0.5}, \"mode\": \"lines\", \"type\": \"scatter\", \"x\": [0.18124784529209137, 0.8996476531028748], \"y\": [0.8309138417243958, 0.8879117965698242]}, {\"line\": {\"color\": \"#299e50\", \"width\": 0.5}, \"mode\": \"lines\", \"type\": \"scatter\", \"x\": [0.8946775794029236, 0.885564386844635], \"y\": [0.6330384016036987, 0.7476477026939392]}, {\"line\": {\"color\": \"#299e50\", \"width\": 0.5}, \"mode\": \"lines\", \"type\": \"scatter\", \"x\": [0.8946775794029236, 0.6040866374969482], \"y\": [0.6330384016036987, 0.6708864569664001]}, {\"line\": {\"color\": \"#299e50\", \"width\": 0.5}, \"mode\": \"lines\", \"type\": \"scatter\", \"x\": [0.06067084148526192, 0.34294766187667847], \"y\": [0.526569128036499, 0.2597651183605194]}, {\"line\": {\"color\": \"#299e50\", \"width\": 0.5}, \"mode\": \"lines\", \"type\": \"scatter\", \"x\": [0.8083047866821289, 0.5484136343002319], \"y\": [0.7144234776496887, 0.07323763519525528]}, {\"line\": {\"color\": \"#299e50\", \"width\": 0.5}, \"mode\": \"lines\", \"type\": \"scatter\", \"x\": [0.8083047866821289, 0.8423578143119812], \"y\": [0.7144234776496887, 0.7606645226478577]}, {\"line\": {\"color\": \"#299e50\", \"width\": 0.5}, \"mode\": \"lines\", \"type\": \"scatter\", \"x\": [0.29351702332496643, 0.564993679523468], \"y\": [0.8590925931930542, 0.43967050313949585]}, {\"line\": {\"color\": \"#299e50\", \"width\": 0.5}, \"mode\": \"lines\", \"type\": \"scatter\", \"x\": [0.003788951551541686, 0.8176313638687134], \"y\": [0.819857120513916, 0.8166991472244263]}, {\"line\": {\"color\": \"#299e50\", \"width\": 0.5}, \"mode\": \"lines\", \"type\": \"scatter\", \"x\": [0.030361799523234367, 0.11400165408849716], \"y\": [0.284953773021698, 0.45799964666366577]}, {\"line\": {\"color\": \"#299e50\", \"width\": 0.5}, \"mode\": \"lines\", \"type\": \"scatter\", \"x\": [0.35828298330307007, 0.21354442834854126], \"y\": [0.6651905179023743, 0.4444177448749542]}, {\"line\": {\"color\": \"#299e50\", \"width\": 0.5}, \"mode\": \"lines\", \"type\": \"scatter\", \"x\": [0.6096104383468628, 0.3093782961368561], \"y\": [0.4364262819290161, 0.5310360193252563]}, {\"line\": {\"color\": \"#299e50\", \"width\": 0.5}, \"mode\": \"lines\", \"type\": \"scatter\", \"x\": [0.6096104383468628, 0.5436159372329712], \"y\": [0.4364262819290161, 0.8037217259407043]}, {\"line\": {\"color\": \"#299e50\", \"width\": 0.5}, \"mode\": \"lines\", \"type\": \"scatter\", \"x\": [0.9686937928199768, 0.0636991411447525], \"y\": [0.8527503609657288, 0.2846999168395996]}, {\"line\": {\"color\": \"#299e50\", \"width\": 0.5}, \"mode\": \"lines\", \"type\": \"scatter\", \"x\": [0.9686937928199768, 0.6421829462051392], \"y\": [0.8527503609657288, 0.32489386200904846]}, {\"line\": {\"color\": \"#299e50\", \"width\": 0.5}, \"mode\": \"lines\", \"type\": \"scatter\", \"x\": [0.514175295829773, 0.1661851406097412], \"y\": [0.2708350718021393, 0.28520289063453674]}, {\"line\": {\"color\": \"#299e50\", \"width\": 0.5}, \"mode\": \"lines\", \"type\": \"scatter\", \"x\": [0.027157986536622047, 0.3475211262702942], \"y\": [0.5760071277618408, 0.4190945625305176]}, {\"line\": {\"color\": \"#299e50\", \"width\": 0.5}, \"mode\": \"lines\", \"type\": \"scatter\", \"x\": [0.027157986536622047, 0.7742741107940674], \"y\": [0.5760071277618408, 0.5690159201622009]}, {\"line\": {\"color\": \"#299e50\", \"width\": 0.5}, \"mode\": \"lines\", \"type\": \"scatter\", \"x\": [0.12689250707626343, 0.7327216863632202], \"y\": [0.6319238543510437, 0.24746835231781006]}, {\"line\": {\"color\": \"#299e50\", \"width\": 0.5}, \"mode\": \"lines\", \"type\": \"scatter\", \"x\": [0.12689250707626343, 0.2658243775367737], \"y\": [0.6319238543510437, 0.629175066947937]}, {\"line\": {\"color\": \"#299e50\", \"width\": 0.5}, \"mode\": \"lines\", \"type\": \"scatter\", \"x\": [0.12689250707626343, 0.7438006401062012], \"y\": [0.6319238543510437, 0.9262742400169373]}, {\"line\": {\"color\": \"#299e50\", \"width\": 0.5}, \"mode\": \"lines\", \"type\": \"scatter\", \"x\": [0.12689250707626343, 0.5100937485694885], \"y\": [0.6319238543510437, 0.7833890914916992]}, {\"line\": {\"color\": \"#299e50\", \"width\": 0.5}, \"mode\": \"lines\", \"type\": \"scatter\", \"x\": [0.9610236883163452, 0.11400165408849716], \"y\": [0.1805858016014099, 0.45799964666366577]}, {\"line\": {\"color\": \"#299e50\", \"width\": 0.5}, \"mode\": \"lines\", \"type\": \"scatter\", \"x\": [0.7220880389213562, 0.5834895968437195], \"y\": [0.8100358843803406, 0.38666635751724243]}, {\"line\": {\"color\": \"#299e50\", \"width\": 0.5}, \"mode\": \"lines\", \"type\": \"scatter\", \"x\": [0.7220880389213562, 0.0406193807721138], \"y\": [0.8100358843803406, 0.683742105960846]}, {\"line\": {\"color\": \"#299e50\", \"width\": 0.5}, \"mode\": \"lines\", \"type\": \"scatter\", \"x\": [0.6283118724822998, 0.49249038100242615], \"y\": [0.36206263303756714, 0.9569603800773621]}, {\"line\": {\"color\": \"#299e50\", \"width\": 0.5}, \"mode\": \"lines\", \"type\": \"scatter\", \"x\": [0.7679492235183716, 0.9035645723342896], \"y\": [0.2100306749343872, 0.46543607115745544]}, {\"line\": {\"color\": \"#299e50\", \"width\": 0.5}, \"mode\": \"lines\", \"type\": \"scatter\", \"x\": [0.21987797319889069, 0.07454723119735718], \"y\": [0.1470804661512375, 0.34153440594673157]}, {\"line\": {\"color\": \"#299e50\", \"width\": 0.5}, \"mode\": \"lines\", \"type\": \"scatter\", \"x\": [0.21987797319889069, 0.21546520292758942], \"y\": [0.1470804661512375, 0.5886916518211365]}, {\"line\": {\"color\": \"#299e50\", \"width\": 0.5}, \"mode\": \"lines\", \"type\": \"scatter\", \"x\": [0.27797019481658936, 0.6583549976348877], \"y\": [0.8185561895370483, 0.1626376360654831]}, {\"line\": {\"color\": \"#299e50\", \"width\": 0.5}, \"mode\": \"lines\", \"type\": \"scatter\", \"x\": [0.18224120140075684, 0.45035481452941895], \"y\": [0.2353748083114624, 0.6283848881721497]}, {\"line\": {\"color\": \"#299e50\", \"width\": 0.5}, \"mode\": \"lines\", \"type\": \"scatter\", \"x\": [0.6387676000595093, 0.6665888428688049], \"y\": [0.662317156791687, 0.9237476587295532]}, {\"line\": {\"color\": \"#299e50\", \"width\": 0.5}, \"mode\": \"lines\", \"type\": \"scatter\", \"x\": [0.15759116411209106, 0.8605000972747803], \"y\": [0.1436251401901245, 0.4711788594722748]}, {\"line\": {\"color\": \"#299e50\", \"width\": 0.5}, \"mode\": \"lines\", \"type\": \"scatter\", \"x\": [0.8049639463424683, 0.07293117791414261], \"y\": [0.2033414989709854, 0.4793883264064789]}, {\"line\": {\"color\": \"#299e50\", \"width\": 0.5}, \"mode\": \"lines\", \"type\": \"scatter\", \"x\": [0.5369848012924194, 0.7873848080635071], \"y\": [0.40051907300949097, 0.40987640619277954]}, {\"line\": {\"color\": \"#ff0000\", \"width\": 0.5}, \"mode\": \"lines\", \"type\": \"scatter\", \"x\": [0.025941792875528336, 0.688102662563324], \"y\": [0.6564719080924988, 0.9888705611228943]}, {\"line\": {\"color\": \"#299e50\", \"width\": 0.5}, \"mode\": \"lines\", \"type\": \"scatter\", \"x\": [0.025941792875528336, 0.9821622371673584], \"y\": [0.6564719080924988, 0.7435712814331055]}, {\"line\": {\"color\": \"#299e50\", \"width\": 0.5}, \"mode\": \"lines\", \"type\": \"scatter\", \"x\": [0.28914743661880493, 0.8314588069915771], \"y\": [0.8870672583580017, 0.9181115627288818]}, {\"line\": {\"color\": \"#299e50\", \"width\": 0.5}, \"mode\": \"lines\", \"type\": \"scatter\", \"x\": [0.28914743661880493, 0.9802181124687195], \"y\": [0.8870672583580017, 0.7965412139892578]}, {\"line\": {\"color\": \"#ff0000\", \"width\": 0.5}, \"mode\": \"lines\", \"type\": \"scatter\", \"x\": [0.15524375438690186, 0.688102662563324], \"y\": [0.06221834570169449, 0.9888705611228943]}, {\"line\": {\"color\": \"#299e50\", \"width\": 0.5}, \"mode\": \"lines\", \"type\": \"scatter\", \"x\": [0.15524375438690186, 0.01045279297977686], \"y\": [0.06221834570169449, 0.9925180673599243]}, {\"line\": {\"color\": \"#299e50\", \"width\": 0.5}, \"mode\": \"lines\", \"type\": \"scatter\", \"x\": [0.9634285569190979, 0.18280622363090515], \"y\": [0.7564778327941895, 0.20643772184848785]}, {\"line\": {\"color\": \"#299e50\", \"width\": 0.5}, \"mode\": \"lines\", \"type\": \"scatter\", \"x\": [0.688102662563324, 0.2548542022705078], \"y\": [0.9888705611228943, 0.43847450613975525]}, {\"line\": {\"color\": \"#ff0000\", \"width\": 0.5}, \"mode\": \"lines\", \"type\": \"scatter\", \"x\": [0.688102662563324, 0.19056563079357147], \"y\": [0.9888705611228943, 0.9231480956077576]}, {\"line\": {\"color\": \"#ff0000\", \"width\": 0.5}, \"mode\": \"lines\", \"type\": \"scatter\", \"x\": [0.688102662563324, 0.48780906200408936], \"y\": [0.9888705611228943, 0.4134295582771301]}, {\"line\": {\"color\": \"#ff0000\", \"width\": 0.5}, \"mode\": \"lines\", \"type\": \"scatter\", \"x\": [0.688102662563324, 0.6609811782836914], \"y\": [0.9888705611228943, 0.9435147643089294]}, {\"line\": {\"color\": \"#ff0000\", \"width\": 0.5}, \"mode\": \"lines\", \"type\": \"scatter\", \"x\": [0.688102662563324, 0.2027883529663086], \"y\": [0.9888705611228943, 0.23913969099521637]}, {\"line\": {\"color\": \"#ff0000\", \"width\": 0.5}, \"mode\": \"lines\", \"type\": \"scatter\", \"x\": [0.688102662563324, 0.9290707111358643], \"y\": [0.9888705611228943, 0.8230574131011963]}, {\"line\": {\"color\": \"#ff0000\", \"width\": 0.5}, \"mode\": \"lines\", \"type\": \"scatter\", \"x\": [0.688102662563324, 0.9353986382484436], \"y\": [0.9888705611228943, 0.07247896492481232]}, {\"line\": {\"color\": \"#ff0000\", \"width\": 0.5}, \"mode\": \"lines\", \"type\": \"scatter\", \"x\": [0.688102662563324, 0.26044178009033203], \"y\": [0.9888705611228943, 0.890661358833313]}, {\"line\": {\"color\": \"#ff0000\", \"width\": 0.5}, \"mode\": \"lines\", \"type\": \"scatter\", \"x\": [0.688102662563324, 0.3069920539855957], \"y\": [0.9888705611228943, 0.7741144299507141]}, {\"line\": {\"color\": \"#ff0000\", \"width\": 0.5}, \"mode\": \"lines\", \"type\": \"scatter\", \"x\": [0.688102662563324, 0.6033838391304016], \"y\": [0.9888705611228943, 0.5943506360054016]}, {\"line\": {\"color\": \"#ff0000\", \"width\": 0.5}, \"mode\": \"lines\", \"type\": \"scatter\", \"x\": [0.688102662563324, 0.5527187585830688], \"y\": [0.9888705611228943, 0.09454482793807983]}, {\"line\": {\"color\": \"#ff0000\", \"width\": 0.5}, \"mode\": \"lines\", \"type\": \"scatter\", \"x\": [0.688102662563324, 0.30603769421577454], \"y\": [0.9888705611228943, 0.15179169178009033]}, {\"line\": {\"color\": \"#ff0000\", \"width\": 0.5}, \"mode\": \"lines\", \"type\": \"scatter\", \"x\": [0.688102662563324, 0.44391897320747375], \"y\": [0.9888705611228943, 0.6921108961105347]}, {\"line\": {\"color\": \"#ff0000\", \"width\": 0.5}, \"mode\": \"lines\", \"type\": \"scatter\", \"x\": [0.688102662563324, 0.6676256060600281], \"y\": [0.9888705611228943, 0.10954011231660843]}, {\"line\": {\"color\": \"#ff0000\", \"width\": 0.5}, \"mode\": \"lines\", \"type\": \"scatter\", \"x\": [0.688102662563324, 0.23927852511405945], \"y\": [0.9888705611228943, 0.2006034553050995]}, {\"line\": {\"color\": \"#ff0000\", \"width\": 0.5}, \"mode\": \"lines\", \"type\": \"scatter\", \"x\": [0.688102662563324, 0.9569575786590576], \"y\": [0.9888705611228943, 0.4416434168815613]}, {\"line\": {\"color\": \"#ff0000\", \"width\": 0.5}, \"mode\": \"lines\", \"type\": \"scatter\", \"x\": [0.688102662563324, 0.15271185338497162], \"y\": [0.9888705611228943, 0.3480551540851593]}, {\"line\": {\"color\": \"#ff0000\", \"width\": 0.5}, \"mode\": \"lines\", \"type\": \"scatter\", \"x\": [0.688102662563324, 0.8527994751930237], \"y\": [0.9888705611228943, 0.7079917192459106]}, {\"line\": {\"color\": \"#ff0000\", \"width\": 0.5}, \"mode\": \"lines\", \"type\": \"scatter\", \"x\": [0.688102662563324, 0.2641837000846863], \"y\": [0.9888705611228943, 0.7745242714881897]}, {\"line\": {\"color\": \"#ff0000\", \"width\": 0.5}, \"mode\": \"lines\", \"type\": \"scatter\", \"x\": [0.688102662563324, 0.41125744581222534], \"y\": [0.9888705611228943, 0.7925571203231812]}, {\"line\": {\"color\": \"#ff0000\", \"width\": 0.5}, \"mode\": \"lines\", \"type\": \"scatter\", \"x\": [0.688102662563324, 0.5696626901626587], \"y\": [0.9888705611228943, 0.1722274124622345]}, {\"line\": {\"color\": \"#ff0000\", \"width\": 0.5}, \"mode\": \"lines\", \"type\": \"scatter\", \"x\": [0.688102662563324, 0.6304723620414734], \"y\": [0.9888705611228943, 0.8672799468040466]}, {\"line\": {\"color\": \"#ff0000\", \"width\": 0.5}, \"mode\": \"lines\", \"type\": \"scatter\", \"x\": [0.688102662563324, 0.6855834126472473], \"y\": [0.9888705611228943, 0.840462863445282]}, {\"line\": {\"color\": \"#ff0000\", \"width\": 0.5}, \"mode\": \"lines\", \"type\": \"scatter\", \"x\": [0.688102662563324, 0.9895837903022766], \"y\": [0.9888705611228943, 0.2675274908542633]}, {\"line\": {\"color\": \"#ff0000\", \"width\": 0.5}, \"mode\": \"lines\", \"type\": \"scatter\", \"x\": [0.688102662563324, 0.9992673397064209], \"y\": [0.9888705611228943, 0.2909756302833557]}, {\"line\": {\"color\": \"#ff0000\", \"width\": 0.5}, \"mode\": \"lines\", \"type\": \"scatter\", \"x\": [0.688102662563324, 0.09712449461221695], \"y\": [0.9888705611228943, 0.3538587689399719]}, {\"line\": {\"color\": \"#ff0000\", \"width\": 0.5}, \"mode\": \"lines\", \"type\": \"scatter\", \"x\": [0.688102662563324, 0.8478296995162964], \"y\": [0.9888705611228943, 0.6940177083015442]}, {\"line\": {\"color\": \"#ff0000\", \"width\": 0.5}, \"mode\": \"lines\", \"type\": \"scatter\", \"x\": [0.688102662563324, 0.9019935131072998], \"y\": [0.9888705611228943, 0.6267592906951904]}, {\"line\": {\"color\": \"#ff0000\", \"width\": 0.5}, \"mode\": \"lines\", \"type\": \"scatter\", \"x\": [0.688102662563324, 0.7747628688812256], \"y\": [0.9888705611228943, 0.8493409752845764]}, {\"line\": {\"color\": \"#ff0000\", \"width\": 0.5}, \"mode\": \"lines\", \"type\": \"scatter\", \"x\": [0.688102662563324, 0.6332467794418335], \"y\": [0.9888705611228943, 0.8872196674346924]}, {\"line\": {\"color\": \"#ff0000\", \"width\": 0.5}, \"mode\": \"lines\", \"type\": \"scatter\", \"x\": [0.688102662563324, 0.4213493764400482], \"y\": [0.9888705611228943, 0.30406883358955383]}, {\"line\": {\"color\": \"#ff0000\", \"width\": 0.5}, \"mode\": \"lines\", \"type\": \"scatter\", \"x\": [0.688102662563324, 0.20914453268051147], \"y\": [0.9888705611228943, 0.6443696022033691]}, {\"line\": {\"color\": \"#ff0000\", \"width\": 0.5}, \"mode\": \"lines\", \"type\": \"scatter\", \"x\": [0.688102662563324, 0.9020664095878601], \"y\": [0.9888705611228943, 0.9990075826644897]}, {\"line\": {\"color\": \"#ff0000\", \"width\": 0.5}, \"mode\": \"lines\", \"type\": \"scatter\", \"x\": [0.688102662563324, 0.673102617263794], \"y\": [0.9888705611228943, 0.5729731917381287]}, {\"line\": {\"color\": \"#ff0000\", \"width\": 0.5}, \"mode\": \"lines\", \"type\": \"scatter\", \"x\": [0.688102662563324, 0.4180437922477722], \"y\": [0.9888705611228943, 0.5096951723098755]}, {\"line\": {\"color\": \"#ff0000\", \"width\": 0.5}, \"mode\": \"lines\", \"type\": \"scatter\", \"x\": [0.688102662563324, 0.5480067133903503], \"y\": [0.9888705611228943, 0.9136435985565186]}, {\"line\": {\"color\": \"#ff0000\", \"width\": 0.5}, \"mode\": \"lines\", \"type\": \"scatter\", \"x\": [0.688102662563324, 0.6886407136917114], \"y\": [0.9888705611228943, 0.6049558520317078]}, {\"line\": {\"color\": \"#ff0000\", \"width\": 0.5}, \"mode\": \"lines\", \"type\": \"scatter\", \"x\": [0.688102662563324, 0.3708462417125702], \"y\": [0.9888705611228943, 0.19386571645736694]}, {\"line\": {\"color\": \"#ff0000\", \"width\": 0.5}, \"mode\": \"lines\", \"type\": \"scatter\", \"x\": [0.688102662563324, 0.5909917950630188], \"y\": [0.9888705611228943, 0.8862307071685791]}, {\"line\": {\"color\": \"#ff0000\", \"width\": 0.5}, \"mode\": \"lines\", \"type\": \"scatter\", \"x\": [0.688102662563324, 0.9923645853996277], \"y\": [0.9888705611228943, 0.6319944858551025]}, {\"line\": {\"color\": \"#ff0000\", \"width\": 0.5}, \"mode\": \"lines\", \"type\": \"scatter\", \"x\": [0.688102662563324, 0.9104712009429932], \"y\": [0.9888705611228943, 0.3901548981666565]}, {\"line\": {\"color\": \"#ff0000\", \"width\": 0.5}, \"mode\": \"lines\", \"type\": \"scatter\", \"x\": [0.688102662563324, 0.3131215274333954], \"y\": [0.9888705611228943, 0.5513376593589783]}, {\"line\": {\"color\": \"#ff0000\", \"width\": 0.5}, \"mode\": \"lines\", \"type\": \"scatter\", \"x\": [0.688102662563324, 0.49069541692733765], \"y\": [0.9888705611228943, 0.5232279896736145]}, {\"line\": {\"color\": \"#ff0000\", \"width\": 0.5}, \"mode\": \"lines\", \"type\": \"scatter\", \"x\": [0.688102662563324, 0.6359803080558777], \"y\": [0.9888705611228943, 0.9657894372940063]}, {\"line\": {\"color\": \"#299e50\", \"width\": 0.5}, \"mode\": \"lines\", \"type\": \"scatter\", \"x\": [0.7325194478034973, 0.4180437922477722], \"y\": [0.8703819513320923, 0.5096951723098755]}, {\"line\": {\"color\": \"#299e50\", \"width\": 0.5}, \"mode\": \"lines\", \"type\": \"scatter\", \"x\": [0.19056563079357147, 0.13358886539936066], \"y\": [0.9231480956077576, 0.6980350017547607]}, {\"line\": {\"color\": \"#299e50\", \"width\": 0.5}, \"mode\": \"lines\", \"type\": \"scatter\", \"x\": [0.2404921054840088, 0.3444572389125824], \"y\": [0.47534024715423584, 0.5256918668746948]}, {\"line\": {\"color\": \"#299e50\", \"width\": 0.5}, \"mode\": \"lines\", \"type\": \"scatter\", \"x\": [0.2404921054840088, 0.5128595232963562], \"y\": [0.47534024715423584, 0.6059209704399109]}, {\"line\": {\"color\": \"#299e50\", \"width\": 0.5}, \"mode\": \"lines\", \"type\": \"scatter\", \"x\": [0.5073263645172119, 0.7913283109664917], \"y\": [0.4508726894855499, 0.10791761428117752]}, {\"line\": {\"color\": \"#299e50\", \"width\": 0.5}, \"mode\": \"lines\", \"type\": \"scatter\", \"x\": [0.21546520292758942, 0.09712449461221695], \"y\": [0.5886916518211365, 0.3538587689399719]}, {\"line\": {\"color\": \"#299e50\", \"width\": 0.5}, \"mode\": \"lines\", \"type\": \"scatter\", \"x\": [0.21546520292758942, 0.36851564049720764], \"y\": [0.5886916518211365, 0.7743782997131348]}, {\"line\": {\"color\": \"#299e50\", \"width\": 0.5}, \"mode\": \"lines\", \"type\": \"scatter\", \"x\": [0.5626683831214905, 0.4817191958427429], \"y\": [0.44986510276794434, 0.4346274137496948]}, {\"line\": {\"color\": \"#299e50\", \"width\": 0.5}, \"mode\": \"lines\", \"type\": \"scatter\", \"x\": [0.6808767914772034, 0.7328574061393738], \"y\": [0.03834191709756851, 0.020426250994205475]}, {\"line\": {\"color\": \"#299e50\", \"width\": 0.5}, \"mode\": \"lines\", \"type\": \"scatter\", \"x\": [0.36375749111175537, 0.3441350758075714], \"y\": [0.4329463839530945, 0.554015040397644]}, {\"line\": {\"color\": \"#299e50\", \"width\": 0.5}, \"mode\": \"lines\", \"type\": \"scatter\", \"x\": [0.20855578780174255, 0.27872681617736816], \"y\": [0.8728055357933044, 0.4856356382369995]}, {\"line\": {\"color\": \"#299e50\", \"width\": 0.5}, \"mode\": \"lines\", \"type\": \"scatter\", \"x\": [0.5155540108680725, 0.0067802234552800655], \"y\": [0.4917318820953369, 0.3221316635608673]}, {\"line\": {\"color\": \"#299e50\", \"width\": 0.5}, \"mode\": \"lines\", \"type\": \"scatter\", \"x\": [0.5155540108680725, 0.3166092336177826], \"y\": [0.4917318820953369, 0.12015257030725479]}, {\"line\": {\"color\": \"#299e50\", \"width\": 0.5}, \"mode\": \"lines\", \"type\": \"scatter\", \"x\": [0.021144559606909752, 0.11892399936914444], \"y\": [0.006372575648128986, 0.3045666217803955]}, {\"line\": {\"color\": \"#299e50\", \"width\": 0.5}, \"mode\": \"lines\", \"type\": \"scatter\", \"x\": [0.6994906067848206, 0.5499528646469116], \"y\": [0.5704512000083923, 0.7187548279762268]}, {\"line\": {\"color\": \"#299e50\", \"width\": 0.5}, \"mode\": \"lines\", \"type\": \"scatter\", \"x\": [0.7104383707046509, 0.746809184551239], \"y\": [0.8064296245574951, 0.4227779507637024]}, {\"line\": {\"color\": \"#299e50\", \"width\": 0.5}, \"mode\": \"lines\", \"type\": \"scatter\", \"x\": [0.1782466471195221, 0.08988834172487259], \"y\": [0.11279375851154327, 0.4485476315021515]}, {\"line\": {\"color\": \"#299e50\", \"width\": 0.5}, \"mode\": \"lines\", \"type\": \"scatter\", \"x\": [0.7829354405403137, 0.6774746179580688], \"y\": [0.598920464515686, 0.19489191472530365]}, {\"line\": {\"color\": \"#299e50\", \"width\": 0.5}, \"mode\": \"lines\", \"type\": \"scatter\", \"x\": [0.7829354405403137, 0.27413085103034973], \"y\": [0.598920464515686, 0.08061998337507248]}, {\"line\": {\"color\": \"#299e50\", \"width\": 0.5}, \"mode\": \"lines\", \"type\": \"scatter\", \"x\": [0.6609811782836914, 0.37884217500686646], \"y\": [0.9435147643089294, 0.8147547841072083]}, {\"line\": {\"color\": \"#299e50\", \"width\": 0.5}, \"mode\": \"lines\", \"type\": \"scatter\", \"x\": [0.6735405921936035, 0.3441350758075714], \"y\": [0.8608335852622986, 0.554015040397644]}, {\"line\": {\"color\": \"#299e50\", \"width\": 0.5}, \"mode\": \"lines\", \"type\": \"scatter\", \"x\": [0.6735405921936035, 0.4023907482624054], \"y\": [0.8608335852622986, 0.3778719902038574]}, {\"line\": {\"color\": \"#299e50\", \"width\": 0.5}, \"mode\": \"lines\", \"type\": \"scatter\", \"x\": [0.9290707111358643, 0.7033612132072449], \"y\": [0.8230574131011963, 0.5784785151481628]}, {\"line\": {\"color\": \"#299e50\", \"width\": 0.5}, \"mode\": \"lines\", \"type\": \"scatter\", \"x\": [0.2209007740020752, 0.4460609257221222], \"y\": [0.2726285755634308, 0.025963069871068]}, {\"line\": {\"color\": \"#299e50\", \"width\": 0.5}, \"mode\": \"lines\", \"type\": \"scatter\", \"x\": [0.47099626064300537, 0.8605000972747803], \"y\": [0.5071500539779663, 0.4711788594722748]}, {\"line\": {\"color\": \"#299e50\", \"width\": 0.5}, \"mode\": \"lines\", \"type\": \"scatter\", \"x\": [0.48725903034210205, 0.07293117791414261], \"y\": [0.768164873123169, 0.4793883264064789]}, {\"line\": {\"color\": \"#299e50\", \"width\": 0.5}, \"mode\": \"lines\", \"type\": \"scatter\", \"x\": [0.25519537925720215, 0.1526137888431549], \"y\": [0.34412872791290283, 0.4687170088291168]}, {\"line\": {\"color\": \"#299e50\", \"width\": 0.5}, \"mode\": \"lines\", \"type\": \"scatter\", \"x\": [0.010524611920118332, 0.48939067125320435], \"y\": [0.0060152108781039715, 0.10061725229024887]}, {\"line\": {\"color\": \"#299e50\", \"width\": 0.5}, \"mode\": \"lines\", \"type\": \"scatter\", \"x\": [0.9035645723342896, 0.7314776182174683], \"y\": [0.46543607115745544, 0.9541746377944946]}, {\"line\": {\"color\": \"#299e50\", \"width\": 0.5}, \"mode\": \"lines\", \"type\": \"scatter\", \"x\": [0.13182374835014343, 0.8423578143119812], \"y\": [0.10038994997739792, 0.7606645226478577]}, {\"line\": {\"color\": \"#000000\", \"width\": 0.5}, \"mode\": \"lines\", \"type\": \"scatter\", \"x\": [0.13182374835014343, 0.6684962511062622], \"y\": [0.10038994997739792, 0.3490956723690033]}, {\"line\": {\"color\": \"#299e50\", \"width\": 0.5}, \"mode\": \"lines\", \"type\": \"scatter\", \"x\": [0.6665888428688049, 0.2755652666091919], \"y\": [0.9237476587295532, 0.522325873374939]}, {\"line\": {\"color\": \"#299e50\", \"width\": 0.5}, \"mode\": \"lines\", \"type\": \"scatter\", \"x\": [0.10754048824310303, 0.24796701967716217], \"y\": [0.8697237372398376, 0.04639594629406929]}, {\"line\": {\"color\": \"#299e50\", \"width\": 0.5}, \"mode\": \"lines\", \"type\": \"scatter\", \"x\": [0.5660727620124817, 0.5394155383110046], \"y\": [0.7193285226821899, 0.1845625787973404]}, {\"line\": {\"color\": \"#299e50\", \"width\": 0.5}, \"mode\": \"lines\", \"type\": \"scatter\", \"x\": [0.6615166664123535, 0.05409716069698334], \"y\": [0.7841885089874268, 0.5377447009086609]}, {\"line\": {\"color\": \"#299e50\", \"width\": 0.5}, \"mode\": \"lines\", \"type\": \"scatter\", \"x\": [0.19236387312412262, 0.744438648223877], \"y\": [0.9435545206069946, 0.15768814086914062]}, {\"line\": {\"color\": \"#299e50\", \"width\": 0.5}, \"mode\": \"lines\", \"type\": \"scatter\", \"x\": [0.8178924322128296, 0.6684962511062622], \"y\": [0.7954057455062866, 0.3490956723690033]}, {\"line\": {\"color\": \"#299e50\", \"width\": 0.5}, \"mode\": \"lines\", \"type\": \"scatter\", \"x\": [0.8178924322128296, 0.26631036400794983], \"y\": [0.7954057455062866, 0.8931359052658081]}, {\"line\": {\"color\": \"#299e50\", \"width\": 0.5}, \"mode\": \"lines\", \"type\": \"scatter\", \"x\": [0.809209942817688, 0.24143804609775543], \"y\": [0.14046691358089447, 0.2966683506965637]}, {\"line\": {\"color\": \"#299e50\", \"width\": 0.5}, \"mode\": \"lines\", \"type\": \"scatter\", \"x\": [0.2053690403699875, 0.7204969525337219], \"y\": [0.26672622561454773, 0.17706520855426788]}, {\"line\": {\"color\": \"#299e50\", \"width\": 0.5}, \"mode\": \"lines\", \"type\": \"scatter\", \"x\": [0.08260887861251831, 0.8142348527908325], \"y\": [0.1305074244737625, 0.5225187540054321]}, {\"line\": {\"color\": \"#299e50\", \"width\": 0.5}, \"mode\": \"lines\", \"type\": \"scatter\", \"x\": [0.6066524386405945, 0.9000940322875977], \"y\": [0.6471844911575317, 0.4002379775047302]}, {\"line\": {\"color\": \"#000000\", \"width\": 0.5}, \"mode\": \"lines\", \"type\": \"scatter\", \"x\": [0.9934402108192444, 0.32611677050590515], \"y\": [0.21154507994651794, 0.365181028842926]}, {\"line\": {\"color\": \"#299e50\", \"width\": 0.5}, \"mode\": \"lines\", \"type\": \"scatter\", \"x\": [0.9821622371673584, 0.006159162148833275], \"y\": [0.7435712814331055, 0.15965008735656738]}, {\"line\": {\"color\": \"#299e50\", \"width\": 0.5}, \"mode\": \"lines\", \"type\": \"scatter\", \"x\": [0.26044178009033203, 0.3464466631412506], \"y\": [0.890661358833313, 0.7880702018737793]}, {\"line\": {\"color\": \"#299e50\", \"width\": 0.5}, \"mode\": \"lines\", \"type\": \"scatter\", \"x\": [0.8112418055534363, 0.07875503599643707], \"y\": [0.6319705247879028, 0.927574098110199]}, {\"line\": {\"color\": \"#299e50\", \"width\": 0.5}, \"mode\": \"lines\", \"type\": \"scatter\", \"x\": [0.581505537033081, 0.022867528721690178], \"y\": [0.20331422984600067, 0.23341600596904755]}, {\"line\": {\"color\": \"#299e50\", \"width\": 0.5}, \"mode\": \"lines\", \"type\": \"scatter\", \"x\": [0.581505537033081, 0.007216425146907568], \"y\": [0.20331422984600067, 0.6033709049224854]}, {\"line\": {\"color\": \"#299e50\", \"width\": 0.5}, \"mode\": \"lines\", \"type\": \"scatter\", \"x\": [0.3069920539855957, 0.931801438331604], \"y\": [0.7741144299507141, 0.5184409022331238]}, {\"line\": {\"color\": \"#299e50\", \"width\": 0.5}, \"mode\": \"lines\", \"type\": \"scatter\", \"x\": [0.7758944034576416, 0.4136713445186615], \"y\": [0.9645553827285767, 0.9902887344360352]}, {\"line\": {\"color\": \"#299e50\", \"width\": 0.5}, \"mode\": \"lines\", \"type\": \"scatter\", \"x\": [0.7832409143447876, 0.06273538619279861], \"y\": [0.9116600155830383, 0.8368616700172424]}, {\"line\": {\"color\": \"#299e50\", \"width\": 0.5}, \"mode\": \"lines\", \"type\": \"scatter\", \"x\": [0.7832409143447876, 0.898362398147583], \"y\": [0.9116600155830383, 0.12305456399917603]}, {\"line\": {\"color\": \"#299e50\", \"width\": 0.5}, \"mode\": \"lines\", \"type\": \"scatter\", \"x\": [0.7832409143447876, 0.8783501982688904], \"y\": [0.9116600155830383, 0.4629024267196655]}, {\"line\": {\"color\": \"#299e50\", \"width\": 0.5}, \"mode\": \"lines\", \"type\": \"scatter\", \"x\": [0.04588327184319496, 0.5190115571022034], \"y\": [0.34148916602134705, 0.6973852515220642]}, {\"line\": {\"color\": \"#299e50\", \"width\": 0.5}, \"mode\": \"lines\", \"type\": \"scatter\", \"x\": [0.49498245120048523, 0.4685594439506531], \"y\": [0.7301805019378662, 0.4890204966068268]}, {\"line\": {\"color\": \"#299e50\", \"width\": 0.5}, \"mode\": \"lines\", \"type\": \"scatter\", \"x\": [0.9539052844047546, 0.6454785466194153], \"y\": [0.2703305780887604, 0.01748211868107319]}, {\"line\": {\"color\": \"#299e50\", \"width\": 0.5}, \"mode\": \"lines\", \"type\": \"scatter\", \"x\": [0.3890298902988434, 0.8605000972747803], \"y\": [0.9634366631507874, 0.4711788594722748]}, {\"line\": {\"color\": \"#299e50\", \"width\": 0.5}, \"mode\": \"lines\", \"type\": \"scatter\", \"x\": [0.2755652666091919, 0.1628236174583435], \"y\": [0.522325873374939, 0.6914573311805725]}, {\"line\": {\"color\": \"#299e50\", \"width\": 0.5}, \"mode\": \"lines\", \"type\": \"scatter\", \"x\": [0.2755652666091919, 0.23531313240528107], \"y\": [0.522325873374939, 0.8219301104545593]}, {\"line\": {\"color\": \"#299e50\", \"width\": 0.5}, \"mode\": \"lines\", \"type\": \"scatter\", \"x\": [0.469279021024704, 0.8173415660858154], \"y\": [0.9261056184768677, 0.666367769241333]}, {\"line\": {\"color\": \"#299e50\", \"width\": 0.5}, \"mode\": \"lines\", \"type\": \"scatter\", \"x\": [0.469279021024704, 0.9906688928604126], \"y\": [0.9261056184768677, 0.06836756318807602]}, {\"line\": {\"color\": \"#299e50\", \"width\": 0.5}, \"mode\": \"lines\", \"type\": \"scatter\", \"x\": [0.469279021024704, 0.05309188365936279], \"y\": [0.9261056184768677, 0.09115861356258392]}, {\"line\": {\"color\": \"#299e50\", \"width\": 0.5}, \"mode\": \"lines\", \"type\": \"scatter\", \"x\": [0.6668270826339722, 0.18265576660633087], \"y\": [0.6397733092308044, 0.4460257291793823]}, {\"line\": {\"color\": \"#299e50\", \"width\": 0.5}, \"mode\": \"lines\", \"type\": \"scatter\", \"x\": [0.6557417511940002, 0.23094749450683594], \"y\": [0.8023435473442078, 0.29867780208587646]}, {\"line\": {\"color\": \"#299e50\", \"width\": 0.5}, \"mode\": \"lines\", \"type\": \"scatter\", \"x\": [0.912513256072998, 0.6472386121749878], \"y\": [0.3906978368759155, 0.6766103506088257]}, {\"line\": {\"color\": \"#299e50\", \"width\": 0.5}, \"mode\": \"lines\", \"type\": \"scatter\", \"x\": [0.5308294892311096, 0.20020052790641785], \"y\": [0.9711049795150757, 0.048619989305734634]}, {\"line\": {\"color\": \"#299e50\", \"width\": 0.5}, \"mode\": \"lines\", \"type\": \"scatter\", \"x\": [0.7424083352088928, 0.2548542022705078], \"y\": [0.5817837715148926, 0.43847450613975525]}, {\"line\": {\"color\": \"#299e50\", \"width\": 0.5}, \"mode\": \"lines\", \"type\": \"scatter\", \"x\": [0.8710607290267944, 0.030336275696754456], \"y\": [0.04917548596858978, 0.02969018742442131]}, {\"line\": {\"color\": \"#299e50\", \"width\": 0.5}, \"mode\": \"lines\", \"type\": \"scatter\", \"x\": [0.2604883015155792, 0.5653786659240723], \"y\": [0.46633678674697876, 0.8866557478904724]}, {\"line\": {\"color\": \"#299e50\", \"width\": 0.5}, \"mode\": \"lines\", \"type\": \"scatter\", \"x\": [0.2604883015155792, 0.4340633451938629], \"y\": [0.46633678674697876, 0.11623741686344147]}, {\"line\": {\"color\": \"#299e50\", \"width\": 0.5}, \"mode\": \"lines\", \"type\": \"scatter\", \"x\": [0.7869778871536255, 0.1661851406097412], \"y\": [0.5028001666069031, 0.28520289063453674]}, {\"line\": {\"color\": \"#299e50\", \"width\": 0.5}, \"mode\": \"lines\", \"type\": \"scatter\", \"x\": [0.8967828750610352, 0.07909104228019714], \"y\": [0.19446781277656555, 0.8827905654907227]}, {\"line\": {\"color\": \"#299e50\", \"width\": 0.5}, \"mode\": \"lines\", \"type\": \"scatter\", \"x\": [0.0067802234552800655, 0.271624892950058], \"y\": [0.3221316635608673, 0.8262171149253845]}, {\"line\": {\"color\": \"#299e50\", \"width\": 0.5}, \"mode\": \"lines\", \"type\": \"scatter\", \"x\": [0.6869925856590271, 0.2985154986381531], \"y\": [0.044700391590595245, 0.0464739128947258]}, {\"line\": {\"color\": \"#299e50\", \"width\": 0.5}, \"mode\": \"lines\", \"type\": \"scatter\", \"x\": [0.6869925856590271, 0.9396945834159851], \"y\": [0.044700391590595245, 0.8663203716278076]}, {\"line\": {\"color\": \"#299e50\", \"width\": 0.5}, \"mode\": \"lines\", \"type\": \"scatter\", \"x\": [0.08616312593221664, 0.37376224994659424], \"y\": [0.015600989572703838, 0.37777864933013916]}, {\"line\": {\"color\": \"#299e50\", \"width\": 0.5}, \"mode\": \"lines\", \"type\": \"scatter\", \"x\": [0.3639090061187744, 0.7226113080978394], \"y\": [0.44308748841285706, 0.7032362222671509]}, {\"line\": {\"color\": \"#299e50\", \"width\": 0.5}, \"mode\": \"lines\", \"type\": \"scatter\", \"x\": [0.4552482068538666, 0.8423578143119812], \"y\": [0.797096312046051, 0.7606645226478577]}, {\"line\": {\"color\": \"#299e50\", \"width\": 0.5}, \"mode\": \"lines\", \"type\": \"scatter\", \"x\": [0.009364954195916653, 0.29225754737854004], \"y\": [0.8570823669433594, 0.024440947920084]}, {\"line\": {\"color\": \"#299e50\", \"width\": 0.5}, \"mode\": \"lines\", \"type\": \"scatter\", \"x\": [0.5451078414916992, 0.7314897179603577], \"y\": [0.07023841142654419, 0.9280707836151123]}, {\"line\": {\"color\": \"#299e50\", \"width\": 0.5}, \"mode\": \"lines\", \"type\": \"scatter\", \"x\": [0.8851790428161621, 0.6913593411445618], \"y\": [0.805231511592865, 0.18200741708278656]}, {\"line\": {\"color\": \"#299e50\", \"width\": 0.5}, \"mode\": \"lines\", \"type\": \"scatter\", \"x\": [0.9865484237670898, 0.341365247964859], \"y\": [0.6679137349128723, 0.2564842104911804]}, {\"line\": {\"color\": \"#000000\", \"width\": 0.5}, \"mode\": \"lines\", \"type\": \"scatter\", \"x\": [0.5974797010421753, 0.9019935131072998], \"y\": [0.4325869679450989, 0.6267592906951904]}, {\"line\": {\"color\": \"#299e50\", \"width\": 0.5}, \"mode\": \"lines\", \"type\": \"scatter\", \"x\": [0.5974797010421753, 0.591224193572998], \"y\": [0.4325869679450989, 0.05044935271143913]}, {\"line\": {\"color\": \"#299e50\", \"width\": 0.5}, \"mode\": \"lines\", \"type\": \"scatter\", \"x\": [0.6583549976348877, 0.8322969079017639], \"y\": [0.1626376360654831, 0.6574407815933228]}, {\"line\": {\"color\": \"#299e50\", \"width\": 0.5}, \"mode\": \"lines\", \"type\": \"scatter\", \"x\": [0.2768997550010681, 0.8834202885627747], \"y\": [0.5496101379394531, 0.6742347478866577]}, {\"line\": {\"color\": \"#299e50\", \"width\": 0.5}, \"mode\": \"lines\", \"type\": \"scatter\", \"x\": [0.9589328765869141, 0.4023907482624054], \"y\": [0.41574493050575256, 0.3778719902038574]}, {\"line\": {\"color\": \"#299e50\", \"width\": 0.5}, \"mode\": \"lines\", \"type\": \"scatter\", \"x\": [0.4210644066333771, 0.8423578143119812], \"y\": [0.8576690554618835, 0.7606645226478577]}, {\"line\": {\"color\": \"#299e50\", \"width\": 0.5}, \"mode\": \"lines\", \"type\": \"scatter\", \"x\": [0.4210644066333771, 0.27872681617736816], \"y\": [0.8576690554618835, 0.4856356382369995]}, {\"line\": {\"color\": \"#299e50\", \"width\": 0.5}, \"mode\": \"lines\", \"type\": \"scatter\", \"x\": [0.5463804006576538, 0.48939067125320435], \"y\": [0.31697767972946167, 0.10061725229024887]}, {\"line\": {\"color\": \"#299e50\", \"width\": 0.5}, \"mode\": \"lines\", \"type\": \"scatter\", \"x\": [0.5436159372329712, 0.4664418399333954], \"y\": [0.8037217259407043, 0.7377488613128662]}, {\"line\": {\"color\": \"#299e50\", \"width\": 0.5}, \"mode\": \"lines\", \"type\": \"scatter\", \"x\": [0.7110912203788757, 0.07608304917812347], \"y\": [0.3606400489807129, 0.1365046501159668]}, {\"line\": {\"color\": \"#299e50\", \"width\": 0.5}, \"mode\": \"lines\", \"type\": \"scatter\", \"x\": [0.7110912203788757, 0.19288185238838196], \"y\": [0.3606400489807129, 0.5290423631668091]}, {\"line\": {\"color\": \"#299e50\", \"width\": 0.5}, \"mode\": \"lines\", \"type\": \"scatter\", \"x\": [0.5727983713150024, 0.18499088287353516], \"y\": [0.2112901657819748, 0.23005862534046173]}, {\"line\": {\"color\": \"#299e50\", \"width\": 0.5}, \"mode\": \"lines\", \"type\": \"scatter\", \"x\": [0.5727983713150024, 0.5075681209564209], \"y\": [0.2112901657819748, 0.3539017140865326]}, {\"line\": {\"color\": \"#299e50\", \"width\": 0.5}, \"mode\": \"lines\", \"type\": \"scatter\", \"x\": [0.11203467100858688, 0.6077024936676025], \"y\": [0.6890478730201721, 0.025941068306565285]}, {\"line\": {\"color\": \"#299e50\", \"width\": 0.5}, \"mode\": \"lines\", \"type\": \"scatter\", \"x\": [0.6676256060600281, 0.20020052790641785], \"y\": [0.10954011231660843, 0.048619989305734634]}, {\"line\": {\"color\": \"#299e50\", \"width\": 0.5}, \"mode\": \"lines\", \"type\": \"scatter\", \"x\": [0.9306754469871521, 0.8834202885627747], \"y\": [0.05846057087182999, 0.6742347478866577]}, {\"line\": {\"color\": \"#299e50\", \"width\": 0.5}, \"mode\": \"lines\", \"type\": \"scatter\", \"x\": [0.9340864419937134, 0.2993301749229431], \"y\": [0.683591902256012, 0.12383632361888885]}, {\"line\": {\"color\": \"#299e50\", \"width\": 0.5}, \"mode\": \"lines\", \"type\": \"scatter\", \"x\": [0.6554207801818848, 0.4575088322162628], \"y\": [0.8547717332839966, 0.3449971377849579]}, {\"line\": {\"color\": \"#299e50\", \"width\": 0.5}, \"mode\": \"lines\", \"type\": \"scatter\", \"x\": [0.05710180848836899, 0.8605000972747803], \"y\": [0.4697715640068054, 0.4711788594722748]}, {\"line\": {\"color\": \"#299e50\", \"width\": 0.5}, \"mode\": \"lines\", \"type\": \"scatter\", \"x\": [0.06176556646823883, 0.4166320860385895], \"y\": [0.061845120042562485, 0.8825346827507019]}, {\"line\": {\"color\": \"#299e50\", \"width\": 0.5}, \"mode\": \"lines\", \"type\": \"scatter\", \"x\": [0.49249038100242615, 0.3441350758075714], \"y\": [0.9569603800773621, 0.554015040397644]}, {\"line\": {\"color\": \"#299e50\", \"width\": 0.5}, \"mode\": \"lines\", \"type\": \"scatter\", \"x\": [0.7913283109664917, 0.27893760800361633], \"y\": [0.10791761428117752, 0.5562653541564941]}, {\"line\": {\"color\": \"#299e50\", \"width\": 0.5}, \"mode\": \"lines\", \"type\": \"scatter\", \"x\": [0.028155341744422913, 0.29225754737854004], \"y\": [0.2353859543800354, 0.024440947920084]}, {\"line\": {\"color\": \"#299e50\", \"width\": 0.5}, \"mode\": \"lines\", \"type\": \"scatter\", \"x\": [0.14117096364498138, 0.8297252058982849], \"y\": [0.5059604644775391, 0.6329551935195923]}, {\"line\": {\"color\": \"#299e50\", \"width\": 0.5}, \"mode\": \"lines\", \"type\": \"scatter\", \"x\": [0.9077116250991821, 0.6821926236152649], \"y\": [0.08207947760820389, 0.6740603446960449]}, {\"line\": {\"color\": \"#299e50\", \"width\": 0.5}, \"mode\": \"lines\", \"type\": \"scatter\", \"x\": [0.36872926354408264, 0.11400165408849716], \"y\": [0.4435192942619324, 0.45799964666366577]}, {\"line\": {\"color\": \"#299e50\", \"width\": 0.5}, \"mode\": \"lines\", \"type\": \"scatter\", \"x\": [0.2067819982767105, 0.11400165408849716], \"y\": [0.04610732942819595, 0.45799964666366577]}, {\"line\": {\"color\": \"#299e50\", \"width\": 0.5}, \"mode\": \"lines\", \"type\": \"scatter\", \"x\": [0.8888798952102661, 0.2897850275039673], \"y\": [0.6760756969451904, 0.8059777021408081]}, {\"line\": {\"color\": \"#299e50\", \"width\": 0.5}, \"mode\": \"lines\", \"type\": \"scatter\", \"x\": [0.8888798952102661, 0.49254554510116577], \"y\": [0.6760756969451904, 0.46676352620124817]}, {\"line\": {\"color\": \"#299e50\", \"width\": 0.5}, \"mode\": \"lines\", \"type\": \"scatter\", \"x\": [0.931801438331604, 0.7179872989654541], \"y\": [0.5184409022331238, 0.2603873014450073]}, {\"line\": {\"color\": \"#299e50\", \"width\": 0.5}, \"mode\": \"lines\", \"type\": \"scatter\", \"x\": [0.931801438331604, 0.2048867642879486], \"y\": [0.5184409022331238, 0.28136515617370605]}, {\"line\": {\"color\": \"#299e50\", \"width\": 0.5}, \"mode\": \"lines\", \"type\": \"scatter\", \"x\": [0.564993679523468, 0.8431504964828491], \"y\": [0.43967050313949585, 0.684107780456543]}, {\"line\": {\"color\": \"#299e50\", \"width\": 0.5}, \"mode\": \"lines\", \"type\": \"scatter\", \"x\": [0.9091476202011108, 0.0979323759675026], \"y\": [0.8771250247955322, 0.748371422290802]}, {\"line\": {\"color\": \"#299e50\", \"width\": 0.5}, \"mode\": \"lines\", \"type\": \"scatter\", \"x\": [0.4188392162322998, 0.11400165408849716], \"y\": [0.5955045819282532, 0.45799964666366577]}, {\"line\": {\"color\": \"#299e50\", \"width\": 0.5}, \"mode\": \"lines\", \"type\": \"scatter\", \"x\": [0.2550572156906128, 0.4575088322162628], \"y\": [0.9837720394134521, 0.3449971377849579]}, {\"line\": {\"color\": \"#299e50\", \"width\": 0.5}, \"mode\": \"lines\", \"type\": \"scatter\", \"x\": [0.5190115571022034, 0.705091118812561], \"y\": [0.6973852515220642, 0.03111584484577179]}, {\"line\": {\"color\": \"#299e50\", \"width\": 0.5}, \"mode\": \"lines\", \"type\": \"scatter\", \"x\": [0.4136713445186615, 0.4737967550754547], \"y\": [0.9902887344360352, 0.8331454992294312]}, {\"line\": {\"color\": \"#299e50\", \"width\": 0.5}, \"mode\": \"lines\", \"type\": \"scatter\", \"x\": [0.030336275696754456, 0.9020664095878601], \"y\": [0.02969018742442131, 0.9990075826644897]}, {\"line\": {\"color\": \"#299e50\", \"width\": 0.5}, \"mode\": \"lines\", \"type\": \"scatter\", \"x\": [0.7742741107940674, 0.05030957981944084], \"y\": [0.5690159201622009, 0.9208126068115234]}, {\"line\": {\"color\": \"#299e50\", \"width\": 0.5}, \"mode\": \"lines\", \"type\": \"scatter\", \"x\": [0.44647952914237976, 0.664220929145813], \"y\": [0.30975791811943054, 0.4501104950904846]}, {\"line\": {\"color\": \"#299e50\", \"width\": 0.5}, \"mode\": \"lines\", \"type\": \"scatter\", \"x\": [0.7124500274658203, 0.5653786659240723], \"y\": [0.38893893361091614, 0.8866557478904724]}, {\"line\": {\"color\": \"#299e50\", \"width\": 0.5}, \"mode\": \"lines\", \"type\": \"scatter\", \"x\": [0.18499088287353516, 0.6913593411445618], \"y\": [0.23005862534046173, 0.18200741708278656]}, {\"line\": {\"color\": \"#299e50\", \"width\": 0.5}, \"mode\": \"lines\", \"type\": \"scatter\", \"x\": [0.6913593411445618, 0.0965760126709938], \"y\": [0.18200741708278656, 0.10164432227611542]}, {\"line\": {\"color\": \"#299e50\", \"width\": 0.5}, \"mode\": \"lines\", \"type\": \"scatter\", \"x\": [0.6913593411445618, 0.9906688928604126], \"y\": [0.18200741708278656, 0.06836756318807602]}, {\"line\": {\"color\": \"#299e50\", \"width\": 0.5}, \"mode\": \"lines\", \"type\": \"scatter\", \"x\": [0.4166320860385895, 0.4737967550754547], \"y\": [0.8825346827507019, 0.8331454992294312]}, {\"line\": {\"color\": \"#299e50\", \"width\": 0.5}, \"mode\": \"lines\", \"type\": \"scatter\", \"x\": [0.06493077427148819, 0.341365247964859], \"y\": [0.46153759956359863, 0.2564842104911804]}, {\"line\": {\"color\": \"#299e50\", \"width\": 0.5}, \"mode\": \"lines\", \"type\": \"scatter\", \"x\": [0.5397505164146423, 0.9411027431488037], \"y\": [0.07422801107168198, 0.9081204533576965]}, {\"line\": {\"color\": \"#299e50\", \"width\": 0.5}, \"mode\": \"lines\", \"type\": \"scatter\", \"x\": [0.4760971963405609, 0.6613908410072327], \"y\": [0.566075325012207, 0.09975838661193848]}, {\"line\": {\"color\": \"#299e50\", \"width\": 0.5}, \"mode\": \"lines\", \"type\": \"scatter\", \"x\": [0.2650794982910156, 0.8605000972747803], \"y\": [0.555394172668457, 0.4711788594722748]}, {\"line\": {\"color\": \"#299e50\", \"width\": 0.5}, \"mode\": \"lines\", \"type\": \"scatter\", \"x\": [0.16023030877113342, 0.760776162147522], \"y\": [0.20902281999588013, 0.4072771966457367]}, {\"line\": {\"color\": \"#299e50\", \"width\": 0.5}, \"mode\": \"lines\", \"type\": \"scatter\", \"x\": [0.16023030877113342, 0.3941476047039032], \"y\": [0.20902281999588013, 0.23021776974201202]}, {\"line\": {\"color\": \"#299e50\", \"width\": 0.5}, \"mode\": \"lines\", \"type\": \"scatter\", \"x\": [0.07909104228019714, 0.43852195143699646], \"y\": [0.8827905654907227, 0.050694745033979416]}, {\"line\": {\"color\": \"#299e50\", \"width\": 0.5}, \"mode\": \"lines\", \"type\": \"scatter\", \"x\": [0.8449558615684509, 0.8605000972747803], \"y\": [0.6544399857521057, 0.4711788594722748]}, {\"line\": {\"color\": \"#299e50\", \"width\": 0.5}, \"mode\": \"lines\", \"type\": \"scatter\", \"x\": [0.7039849162101746, 0.31587642431259155], \"y\": [0.23027314245700836, 0.7502623200416565]}, {\"line\": {\"color\": \"#299e50\", \"width\": 0.5}, \"mode\": \"lines\", \"type\": \"scatter\", \"x\": [0.5870656967163086, 0.11378465592861176], \"y\": [0.2130855917930603, 0.7386401295661926]}, {\"line\": {\"color\": \"#299e50\", \"width\": 0.5}, \"mode\": \"lines\", \"type\": \"scatter\", \"x\": [0.19496621191501617, 0.6454785466194153], \"y\": [0.4010249376296997, 0.01748211868107319]}, {\"line\": {\"color\": \"#299e50\", \"width\": 0.5}, \"mode\": \"lines\", \"type\": \"scatter\", \"x\": [0.23531313240528107, 0.8176313638687134], \"y\": [0.8219301104545593, 0.8166991472244263]}, {\"line\": {\"color\": \"#299e50\", \"width\": 0.5}, \"mode\": \"lines\", \"type\": \"scatter\", \"x\": [0.6767264008522034, 0.5767074823379517], \"y\": [0.2380141317844391, 0.6437641382217407]}, {\"line\": {\"color\": \"#299e50\", \"width\": 0.5}, \"mode\": \"lines\", \"type\": \"scatter\", \"x\": [0.43475106358528137, 0.6365115642547607], \"y\": [0.47162047028541565, 0.5718234777450562]}, {\"line\": {\"color\": \"#299e50\", \"width\": 0.5}, \"mode\": \"lines\", \"type\": \"scatter\", \"x\": [0.43475106358528137, 0.04237682744860649], \"y\": [0.47162047028541565, 0.29004383087158203]}, {\"line\": {\"color\": \"#299e50\", \"width\": 0.5}, \"mode\": \"lines\", \"type\": \"scatter\", \"x\": [0.6665454506874084, 0.1318323165178299], \"y\": [0.17145457863807678, 0.38468191027641296]}, {\"line\": {\"color\": \"#000000\", \"width\": 0.5}, \"mode\": \"lines\", \"type\": \"scatter\", \"x\": [0.6855834126472473, 0.26842692494392395], \"y\": [0.840462863445282, 0.44399169087409973]}, {\"line\": {\"color\": \"#299e50\", \"width\": 0.5}, \"mode\": \"lines\", \"type\": \"scatter\", \"x\": [0.8423578143119812, 0.804520845413208], \"y\": [0.7606645226478577, 0.926283597946167]}, {\"line\": {\"color\": \"#299e50\", \"width\": 0.5}, \"mode\": \"lines\", \"type\": \"scatter\", \"x\": [0.8870524764060974, 0.7722235918045044], \"y\": [0.4800007939338684, 0.41332921385765076]}, {\"line\": {\"color\": \"#299e50\", \"width\": 0.5}, \"mode\": \"lines\", \"type\": \"scatter\", \"x\": [0.04843003302812576, 0.9802181124687195], \"y\": [0.24130386114120483, 0.7965412139892578]}, {\"line\": {\"color\": \"#299e50\", \"width\": 0.5}, \"mode\": \"lines\", \"type\": \"scatter\", \"x\": [0.04843003302812576, 0.735462486743927], \"y\": [0.24130386114120483, 0.3955037593841553]}, {\"line\": {\"color\": \"#299e50\", \"width\": 0.5}, \"mode\": \"lines\", \"type\": \"scatter\", \"x\": [0.04843003302812576, 0.8895578384399414], \"y\": [0.24130386114120483, 0.38957589864730835]}, {\"line\": {\"color\": \"#299e50\", \"width\": 0.5}, \"mode\": \"lines\", \"type\": \"scatter\", \"x\": [0.8556737899780273, 0.6886407136917114], \"y\": [0.8741962909698486, 0.6049558520317078]}, {\"line\": {\"color\": \"#299e50\", \"width\": 0.5}, \"mode\": \"lines\", \"type\": \"scatter\", \"x\": [0.22522594034671783, 0.8431504964828491], \"y\": [0.6610667109489441, 0.684107780456543]}, {\"line\": {\"color\": \"#299e50\", \"width\": 0.5}, \"mode\": \"lines\", \"type\": \"scatter\", \"x\": [0.664220929145813, 0.8639004826545715], \"y\": [0.4501104950904846, 0.14240261912345886]}, {\"line\": {\"color\": \"#299e50\", \"width\": 0.5}, \"mode\": \"lines\", \"type\": \"scatter\", \"x\": [0.7480014562606812, 0.1521168351173401], \"y\": [0.2943095862865448, 0.23612233996391296]}, {\"line\": {\"color\": \"#299e50\", \"width\": 0.5}, \"mode\": \"lines\", \"type\": \"scatter\", \"x\": [0.7480014562606812, 0.4437842071056366], \"y\": [0.2943095862865448, 0.743512749671936]}, {\"line\": {\"color\": \"#299e50\", \"width\": 0.5}, \"mode\": \"lines\", \"type\": \"scatter\", \"x\": [0.7480014562606812, 0.9492083787918091], \"y\": [0.2943095862865448, 0.5123252868652344]}, {\"line\": {\"color\": \"#299e50\", \"width\": 0.5}, \"mode\": \"lines\", \"type\": \"scatter\", \"x\": [0.6710385084152222, 0.9950801730155945], \"y\": [0.517178475856781, 0.5712705850601196]}, {\"line\": {\"color\": \"#299e50\", \"width\": 0.5}, \"mode\": \"lines\", \"type\": \"scatter\", \"x\": [0.6710385084152222, 0.3475211262702942], \"y\": [0.517178475856781, 0.4190945625305176]}, {\"line\": {\"color\": \"#000000\", \"width\": 0.5}, \"mode\": \"lines\", \"type\": \"scatter\", \"x\": [0.1318323165178299, 0.9019935131072998], \"y\": [0.38468191027641296, 0.6267592906951904]}, {\"line\": {\"color\": \"#299e50\", \"width\": 0.5}, \"mode\": \"lines\", \"type\": \"scatter\", \"x\": [0.5792702436447144, 0.07608304917812347], \"y\": [0.3818216621875763, 0.1365046501159668]}, {\"line\": {\"color\": \"#299e50\", \"width\": 0.5}, \"mode\": \"lines\", \"type\": \"scatter\", \"x\": [0.0979323759675026, 0.8783501982688904], \"y\": [0.748371422290802, 0.4629024267196655]}, {\"line\": {\"color\": \"#299e50\", \"width\": 0.5}, \"mode\": \"lines\", \"type\": \"scatter\", \"x\": [0.8150458335876465, 0.8895578384399414], \"y\": [0.776185154914856, 0.38957589864730835]}, {\"line\": {\"color\": \"#299e50\", \"width\": 0.5}, \"mode\": \"lines\", \"type\": \"scatter\", \"x\": [0.6049365401268005, 0.3093782961368561], \"y\": [0.5395365953445435, 0.5310360193252563]}, {\"line\": {\"color\": \"#299e50\", \"width\": 0.5}, \"mode\": \"lines\", \"type\": \"scatter\", \"x\": [0.6049365401268005, 0.07286672294139862], \"y\": [0.5395365953445435, 0.5709065794944763]}, {\"line\": {\"color\": \"#299e50\", \"width\": 0.5}, \"mode\": \"lines\", \"type\": \"scatter\", \"x\": [0.9396945834159851, 0.1685430109500885], \"y\": [0.8663203716278076, 0.6868182420730591]}, {\"line\": {\"color\": \"#299e50\", \"width\": 0.5}, \"mode\": \"lines\", \"type\": \"scatter\", \"x\": [0.4427506923675537, 0.7115772366523743], \"y\": [0.526875376701355, 0.8292791843414307]}, {\"line\": {\"color\": \"#299e50\", \"width\": 0.5}, \"mode\": \"lines\", \"type\": \"scatter\", \"x\": [0.7314776182174683, 0.1429382711648941], \"y\": [0.9541746377944946, 0.6153847575187683]}, {\"line\": {\"color\": \"#299e50\", \"width\": 0.5}, \"mode\": \"lines\", \"type\": \"scatter\", \"x\": [0.32611677050590515, 0.6111611723899841], \"y\": [0.365181028842926, 0.5762732625007629]}, {\"line\": {\"color\": \"#299e50\", \"width\": 0.5}, \"mode\": \"lines\", \"type\": \"scatter\", \"x\": [0.9432915449142456, 0.8605000972747803], \"y\": [0.6982786059379578, 0.4711788594722748]}, {\"line\": {\"color\": \"#299e50\", \"width\": 0.5}, \"mode\": \"lines\", \"type\": \"scatter\", \"x\": [0.11400165408849716, 0.6217292547225952], \"y\": [0.45799964666366577, 0.8132899403572083]}, {\"line\": {\"color\": \"#299e50\", \"width\": 0.5}, \"mode\": \"lines\", \"type\": \"scatter\", \"x\": [0.11400165408849716, 0.7078151702880859], \"y\": [0.45799964666366577, 0.36715856194496155]}, {\"line\": {\"color\": \"#299e50\", \"width\": 0.5}, \"mode\": \"lines\", \"type\": \"scatter\", \"x\": [0.11400165408849716, 0.6542789936065674], \"y\": [0.45799964666366577, 0.8677533864974976]}, {\"line\": {\"color\": \"#299e50\", \"width\": 0.5}, \"mode\": \"lines\", \"type\": \"scatter\", \"x\": [0.11400165408849716, 0.18046684563159943], \"y\": [0.45799964666366577, 0.8838555216789246]}, {\"line\": {\"color\": \"#299e50\", \"width\": 0.5}, \"mode\": \"lines\", \"type\": \"scatter\", \"x\": [0.05158266797661781, 0.8996476531028748], \"y\": [0.1886032521724701, 0.8879117965698242]}, {\"line\": {\"color\": \"#299e50\", \"width\": 0.5}, \"mode\": \"lines\", \"type\": \"scatter\", \"x\": [0.823782205581665, 0.6425043344497681], \"y\": [0.1736501306295395, 0.2879805862903595]}, {\"line\": {\"color\": \"#299e50\", \"width\": 0.5}, \"mode\": \"lines\", \"type\": \"scatter\", \"x\": [0.05769263580441475, 0.11378465592861176], \"y\": [0.009985142387449741, 0.7386401295661926]}, {\"line\": {\"color\": \"#299e50\", \"width\": 0.5}, \"mode\": \"lines\", \"type\": \"scatter\", \"x\": [0.4640354514122009, 0.8605000972747803], \"y\": [0.702333927154541, 0.4711788594722748]}, {\"line\": {\"color\": \"#299e50\", \"width\": 0.5}, \"mode\": \"lines\", \"type\": \"scatter\", \"x\": [0.6332467794418335, 0.24824443459510803], \"y\": [0.8872196674346924, 0.5281815528869629]}, {\"line\": {\"color\": \"#299e50\", \"width\": 0.5}, \"mode\": \"lines\", \"type\": \"scatter\", \"x\": [0.05409716069698334, 0.44898006319999695], \"y\": [0.5377447009086609, 0.6405199766159058]}, {\"line\": {\"color\": \"#299e50\", \"width\": 0.5}, \"mode\": \"lines\", \"type\": \"scatter\", \"x\": [0.6821926236152649, 0.48786547780036926], \"y\": [0.6740603446960449, 0.2537843883037567]}, {\"line\": {\"color\": \"#299e50\", \"width\": 0.5}, \"mode\": \"lines\", \"type\": \"scatter\", \"x\": [0.7328574061393738, 0.6938597559928894], \"y\": [0.020426250994205475, 0.6173255443572998]}, {\"line\": {\"color\": \"#299e50\", \"width\": 0.5}, \"mode\": \"lines\", \"type\": \"scatter\", \"x\": [0.2548542022705078, 0.5511165857315063], \"y\": [0.43847450613975525, 0.9505001306533813]}, {\"line\": {\"color\": \"#299e50\", \"width\": 0.5}, \"mode\": \"lines\", \"type\": \"scatter\", \"x\": [0.9293103218078613, 0.43473055958747864], \"y\": [0.14916293323040009, 0.4713374972343445]}, {\"line\": {\"color\": \"#299e50\", \"width\": 0.5}, \"mode\": \"lines\", \"type\": \"scatter\", \"x\": [0.9293103218078613, 0.9637556076049805], \"y\": [0.14916293323040009, 0.5973120927810669]}, {\"line\": {\"color\": \"#299e50\", \"width\": 0.5}, \"mode\": \"lines\", \"type\": \"scatter\", \"x\": [0.9388561844825745, 0.27413085103034973], \"y\": [0.143884539604187, 0.08061998337507248]}, {\"line\": {\"color\": \"#299e50\", \"width\": 0.5}, \"mode\": \"lines\", \"type\": \"scatter\", \"x\": [0.673102617263794, 0.6212901473045349], \"y\": [0.5729731917381287, 0.35683366656303406]}, {\"line\": {\"color\": \"#299e50\", \"width\": 0.5}, \"mode\": \"lines\", \"type\": \"scatter\", \"x\": [0.3444572389125824, 0.7741193771362305], \"y\": [0.5256918668746948, 0.1206788495182991]}, {\"line\": {\"color\": \"#299e50\", \"width\": 0.5}, \"mode\": \"lines\", \"type\": \"scatter\", \"x\": [0.07454723119735718, 0.8443154692649841], \"y\": [0.34153440594673157, 0.942646324634552]}, {\"line\": {\"color\": \"#000000\", \"width\": 0.5}, \"mode\": \"lines\", \"type\": \"scatter\", \"x\": [0.6537362933158875, 0.3901520073413849], \"y\": [0.08872393518686295, 0.7907525300979614]}, {\"line\": {\"color\": \"#299e50\", \"width\": 0.5}, \"mode\": \"lines\", \"type\": \"scatter\", \"x\": [0.6886407136917114, 0.8071006536483765], \"y\": [0.6049558520317078, 0.49038267135620117]}, {\"line\": {\"color\": \"#299e50\", \"width\": 0.5}, \"mode\": \"lines\", \"type\": \"scatter\", \"x\": [0.3093782961368561, 0.5483383536338806], \"y\": [0.5310360193252563, 0.2914341986179352]}, {\"line\": {\"color\": \"#299e50\", \"width\": 0.5}, \"mode\": \"lines\", \"type\": \"scatter\", \"x\": [0.05030957981944084, 0.6425043344497681], \"y\": [0.9208126068115234, 0.2879805862903595]}, {\"line\": {\"color\": \"#299e50\", \"width\": 0.5}, \"mode\": \"lines\", \"type\": \"scatter\", \"x\": [0.13033394515514374, 0.7741193771362305], \"y\": [0.9250507354736328, 0.1206788495182991]}, {\"line\": {\"color\": \"#299e50\", \"width\": 0.5}, \"mode\": \"lines\", \"type\": \"scatter\", \"x\": [0.591224193572998, 0.8613961338996887], \"y\": [0.05044935271143913, 0.5749999284744263]}, {\"line\": {\"color\": \"#299e50\", \"width\": 0.5}, \"mode\": \"lines\", \"type\": \"scatter\", \"x\": [0.1429382711648941, 0.12421905249357224], \"y\": [0.6153847575187683, 0.20814616978168488]}, {\"line\": {\"color\": \"#299e50\", \"width\": 0.5}, \"mode\": \"lines\", \"type\": \"scatter\", \"x\": [0.8756682276725769, 0.8605000972747803], \"y\": [0.9573646783828735, 0.4711788594722748]}, {\"line\": {\"color\": \"#299e50\", \"width\": 0.5}, \"mode\": \"lines\", \"type\": \"scatter\", \"x\": [0.8639004826545715, 0.12421905249357224], \"y\": [0.14240261912345886, 0.20814616978168488]}, {\"line\": {\"color\": \"#299e50\", \"width\": 0.5}, \"mode\": \"lines\", \"type\": \"scatter\", \"x\": [0.22227875888347626, 0.6111611723899841], \"y\": [0.6245322227478027, 0.5762732625007629]}, {\"line\": {\"color\": \"#299e50\", \"width\": 0.5}, \"mode\": \"lines\", \"type\": \"scatter\", \"x\": [0.3024364709854126, 0.3805014193058014], \"y\": [0.12850503623485565, 0.32045266032218933]}, {\"line\": {\"color\": \"#299e50\", \"width\": 0.5}, \"mode\": \"lines\", \"type\": \"scatter\", \"x\": [0.5013824701309204, 0.8605000972747803], \"y\": [0.7304805517196655, 0.4711788594722748]}, {\"line\": {\"color\": \"#299e50\", \"width\": 0.5}, \"mode\": \"lines\", \"type\": \"scatter\", \"x\": [0.6463271975517273, 0.8605000972747803], \"y\": [0.34035608172416687, 0.4711788594722748]}, {\"line\": {\"color\": \"#299e50\", \"width\": 0.5}, \"mode\": \"lines\", \"type\": \"scatter\", \"x\": [0.6111611723899841, 0.4213424623012543], \"y\": [0.5762732625007629, 0.5676946640014648]}, {\"line\": {\"color\": \"#299e50\", \"width\": 0.5}, \"mode\": \"lines\", \"type\": \"scatter\", \"x\": [0.5394155383110046, 0.3017019033432007], \"y\": [0.1845625787973404, 0.6329956650733948]}, {\"line\": {\"color\": \"#299e50\", \"width\": 0.5}, \"mode\": \"lines\", \"type\": \"scatter\", \"x\": [0.5654892921447754, 0.8605000972747803], \"y\": [0.9469321966171265, 0.4711788594722748]}, {\"line\": {\"color\": \"#299e50\", \"width\": 0.5}, \"mode\": \"lines\", \"type\": \"scatter\", \"x\": [0.42989665269851685, 0.8605000972747803], \"y\": [0.5848445296287537, 0.4711788594722748]}, {\"line\": {\"color\": \"#299e50\", \"width\": 0.5}, \"mode\": \"lines\", \"type\": \"scatter\", \"x\": [0.8605000972747803, 0.09611543267965317], \"y\": [0.4711788594722748, 0.4786972105503082]}, {\"line\": {\"color\": \"#299e50\", \"width\": 0.5}, \"mode\": \"lines\", \"type\": \"scatter\", \"x\": [0.8605000972747803, 0.1486324816942215], \"y\": [0.4711788594722748, 0.6316366791725159]}, {\"marker\": {\"color\": [\"#000000\", \"#000000\", \"#000000\", \"#000000\", \"#000000\", \"#000000\", \"#000000\", \"#000000\", \"#000000\", \"#000000\", \"#000000\", \"#000000\", \"#000000\", \"#000000\", \"#000000\", \"#000000\", \"#000000\", \"#000000\", \"#000000\", \"#000000\", \"#000000\", \"#000000\", \"#000000\", \"#000000\", \"#000000\", \"#107be6\", \"#000000\", \"#000000\", \"#000000\", \"#000000\", \"#000000\", \"#000000\", \"#000000\", \"#107be6\", \"#000000\", \"#000000\", \"#000000\", \"#107be6\", \"#000000\", \"#107be6\", \"#000000\", \"#000000\", \"#000000\", \"#107be6\", \"#000000\", \"#000000\", \"#000000\", \"#000000\", \"#000000\", \"#000000\", \"#000000\", \"#107be6\", \"#000000\", \"#000000\", \"#000000\", \"#000000\", \"#000000\", \"#000000\", \"#000000\", \"#000000\", \"#000000\", \"#000000\", \"#000000\", \"#000000\", \"#000000\", \"#000000\", \"#000000\", \"#000000\", \"#000000\", \"#000000\", \"#000000\", \"#000000\", \"#000000\", \"#000000\", \"#000000\", \"#000000\", \"#000000\", \"#000000\", \"#000000\", \"#000000\", \"#000000\", \"#000000\", \"#000000\", \"#000000\", \"#107be6\", \"#000000\", \"#000000\", \"#107be6\", \"#000000\", \"#000000\", \"#000000\", \"#000000\", \"#000000\", \"#000000\", \"#000000\", \"#000000\", \"#107be6\", \"#000000\", \"#000000\", \"#000000\", \"#000000\", \"#000000\", \"#000000\", \"#000000\", \"#000000\", \"#000000\", \"#000000\", \"#000000\", \"#000000\", \"#000000\", \"#107be6\", \"#000000\", \"#000000\", \"#000000\", \"#000000\", \"#000000\", \"#107be6\", \"#000000\", \"#000000\", \"#000000\", \"#000000\", \"#000000\", \"#000000\", \"#107be6\", \"#000000\", \"#000000\", \"#000000\", \"#000000\", \"#000000\", \"#107be6\", \"#000000\", \"#000000\", \"#000000\", \"#000000\", \"#000000\", \"#000000\", \"#000000\", \"#000000\", \"#000000\", \"#000000\", \"#107be6\", \"#000000\", \"#000000\", \"#000000\", \"#000000\", \"#000000\", \"#000000\", \"#000000\", \"#000000\", \"#107be6\", \"#000000\", \"#000000\", \"#000000\", \"#000000\", \"#000000\", \"#000000\", \"#000000\", \"#000000\", \"#107be6\", \"#000000\", \"#000000\", \"#000000\", \"#000000\", \"#000000\", \"#000000\", \"#000000\", \"#000000\", \"#107be6\", \"#000000\", \"#000000\", \"#000000\", \"#000000\", \"#000000\", \"#000000\", \"#000000\", \"#000000\", \"#000000\", \"#000000\", \"#000000\", \"#000000\", \"#107be6\", \"#000000\", \"#000000\", \"#000000\", \"#000000\", \"#000000\", \"#000000\", \"#000000\", \"#000000\", \"#000000\", \"#000000\", \"#000000\", \"#000000\", \"#000000\", \"#107be6\", \"#000000\", \"#000000\", \"#000000\", \"#107be6\", \"#000000\", \"#000000\", \"#000000\", \"#000000\", \"#000000\", \"#000000\", \"#000000\", \"#000000\", \"#000000\", \"#000000\", \"#000000\", \"#107be6\", \"#000000\", \"#000000\", \"#000000\", \"#000000\", \"#000000\", \"#107be6\", \"#000000\", \"#000000\", \"#107be6\", \"#000000\", \"#000000\", \"#000000\", \"#000000\", \"#000000\", \"#000000\", \"#000000\", \"#000000\", \"#000000\", \"#000000\", \"#000000\", \"#000000\", \"#000000\", \"#107be6\", \"#000000\", \"#000000\", \"#000000\", \"#000000\", \"#000000\", \"#107be6\", \"#000000\", \"#000000\", \"#000000\", \"#000000\", \"#000000\", \"#000000\", \"#000000\", \"#000000\", \"#000000\", \"#000000\", \"#000000\", \"#000000\", \"#000000\", \"#000000\", \"#000000\", \"#000000\", \"#000000\", \"#000000\", \"#000000\", \"#000000\", \"#000000\", \"#000000\", \"#000000\", \"#000000\", \"#000000\", \"#000000\", \"#000000\", \"#000000\", \"#000000\", \"#000000\", \"#000000\", \"#000000\", \"#000000\", \"#000000\", \"#000000\", \"#000000\", \"#000000\", \"#000000\", \"#000000\", \"#000000\", \"#000000\", \"#000000\", \"#000000\", \"#000000\", \"#000000\", \"#000000\", \"#000000\", \"#000000\", \"#000000\", \"#000000\", \"#000000\", \"#107be6\", \"#000000\", \"#000000\", \"#000000\", \"#000000\", \"#000000\", \"#000000\", \"#000000\", \"#000000\", \"#000000\", \"#000000\", \"#000000\", \"#000000\", \"#000000\", \"#000000\", \"#000000\", \"#000000\", \"#000000\", \"#000000\", \"#000000\", \"#000000\", \"#000000\", \"#000000\", \"#000000\", \"#000000\", \"#000000\", \"#000000\", \"#000000\", \"#000000\", \"#000000\", \"#000000\", \"#000000\", \"#000000\", \"#000000\", \"#000000\", \"#000000\", \"#000000\", \"#000000\", \"#000000\", \"#000000\", \"#000000\", \"#000000\", \"#000000\", \"#107be6\", \"#000000\", \"#000000\", \"#000000\", \"#000000\", \"#000000\", \"#000000\", \"#000000\", \"#000000\", \"#000000\", \"#000000\", \"#000000\", \"#000000\", \"#000000\", \"#000000\", \"#000000\", \"#000000\", \"#107be6\", \"#107be6\", \"#000000\", \"#000000\", \"#000000\", \"#000000\", \"#000000\", \"#000000\", \"#000000\", \"#000000\", \"#000000\", \"#000000\", \"#000000\", \"#000000\", \"#000000\", \"#000000\", \"#000000\", \"#000000\", \"#000000\", \"#000000\", \"#000000\", \"#000000\", \"#000000\", \"#000000\", \"#107be6\", \"#000000\", \"#000000\", \"#000000\", \"#000000\", \"#000000\", \"#107be6\", \"#000000\", \"#000000\", \"#000000\", \"#000000\", \"#000000\", \"#000000\", \"#000000\", \"#000000\", \"#000000\", \"#000000\", \"#000000\", \"#000000\", \"#000000\", \"#000000\", \"#000000\", \"#000000\", \"#000000\", \"#000000\", \"#000000\", \"#000000\", \"#000000\", \"#000000\", \"#000000\", \"#000000\", \"#107be6\", \"#000000\", \"#000000\", \"#000000\", \"#107be6\", \"#000000\", \"#000000\", \"#000000\", \"#000000\", \"#000000\", \"#000000\", \"#000000\", \"#000000\", \"#000000\", \"#000000\", \"#000000\", \"#000000\", \"#000000\", \"#000000\", \"#000000\", \"#000000\", \"#000000\", \"#000000\", \"#000000\", \"#000000\", \"#000000\", \"#000000\", \"#000000\", \"#000000\", \"#000000\", \"#000000\", \"#000000\", \"#000000\", \"#000000\", \"#000000\", \"#000000\", \"#000000\", \"#000000\", \"#000000\", \"#000000\", \"#107be6\", \"#107be6\", \"#000000\", \"#000000\", \"#000000\", \"#000000\", \"#000000\", \"#107be6\", \"#000000\", \"#000000\", \"#000000\", \"#000000\", \"#107be6\", \"#000000\", \"#000000\", \"#000000\", \"#000000\", \"#000000\", \"#000000\", \"#000000\", \"#000000\", \"#000000\", \"#000000\", \"#000000\", \"#000000\", \"#000000\", \"#000000\", \"#000000\", \"#000000\", \"#000000\", \"#000000\", \"#000000\", \"#000000\", \"#000000\", \"#000000\", \"#000000\", \"#107be6\", \"#000000\", \"#000000\", \"#000000\", \"#000000\", \"#107be6\", \"#000000\", \"#000000\", \"#000000\", \"#000000\", \"#000000\", \"#000000\", \"#000000\", \"#000000\", \"#000000\", \"#000000\", \"#000000\", \"#000000\", \"#000000\", \"#000000\", \"#000000\", \"#000000\", \"#000000\", \"#000000\", \"#000000\", \"#000000\", \"#000000\", \"#000000\", \"#000000\", \"#000000\", \"#000000\", \"#000000\", \"#000000\", \"#000000\", \"#000000\", \"#000000\", \"#000000\", \"#000000\", \"#000000\", \"#000000\", \"#000000\", \"#000000\", \"#000000\", \"#000000\", \"#000000\", \"#000000\", \"#000000\", \"#000000\", \"#000000\", \"#107be6\", \"#107be6\", \"#000000\", \"#000000\", \"#000000\", \"#000000\", \"#000000\", \"#000000\", \"#000000\", \"#000000\", \"#000000\", \"#000000\", \"#000000\", \"#000000\", \"#000000\", \"#000000\", \"#000000\", \"#000000\", \"#000000\", \"#000000\", \"#000000\", \"#000000\", \"#000000\", \"#000000\", \"#000000\", \"#000000\", \"#000000\", \"#000000\", \"#000000\", \"#000000\", \"#000000\", \"#000000\", \"#000000\", \"#000000\", \"#000000\", \"#000000\", \"#000000\", \"#000000\", \"#000000\", \"#000000\", \"#000000\", \"#000000\", \"#000000\", \"#000000\", \"#000000\", \"#000000\", \"#000000\", \"#000000\", \"#000000\", \"#000000\", \"#000000\", \"#000000\", \"#000000\", \"#107be6\", \"#000000\", \"#107be6\", \"#107be6\", \"#000000\", \"#000000\", \"#000000\", \"#000000\", \"#000000\", \"#000000\", \"#000000\", \"#000000\", \"#000000\", \"#000000\", \"#000000\", \"#000000\", \"#000000\", \"#107be6\", \"#000000\", \"#000000\", \"#000000\", \"#000000\", \"#000000\", \"#000000\", \"#000000\", \"#000000\", \"#000000\", \"#107be6\", \"#000000\", \"#000000\", \"#000000\", \"#000000\", \"#000000\", \"#107be6\", \"#000000\", \"#107be6\", \"#000000\", \"#000000\", \"#000000\", \"#000000\", \"#000000\", \"#000000\", \"#107be6\", \"#000000\", \"#000000\", \"#000000\", \"#107be6\", \"#000000\", \"#000000\", \"#000000\", \"#107be6\", \"#000000\", \"#000000\", \"#000000\", \"#000000\", \"#000000\", \"#000000\", \"#000000\", \"#000000\", \"#107be6\", \"#107be6\", \"#000000\", \"#000000\", \"#000000\", \"#000000\", \"#000000\", \"#000000\", \"#000000\", \"#000000\", \"#000000\", \"#000000\", \"#000000\", \"#000000\", \"#000000\", \"#000000\", \"#000000\", \"#000000\", \"#000000\", \"#000000\", \"#000000\", \"#000000\", \"#000000\", \"#000000\", \"#000000\", \"#000000\", \"#000000\", \"#000000\", \"#000000\", \"#000000\", \"#000000\", \"#000000\", \"#000000\", \"#000000\", \"#000000\", \"#000000\", \"#000000\", \"#107be6\", \"#000000\", \"#000000\", \"#000000\", \"#000000\", \"#000000\", \"#000000\", \"#107be6\", \"#000000\", \"#000000\", \"#000000\", \"#000000\", \"#000000\", \"#000000\", \"#000000\", \"#000000\", \"#000000\", \"#000000\", \"#000000\", \"#000000\", \"#000000\", \"#107be6\", \"#000000\", \"#000000\", \"#000000\", \"#000000\", \"#000000\", \"#107be6\", \"#000000\", \"#000000\", \"#000000\", \"#107be6\", \"#000000\", \"#000000\", \"#107be6\", \"#000000\", \"#000000\", \"#000000\", \"#000000\", \"#000000\", \"#000000\", \"#000000\", \"#000000\", \"#000000\", \"#000000\", \"#000000\", \"#000000\", \"#000000\", \"#000000\", \"#000000\", \"#107be6\", \"#000000\", \"#000000\", \"#000000\", \"#000000\", \"#000000\", \"#000000\", \"#000000\", \"#000000\", \"#000000\", \"#000000\", \"#000000\", \"#000000\", \"#000000\", \"#000000\", \"#000000\", \"#000000\", \"#000000\", \"#000000\", \"#107be6\", \"#000000\", \"#000000\", \"#000000\", \"#107be6\", \"#000000\", \"#000000\", \"#000000\", \"#000000\", \"#000000\", \"#000000\", \"#000000\", \"#000000\"], \"line\": {\"width\": 1}, \"size\": 8}, \"mode\": \"markers\", \"type\": \"scattergl\", \"x\": [0.07293117791414261, 0.7039849162101746, 0.931801438331604, 0.5691252946853638, 0.3043692708015442, 0.37884217500686646, 0.809209942817688, 0.19886717200279236, 0.16964824497699738, 0.2718692421913147, 0.982602596282959, 0.9386250376701355, 0.03677849471569061, 0.2543323040008545, 0.4086643159389496, 0.05769263580441475, 0.18265576660633087, 0.35430580377578735, 0.9210480451583862, 0.8391133546829224, 0.6821926236152649, 0.030336275696754456, 0.6283118724822998, 0.6111611723899841, 0.7220880389213562, 0.13035942614078522, 0.27054616808891296, 0.5492821335792542, 0.4760971963405609, 0.9812551736831665, 0.9857444167137146, 0.7154220938682556, 0.833222508430481, 0.18124784529209137, 0.5061992406845093, 0.912513256072998, 0.08260887861251831, 0.7742741107940674, 0.4460609257221222, 0.6454785466194153, 0.2604883015155792, 0.19125397503376007, 0.8223180770874023, 0.2548542022705078, 0.06136680394411087, 0.9535922408103943, 0.6229004859924316, 0.21546520292758942, 0.664220929145813, 0.868268609046936, 0.10043438524007797, 0.19172675907611847, 0.27068501710891724, 0.33692073822021484, 0.6913593411445618, 0.9950982332229614, 0.8835618495941162, 0.5282618403434753, 0.3464466631412506, 0.5727983713150024, 0.27872681617736816, 0.6066524386405945, 0.5073263645172119, 0.14117096364498138, 0.6236091256141663, 0.44248539209365845, 0.2392139732837677, 0.341365247964859, 0.03822695091366768, 0.042348384857177734, 0.07608304917812347, 0.2404921054840088, 0.0655314028263092, 0.581505537033081, 0.05158266797661781, 0.0979323759675026, 0.04843003302812576, 0.8681973814964294, 0.7832409143447876, 0.15255799889564514, 0.7741193771362305, 0.3475211262702942, 0.07454723119735718, 0.2701418995857239, 0.5436159372329712, 0.12421905249357224, 0.8069401979446411, 0.5369848012924194, 0.6040866374969482, 0.13031168282032013, 0.7810391783714294, 0.34294766187667847, 0.3105330765247345, 0.6980128884315491, 0.7325194478034973, 0.6037368178367615, 0.19288185238838196, 0.7251060009002686, 0.9007706046104431, 0.017463261261582375, 0.28914743661880493, 0.5394155383110046, 0.6077024936676025, 0.6212901473045349, 0.7147647738456726, 0.44723379611968994, 0.28479576110839844, 0.43475106358528137, 0.11911876499652863, 0.6938514709472656, 0.3266421854496002, 0.3431510329246521, 0.11892399936914444, 0.07875503599643707, 0.24796701967716217, 0.017455562949180603, 0.2985154986381531, 0.6855807900428772, 0.1367407739162445, 0.6387676000595093, 0.3024364709854126, 0.517087459564209, 0.3441350758075714, 0.29225754737854004, 0.6583549976348877, 0.6079154014587402, 0.9036331176757812, 0.8888798952102661, 0.7862184047698975, 0.9533740282058716, 0.0067802234552800655, 0.9634285569190979, 0.20618808269500732, 0.20020052790641785, 0.5782110691070557, 0.2755652666091919, 0.7104383707046509, 0.5883558392524719, 0.4136713445186615, 0.1526137888431549, 0.4268963038921356, 0.8176313638687134, 0.7314897179603577, 0.45035481452941895, 0.28714001178741455, 0.4023907482624054, 0.01045279297977686, 0.8178924322128296, 0.46177294850349426, 0.1782466471195221, 0.5868855118751526, 0.8569652438163757, 0.3093782961368561, 0.2993301749229431, 0.885564386844635, 0.8423578143119812, 0.33287522196769714, 0.196201354265213, 0.7818734049797058, 0.5851160287857056, 0.44496607780456543, 0.7679492235183716, 0.9950801730155945, 0.0656181052327156, 0.29351702332496643, 0.6742362976074219, 0.7124500274658203, 0.9285814166069031, 0.8613961338996887, 0.6425043344497681, 0.3941476047039032, 0.7865979075431824, 0.7480014562606812, 0.8150458335876465, 0.5235260128974915, 0.37376224994659424, 0.1661851406097412, 0.7314776182174683, 0.5463804006576538, 0.7204969525337219, 0.2618087828159332, 0.8453879952430725, 0.022838640958070755, 0.9293103218078613, 0.030361799523234367, 0.4575088322162628, 0.9396945834159851, 0.6856744885444641, 0.7829354405403137, 0.8870524764060974, 0.2833520174026489, 0.4049499034881592, 0.9686937928199768, 0.6566489338874817, 0.161015585064888, 0.7539392113685608, 0.7226113080978394, 0.4166320860385895, 0.49498245120048523, 0.8834202885627747, 0.07909104228019714, 0.686886191368103, 0.7328574061393738, 0.8601850271224976, 0.9151239991188049, 0.5870656967163086, 0.24824443459510803, 0.7489044666290283, 0.22327515482902527, 0.6283131837844849, 0.9680742025375366, 0.6994906067848206, 0.9242969751358032, 0.009993970394134521, 0.5190115571022034, 0.8020312190055847, 0.18046684563159943, 0.4624398648738861, 0.3166092336177826, 0.9821622371673584, 0.7033612132072449, 0.42902931571006775, 0.42856118083000183, 0.760776162147522, 0.697255551815033, 0.6557417511940002, 0.8083268404006958, 0.7115772366523743, 0.6767264008522034, 0.542614221572876, 0.1052718460559845, 0.07286672294139862, 0.3998125493526459, 0.9388561844825745, 0.21354442834854126, 0.30542072653770447, 0.5484136343002319, 0.268034964799881, 0.9411027431488037, 0.13358886539936066, 0.709672212600708, 0.5072104334831238, 0.27893760800361633, 0.3240806758403778, 0.8078529834747314, 0.6208258271217346, 0.8431504964828491, 0.05409716069698334, 0.469279021024704, 0.1318323165178299, 0.5497855544090271, 0.5974797010421753, 0.5578300952911377, 0.21432127058506012, 0.2416342794895172, 0.5145339965820312, 0.9527837634086609, 0.010524611920118332, 0.5626683831214905, 0.22075678408145905, 0.6963537931442261, 0.37471911311149597, 0.688102662563324, 0.48939067125320435, 0.4817191958427429, 0.2706001400947571, 0.5397505164146423, 0.4269859492778778, 0.7578432559967041, 0.09039711207151413, 0.41236838698387146, 0.9660898447036743, 0.009188697673380375, 0.9645763635635376, 0.27797019481658936, 0.7369351387023926, 0.23920944333076477, 0.9712615609169006, 0.26631036400794983, 0.08988834172487259, 0.2612265348434448, 0.804632306098938, 0.7722235918045044, 0.9802181124687195, 0.705091118812561, 0.7073186039924622, 0.10953275859355927, 0.5271554589271545, 0.6552994251251221, 0.6774746179580688, 0.45909276604652405, 0.8783501982688904, 0.8443154692649841, 0.05450937896966934, 0.5100937485694885, 0.6938597559928894, 0.7438006401062012, 0.09611543267965317, 0.5209252834320068, 0.48688048124313354, 0.9706009030342102, 0.2897850275039673, 0.5439746975898743, 0.18499088287353516, 0.19793002307415009, 0.1054673045873642, 0.6665888428688049, 0.7834973335266113, 0.08616312593221664, 0.1486324816942215, 0.09174486994743347, 0.006159162148833275, 0.7179872989654541, 0.2658243775367737, 0.6274234056472778, 0.032796379178762436, 0.6684962511062622, 0.9669575691223145, 0.6150668859481812, 0.9239086508750916, 0.5257600545883179, 0.9115270972251892, 0.9589328765869141, 0.7110912203788757, 0.1521168351173401, 0.542349100112915, 0.4437842071056366, 0.06176556646823883, 0.8112418055534363, 0.4737967550754547, 0.9035263657569885, 0.5214764475822449, 0.7230420708656311, 0.5483383536338806, 0.9116828441619873, 0.6808767914772034, 0.3301878273487091, 0.8659422397613525, 0.9388024210929871, 0.4760971665382385, 0.6049365401268005, 0.639008104801178, 0.7247529029846191, 0.1628236174583435, 0.5792702436447144, 0.5974354147911072, 0.09539978951215744, 0.5308294892311096, 0.8049639463424683, 0.09249965846538544, 0.15171773731708527, 0.23531313240528107, 0.08868295699357986, 0.4685594439506531, 0.6096104383468628, 0.8289695382118225, 0.22227875888347626, 0.744438648223877, 0.26659414172172546, 0.2209007740020752, 0.6513875126838684, 0.3639090061187744, 0.36375749111175537, 0.9340864419937134, 0.996374785900116, 0.6061996221542358, 0.7873848080635071, 0.7446613907814026, 0.6613908410072327, 0.5660727620124817, 0.22995513677597046, 0.6665454506874084, 0.7331635355949402, 0.16023030877113342, 0.49254554510116577, 0.735462486743927, 0.4659290313720703, 0.5751445889472961, 0.35828298330307007, 0.6090369820594788, 0.4053637385368347, 0.2803668975830078, 0.4823989272117615, 0.4552482068538666, 0.3444572389125824, 0.9057826399803162, 0.9048545956611633, 0.7758944034576416, 0.16380199790000916, 0.6668270826339722, 0.3229692876338959, 0.7925739884376526, 0.36851564049720764, 0.46805837750434875, 0.7230603694915771, 0.3052053153514862, 0.42625564336776733, 0.7463298439979553, 0.10426601767539978, 0.898362398147583, 0.2116537243127823, 0.5075681209564209, 0.6365115642547607, 0.972025454044342, 0.5499528646469116, 0.6710385084152222, 0.8083047866821289, 0.2449370175600052, 0.4003163278102875, 0.40054580569267273, 0.4664418399333954, 0.6554207801818848, 0.43728259205818176, 0.12116431444883347, 0.8996476531028748, 0.8556737899780273, 0.44647952914237976, 0.7906101942062378, 0.20174062252044678, 0.003788951551541686, 0.4171616733074188, 0.027157986536622047, 0.009226803667843342, 0.0730924978852272, 0.5767074823379517, 0.8244009017944336, 0.8358270525932312, 0.6421829462051392, 0.8710607290267944, 0.36881691217422485, 0.007216425146907568, 0.6259392499923706, 0.13033394515514374, 0.5828037858009338, 0.18280622363090515, 0.6426719427108765, 0.4210644066333771, 0.7424083352088928, 0.514175295829773, 0.018117137253284454, 0.8314588069915771, 0.9857867360115051, 0.7110656499862671, 0.14694912731647491, 0.51434725522995, 0.49249038100242615, 0.33015188574790955, 0.23927852511405945, 0.5909917950630188, 0.8152745366096497, 0.09728842228651047, 0.13182374835014343, 0.5294198393821716, 0.9191186428070068, 0.2048867642879486, 0.9959636330604553, 0.22522594034671783, 0.673102617263794, 0.9895837903022766, 0.2792825996875763, 0.4934210479259491, 0.3069920539855957, 0.829862117767334, 0.7327216863632202, 0.26044178009033203, 0.2675245404243469, 0.5527187585830688, 0.3120396137237549, 0.13373184204101562, 0.7437469959259033, 0.44898006319999695, 0.31636717915534973, 0.9923645853996277, 0.861233115196228, 0.6802449226379395, 0.3017019033432007, 0.31587642431259155, 0.5537923574447632, 0.2777462899684906, 0.45234304666519165, 0.025941792875528336, 0.34661275148391724, 0.21547065675258636, 0.3003765344619751, 0.20914453268051147, 0.9203370213508606, 0.10637816041707993, 0.5975174307823181, 0.2768997550010681, 0.1627233773469925, 0.6359803080558777, 0.220235213637352, 0.8746578693389893, 0.3581344783306122, 0.10090144723653793, 0.3494279682636261, 0.18224120140075684, 0.6304723620414734, 0.2386309653520584, 0.717514157295227, 0.4218693971633911, 0.2550572156906128, 0.25031936168670654, 0.9898263812065125, 0.2641837000846863, 0.9906688928604126, 0.48725903034210205, 0.6692140102386475, 0.8142348527908325, 0.15271185338497162, 0.6931230425834656, 0.298348993062973, 0.8173415660858154, 0.8639004826545715, 0.49069541692733765, 0.9019935131072998, 0.8393089175224304, 0.6033838391304016, 0.11203467100858688, 0.9637556076049805, 0.8967828750610352, 0.8942954540252686, 0.30603769421577454, 0.742338240146637, 0.9000940322875977, 0.3131215274333954, 0.2027883529663086, 0.6676256060600281, 0.5423852205276489, 0.16094909608364105, 0.30018725991249084, 0.9992673397064209, 0.3543585538864136, 0.9539052844047546, 0.41125744581222534, 0.4180437922477722, 0.43473055958747864, 0.25499722361564636, 0.5678903460502625, 0.5351327061653137, 0.6609811782836914, 0.3470461666584015, 0.16167396306991577, 0.3708462417125702, 0.3867781162261963, 0.6472386121749878, 0.05309188365936279, 0.23380021750926971, 0.9104712009429932, 0.48780906200408936, 0.19529449939727783, 0.390489399433136, 0.3421109616756439, 0.3224586844444275, 0.11912716925144196, 0.8527994751930237, 0.6177396178245544, 0.9353986382484436, 0.273470401763916, 0.7747628688812256, 0.6476385593414307, 0.4213493764400482, 0.40528005361557007, 0.09712449461221695, 0.9714114665985107, 0.6855834126472473, 0.8517173528671265, 0.5480067133903503, 0.7283123135566711, 0.3805014193058014, 0.15918226540088654, 0.3608105480670929, 0.9290707111358643, 0.5211465954780579, 0.2504049837589264, 0.2053690403699875, 0.24143804609775543, 0.8478296995162964, 0.5696626901626587, 0.8851790428161621, 0.44391897320747375, 0.9569575786590576, 0.901437520980835, 0.009364954195916653, 0.9020664095878601, 0.6332467794418335, 0.039353903383016586, 0.21532906591892242, 0.15524375438690186, 0.5014097094535828, 0.804520845413208, 0.8584048748016357, 0.8693476319313049, 0.19236387312412262, 0.6886407136917114, 0.23094749450683594, 0.05030957981944084, 0.34151777625083923, 0.19056563079357147, 0.6576730608940125, 0.746809184551239, 0.5653786659240723, 0.8320872783660889, 0.5298361778259277, 0.04588327184319496, 0.4935830533504486, 0.11378465592861176, 0.8493874073028564, 0.06273538619279861, 0.564993679523468, 0.591224193572998, 0.2814908027648926, 0.271624892950058, 0.26842692494392395, 0.660733699798584, 0.9492083787918091, 0.7423739433288574, 0.8067482709884644, 0.022867528721690178, 0.4427506923675537, 0.2303985059261322, 0.8822914958000183, 0.9865484237670898, 0.12662582099437714, 0.6992025971412659, 0.43852195143699646, 0.10754048824310303, 0.4340633451938629, 0.9072867035865784, 0.8322969079017639, 0.02191220410168171, 0.978903591632843, 0.3076225519180298, 0.8835943341255188, 0.10281021147966385, 0.20855578780174255, 0.5451078414916992, 0.7068064212799072, 0.8895578384399414, 0.12961436808109283, 0.6735405921936035, 0.19496621191501617, 0.11855419725179672, 0.300432950258255, 0.9306754469871521, 0.5148799419403076, 0.605262041091919, 0.04237682744860649, 0.1685430109500885, 0.0965760126709938, 0.0636991411447525, 0.21987797319889069, 0.22615087032318115, 0.9091476202011108, 0.028155341744422913, 0.11893855035305023, 0.16244250535964966, 0.8297252058982849, 0.00428256718441844, 0.8071006536483765, 0.06067084148526192, 0.1429382711648941, 0.27413085103034973, 0.6038833260536194, 0.7913283109664917, 0.25519537925720215, 0.9035645723342896, 0.8842065334320068, 0.5623200535774231, 0.5511165857315063, 0.1598396748304367, 0.3275134861469269, 0.7869778871536255, 0.18082880973815918, 0.027757376432418823, 0.8147003054618835, 0.6455848813056946, 0.4213424623012543, 0.8946775794029236, 0.8482093811035156, 0.021144559606909752, 0.5128595232963562, 0.5155540108680725, 0.0406193807721138, 0.823782205581665, 0.7802153825759888, 0.6756320595741272, 0.23510296642780304, 0.7060776948928833, 0.2676929533481598, 0.7522110939025879, 0.06493077427148819, 0.9336130619049072, 0.9259163737297058, 0.4989359974861145, 0.10498128086328506, 0.8304232954978943, 0.4441273808479309, 0.6139403581619263, 0.4412229061126709, 0.44581204652786255, 0.24933616816997528, 0.46535176038742065, 0.6869925856590271, 0.6615166664123535, 0.32611677050590515, 0.9786837100982666, 0.7705209851264954, 0.3649803102016449, 0.5834895968437195, 0.9388992786407471, 0.6537362933158875, 0.6217292547225952, 0.11400165408849716, 0.8605000972747803, 0.12689250707626343, 0.2817017734050751, 0.5489649772644043, 0.7078151702880859, 0.3540553152561188, 0.36872926354408264, 0.4188392162322998, 0.2067819982767105, 0.9610236883163452, 0.8092940449714661, 0.6362404227256775, 0.6542789936065674, 0.6409347653388977, 0.3893873691558838, 0.015752650797367096, 0.12536704540252686, 0.10335071384906769, 0.9934402108192444, 0.535808265209198, 0.3901520073413849, 0.2603057026863098, 0.23734433948993683, 0.24131529033184052, 0.891374945640564, 0.48786547780036926, 0.9077116250991821, 0.31190225481987, 0.08735064417123795, 0.30741241574287415, 0.6394867897033691, 0.05710180848836899, 0.8449558615684509, 0.5654892921447754, 0.9432915449142456, 0.42989665269851685, 0.2650794982910156, 0.15759116411209106, 0.5013824701309204, 0.9210413098335266, 0.3665904998779297, 0.74254310131073, 0.4640354514122009, 0.9714610576629639, 0.47099626064300537, 0.3890298902988434, 0.8756682276725769, 0.6463271975517273], \"y\": [0.4793883264064789, 0.23027314245700836, 0.5184409022331238, 0.1434451788663864, 0.47869792580604553, 0.8147547841072083, 0.14046691358089447, 0.7748035788536072, 0.5847124457359314, 0.48011088371276855, 0.2772316634654999, 0.9574994444847107, 0.9936811327934265, 0.4477144479751587, 0.3621261417865753, 0.009985142387449741, 0.4460257291793823, 0.0780104547739029, 0.681963324546814, 0.2990989685058594, 0.6740603446960449, 0.02969018742442131, 0.36206263303756714, 0.5762732625007629, 0.8100358843803406, 0.20732364058494568, 0.04672786965966225, 0.265880286693573, 0.566075325012207, 0.4375913739204407, 0.14830780029296875, 0.40188392996788025, 0.45207250118255615, 0.8309138417243958, 0.37315547466278076, 0.3906978368759155, 0.1305074244737625, 0.5690159201622009, 0.025963069871068, 0.01748211868107319, 0.46633678674697876, 0.9430637955665588, 0.9231202006340027, 0.43847450613975525, 0.7171312570571899, 0.7105864882469177, 0.8484976291656494, 0.5886916518211365, 0.4501104950904846, 0.28348907828330994, 0.5451368689537048, 0.8325971364974976, 0.5071775317192078, 0.3926558792591095, 0.18200741708278656, 0.2590755820274353, 0.4174003601074219, 0.6983479857444763, 0.7880702018737793, 0.2112901657819748, 0.4856356382369995, 0.6471844911575317, 0.4508726894855499, 0.5059604644775391, 0.8615037798881531, 0.9572936296463013, 0.5509072542190552, 0.2564842104911804, 0.132366344332695, 0.5137543082237244, 0.1365046501159668, 0.47534024715423584, 0.22383680939674377, 0.20331422984600067, 0.1886032521724701, 0.748371422290802, 0.24130386114120483, 0.9012260437011719, 0.9116600155830383, 0.5592805743217468, 0.1206788495182991, 0.4190945625305176, 0.34153440594673157, 0.13052211701869965, 0.8037217259407043, 0.20814616978168488, 0.008803833276033401, 0.40051907300949097, 0.6708864569664001, 0.9209095239639282, 0.5053501129150391, 0.2597651183605194, 0.8027141690254211, 0.8747133612632751, 0.8703819513320923, 0.12893743813037872, 0.5290423631668091, 0.6959071755409241, 0.6463307738304138, 0.6128932237625122, 0.8870672583580017, 0.1845625787973404, 0.025941068306565285, 0.35683366656303406, 0.9587607383728027, 0.6446231007575989, 0.6419903039932251, 0.47162047028541565, 0.7354016304016113, 0.2275884598493576, 0.057237427681684494, 0.5091053247451782, 0.3045666217803955, 0.927574098110199, 0.04639594629406929, 0.23236465454101562, 0.0464739128947258, 0.1390732377767563, 0.0881347507238388, 0.662317156791687, 0.12850503623485565, 0.08943101018667221, 0.554015040397644, 0.024440947920084, 0.1626376360654831, 0.889258623123169, 0.7973167300224304, 0.6760756969451904, 0.007827553898096085, 0.30268898606300354, 0.3221316635608673, 0.7564778327941895, 0.831110417842865, 0.048619989305734634, 0.022018224000930786, 0.522325873374939, 0.8064296245574951, 0.3832472264766693, 0.9902887344360352, 0.4687170088291168, 0.3526017963886261, 0.8166991472244263, 0.9280707836151123, 0.6283848881721497, 0.10241106152534485, 0.3778719902038574, 0.9925180673599243, 0.7954057455062866, 0.9223251342773438, 0.11279375851154327, 0.8264986276626587, 0.5634185075759888, 0.5310360193252563, 0.12383632361888885, 0.7476477026939392, 0.7606645226478577, 0.25145813822746277, 0.2516557574272156, 0.18226011097431183, 0.6091163158416748, 0.9492318034172058, 0.2100306749343872, 0.5712705850601196, 0.2571299374103546, 0.8590925931930542, 0.47694918513298035, 0.38893893361091614, 0.27048566937446594, 0.5749999284744263, 0.2879805862903595, 0.23021776974201202, 0.3577098250389099, 0.2943095862865448, 0.776185154914856, 0.4669438302516937, 0.37777864933013916, 0.28520289063453674, 0.9541746377944946, 0.31697767972946167, 0.17706520855426788, 0.3548019230365753, 0.5950333476066589, 0.8254153728485107, 0.14916293323040009, 0.284953773021698, 0.3449971377849579, 0.8663203716278076, 0.041554518043994904, 0.598920464515686, 0.4800007939338684, 0.607707142829895, 0.5708804130554199, 0.8527503609657288, 0.8621935844421387, 0.7885681986808777, 0.24132715165615082, 0.7032362222671509, 0.8825346827507019, 0.7301805019378662, 0.6742347478866577, 0.8827905654907227, 0.6341197490692139, 0.020426250994205475, 0.3932510316371918, 0.2732889950275421, 0.2130855917930603, 0.5281815528869629, 0.2710351049900055, 0.4437815248966217, 0.43186071515083313, 0.13620410859584808, 0.5704512000083923, 0.4479116201400757, 0.046004392206668854, 0.6973852515220642, 0.8995245099067688, 0.8838555216789246, 0.46041905879974365, 0.12015257030725479, 0.7435712814331055, 0.5784785151481628, 0.6225030422210693, 0.9394456744194031, 0.4072771966457367, 0.19377996027469635, 0.8023435473442078, 0.20300839841365814, 0.8292791843414307, 0.2380141317844391, 0.25801339745521545, 0.07554101198911667, 0.5709065794944763, 0.46140116453170776, 0.143884539604187, 0.4444177448749542, 0.5409678816795349, 0.07323763519525528, 0.0020810833666473627, 0.9081204533576965, 0.6980350017547607, 0.4082157015800476, 0.523186206817627, 0.5562653541564941, 0.6970539093017578, 0.19773748517036438, 0.239152193069458, 0.684107780456543, 0.5377447009086609, 0.9261056184768677, 0.38468191027641296, 0.5213611125946045, 0.4325869679450989, 0.7320091128349304, 0.3018950819969177, 0.24467335641384125, 0.4334047734737396, 0.7103796601295471, 0.0060152108781039715, 0.44986510276794434, 0.17086640000343323, 0.01662231981754303, 0.24507416784763336, 0.9888705611228943, 0.10061725229024887, 0.4346274137496948, 0.17366823554039001, 0.07422801107168198, 0.9165792465209961, 0.9053796529769897, 0.5394368171691895, 0.3075141906738281, 0.5598728060722351, 0.6977382898330688, 0.9115824103355408, 0.8185561895370483, 0.2640984356403351, 0.7581056952476501, 0.47432541847229004, 0.8931359052658081, 0.4485476315021515, 0.7289882898330688, 0.5733250379562378, 0.41332921385765076, 0.7965412139892578, 0.03111584484577179, 0.6039894819259644, 0.6045091152191162, 0.3626784682273865, 0.2802817225456238, 0.19489191472530365, 0.11685732752084732, 0.4629024267196655, 0.942646324634552, 0.7252135872840881, 0.7833890914916992, 0.6173255443572998, 0.9262742400169373, 0.4786972105503082, 0.7655325531959534, 0.08886551111936569, 0.8453694581985474, 0.8059777021408081, 0.6988767981529236, 0.23005862534046173, 0.3683583438396454, 0.1829063445329666, 0.9237476587295532, 0.37673723697662354, 0.015600989572703838, 0.6316366791725159, 0.061668798327445984, 0.15965008735656738, 0.2603873014450073, 0.629175066947937, 0.9152544736862183, 0.11914670467376709, 0.3490956723690033, 0.5950005650520325, 0.05351279303431511, 0.16225780546665192, 0.3636617362499237, 0.012569285929203033, 0.41574493050575256, 0.3606400489807129, 0.23612233996391296, 0.18998554348945618, 0.743512749671936, 0.061845120042562485, 0.6319705247879028, 0.8331454992294312, 0.019613487645983696, 0.6203175187110901, 0.08449665457010269, 0.2914341986179352, 0.03659318760037422, 0.03834191709756851, 0.40855321288108826, 0.30480411648750305, 0.9138306379318237, 0.41740134358406067, 0.5395365953445435, 0.4415610730648041, 0.6330242156982422, 0.6914573311805725, 0.3818216621875763, 0.5150576233863831, 0.24526157975196838, 0.9711049795150757, 0.2033414989709854, 0.8860867023468018, 0.8544511198997498, 0.8219301104545593, 0.912906289100647, 0.4890204966068268, 0.4364262819290161, 0.9792983531951904, 0.6245322227478027, 0.15768814086914062, 0.08045075088739395, 0.2726285755634308, 0.33489829301834106, 0.44308748841285706, 0.4329463839530945, 0.683591902256012, 0.6876592636108398, 0.9138821959495544, 0.40987640619277954, 0.3356136381626129, 0.09975838661193848, 0.7193285226821899, 0.6624197959899902, 0.17145457863807678, 0.0672500729560852, 0.20902281999588013, 0.46676352620124817, 0.3955037593841553, 0.9073949456214905, 0.7928558588027954, 0.6651905179023743, 0.31522735953330994, 0.05834312364459038, 0.14655300974845886, 0.5989057421684265, 0.797096312046051, 0.5256918668746948, 0.2641553282737732, 0.12441635131835938, 0.9645553827285767, 0.14716656506061554, 0.6397733092308044, 0.7871139049530029, 0.34890204668045044, 0.7743782997131348, 0.6002578735351562, 0.9832504391670227, 0.5104793906211853, 0.12353954464197159, 0.9924412965774536, 0.7312099933624268, 0.12305456399917603, 0.6790946125984192, 0.3539017140865326, 0.5718234777450562, 0.5740498900413513, 0.7187548279762268, 0.517178475856781, 0.7144234776496887, 0.21335531771183014, 0.06983596831560135, 0.5089609622955322, 0.7377488613128662, 0.8547717332839966, 0.4425699710845947, 0.002034221775829792, 0.8879117965698242, 0.8741962909698486, 0.30975791811943054, 0.8271239399909973, 0.4676843583583832, 0.819857120513916, 0.006484791170805693, 0.5760071277618408, 0.7768961787223816, 0.46528303623199463, 0.6437641382217407, 0.12108081579208374, 0.39250123500823975, 0.32489386200904846, 0.04917548596858978, 0.12157180905342102, 0.6033709049224854, 0.22990833222866058, 0.9250507354736328, 0.2813105881214142, 0.20643772184848785, 0.8290209770202637, 0.8576690554618835, 0.5817837715148926, 0.2708350718021393, 0.7022542953491211, 0.9181115627288818, 0.7658610343933105, 0.4716659486293793, 0.5987687110900879, 0.6089898347854614, 0.9569603800773621, 0.8419636487960815, 0.2006034553050995, 0.8862307071685791, 0.996525764465332, 0.7286191582679749, 0.10038994997739792, 0.4090898633003235, 0.512662947177887, 0.28136515617370605, 0.034198321402072906, 0.6610667109489441, 0.5729731917381287, 0.2675274908542633, 0.23198719322681427, 0.8303664922714233, 0.7741144299507141, 0.6627938747406006, 0.24746835231781006, 0.890661358833313, 0.9281884431838989, 0.09454482793807983, 0.9114640355110168, 0.3345170021057129, 0.21863572299480438, 0.6405199766159058, 0.9461463093757629, 0.6319944858551025, 0.791810154914856, 0.9905504584312439, 0.6329956650733948, 0.7502623200416565, 0.2832096815109253, 0.8072413206100464, 0.30710840225219727, 0.6564719080924988, 0.29253408312797546, 0.4138983190059662, 0.5754393339157104, 0.6443696022033691, 0.43947649002075195, 0.9513376355171204, 0.09037003666162491, 0.5496101379394531, 0.7866907715797424, 0.9657894372940063, 0.8951765298843384, 0.5382279753684998, 0.779924213886261, 0.21024325489997864, 0.5948936939239502, 0.2353748083114624, 0.8672799468040466, 0.6189432740211487, 0.4500488042831421, 0.6878867745399475, 0.9837720394134521, 0.7603886127471924, 0.9276485443115234, 0.7745242714881897, 0.06836756318807602, 0.768164873123169, 0.3064473569393158, 0.5225187540054321, 0.3480551540851593, 0.8543417453765869, 0.06702214479446411, 0.666367769241333, 0.14240261912345886, 0.5232279896736145, 0.6267592906951904, 0.2713569700717926, 0.5943506360054016, 0.6890478730201721, 0.5973120927810669, 0.19446781277656555, 0.10928799211978912, 0.15179169178009033, 0.54859459400177, 0.4002379775047302, 0.5513376593589783, 0.23913969099521637, 0.10954011231660843, 0.627467691898346, 0.5785831212997437, 0.6766389012336731, 0.2909756302833557, 0.8624551892280579, 0.2703305780887604, 0.7925571203231812, 0.5096951723098755, 0.4713374972343445, 0.4588009715080261, 0.8447869420051575, 0.058790065348148346, 0.9435147643089294, 0.947212278842926, 0.7216278910636902, 0.19386571645736694, 0.6892977952957153, 0.6766103506088257, 0.09115861356258392, 0.6421271562576294, 0.3901548981666565, 0.4134295582771301, 0.7851591110229492, 0.6408081650733948, 0.7583768367767334, 0.7789006233215332, 0.7902355790138245, 0.7079917192459106, 0.3884545862674713, 0.07247896492481232, 0.2914603054523468, 0.8493409752845764, 0.35855090618133545, 0.30406883358955383, 0.17564617097377777, 0.3538587689399719, 0.4791736900806427, 0.840462863445282, 0.8302371501922607, 0.9136435985565186, 0.48522043228149414, 0.32045266032218933, 0.7389870285987854, 0.38436076045036316, 0.8230574131011963, 0.09790996462106705, 0.3620513081550598, 0.26672622561454773, 0.2966683506965637, 0.6940177083015442, 0.1722274124622345, 0.805231511592865, 0.6921108961105347, 0.4416434168815613, 0.00777409179136157, 0.8570823669433594, 0.9990075826644897, 0.8872196674346924, 0.029802024364471436, 0.8172560334205627, 0.06221834570169449, 0.9196719527244568, 0.926283597946167, 0.6441057324409485, 0.5856478810310364, 0.9435545206069946, 0.6049558520317078, 0.29867780208587646, 0.9208126068115234, 0.3481553792953491, 0.9231480956077576, 0.5684886574745178, 0.4227779507637024, 0.8866557478904724, 0.3329014778137207, 0.813056230545044, 0.34148916602134705, 0.43483656644821167, 0.7386401295661926, 0.49684640765190125, 0.8368616700172424, 0.43967050313949585, 0.05044935271143913, 0.833077609539032, 0.8262171149253845, 0.44399169087409973, 0.2578464150428772, 0.5123252868652344, 0.8278796672821045, 0.7068331241607666, 0.23341600596904755, 0.526875376701355, 0.27691709995269775, 0.16419294476509094, 0.6679137349128723, 0.9279562830924988, 0.04651474952697754, 0.050694745033979416, 0.8697237372398376, 0.11623741686344147, 0.7904559969902039, 0.6574407815933228, 0.9501380920410156, 0.7352607846260071, 0.22935745120048523, 0.16790322959423065, 0.27487674355506897, 0.8728055357933044, 0.07023841142654419, 0.5578750967979431, 0.38957589864730835, 0.8514474034309387, 0.8608335852622986, 0.4010249376296997, 0.07933669537305832, 0.05694599449634552, 0.05846057087182999, 0.9227717518806458, 0.4270661473274231, 0.29004383087158203, 0.6868182420730591, 0.10164432227611542, 0.2846999168395996, 0.1470804661512375, 0.21601340174674988, 0.8771250247955322, 0.2353859543800354, 0.9081544876098633, 0.18360093235969543, 0.6329551935195923, 0.36922237277030945, 0.49038267135620117, 0.526569128036499, 0.6153847575187683, 0.08061998337507248, 0.5438730120658875, 0.10791761428117752, 0.34412872791290283, 0.46543607115745544, 0.39567869901657104, 0.7122883200645447, 0.9505001306533813, 0.33818915486335754, 0.15658195316791534, 0.5028001666069031, 0.1451893448829651, 0.16432254016399384, 0.8724064826965332, 0.9835445880889893, 0.5676946640014648, 0.6330384016036987, 0.3290116488933563, 0.006372575648128986, 0.6059209704399109, 0.4917318820953369, 0.683742105960846, 0.1736501306295395, 0.3655143678188324, 0.7507753968238831, 0.1484983265399933, 0.42263713479042053, 0.05253412202000618, 0.8591594696044922, 0.46153759956359863, 0.42656466364860535, 0.30044692754745483, 0.25375866889953613, 0.10805436223745346, 0.038620490580797195, 0.0050231837667524815, 0.8554712533950806, 0.5574187636375427, 0.3875442445278168, 0.7661589980125427, 0.49339163303375244, 0.044700391590595245, 0.7841885089874268, 0.365181028842926, 0.8062728047370911, 0.8238486051559448, 0.5065537691116333, 0.38666635751724243, 0.6037739515304565, 0.08872393518686295, 0.8132899403572083, 0.45799964666366577, 0.4711788594722748, 0.6319238543510437, 0.21259024739265442, 0.15700021386146545, 0.36715856194496155, 0.908203125, 0.4435192942619324, 0.5955045819282532, 0.04610732942819595, 0.1805858016014099, 0.05807791277766228, 0.2567344307899475, 0.8677533864974976, 0.9073978662490845, 0.3591020703315735, 0.12225010991096497, 0.4786054491996765, 0.04228007048368454, 0.21154507994651794, 0.5404314398765564, 0.7907525300979614, 0.07892276346683502, 0.3826008141040802, 0.8359021544456482, 0.9760767221450806, 0.2537843883037567, 0.08207947760820389, 0.5534483194351196, 0.9197586178779602, 0.4526333808898926, 0.6617842316627502, 0.4697715640068054, 0.6544399857521057, 0.9469321966171265, 0.6982786059379578, 0.5848445296287537, 0.555394172668457, 0.1436251401901245, 0.7304805517196655, 0.28785815834999084, 0.7080013155937195, 0.9174681901931763, 0.702333927154541, 0.6378162503242493, 0.5071500539779663, 0.9634366631507874, 0.9573646783828735, 0.34035608172416687]}],                        {\"annotations\": [{\"font\": {\"size\": 14}, \"showarrow\": false, \"text\": \"#PFA (WIP)\", \"x\": 0, \"xanchor\": \"left\", \"xref\": \"paper\", \"y\": -0.1, \"yanchor\": \"bottom\", \"yref\": \"paper\"}], \"autosize\": false, \"font\": {\"size\": 12}, \"height\": 900, \"hovermode\": \"closest\", \"margin\": {\"b\": 85, \"l\": 40, \"r\": 40, \"t\": 100}, \"showlegend\": false, \"template\": {\"data\": {\"bar\": [{\"error_x\": {\"color\": \"#2a3f5f\"}, \"error_y\": {\"color\": \"#2a3f5f\"}, \"marker\": {\"line\": {\"color\": \"#E5ECF6\", \"width\": 0.5}}, \"type\": \"bar\"}], \"barpolar\": [{\"marker\": {\"line\": {\"color\": \"#E5ECF6\", \"width\": 0.5}}, \"type\": \"barpolar\"}], \"carpet\": [{\"aaxis\": {\"endlinecolor\": \"#2a3f5f\", \"gridcolor\": \"white\", \"linecolor\": \"white\", \"minorgridcolor\": \"white\", \"startlinecolor\": \"#2a3f5f\"}, \"baxis\": {\"endlinecolor\": \"#2a3f5f\", \"gridcolor\": \"white\", \"linecolor\": \"white\", \"minorgridcolor\": \"white\", \"startlinecolor\": \"#2a3f5f\"}, \"type\": \"carpet\"}], \"choropleth\": [{\"colorbar\": {\"outlinewidth\": 0, \"ticks\": \"\"}, \"type\": \"choropleth\"}], \"contour\": [{\"colorbar\": {\"outlinewidth\": 0, \"ticks\": \"\"}, \"colorscale\": [[0.0, \"#0d0887\"], [0.1111111111111111, \"#46039f\"], [0.2222222222222222, \"#7201a8\"], [0.3333333333333333, \"#9c179e\"], [0.4444444444444444, \"#bd3786\"], [0.5555555555555556, \"#d8576b\"], [0.6666666666666666, \"#ed7953\"], [0.7777777777777778, \"#fb9f3a\"], [0.8888888888888888, \"#fdca26\"], [1.0, \"#f0f921\"]], \"type\": \"contour\"}], \"contourcarpet\": [{\"colorbar\": {\"outlinewidth\": 0, \"ticks\": \"\"}, \"type\": \"contourcarpet\"}], \"heatmap\": [{\"colorbar\": {\"outlinewidth\": 0, \"ticks\": \"\"}, \"colorscale\": [[0.0, \"#0d0887\"], [0.1111111111111111, \"#46039f\"], [0.2222222222222222, \"#7201a8\"], [0.3333333333333333, \"#9c179e\"], [0.4444444444444444, \"#bd3786\"], [0.5555555555555556, \"#d8576b\"], [0.6666666666666666, \"#ed7953\"], [0.7777777777777778, \"#fb9f3a\"], [0.8888888888888888, \"#fdca26\"], [1.0, \"#f0f921\"]], \"type\": \"heatmap\"}], \"heatmapgl\": [{\"colorbar\": {\"outlinewidth\": 0, \"ticks\": \"\"}, \"colorscale\": [[0.0, \"#0d0887\"], [0.1111111111111111, \"#46039f\"], [0.2222222222222222, \"#7201a8\"], [0.3333333333333333, \"#9c179e\"], [0.4444444444444444, \"#bd3786\"], [0.5555555555555556, \"#d8576b\"], [0.6666666666666666, \"#ed7953\"], [0.7777777777777778, \"#fb9f3a\"], [0.8888888888888888, \"#fdca26\"], [1.0, \"#f0f921\"]], \"type\": \"heatmapgl\"}], \"histogram\": [{\"marker\": {\"colorbar\": {\"outlinewidth\": 0, \"ticks\": \"\"}}, \"type\": \"histogram\"}], \"histogram2d\": [{\"colorbar\": {\"outlinewidth\": 0, \"ticks\": \"\"}, \"colorscale\": [[0.0, \"#0d0887\"], [0.1111111111111111, \"#46039f\"], [0.2222222222222222, \"#7201a8\"], [0.3333333333333333, \"#9c179e\"], [0.4444444444444444, \"#bd3786\"], [0.5555555555555556, \"#d8576b\"], [0.6666666666666666, \"#ed7953\"], [0.7777777777777778, \"#fb9f3a\"], [0.8888888888888888, \"#fdca26\"], [1.0, \"#f0f921\"]], \"type\": \"histogram2d\"}], \"histogram2dcontour\": [{\"colorbar\": {\"outlinewidth\": 0, \"ticks\": \"\"}, \"colorscale\": [[0.0, \"#0d0887\"], [0.1111111111111111, \"#46039f\"], [0.2222222222222222, \"#7201a8\"], [0.3333333333333333, \"#9c179e\"], [0.4444444444444444, \"#bd3786\"], [0.5555555555555556, \"#d8576b\"], [0.6666666666666666, \"#ed7953\"], [0.7777777777777778, \"#fb9f3a\"], [0.8888888888888888, \"#fdca26\"], [1.0, \"#f0f921\"]], \"type\": \"histogram2dcontour\"}], \"mesh3d\": [{\"colorbar\": {\"outlinewidth\": 0, \"ticks\": \"\"}, \"type\": \"mesh3d\"}], \"parcoords\": [{\"line\": {\"colorbar\": {\"outlinewidth\": 0, \"ticks\": \"\"}}, \"type\": \"parcoords\"}], \"pie\": [{\"automargin\": true, \"type\": \"pie\"}], \"scatter\": [{\"marker\": {\"colorbar\": {\"outlinewidth\": 0, \"ticks\": \"\"}}, \"type\": \"scatter\"}], \"scatter3d\": [{\"line\": {\"colorbar\": {\"outlinewidth\": 0, \"ticks\": \"\"}}, \"marker\": {\"colorbar\": {\"outlinewidth\": 0, \"ticks\": \"\"}}, \"type\": \"scatter3d\"}], \"scattercarpet\": [{\"marker\": {\"colorbar\": {\"outlinewidth\": 0, \"ticks\": \"\"}}, \"type\": \"scattercarpet\"}], \"scattergeo\": [{\"marker\": {\"colorbar\": {\"outlinewidth\": 0, \"ticks\": \"\"}}, \"type\": \"scattergeo\"}], \"scattergl\": [{\"marker\": {\"colorbar\": {\"outlinewidth\": 0, \"ticks\": \"\"}}, \"type\": \"scattergl\"}], \"scattermapbox\": [{\"marker\": {\"colorbar\": {\"outlinewidth\": 0, \"ticks\": \"\"}}, \"type\": \"scattermapbox\"}], \"scatterpolar\": [{\"marker\": {\"colorbar\": {\"outlinewidth\": 0, \"ticks\": \"\"}}, \"type\": \"scatterpolar\"}], \"scatterpolargl\": [{\"marker\": {\"colorbar\": {\"outlinewidth\": 0, \"ticks\": \"\"}}, \"type\": \"scatterpolargl\"}], \"scatterternary\": [{\"marker\": {\"colorbar\": {\"outlinewidth\": 0, \"ticks\": \"\"}}, \"type\": \"scatterternary\"}], \"surface\": [{\"colorbar\": {\"outlinewidth\": 0, \"ticks\": \"\"}, \"colorscale\": [[0.0, \"#0d0887\"], [0.1111111111111111, \"#46039f\"], [0.2222222222222222, \"#7201a8\"], [0.3333333333333333, \"#9c179e\"], [0.4444444444444444, \"#bd3786\"], [0.5555555555555556, \"#d8576b\"], [0.6666666666666666, \"#ed7953\"], [0.7777777777777778, \"#fb9f3a\"], [0.8888888888888888, \"#fdca26\"], [1.0, \"#f0f921\"]], \"type\": \"surface\"}], \"table\": [{\"cells\": {\"fill\": {\"color\": \"#EBF0F8\"}, \"line\": {\"color\": \"white\"}}, \"header\": {\"fill\": {\"color\": \"#C8D4E3\"}, \"line\": {\"color\": \"white\"}}, \"type\": \"table\"}]}, \"layout\": {\"annotationdefaults\": {\"arrowcolor\": \"#2a3f5f\", \"arrowhead\": 0, \"arrowwidth\": 1}, \"autotypenumbers\": \"strict\", \"coloraxis\": {\"colorbar\": {\"outlinewidth\": 0, \"ticks\": \"\"}}, \"colorscale\": {\"diverging\": [[0, \"#8e0152\"], [0.1, \"#c51b7d\"], [0.2, \"#de77ae\"], [0.3, \"#f1b6da\"], [0.4, \"#fde0ef\"], [0.5, \"#f7f7f7\"], [0.6, \"#e6f5d0\"], [0.7, \"#b8e186\"], [0.8, \"#7fbc41\"], [0.9, \"#4d9221\"], [1, \"#276419\"]], \"sequential\": [[0.0, \"#0d0887\"], [0.1111111111111111, \"#46039f\"], [0.2222222222222222, \"#7201a8\"], [0.3333333333333333, \"#9c179e\"], [0.4444444444444444, \"#bd3786\"], [0.5555555555555556, \"#d8576b\"], [0.6666666666666666, \"#ed7953\"], [0.7777777777777778, \"#fb9f3a\"], [0.8888888888888888, \"#fdca26\"], [1.0, \"#f0f921\"]], \"sequentialminus\": [[0.0, \"#0d0887\"], [0.1111111111111111, \"#46039f\"], [0.2222222222222222, \"#7201a8\"], [0.3333333333333333, \"#9c179e\"], [0.4444444444444444, \"#bd3786\"], [0.5555555555555556, \"#d8576b\"], [0.6666666666666666, \"#ed7953\"], [0.7777777777777778, \"#fb9f3a\"], [0.8888888888888888, \"#fdca26\"], [1.0, \"#f0f921\"]]}, \"colorway\": [\"#636efa\", \"#EF553B\", \"#00cc96\", \"#ab63fa\", \"#FFA15A\", \"#19d3f3\", \"#FF6692\", \"#B6E880\", \"#FF97FF\", \"#FECB52\"], \"font\": {\"color\": \"#2a3f5f\"}, \"geo\": {\"bgcolor\": \"white\", \"lakecolor\": \"white\", \"landcolor\": \"#E5ECF6\", \"showlakes\": true, \"showland\": true, \"subunitcolor\": \"white\"}, \"hoverlabel\": {\"align\": \"left\"}, \"hovermode\": \"closest\", \"mapbox\": {\"style\": \"light\"}, \"paper_bgcolor\": \"white\", \"plot_bgcolor\": \"#E5ECF6\", \"polar\": {\"angularaxis\": {\"gridcolor\": \"white\", \"linecolor\": \"white\", \"ticks\": \"\"}, \"bgcolor\": \"#E5ECF6\", \"radialaxis\": {\"gridcolor\": \"white\", \"linecolor\": \"white\", \"ticks\": \"\"}}, \"scene\": {\"xaxis\": {\"backgroundcolor\": \"#E5ECF6\", \"gridcolor\": \"white\", \"gridwidth\": 2, \"linecolor\": \"white\", \"showbackground\": true, \"ticks\": \"\", \"zerolinecolor\": \"white\"}, \"yaxis\": {\"backgroundcolor\": \"#E5ECF6\", \"gridcolor\": \"white\", \"gridwidth\": 2, \"linecolor\": \"white\", \"showbackground\": true, \"ticks\": \"\", \"zerolinecolor\": \"white\"}, \"zaxis\": {\"backgroundcolor\": \"#E5ECF6\", \"gridcolor\": \"white\", \"gridwidth\": 2, \"linecolor\": \"white\", \"showbackground\": true, \"ticks\": \"\", \"zerolinecolor\": \"white\"}}, \"shapedefaults\": {\"line\": {\"color\": \"#2a3f5f\"}}, \"ternary\": {\"aaxis\": {\"gridcolor\": \"white\", \"linecolor\": \"white\", \"ticks\": \"\"}, \"baxis\": {\"gridcolor\": \"white\", \"linecolor\": \"white\", \"ticks\": \"\"}, \"bgcolor\": \"#E5ECF6\", \"caxis\": {\"gridcolor\": \"white\", \"linecolor\": \"white\", \"ticks\": \"\"}}, \"title\": {\"x\": 0.05}, \"xaxis\": {\"automargin\": true, \"gridcolor\": \"white\", \"linecolor\": \"white\", \"ticks\": \"\", \"title\": {\"standoff\": 15}, \"zerolinecolor\": \"white\", \"zerolinewidth\": 2}, \"yaxis\": {\"automargin\": true, \"gridcolor\": \"white\", \"linecolor\": \"white\", \"ticks\": \"\", \"title\": {\"standoff\": 15}, \"zerolinecolor\": \"white\", \"zerolinewidth\": 2}}}, \"width\": 1100, \"xaxis\": {\"showgrid\": false, \"showline\": false, \"showticklabels\": false, \"title\": {\"text\": \"Netflow multigraph data\"}, \"zeroline\": false}, \"yaxis\": {\"showgrid\": false, \"showline\": false, \"showticklabels\": false, \"title\": {\"text\": \"Netflow multigraph data\"}, \"zeroline\": false}},                        {\"responsive\": true}                    ).then(function(){\n",
       "                            \n",
       "var gd = document.getElementById('1d397355-83a0-4af9-b111-56be77bf74fa');\n",
       "var x = new MutationObserver(function (mutations, observer) {{\n",
       "        var display = window.getComputedStyle(gd).display;\n",
       "        if (!display || display === 'none') {{\n",
       "            console.log([gd, 'removed!']);\n",
       "            Plotly.purge(gd);\n",
       "            observer.disconnect();\n",
       "        }}\n",
       "}});\n",
       "\n",
       "// Listen for the removal of the full notebook cells\n",
       "var notebookContainer = gd.closest('#notebook-container');\n",
       "if (notebookContainer) {{\n",
       "    x.observe(notebookContainer, {childList: true});\n",
       "}}\n",
       "\n",
       "// Listen for the clearing of the current output cell\n",
       "var outputEl = gd.closest('.output');\n",
       "if (outputEl) {{\n",
       "    x.observe(outputEl, {childList: true});\n",
       "}}\n",
       "\n",
       "                        })                };                });            </script>        </div>"
      ]
     },
     "metadata": {},
     "output_type": "display_data"
    }
   ],
   "source": [
    "import plotly.graph_objects as go\n",
    "\n",
    "N = 100000\n",
    "fig = go.Figure(\n",
    "    data=edges_list,\n",
    "    layout=_layout\n",
    ")\n",
    "\n",
    "fig.show()"
   ]
  },
  {
   "cell_type": "code",
   "execution_count": null,
   "metadata": {},
   "outputs": [],
   "source": []
  },
  {
   "cell_type": "code",
   "execution_count": null,
   "metadata": {},
   "outputs": [],
   "source": []
  },
  {
   "cell_type": "code",
   "execution_count": null,
   "metadata": {},
   "outputs": [],
   "source": []
  }
 ],
 "metadata": {
  "kernelspec": {
   "display_name": "Python 3",
   "language": "python",
   "name": "python3"
  },
  "language_info": {
   "codemirror_mode": {
    "name": "ipython",
    "version": 3
   },
   "file_extension": ".py",
   "mimetype": "text/x-python",
   "name": "python",
   "nbconvert_exporter": "python",
   "pygments_lexer": "ipython3",
   "version": "3.9.1"
  }
 },
 "nbformat": 4,
 "nbformat_minor": 4
}
