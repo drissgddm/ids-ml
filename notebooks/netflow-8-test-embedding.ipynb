{
  "nbformat": 4,
  "nbformat_minor": 0,
  "metadata": {
    "colab": {
      "name": "Graph_generation.ipynb",
      "provenance": []
    },
    "kernelspec": {
      "name": "python3",
      "display_name": "Python 3"
    }
  },
  "cells": [
    {
      "cell_type": "code",
      "metadata": {
        "colab": {
          "base_uri": "https://localhost:8080/"
        },
        "id": "qgaN7WC45EG8",
        "outputId": "c55de94a-dc91-41b3-a7ec-507a6bfbb478"
      },
      "source": [
        "from google.colab import drive\r\n",
        "drive.mount('drive')"
      ],
      "execution_count": null,
      "outputs": [
        {
          "output_type": "stream",
          "text": [
            "Mounted at drive\n"
          ],
          "name": "stdout"
        }
      ]
    },
    {
      "cell_type": "code",
      "metadata": {
        "colab": {
          "base_uri": "https://localhost:8080/"
        },
        "id": "6s1el0yz5R8g",
        "outputId": "c8fbd6c8-da35-4c50-c39f-c4f25868155a"
      },
      "source": [
        "!pip install pandas"
      ],
      "execution_count": 1,
      "outputs": [
        {
          "output_type": "stream",
          "text": [
            "Requirement already satisfied: pandas in /usr/local/lib/python3.7/dist-packages (1.1.5)\n",
            "Requirement already satisfied: numpy>=1.15.4 in /usr/local/lib/python3.7/dist-packages (from pandas) (1.19.5)\n",
            "Requirement already satisfied: pytz>=2017.2 in /usr/local/lib/python3.7/dist-packages (from pandas) (2018.9)\n",
            "Requirement already satisfied: python-dateutil>=2.7.3 in /usr/local/lib/python3.7/dist-packages (from pandas) (2.8.1)\n",
            "Requirement already satisfied: six>=1.5 in /usr/local/lib/python3.7/dist-packages (from python-dateutil>=2.7.3->pandas) (1.15.0)\n"
          ],
          "name": "stdout"
        }
      ]
    },
    {
      "cell_type": "code",
      "metadata": {
        "colab": {
          "base_uri": "https://localhost:8080/"
        },
        "id": "FYmGfUYSp_DD",
        "outputId": "eb70b30b-3930-4aed-f413-d2936dbb9f81"
      },
      "source": [
        "pip install git+https://github.com/palash1992/GEM.git"
      ],
      "execution_count": 2,
      "outputs": [
        {
          "output_type": "stream",
          "text": [
            "Collecting git+https://github.com/palash1992/GEM.git\n",
            "  Cloning https://github.com/palash1992/GEM.git to /tmp/pip-req-build-4ghvm14m\n",
            "  Running command git clone -q https://github.com/palash1992/GEM.git /tmp/pip-req-build-4ghvm14m\n",
            "Requirement already satisfied (use --upgrade to upgrade): gem==1.0.0 from git+https://github.com/palash1992/GEM.git in /usr/local/lib/python3.7/dist-packages\n",
            "Requirement already satisfied: numpy>=1.12.0 in /usr/local/lib/python3.7/dist-packages (from gem==1.0.0) (1.19.5)\n",
            "Requirement already satisfied: scipy>=0.19.0 in /usr/local/lib/python3.7/dist-packages (from gem==1.0.0) (1.4.1)\n",
            "Requirement already satisfied: networkx==2.4 in /usr/local/lib/python3.7/dist-packages (from gem==1.0.0) (2.4)\n",
            "Requirement already satisfied: matplotlib>=2.0.0 in /usr/local/lib/python3.7/dist-packages (from gem==1.0.0) (3.2.2)\n",
            "Requirement already satisfied: scikit-learn>=0.21.2 in /usr/local/lib/python3.7/dist-packages (from gem==1.0.0) (0.22.2.post1)\n",
            "Requirement already satisfied: theano>=0.9.0 in /usr/local/lib/python3.7/dist-packages (from gem==1.0.0) (1.0.5)\n",
            "Requirement already satisfied: keras==2.0.2 in /usr/local/lib/python3.7/dist-packages (from gem==1.0.0) (2.0.2)\n",
            "Requirement already satisfied: decorator>=4.3.0 in /usr/local/lib/python3.7/dist-packages (from networkx==2.4->gem==1.0.0) (4.4.2)\n",
            "Requirement already satisfied: kiwisolver>=1.0.1 in /usr/local/lib/python3.7/dist-packages (from matplotlib>=2.0.0->gem==1.0.0) (1.3.1)\n",
            "Requirement already satisfied: pyparsing!=2.0.4,!=2.1.2,!=2.1.6,>=2.0.1 in /usr/local/lib/python3.7/dist-packages (from matplotlib>=2.0.0->gem==1.0.0) (2.4.7)\n",
            "Requirement already satisfied: python-dateutil>=2.1 in /usr/local/lib/python3.7/dist-packages (from matplotlib>=2.0.0->gem==1.0.0) (2.8.1)\n",
            "Requirement already satisfied: cycler>=0.10 in /usr/local/lib/python3.7/dist-packages (from matplotlib>=2.0.0->gem==1.0.0) (0.10.0)\n",
            "Requirement already satisfied: joblib>=0.11 in /usr/local/lib/python3.7/dist-packages (from scikit-learn>=0.21.2->gem==1.0.0) (1.0.1)\n",
            "Requirement already satisfied: six>=1.9.0 in /usr/local/lib/python3.7/dist-packages (from theano>=0.9.0->gem==1.0.0) (1.15.0)\n",
            "Requirement already satisfied: pyyaml in /usr/local/lib/python3.7/dist-packages (from keras==2.0.2->gem==1.0.0) (3.13)\n",
            "Building wheels for collected packages: gem\n",
            "  Building wheel for gem (setup.py) ... \u001b[?25l\u001b[?25hdone\n",
            "  Created wheel for gem: filename=gem-1.0.0-cp37-none-any.whl size=32415 sha256=b1dc7e3bd6c03c88fb921941fc5370b4ce6c1e9530ccb59faaa588c40ab3c88f\n",
            "  Stored in directory: /tmp/pip-ephem-wheel-cache-84bshacq/wheels/dc/52/15/2b124897c6fb5487de2f116477fba30648416532d6fad07716\n",
            "Successfully built gem\n"
          ],
          "name": "stdout"
        }
      ]
    },
    {
      "cell_type": "code",
      "metadata": {
        "id": "cFz4GJH0qniP",
        "colab": {
          "base_uri": "https://localhost:8080/"
        },
        "outputId": "77a95986-bcd9-4ba0-e4f0-5f2aae8a5e39"
      },
      "source": [
        "import pandas as pd\r\n",
        "df= pd.read_csv(\"/content/drive/MyDrive/DATA_NETFLOW/preprocessed.csv\")\r\n",
        "df_reduce = df[['SRC_IP_ADDR','DST_IP_ADDR','PACKETS']]\r\n",
        "df_shuffled = df_reduce.sample(frac=1).reset_index(drop=True)\r\n",
        "df_reduce = df_shuffled.iloc[:10000]\r\n",
        "df_reduce.to_csv(\"edges.txt\",header = False, sep = ' ', index=False)"
      ],
      "execution_count": 3,
      "outputs": [
        {
          "output_type": "stream",
          "text": [
            "Index(['DATE', 'DURATION', 'PROTOCOL', 'SRC_IP_ADDR', 'SRC_PORT',\n",
            "       'DST_IP_ADDR', 'DST_PORT', 'PACKETS', 'BYTES', 'TOS', 'ATTACK_TYPE',\n",
            "       'TYPE', 'FLAG_A', 'FLAG_P', 'FLAG_R', 'FLAG_S', 'FLAG_F', 'FLAG_0xdb',\n",
            "       'FLAG_0xc2', 'FLAG_0xd7', 'FLAG_0xd6', 'FLAG_0xdf', 'FLAG_0xda',\n",
            "       'FLAG_0x52', 'FLAG_0xd3', 'FLAG_0x5b', 'FLAG_0x5a', 'FLAG_0xd2',\n",
            "       'FLAG_0xde', 'FLAG_0x53', 'FLAG_0xc6'],\n",
            "      dtype='object')\n"
          ],
          "name": "stdout"
        }
      ]
    },
    {
      "cell_type": "code",
      "metadata": {
        "colab": {
          "base_uri": "https://localhost:8080/"
        },
        "id": "0aNOwyRYGM95",
        "outputId": "09d60b69-5993-4aa3-d545-90d4324d73fd"
      },
      "source": [
        "import os\r\n",
        "path = os.getcwd()\r\n",
        "path = path +'/gem'\r\n",
        "try:\r\n",
        "    os.mkdir(path)\r\n",
        "    os.mkdir(path+'/c_exe')\r\n",
        "except OSError:\r\n",
        "    print (\"Creation of the directory %s failed\" % path)\r\n",
        "else:\r\n",
        "    print (\"Successfully created the directory %s \" % path)\r\n",
        "#-------------------------------------------------------------------------------\r\n",
        "path = path +'/intermediate'\r\n",
        "try:\r\n",
        "    os.mkdir(path)\r\n",
        "except OSError:\r\n",
        "    print (\"Creation of the directory %s failed\" % path)\r\n",
        "else:\r\n",
        "    print (\"Successfully created the directory %s \" % path)"
      ],
      "execution_count": 1,
      "outputs": [
        {
          "output_type": "stream",
          "text": [
            "Successfully created the directory /content/gem \n",
            "Successfully created the directory /content/gem/intermediate \n"
          ],
          "name": "stdout"
        }
      ]
    },
    {
      "cell_type": "code",
      "metadata": {
        "id": "zgMFNPeG63jt"
      },
      "source": [
        "import matplotlib.pyplot as plt\r\n",
        "\r\n",
        "from gem.utils import graph_util, plot_util\r\n",
        "from gem.evaluation import visualize_embedding as viz\r\n",
        "from gem.evaluation import evaluate_graph_reconstruction as gr\r\n",
        "from time import time\r\n",
        "\r\n",
        "from gem.embedding.gf import GraphFactorization\r\n",
        "from gem.embedding.hope import HOPE\r\n",
        "from gem.embedding.lap import LaplacianEigenmaps\r\n",
        "from gem.embedding.lle import LocallyLinearEmbedding\r\n",
        "from gem.embedding.node2vec import node2vec\r\n",
        "from gem.embedding.sdne import SDNE\r\n",
        "\r\n",
        "edge_f = '/content/edges.txt'\r\n",
        "isDirected = True\r\n",
        "\r\n",
        "# Load graph\r\n",
        "G = graph_util.loadGraphFromEdgeListTxt(edge_f, directed=isDirected)\r\n",
        "G = G.to_directed()\r\n",
        "\r\n",
        "models = []\r\n",
        "models.append(GraphFactorization(d=2, max_iter=100000, eta=1*10**-4, regu=1.0,\r\n",
        "                                 data_set='karate'))\r\n",
        "\r\n",
        "for embedding in models:\r\n",
        "    print ('Num nodes: %d, num edges: %d' % (G.number_of_nodes(), G.number_of_edges()))\r\n",
        "    t1 = time()\r\n",
        "\r\n",
        "    # Learn embedding - accepts a networkx graph or file with edge list\r\n",
        "    Y, t = embedding.learn_embedding(graph=G, edge_f=None, is_weighted=False, no_python=True)\r\n",
        "    print (embedding._method_name+':\\n\\tTraining time: %f' % (time() - t1))\r\n",
        "\r\n",
        "    # Evaluate on graph reconstruction\r\n",
        "    MAP, prec_curv, err, err_baseline = gr.evaluateStaticGraphReconstruction(G, embedding, Y, None)\r\n",
        "    #---------------------------------------------------------------------------------\r\n",
        "    print((\"\\tMAP: {} \\t precision curve: {}\\n\\n\\n\\n\"+'-'*100).format(MAP,prec_curv[:5]))\r\n",
        "    #---------------------------------------------------------------------------------\r\n",
        "    # Visualize\r\n",
        "    viz.plot_embedding2D(embedding.get_embedding(), di_graph=G, node_colors=None)\r\n",
        "    plt.show()"
      ],
      "execution_count": null,
      "outputs": []
    }
  ]
}