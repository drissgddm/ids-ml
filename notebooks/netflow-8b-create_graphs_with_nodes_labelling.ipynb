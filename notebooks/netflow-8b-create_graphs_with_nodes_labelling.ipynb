{
 "cells": [
  {
   "cell_type": "code",
   "execution_count": 1,
   "metadata": {},
   "outputs": [],
   "source": [
    "import pandas as pd\n",
    "import numpy as np"
   ]
  },
  {
   "cell_type": "code",
   "execution_count": 2,
   "metadata": {},
   "outputs": [
    {
     "data": {
      "text/html": [
       "<div>\n",
       "<style scoped>\n",
       "    .dataframe tbody tr th:only-of-type {\n",
       "        vertical-align: middle;\n",
       "    }\n",
       "\n",
       "    .dataframe tbody tr th {\n",
       "        vertical-align: top;\n",
       "    }\n",
       "\n",
       "    .dataframe thead th {\n",
       "        text-align: right;\n",
       "    }\n",
       "</style>\n",
       "<table border=\"1\" class=\"dataframe\">\n",
       "  <thead>\n",
       "    <tr style=\"text-align: right;\">\n",
       "      <th></th>\n",
       "      <th>DURATION</th>\n",
       "      <th>PROTOCOL</th>\n",
       "      <th>SRC_IP_ADDR</th>\n",
       "      <th>SRC_PORT</th>\n",
       "      <th>DST_IP_ADDR</th>\n",
       "      <th>DST_PORT</th>\n",
       "      <th>PACKETS</th>\n",
       "      <th>BYTES</th>\n",
       "      <th>FLAGS</th>\n",
       "      <th>TOS</th>\n",
       "      <th>CLASS</th>\n",
       "      <th>ATTACK_TYPE</th>\n",
       "      <th>ATTACK_ID</th>\n",
       "      <th>ATTACK_DESCRIPTION</th>\n",
       "      <th>TYPE</th>\n",
       "    </tr>\n",
       "    <tr>\n",
       "      <th>DATE</th>\n",
       "      <th></th>\n",
       "      <th></th>\n",
       "      <th></th>\n",
       "      <th></th>\n",
       "      <th></th>\n",
       "      <th></th>\n",
       "      <th></th>\n",
       "      <th></th>\n",
       "      <th></th>\n",
       "      <th></th>\n",
       "      <th></th>\n",
       "      <th></th>\n",
       "      <th></th>\n",
       "      <th></th>\n",
       "      <th></th>\n",
       "    </tr>\n",
       "  </thead>\n",
       "  <tbody>\n",
       "    <tr>\n",
       "      <th>2017-03-14 17:43:26.135</th>\n",
       "      <td>81504.787</td>\n",
       "      <td>TCP</td>\n",
       "      <td>EXT_SERVER</td>\n",
       "      <td>8082</td>\n",
       "      <td>OPENSTACK_NET</td>\n",
       "      <td>56979</td>\n",
       "      <td>8639</td>\n",
       "      <td>9318.4</td>\n",
       "      <td>.AP...</td>\n",
       "      <td>0</td>\n",
       "      <td>normal</td>\n",
       "      <td>benign</td>\n",
       "      <td>0.0</td>\n",
       "      <td>benign</td>\n",
       "      <td>external</td>\n",
       "    </tr>\n",
       "    <tr>\n",
       "      <th>2017-03-14 17:43:26.135</th>\n",
       "      <td>81504.787</td>\n",
       "      <td>TCP</td>\n",
       "      <td>OPENSTACK_NET</td>\n",
       "      <td>56979</td>\n",
       "      <td>EXT_SERVER</td>\n",
       "      <td>8082</td>\n",
       "      <td>12024</td>\n",
       "      <td>10547.2</td>\n",
       "      <td>.AP...</td>\n",
       "      <td>0</td>\n",
       "      <td>normal</td>\n",
       "      <td>benign</td>\n",
       "      <td>0.0</td>\n",
       "      <td>benign</td>\n",
       "      <td>external</td>\n",
       "    </tr>\n",
       "    <tr>\n",
       "      <th>2017-03-14 17:43:26.135</th>\n",
       "      <td>81504.787</td>\n",
       "      <td>TCP</td>\n",
       "      <td>OPENSTACK_NET</td>\n",
       "      <td>56979</td>\n",
       "      <td>EXT_SERVER</td>\n",
       "      <td>8082</td>\n",
       "      <td>12024</td>\n",
       "      <td>10547.2</td>\n",
       "      <td>.AP...</td>\n",
       "      <td>0</td>\n",
       "      <td>normal</td>\n",
       "      <td>benign</td>\n",
       "      <td>0.0</td>\n",
       "      <td>benign</td>\n",
       "      <td>internal</td>\n",
       "    </tr>\n",
       "    <tr>\n",
       "      <th>2017-03-14 17:43:26.135</th>\n",
       "      <td>81504.787</td>\n",
       "      <td>TCP</td>\n",
       "      <td>EXT_SERVER</td>\n",
       "      <td>8082</td>\n",
       "      <td>OPENSTACK_NET</td>\n",
       "      <td>56979</td>\n",
       "      <td>8639</td>\n",
       "      <td>9318.4</td>\n",
       "      <td>.AP...</td>\n",
       "      <td>0</td>\n",
       "      <td>normal</td>\n",
       "      <td>benign</td>\n",
       "      <td>0.0</td>\n",
       "      <td>benign</td>\n",
       "      <td>internal</td>\n",
       "    </tr>\n",
       "    <tr>\n",
       "      <th>2017-03-14 17:43:39.011</th>\n",
       "      <td>183418.493</td>\n",
       "      <td>TCP</td>\n",
       "      <td>OPENSTACK_NET</td>\n",
       "      <td>60802</td>\n",
       "      <td>EXT_SERVER</td>\n",
       "      <td>8082</td>\n",
       "      <td>20751</td>\n",
       "      <td>5939.2</td>\n",
       "      <td>.AP...</td>\n",
       "      <td>0</td>\n",
       "      <td>normal</td>\n",
       "      <td>benign</td>\n",
       "      <td>0.0</td>\n",
       "      <td>benign</td>\n",
       "      <td>internal</td>\n",
       "    </tr>\n",
       "  </tbody>\n",
       "</table>\n",
       "</div>"
      ],
      "text/plain": [
       "                           DURATION PROTOCOL    SRC_IP_ADDR  SRC_PORT  \\\n",
       "DATE                                                                    \n",
       "2017-03-14 17:43:26.135   81504.787    TCP       EXT_SERVER      8082   \n",
       "2017-03-14 17:43:26.135   81504.787    TCP    OPENSTACK_NET     56979   \n",
       "2017-03-14 17:43:26.135   81504.787    TCP    OPENSTACK_NET     56979   \n",
       "2017-03-14 17:43:26.135   81504.787    TCP       EXT_SERVER      8082   \n",
       "2017-03-14 17:43:39.011  183418.493    TCP    OPENSTACK_NET     60802   \n",
       "\n",
       "                           DST_IP_ADDR  DST_PORT  PACKETS    BYTES   FLAGS  \\\n",
       "DATE                                                                         \n",
       "2017-03-14 17:43:26.135  OPENSTACK_NET     56979     8639   9318.4  .AP...   \n",
       "2017-03-14 17:43:26.135     EXT_SERVER      8082    12024  10547.2  .AP...   \n",
       "2017-03-14 17:43:26.135     EXT_SERVER      8082    12024  10547.2  .AP...   \n",
       "2017-03-14 17:43:26.135  OPENSTACK_NET     56979     8639   9318.4  .AP...   \n",
       "2017-03-14 17:43:39.011     EXT_SERVER      8082    20751   5939.2  .AP...   \n",
       "\n",
       "                         TOS   CLASS ATTACK_TYPE  ATTACK_ID  \\\n",
       "DATE                                                          \n",
       "2017-03-14 17:43:26.135    0  normal      benign        0.0   \n",
       "2017-03-14 17:43:26.135    0  normal      benign        0.0   \n",
       "2017-03-14 17:43:26.135    0  normal      benign        0.0   \n",
       "2017-03-14 17:43:26.135    0  normal      benign        0.0   \n",
       "2017-03-14 17:43:39.011    0  normal      benign        0.0   \n",
       "\n",
       "                        ATTACK_DESCRIPTION      TYPE  \n",
       "DATE                                                  \n",
       "2017-03-14 17:43:26.135             benign  external  \n",
       "2017-03-14 17:43:26.135             benign  external  \n",
       "2017-03-14 17:43:26.135             benign  internal  \n",
       "2017-03-14 17:43:26.135             benign  internal  \n",
       "2017-03-14 17:43:39.011             benign  internal  "
      ]
     },
     "execution_count": 2,
     "metadata": {},
     "output_type": "execute_result"
    }
   ],
   "source": [
    "df = pd.read_csv('data/netflow/CIDDS-001/traffic/mixed.csv', index_col='DATE')\n",
    "df.head()"
   ]
  },
  {
   "cell_type": "code",
   "execution_count": 3,
   "metadata": {},
   "outputs": [
    {
     "data": {
      "text/html": [
       "<div>\n",
       "<style scoped>\n",
       "    .dataframe tbody tr th:only-of-type {\n",
       "        vertical-align: middle;\n",
       "    }\n",
       "\n",
       "    .dataframe tbody tr th {\n",
       "        vertical-align: top;\n",
       "    }\n",
       "\n",
       "    .dataframe thead th {\n",
       "        text-align: right;\n",
       "    }\n",
       "</style>\n",
       "<table border=\"1\" class=\"dataframe\">\n",
       "  <thead>\n",
       "    <tr style=\"text-align: right;\">\n",
       "      <th></th>\n",
       "      <th>DURATION</th>\n",
       "      <th>PROTOCOL</th>\n",
       "      <th>SRC_IP_ADDR</th>\n",
       "      <th>SRC_PORT</th>\n",
       "      <th>DST_IP_ADDR</th>\n",
       "      <th>DST_PORT</th>\n",
       "      <th>PACKETS</th>\n",
       "      <th>BYTES</th>\n",
       "      <th>TOS</th>\n",
       "      <th>ATTACK_TYPE</th>\n",
       "      <th>TYPE</th>\n",
       "    </tr>\n",
       "    <tr>\n",
       "      <th>DATE</th>\n",
       "      <th></th>\n",
       "      <th></th>\n",
       "      <th></th>\n",
       "      <th></th>\n",
       "      <th></th>\n",
       "      <th></th>\n",
       "      <th></th>\n",
       "      <th></th>\n",
       "      <th></th>\n",
       "      <th></th>\n",
       "      <th></th>\n",
       "    </tr>\n",
       "  </thead>\n",
       "  <tbody>\n",
       "    <tr>\n",
       "      <th>2017-03-14 17:43:26.135</th>\n",
       "      <td>81504.787</td>\n",
       "      <td>TCP</td>\n",
       "      <td>EXT_SERVER</td>\n",
       "      <td>8082</td>\n",
       "      <td>OPENSTACK_NET</td>\n",
       "      <td>56979</td>\n",
       "      <td>8639</td>\n",
       "      <td>9318.4</td>\n",
       "      <td>0</td>\n",
       "      <td>benign</td>\n",
       "      <td>external</td>\n",
       "    </tr>\n",
       "    <tr>\n",
       "      <th>2017-03-14 17:43:26.135</th>\n",
       "      <td>81504.787</td>\n",
       "      <td>TCP</td>\n",
       "      <td>OPENSTACK_NET</td>\n",
       "      <td>56979</td>\n",
       "      <td>EXT_SERVER</td>\n",
       "      <td>8082</td>\n",
       "      <td>12024</td>\n",
       "      <td>10547.2</td>\n",
       "      <td>0</td>\n",
       "      <td>benign</td>\n",
       "      <td>external</td>\n",
       "    </tr>\n",
       "    <tr>\n",
       "      <th>2017-03-14 17:43:26.135</th>\n",
       "      <td>81504.787</td>\n",
       "      <td>TCP</td>\n",
       "      <td>OPENSTACK_NET</td>\n",
       "      <td>56979</td>\n",
       "      <td>EXT_SERVER</td>\n",
       "      <td>8082</td>\n",
       "      <td>12024</td>\n",
       "      <td>10547.2</td>\n",
       "      <td>0</td>\n",
       "      <td>benign</td>\n",
       "      <td>internal</td>\n",
       "    </tr>\n",
       "    <tr>\n",
       "      <th>2017-03-14 17:43:26.135</th>\n",
       "      <td>81504.787</td>\n",
       "      <td>TCP</td>\n",
       "      <td>EXT_SERVER</td>\n",
       "      <td>8082</td>\n",
       "      <td>OPENSTACK_NET</td>\n",
       "      <td>56979</td>\n",
       "      <td>8639</td>\n",
       "      <td>9318.4</td>\n",
       "      <td>0</td>\n",
       "      <td>benign</td>\n",
       "      <td>internal</td>\n",
       "    </tr>\n",
       "    <tr>\n",
       "      <th>2017-03-14 17:43:39.011</th>\n",
       "      <td>183418.493</td>\n",
       "      <td>TCP</td>\n",
       "      <td>OPENSTACK_NET</td>\n",
       "      <td>60802</td>\n",
       "      <td>EXT_SERVER</td>\n",
       "      <td>8082</td>\n",
       "      <td>20751</td>\n",
       "      <td>5939.2</td>\n",
       "      <td>0</td>\n",
       "      <td>benign</td>\n",
       "      <td>internal</td>\n",
       "    </tr>\n",
       "  </tbody>\n",
       "</table>\n",
       "</div>"
      ],
      "text/plain": [
       "                           DURATION PROTOCOL    SRC_IP_ADDR  SRC_PORT  \\\n",
       "DATE                                                                    \n",
       "2017-03-14 17:43:26.135   81504.787    TCP       EXT_SERVER      8082   \n",
       "2017-03-14 17:43:26.135   81504.787    TCP    OPENSTACK_NET     56979   \n",
       "2017-03-14 17:43:26.135   81504.787    TCP    OPENSTACK_NET     56979   \n",
       "2017-03-14 17:43:26.135   81504.787    TCP       EXT_SERVER      8082   \n",
       "2017-03-14 17:43:39.011  183418.493    TCP    OPENSTACK_NET     60802   \n",
       "\n",
       "                           DST_IP_ADDR  DST_PORT  PACKETS    BYTES  TOS  \\\n",
       "DATE                                                                      \n",
       "2017-03-14 17:43:26.135  OPENSTACK_NET     56979     8639   9318.4    0   \n",
       "2017-03-14 17:43:26.135     EXT_SERVER      8082    12024  10547.2    0   \n",
       "2017-03-14 17:43:26.135     EXT_SERVER      8082    12024  10547.2    0   \n",
       "2017-03-14 17:43:26.135  OPENSTACK_NET     56979     8639   9318.4    0   \n",
       "2017-03-14 17:43:39.011     EXT_SERVER      8082    20751   5939.2    0   \n",
       "\n",
       "                        ATTACK_TYPE      TYPE  \n",
       "DATE                                           \n",
       "2017-03-14 17:43:26.135      benign  external  \n",
       "2017-03-14 17:43:26.135      benign  external  \n",
       "2017-03-14 17:43:26.135      benign  internal  \n",
       "2017-03-14 17:43:26.135      benign  internal  \n",
       "2017-03-14 17:43:39.011      benign  internal  "
      ]
     },
     "execution_count": 3,
     "metadata": {},
     "output_type": "execute_result"
    }
   ],
   "source": [
    "df.drop(['FLAGS', 'CLASS', 'ATTACK_ID', 'ATTACK_DESCRIPTION'], axis=1, inplace=True)\n",
    "# df = df.sample(frac=1).iloc[:1000]\n",
    "df.head()"
   ]
  },
  {
   "cell_type": "code",
   "execution_count": 4,
   "metadata": {},
   "outputs": [
    {
     "data": {
      "text/plain": [
       "benign        84.229777\n",
       "dos           14.647460\n",
       "portScan       1.028429\n",
       "bruteForce     0.070899\n",
       "pingScan       0.023436\n",
       "Name: ATTACK_TYPE, dtype: float64"
      ]
     },
     "execution_count": 4,
     "metadata": {},
     "output_type": "execute_result"
    }
   ],
   "source": [
    "df['ATTACK_TYPE'].value_counts(normalize=True) * 100"
   ]
  },
  {
   "cell_type": "code",
   "execution_count": 6,
   "metadata": {},
   "outputs": [],
   "source": [
    "attacks_df = df.loc[df['ATTACK_TYPE'].isin(['dos', 'portScan', 'bruteForce', 'pingScan'])]"
   ]
  },
  {
   "cell_type": "code",
   "execution_count": 16,
   "metadata": {},
   "outputs": [
    {
     "data": {
      "text/plain": [
       "25"
      ]
     },
     "execution_count": 16,
     "metadata": {},
     "output_type": "execute_result"
    }
   ],
   "source": [
    "len(attacks_df['SRC_IP_ADDR'].unique())"
   ]
  },
  {
   "cell_type": "code",
   "execution_count": 15,
   "metadata": {},
   "outputs": [
    {
     "data": {
      "text/plain": [
       "array(['192.168.220.15', '192.168.210.3', '192.168.220.1',\n",
       "       '192.168.210.4', '192.168.210.5', '192.168.210.1', '192.168.210.2',\n",
       "       '192.168.100.6', 'ATTACKER1', 'EXT_SERVER', '192.168.220.2',\n",
       "       '192.168.100.3', '192.168.100.2', '192.168.100.1', '192.168.100.5',\n",
       "       '192.168.100.4', '192.168.200.3', '192.168.200.4', '192.168.200.8',\n",
       "       '192.168.200.9', '192.168.200.1', '192.168.200.5', '192.168.200.2',\n",
       "       'ATTACKER2', 'ATTACKER3'], dtype=object)"
      ]
     },
     "execution_count": 15,
     "metadata": {},
     "output_type": "execute_result"
    }
   ],
   "source": [
    "attacks_df['SRC_IP_ADDR'].unique()"
   ]
  },
  {
   "cell_type": "code",
   "execution_count": 14,
   "metadata": {},
   "outputs": [
    {
     "data": {
      "text/plain": [
       "43442"
      ]
     },
     "execution_count": 14,
     "metadata": {},
     "output_type": "execute_result"
    }
   ],
   "source": [
    "len(df['SRC_IP_ADDR'].unique())"
   ]
  },
  {
   "cell_type": "code",
   "execution_count": 9,
   "metadata": {},
   "outputs": [
    {
     "data": {
      "text/plain": [
       "True    100.0\n",
       "Name: SRC_IP_ADDR, dtype: float64"
      ]
     },
     "execution_count": 9,
     "metadata": {},
     "output_type": "execute_result"
    }
   ],
   "source": [
    "attacks_df['SRC_IP_ADDR'].isin(df['DST_IP_ADDR']).value_counts(normalize=True) * 100"
   ]
  },
  {
   "cell_type": "code",
   "execution_count": 10,
   "metadata": {},
   "outputs": [
    {
     "data": {
      "text/plain": [
       "True    100.0\n",
       "Name: SRC_IP_ADDR, dtype: float64"
      ]
     },
     "execution_count": 10,
     "metadata": {},
     "output_type": "execute_result"
    }
   ],
   "source": [
    "attacks_df['SRC_IP_ADDR'].isin(df['SRC_IP_ADDR']).value_counts(normalize=True) * 100"
   ]
  },
  {
   "cell_type": "markdown",
   "metadata": {},
   "source": [
    "Not conclusive."
   ]
  },
  {
   "cell_type": "code",
   "execution_count": null,
   "metadata": {},
   "outputs": [],
   "source": []
  }
 ],
 "metadata": {
  "kernelspec": {
   "display_name": "Python 3",
   "language": "python",
   "name": "python3"
  },
  "language_info": {
   "codemirror_mode": {
    "name": "ipython",
    "version": 3
   },
   "file_extension": ".py",
   "mimetype": "text/x-python",
   "name": "python",
   "nbconvert_exporter": "python",
   "pygments_lexer": "ipython3",
   "version": "3.7.10"
  }
 },
 "nbformat": 4,
 "nbformat_minor": 4
}
